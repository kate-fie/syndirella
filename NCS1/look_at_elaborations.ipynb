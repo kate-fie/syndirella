{
 "cells": [
  {
   "cell_type": "code",
   "execution_count": 1,
   "id": "initial_id",
   "metadata": {
    "collapsed": true,
    "ExecuteTime": {
     "end_time": "2023-10-18T10:36:08.607638Z",
     "start_time": "2023-10-18T10:36:07.420006Z"
    }
   },
   "outputs": [
    {
     "name": "stdout",
     "output_type": "stream",
     "text": [
      "409 molecules combined and saved to /Users/kate_fieseler/PycharmProjects/retrievesynthesizable/NCS1/sept4_elab/CSSB03437012178-x0119-0B-x0128-0B/Amidation_CN(C)C(CNC(=O)c1cccc(C#N)c1)c1cc2ccccc2o1/frag_placed/output/combined.sdf\n"
     ]
    }
   ],
   "source": [
    "# Jupyter Notebook Script\n",
    "\n",
    "# Import necessary libraries\n",
    "import os\n",
    "from rdkit import Chem\n",
    "from rdkit.Chem import AllChem\n",
    "\n",
    "# Specify the directory path\n",
    "directory_path = \"/Users/kate_fieseler/PycharmProjects/retrievesynthesizable/NCS1/sept4_elab/CSSB03437012178-x0119-0B-x0128-0B/Amidation_CN(C)C(CNC(=O)c1cccc(C#N)c1)c1cc2ccccc2o1/frag_placed/output\"\n",
    "\n",
    "# List to store molecules\n",
    "molecules = []\n",
    "\n",
    "# Walk through the directory and subdirectories\n",
    "for root, dirs, files in os.walk(directory_path):\n",
    "    for file in files:\n",
    "        # Check if the file has the \".minimised.mol\" extension\n",
    "        if file.endswith(\".minimised.mol\"):\n",
    "            file_path = os.path.join(root, file)\n",
    "            \n",
    "            # Read the molecule from the file\n",
    "            mol = Chem.MolFromMolFile(file_path)\n",
    "            \n",
    "            # Append to the list of molecules\n",
    "            if mol:  # Checking if mol is not None\n",
    "                molecules.append(mol)\n",
    "\n",
    "# Write molecules to a single SDF file\n",
    "output_file_path = os.path.join(directory_path, \"combined.sdf\")\n",
    "writer = Chem.SDWriter(output_file_path)\n",
    "for mol in molecules:\n",
    "    writer.write(mol)\n",
    "\n",
    "writer.close()\n",
    "print(f\"{len(molecules)} molecules combined and saved to {output_file_path}\")"
   ]
  },
  {
   "cell_type": "code",
   "execution_count": null,
   "outputs": [],
   "source": [],
   "metadata": {
    "collapsed": false
   },
   "id": "d43fe4e83d59f18e"
  }
 ],
 "metadata": {
  "kernelspec": {
   "display_name": "Python 3",
   "language": "python",
   "name": "python3"
  },
  "language_info": {
   "codemirror_mode": {
    "name": "ipython",
    "version": 2
   },
   "file_extension": ".py",
   "mimetype": "text/x-python",
   "name": "python",
   "nbconvert_exporter": "python",
   "pygments_lexer": "ipython2",
   "version": "2.7.6"
  }
 },
 "nbformat": 4,
 "nbformat_minor": 5
}
