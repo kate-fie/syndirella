{
 "cells": [
  {
   "cell_type": "code",
   "execution_count": 63,
   "id": "initial_id",
   "metadata": {
    "collapsed": true,
    "ExecuteTime": {
     "end_time": "2023-10-23T14:29:57.622752Z",
     "start_time": "2023-10-23T14:29:57.604917Z"
    }
   },
   "outputs": [],
   "source": [
    "from reactionSmarts import REACTANT1_DICT, REACTANT2_DICT, reaction_smarts\n",
    "from chemUtils.substructure import find_attachmentIdxs_fromMolAndSubstruct\n",
    "from rdkit import Chem\n",
    "from rdkit.Chem import AllChem\n",
    "from rdkit.DataStructs import FingerprintSimilarity\n",
    "import pandas as pd\n",
    "import datetime\n",
    "import os"
   ]
  },
  {
   "cell_type": "code",
   "execution_count": 7,
   "outputs": [],
   "source": [
    "reactants = [('Nc1cccc2[nH]ccc12', 'CC(C)(C)OC(=O)NC1(CCC(=O)O)CCCC1'), ('CC(C)(C)OC(=O)NC1(CCC(=O)Nc2cccc3[nH]ccc23)CCCC1',)]\n",
    "rxn_smarts = '[#6:1](=[#8:2])-[#8;H1].[#7&X3;!$(NC=*);!$(NS):3]>>[#6:1](=[#8:2])-[#7X3:3]'\n",
    "reaction = AllChem.ReactionFromSmarts(rxn_smarts)\n"
   ],
   "metadata": {
    "collapsed": false,
    "ExecuteTime": {
     "end_time": "2023-10-23T07:29:27.602644Z",
     "start_time": "2023-10-23T07:29:27.595350Z"
    }
   },
   "id": "e17bf96abc4b1b33"
  },
  {
   "cell_type": "code",
   "execution_count": 8,
   "outputs": [
    {
     "data": {
      "text/plain": "<rdkit.Chem.rdChemReactions.ChemicalReaction at 0x16bdcacf0>",
      "image/png": "[encoded data removed]"
     },
     "execution_count": 8,
     "metadata": {},
     "output_type": "execute_result"
    }
   ],
   "source": [
    "reaction"
   ],
   "metadata": {
    "collapsed": false,
    "ExecuteTime": {
     "end_time": "2023-10-23T07:29:27.910896Z",
     "start_time": "2023-10-23T07:29:27.904142Z"
    }
   },
   "id": "90beb68e869addb9"
  },
  {
   "cell_type": "code",
   "execution_count": 14,
   "outputs": [
    {
     "data": {
      "text/plain": "<rdkit.Chem.rdchem.Mol at 0x16cf1a900>",
      "image/png": "[encoded data removed]"
     },
     "execution_count": 14,
     "metadata": {},
     "output_type": "execute_result"
    }
   ],
   "source": [
    "reactant1 = Chem.MolFromSmiles(reactants[0][0])\n",
    "reactant2 = Chem.MolFromSmiles(reactants[0][1])\n",
    "reactant1"
   ],
   "metadata": {
    "collapsed": false,
    "ExecuteTime": {
     "end_time": "2023-10-23T07:30:41.186160Z",
     "start_time": "2023-10-23T07:30:41.183973Z"
    }
   },
   "id": "e113eeb4ae1abb00"
  },
  {
   "cell_type": "code",
   "execution_count": 15,
   "outputs": [
    {
     "data": {
      "text/plain": "<rdkit.Chem.rdchem.Mol at 0x16cf1a200>",
      "image/png": "[encoded data removed]"
     },
     "execution_count": 15,
     "metadata": {},
     "output_type": "execute_result"
    }
   ],
   "source": [
    "reactant2 "
   ],
   "metadata": {
    "collapsed": false,
    "ExecuteTime": {
     "end_time": "2023-10-23T07:30:41.561076Z",
     "start_time": "2023-10-23T07:30:41.558441Z"
    }
   },
   "id": "c10e245c9e1560e8"
  },
  {
   "cell_type": "code",
   "execution_count": 22,
   "outputs": [],
   "source": [
    "prods = reaction.RunReactants((reactant2, reactant1))"
   ],
   "metadata": {
    "collapsed": false,
    "ExecuteTime": {
     "end_time": "2023-10-23T07:32:15.806782Z",
     "start_time": "2023-10-23T07:32:15.801305Z"
    }
   },
   "id": "964f56ef149126fd"
  },
  {
   "cell_type": "code",
   "execution_count": 23,
   "outputs": [
    {
     "data": {
      "text/plain": "()"
     },
     "execution_count": 23,
     "metadata": {},
     "output_type": "execute_result"
    }
   ],
   "source": [
    "reaction.RunReactants((reactant1, reactant2))"
   ],
   "metadata": {
    "collapsed": false,
    "ExecuteTime": {
     "end_time": "2023-10-23T07:32:16.221545Z",
     "start_time": "2023-10-23T07:32:16.217186Z"
    }
   },
   "id": "6cba1235e7461134"
  },
  {
   "cell_type": "code",
   "execution_count": 38,
   "outputs": [
    {
     "data": {
      "text/plain": "rdkit.Chem.rdmolops.SanitizeFlags.SANITIZE_NONE"
     },
     "execution_count": 38,
     "metadata": {},
     "output_type": "execute_result"
    }
   ],
   "source": [
    "prod = reactants[1][0]\n",
    "prod = Chem.MolFromSmiles(prod)\n",
    "Chem.SanitizeMol(prod)\n"
   ],
   "metadata": {
    "collapsed": false,
    "ExecuteTime": {
     "end_time": "2023-10-23T07:39:34.602243Z",
     "start_time": "2023-10-23T07:39:34.593206Z"
    }
   },
   "id": "7ce0e280b27f2852"
  },
  {
   "cell_type": "code",
   "execution_count": 39,
   "outputs": [
    {
     "data": {
      "text/plain": "rdkit.Chem.rdmolops.SanitizeFlags.SANITIZE_NONE"
     },
     "execution_count": 39,
     "metadata": {},
     "output_type": "execute_result"
    }
   ],
   "source": [
    "Chem.SanitizeMol(prods[0][0])"
   ],
   "metadata": {
    "collapsed": false,
    "ExecuteTime": {
     "end_time": "2023-10-23T07:39:37.387881Z",
     "start_time": "2023-10-23T07:39:37.382653Z"
    }
   },
   "id": "8b42a807363dd756"
  },
  {
   "cell_type": "code",
   "execution_count": 40,
   "outputs": [
    {
     "data": {
      "text/plain": "rdkit.Chem.rdmolops.SanitizeFlags.SANITIZE_NONE"
     },
     "execution_count": 40,
     "metadata": {},
     "output_type": "execute_result"
    }
   ],
   "source": [
    "Chem.SanitizeMol(prods[1][0])"
   ],
   "metadata": {
    "collapsed": false,
    "ExecuteTime": {
     "end_time": "2023-10-23T07:39:38.044363Z",
     "start_time": "2023-10-23T07:39:37.914097Z"
    }
   },
   "id": "b6239d1e7150240c"
  },
  {
   "cell_type": "code",
   "execution_count": 44,
   "outputs": [],
   "source": [
    "# Find tanimoto similarity\n",
    "# Calculate fingerprints (using Morgan Fingerprints as an example)\n",
    "real_prod = AllChem.GetMorganFingerprintAsBitVect(prod, radius=2, nBits=1024)\n",
    "pred_prod1 = AllChem.GetMorganFingerprintAsBitVect(prods[0][0], radius=2, nBits=1024)\n",
    "pred_prod2 = AllChem.GetMorganFingerprintAsBitVect(prods[1][0], radius=2, nBits=1024)\n",
    "\n",
    "# Calculate Tanimoto similarity\n",
    "sim1 = FingerprintSimilarity(real_prod, pred_prod1)\n",
    "sim2 = FingerprintSimilarity(real_prod, pred_prod2)"
   ],
   "metadata": {
    "collapsed": false,
    "ExecuteTime": {
     "end_time": "2023-10-23T07:39:50.131385Z",
     "start_time": "2023-10-23T07:39:50.125518Z"
    }
   },
   "id": "470481b2c902912b"
  },
  {
   "cell_type": "code",
   "execution_count": 45,
   "outputs": [
    {
     "data": {
      "text/plain": "1.0"
     },
     "execution_count": 45,
     "metadata": {},
     "output_type": "execute_result"
    }
   ],
   "source": [
    "sim1"
   ],
   "metadata": {
    "collapsed": false,
    "ExecuteTime": {
     "end_time": "2023-10-23T07:39:52.854299Z",
     "start_time": "2023-10-23T07:39:52.842329Z"
    }
   },
   "id": "194952edb4180052"
  },
  {
   "cell_type": "code",
   "execution_count": 46,
   "outputs": [
    {
     "data": {
      "text/plain": "0.5072463768115942"
     },
     "execution_count": 46,
     "metadata": {},
     "output_type": "execute_result"
    }
   ],
   "source": [
    "sim2"
   ],
   "metadata": {
    "collapsed": false,
    "ExecuteTime": {
     "end_time": "2023-10-23T07:39:54.575356Z",
     "start_time": "2023-10-23T07:39:54.559960Z"
    }
   },
   "id": "4775ad409fbab55c"
  },
  {
   "cell_type": "code",
   "execution_count": 48,
   "outputs": [
    {
     "data": {
      "text/plain": "<rdkit.Chem.rdchem.Mol at 0x16cee8200>",
      "image/png": "[encoded data removed]"
     },
     "execution_count": 48,
     "metadata": {},
     "output_type": "execute_result"
    }
   ],
   "source": [
    "prods[0][0]"
   ],
   "metadata": {
    "collapsed": false,
    "ExecuteTime": {
     "end_time": "2023-10-23T07:40:11.803105Z",
     "start_time": "2023-10-23T07:40:11.798116Z"
    }
   },
   "id": "e97ae04970971fe5"
  },
  {
   "cell_type": "code",
   "execution_count": 49,
   "outputs": [
    {
     "data": {
      "text/plain": "<rdkit.Chem.rdchem.Mol at 0x16cf87a50>",
      "image/png": "[encoded data removed]"
     },
     "execution_count": 49,
     "metadata": {},
     "output_type": "execute_result"
    }
   ],
   "source": [
    "prod"
   ],
   "metadata": {
    "collapsed": false,
    "ExecuteTime": {
     "end_time": "2023-10-23T07:40:17.253838Z",
     "start_time": "2023-10-23T07:40:17.238266Z"
    }
   },
   "id": "4a392ef6d28dd6ef"
  },
  {
   "cell_type": "code",
   "execution_count": 50,
   "outputs": [],
   "source": [
    "pred_prods = {}\n",
    "pred_prods['r1_r2'] = [Chem.SanitizeMol(x[0]) for x in reaction.RunReactants((reactant1, reactant2)) if x is not None]\n",
    "pred_prods['r2_r1'] = [Chem.SanitizeMol(x[0]) for x in reaction.RunReactants((reactant2, reactant1)) if x is not None]"
   ],
   "metadata": {
    "collapsed": false,
    "ExecuteTime": {
     "end_time": "2023-10-23T07:43:09.664628Z",
     "start_time": "2023-10-23T07:43:09.646084Z"
    }
   },
   "id": "b698070747b089da"
  },
  {
   "cell_type": "code",
   "execution_count": 51,
   "outputs": [
    {
     "data": {
      "text/plain": "[]"
     },
     "execution_count": 51,
     "metadata": {},
     "output_type": "execute_result"
    }
   ],
   "source": [
    "pred_prods['r1_r2']"
   ],
   "metadata": {
    "collapsed": false,
    "ExecuteTime": {
     "end_time": "2023-10-23T07:43:12.332073Z",
     "start_time": "2023-10-23T07:43:12.315960Z"
    }
   },
   "id": "55f0100f1d8838f8"
  },
  {
   "cell_type": "code",
   "execution_count": 52,
   "outputs": [
    {
     "data": {
      "text/plain": "[rdkit.Chem.rdmolops.SanitizeFlags.SANITIZE_NONE,\n rdkit.Chem.rdmolops.SanitizeFlags.SANITIZE_NONE]"
     },
     "execution_count": 52,
     "metadata": {},
     "output_type": "execute_result"
    }
   ],
   "source": [
    "pred_prods['r2_r1']"
   ],
   "metadata": {
    "collapsed": false,
    "ExecuteTime": {
     "end_time": "2023-10-23T07:43:14.655177Z",
     "start_time": "2023-10-23T07:43:14.638229Z"
    }
   },
   "id": "38bb6787c18f810f"
  },
  {
   "cell_type": "code",
   "execution_count": 53,
   "outputs": [
    {
     "data": {
      "text/plain": "rdkit.Chem.rdmolops.SanitizeFlags.SANITIZE_NONE"
     },
     "execution_count": 53,
     "metadata": {},
     "output_type": "execute_result"
    }
   ],
   "source": [
    "pred_prods['r2_r1'][0]"
   ],
   "metadata": {
    "collapsed": false,
    "ExecuteTime": {
     "end_time": "2023-10-23T07:43:23.554418Z",
     "start_time": "2023-10-23T07:43:23.534852Z"
    }
   },
   "id": "c85bc9c81180568a"
  },
  {
   "cell_type": "code",
   "execution_count": 67,
   "outputs": [
    {
     "data": {
      "text/plain": "     Unnamed: 0                                             smiles  num_steps  \\\n0             0       Cc1cc2c(cc1NC(=O)NCCB1OC(C)(C)C(C)(C)O1)OCO2          1   \n1             5                      CC(C)(C)OC(=O)c1ccc2c(c1)OCO2          1   \n2             6         O=S(=O)(CCC1CC1)N(Cc1ccccc1)Cc1nnc2ccccn12          1   \n3            11                CCOP(=O)(CC(=O)NCCc1nnc2ccccn12)OCC          1   \n4            17                 CC(Sc1nnc2ccc(C(F)(F)F)cn12)C(=O)O          1   \n..          ...                                                ...        ...   \n307         598  COC(=O)N(CC(=O)N1CCC(CCNC(=O)C2CCC2)CC1)Cc1ccccc1          1   \n308         599               CCC(NC(=O)OC(C)(C)C)C(=O)N1CCC(N)CC1          1   \n309         600      CC(C)C(C)C(=O)Nc1cnn(CCN2C(=O)c3ccccc3C2=O)c1          1   \n310         602  COC(=O)N(CC(=O)N1C2CCC1(CNC(=O)C1CCC1)CC2)Cc1c...          1   \n311         607           CCC(CC)CC(=O)NC1CC(F)(CNC(=O)C(F)(F)F)C1          1   \n\n                                             reactants  \\\n0      [('Cc1cc2c(cc1N)OCO2', 'CC1(C)OB(CCN)OC1(C)C')]   \n1             [('O=C(O)c1ccc2c(c1)OCO2', 'CC(C)(C)O')]   \n2    [('c1ccc(CNCc2nnc3ccccn23)cc1', 'O=S(=O)(Cl)CC...   \n3       [('NCCc1nnc2ccccn12', 'CCOP(=O)(CC(=O)O)OCC')]   \n4       [('FC(F)(F)c1ccc2nnc(S)n2c1', 'CC(Cl)C(=O)O')]   \n..                                                 ...   \n307  [('O=C(NCCC1CCNCC1)C1CCC1', 'COC(=O)N(CC(=O)O)...   \n308     [('NC1CCNCC1', 'CCC(NC(=O)OC(C)(C)C)C(=O)OC')]   \n309  [('Nc1cnn(CCN2C(=O)c3ccccc3C2=O)c1', 'COC(=O)C...   \n310  [('O=C(NCC12CCC(CC1)N2)C1CCC1', 'COC(=O)N(CC(=...   \n311  [('NC1CC(F)(CNC(=O)C(F)(F)F)C1', 'CCC(CC)CC(=O...   \n\n                               rxn_order_first_to_last  \\\n0                ['Formation of urea from two amines']   \n1                          ['Steglich esterification']   \n2    ['Sulfonamide Schotten-Baumann with amine (int...   \n3                                        ['Amidation']   \n4             ['Nucleophilic substitution with thiol']   \n..                                                 ...   \n307                                      ['Amidation']   \n308                                ['Ester amidation']   \n309                                ['Ester amidation']   \n310                                      ['Amidation']   \n311                                      ['Amidation']   \n\n                                              dir_name  \n0            ['ENAMINE:Z1637917899_x1140_0A_x1594_0A']  \n1            ['MOLPORT:004-137-806_x1140_0A_x1594_0A']  \n2            ['ENAMINE:Z1530202140_x1140_0A_x1594_0A']  \n3    ['MOLPORT:002-662-833_x1594_0A_x1140_0A', 'MOL...  \n4    ['MOLPORT:009-461-148_x1594_0A_x1140_0A', 'MOL...  \n..                                                 ...  \n307      ['ENAMINE:PV-001542212566_x1071_0A_x1083_0A']  \n308          ['MOLPORT:029-923-160_x1071_0A_x1083_0A']  \n309          ['ENAMINE:Z3700590637_x1020_0A_x0130_0A']  \n310      ['ENAMINE:PV-003639724768_x1071_0A_x1083_0A']  \n311          ['ENAMINE:Z3699946641_x1020_0A_x0130_0A']  \n\n[312 rows x 6 columns]",
      "text/html": "<div>\n<style scoped>\n    .dataframe tbody tr th:only-of-type {\n        vertical-align: middle;\n    }\n\n    .dataframe tbody tr th {\n        vertical-align: top;\n    }\n\n    .dataframe thead th {\n        text-align: right;\n    }\n</style>\n<table border=\"1\" class=\"dataframe\">\n  <thead>\n    <tr style=\"text-align: right;\">\n      <th></th>\n      <th>Unnamed: 0</th>\n      <th>smiles</th>\n      <th>num_steps</th>\n      <th>reactants</th>\n      <th>rxn_order_first_to_last</th>\n      <th>dir_name</th>\n    </tr>\n  </thead>\n  <tbody>\n    <tr>\n      <th>0</th>\n      <td>0</td>\n      <td>Cc1cc2c(cc1NC(=O)NCCB1OC(C)(C)C(C)(C)O1)OCO2</td>\n      <td>1</td>\n      <td>[('Cc1cc2c(cc1N)OCO2', 'CC1(C)OB(CCN)OC1(C)C')]</td>\n      <td>['Formation of urea from two amines']</td>\n      <td>['ENAMINE:Z1637917899_x1140_0A_x1594_0A']</td>\n    </tr>\n    <tr>\n      <th>1</th>\n      <td>5</td>\n      <td>CC(C)(C)OC(=O)c1ccc2c(c1)OCO2</td>\n      <td>1</td>\n      <td>[('O=C(O)c1ccc2c(c1)OCO2', 'CC(C)(C)O')]</td>\n      <td>['Steglich esterification']</td>\n      <td>['MOLPORT:004-137-806_x1140_0A_x1594_0A']</td>\n    </tr>\n    <tr>\n      <th>2</th>\n      <td>6</td>\n      <td>O=S(=O)(CCC1CC1)N(Cc1ccccc1)Cc1nnc2ccccn12</td>\n      <td>1</td>\n      <td>[('c1ccc(CNCc2nnc3ccccn23)cc1', 'O=S(=O)(Cl)CC...</td>\n      <td>['Sulfonamide Schotten-Baumann with amine (int...</td>\n      <td>['ENAMINE:Z1530202140_x1140_0A_x1594_0A']</td>\n    </tr>\n    <tr>\n      <th>3</th>\n      <td>11</td>\n      <td>CCOP(=O)(CC(=O)NCCc1nnc2ccccn12)OCC</td>\n      <td>1</td>\n      <td>[('NCCc1nnc2ccccn12', 'CCOP(=O)(CC(=O)O)OCC')]</td>\n      <td>['Amidation']</td>\n      <td>['MOLPORT:002-662-833_x1594_0A_x1140_0A', 'MOL...</td>\n    </tr>\n    <tr>\n      <th>4</th>\n      <td>17</td>\n      <td>CC(Sc1nnc2ccc(C(F)(F)F)cn12)C(=O)O</td>\n      <td>1</td>\n      <td>[('FC(F)(F)c1ccc2nnc(S)n2c1', 'CC(Cl)C(=O)O')]</td>\n      <td>['Nucleophilic substitution with thiol']</td>\n      <td>['MOLPORT:009-461-148_x1594_0A_x1140_0A', 'MOL...</td>\n    </tr>\n    <tr>\n      <th>...</th>\n      <td>...</td>\n      <td>...</td>\n      <td>...</td>\n      <td>...</td>\n      <td>...</td>\n      <td>...</td>\n    </tr>\n    <tr>\n      <th>307</th>\n      <td>598</td>\n      <td>COC(=O)N(CC(=O)N1CCC(CCNC(=O)C2CCC2)CC1)Cc1ccccc1</td>\n      <td>1</td>\n      <td>[('O=C(NCCC1CCNCC1)C1CCC1', 'COC(=O)N(CC(=O)O)...</td>\n      <td>['Amidation']</td>\n      <td>['ENAMINE:PV-001542212566_x1071_0A_x1083_0A']</td>\n    </tr>\n    <tr>\n      <th>308</th>\n      <td>599</td>\n      <td>CCC(NC(=O)OC(C)(C)C)C(=O)N1CCC(N)CC1</td>\n      <td>1</td>\n      <td>[('NC1CCNCC1', 'CCC(NC(=O)OC(C)(C)C)C(=O)OC')]</td>\n      <td>['Ester amidation']</td>\n      <td>['MOLPORT:029-923-160_x1071_0A_x1083_0A']</td>\n    </tr>\n    <tr>\n      <th>309</th>\n      <td>600</td>\n      <td>CC(C)C(C)C(=O)Nc1cnn(CCN2C(=O)c3ccccc3C2=O)c1</td>\n      <td>1</td>\n      <td>[('Nc1cnn(CCN2C(=O)c3ccccc3C2=O)c1', 'COC(=O)C...</td>\n      <td>['Ester amidation']</td>\n      <td>['ENAMINE:Z3700590637_x1020_0A_x0130_0A']</td>\n    </tr>\n    <tr>\n      <th>310</th>\n      <td>602</td>\n      <td>COC(=O)N(CC(=O)N1C2CCC1(CNC(=O)C1CCC1)CC2)Cc1c...</td>\n      <td>1</td>\n      <td>[('O=C(NCC12CCC(CC1)N2)C1CCC1', 'COC(=O)N(CC(=...</td>\n      <td>['Amidation']</td>\n      <td>['ENAMINE:PV-003639724768_x1071_0A_x1083_0A']</td>\n    </tr>\n    <tr>\n      <th>311</th>\n      <td>607</td>\n      <td>CCC(CC)CC(=O)NC1CC(F)(CNC(=O)C(F)(F)F)C1</td>\n      <td>1</td>\n      <td>[('NC1CC(F)(CNC(=O)C(F)(F)F)C1', 'CCC(CC)CC(=O...</td>\n      <td>['Amidation']</td>\n      <td>['ENAMINE:Z3699946641_x1020_0A_x0130_0A']</td>\n    </tr>\n  </tbody>\n</table>\n<p>312 rows × 6 columns</p>\n</div>"
     },
     "execution_count": 67,
     "metadata": {},
     "output_type": "execute_result"
    }
   ],
   "source": [
    "# Change index of csv\n",
    "df = pd.read_csv('/Users/kate_fieseler/PycharmProjects/retrievesynthesizable/D68EV3CPROA/routes_data/D68EV3CPROA_enumeration_oct10_first_route_2_step_FORWARD_1st_step.csv')\n",
    "df"
   ],
   "metadata": {
    "collapsed": false,
    "ExecuteTime": {
     "end_time": "2023-10-23T14:31:36.362024Z",
     "start_time": "2023-10-23T14:31:36.245376Z"
    }
   },
   "id": "a1b7ef78780ee676"
  },
  {
   "cell_type": "code",
   "execution_count": 68,
   "outputs": [
    {
     "data": {
      "text/plain": "                                                smiles  num_steps  \\\n0         Cc1cc2c(cc1NC(=O)NCCB1OC(C)(C)C(C)(C)O1)OCO2          1   \n1                        CC(C)(C)OC(=O)c1ccc2c(c1)OCO2          1   \n2           O=S(=O)(CCC1CC1)N(Cc1ccccc1)Cc1nnc2ccccn12          1   \n3                  CCOP(=O)(CC(=O)NCCc1nnc2ccccn12)OCC          1   \n4                   CC(Sc1nnc2ccc(C(F)(F)F)cn12)C(=O)O          1   \n..                                                 ...        ...   \n307  COC(=O)N(CC(=O)N1CCC(CCNC(=O)C2CCC2)CC1)Cc1ccccc1          1   \n308               CCC(NC(=O)OC(C)(C)C)C(=O)N1CCC(N)CC1          1   \n309      CC(C)C(C)C(=O)Nc1cnn(CCN2C(=O)c3ccccc3C2=O)c1          1   \n310  COC(=O)N(CC(=O)N1C2CCC1(CNC(=O)C1CCC1)CC2)Cc1c...          1   \n311           CCC(CC)CC(=O)NC1CC(F)(CNC(=O)C(F)(F)F)C1          1   \n\n                                             reactants  \\\n0      [('Cc1cc2c(cc1N)OCO2', 'CC1(C)OB(CCN)OC1(C)C')]   \n1             [('O=C(O)c1ccc2c(c1)OCO2', 'CC(C)(C)O')]   \n2    [('c1ccc(CNCc2nnc3ccccn23)cc1', 'O=S(=O)(Cl)CC...   \n3       [('NCCc1nnc2ccccn12', 'CCOP(=O)(CC(=O)O)OCC')]   \n4       [('FC(F)(F)c1ccc2nnc(S)n2c1', 'CC(Cl)C(=O)O')]   \n..                                                 ...   \n307  [('O=C(NCCC1CCNCC1)C1CCC1', 'COC(=O)N(CC(=O)O)...   \n308     [('NC1CCNCC1', 'CCC(NC(=O)OC(C)(C)C)C(=O)OC')]   \n309  [('Nc1cnn(CCN2C(=O)c3ccccc3C2=O)c1', 'COC(=O)C...   \n310  [('O=C(NCC12CCC(CC1)N2)C1CCC1', 'COC(=O)N(CC(=...   \n311  [('NC1CC(F)(CNC(=O)C(F)(F)F)C1', 'CCC(CC)CC(=O...   \n\n                               rxn_order_first_to_last  \\\n0                ['Formation of urea from two amines']   \n1                          ['Steglich esterification']   \n2    ['Sulfonamide Schotten-Baumann with amine (int...   \n3                                        ['Amidation']   \n4             ['Nucleophilic substitution with thiol']   \n..                                                 ...   \n307                                      ['Amidation']   \n308                                ['Ester amidation']   \n309                                ['Ester amidation']   \n310                                      ['Amidation']   \n311                                      ['Amidation']   \n\n                                              dir_name  \n0            ['ENAMINE:Z1637917899_x1140_0A_x1594_0A']  \n1            ['MOLPORT:004-137-806_x1140_0A_x1594_0A']  \n2            ['ENAMINE:Z1530202140_x1140_0A_x1594_0A']  \n3    ['MOLPORT:002-662-833_x1594_0A_x1140_0A', 'MOL...  \n4    ['MOLPORT:009-461-148_x1594_0A_x1140_0A', 'MOL...  \n..                                                 ...  \n307      ['ENAMINE:PV-001542212566_x1071_0A_x1083_0A']  \n308          ['MOLPORT:029-923-160_x1071_0A_x1083_0A']  \n309          ['ENAMINE:Z3700590637_x1020_0A_x0130_0A']  \n310      ['ENAMINE:PV-003639724768_x1071_0A_x1083_0A']  \n311          ['ENAMINE:Z3699946641_x1020_0A_x0130_0A']  \n\n[312 rows x 5 columns]",
      "text/html": "<div>\n<style scoped>\n    .dataframe tbody tr th:only-of-type {\n        vertical-align: middle;\n    }\n\n    .dataframe tbody tr th {\n        vertical-align: top;\n    }\n\n    .dataframe thead th {\n        text-align: right;\n    }\n</style>\n<table border=\"1\" class=\"dataframe\">\n  <thead>\n    <tr style=\"text-align: right;\">\n      <th></th>\n      <th>smiles</th>\n      <th>num_steps</th>\n      <th>reactants</th>\n      <th>rxn_order_first_to_last</th>\n      <th>dir_name</th>\n    </tr>\n  </thead>\n  <tbody>\n    <tr>\n      <th>0</th>\n      <td>Cc1cc2c(cc1NC(=O)NCCB1OC(C)(C)C(C)(C)O1)OCO2</td>\n      <td>1</td>\n      <td>[('Cc1cc2c(cc1N)OCO2', 'CC1(C)OB(CCN)OC1(C)C')]</td>\n      <td>['Formation of urea from two amines']</td>\n      <td>['ENAMINE:Z1637917899_x1140_0A_x1594_0A']</td>\n    </tr>\n    <tr>\n      <th>1</th>\n      <td>CC(C)(C)OC(=O)c1ccc2c(c1)OCO2</td>\n      <td>1</td>\n      <td>[('O=C(O)c1ccc2c(c1)OCO2', 'CC(C)(C)O')]</td>\n      <td>['Steglich esterification']</td>\n      <td>['MOLPORT:004-137-806_x1140_0A_x1594_0A']</td>\n    </tr>\n    <tr>\n      <th>2</th>\n      <td>O=S(=O)(CCC1CC1)N(Cc1ccccc1)Cc1nnc2ccccn12</td>\n      <td>1</td>\n      <td>[('c1ccc(CNCc2nnc3ccccn23)cc1', 'O=S(=O)(Cl)CC...</td>\n      <td>['Sulfonamide Schotten-Baumann with amine (int...</td>\n      <td>['ENAMINE:Z1530202140_x1140_0A_x1594_0A']</td>\n    </tr>\n    <tr>\n      <th>3</th>\n      <td>CCOP(=O)(CC(=O)NCCc1nnc2ccccn12)OCC</td>\n      <td>1</td>\n      <td>[('NCCc1nnc2ccccn12', 'CCOP(=O)(CC(=O)O)OCC')]</td>\n      <td>['Amidation']</td>\n      <td>['MOLPORT:002-662-833_x1594_0A_x1140_0A', 'MOL...</td>\n    </tr>\n    <tr>\n      <th>4</th>\n      <td>CC(Sc1nnc2ccc(C(F)(F)F)cn12)C(=O)O</td>\n      <td>1</td>\n      <td>[('FC(F)(F)c1ccc2nnc(S)n2c1', 'CC(Cl)C(=O)O')]</td>\n      <td>['Nucleophilic substitution with thiol']</td>\n      <td>['MOLPORT:009-461-148_x1594_0A_x1140_0A', 'MOL...</td>\n    </tr>\n    <tr>\n      <th>...</th>\n      <td>...</td>\n      <td>...</td>\n      <td>...</td>\n      <td>...</td>\n      <td>...</td>\n    </tr>\n    <tr>\n      <th>307</th>\n      <td>COC(=O)N(CC(=O)N1CCC(CCNC(=O)C2CCC2)CC1)Cc1ccccc1</td>\n      <td>1</td>\n      <td>[('O=C(NCCC1CCNCC1)C1CCC1', 'COC(=O)N(CC(=O)O)...</td>\n      <td>['Amidation']</td>\n      <td>['ENAMINE:PV-001542212566_x1071_0A_x1083_0A']</td>\n    </tr>\n    <tr>\n      <th>308</th>\n      <td>CCC(NC(=O)OC(C)(C)C)C(=O)N1CCC(N)CC1</td>\n      <td>1</td>\n      <td>[('NC1CCNCC1', 'CCC(NC(=O)OC(C)(C)C)C(=O)OC')]</td>\n      <td>['Ester amidation']</td>\n      <td>['MOLPORT:029-923-160_x1071_0A_x1083_0A']</td>\n    </tr>\n    <tr>\n      <th>309</th>\n      <td>CC(C)C(C)C(=O)Nc1cnn(CCN2C(=O)c3ccccc3C2=O)c1</td>\n      <td>1</td>\n      <td>[('Nc1cnn(CCN2C(=O)c3ccccc3C2=O)c1', 'COC(=O)C...</td>\n      <td>['Ester amidation']</td>\n      <td>['ENAMINE:Z3700590637_x1020_0A_x0130_0A']</td>\n    </tr>\n    <tr>\n      <th>310</th>\n      <td>COC(=O)N(CC(=O)N1C2CCC1(CNC(=O)C1CCC1)CC2)Cc1c...</td>\n      <td>1</td>\n      <td>[('O=C(NCC12CCC(CC1)N2)C1CCC1', 'COC(=O)N(CC(=...</td>\n      <td>['Amidation']</td>\n      <td>['ENAMINE:PV-003639724768_x1071_0A_x1083_0A']</td>\n    </tr>\n    <tr>\n      <th>311</th>\n      <td>CCC(CC)CC(=O)NC1CC(F)(CNC(=O)C(F)(F)F)C1</td>\n      <td>1</td>\n      <td>[('NC1CC(F)(CNC(=O)C(F)(F)F)C1', 'CCC(CC)CC(=O...</td>\n      <td>['Amidation']</td>\n      <td>['ENAMINE:Z3699946641_x1020_0A_x0130_0A']</td>\n    </tr>\n  </tbody>\n</table>\n<p>312 rows × 5 columns</p>\n</div>"
     },
     "execution_count": 68,
     "metadata": {},
     "output_type": "execute_result"
    }
   ],
   "source": [
    "df.drop('Unnamed: 0', axis=1, inplace=True)\n",
    "df"
   ],
   "metadata": {
    "collapsed": false,
    "ExecuteTime": {
     "end_time": "2023-10-23T14:31:39.238803Z",
     "start_time": "2023-10-23T14:31:39.226613Z"
    }
   },
   "id": "5829f72031008ccc"
  },
  {
   "cell_type": "code",
   "execution_count": 60,
   "outputs": [],
   "source": [
    "df.to_csv('/Users/kate_fieseler/PycharmProjects/retrievesynthesizable/D68EV3CPROA/routes_data/D68EV3CPROA_enumeration_oct10_first_route_2_step_FORWARD_1st_step_updated_index.csv', index=True)"
   ],
   "metadata": {
    "collapsed": false,
    "ExecuteTime": {
     "end_time": "2023-10-23T14:29:23.863383Z",
     "start_time": "2023-10-23T14:29:23.846917Z"
    }
   },
   "id": "5c1cf69163dcb293"
  },
  {
   "cell_type": "code",
   "execution_count": 73,
   "outputs": [
    {
     "data": {
      "text/plain": "                                                smiles  num_steps  \\\n0         Cc1cc2c(cc1NC(=O)NCCB1OC(C)(C)C(C)(C)O1)OCO2          1   \n1                        CC(C)(C)OC(=O)c1ccc2c(c1)OCO2          1   \n2           O=S(=O)(CCC1CC1)N(Cc1ccccc1)Cc1nnc2ccccn12          1   \n3                  CCOP(=O)(CC(=O)NCCc1nnc2ccccn12)OCC          1   \n4                   CC(Sc1nnc2ccc(C(F)(F)F)cn12)C(=O)O          1   \n..                                                 ...        ...   \n307  COC(=O)N(CC(=O)N1CCC(CCNC(=O)C2CCC2)CC1)Cc1ccccc1          1   \n308               CCC(NC(=O)OC(C)(C)C)C(=O)N1CCC(N)CC1          1   \n309      CC(C)C(C)C(=O)Nc1cnn(CCN2C(=O)c3ccccc3C2=O)c1          1   \n310  COC(=O)N(CC(=O)N1C2CCC1(CNC(=O)C1CCC1)CC2)Cc1c...          1   \n311           CCC(CC)CC(=O)NC1CC(F)(CNC(=O)C(F)(F)F)C1          1   \n\n                                             reactants  \\\n0      [('Cc1cc2c(cc1N)OCO2', 'CC1(C)OB(CCN)OC1(C)C')]   \n1             [('O=C(O)c1ccc2c(c1)OCO2', 'CC(C)(C)O')]   \n2    [('c1ccc(CNCc2nnc3ccccn23)cc1', 'O=S(=O)(Cl)CC...   \n3       [('NCCc1nnc2ccccn12', 'CCOP(=O)(CC(=O)O)OCC')]   \n4       [('FC(F)(F)c1ccc2nnc(S)n2c1', 'CC(Cl)C(=O)O')]   \n..                                                 ...   \n307  [('O=C(NCCC1CCNCC1)C1CCC1', 'COC(=O)N(CC(=O)O)...   \n308     [('NC1CCNCC1', 'CCC(NC(=O)OC(C)(C)C)C(=O)OC')]   \n309  [('Nc1cnn(CCN2C(=O)c3ccccc3C2=O)c1', 'COC(=O)C...   \n310  [('O=C(NCC12CCC(CC1)N2)C1CCC1', 'COC(=O)N(CC(=...   \n311  [('NC1CC(F)(CNC(=O)C(F)(F)F)C1', 'CCC(CC)CC(=O...   \n\n                               rxn_order_first_to_last  \\\n0                ['Formation of urea from two amines']   \n1                          ['Steglich esterification']   \n2    ['Sulfonamide Schotten-Baumann with amine (int...   \n3                                        ['Amidation']   \n4             ['Nucleophilic substitution with thiol']   \n..                                                 ...   \n307                                      ['Amidation']   \n308                                ['Ester amidation']   \n309                                ['Ester amidation']   \n310                                      ['Amidation']   \n311                                      ['Amidation']   \n\n                                              dir_name  \n0            ['ENAMINE_Z1637917899_x1140_0A_x1594_0A']  \n1            ['MOLPORT_004-137-806_x1140_0A_x1594_0A']  \n2            ['ENAMINE_Z1530202140_x1140_0A_x1594_0A']  \n3    ['MOLPORT_002-662-833_x1594_0A_x1140_0A', 'MOL...  \n4    ['MOLPORT_009-461-148_x1594_0A_x1140_0A', 'MOL...  \n..                                                 ...  \n307      ['ENAMINE_PV-001542212566_x1071_0A_x1083_0A']  \n308          ['MOLPORT_029-923-160_x1071_0A_x1083_0A']  \n309          ['ENAMINE_Z3700590637_x1020_0A_x0130_0A']  \n310      ['ENAMINE_PV-003639724768_x1071_0A_x1083_0A']  \n311          ['ENAMINE_Z3699946641_x1020_0A_x0130_0A']  \n\n[312 rows x 5 columns]",
      "text/html": "<div>\n<style scoped>\n    .dataframe tbody tr th:only-of-type {\n        vertical-align: middle;\n    }\n\n    .dataframe tbody tr th {\n        vertical-align: top;\n    }\n\n    .dataframe thead th {\n        text-align: right;\n    }\n</style>\n<table border=\"1\" class=\"dataframe\">\n  <thead>\n    <tr style=\"text-align: right;\">\n      <th></th>\n      <th>smiles</th>\n      <th>num_steps</th>\n      <th>reactants</th>\n      <th>rxn_order_first_to_last</th>\n      <th>dir_name</th>\n    </tr>\n  </thead>\n  <tbody>\n    <tr>\n      <th>0</th>\n      <td>Cc1cc2c(cc1NC(=O)NCCB1OC(C)(C)C(C)(C)O1)OCO2</td>\n      <td>1</td>\n      <td>[('Cc1cc2c(cc1N)OCO2', 'CC1(C)OB(CCN)OC1(C)C')]</td>\n      <td>['Formation of urea from two amines']</td>\n      <td>['ENAMINE_Z1637917899_x1140_0A_x1594_0A']</td>\n    </tr>\n    <tr>\n      <th>1</th>\n      <td>CC(C)(C)OC(=O)c1ccc2c(c1)OCO2</td>\n      <td>1</td>\n      <td>[('O=C(O)c1ccc2c(c1)OCO2', 'CC(C)(C)O')]</td>\n      <td>['Steglich esterification']</td>\n      <td>['MOLPORT_004-137-806_x1140_0A_x1594_0A']</td>\n    </tr>\n    <tr>\n      <th>2</th>\n      <td>O=S(=O)(CCC1CC1)N(Cc1ccccc1)Cc1nnc2ccccn12</td>\n      <td>1</td>\n      <td>[('c1ccc(CNCc2nnc3ccccn23)cc1', 'O=S(=O)(Cl)CC...</td>\n      <td>['Sulfonamide Schotten-Baumann with amine (int...</td>\n      <td>['ENAMINE_Z1530202140_x1140_0A_x1594_0A']</td>\n    </tr>\n    <tr>\n      <th>3</th>\n      <td>CCOP(=O)(CC(=O)NCCc1nnc2ccccn12)OCC</td>\n      <td>1</td>\n      <td>[('NCCc1nnc2ccccn12', 'CCOP(=O)(CC(=O)O)OCC')]</td>\n      <td>['Amidation']</td>\n      <td>['MOLPORT_002-662-833_x1594_0A_x1140_0A', 'MOL...</td>\n    </tr>\n    <tr>\n      <th>4</th>\n      <td>CC(Sc1nnc2ccc(C(F)(F)F)cn12)C(=O)O</td>\n      <td>1</td>\n      <td>[('FC(F)(F)c1ccc2nnc(S)n2c1', 'CC(Cl)C(=O)O')]</td>\n      <td>['Nucleophilic substitution with thiol']</td>\n      <td>['MOLPORT_009-461-148_x1594_0A_x1140_0A', 'MOL...</td>\n    </tr>\n    <tr>\n      <th>...</th>\n      <td>...</td>\n      <td>...</td>\n      <td>...</td>\n      <td>...</td>\n      <td>...</td>\n    </tr>\n    <tr>\n      <th>307</th>\n      <td>COC(=O)N(CC(=O)N1CCC(CCNC(=O)C2CCC2)CC1)Cc1ccccc1</td>\n      <td>1</td>\n      <td>[('O=C(NCCC1CCNCC1)C1CCC1', 'COC(=O)N(CC(=O)O)...</td>\n      <td>['Amidation']</td>\n      <td>['ENAMINE_PV-001542212566_x1071_0A_x1083_0A']</td>\n    </tr>\n    <tr>\n      <th>308</th>\n      <td>CCC(NC(=O)OC(C)(C)C)C(=O)N1CCC(N)CC1</td>\n      <td>1</td>\n      <td>[('NC1CCNCC1', 'CCC(NC(=O)OC(C)(C)C)C(=O)OC')]</td>\n      <td>['Ester amidation']</td>\n      <td>['MOLPORT_029-923-160_x1071_0A_x1083_0A']</td>\n    </tr>\n    <tr>\n      <th>309</th>\n      <td>CC(C)C(C)C(=O)Nc1cnn(CCN2C(=O)c3ccccc3C2=O)c1</td>\n      <td>1</td>\n      <td>[('Nc1cnn(CCN2C(=O)c3ccccc3C2=O)c1', 'COC(=O)C...</td>\n      <td>['Ester amidation']</td>\n      <td>['ENAMINE_Z3700590637_x1020_0A_x0130_0A']</td>\n    </tr>\n    <tr>\n      <th>310</th>\n      <td>COC(=O)N(CC(=O)N1C2CCC1(CNC(=O)C1CCC1)CC2)Cc1c...</td>\n      <td>1</td>\n      <td>[('O=C(NCC12CCC(CC1)N2)C1CCC1', 'COC(=O)N(CC(=...</td>\n      <td>['Amidation']</td>\n      <td>['ENAMINE_PV-003639724768_x1071_0A_x1083_0A']</td>\n    </tr>\n    <tr>\n      <th>311</th>\n      <td>CCC(CC)CC(=O)NC1CC(F)(CNC(=O)C(F)(F)F)C1</td>\n      <td>1</td>\n      <td>[('NC1CC(F)(CNC(=O)C(F)(F)F)C1', 'CCC(CC)CC(=O...</td>\n      <td>['Amidation']</td>\n      <td>['ENAMINE_Z3699946641_x1020_0A_x0130_0A']</td>\n    </tr>\n  </tbody>\n</table>\n<p>312 rows × 5 columns</p>\n</div>"
     },
     "execution_count": 73,
     "metadata": {},
     "output_type": "execute_result"
    }
   ],
   "source": [
    "df"
   ],
   "metadata": {
    "collapsed": false,
    "ExecuteTime": {
     "end_time": "2023-10-23T14:33:41.440497Z",
     "start_time": "2023-10-23T14:33:41.429617Z"
    }
   },
   "id": "be88a220b92c1bd6"
  },
  {
   "cell_type": "code",
   "execution_count": 79,
   "outputs": [
    {
     "name": "stdout",
     "output_type": "stream",
     "text": [
      "['MOLPORT_009-222-788_x1594_0A_x2021_0A_1.0_step_519_1_of_2.csv']\n",
      "['ENAMINE_PV-002929137860_x1498_0A_x1052_1A_1_step_3614_1_of_2.csv']\n",
      "[]\n",
      "[]\n",
      "['ENAMINE_Z2223766391_x1052_1A_x1083_0A_1.0_step_85_1_of_2.csv']\n",
      "[]\n",
      "['ENAMINE_PV-001117735183_x0980_0B_x2099_0A_1.0_step_99940_1_of_2.csv']\n",
      "['ENAMINE_PV-003426868034_x1594_0A_x1052_1A_1.0_step_1920_1_of_2.csv']\n",
      "['MOLPORT_003-125-209_x1140_0A_x1052_1A_1.0_step_18639_1_of_2.csv']\n",
      "[]\n",
      "['MOLPORT_016-589-419_x1071_0A_x1083_0A_1.0_step_14744_1_of_2.csv']\n",
      "['ENAMINE_Z2945575707_x1140_0A_x2099_0A_1.0_step_2240_1_of_2.csv']\n",
      "[]\n",
      "[]\n",
      "[]\n",
      "['ENAMINE_PV-001550611009_x0980_0B_x2099_0A_1.0_step_358_1_of_2.csv']\n",
      "['ENAMINE_PV-002205904863_x1140_0A_x1594_0A_1.0_step_642_1_of_2.csv']\n",
      "['MOLPORT_003-271-619_x1594_0A_x2021_0A_1.0_step_7_1_of_2.csv']\n",
      "[]\n",
      "[]\n",
      "[]\n",
      "['MOLPORT_021-742-444_x1594_0A_x2021_0A_1.0_step_1176_1_of_2.csv']\n",
      "[]\n",
      "[]\n",
      "['ENAMINE_Z1609986978_x1594_0A_x1140_0A_1.0_step_1288_1_of_2.csv']\n",
      "[]\n",
      "['ENAMINE_Z3051889040_x1498_0A_x1083_0A_1.0_step_7752_1_of_2.csv']\n",
      "[]\n",
      "['ENAMINE_PV-000745136802_x1083_0A_x1071_0A_1_step_291_1_of_2.csv']\n",
      "[]\n",
      "['ENAMINE_PV-002837392078_x1071_0A_x1498_0A_1.0_step_179_1_of_2.csv']\n",
      "['ENAMINE_Z2227934522_x1052_1A_x1083_0A_1.0_step_890_1_of_2.csv']\n",
      "['MOLPORT_020-079-586,ENAMINE_Z1102117532_x1140_0A_x1498_0A_1.0_step_1908_1_of_2.csv']\n",
      "[]\n",
      "['MOLPORT_023-199-163_x1052_1A_x1140_0A_1.0_step_640_1_of_2.csv']\n",
      "['MOLPORT_002-086-021_x1071_0A_x1083_0A_1.0_step_295_1_of_2.csv']\n",
      "['ENAMINE_Z1177310847_x1052_1A_x1083_0A_1_step_6402_1_of_2.csv']\n",
      "[]\n",
      "['MOLPORT_004-198-003_x1140_0A_x1594_0A_1.0_step_4740_1_of_2.csv']\n",
      "['MOLPORT_001-976-615_x1071_0A_x1083_0A_1.0_step_6392_1_of_2.csv']\n",
      "['ENAMINE_Z729527092_x1071_0A_x1083_0A_1.0_step_375_1_of_2.csv']\n",
      "[]\n",
      "['ENAMINE_PV-003019300793_x1594_0A_x1052_1A_1.0_step_10914_1_of_2.csv']\n",
      "[]\n",
      "['ENAMINE_Z1637917899_x1140_0A_x1594_0A_1_step_8178_1_of_1.csv']\n",
      "['ENAMINE_Z2626585379_x1052_1A_x1594_0A_1.0_step_3364_1_of_2.csv']\n",
      "['ENAMINE_Z690619784_x1140_0A_x1594_0A_1_step_7704_1_of_2.csv']\n",
      "['MOLPORT_009-222-788_x1594_0A_x1919_0A_1.0_step_540_1_of_2.csv']\n",
      "['ENAMINE_PV-002991171139_x1594_0A_x1052_1A_1.0_step_520_1_of_2.csv']\n",
      "['MOLPORT_001-007-465_x1071_0A_x1083_0A_1.0_step_4060_1_of_2.csv']\n",
      "[]\n",
      "['ENAMINE_Z1273212254_x1052_1A_x1594_0A_1.0_step_364_1_of_2.csv']\n",
      "['ENAMINE_Z3612510036_x1052_1A_x1498_0A_1.0_step_2254_1_of_2.csv']\n",
      "[]\n",
      "[]\n",
      "['ENAMINE_Z131530150_x1052_1A_x1594_0A_1.0_step_8295_1_of_2.csv']\n",
      "[]\n",
      "[]\n",
      "['ENAMINE_PV-002422565147_x1052_1A_x1083_0A_1.0_step_114_1_of_2.csv']\n",
      "['ENAMINE_PV-001861681757_x1594_0A_x2021_0A_1_step_18183_1_of_2.csv']\n",
      "[]\n",
      "['ENAMINE_Z2213861133_x1052_1A_x1083_0A_1.0_step_486_1_of_2.csv']\n",
      "['ENAMINE_Z3555412851_x0147_0A_x1052_1A_1.0_step_56_1_of_2.csv']\n",
      "[]\n",
      "['ENAMINE_Z3893428172_x1140_0A_x1052_1A_1.0_step_315_1_of_2.csv']\n",
      "['ENAMINE_Z2373649196_x1052_1A_x1083_0A_1.0_step_1555_1_of_2.csv']\n",
      "['ENAMINE_Z4069735244_x1052_1A_x1083_0A_1.0_step_130_1_of_2.csv']\n",
      "[]\n",
      "['ENAMINE_Z1563107958_x1140_0A_x2099_0A_1.0_step_1308_1_of_2.csv']\n",
      "['ENAMINE_PV-000762930824_x1020_0A_x0130_0A_1.0_step_21033_1_of_2.csv']\n",
      "[]\n",
      "[]\n",
      "['MOLPORT_001-623-198,MOLPORT_009-165-023_x1498_0A_x1140_0A_1.0_step_8904_1_of_2.csv']\n",
      "['ENAMINE_Z1530202140_x1140_0A_x1594_0A_1_step_4092_1_of_2.csv']\n",
      "['ENAMINE_Z3060481975_x1498_0A_x2021_0A_1_step_258_1_of_2.csv']\n",
      "['MOLPORT_004-137-806_x1140_0A_x1594_0A_1_step_18354_1_of_1.csv']\n",
      "['MOLPORT_002-662-295_x1594_0A_x1140_0A_1.0_step_3150_1_of_2.csv']\n",
      "[]\n",
      "['ENAMINE_PV-001399589358_x1083_0A_x1071_0A_1.0_step_21516_1_of_2.csv']\n",
      "['MOLPORT_009-346-838_x1083_0A_x1071_0A_1.0_step_306_1_of_2.csv']\n",
      "[]\n",
      "[]\n",
      "[]\n",
      "['ENAMINE_PV-003037229719_x1071_0A_x1498_0A_1.0_step_177_1_of_2.csv']\n",
      "['ENAMINE_Z1461434139_x1140_0A_x2099_0A_1.0_step_20_1_of_2.csv']\n",
      "[]\n",
      "['ENAMINE_PV-001861681757_x1594_0A_x2021_0A_1_step_18183_1_of_2.csv']\n",
      "['MOLPORT_038-951-175_x1594_0A_x2021_0A_1.0_step_4088_1_of_2.csv']\n",
      "[]\n",
      "[]\n",
      "[]\n",
      "[]\n"
     ]
    }
   ],
   "source": [
    "# Update output values\n",
    "# Enumerate through the parent directory\n",
    "parent_directory = '/Users/kate_fieseler/PycharmProjects/retrievesynthesizable/D68EV3CPROA/elabs/2_step'  # Update this path\n",
    "# Replace all colons with underscores\n",
    "df['dir_name'] = df['dir_name'].str.replace(':', '_')\n",
    "for root, dirs, files in os.walk(parent_directory):\n",
    "    for directory in dirs:\n",
    "        for index, row in df.iterrows():\n",
    "            dir_names = eval(row['dir_name'])\n",
    "            if directory in dir_names:\n",
    "                # If directory exists, go into the directory and find .csv\n",
    "                csv_files = [f for f in os.listdir(os.path.join(root, directory)) if f.endswith('.csv')]\n",
    "                print(csv_files)\n",
    "                for csv_file in csv_files:\n",
    "                    try:\n",
    "                        csv_path = os.path.join(root, directory, csv_file)\n",
    "                        analog_number = len(pd.read_csv(csv_path))  # Extract the integer\n",
    "                        df.at[index, 'Analogs'] = analog_number\n",
    "                        df.at[index, 'Done_Time'] = datetime.datetime.now().strftime('%Y-%m-%d %H:%M:%S')\n",
    "                    except Exception:\n",
    "                        pass\n",
    "                break"
   ],
   "metadata": {
    "collapsed": false,
    "ExecuteTime": {
     "end_time": "2023-10-23T14:35:57.206222Z",
     "start_time": "2023-10-23T14:35:53.230510Z"
    }
   },
   "id": "b1b7fe8c38f6bd93"
  },
  {
   "cell_type": "code",
   "execution_count": 80,
   "outputs": [
    {
     "data": {
      "text/plain": "                                                smiles  num_steps  \\\n0         Cc1cc2c(cc1NC(=O)NCCB1OC(C)(C)C(C)(C)O1)OCO2          1   \n1                        CC(C)(C)OC(=O)c1ccc2c(c1)OCO2          1   \n2           O=S(=O)(CCC1CC1)N(Cc1ccccc1)Cc1nnc2ccccn12          1   \n3                  CCOP(=O)(CC(=O)NCCc1nnc2ccccn12)OCC          1   \n4                   CC(Sc1nnc2ccc(C(F)(F)F)cn12)C(=O)O          1   \n..                                                 ...        ...   \n307  COC(=O)N(CC(=O)N1CCC(CCNC(=O)C2CCC2)CC1)Cc1ccccc1          1   \n308               CCC(NC(=O)OC(C)(C)C)C(=O)N1CCC(N)CC1          1   \n309      CC(C)C(C)C(=O)Nc1cnn(CCN2C(=O)c3ccccc3C2=O)c1          1   \n310  COC(=O)N(CC(=O)N1C2CCC1(CNC(=O)C1CCC1)CC2)Cc1c...          1   \n311           CCC(CC)CC(=O)NC1CC(F)(CNC(=O)C(F)(F)F)C1          1   \n\n                                             reactants  \\\n0      [('Cc1cc2c(cc1N)OCO2', 'CC1(C)OB(CCN)OC1(C)C')]   \n1             [('O=C(O)c1ccc2c(c1)OCO2', 'CC(C)(C)O')]   \n2    [('c1ccc(CNCc2nnc3ccccn23)cc1', 'O=S(=O)(Cl)CC...   \n3       [('NCCc1nnc2ccccn12', 'CCOP(=O)(CC(=O)O)OCC')]   \n4       [('FC(F)(F)c1ccc2nnc(S)n2c1', 'CC(Cl)C(=O)O')]   \n..                                                 ...   \n307  [('O=C(NCCC1CCNCC1)C1CCC1', 'COC(=O)N(CC(=O)O)...   \n308     [('NC1CCNCC1', 'CCC(NC(=O)OC(C)(C)C)C(=O)OC')]   \n309  [('Nc1cnn(CCN2C(=O)c3ccccc3C2=O)c1', 'COC(=O)C...   \n310  [('O=C(NCC12CCC(CC1)N2)C1CCC1', 'COC(=O)N(CC(=...   \n311  [('NC1CC(F)(CNC(=O)C(F)(F)F)C1', 'CCC(CC)CC(=O...   \n\n                               rxn_order_first_to_last  \\\n0                ['Formation of urea from two amines']   \n1                          ['Steglich esterification']   \n2    ['Sulfonamide Schotten-Baumann with amine (int...   \n3                                        ['Amidation']   \n4             ['Nucleophilic substitution with thiol']   \n..                                                 ...   \n307                                      ['Amidation']   \n308                                ['Ester amidation']   \n309                                ['Ester amidation']   \n310                                      ['Amidation']   \n311                                      ['Amidation']   \n\n                                              dir_name  Analogs  \\\n0            ['ENAMINE_Z1637917899_x1140_0A_x1594_0A']   8178.0   \n1            ['MOLPORT_004-137-806_x1140_0A_x1594_0A']  18354.0   \n2            ['ENAMINE_Z1530202140_x1140_0A_x1594_0A']   4092.0   \n3    ['MOLPORT_002-662-833_x1594_0A_x1140_0A', 'MOL...      NaN   \n4    ['MOLPORT_009-461-148_x1594_0A_x1140_0A', 'MOL...      NaN   \n..                                                 ...      ...   \n307      ['ENAMINE_PV-001542212566_x1071_0A_x1083_0A']      NaN   \n308          ['MOLPORT_029-923-160_x1071_0A_x1083_0A']      NaN   \n309          ['ENAMINE_Z3700590637_x1020_0A_x0130_0A']      NaN   \n310      ['ENAMINE_PV-003639724768_x1071_0A_x1083_0A']      NaN   \n311          ['ENAMINE_Z3699946641_x1020_0A_x0130_0A']      NaN   \n\n               Done_Time  \n0    2023-10-23 15:35:55  \n1    2023-10-23 15:35:56  \n2    2023-10-23 15:35:56  \n3                    NaN  \n4                    NaN  \n..                   ...  \n307                  NaN  \n308                  NaN  \n309                  NaN  \n310                  NaN  \n311                  NaN  \n\n[312 rows x 7 columns]",
      "text/html": "<div>\n<style scoped>\n    .dataframe tbody tr th:only-of-type {\n        vertical-align: middle;\n    }\n\n    .dataframe tbody tr th {\n        vertical-align: top;\n    }\n\n    .dataframe thead th {\n        text-align: right;\n    }\n</style>\n<table border=\"1\" class=\"dataframe\">\n  <thead>\n    <tr style=\"text-align: right;\">\n      <th></th>\n      <th>smiles</th>\n      <th>num_steps</th>\n      <th>reactants</th>\n      <th>rxn_order_first_to_last</th>\n      <th>dir_name</th>\n      <th>Analogs</th>\n      <th>Done_Time</th>\n    </tr>\n  </thead>\n  <tbody>\n    <tr>\n      <th>0</th>\n      <td>Cc1cc2c(cc1NC(=O)NCCB1OC(C)(C)C(C)(C)O1)OCO2</td>\n      <td>1</td>\n      <td>[('Cc1cc2c(cc1N)OCO2', 'CC1(C)OB(CCN)OC1(C)C')]</td>\n      <td>['Formation of urea from two amines']</td>\n      <td>['ENAMINE_Z1637917899_x1140_0A_x1594_0A']</td>\n      <td>8178.0</td>\n      <td>2023-10-23 15:35:55</td>\n    </tr>\n    <tr>\n      <th>1</th>\n      <td>CC(C)(C)OC(=O)c1ccc2c(c1)OCO2</td>\n      <td>1</td>\n      <td>[('O=C(O)c1ccc2c(c1)OCO2', 'CC(C)(C)O')]</td>\n      <td>['Steglich esterification']</td>\n      <td>['MOLPORT_004-137-806_x1140_0A_x1594_0A']</td>\n      <td>18354.0</td>\n      <td>2023-10-23 15:35:56</td>\n    </tr>\n    <tr>\n      <th>2</th>\n      <td>O=S(=O)(CCC1CC1)N(Cc1ccccc1)Cc1nnc2ccccn12</td>\n      <td>1</td>\n      <td>[('c1ccc(CNCc2nnc3ccccn23)cc1', 'O=S(=O)(Cl)CC...</td>\n      <td>['Sulfonamide Schotten-Baumann with amine (int...</td>\n      <td>['ENAMINE_Z1530202140_x1140_0A_x1594_0A']</td>\n      <td>4092.0</td>\n      <td>2023-10-23 15:35:56</td>\n    </tr>\n    <tr>\n      <th>3</th>\n      <td>CCOP(=O)(CC(=O)NCCc1nnc2ccccn12)OCC</td>\n      <td>1</td>\n      <td>[('NCCc1nnc2ccccn12', 'CCOP(=O)(CC(=O)O)OCC')]</td>\n      <td>['Amidation']</td>\n      <td>['MOLPORT_002-662-833_x1594_0A_x1140_0A', 'MOL...</td>\n      <td>NaN</td>\n      <td>NaN</td>\n    </tr>\n    <tr>\n      <th>4</th>\n      <td>CC(Sc1nnc2ccc(C(F)(F)F)cn12)C(=O)O</td>\n      <td>1</td>\n      <td>[('FC(F)(F)c1ccc2nnc(S)n2c1', 'CC(Cl)C(=O)O')]</td>\n      <td>['Nucleophilic substitution with thiol']</td>\n      <td>['MOLPORT_009-461-148_x1594_0A_x1140_0A', 'MOL...</td>\n      <td>NaN</td>\n      <td>NaN</td>\n    </tr>\n    <tr>\n      <th>...</th>\n      <td>...</td>\n      <td>...</td>\n      <td>...</td>\n      <td>...</td>\n      <td>...</td>\n      <td>...</td>\n      <td>...</td>\n    </tr>\n    <tr>\n      <th>307</th>\n      <td>COC(=O)N(CC(=O)N1CCC(CCNC(=O)C2CCC2)CC1)Cc1ccccc1</td>\n      <td>1</td>\n      <td>[('O=C(NCCC1CCNCC1)C1CCC1', 'COC(=O)N(CC(=O)O)...</td>\n      <td>['Amidation']</td>\n      <td>['ENAMINE_PV-001542212566_x1071_0A_x1083_0A']</td>\n      <td>NaN</td>\n      <td>NaN</td>\n    </tr>\n    <tr>\n      <th>308</th>\n      <td>CCC(NC(=O)OC(C)(C)C)C(=O)N1CCC(N)CC1</td>\n      <td>1</td>\n      <td>[('NC1CCNCC1', 'CCC(NC(=O)OC(C)(C)C)C(=O)OC')]</td>\n      <td>['Ester amidation']</td>\n      <td>['MOLPORT_029-923-160_x1071_0A_x1083_0A']</td>\n      <td>NaN</td>\n      <td>NaN</td>\n    </tr>\n    <tr>\n      <th>309</th>\n      <td>CC(C)C(C)C(=O)Nc1cnn(CCN2C(=O)c3ccccc3C2=O)c1</td>\n      <td>1</td>\n      <td>[('Nc1cnn(CCN2C(=O)c3ccccc3C2=O)c1', 'COC(=O)C...</td>\n      <td>['Ester amidation']</td>\n      <td>['ENAMINE_Z3700590637_x1020_0A_x0130_0A']</td>\n      <td>NaN</td>\n      <td>NaN</td>\n    </tr>\n    <tr>\n      <th>310</th>\n      <td>COC(=O)N(CC(=O)N1C2CCC1(CNC(=O)C1CCC1)CC2)Cc1c...</td>\n      <td>1</td>\n      <td>[('O=C(NCC12CCC(CC1)N2)C1CCC1', 'COC(=O)N(CC(=...</td>\n      <td>['Amidation']</td>\n      <td>['ENAMINE_PV-003639724768_x1071_0A_x1083_0A']</td>\n      <td>NaN</td>\n      <td>NaN</td>\n    </tr>\n    <tr>\n      <th>311</th>\n      <td>CCC(CC)CC(=O)NC1CC(F)(CNC(=O)C(F)(F)F)C1</td>\n      <td>1</td>\n      <td>[('NC1CC(F)(CNC(=O)C(F)(F)F)C1', 'CCC(CC)CC(=O...</td>\n      <td>['Amidation']</td>\n      <td>['ENAMINE_Z3699946641_x1020_0A_x0130_0A']</td>\n      <td>NaN</td>\n      <td>NaN</td>\n    </tr>\n  </tbody>\n</table>\n<p>312 rows × 7 columns</p>\n</div>"
     },
     "execution_count": 80,
     "metadata": {},
     "output_type": "execute_result"
    }
   ],
   "source": [
    "df"
   ],
   "metadata": {
    "collapsed": false,
    "ExecuteTime": {
     "end_time": "2023-10-23T14:35:58.886637Z",
     "start_time": "2023-10-23T14:35:58.875281Z"
    }
   },
   "id": "b3d4c3dfe56c155"
  },
  {
   "cell_type": "code",
   "execution_count": 82,
   "outputs": [],
   "source": [
    "df.to_csv('/Users/kate_fieseler/PycharmProjects/retrievesynthesizable/D68EV3CPROA/routes_data/D68EV3CPROA_enumeration_oct10_first_route_2_step_FORWARD_1st_step_updated_index_OUTPUT.csv', index=True)"
   ],
   "metadata": {
    "collapsed": false,
    "ExecuteTime": {
     "end_time": "2023-10-23T14:54:22.246881Z",
     "start_time": "2023-10-23T14:54:22.221741Z"
    }
   },
   "id": "345899c5e0b8e7ee"
  },
  {
   "cell_type": "code",
   "execution_count": null,
   "outputs": [],
   "source": [],
   "metadata": {
    "collapsed": false
   },
   "id": "c8008ef7ea65bbf3"
  }
 ],
 "metadata": {
  "kernelspec": {
   "display_name": "Python 3",
   "language": "python",
   "name": "python3"
  },
  "language_info": {
   "codemirror_mode": {
    "name": "ipython",
    "version": 2
   },
   "file_extension": ".py",
   "mimetype": "text/x-python",
   "name": "python",
   "nbconvert_exporter": "python",
   "pygments_lexer": "ipython2",
   "version": "2.7.6"
  }
 },
 "nbformat": 4,
 "nbformat_minor": 5
}
