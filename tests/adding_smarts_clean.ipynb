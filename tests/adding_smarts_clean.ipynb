{
 "cells": [
  {
   "cell_type": "code",
   "execution_count": 53,
   "id": "initial_id",
   "metadata": {
    "collapsed": true,
    "ExecuteTime": {
     "end_time": "2023-11-29T17:18:24.112482Z",
     "start_time": "2023-11-29T17:18:23.987377Z"
    }
   },
   "outputs": [
    {
     "name": "stdout",
     "output_type": "stream",
     "text": [
      "The autoreload extension is already loaded. To reload it, use:\n",
      "  %reload_ext autoreload\n"
     ]
    }
   ],
   "source": [
    "%load_ext autoreload\n",
    "%autoreload 2\n",
    "from rxnutils import *\n",
    "from rdkit import Chem\n",
    "from rdkit.Chem import AllChem\n",
    "import pandas as pd\n",
    "import os\n",
    "import ast\n",
    "from rxnmapper import RXNMapper\n",
    "from chemUtils.synthesis import reaction\n",
    "import json\n",
    "from IPython.display import display\n",
    "from collections import OrderedDict\n",
    "from prettytable import PrettyTable"
   ]
  },
  {
   "cell_type": "code",
   "execution_count": 63,
   "outputs": [
    {
     "name": "stdout",
     "output_type": "stream",
     "text": [
      "{\n",
      "    \"Amidation\": \"[#6:1](=[#8:2])-[#8;H1].[#7&X3;!$(NC=*);!$(NS):3]>>[#6:1](=[#8:2])-[#7X3:3]\",\n",
      "    \"Amide_schotten-baumann\": \"[#7;H2,H1:3].[#6:1](=[#8:2])-[#17]>>[#6:1](=[#8:2])-[#7:3]\",\n",
      "    \"Reductive_amination\": \"[#6:2](=[#8])(-[#6:1]).[#7;H2,H1:3]>>[#6:2](-[#6:1])-[#7:3]\",\n",
      "    \"N-nucleophilic_aromatic_substitution\": \"[#6:3]-[#7;H3,H2,H1:2].[c:1]-[F,Cl,Br,I]>>[#6:3]-[#7:2]-[c:1]\",\n",
      "    \"Sp2-sp2_Suzuki_coupling\": \"[#6X3:1]-[F,Cl,Br,I].[#6X3:2]-[B](-[O])(-[O])>>[#6X3:1]-[#6X3:2]\",\n",
      "    \"Formation_of_urea_from_two_amines\": \"[N&X3;H2,H1;!$(NC=O);!$(NS):3].[N&X3;H2,H1;!$(NC=O);!$(NS):4]>>[#7&X3:3]-[#6](=[#8])-[#7&X3:4]\",\n",
      "    \"Sulfonamide_Schotten-Baumann_with_amine_(intermolecular)\": \"[#16X4:1](=[OX1:2])(=[OX1:3])([#6,#7:4])[#17,#9].[#7&X3;H2,H1;!$(NC=O);!$(NS):5]>>[#16X4:1](=[OX1:2])(=[OX1:3])([#6,#7:4])-[#7:5]\",\n",
      "    \"Buchwald-Hartwig_amination\": \"[ar:1]-[Cl,Br,I].[#7&X3;H2,H1;!$(NC=*);!$(NS);!$(NN):7]>>[ar:1]-[N:7]\",\n",
      "    \"Nucleophilic_substitution_with_thiol\": \"[Cl,Br]-[C;H2,H1;+0:1].[SH;+0:2]>>[S&X2;H0;D2;+0:2]-[C&X4;D2;+0:1]\",\n",
      "    \"Mitsunobu_reaction_with_amine_alcohol_and_thioalcohol\": \"[OH]-[#6&X4:1].[NX3;H2,H1;!$(NC=O):2]>>[NX3;!$(NC=O):2]-[#6&X4:1]\",\n",
      "    \"Amide_Schotten-Baumann_with_amine\": \"[#6:2]-[#6:1](=[OX1])[#17,#9].[#7&X3;H2,H1;!$(NC=*);!$(NS):3]>>[#6:2]-[#6:1](=[OX1])-[#7:3]\",\n",
      "    \"Ester_amidation\": \"C-O-[C;H0;D3;+0:1](-[#6:2])=[O;D1;H0:3].[N;H1,H2;+0:5]>>[N&X3;+0:5]-[C;H0;D3;+0:1](-[#6:2])=[O;D1;H0:3]\",\n",
      "    \"Nucleophilic_substitution_with_amine\": \"[Cl,Br]-[C;H2,H1;+0:1].[#7&X3;H2,H1;+0:5]>>[#7&X3;+0:5]-[C&X4;+0:1]\",\n",
      "    \"N-Boc_deprotection\": \"[#7&X3:2]-[#6](=[#8])-[#8]-[#6](-[#6])(-[#6])(-[#6])>>[#7&X3:2]\",\n",
      "    \"Sp3-sp2_Suzuki_coupling\": \"[#6X3:1]-[F,Cl,Br,I].[CX4:2]-[B](-[O])(-[O])>>[#6X3:1]-[CX4:2]\",\n",
      "    \"Buchwald-Hartwig_amidation_with_amide-like_nucleophile\": \"[Cl,Br,I]-[ar:1].[CX3:7](-[NH2;D1;+0:8])=[O,S;D1;H0:9]>>[CX3:7](=[O,S;D1;H0:9])-[NH;D2;+0:8]-[ar:1]\",\n",
      "    \"Steglich_esterification\": \"[OH]-[C;H0;D3;+0:1]=[O;D1;H0:3].[CX4;+0:7]-[OH;D1;+0:9]>>[CX4:7]-[O;H0;D2;+0:9]-[C;H0;D3;+0:1]=[O;D1;H0:3]\",\n",
      "    \"N-Bn_deprotection\": \"[#7&X3:2]-[#6]-[cR1]1[cR1][cR1][cR1][cR1][cR1]1>>[#7&X3:2]\",\n",
      "    \"Williamson_ether_synthesis\": \"[Cl,Br,I]-[#6:1].[#6;+0:2]-[OH;D1;+0:3]>>[#6X4:1]-[O;H0;D2;+0:3]-[#6X4+0:2]\",\n",
      "    \"Epoxide_+_amine_coupling\": \"[#6:1]-[CH;D3;+0:2]1-[CH2;D2;+0:3]-[O;H0;D2;+0:4]-1.[N;H2,H1;+0:6]-[#6:7]>>[#6:1]-[C;+0:2](-[OH;D1;+0:4])-[C&X4;+0:3]-[N&X3;+0:6]-[#6:7]\"\n",
      "}\n"
     ]
    }
   ],
   "source": [
    "with open('/Users/kate_fieseler/PycharmProjects/retrievesynthesizable/D68EV3CPROA/RXN_SMARTS_CONSTANTS.json', 'r') as f:\n",
    "    reaction_smarts = json.load(f)\n",
    "# Pretty print the JSON content\n",
    "pretty_json = json.dumps(reaction_smarts, indent=4)\n",
    "print(pretty_json)"
   ],
   "metadata": {
    "collapsed": false,
    "ExecuteTime": {
     "end_time": "2023-11-29T17:26:27.298855Z",
     "start_time": "2023-11-29T17:26:27.238499Z"
    }
   },
   "id": "ed022dd50daf9005"
  },
  {
   "cell_type": "code",
   "execution_count": 64,
   "outputs": [
    {
     "data": {
      "text/plain": "'[#6X3:1]-[F,Cl,Br,I].[#6X3:2]-[B](-[O])(-[O])>>[#6X3:1]-[#6X3:2]'"
     },
     "execution_count": 64,
     "metadata": {},
     "output_type": "execute_result"
    }
   ],
   "source": [
    "reaction_smarts['Sp2-sp2_Suzuki_coupling']"
   ],
   "metadata": {
    "collapsed": false,
    "ExecuteTime": {
     "end_time": "2023-11-29T17:33:12.156002Z",
     "start_time": "2023-11-29T17:33:11.858721Z"
    }
   },
   "id": "6813a07cf39e09a4"
  },
  {
   "cell_type": "code",
   "execution_count": 75,
   "outputs": [],
   "source": [
    "# Need to check that all reactions in df1 with the name in constants works for the smarts\n",
    "def check_smarts(df, name_to_check):\n",
    "    smarts_dict = {}\n",
    "    for i in range(len(df)):\n",
    "        row = df.iloc[i]\n",
    "        for j in range(row.num_steps): # perform for each step in route\n",
    "            name = ast.literal_eval(row.rxn_order_first_to_last)[j]\n",
    "            name = name.replace(' ', '_')\n",
    "            reactants = ast.literal_eval(row.reactants)[j]\n",
    "            if row.num_steps == 1:\n",
    "                products = [row.smiles]\n",
    "            else:\n",
    "                if j < 1:\n",
    "                    products = ast.literal_eval(row.reactants)[j-1]\n",
    "                else:\n",
    "                    products = [row.smiles]\n",
    "            if name == name_to_check:\n",
    "                smarts_name = name.replace(' ', '_')\n",
    "                mapping = reaction_smarts[smarts_name]\n",
    "                print('ROW:', i)\n",
    "                print(reactants)\n",
    "                if Chem.MolFromSmiles(reactants[0]).GetNumAtoms() == 1:\n",
    "                    if len(reactants) == 2:\n",
    "                        if Chem.MolFromSmiles(reactants[1]).GetNumAtoms() == 1:\n",
    "                            print('ONE ATOM REACTANT')\n",
    "                            continue\n",
    "                    else:\n",
    "                        print('ONE ATOM REACTANT')\n",
    "                        continue\n",
    "                outcome = reaction.check_rxn_template_works(mapping, reactants, products, verbose=True)\n",
    "                print(outcome)\n",
    "                if outcome[0] != 1:\n",
    "                    print('FAILED')\n",
    "                    print(row)\n",
    "                    print('REACTANT(S) BELOW:')\n",
    "                    display(Chem.MolFromSmiles(reactants[0]))\n",
    "                    if len(reactants) == 2:\n",
    "                        display(Chem.MolFromSmiles(reactants[1]))\n",
    "                    if outcome[0] == 0:\n",
    "                        print('THE PREDICTED PRODUCT(S) IS/ARE WRONG')\n",
    "                        for i in outcome[1]:\n",
    "                            display(Chem.MolFromSmiles(i))\n",
    "                        print('PROPER PRODUCT IS ONE OF THE BELOW')\n",
    "                        for i in products:\n",
    "                            display(Chem.MolFromSmiles(i))\n",
    "                    else:\n",
    "                        print('THE PREDICTED PRODUCT(S) IS/ARE RIGHT')\n",
    "                        for i in outcome[1]:\n",
    "                            display(Chem.MolFromSmiles(i))\n",
    "                        print(outcome[0])\n",
    "                    break"
   ],
   "metadata": {
    "collapsed": false,
    "ExecuteTime": {
     "end_time": "2023-11-29T17:43:40.957495Z",
     "start_time": "2023-11-29T17:43:40.757942Z"
    }
   },
   "id": "4a29e7f559e63b4c"
  },
  {
   "cell_type": "markdown",
   "source": [
    "# CHECKING ONE STEP"
   ],
   "metadata": {
    "collapsed": false
   },
   "id": "38914142ea689d25"
  },
  {
   "cell_type": "code",
   "execution_count": 76,
   "outputs": [
    {
     "name": "stdout",
     "output_type": "stream",
     "text": [
      "ROW: 20\n",
      "('O=C(NCc1ccc2c(c1)OCO2)C1CCCNC1', 'Clc1nnc2ccccn12')\n",
      "The reaction SMARTS is applicable and produces the expected product with Tanimoto similarity of 1.0.\n",
      "outcome of first combo ['O=C(C1CCCNC1)N(Cc1ccc2c(c1)OCO2)c1nnc2ccccn12', 'O=C(C1CCCNC1)N(Cc1ccc2c(c1)OCO2)c1nnc2ccccn12', 'O=C(NCc1ccc2c(c1)OCO2)C1CCCN(c2nnc3ccccn23)C1', 'O=C(NCc1ccc2c(c1)OCO2)C1CCCN(c2nnc3ccccn23)C1']\n",
      "The reaction SMARTS is not applicable to the provided reactants.\n",
      "outcome of second combo []\n",
      "(1, ['O=C(C1CCCNC1)N(Cc1ccc2c(c1)OCO2)c1nnc2ccccn12', 'O=C(C1CCCNC1)N(Cc1ccc2c(c1)OCO2)c1nnc2ccccn12', 'O=C(NCc1ccc2c(c1)OCO2)C1CCCN(c2nnc3ccccn23)C1', 'O=C(NCc1ccc2c(c1)OCO2)C1CCCN(c2nnc3ccccn23)C1'])\n",
      "ROW: 32\n",
      "('Cc1nnc2c(Cl)nccn12', 'CNCCc1ccc2c(c1)OCO2')\n",
      "The reaction SMARTS is not applicable to the provided reactants.\n",
      "outcome of first combo []\n",
      "The reaction SMARTS is applicable and produces the expected product with Tanimoto similarity of 1.0.\n",
      "outcome of second combo ['Cc1nnc2c(N(C)CCc3ccc4c(c3)OCO4)nccn12', 'Cc1nnc2c(N(C)CCc3ccc4c(c3)OCO4)nccn12']\n",
      "(1, ['Cc1nnc2c(N(C)CCc3ccc4c(c3)OCO4)nccn12', 'Cc1nnc2c(N(C)CCc3ccc4c(c3)OCO4)nccn12'])\n",
      "ROW: 37\n",
      "('Clc1nnc2ccc(Br)cn12', 'CNCc1ccc2c(c1)OCO2')\n",
      "The reaction SMARTS is not applicable to the provided reactants.\n",
      "outcome of first combo []\n",
      "The reaction SMARTS is applicable and produces the expected product with Tanimoto similarity of 1.0.\n",
      "outcome of second combo ['CN(Cc1ccc2c(c1)OCO2)c1nnc2ccc(Br)cn12', 'CN(Cc1ccc2c(c1)OCO2)c1ccc2nnc(Cl)n2c1', 'CN(Cc1ccc2c(c1)OCO2)c1nnc2ccc(Br)cn12', 'CN(Cc1ccc2c(c1)OCO2)c1ccc2nnc(Cl)n2c1']\n",
      "(1, ['CN(Cc1ccc2c(c1)OCO2)c1nnc2ccc(Br)cn12', 'CN(Cc1ccc2c(c1)OCO2)c1ccc2nnc(Cl)n2c1', 'CN(Cc1ccc2c(c1)OCO2)c1nnc2ccc(Br)cn12', 'CN(Cc1ccc2c(c1)OCO2)c1ccc2nnc(Cl)n2c1'])\n",
      "ROW: 43\n",
      "('Cc1nnc2c(Cl)nccn12', 'CC(N)C(=O)N1CCCCC1')\n",
      "The reaction SMARTS is not applicable to the provided reactants.\n",
      "outcome of first combo []\n",
      "The reaction SMARTS is applicable and produces the expected product with Tanimoto similarity of 1.0.\n",
      "outcome of second combo ['Cc1nnc2c(NC(C)C(=O)N3CCCCC3)nccn12']\n",
      "(1, ['Cc1nnc2c(NC(C)C(=O)N3CCCCC3)nccn12'])\n",
      "ROW: 49\n",
      "('c1cc2c(cc1C1CCCN1)OCO2', 'CC(=O)c1ccc(F)nc1')\n",
      "The reaction SMARTS is applicable and produces the expected product with Tanimoto similarity of 1.0.\n",
      "outcome of first combo ['CC(=O)c1ccc(N2CCCC2c2ccc3c(c2)OCO3)nc1', 'CC(=O)c1ccc(N2CCCC2c2ccc3c(c2)OCO3)nc1']\n",
      "The reaction SMARTS is not applicable to the provided reactants.\n",
      "outcome of second combo []\n",
      "(1, ['CC(=O)c1ccc(N2CCCC2c2ccc3c(c2)OCO3)nc1', 'CC(=O)c1ccc(N2CCCC2c2ccc3c(c2)OCO3)nc1'])\n",
      "ROW: 102\n",
      "('c1cc2c(cc1C1CCCN1)OCO2', 'O=C(O)c1ccc(F)nc1')\n",
      "The reaction SMARTS is applicable and produces the expected product with Tanimoto similarity of 1.0.\n",
      "outcome of first combo ['O=C(O)c1ccc(N2CCCC2c2ccc3c(c2)OCO3)nc1', 'O=C(O)c1ccc(N2CCCC2c2ccc3c(c2)OCO3)nc1']\n",
      "The reaction SMARTS is not applicable to the provided reactants.\n",
      "outcome of second combo []\n",
      "(1, ['O=C(O)c1ccc(N2CCCC2c2ccc3c(c2)OCO3)nc1', 'O=C(O)c1ccc(N2CCCC2c2ccc3c(c2)OCO3)nc1'])\n",
      "ROW: 107\n",
      "('O=C(NCc1ccc2c(c1)OCO2)C1CCCNC1', 'Clc1nnc2ccccn12')\n",
      "The reaction SMARTS is applicable and produces the expected product with Tanimoto similarity of 1.0.\n",
      "outcome of first combo ['O=C(C1CCCNC1)N(Cc1ccc2c(c1)OCO2)c1nnc2ccccn12', 'O=C(C1CCCNC1)N(Cc1ccc2c(c1)OCO2)c1nnc2ccccn12', 'O=C(NCc1ccc2c(c1)OCO2)C1CCCN(c2nnc3ccccn23)C1', 'O=C(NCc1ccc2c(c1)OCO2)C1CCCN(c2nnc3ccccn23)C1']\n",
      "The reaction SMARTS is not applicable to the provided reactants.\n",
      "outcome of second combo []\n",
      "(1, ['O=C(C1CCCNC1)N(Cc1ccc2c(c1)OCO2)c1nnc2ccccn12', 'O=C(C1CCCNC1)N(Cc1ccc2c(c1)OCO2)c1nnc2ccccn12', 'O=C(NCc1ccc2c(c1)OCO2)C1CCCN(c2nnc3ccccn23)C1', 'O=C(NCc1ccc2c(c1)OCO2)C1CCCN(c2nnc3ccccn23)C1'])\n",
      "ROW: 115\n",
      "('NCc1ccc2c(c1)OCO2', 'Clc1ccnc(-c2ccccn2)n1')\n",
      "The reaction SMARTS is applicable and produces the expected product with Tanimoto similarity of 1.0.\n",
      "outcome of first combo ['c1ccc(-c2nccc(NCc3ccc4c(c3)OCO4)n2)nc1']\n",
      "The reaction SMARTS is not applicable to the provided reactants.\n",
      "outcome of second combo []\n",
      "(1, ['c1ccc(-c2nccc(NCc3ccc4c(c3)OCO4)n2)nc1'])\n",
      "ROW: 120\n",
      "('NCc1ccc2c(c1)OCO2', 'Brc1nn2cc(-c3cccnc3)nc2s1')\n",
      "The reaction SMARTS is applicable and produces the expected product with Tanimoto similarity of 1.0.\n",
      "outcome of first combo ['c1cncc(-c2cn3nc(NCc4ccc5c(c4)OCO5)sc3n2)c1']\n",
      "The reaction SMARTS is not applicable to the provided reactants.\n",
      "outcome of second combo []\n",
      "(1, ['c1cncc(-c2cn3nc(NCc4ccc5c(c4)OCO5)sc3n2)c1'])\n",
      "ROW: 131\n",
      "('CCNC(=O)c1ccc(Cl)nc1', 'C1CCN(C2CCNC2)CC1')\n",
      "The reaction SMARTS is not applicable to the provided reactants.\n",
      "outcome of first combo []\n",
      "The reaction SMARTS is applicable and produces the expected product with Tanimoto similarity of 1.0.\n",
      "outcome of second combo ['CCNC(=O)c1ccc(N2CCC(N3CCCCC3)C2)nc1', 'CCNC(=O)c1ccc(N2CCC(N3CCCCC3)C2)nc1']\n",
      "(1, ['CCNC(=O)c1ccc(N2CCC(N3CCCCC3)C2)nc1', 'CCNC(=O)c1ccc(N2CCC(N3CCCCC3)C2)nc1'])\n",
      "ROW: 141\n",
      "('NCc1ccc2c(c1)OCO2', 'Clc1nc(-c2ccccn2)nc2c1CCC2')\n",
      "The reaction SMARTS is applicable and produces the expected product with Tanimoto similarity of 1.0.\n",
      "outcome of first combo ['c1ccc(-c2nc3c(c(NCc4ccc5c(c4)OCO5)n2)CCC3)nc1']\n",
      "The reaction SMARTS is not applicable to the provided reactants.\n",
      "outcome of second combo []\n",
      "(1, ['c1ccc(-c2nc3c(c(NCc4ccc5c(c4)OCO5)n2)CCC3)nc1'])\n",
      "ROW: 220\n",
      "('c1cc2c(cc1C1CCCN1)OCO2', 'CN(C)S(=O)(=O)c1ccc(Cl)nc1')\n",
      "The reaction SMARTS is applicable and produces the expected product with Tanimoto similarity of 1.0.\n",
      "outcome of first combo ['CN(C)S(=O)(=O)c1ccc(N2CCCC2c2ccc3c(c2)OCO3)nc1', 'CN(C)S(=O)(=O)c1ccc(N2CCCC2c2ccc3c(c2)OCO3)nc1']\n",
      "The reaction SMARTS is not applicable to the provided reactants.\n",
      "outcome of second combo []\n",
      "(1, ['CN(C)S(=O)(=O)c1ccc(N2CCCC2c2ccc3c(c2)OCO3)nc1', 'CN(C)S(=O)(=O)c1ccc(N2CCCC2c2ccc3c(c2)OCO3)nc1'])\n",
      "ROW: 301\n",
      "('c1cc2c(cc1C1CCCN1)OCO2', 'CCNS(=O)(=O)c1ccc(Cl)nc1')\n",
      "The reaction SMARTS is applicable and produces the expected product with Tanimoto similarity of 1.0.\n",
      "outcome of first combo ['CCNS(=O)(=O)c1ccc(N2CCCC2c2ccc3c(c2)OCO3)nc1', 'CCNS(=O)(=O)c1ccc(N2CCCC2c2ccc3c(c2)OCO3)nc1']\n",
      "The reaction SMARTS is not applicable to the provided reactants.\n",
      "outcome of second combo []\n",
      "(1, ['CCNS(=O)(=O)c1ccc(N2CCCC2c2ccc3c(c2)OCO3)nc1', 'CCNS(=O)(=O)c1ccc(N2CCCC2c2ccc3c(c2)OCO3)nc1'])\n",
      "ROW: 332\n",
      "('Clc1nnc2ccccn12', 'CC(C)c1cc(CN)no1')\n",
      "The reaction SMARTS is not applicable to the provided reactants.\n",
      "outcome of first combo []\n",
      "The reaction SMARTS is applicable and produces the expected product with Tanimoto similarity of 1.0.\n",
      "outcome of second combo ['CC(C)c1cc(CNc2nnc3ccccn23)no1']\n",
      "(1, ['CC(C)c1cc(CNc2nnc3ccccn23)no1'])\n",
      "ROW: 349\n",
      "('Cc1nnc2c(Cl)nccn12', 'CNCc1ccc2c(c1)OCCO2')\n",
      "The reaction SMARTS is not applicable to the provided reactants.\n",
      "outcome of first combo []\n",
      "The reaction SMARTS is applicable and produces the expected product with Tanimoto similarity of 1.0.\n",
      "outcome of second combo ['Cc1nnc2c(N(C)Cc3ccc4c(c3)OCCO4)nccn12', 'Cc1nnc2c(N(C)Cc3ccc4c(c3)OCCO4)nccn12']\n",
      "(1, ['Cc1nnc2c(N(C)Cc3ccc4c(c3)OCCO4)nccn12', 'Cc1nnc2c(N(C)Cc3ccc4c(c3)OCCO4)nccn12'])\n",
      "ROW: 358\n",
      "('Clc1nccn2cnnc12', 'CCNS(=O)(=O)c1cccc(CN)c1')\n",
      "The reaction SMARTS is not applicable to the provided reactants.\n",
      "outcome of first combo []\n",
      "The reaction SMARTS is applicable and produces the expected product with Tanimoto similarity of 1.0.\n",
      "outcome of second combo ['CCN(c1nccn2cnnc12)S(=O)(=O)c1cccc(CN)c1', 'CCNS(=O)(=O)c1cccc(CNc2nccn3cnnc23)c1']\n",
      "(1, ['CCN(c1nccn2cnnc12)S(=O)(=O)c1cccc(CN)c1', 'CCNS(=O)(=O)c1cccc(CNc2nccn3cnnc23)c1'])\n",
      "ROW: 396\n",
      "('NCCc1ccc2c(c1)OCCO2', 'Clc1nccn2cnnc12')\n",
      "The reaction SMARTS is applicable and produces the expected product with Tanimoto similarity of 1.0.\n",
      "outcome of first combo ['c1cn2cnnc2c(NCCc2ccc3c(c2)OCCO3)n1']\n",
      "The reaction SMARTS is not applicable to the provided reactants.\n",
      "outcome of second combo []\n",
      "(1, ['c1cn2cnnc2c(NCCc2ccc3c(c2)OCCO3)n1'])\n",
      "ROW: 405\n",
      "('NC(c1ccc2c(c1)OCCO2)C1CC1', 'Clc1nccn2cnnc12')\n",
      "The reaction SMARTS is applicable and produces the expected product with Tanimoto similarity of 1.0.\n",
      "outcome of first combo ['c1cn2cnnc2c(NC(c2ccc3c(c2)OCCO3)C2CC2)n1']\n",
      "The reaction SMARTS is not applicable to the provided reactants.\n",
      "outcome of second combo []\n",
      "(1, ['c1cn2cnnc2c(NC(c2ccc3c(c2)OCCO3)C2CC2)n1'])\n",
      "ROW: 430\n",
      "('Nc1ccc2c(c1)OCCO2', 'Cc1nnc2c(Cl)nccn12')\n",
      "The reaction SMARTS is applicable and produces the expected product with Tanimoto similarity of 1.0.\n",
      "outcome of first combo ['Cc1nnc2c(Nc3ccc4c(c3)OCCO4)nccn12']\n",
      "The reaction SMARTS is not applicable to the provided reactants.\n",
      "outcome of second combo []\n",
      "(1, ['Cc1nnc2c(Nc3ccc4c(c3)OCCO4)nccn12'])\n",
      "ROW: 442\n",
      "('Clc1cncc2nncn12', 'CS(=O)(=O)NCC1CCNC1')\n",
      "The reaction SMARTS is not applicable to the provided reactants.\n",
      "outcome of first combo []\n",
      "The reaction SMARTS is applicable and produces the expected product with Tanimoto similarity of 1.0.\n",
      "outcome of second combo ['CS(=O)(=O)N(CC1CCNC1)c1cncc2nncn12', 'CS(=O)(=O)NCC1CCN(c2cncc3nncn23)C1', 'CS(=O)(=O)NCC1CCN(c2cncc3nncn23)C1']\n",
      "(1, ['CS(=O)(=O)N(CC1CCNC1)c1cncc2nncn12', 'CS(=O)(=O)NCC1CCN(c2cncc3nncn23)C1', 'CS(=O)(=O)NCC1CCN(c2cncc3nncn23)C1'])\n",
      "ROW: 458\n",
      "('NC(Cc1ccccn1)c1ccccn1', 'Clc1cncc2nncn12')\n",
      "The reaction SMARTS is applicable and produces the expected product with Tanimoto similarity of 1.0.\n",
      "outcome of first combo ['c1ccc(CC(Nc2cncc3nncn23)c2ccccn2)nc1']\n",
      "The reaction SMARTS is not applicable to the provided reactants.\n",
      "outcome of second combo []\n",
      "(1, ['c1ccc(CC(Nc2cncc3nncn23)c2ccccn2)nc1'])\n",
      "ROW: 459\n",
      "('O=C(CC1CCCC1)NC1CCNCC1', 'Clc1nccn2cnnc12')\n",
      "The reaction SMARTS is applicable and produces the expected product with Tanimoto similarity of 1.0.\n",
      "outcome of first combo ['O=C(CC1CCCC1)N(c1nccn2cnnc12)C1CCNCC1', 'O=C(CC1CCCC1)N(c1nccn2cnnc12)C1CCNCC1', 'O=C(CC1CCCC1)NC1CCN(c2nccn3cnnc23)CC1', 'O=C(CC1CCCC1)NC1CCN(c2nccn3cnnc23)CC1']\n",
      "The reaction SMARTS is not applicable to the provided reactants.\n",
      "outcome of second combo []\n",
      "(1, ['O=C(CC1CCCC1)N(c1nccn2cnnc12)C1CCNCC1', 'O=C(CC1CCCC1)N(c1nccn2cnnc12)C1CCNCC1', 'O=C(CC1CCCC1)NC1CCN(c2nccn3cnnc23)CC1', 'O=C(CC1CCCC1)NC1CCN(c2nccn3cnnc23)CC1'])\n",
      "ROW: 464\n",
      "('NC(C1CCC1)C1CCC1', 'Clc1nccn2cnnc12')\n",
      "The reaction SMARTS is applicable and produces the expected product with Tanimoto similarity of 1.0.\n",
      "outcome of first combo ['c1cn2cnnc2c(NC(C2CCC2)C2CCC2)n1']\n",
      "The reaction SMARTS is not applicable to the provided reactants.\n",
      "outcome of second combo []\n",
      "(1, ['c1cn2cnnc2c(NC(C2CCC2)C2CCC2)n1'])\n",
      "ROW: 503\n",
      "('c1nc2c(n1C1CCCCC1)CCNC2', 'Clc1nccn2cnnc12')\n",
      "The reaction SMARTS is applicable and produces the expected product with Tanimoto similarity of 1.0.\n",
      "outcome of first combo ['c1cn2cnnc2c(N2CCc3c(ncn3C3CCCCC3)C2)n1', 'c1cn2cnnc2c(N2CCc3c(ncn3C3CCCCC3)C2)n1']\n",
      "The reaction SMARTS is not applicable to the provided reactants.\n",
      "outcome of second combo []\n",
      "(1, ['c1cn2cnnc2c(N2CCc3c(ncn3C3CCCCC3)C2)n1', 'c1cn2cnnc2c(N2CCc3c(ncn3C3CCCCC3)C2)n1'])\n",
      "ROW: 517\n",
      "('NCc1cn(C2CCC2)nn1', 'Clc1nccn2cnnc12')\n",
      "The reaction SMARTS is applicable and produces the expected product with Tanimoto similarity of 1.0.\n",
      "outcome of first combo ['c1cn2cnnc2c(NCc2cn(C3CCC3)nn2)n1']\n",
      "The reaction SMARTS is not applicable to the provided reactants.\n",
      "outcome of second combo []\n",
      "(1, ['c1cn2cnnc2c(NCc2cn(C3CCC3)nn2)n1'])\n"
     ]
    }
   ],
   "source": [
    "name_to_check = 'N-nucleophilic_aromatic_substitution'\n",
    "os.chdir('/Users/kate_fieseler/PycharmProjects/retrievesynthesizable/D68EV3CPROA/routes_data')\n",
    "df = pd.read_csv('D68EV3CPROA_enumeration_oct10_first_route_1_step_OUTPUT.csv', index_col=0)\n",
    "#df = pd.read_csv('D68EV3CPROA_enumeration_oct10_first_route_1_step.csv')\n",
    "#reaction_smarts[name_to_check] = \"[Cl,Br,I]-[#6:1].[#6;+0:2]-[OH;D1;+0:3]>>[#6X4:1]-[O;H0;D2;+0:3]-[#6X4+0:2]\"\n",
    "# with open('/Users/kate_fieseler/PycharmProjects/retrievesynthesizable/D68EV3CPROA/RXN_SMARTS_CONSTANTS.json', 'w') as f:\n",
    "#     json.dump(reaction_smarts, f)\n",
    "    \n",
    "check_smarts(df, name_to_check)"
   ],
   "metadata": {
    "collapsed": false,
    "ExecuteTime": {
     "end_time": "2023-11-29T17:43:41.969020Z",
     "start_time": "2023-11-29T17:43:41.729830Z"
    }
   },
   "id": "b4629ade3b4ea8b2"
  },
  {
   "cell_type": "code",
   "execution_count": 69,
   "outputs": [
    {
     "data": {
      "text/plain": "{'Amidation': '[#6:1](=[#8:2])-[#8;H1].[#7&X3;!$(NC=*);!$(NS):3]>>[#6:1](=[#8:2])-[#7X3:3]',\n 'Amide_schotten-baumann': '[#7;H2,H1:3].[#6:1](=[#8:2])-[#17]>>[#6:1](=[#8:2])-[#7:3]',\n 'Reductive_amination': '[#6:2](=[#8])(-[#6:1]).[#7;H2,H1:3]>>[#6:2](-[#6:1])-[#7:3]',\n 'N-nucleophilic_aromatic_substitution': '[#6:3]-[#7;H3,H2,H1:2].[c:1]-[F,Cl,Br,I]>>[#6:3]-[#7:2]-[c:1]',\n 'Sp2-sp2_Suzuki_coupling': '[#6X3:1]-[F,Cl,Br,I].[#6X3:2]-[B](-[O])(-[O])>>[#6X3:1]-[#6X3:2]',\n 'Formation_of_urea_from_two_amines': '[N&X3;H2,H1;!$(NC=O);!$(NS):3].[N&X3;H2,H1;!$(NC=O);!$(NS):4]>>[#7&X3:3]-[#6](=[#8])-[#7&X3:4]',\n 'Sulfonamide_Schotten-Baumann_with_amine_(intermolecular)': '[#16X4:1](=[OX1:2])(=[OX1:3])([#6,#7:4])[#17,#9].[#7&X3;H2,H1;!$(NC=O);!$(NS):5]>>[#16X4:1](=[OX1:2])(=[OX1:3])([#6,#7:4])-[#7:5]',\n 'Buchwald-Hartwig_amination': '[ar:1]-[Cl,Br,I].[#7&X3;H2,H1;!$(NC=*);!$(NS);!$(NN):7]>>[ar:1]-[N:7]',\n 'Nucleophilic_substitution_with_thiol': '[Cl,Br]-[C;H2,H1;+0:1].[SH;+0:2]>>[S&X2;H0;D2;+0:2]-[C&X4;D2;+0:1]',\n 'Mitsunobu_reaction_with_amine_alcohol_and_thioalcohol': '[OH]-[#6&X4:1].[NX3;H2,H1;!$(NC=O):2]>>[NX3;!$(NC=O):2]-[#6&X4:1]',\n 'Amide_Schotten-Baumann_with_amine': '[#6:2]-[#6:1](=[OX1])[#17,#9].[#7&X3;H2,H1;!$(NC=*);!$(NS):3]>>[#6:2]-[#6:1](=[OX1])-[#7:3]',\n 'Ester_amidation': 'C-O-[C;H0;D3;+0:1](-[#6:2])=[O;D1;H0:3].[N;H1,H2;+0:5]>>[N&X3;+0:5]-[C;H0;D3;+0:1](-[#6:2])=[O;D1;H0:3]',\n 'Nucleophilic_substitution_with_amine': '[Cl,Br]-[C;H2,H1;+0:1].[#7&X3;H2,H1;+0:5]>>[#7&X3;+0:5]-[C&X4;+0:1]',\n 'N-Boc_deprotection': '[#7&X3:2]-[#6](=[#8])-[#8]-[#6](-[#6])(-[#6])(-[#6])>>[#7&X3:2]',\n 'Sp3-sp2_Suzuki_coupling': '[#6X3:1]-[F,Cl,Br,I].[CX4:2]-[B](-[O])(-[O])>>[#6X3:1]-[CX4:2]',\n 'Buchwald-Hartwig_amidation_with_amide-like_nucleophile': '[Cl,Br,I]-[ar:1].[CX3:7](-[NH2;D1;+0:8])=[O,S;D1;H0:9]>>[CX3:7](=[O,S;D1;H0:9])-[NH;D2;+0:8]-[ar:1]',\n 'Steglich_esterification': '[OH]-[C;H0;D3;+0:1]=[O;D1;H0:3].[CX4;+0:7]-[OH;D1;+0:9]>>[CX4:7]-[O;H0;D2;+0:9]-[C;H0;D3;+0:1]=[O;D1;H0:3]',\n 'N-Bn_deprotection': '[#7&X3:2]-[#6]-[cR1]1[cR1][cR1][cR1][cR1][cR1]1>>[#7&X3:2]',\n 'Williamson_ether_synthesis': '[Cl,Br,I]-[#6:1].[#6;+0:2]-[OH;D1;+0:3]>>[#6X4:1]-[O;H0;D2;+0:3]-[#6X4+0:2]',\n 'Epoxide_+_amine_coupling': '[#6:1]-[CH;D3;+0:2]1-[CH2;D2;+0:3]-[O;H0;D2;+0:4]-1.[N;H2,H1;+0:6]-[#6:7]>>[#6:1]-[C;+0:2](-[OH;D1;+0:4])-[C&X4;+0:3]-[N&X3;+0:6]-[#6:7]'}"
     },
     "execution_count": 69,
     "metadata": {},
     "output_type": "execute_result"
    }
   ],
   "source": [
    "reaction_smarts"
   ],
   "metadata": {
    "collapsed": false,
    "ExecuteTime": {
     "end_time": "2023-11-29T17:40:15.894880Z",
     "start_time": "2023-11-29T17:40:15.854844Z"
    }
   },
   "id": "91a84fccbf26d807"
  },
  {
   "cell_type": "code",
   "execution_count": 7,
   "outputs": [
    {
     "data": {
      "text/plain": "{'Formation of urea from two amines': [['[C:1]-[NH2;D1;+0:2].[NH2;D1;+0:3]-[C:4]-[c:5]1:[c:6]:[c;H0;D3;+0:7]2:[c;H0;D3;+0:8](:[cH;D2;+0:9]:[c:10]:1)-[O;H0;D2;+0:11]-[CH2;D2;+0:12]-[#8:13]-2>>[C:1]-[NH;D2;+0:2]-[C;H0;D3;+0:8](=[O;H0;D1;+0:11])-[NH;D2;+0:3]-[C:4]-[c:5]1:[c:6]:[c;H0;D3;+0:7]2:[c:14](:[cH;D2;+0:9]:[c:10]:1)-[#8:15]-[CH2;D2;+0:12]-[#8:13]-2',\n   2],\n  ['[C:1]-[NH2;D1;+0:2].[NH2;D1;+0:3]-[C:4]-[c:5]1:[c:6]:[c:7]:[c;H0;D3;+0:8]2:[c;H0;D3;+0:9](:[cH;D2;+0:10]:1)-[O;H0;D2;+0:11]-[CH2;D2;+0:12]-[#8:13]-2>>[C:1]-[NH;D2;+0:2]-[C;H0;D3;+0:9](=[O;H0;D1;+0:11])-[NH;D2;+0:3]-[C:4]-[c:5]1:[c:6]:[c:7]:[c;H0;D3;+0:8]2:[c:14](:[cH;D2;+0:10]:1)-[#8:15]-[CH2;D2;+0:12]-[#8:13]-2',\n   2],\n  ['[C:1]-[NH2;D1;+0:2].[NH2;D1;+0:3]-[C:4]-[c:5]1:[c:6]:[c;H0;D3;+0:7]2:[c;H0;D3;+0:8](:[cH;D2;+0:9]:[c:10]:1)-[O;H0;D2;+0:11]-[CH2;D2;+0:12]-[#8:13]-2>>[C:1]-[NH;D2;+0:2]-[C;H0;D3;+0:8](=[O;H0;D1;+0:11])-[NH;D2;+0:3]-[C:4]-[c:5]1:[c:6]:[c;H0;D3;+0:7]2:[c:14](:[cH;D2;+0:9]:[c:10]:1)-[#8:15]-[CH2;D2;+0:12]-[#8:13]-2',\n   2]],\n 'Sulfonamide Schotten-Baumann with amine (intermolecular)': [['Cl-[S;H0;D4;+0:1](-[C:2])(=[O;D1;H0:3])=[O;D1;H0:4].[C:5]-[NH2;D1;+0:6]>>[C:5]-[NH;D2;+0:6]-[S;H0;D4;+0:1](-[C:2])(=[O;D1;H0:3])=[O;D1;H0:4]',\n   7],\n  ['Cl-[S;H0;D4;+0:1](-[C:2])(=[O;D1;H0:3])=[O;D1;H0:4].[C:5]-[NH2;D1;+0:6]>>[C:5]-[NH;D2;+0:6]-[S;H0;D4;+0:1](-[C:2])(=[O;D1;H0:3])=[O;D1;H0:4]',\n   7],\n  ['Cl-[S;H0;D4;+0:1](-[C:2])(=[O;D1;H0:3])=[O;D1;H0:4].[C:5]-[NH2;D1;+0:6]>>[C:5]-[NH;D2;+0:6]-[S;H0;D4;+0:1](-[C:2])(=[O;D1;H0:3])=[O;D1;H0:4]',\n   7],\n  ['Cl-[S;H0;D4;+0:1](-[C:2])(=[O;D1;H0:3])=[O;D1;H0:4].[C:5]-[NH2;D1;+0:6]>>[C:2]-[S;H0;D4;+0:1](=[O;D1;H0:3])(=[O;D1;H0:4])-[NH;D2;+0:6]-[C:5]',\n   7],\n  ['Cl-[S;H0;D4;+0:1](-[C:2])(=[O;D1;H0:3])=[O;D1;H0:4].[C:5]-[NH2;D1;+0:6]>>[C:2]-[S;H0;D4;+0:1](=[O;D1;H0:3])(=[O;D1;H0:4])-[NH;D2;+0:6]-[C:5]',\n   7],\n  ['Cl-[S;H0;D4;+0:1](-[C:2])(=[O;D1;H0:3])=[O;D1;H0:4].[C:5]-[NH2;D1;+0:6]>>[C:2]-[S;H0;D4;+0:1](=[O;D1;H0:3])(=[O;D1;H0:4])-[NH;D2;+0:6]-[C:5]',\n   7]],\n 'Epoxide + amine coupling': [['[C:1]-[#8:2]-[c:3]1:[c:4]:[c:5]:[c:6](-[CH;D3;+0:7]2-[CH2;D2;+0:8]-[O;H0;D2;+0:9]-2):[c:10]:[c:11]:1.[C:12]-[NH2;D1;+0:13]>>[C:1]-[#8:2]-[c:3]1:[c:4]:[c:5]:[c:6](-[C@@H;D3;+0:7](-[OH;D1;+0:9])-[CH2;D2;+0:8]-[NH;D2;+0:13]-[C:12]):[c:10]:[c:11]:1',\n   1],\n  ['[C:1]-[#8:2]-[c:3]1:[c:4]:[c:5]:[c:6](-[CH;D3;+0:7]2-[CH2;D2;+0:8]-[O;H0;D2;+0:9]-2):[c:10]:[c:11]:1.[C:12]-[NH2;D1;+0:13]>>[C:1]-[#8:2]-[c:3]1:[c:4]:[c:5]:[c:6](-[C@H;D3;+0:7](-[OH;D1;+0:9])-[CH2;D2;+0:8]-[NH;D2;+0:13]-[C:12]):[c:10]:[c:11]:1',\n   1],\n  ['[C:1]-[CH;D3;+0:2]1-[CH2;D2;+0:3]-[O;H0;D2;+0:4]-1.[C:5]-[NH;D2;+0:6]-[C:7]>>[C:1]-[C@H;D3;+0:2](-[OH;D1;+0:4])-[CH2;D2;+0:3]-[N;H0;D3;+0:6](-[C:5])-[C:7]',\n   1]],\n 'Amidation': [['O-[C;H0;D3;+0:1](=[O;D1;H0:2])-[c:3].[C:4]-[NH2;D1;+0:5]>>[C:4]-[NH;D2;+0:5]-[C;H0;D3;+0:1](=[O;D1;H0:2])-[c:3]',\n   36],\n  ['O-[C;H0;D3;+0:1](=[O;D1;H0:2])-[c:3].[C:4]-[NH2;D1;+0:5]>>[C:4]-[NH;D2;+0:5]-[C;H0;D3;+0:1](=[O;D1;H0:2])-[c:3]',\n   36],\n  ['O-[C;H0;D3;+0:1](=[O;D1;H0:2])-[c:3].[C:4]-[NH2;D1;+0:5]>>[C:4]-[NH;D2;+0:5]-[C;H0;D3;+0:1](=[O;D1;H0:2])-[c:3]',\n   36],\n  ['O-[C;H0;D3;+0:1](=[O;D1;H0:2])-[c:3].[C:4]-[NH2;D1;+0:5]>>[C:4]-[NH;D2;+0:5]-[C;H0;D3;+0:1](=[O;D1;H0:2])-[c:3]',\n   36],\n  ['O-[C;H0;D3;+0:1](=[O;D1;H0:2])-[c:3].[C:4]-[NH2;D1;+0:5]>>[C:4]-[NH;D2;+0:5]-[C;H0;D3;+0:1](=[O;D1;H0:2])-[c:3]',\n   36],\n  ['O-[C;H0;D3;+0:1](=[O;D1;H0:2])-[c:3].[C:4]-[NH2;D1;+0:5]>>[C:4]-[NH;D2;+0:5]-[C;H0;D3;+0:1](=[O;D1;H0:2])-[c:3]',\n   36],\n  ['O-[C;H0;D3;+0:1](=[O;D1;H0:2])-[c:3].[C:4]-[NH2;D1;+0:5]>>[C:4]-[NH;D2;+0:5]-[C;H0;D3;+0:1](=[O;D1;H0:2])-[c:3]',\n   36],\n  ['O-[C;H0;D3;+0:1](=[O;D1;H0:2])-[c:3].[C:4]-[NH2;D1;+0:5]>>[C:4]-[NH;D2;+0:5]-[C;H0;D3;+0:1](=[O;D1;H0:2])-[c:3]',\n   36],\n  ['O-[C;H0;D3;+0:1](=[O;D1;H0:2])-[c:3].[C:4]-[NH2;D1;+0:5]>>[C:4]-[NH;D2;+0:5]-[C;H0;D3;+0:1](=[O;D1;H0:2])-[c:3]',\n   36],\n  ['O-[C;H0;D3;+0:1](=[O;D1;H0:2])-[c:3].[C:4]-[NH2;D1;+0:5]>>[C:4]-[NH;D2;+0:5]-[C;H0;D3;+0:1](=[O;D1;H0:2])-[c:3]',\n   36],\n  ['O-[C;H0;D3;+0:1](=[O;D1;H0:2])-[c:3].[C:4]-[NH2;D1;+0:5]>>[C:4]-[NH;D2;+0:5]-[C;H0;D3;+0:1](=[O;D1;H0:2])-[c:3]',\n   36],\n  ['O-[C;H0;D3;+0:1](=[O;D1;H0:2])-[c:3].[C:4]-[NH2;D1;+0:5]>>[C:4]-[NH;D2;+0:5]-[C;H0;D3;+0:1](=[O;D1;H0:2])-[c:3]',\n   36],\n  ['O-[C;H0;D3;+0:1](=[O;D1;H0:2])-[c:3].[C:4]-[NH2;D1;+0:5]>>[C:4]-[NH;D2;+0:5]-[C;H0;D3;+0:1](=[O;D1;H0:2])-[c:3]',\n   36],\n  ['O-[C;H0;D3;+0:1](=[O;D1;H0:2])-[c:3].[C:4]-[NH2;D1;+0:5]>>[C:4]-[NH;D2;+0:5]-[C;H0;D3;+0:1](=[O;D1;H0:2])-[c:3]',\n   36]],\n 'Reductive amination': [['O=[CH;D2;+0:1]-[c:2].[#7;a:3]:[c:4](-[NH2;D1;+0:5]):[c:6](:[#7;a:7]):[#7;a:8]>>[#7;a:3]:[c:4](-[NH;D2;+0:5]-[CH2;D2;+0:1]-[c:2]):[c:6](:[#7;a:7]):[#7;a:8]',\n   1],\n  ['O=[CH;D2;+0:1]-[c:2](:[#7;a:3]):[#7;a:4]:[#7;a:5].[C:6]-[NH2;D1;+0:7]>>[#7;a:3]:[c:2](:[#7;a:4]:[#7;a:5])-[CH2;D2;+0:1]-[NH;D2;+0:7]-[C:6]',\n   1],\n  ['O=[C;H0;D3;+0:1](-[C:2]-[C:3](=[O;D1;H0:4])-[#8:5]-[C:6]-[C;D1;H3:7])-[c:8]:[#7;a:9]:[#8;a:10].[C:11]-[NH;D2;+0:12]-[C:13]>>[#8;a:10]:[#7;a:9]:[c:8]-[C@H;D3;+0:1](-[C:2]-[C:3](=[O;D1;H0:4])-[#8:5]-[C:6]-[C;D1;H3:7])-[N;H0;D3;+0:12](-[C:11])-[C:13]',\n   1],\n  ['O=[CH;D2;+0:1]-[C:2].[C:3]-[NH;D2;+0:4]-[C:5]>>[C:3]-[N;H0;D3;+0:4](-[C:5])-[CH2;D2;+0:1]-[C:2]',\n   1],\n  ['O=[CH;D2;+0:1]-[C:2].[C:3]-[NH;D2;+0:4]-[C;D1;H3:5]>>[C:2]-[CH2;D2;+0:1]-[N;H0;D3;+0:4](-[C:3])-[C;D1;H3:5]',\n   1],\n  ['O=[CH;D2;+0:1]-[c:2](:[#7;a:3]):[#7;a:4]:[#7;a:5].[C:6]-[NH2;D1;+0:7]>>[#7;a:5]:[#7;a:4]:[c:2](:[#7;a:3])-[CH2;D2;+0:1]-[NH;D2;+0:7]-[C:6]',\n   1]],\n 'Nucleophilic substitution with thiol': [['Br-[CH2;D2;+0:1]-[C:2]=[O;D1;H0:3].[#7;a:4]:[c:5](-[SH;D1;+0:6]):[#7;a:7]:[#7;a:8]>>[#7;a:4]:[c:5](:[#7;a:7]:[#7;a:8])-[S;H0;D2;+0:6]-[CH2;D2;+0:1]-[C:2]=[O;D1;H0:3]',\n   1],\n  ['Br-[CH2;D2;+0:1]-[C:2].[#7;a:3]:[#7;a:4]:[c:5](:[#7;a:6])-[SH;D1;+0:7]>>[#7;a:3]:[#7;a:4]:[c:5](:[#7;a:6])-[S;H0;D2;+0:7]-[CH2;D2;+0:1]-[C:2]',\n   1],\n  ['Br-[CH2;D2;+0:1]-[C:2]=[O;D1;H0:3].[#7;a:4]:[c:5](-[SH;D1;+0:6]):[#7;a:7]:[#7;a:8]>>[#7;a:4]:[c:5](:[#7;a:7]:[#7;a:8])-[S;H0;D2;+0:6]-[CH2;D2;+0:1]-[C:2]=[O;D1;H0:3]',\n   1],\n  ['Cl-[CH2;D2;+0:1]-[C:2](-[#7:3])=[O;D1;H0:4].[#7;a:5]:[#7;a:6]:[c:7](:[#7;a:8])-[SH;D1;+0:9]>>[#7:3]-[C:2](=[O;D1;H0:4])-[CH2;D2;+0:1]-[S;H0;D2;+0:9]-[c:7](:[#7;a:8]):[#7;a:6]:[#7;a:5]',\n   1],\n  ['Cl-[CH2;D2;+0:1]-[C:2]=[O;D1;H0:3].[#7;a:4]:[c:5](-[SH;D1;+0:6]):[#7;a:7]:[#7;a:8]>>[#7;a:4]:[c:5](:[#7;a:7]:[#7;a:8])-[S;H0;D2;+0:6]-[CH2;D2;+0:1]-[C:2]=[O;D1;H0:3]',\n   1],\n  ['Cl-[CH2;D2;+0:1]-[C:2]-[C:3](-[#7:4])=[O;D1;H0:5].[#7;a:6]:[#7;a:7]:[c:8](:[#7;a:9])-[SH;D1;+0:10]>>[#7:4]-[C:3](=[O;D1;H0:5])-[C:2]-[CH2;D2;+0:1]-[S;H0;D2;+0:10]-[c:8](:[#7;a:9]):[#7;a:7]:[#7;a:6]',\n   1]],\n 'N-nucleophilic aromatic substitution': [['Cl-[c;H0;D3;+0:1](:[#7;a:2]):[c:3](:[#7;a:4]):[#7;a:5]:[#7;a:6].[C:7]-[NH;D2;+0:8]-[C;D1;H3:9]>>[#7;a:2]:[c;H0;D3;+0:1](-[N;H0;D3;+0:8](-[C:7])-[C;D1;H3:9]):[c:3](:[#7;a:4]):[#7;a:5]:[#7;a:6]',\n   2],\n  ['Cl-[c;H0;D3;+0:1](:[#7;a:2]):[c:3].[C:4]-[NH;D2;+0:5]-[C:6]>>[#7;a:2]:[c;H0;D3;+0:1](:[c:3])-[N;H0;D3;+0:5](-[C:4])-[C:6]',\n   2],\n  ['Cl-[c;H0;D3;+0:1](:[#7;a:2]):[c:3](:[#7;a:4]):[#7;a:5]:[#7;a:6].[C:7]-[NH;D2;+0:8]-[C:9]>>[#7;a:2]:[c;H0;D3;+0:1](-[N;H0;D3;+0:8](-[C:7])-[C:9]):[c:3](:[#7;a:4]):[#7;a:5]:[#7;a:6]',\n   2],\n  ['Cl-[c;H0;D3;+0:1](:[#7;a:2]):[c:3](:[#7;a:4]):[#7;a:5]:[#7;a:6].[C:7]-[NH;D2;+0:8]-[C:9]>>[#7;a:2]:[c;H0;D3;+0:1](-[N;H0;D3;+0:8](-[C:7])-[C:9]):[c:3](:[#7;a:4]):[#7;a:5]:[#7;a:6]',\n   2]],\n 'Mitsunobu reaction with amine alcohol and thioalcohol': [['O-[CH2;D2;+0:1]-[C:2].[#7;a:3]:[c:4]-[NH2;D1;+0:5]>>[#7;a:3]:[c:4]-[NH;D2;+0:5]-[CH2;D2;+0:1]-[C:2]',\n   2]],\n 'Ester amidation': [['C-O-[C;H0;D3;+0:1](=[O;D1;H0:2])-[c:3]:[#7;a:4]:[#8;a:5].[C:6]-[NH2;D1;+0:7]>>[#8;a:5]:[#7;a:4]:[c:3]-[C;H0;D3;+0:1](=[O;D1;H0:2])-[NH;D2;+0:7]-[C:6]',\n   1],\n  ['C-C-O-[C;H0;D3;+0:1](-[C:2])=[O;D1;H0:3].[C:4]-[NH2;D1;+0:5]>>[C:4]-[NH;D2;+0:5]-[C;H0;D3;+0:1](-[C:2])=[O;D1;H0:3]',\n   1],\n  ['C-O-[C;H0;D3;+0:1](=[O;D1;H0:2])-[c:3]:[#7;a:4]:[#8;a:5].[C:6]-[NH2;D1;+0:7]>>[#8;a:5]:[#7;a:4]:[c:3]-[C;H0;D3;+0:1](=[O;D1;H0:2])-[NH;D2;+0:7]-[C:6]',\n   1],\n  ['C-C-O-[C;H0;D3;+0:1](-[C:2])=[O;D1;H0:3].[C:4]-[NH2;D1;+0:5]>>[C:4]-[NH;D2;+0:5]-[C;H0;D3;+0:1](-[C:2])=[O;D1;H0:3]',\n   1],\n  ['C-C-O-[C;H0;D3;+0:1](-[C:2])=[O;D1;H0:3].[C:4]-[CH;D3;+0:5](-[C:6])-[NH2;D1;+0:7]>>[C:4]-[C@@H;D3;+0:5](-[C:6])-[NH;D2;+0:7]-[C;H0;D3;+0:1](-[C:2])=[O;D1;H0:3]',\n   1],\n  ['C-C-O-[C;H0;D3;+0:1](-[C:2])=[O;D1;H0:3].[C:4]-[CH;D3;+0:5](-[C:6])-[NH2;D1;+0:7]>>[C:4]-[C@@H;D3;+0:5](-[C:6])-[NH;D2;+0:7]-[C;H0;D3;+0:1](-[C:2])=[O;D1;H0:3]',\n   1]],\n 'Benzylic deprotonation-alkylation (pyridine)': [['I-[CH3;D1;+0:1].[#7;a:2]:[c:3](-[CH3;D1;+0:4]):[#7;a:5]:[#7;a:6]>>[#7;a:2]:[c:3](:[#7;a:5]:[#7;a:6])-[CH2;D2;+0:4]-[CH3;D1;+0:1]',\n   0],\n  ['I-[CH3;D1;+0:1].[#7;a:2]:[c:3](-[CH3;D1;+0:4]):[#7;a:5]:[#7;a:6]>>[#7;a:2]:[c:3](:[#7;a:5]:[#7;a:6])-[CH2;D2;+0:4]-[CH3;D1;+0:1]',\n   0]],\n 'Sp2-sp2 Suzuki coupling': [['Br-[c;H0;D3;+0:1]1:[#7;a:2]:[#8;a:3]:[c:4]:[#7;a:5]:1.O-B(-O)-[c;H0;D3;+0:6](:[c:7]):[c:8]:[#7;a:9]>>[#7;a:9]:[c:8]:[c;H0;D3;+0:6](:[c:7])-[c;H0;D3;+0:1]1:[#7;a:2]:[#8;a:3]:[c:4]:[#7;a:5]:1',\n   0],\n  ['C-C1(-C)-O-B(-[c;H0;D3;+0:1]2:[c:2]:[c:3]:[#7;a:4]:[c:5](:[#7;a:6]):[c:7]:2)-O-C-1(-C)-C.I-[c;H0;D3;+0:8]1:[#7;a:9]:[#8;a:10]:[c:11]:[#7;a:12]:1>>[#7;a:6]:[c:5]1:[#7;a:4]:[c:3]:[c:2]:[c;H0;D3;+0:1](-[c;H0;D3;+0:8]2:[#7;a:9]:[#8;a:10]:[c:11]:[#7;a:12]:2):[c:7]:1',\n   0]],\n 'Minisci reaction with carboxylic acid (intermolecular)': [['O-C(=O)-[CH3;D1;+0:1].[#7;a:2]1:[c:3]:[#7;a:4]:[#7;a:5]:[cH;D2;+0:6]:1>>[CH3;D1;+0:1]-[c;H0;D3;+0:6]1:[#7;a:2]:[c:3]:[#7;a:4]:[#7;a:5]:1',\n   0],\n  ['O-C(=O)-[CH2;D2;+0:1]-[C;D1;H3:2].[#7;a:3]1:[c:4]:[#7;a:5]:[#7;a:6]:[cH;D2;+0:7]:1>>[C;D1;H3:2]-[CH2;D2;+0:1]-[c;H0;D3;+0:7]1:[#7;a:3]:[c:4]:[#7;a:5]:[#7;a:6]:1',\n   0],\n  ['O-C(=O)-[CH3;D1;+0:1].[#7;a:2]1:[#7;a:3]:[cH;D2;+0:4]:[#7;a:5]:[c:6]:1>>[CH3;D1;+0:1]-[c;H0;D3;+0:4]1:[#7;a:3]:[#7;a:2]:[c:6]:[#7;a:5]:1',\n   0],\n  ['O-C(=O)-[CH2;D2;+0:1]-[#7;a:2].[#16;a:3]:[c:4]1:[#7;a:5]:[#7;a:6]:[cH;D2;+0:7]:[#7;a:8]:1:[#7;a:9]>>[#16;a:3]:[c:4]1:[#7;a:5]:[#7;a:6]:[c;H0;D3;+0:7](-[CH2;D2;+0:1]-[#7;a:2]):[#7;a:8]:1:[#7;a:9]',\n   0],\n  ['O-C(=O)-[CH2;D2;+0:1]-[#7:2]-[C:3](=[O;D1;H0:4])-[#8:5]-[C:6](-[C;D1;H3:7])(-[C;D1;H3:8])-[C;D1;H3:9].[#7;a:10]:[#7;a:11]:[cH;D2;+0:12]:[#7;a:13]>>[#7;a:10]:[#7;a:11]:[c;H0;D3;+0:12](:[#7;a:13])-[CH2;D2;+0:1]-[#7:2]-[C:3](=[O;D1;H0:4])-[#8:5]-[C:6](-[C;D1;H3:7])(-[C;D1;H3:8])-[C;D1;H3:9]',\n   0],\n  ['O-C(=O)-[CH3;D1;+0:1].[#7;a:2]1:[c:3]:[#7;a:4]:[#7;a:5]:[cH;D2;+0:6]:1>>[CH3;D1;+0:1]-[c;H0;D3;+0:6]1:[#7;a:2]:[c:3]:[#7;a:4]:[#7;a:5]:1',\n   0]],\n 'Isocyanate to urea': [['[C:1]-[#8:2]-[c:3]1:[c:4]:[c:5]:[c:6](-[C:7]-[N;H0;D2;+0:8]=[C;H0;D2;+0:9]=[O;D1;H0:10]):[c:11]:[c:12]:1.[C:13]-[CH;D3;+0:14](-[C;D1;H3:15])-[NH2;D1;+0:16]>>[C:1]-[#8:2]-[c:3]1:[c:4]:[c:5]:[c:6](-[C:7]-[NH;D2;+0:8]-[C;H0;D3;+0:9](=[O;D1;H0:10])-[NH;D2;+0:16]-[C@H;D3;+0:14](-[C:13])-[C;D1;H3:15]):[c:11]:[c:12]:1',\n   1]],\n 'Amide Schotten-Baumann with amine': [['Cl-[C;H0;D3;+0:1](-[C:2])=[O;D1;H0:3].[C:4]-[#8:5]-[c:6]1:[c:7]:[c:8]:[c:9](-[NH2;D1;+0:10]):[c:11]:[c:12]:1>>[C:2]-[C;H0;D3;+0:1](=[O;D1;H0:3])-[NH;D2;+0:10]-[c:9]1:[c:8]:[c:7]:[c:6](-[#8:5]-[C:4]):[c:12]:[c:11]:1',\n   2],\n  ['Cl-[C;H0;D3;+0:1](-[C:2])=[O;D1;H0:3].[C:4]-[#8:5]-[c:6]1:[c:7]:[c:8]:[c:9](-[NH2;D1;+0:10]):[c:11]:[c:12]:1>>[C:2]-[C;H0;D3;+0:1](=[O;D1;H0:3])-[NH;D2;+0:10]-[c:9]1:[c:8]:[c:7]:[c:6](-[#8:5]-[C:4]):[c:12]:[c:11]:1',\n   2]],\n 'Formation of sulfonamide from boronic and amine': [['[#7;a:1]:[c:2]:[c;H0;D3;+0:3](:[c:4])-B(-[OH;D1;+0:5])-[OH;D1;+0:6].[C:7]-[#8:8]-[c:9]1:[c:10]:[c:11]:[c:12](-[NH2;D1;+0:13]):[c:14]:[c:15]:1>>[#7;a:1]:[c:2]:[c;H0;D3;+0:3](:[c:4])-[#16:16](=[O;H0;D1;+0:5])(=[O;H0;D1;+0:6])-[NH;D2;+0:13]-[c:12]1:[c:11]:[c:10]:[c:9](-[#8:8]-[C:7]):[c:15]:[c:14]:1',\n   0],\n  ['[#7;a:1]:[c:2]:[c;H0;D3;+0:3](:[c:4])-B(-[OH;D1;+0:5])-[OH;D1;+0:6].[C:7]-[#8:8]-[c:9]1:[c:10]:[c:11]:[c:12](-[NH2;D1;+0:13]):[c:14]:[c:15]:1>>[#7;a:1]:[c:2]:[c;H0;D3;+0:3](:[c:4])-[#16:16](=[O;H0;D1;+0:5])(=[O;H0;D1;+0:6])-[NH;D2;+0:13]-[c:12]1:[c:11]:[c:10]:[c:9](-[#8:8]-[C:7]):[c:15]:[c:14]:1',\n   0]],\n 'Amide to amine reduction': [['O=[C;H0;D3;+0:1](-[#7:2])-[C;D1;H3:3]>>[#7:2]-[CH2;D2;+0:1]-[C;D1;H3:3]',\n   0],\n  ['O=[C;H0;D3;+0:1](-[#7:2])-[C;D1;H3:3]>>[#7:2]-[CH2;D2;+0:1]-[C;D1;H3:3]',\n   0],\n  ['O=[C;H0;D3;+0:1](-[#7:2])-[C;D1;H3:3]>>[#7:2]-[CH2;D2;+0:1]-[C;D1;H3:3]',\n   0]],\n '1,2,4-Oxadiazole synthesis (amidoxime + carboxylate) (tautomer)': [['O-[C;H0;D3;+0:1](=O)-[C:2].[C:3]-[#8:4]-[c:5]1:[c:6]:[c:7]:[c;H0;D3;+0:8](-[C;H0;D3;+0:9](=[NH;D1;+0:10])-[NH;D2;+0:11]-[OH;D1;+0:12]):[c:13]:[c:14]:1>>[C:3]-[#8:4]-[c:5]1:[c:6]:[c:7]:[c;H0;D3;+0:8](-[c;H0;D3;+0:9]2:[n;H0;D2;+0:11]:[o;H0;D2;+0:12]:[c;H0;D3;+0:1](-[C:2]):[n;H0;D2;+0:10]:2):[c:13]:[c:14]:1',\n   1]],\n 'Steglich esterification': [['O-[C;H0;D3;+0:1](-[C:2])=[O;D1;H0:3].[#7:4]-[C:5](=[O;D1;H0:6])-[CH;D3;+0:7](-[C;D1;H3:8])-[OH;D1;+0:9]>>[#7:4]-[C:5](=[O;D1;H0:6])-[C@@H;D3;+0:7](-[C;D1;H3:8])-[O;H0;D2;+0:9]-[C;H0;D3;+0:1](-[C:2])=[O;D1;H0:3]',\n   1],\n  ['O-[C;H0;D3;+0:1](=[O;D1;H0:2])-[c:3]:[c:4]:[#7;a:5].[#7:6]-[C:7](=[O;D1;H0:8])-[CH;D3;+0:9](-[C;D1;H3:10])-[OH;D1;+0:11]>>[#7:6]-[C:7](=[O;D1;H0:8])-[C@H;D3;+0:9](-[C;D1;H3:10])-[O;H0;D2;+0:11]-[C;H0;D3;+0:1](=[O;D1;H0:2])-[c:3]:[c:4]:[#7;a:5]',\n   1]],\n 'Buchwald-Hartwig amination with aromatic nh intermolecular': [['Br-[c;H0;D3;+0:1](:[c:2]):[c:3].[#7;a:4]1:[#7;a:5]:[c:6]:[nH;D2;+0:7]:[c:8]:1>>[c:2]:[c;H0;D3;+0:1](:[c:3])-[n;H0;D3;+0:7]1:[c:8]:[#7;a:4]:[#7;a:5]:[c:6]:1',\n   0]],\n 'Nucleophilic substitution with amine': [['Cl-[CH2;D2;+0:1]-[c:2](:[#7;a:3]):[#7;a:4]:[#7;a:5].[C:6]-[#8:7]-[c:8]1:[c:9]:[c:10]:[c:11](-[C:12]-[NH;D2;+0:13]-[C;D1;H3:14]):[c:15]:[c:16]:1>>[#7;a:5]:[#7;a:4]:[c:2](:[#7;a:3])-[CH2;D2;+0:1]-[N;H0;D3;+0:13](-[C;D1;H3:14])-[C:12]-[c:11]1:[c:10]:[c:9]:[c:8](-[#8:7]-[C:6]):[c:16]:[c:15]:1',\n   1],\n  ['Cl-[CH;D3;+0:1](-[C:2])-[C:3].[C:4]-[NH;D2;+0:5]-[C:6]>>[C:2]-[CH;D3;+0:1](-[C:3])-[N;H0;D3;+0:5](-[C:4])-[C:6]',\n   1],\n  ['Cl-[CH2;D2;+0:1]-[C:2].[#8;a:3]:[#7;a:4]:[c:5]-[NH2;D1;+0:6]>>[#8;a:3]:[#7;a:4]:[c:5]-[NH;D2;+0:6]-[CH2;D2;+0:1]-[C:2]',\n   1],\n  ['Cl-[CH2;D2;+0:1]-[c:2](:[#7;a:3]):[#7;a:4]:[#7;a:5].[C:6]-[NH;D2;+0:7]-[C:8]>>[#7;a:3]:[c:2](:[#7;a:4]:[#7;a:5])-[CH2;D2;+0:1]-[N;H0;D3;+0:7](-[C:6])-[C:8]',\n   1],\n  ['Cl-[CH2;D2;+0:1]-[C:2].[#7;a:3]:[nH;D2;+0:4]:[c:5]>>[#7;a:3]:[n;H0;D3;+0:4](:[c:5])-[CH2;D2;+0:1]-[C:2]',\n   1],\n  ['Cl-[CH2;D2;+0:1]-[C:2].[#7;a:3]:[nH;D2;+0:4]:[c:5]>>[#7;a:3]:[n;H0;D3;+0:4](:[c:5])-[CH2;D2;+0:1]-[C:2]',\n   1]],\n 'Chan-Lam coupling (amination)': [['O-B(-O)-[c;H0;D3;+0:1](:[c:2]):[c:3]:[#7;a:4].[#7:5]-[C:6](=[O;D1;H0:7])-[c:8]:[nH;D2;+0:9]:[c:10]>>[#7:5]-[C:6](=[O;D1;H0:7])-[c:8]:[n;H0;D3;+0:9](:[c:10])-[c;H0;D3;+0:1](:[c:2]):[c:3]:[#7;a:4]',\n   1]],\n 'S-nucleophilic aromatic substitution': [['Cl-[c;H0;D3;+0:1](:[#7;a:2]):[c:3].[SH;D1;+0:4]-[c:5]>>[#7;a:2]:[c;H0;D3;+0:1](:[c:3])-[S;H0;D2;+0:4]-[c:5]',\n   0],\n  ['Cl-[c;H0;D3;+0:1](:[#7;a:2]):[#7;a:3]:[#7;a:4].[C:5]-[SH;D1;+0:6]>>[#7;a:4]:[#7;a:3]:[c;H0;D3;+0:1](:[#7;a:2])-[S;H0;D2;+0:6]-[C:5]',\n   0]],\n 'Imine formation': [['O=[C;H0;D3;+0:1](-[C;D1;H3:2])-[c:3]:[#7;a:4].[C:5]-[#8:6]-[c:7]1:[c:8]:[c:9]:[c:10](-[C:11](=[O;D1;H0:12])-[#7:13]-[NH2;D1;+0:14]):[c:15]:[c:16]:1>>[#7;a:4]:[c:3]-[C;H0;D3;+0:1](-[C;D1;H3:2])=[N;H0;D2;+0:14]-[#7:13]-[C:11](=[O;D1;H0:12])-[c:10]1:[c:9]:[c:8]:[c:7](-[#8:6]-[C:5]):[c:16]:[c:15]:1',\n   0]],\n 'Heck reaction (intermolecular)': [['Br-[c;H0;D3;+0:1]1:[#7;a:2]:[#7;a:3]:[c:4]:[#8;a:5]:1.[C:6]=[CH2;D1;+0:7]>>[C:6]=[CH;D2;+0:7]-[c;H0;D3;+0:1]1:[#7;a:2]:[#7;a:3]:[c:4]:[#8;a:5]:1',\n   0]],\n 'Carboxylic acid + hydrazine condensation': [['O-[C;H0;D3;+0:1](=[O;D1;H0:2])-[c:3]:[#7;a:4].[NH2;D1;+0:5]-[#7:6]-[C:7]=[S;D1;H0:8]>>[#7;a:4]:[c:3]-[C;H0;D3;+0:1](=[O;D1;H0:2])-[NH;D2;+0:5]-[#7:6]-[C:7]=[S;D1;H0:8]',\n   1]],\n 'Buchwald-Hartwig amidation with amide-like nucleophile': [['I-[c;H0;D3;+0:1]1:[c:2]:[#7;a:3]:[#7;a:4]:[c:5]:1.[C:6]-[C:7](-[NH2;D1;+0:8])=[O;D1;H0:9]>>[C:6]-[C:7](=[O;D1;H0:9])-[NH;D2;+0:8]-[c;H0;D3;+0:1]1:[c:2]:[#7;a:3]:[#7;a:4]:[c:5]:1',\n   1]],\n 'Sp3-sp2 Macmillan coupling alcohol and aryl bromide': [['Br-[c;H0;D3;+0:1](:[c:2]):[c:3]:[#7;a:4].O-[C;H0;D4;+0:5](-[C:6])(-[C:7])-[C:8]>>[#7;a:4]:[c:3]:[c;H0;D3;+0:1](:[c:2])-[C;H0;D4;+0:5](-[C:6])(-[C:7])-[C:8]',\n   0],\n  ['Br-[c;H0;D3;+0:1]1:[#7;a:2]:[#7;a:3]:[c:4]:[#7;a:5]:1.O-[CH;D3;+0:6](-[C:7])-[C:8]>>[C:7]-[CH;D3;+0:6](-[C:8])-[c;H0;D3;+0:1]1:[#7;a:2]:[#7;a:3]:[c:4]:[#7;a:5]:1',\n   0]],\n 'Buchwald-Hartwig amination': [['Br-[c;H0;D3;+0:1](:[#7;a:2]):[c:3](:[#7;a:4]):[#7;a:5]:[#7;a:6].[C:7]-[NH;D2;+0:8]-[C:9]>>[#7;a:2]:[c;H0;D3;+0:1](-[N;H0;D3;+0:8](-[C:7])-[C:9]):[c:3](:[#7;a:4]):[#7;a:5]:[#7;a:6]',\n   0]],\n 'Formation of sulfone from halide - Shavnya reaction': [['Br-[c;H0;D3;+0:1]1:[#7;a:2]:[#7;a:3]:[c:4]:[#7;a:5]:1.Cl-[CH2;D2;+0:6]-[C:7](=[O;D1;H0:8])-[#7:9]-[C:10]-[c:11]1:[c:12]:[c:13]:[c;H0;D3;+0:14]2:[c:15](:[c:16]:1)-[#8:17]-[C:18]-[CH2;D2;+0:19]-[O;H0;D2;+0:20]-2>>[O;D1;H0:8]=[C:7](-[#7:9]-[C:10]-[c:11]1:[c:12]:[c:13]:[c;H0;D3;+0:14]2:[c:15](:[c:16]:1)-[#8:17]-[C:18]-[CH2;D2;+0:19]-[#8:21]-2)-[CH2;D2;+0:6]-[#16:22](=[O;H0;D1;+0:20])-[c;H0;D3;+0:1]1:[#7;a:2]:[#7;a:3]:[c:4]:[#7;a:5]:1',\n   0]],\n 'Nitrile to amine (H2)': [['[#7:1]-[C:2]-[C;H0;D4;+0:3](-[C:4])(-[F;D1;H0:5])-[C;H0;D2;+0:6]#[N;H0;D1;+0:7]>>[#7:1]-[C:2]-[C@@;H0;D4;+0:3](-[C:4])(-[F;D1;H0:5])-[CH2;D2;+0:6]-[NH2;D1;+0:7]',\n   0]],\n 'Pinner reaction (carboxylate ester)': [['N#[C;H0;D2;+0:1]-[C:2]-[#7:3](-[c:4]1:[c:5]:[c:6]:[c:7](-[#8:8]-[C:9]):[c:10]:[c:11]:1)-[S;H0;D4;+0:12](=[O;D1;H0:13])(=[O;H0;D1;+0:14])-[c:15]:[c:16]:[#7;a:17].[C;D1;H3:18]-[OH;D1;+0:19]>>[#7;a:17]:[c:16]:[c:15]-[S;H0;D4;+0:12](=[O;D1;H0:13])(=[O;D1;H0:20])-[#7:3](-[C:2]-[C;H0;D3;+0:1](=[O;H0;D1;+0:14])-[O;H0;D2;+0:19]-[C;D1;H3:18])-[c:4]1:[c:5]:[c:6]:[c:7](-[#8:8]-[C:9]):[c:10]:[c:11]:1',\n   1]],\n 'Hydrogenation of pyridine': [['[C:1]-[c;H0;D3;+0:2]1:[cH;D2;+0:3]:[cH;D2;+0:4]:[cH;D2;+0:5]:[n;H0;D2;+0:6]:[cH;D2;+0:7]:1>>[C:1]-[C@@H;D3;+0:2]1-[CH2;D2;+0:3]-[CH2;D2;+0:4]-[CH2;D2;+0:5]-[NH;D2;+0:6]-[CH2;D2;+0:7]-1',\n   1]],\n 'N-Ac deprotection': [['C-C(=O)-[NH;D2;+0:1]-[C:2]>>[C:2]-[NH2;D1;+0:1]', 0]],\n 'Grignard addition to carbonyl': [['Br-[Mg]-[c;H0;D3;+0:1](:[c:2]):[c:3]:[#7;a:4].[#7;a:5]:[#8;a:6]:[c:7]-[C;H0;D3;+0:8](-[C;D1;H3:9])=[O;H0;D1;+0:10]>>[#7;a:5]:[#8;a:6]:[c:7]-[C@;H0;D4;+0:8](-[C;D1;H3:9])(-[OH;D1;+0:10])-[c;H0;D3;+0:1](:[c:2]):[c:3]:[#7;a:4]',\n   0]]}"
     },
     "execution_count": 7,
     "metadata": {},
     "output_type": "execute_result"
    }
   ],
   "source": [
    "# Look at already created smarts patterns\n",
    "with open('/Users/kate_fieseler/PycharmProjects/retrievesynthesizable/D68EV3CPROA/routes_data/all_single_step_max_smarts.json', 'r') as f:\n",
    "    smarts = json.load(f)\n",
    "smarts"
   ],
   "metadata": {
    "collapsed": false,
    "ExecuteTime": {
     "end_time": "2023-10-13T12:37:39.720520Z",
     "start_time": "2023-10-13T12:37:39.633791Z"
    }
   },
   "id": "a16703cd119dc944"
  },
  {
   "cell_type": "code",
   "execution_count": 34,
   "outputs": [
    {
     "ename": "KeyError",
     "evalue": "'Alkene hydrogenation (unconjugated)'",
     "output_type": "error",
     "traceback": [
      "\u001B[0;31m---------------------------------------------------------------------------\u001B[0m",
      "\u001B[0;31mKeyError\u001B[0m                                  Traceback (most recent call last)",
      "Cell \u001B[0;32mIn[34], line 1\u001B[0m\n\u001B[0;32m----> 1\u001B[0m \u001B[43msmarts\u001B[49m\u001B[43m[\u001B[49m\u001B[38;5;124;43m'\u001B[39;49m\u001B[38;5;124;43mAlkene hydrogenation (unconjugated)\u001B[39;49m\u001B[38;5;124;43m'\u001B[39;49m\u001B[43m]\u001B[49m\n",
      "\u001B[0;31mKeyError\u001B[0m: 'Alkene hydrogenation (unconjugated)'"
     ]
    }
   ],
   "source": [
    "smarts['Alkene hydrogenation (unconjugated)']"
   ],
   "metadata": {
    "collapsed": false,
    "ExecuteTime": {
     "end_time": "2023-10-13T14:18:25.259457Z",
     "start_time": "2023-10-13T14:18:25.102267Z"
    }
   },
   "id": "e735ea4705e589f2"
  },
  {
   "cell_type": "code",
   "execution_count": 27,
   "outputs": [
    {
     "ename": "ValueError",
     "evalue": "ChemicalReactionParserException: Problems constructing reactant from SMARTS: [Cl,O=S]",
     "output_type": "error",
     "traceback": [
      "\u001B[0;31m---------------------------------------------------------------------------\u001B[0m",
      "\u001B[0;31mValueError\u001B[0m                                Traceback (most recent call last)",
      "Cell \u001B[0;32mIn[27], line 1\u001B[0m\n\u001B[0;32m----> 1\u001B[0m test \u001B[38;5;241m=\u001B[39m \u001B[43mAllChem\u001B[49m\u001B[38;5;241;43m.\u001B[39;49m\u001B[43mReactionFromSmarts\u001B[49m\u001B[43m(\u001B[49m\u001B[38;5;124;43m'\u001B[39;49m\u001B[38;5;124;43m[Cl,O=S]>>[Cl,O=S(=O)(C(F)(F)F)]\u001B[39;49m\u001B[38;5;124;43m'\u001B[39;49m\u001B[43m)\u001B[49m\n\u001B[1;32m      2\u001B[0m \u001B[38;5;28mprint\u001B[39m(test)\n",
      "\u001B[0;31mValueError\u001B[0m: ChemicalReactionParserException: Problems constructing reactant from SMARTS: [Cl,O=S]"
     ]
    }
   ],
   "source": [
    "test = AllChem.ReactionFromSmarts('[Cl,O=S]>>[Cl,O=S(=O)(C(F)(F)F)]')\n",
    "print(test)"
   ],
   "metadata": {
    "collapsed": false,
    "ExecuteTime": {
     "end_time": "2023-10-13T13:31:33.875329Z",
     "start_time": "2023-10-13T13:31:33.791741Z"
    }
   },
   "id": "8a89f8f3f2436a09"
  },
  {
   "cell_type": "code",
   "execution_count": null,
   "outputs": [],
   "source": [],
   "metadata": {
    "collapsed": false
   },
   "id": "653c714d1f049ae0"
  }
 ],
 "metadata": {
  "kernelspec": {
   "display_name": "Python 3",
   "language": "python",
   "name": "python3"
  },
  "language_info": {
   "codemirror_mode": {
    "name": "ipython",
    "version": 2
   },
   "file_extension": ".py",
   "mimetype": "text/x-python",
   "name": "python",
   "nbconvert_exporter": "python",
   "pygments_lexer": "ipython2",
   "version": "2.7.6"
  }
 },
 "nbformat": 4,
 "nbformat_minor": 5
}
