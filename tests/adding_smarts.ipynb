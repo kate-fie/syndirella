{
 "cells": [
  {
   "cell_type": "code",
   "execution_count": 2,
   "id": "initial_id",
   "metadata": {
    "collapsed": true,
    "ExecuteTime": {
     "end_time": "2023-10-11T13:46:37.722212Z",
     "start_time": "2023-10-11T13:46:37.355825Z"
    }
   },
   "outputs": [],
   "source": [
    "from rxnutils import *"
   ]
  },
  {
   "cell_type": "markdown",
   "source": [
    "# CREATING SMARTS FROM ALL RXNS PRESENT IN THE DATASET"
   ],
   "metadata": {
    "collapsed": false
   },
   "id": "cbec0a7197c26e0c"
  },
  {
   "cell_type": "code",
   "execution_count": 4,
   "outputs": [
    {
     "data": {
      "text/plain": "                                                smiles  num_steps  \\\n0               Cc1cc2c(cc1NC(=O)NCCc1nnc3ccccn13)OCO2          1   \n1                Cc1ccc(CCS(=O)(=O)NCc2nnc3ccccn23)cc1          1   \n2    OC[C@H](c1ccc2c(c1)OCO2)N(CCc1nnc2ccccn12)C[C@...          1   \n3                 O=C(CSc1nnc2ccccn12)Nc1ccc2c(c1)OCO2          1   \n4                  O=C(NCc1nnc2ccccn12)c1ccc2c(c1)OCO2          1   \n..                                                 ...        ...   \n592          CC(C)(C)OC(=O)C[C@](C)(C#N)C(=O)NCc1ccsn1          1   \n593          COC(=O)NCC(=O)N1CCC[C@@H]1CNC(=O)Cc1cnsc1          1   \n594            CC(=O)Nc1ccc(-c2noc(CC[C@@H](C)N)n2)cc1          1   \n595  C[C@@H](NS(C)(=O)=O)C(=O)N1CCC[C@@H](NC(=O)Cc2...          1   \n596                 CCC(CC)CC(=O)N[C@H]1C[C@](F)(CN)C1          1   \n\n                               rxn_order_first_to_last  \\\n0                ['Formation of urea from two amines']   \n1    ['Sulfonamide Schotten-Baumann with amine (int...   \n2                         ['Epoxide + amine coupling']   \n3                                        ['Amidation']   \n4                                        ['Amidation']   \n..                                                 ...   \n592                                      ['Amidation']   \n593                                      ['Amidation']   \n594  ['Buchwald-Hartwig amidation with amide-like n...   \n595                                      ['Amidation']   \n596                                ['Ester amidation']   \n\n                                             reactants  \\\n0          [('NCCc1nnc2ccccn12', 'Cc1cc2c(cc1N)OCO2')]   \n1    [('NCc1nnc2ccccn12', 'Cc1ccc(CCS(=O)(=O)Cl)cc1')]   \n2    [('c1cc2c(cc1C1CO1)OCO2', 'OC(CNCCc1nnc2ccccn1...   \n3      [('O=C(O)CSc1nnc2ccccn12', 'Nc1ccc2c(c1)OCO2')]   \n4       [('O=C(O)c1ccc2c(c1)OCO2', 'NCc1nnc2ccccn12')]   \n..                                                 ...   \n592  [('NCc1ccsn1', 'CC(C)(C)OC(=O)CC(C)(C#N)C(=O)O')]   \n593    [('O=C(O)Cc1cnsc1', 'COC(=O)NCC(=O)N1CCCC1CN')]   \n594     [('CC(N)CCc1nc(-c2ccc(Br)cc2)no1', 'CC(N)=O')]   \n595  [('O=C(O)Cc1ccon1', 'CC(NS(C)(=O)=O)C(=O)N1CCC...   \n596           [('NCC1(F)CC(N)C1', 'CCOC(=O)CC(CC)CC')]   \n\n                                        BuildingBlocks  \\\n0    ['Cc1cc2c(cc1NC(=O)NCCc1nnc3ccccn13)OCO2', 'NC...   \n1    ['Cc1ccc(CCS(=O)(=O)Cl)cc1', 'Cc1ccc(CCS(=O)(=...   \n2    ['c1cc2c(cc1C1CO1)OCO2', 'OC(CNCCc1nnc2ccccn12...   \n3    ['O=C(CSc1nnc2ccccn12)Nc1ccc2c(c1)OCO2', 'Nc1c...   \n4    ['O=C(NCc1nnc2ccccn12)c1ccc2c(c1)OCO2', 'O=C(O...   \n..                                                 ...   \n592  ['CC(C)(C)OC(=O)CC(C)(C#N)C(=O)O', 'NCc1ccsn1'...   \n593  ['COC(=O)NCC(=O)N1CCCC1CN', 'COC(=O)NCC(=O)N1C...   \n594  ['CC(=O)Nc1ccc(-c2noc(CCC(C)N)n2)cc1', 'CC(N)=...   \n595  [None, 'O=C(O)Cc1ccon1', 'CC(NS(C)(=O)=O)C(=O)...   \n596  ['CCOC(=O)CC(CC)CC', 'NCC1(F)CC(N)C1', 'CCC(CC...   \n\n                         catalogName_for_BuildingBlock  \n0    ['enamine_real', 'molport', 'mcule', 'enamine_...  \n1    ['enamine_made', 'enamine_bb', 'mcule', 'molpo...  \n2    ['enamine_bb', 'mcule', 'enamine_made', 'enami...  \n3    ['enamine_bb', 'molport', 'mcule', 'enamine_re...  \n4    ['enamine_bb', 'enamine_real', 'mcule', 'mcule...  \n..                                                 ...  \n592  ['enamine_bb', 'mcule', 'molport', 'mcule', 'm...  \n593  ['enamine_real', 'enamine_made', 'enamine_real...  \n594  ['enamine_real', 'generic', 'enamine_bb', 'mcu...  \n595  ['enamine_made', 'enamine_bb', 'molport', 'mcu...  \n596  ['mcule', 'enamine_real', 'enamine_bb', 'molpo...  \n\n[597 rows x 6 columns]",
      "text/html": "<div>\n<style scoped>\n    .dataframe tbody tr th:only-of-type {\n        vertical-align: middle;\n    }\n\n    .dataframe tbody tr th {\n        vertical-align: top;\n    }\n\n    .dataframe thead th {\n        text-align: right;\n    }\n</style>\n<table border=\"1\" class=\"dataframe\">\n  <thead>\n    <tr style=\"text-align: right;\">\n      <th></th>\n      <th>smiles</th>\n      <th>num_steps</th>\n      <th>rxn_order_first_to_last</th>\n      <th>reactants</th>\n      <th>BuildingBlocks</th>\n      <th>catalogName_for_BuildingBlock</th>\n    </tr>\n  </thead>\n  <tbody>\n    <tr>\n      <th>0</th>\n      <td>Cc1cc2c(cc1NC(=O)NCCc1nnc3ccccn13)OCO2</td>\n      <td>1</td>\n      <td>['Formation of urea from two amines']</td>\n      <td>[('NCCc1nnc2ccccn12', 'Cc1cc2c(cc1N)OCO2')]</td>\n      <td>['Cc1cc2c(cc1NC(=O)NCCc1nnc3ccccn13)OCO2', 'NC...</td>\n      <td>['enamine_real', 'molport', 'mcule', 'enamine_...</td>\n    </tr>\n    <tr>\n      <th>1</th>\n      <td>Cc1ccc(CCS(=O)(=O)NCc2nnc3ccccn23)cc1</td>\n      <td>1</td>\n      <td>['Sulfonamide Schotten-Baumann with amine (int...</td>\n      <td>[('NCc1nnc2ccccn12', 'Cc1ccc(CCS(=O)(=O)Cl)cc1')]</td>\n      <td>['Cc1ccc(CCS(=O)(=O)Cl)cc1', 'Cc1ccc(CCS(=O)(=...</td>\n      <td>['enamine_made', 'enamine_bb', 'mcule', 'molpo...</td>\n    </tr>\n    <tr>\n      <th>2</th>\n      <td>OC[C@H](c1ccc2c(c1)OCO2)N(CCc1nnc2ccccn12)C[C@...</td>\n      <td>1</td>\n      <td>['Epoxide + amine coupling']</td>\n      <td>[('c1cc2c(cc1C1CO1)OCO2', 'OC(CNCCc1nnc2ccccn1...</td>\n      <td>['c1cc2c(cc1C1CO1)OCO2', 'OC(CNCCc1nnc2ccccn12...</td>\n      <td>['enamine_bb', 'mcule', 'enamine_made', 'enami...</td>\n    </tr>\n    <tr>\n      <th>3</th>\n      <td>O=C(CSc1nnc2ccccn12)Nc1ccc2c(c1)OCO2</td>\n      <td>1</td>\n      <td>['Amidation']</td>\n      <td>[('O=C(O)CSc1nnc2ccccn12', 'Nc1ccc2c(c1)OCO2')]</td>\n      <td>['O=C(CSc1nnc2ccccn12)Nc1ccc2c(c1)OCO2', 'Nc1c...</td>\n      <td>['enamine_bb', 'molport', 'mcule', 'enamine_re...</td>\n    </tr>\n    <tr>\n      <th>4</th>\n      <td>O=C(NCc1nnc2ccccn12)c1ccc2c(c1)OCO2</td>\n      <td>1</td>\n      <td>['Amidation']</td>\n      <td>[('O=C(O)c1ccc2c(c1)OCO2', 'NCc1nnc2ccccn12')]</td>\n      <td>['O=C(NCc1nnc2ccccn12)c1ccc2c(c1)OCO2', 'O=C(O...</td>\n      <td>['enamine_bb', 'enamine_real', 'mcule', 'mcule...</td>\n    </tr>\n    <tr>\n      <th>...</th>\n      <td>...</td>\n      <td>...</td>\n      <td>...</td>\n      <td>...</td>\n      <td>...</td>\n      <td>...</td>\n    </tr>\n    <tr>\n      <th>592</th>\n      <td>CC(C)(C)OC(=O)C[C@](C)(C#N)C(=O)NCc1ccsn1</td>\n      <td>1</td>\n      <td>['Amidation']</td>\n      <td>[('NCc1ccsn1', 'CC(C)(C)OC(=O)CC(C)(C#N)C(=O)O')]</td>\n      <td>['CC(C)(C)OC(=O)CC(C)(C#N)C(=O)O', 'NCc1ccsn1'...</td>\n      <td>['enamine_bb', 'mcule', 'molport', 'mcule', 'm...</td>\n    </tr>\n    <tr>\n      <th>593</th>\n      <td>COC(=O)NCC(=O)N1CCC[C@@H]1CNC(=O)Cc1cnsc1</td>\n      <td>1</td>\n      <td>['Amidation']</td>\n      <td>[('O=C(O)Cc1cnsc1', 'COC(=O)NCC(=O)N1CCCC1CN')]</td>\n      <td>['COC(=O)NCC(=O)N1CCCC1CN', 'COC(=O)NCC(=O)N1C...</td>\n      <td>['enamine_real', 'enamine_made', 'enamine_real...</td>\n    </tr>\n    <tr>\n      <th>594</th>\n      <td>CC(=O)Nc1ccc(-c2noc(CC[C@@H](C)N)n2)cc1</td>\n      <td>1</td>\n      <td>['Buchwald-Hartwig amidation with amide-like n...</td>\n      <td>[('CC(N)CCc1nc(-c2ccc(Br)cc2)no1', 'CC(N)=O')]</td>\n      <td>['CC(=O)Nc1ccc(-c2noc(CCC(C)N)n2)cc1', 'CC(N)=...</td>\n      <td>['enamine_real', 'generic', 'enamine_bb', 'mcu...</td>\n    </tr>\n    <tr>\n      <th>595</th>\n      <td>C[C@@H](NS(C)(=O)=O)C(=O)N1CCC[C@@H](NC(=O)Cc2...</td>\n      <td>1</td>\n      <td>['Amidation']</td>\n      <td>[('O=C(O)Cc1ccon1', 'CC(NS(C)(=O)=O)C(=O)N1CCC...</td>\n      <td>[None, 'O=C(O)Cc1ccon1', 'CC(NS(C)(=O)=O)C(=O)...</td>\n      <td>['enamine_made', 'enamine_bb', 'molport', 'mcu...</td>\n    </tr>\n    <tr>\n      <th>596</th>\n      <td>CCC(CC)CC(=O)N[C@H]1C[C@](F)(CN)C1</td>\n      <td>1</td>\n      <td>['Ester amidation']</td>\n      <td>[('NCC1(F)CC(N)C1', 'CCOC(=O)CC(CC)CC')]</td>\n      <td>['CCOC(=O)CC(CC)CC', 'NCC1(F)CC(N)C1', 'CCC(CC...</td>\n      <td>['mcule', 'enamine_real', 'enamine_bb', 'molpo...</td>\n    </tr>\n  </tbody>\n</table>\n<p>597 rows × 6 columns</p>\n</div>"
     },
     "execution_count": 4,
     "metadata": {},
     "output_type": "execute_result"
    }
   ],
   "source": [
    "# Read in "
   ],
   "metadata": {
    "collapsed": false,
    "ExecuteTime": {
     "end_time": "2023-10-11T13:46:49.145308Z",
     "start_time": "2023-10-11T13:46:49.129481Z"
    }
   },
   "id": "ea128de53d7a0fd8"
  }
 ],
 "metadata": {
  "kernelspec": {
   "display_name": "Python 3",
   "language": "python",
   "name": "python3"
  },
  "language_info": {
   "codemirror_mode": {
    "name": "ipython",
    "version": 2
   },
   "file_extension": ".py",
   "mimetype": "text/x-python",
   "name": "python",
   "nbconvert_exporter": "python",
   "pygments_lexer": "ipython2",
   "version": "2.7.6"
  }
 },
 "nbformat": 4,
 "nbformat_minor": 5
}
