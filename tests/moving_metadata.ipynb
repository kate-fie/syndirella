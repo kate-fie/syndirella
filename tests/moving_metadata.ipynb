{
 "cells": [
  {
   "cell_type": "code",
   "execution_count": 14,
   "outputs": [],
   "source": [
    "# TASK: COPY CSV FILES FROM NON BATCHED FOLDERS\n",
    "import os\n",
    "import shutil\n",
    "\n",
    "def copy_csv_files_except_analogue(main_directory, target_directory):\n",
    "    for target_dir in os.listdir(target_directory):\n",
    "        target_dir_path = os.path.join(target_directory, target_dir)\n",
    "\n",
    "        # Check if it's a directory\n",
    "        if os.path.isdir(target_dir_path):\n",
    "            # Iterate through all subdirectories and files in the main directory\n",
    "            for root, _, files in os.walk(main_directory):\n",
    "                for file in files:\n",
    "                    if file.endswith(\".csv\") and \"analogue\" not in file.lower():\n",
    "                        # Check if the file is a CSV file and does not contain 'analogue' in its name\n",
    "                        source_path = os.path.join(root, file)  # Get the source file path\n",
    "                        target_path = os.path.join(target_directory, file)  # Get the target file path\n",
    "        \n",
    "                        # Copy the CSV file to the target directory\n",
    "                        shutil.copy2(source_path, target_path)\n",
    "\n",
    "# Example usage:\n",
    "main_directory = \"/Users/kate_fieseler/PycharmProjects/retrievesynthesizable/D68EV3CPROA/elabs/rdkit_place/2_step\"\n",
    "target_directory = \"/Users/kate_fieseler/PycharmProjects/retrievesynthesizable/D68EV3CPROA/elabs/all_2_step_meta\"\n",
    "copy_csv_files_except_analogue(main_directory, target_directory)"
   ],
   "metadata": {
    "collapsed": false,
    "ExecuteTime": {
     "end_time": "2023-11-21T21:37:45.860851Z",
     "start_time": "2023-11-21T21:37:45.818001Z"
    }
   },
   "id": "a68859ba8f7586c5"
  },
  {
   "cell_type": "code",
   "execution_count": 16,
   "outputs": [
    {
     "ename": "FileNotFoundError",
     "evalue": "[Errno 2] No such file or directory: '/Users/kate_fieseler/PycharmProjects/retrievesynthesizable/D68EV3CPROA/elabs/rdkit_place/1_step'",
     "output_type": "error",
     "traceback": [
      "\u001B[0;31m---------------------------------------------------------------------------\u001B[0m",
      "\u001B[0;31mFileNotFoundError\u001B[0m                         Traceback (most recent call last)",
      "Cell \u001B[0;32mIn[16], line 31\u001B[0m\n\u001B[1;32m     29\u001B[0m main_directory \u001B[38;5;241m=\u001B[39m \u001B[38;5;124m\"\u001B[39m\u001B[38;5;124m/Users/kate_fieseler/PycharmProjects/retrievesynthesizable/D68EV3CPROA/elabs/rdkit_place/1_step\u001B[39m\u001B[38;5;124m\"\u001B[39m  \u001B[38;5;66;03m# Replace with your main directory path\u001B[39;00m\n\u001B[1;32m     30\u001B[0m target_directory \u001B[38;5;241m=\u001B[39m \u001B[38;5;124m\"\u001B[39m\u001B[38;5;124m/Users/kate_fieseler/PycharmProjects/retrievesynthesizable/D68EV3CPROA/elabs/all_1_step_meta_rdkit_place\u001B[39m\u001B[38;5;124m\"\u001B[39m  \u001B[38;5;66;03m# Replace with your target directory path\u001B[39;00m\n\u001B[0;32m---> 31\u001B[0m \u001B[43mcopy_csv_files_except_analogue\u001B[49m\u001B[43m(\u001B[49m\u001B[43mmain_directory\u001B[49m\u001B[43m,\u001B[49m\u001B[43m \u001B[49m\u001B[43mtarget_directory\u001B[49m\u001B[43m)\u001B[49m\n",
      "Cell \u001B[0;32mIn[16], line 7\u001B[0m, in \u001B[0;36mcopy_csv_files_except_analogue\u001B[0;34m(main_directory, target_directory)\u001B[0m\n\u001B[1;32m      5\u001B[0m \u001B[38;5;28;01mdef\u001B[39;00m \u001B[38;5;21mcopy_csv_files_except_analogue\u001B[39m(main_directory, target_directory):\n\u001B[1;32m      6\u001B[0m     \u001B[38;5;66;03m# Iterate through subdirectories in the main directory\u001B[39;00m\n\u001B[0;32m----> 7\u001B[0m     \u001B[38;5;28;01mfor\u001B[39;00m first_level_subdir \u001B[38;5;129;01min\u001B[39;00m \u001B[43mos\u001B[49m\u001B[38;5;241;43m.\u001B[39;49m\u001B[43mlistdir\u001B[49m\u001B[43m(\u001B[49m\u001B[43mmain_directory\u001B[49m\u001B[43m)\u001B[49m:\n\u001B[1;32m      8\u001B[0m         first_level_path \u001B[38;5;241m=\u001B[39m os\u001B[38;5;241m.\u001B[39mpath\u001B[38;5;241m.\u001B[39mjoin(main_directory, first_level_subdir)\n\u001B[1;32m     10\u001B[0m         \u001B[38;5;66;03m# Check if it's a directory\u001B[39;00m\n",
      "\u001B[0;31mFileNotFoundError\u001B[0m: [Errno 2] No such file or directory: '/Users/kate_fieseler/PycharmProjects/retrievesynthesizable/D68EV3CPROA/elabs/rdkit_place/1_step'"
     ]
    }
   ],
   "source": [
    "# TASK: COPY CSV FILES FROM BATCHED FOLDERS\n",
    "import os\n",
    "import shutil\n",
    "\n",
    "def copy_csv_files_except_analogue(main_directory, target_directory):\n",
    "    # Iterate through subdirectories in the main directory\n",
    "    for first_level_subdir in os.listdir(main_directory):\n",
    "        first_level_path = os.path.join(main_directory, first_level_subdir)\n",
    "\n",
    "        # Check if it's a directory\n",
    "        if os.path.isdir(first_level_path):\n",
    "            # Iterate through second-level subdirectories\n",
    "            for second_level_subdir in os.listdir(first_level_path):\n",
    "                second_level_path = os.path.join(first_level_path, second_level_subdir)\n",
    "\n",
    "                # Check if it's a directory\n",
    "                if os.path.isdir(second_level_path):\n",
    "                    # Iterate through all files in the second-level subdirectory\n",
    "                    for file in os.listdir(second_level_path):\n",
    "                        if file.endswith(\".csv\") and \"analogue\" not in file.lower():\n",
    "                            # Check if the file is a CSV file and does not contain 'analogue' in its name\n",
    "                            source_path = os.path.join(second_level_path, file)  # Get the source file path\n",
    "                            target_path = os.path.join(target_directory, file)  # Get the target file path\n",
    "\n",
    "                            # Copy the CSV file to the target directory\n",
    "                            shutil.copy2(source_path, target_path)\n",
    "\n",
    "# Example usage\n",
    "main_directory = \"/Users/kate_fieseler/PycharmProjects/retrievesynthesizable/D68EV3CPROA/elabs/rdkit_place/1_step\"  # Replace with your main directory path\n",
    "target_directory = \"/Users/kate_fieseler/PycharmProjects/retrievesynthesizable/D68EV3CPROA/elabs/all_1_step_meta_rdkit_place\"  # Replace with your target directory path\n",
    "copy_csv_files_except_analogue(main_directory, target_directory)\n"
   ],
   "metadata": {
    "collapsed": false,
    "ExecuteTime": {
     "end_time": "2023-11-21T21:41:17.875302Z",
     "start_time": "2023-11-21T21:41:17.535244Z"
    }
   },
   "id": "2926c2fed239e674"
  },
  {
   "cell_type": "code",
   "execution_count": null,
   "outputs": [],
   "source": [],
   "metadata": {
    "collapsed": false
   },
   "id": "f64d378f113ff674"
  }
 ],
 "metadata": {
  "kernelspec": {
   "display_name": "Python 3",
   "language": "python",
   "name": "python3"
  },
  "language_info": {
   "codemirror_mode": {
    "name": "ipython",
    "version": 2
   },
   "file_extension": ".py",
   "mimetype": "text/x-python",
   "name": "python",
   "nbconvert_exporter": "python",
   "pygments_lexer": "ipython2",
   "version": "2.7.6"
  }
 },
 "nbformat": 4,
 "nbformat_minor": 5
}
