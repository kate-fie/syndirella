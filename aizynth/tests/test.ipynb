{
 "cells": [
  {
   "cell_type": "code",
   "id": "initial_id",
   "metadata": {
    "collapsed": true,
    "ExecuteTime": {
     "end_time": "2025-04-02T15:02:11.691540Z",
     "start_time": "2025-04-02T14:23:12.529882Z"
    }
   },
   "source": [
    "from rdkit.Chem import AllChem\n",
    "from rdkit.DataStructs import TanimotoSimilarity\n",
    "\n",
    "#app = AiZynthApp(\"config_local.yml\")"
   ],
   "outputs": [],
   "execution_count": 70
  },
  {
   "metadata": {
    "ExecuteTime": {
     "end_time": "2025-04-02T15:02:11.721475Z",
     "start_time": "2025-04-02T14:30:50.967585Z"
    }
   },
   "cell_type": "code",
   "source": [
    "template_rxn = '[C:1](=[O:2])([cH3:3])[N:5][CH3:4]>>O[C:1](=[O:2])[cH3:3].[CH3:4][N:5]'\n",
    "amidation = '[#6:1](=[#8:2])-[#8;H1].[$([N+0&H1,N+0&H2]);!$(NC=*);!$(NS);!$(N=*);!$(N-O);!$(N-o):3]>>[#6:1](=[#8:2])-[#7X3:3]'\n",
    "steglich_esterification = '[OH]-[C;H0;D3;+0:1]=[O;D1;H0:3].[CX4;+0:7]-[OH;D1;+0:9]>>[CX4:7]-[O;H0;D2;+0:9]-[C;H0;D3;+0:1]=[O;D1;H0:3]'\n",
    "\n",
    "# reconstruct template_rxn SMARTS around '>>'\n",
    "parts = template_rxn.split('>>')\n",
    "product, reactants = parts\n",
    "template_rxn = f\"{reactants}>>{product}\"\n",
    "\n",
    "# how to calculate similarity between these?\n",
    "template_rxn = AllChem.ReactionFromSmarts(template_rxn)\n",
    "amidation = AllChem.ReactionFromSmarts(amidation)\n",
    "se = AllChem.ReactionFromSmarts(steglich_esterification)\n",
    "# calculate tanimoto similarity\n",
    "template_rxn_fp = AllChem.CreateDifferenceFingerprintForReaction(template_rxn)\n",
    "amidation_fp = AllChem.CreateDifferenceFingerprintForReaction(amidation)\n",
    "se_fp = AllChem.CreateDifferenceFingerprintForReaction(se)\n",
    "\n",
    "# Calculate Tanimoto similarity\n",
    "similarity = TanimotoSimilarity(template_rxn_fp, amidation_fp)\n",
    "print(similarity)\n",
    "\n",
    "similarity = TanimotoSimilarity(template_rxn_fp, se_fp)\n",
    "print(similarity)"
   ],
   "id": "e5f1d9f4db8744f7",
   "outputs": [
    {
     "name": "stdout",
     "output_type": "stream",
     "text": [
      "0.07142857142857142\n",
      "0.11764705882352941\n"
     ]
    }
   ],
   "execution_count": 77
  },
  {
   "metadata": {
    "ExecuteTime": {
     "end_time": "2025-04-02T15:02:11.725324Z",
     "start_time": "2025-04-02T14:31:08.150134Z"
    }
   },
   "cell_type": "code",
   "source": [
    "# For structural fingerprints (more focus on overall structure)\n",
    "template_rxn_fp = AllChem.CreateStructuralFingerprintForReaction(template_rxn)\n",
    "amidation_fp = AllChem.CreateStructuralFingerprintForReaction(amidation)\n",
    "se_fp = AllChem.CreateStructuralFingerprintForReaction(se)\n",
    "\n",
    "# Calculate Tanimoto similarity\n",
    "similarity = TanimotoSimilarity(template_rxn_fp, amidation_fp)\n",
    "print(similarity)\n",
    "\n",
    "similarity = TanimotoSimilarity(template_rxn_fp, se_fp)\n",
    "print(similarity)"
   ],
   "id": "49ea2d2cc04b15e3",
   "outputs": [
    {
     "name": "stdout",
     "output_type": "stream",
     "text": [
      "0.4117647058823529\n",
      "0.44285714285714284\n"
     ]
    }
   ],
   "execution_count": 78
  },
  {
   "metadata": {
    "ExecuteTime": {
     "end_time": "2025-04-02T15:02:11.730184Z",
     "start_time": "2025-04-02T14:31:20.477170Z"
    }
   },
   "cell_type": "code",
   "source": "se",
   "id": "e47625dd09b9dc3b",
   "outputs": [
    {
     "data": {
      "text/plain": [
       "<rdkit.Chem.rdChemReactions.ChemicalReaction at 0x84d414f20>"
      ],
      "image/png": "[encoded data removed]"
     },
     "execution_count": 79,
     "metadata": {},
     "output_type": "execute_result"
    }
   ],
   "execution_count": 79
  },
  {
   "metadata": {
    "ExecuteTime": {
     "end_time": "2025-04-02T15:12:02.831879Z",
     "start_time": "2025-04-02T15:12:02.796179Z"
    }
   },
   "cell_type": "code",
   "source": [
    "import numpy as np\n",
    "from rdkit.Chem import MACCSkeys, Mol\n",
    "from rdkit import Chem\n",
    "import numpy.typing as npt\n",
    "from typing import Any\n",
    "from scipy.spatial.distance import jaccard\n",
    "\n",
    "\n",
    "def morgan_fp(mol: Mol) -> npt.NDArray[Any]:\n",
    "    fp1 = AllChem.GetMorganFingerprintAsBitVect(\n",
    "        mol, useChirality=True, radius=2, nBits=1024\n",
    "    )\n",
    "    vec1 = np.array(fp1)\n",
    "    return vec1\n",
    "\n",
    "\n",
    "def maccs_fp(mol: Chem.rdchem.Mol) -> npt.NDArray[Any]:\n",
    "    return np.array(MACCSkeys.GenMACCSKeys(mol))\n",
    "\n",
    "\n",
    "def get_fp(rxn: str, fp: str = \"MACCS\", concatenate: bool = True) -> npt.NDArray[Any]:\n",
    "    reactant_str, product_str = rxn.split(\">>\")\n",
    "    reactants = reactant_str.split(\".\")\n",
    "    products = product_str.split(\".\")\n",
    "    print(reactants, products)\n",
    "    reactant_mols = [Chem.MolFromSmarts(reactant) for reactant in reactants]\n",
    "    product_mols = [Chem.MolFromSmarts(product) for product in products]\n",
    "\n",
    "    for mol in reactant_mols:\n",
    "        mol.UpdatePropertyCache(strict=False)\n",
    "        Chem.GetSSSR(mol)\n",
    "\n",
    "    for mol in product_mols:\n",
    "        mol.UpdatePropertyCache(strict=False)\n",
    "        Chem.GetSSSR(mol)\n",
    "\n",
    "    print(reactant_mols, product_mols)\n",
    "\n",
    "    if fp.lower() == \"maccs\":\n",
    "        reactant_fp = np.sum(np.array([maccs_fp(mol) for mol in reactant_mols]), axis=0)\n",
    "        product_fp = np.sum(np.array([maccs_fp(mol) for mol in product_mols]), axis=0)\n",
    "    elif fp.lower() == \"morgan\":\n",
    "        reactant_fp = np.sum(\n",
    "            np.array([morgan_fp(mol) for mol in reactant_mols]), axis=0\n",
    "        )\n",
    "        product_fp = np.sum(np.array([morgan_fp(mol) for mol in product_mols]), axis=0)\n",
    "    else:\n",
    "        raise KeyError(\n",
    "            f\"Fingerprint {fp} is not yet supported. Choose between MACCS and Morgan\"\n",
    "        )\n",
    "\n",
    "    if concatenate:\n",
    "        rxn_fp = np.concatenate((reactant_fp, product_fp))\n",
    "    else:\n",
    "        rxn_fp = np.sum((reactant_fp, product_fp), axis=0)\n",
    "\n",
    "    return rxn_fp\n",
    "\n",
    "\n",
    "template_rxn = '[C:1](=[O:2])([cH3:3])[N:5][CH3:4]>>O[C:1](=[O:2])[cH3:3].[CH3:4][N:5]'\n",
    "amidation = '[#6:1](=[#8:2])-[#8;H1].[$([N+0&H1,N+0&H2]);!$(NC=*);!$(NS);!$(N=*);!$(N-O);!$(N-o):3]>>[#6:1](=[#8:2])-[#7X3:3]'\n",
    "\n",
    "# reconstruct template_rxn SMARTS around '>>'\n",
    "parts = template_rxn.split('>>')\n",
    "product, reactants = parts\n",
    "template_rxn = f\"{reactants}>>{product}\"\n",
    "\n",
    "tr_fp = get_fp(template_rxn, \"maccs\", concatenate=False)\n",
    "amid_fp = get_fp(amidation, \"maccs\", concatenate=False)\n",
    "se_fp = get_fp(steglich_esterification, \"maccs\", concatenate=False)\n",
    "jaccard_similarity = 1 - jaccard(tr_fp, amid_fp)\n",
    "jaccard_similarity_se = 1 - jaccard(tr_fp, se_fp)\n",
    "\n",
    "print(jaccard_similarity)\n",
    "print(jaccard_similarity_se)"
   ],
   "id": "7b8a213f6124437",
   "outputs": [
    {
     "name": "stdout",
     "output_type": "stream",
     "text": [
      "['O[C:1](=[O:2])[cH3:3]', '[CH3:4][N:5]'] ['[C:1](=[O:2])([cH3:3])[N:5][CH3:4]']\n",
      "[<rdkit.Chem.rdchem.Mol object at 0x34a5c1ee0>, <rdkit.Chem.rdchem.Mol object at 0x34a5c2810>] [<rdkit.Chem.rdchem.Mol object at 0x34a5c0ba0>]\n",
      "['[#6:1](=[#8:2])-[#8;H1]', '[$([N+0&H1,N+0&H2]);!$(NC=*);!$(NS);!$(N=*);!$(N-O);!$(N-o):3]'] ['[#6:1](=[#8:2])-[#7X3:3]']\n",
      "[<rdkit.Chem.rdchem.Mol object at 0x34a5c1ee0>, <rdkit.Chem.rdchem.Mol object at 0x34a5c2810>] [<rdkit.Chem.rdchem.Mol object at 0x34a5c26c0>]\n",
      "['[OH]-[C;H0;D3;+0:1]=[O;D1;H0:3]', '[CX4;+0:7]-[OH;D1;+0:9]'] ['[CX4:7]-[O;H0;D2;+0:9]-[C;H0;D3;+0:1]=[O;D1;H0:3]']\n",
      "[<rdkit.Chem.rdchem.Mol object at 0x34a5c2810>, <rdkit.Chem.rdchem.Mol object at 0x34a5c0ba0>] [<rdkit.Chem.rdchem.Mol object at 0x34a5c0580>]\n",
      "0.5\n",
      "0.4375\n"
     ]
    }
   ],
   "execution_count": 112
  },
  {
   "metadata": {},
   "cell_type": "code",
   "outputs": [],
   "execution_count": null,
   "source": "# compute similarity to all smirks\n",
   "id": "439ca41ad1040f37"
  },
  {
   "metadata": {
    "ExecuteTime": {
     "end_time": "2025-04-02T15:02:11.730831Z",
     "start_time": "2025-04-02T14:57:21.712147Z"
    }
   },
   "cell_type": "code",
   "source": [
    "mol = Chem.MolFromSmarts('O[C:1](=[O:2])[cH3:3]')\n",
    "mol"
   ],
   "id": "c98a93b3e1f5f091",
   "outputs": [
    {
     "data": {
      "text/plain": [
       "<rdkit.Chem.rdchem.Mol at 0x889cf9a80>"
      ],
      "image/png": "[encoded data removed]"
     },
     "execution_count": 94,
     "metadata": {},
     "output_type": "execute_result"
    }
   ],
   "execution_count": 94
  },
  {
   "metadata": {
    "ExecuteTime": {
     "end_time": "2025-04-02T15:02:11.730973Z",
     "start_time": "2025-04-02T13:06:27.957600Z"
    }
   },
   "cell_type": "code",
   "source": [
    "from aizynthfinder.aizynthfinder import AiZynthFinder\n",
    "\n",
    "finder = AiZynthFinder(configfile=\"config_local.yml\")\n",
    "finder.stock.select(\"zinc\")\n",
    "finder.expansion_policy.select(\"uspto\")\n",
    "finder.filter_policy.select(\"uspto\")"
   ],
   "id": "ac778fa6c08adf51",
   "outputs": [
    {
     "name": "stdout",
     "output_type": "stream",
     "text": [
      "Loading template-based expansion policy model from uspto_model.onnx to uspto\n",
      "Loading templates from uspto_templates.csv.gz to uspto\n",
      "Loading filter policy model from uspto_filter_model.onnx to uspto\n",
      "Loading stock from InMemoryInchiKeyQuery to zinc\n",
      "Selected as stock: zinc\n",
      "Compounds in stock: 17422831\n",
      "Selected as expansion policy: uspto\n",
      "Selected as filter policy: uspto\n"
     ]
    }
   ],
   "execution_count": 61
  },
  {
   "metadata": {
    "ExecuteTime": {
     "end_time": "2025-04-02T15:02:11.731315Z",
     "start_time": "2025-04-02T13:06:57.583056Z"
    }
   },
   "cell_type": "code",
   "source": "not finder.extract_statistics()",
   "id": "4a38268d4a0b6eda",
   "outputs": [
    {
     "data": {
      "text/plain": [
       "True"
      ]
     },
     "execution_count": 63,
     "metadata": {},
     "output_type": "execute_result"
    }
   ],
   "execution_count": 63
  },
  {
   "metadata": {},
   "cell_type": "code",
   "source": [
    "finder.target_smiles = \"O=C(NC1CC(C(F)(F)F)C1)c1cc2ccsc2[nH]1\"\n",
    "finder.tree_search()"
   ],
   "id": "2d02d9abea6e05ed",
   "outputs": [],
   "execution_count": null
  },
  {
   "metadata": {},
   "cell_type": "code",
   "source": [
    "finder.build_routes()\n",
    "stats = finder.extract_statistics()"
   ],
   "id": "b4bde5580eb30050",
   "outputs": [],
   "execution_count": null
  },
  {
   "metadata": {},
   "cell_type": "code",
   "source": "stats",
   "id": "ddbc2f5f9a06f0fa",
   "outputs": [],
   "execution_count": null
  },
  {
   "metadata": {},
   "cell_type": "code",
   "source": [
    "for route in finder.routes:\n",
    "    print(route)\n",
    "    tree = route['reaction_tree']\n",
    "    print(tree.is_branched())\n",
    "    print(tree.reactions())\n",
    "    for reaction in tree.reactions():\n",
    "        print(reaction)\n",
    "        smiles_based = reaction.to_smiles_based_retroreaction()\n",
    "        print(smiles_based.to_dict())"
   ],
   "id": "85821caa87d4d0d7",
   "outputs": [],
   "execution_count": null
  },
  {
   "metadata": {},
   "cell_type": "code",
   "source": [
    "from aizynthfinder.aizynthfinder import AiZynthExpander\n",
    "\n",
    "expander = AiZynthExpander(configfile=\"config_local.yml\")\n",
    "expander.expansion_policy.select(\"full\")\n",
    "expander.filter_policy.select(\"uspto\")\n",
    "reactions = expander.do_expansion(\"O=C(NC1CC(C(F)(F)F)C1)c1cc2ccsc2[nH]1\")"
   ],
   "id": "d54a17d4c805bb0c",
   "outputs": [],
   "execution_count": null
  },
  {
   "metadata": {},
   "cell_type": "code",
   "source": [
    "import pandas as pd\n",
    "\n",
    "metadata = []\n",
    "for reaction_tuple in reactions:\n",
    "    for reaction in reaction_tuple:\n",
    "        metadata.append(reaction.metadata)\n",
    "df = pd.DataFrame(metadata)"
   ],
   "id": "d3d194b363f1b060",
   "outputs": [],
   "execution_count": null
  },
  {
   "metadata": {},
   "cell_type": "code",
   "source": "df",
   "id": "725550edd34ced0",
   "outputs": [],
   "execution_count": null
  }
 ],
 "metadata": {
  "kernelspec": {
   "display_name": "Python 3",
   "language": "python",
   "name": "python3"
  },
  "language_info": {
   "codemirror_mode": {
    "name": "ipython",
    "version": 2
   },
   "file_extension": ".py",
   "mimetype": "text/x-python",
   "name": "python",
   "nbconvert_exporter": "python",
   "pygments_lexer": "ipython2",
   "version": "2.7.6"
  }
 },
 "nbformat": 4,
 "nbformat_minor": 5
}
