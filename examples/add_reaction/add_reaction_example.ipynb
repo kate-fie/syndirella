{
 "cells": [
  {
   "cell_type": "code",
   "execution_count": null,
   "id": "6db340c9",
   "metadata": {},
   "outputs": [],
   "source": [
    "# Environment Requirements\n",
    "# This notebook requires Python 3.10\n",
    "# Check your Python version\n",
    "import sys\n",
    "print(f\"Python version: {sys.version}\")\n",
    "\n",
    "# Check syndirella version (must be >=4.0.0)\n",
    "!pip show syndirella\n",
    "\n",
    "from rdkit.Chem.rdChemReactions import ReactionFromSmarts\n",
    "import json\n",
    "\n",
    "# install syndirella if not already installed\n",
    "#! pip install --upgrade syndirella\n",
    "\n",
    "from syndirella.route.SmirksLibraryManager import SmirksLibraryManager  "
   ]
  },
  {
   "cell_type": "code",
   "execution_count": 13,
   "id": "50782110",
   "metadata": {},
   "outputs": [
    {
     "name": "stderr",
     "output_type": "stream",
     "text": [
      "2025-08-12 10:56:23,803 - syndirella.route.SmirksLibraryManager - INFO - Loaded USPTO lookup from compressed file\n",
      "2025-08-12 10:56:23,803 - syndirella.route.SmirksLibraryManager - INFO - Loaded 109 total reactions\n",
      "2025-08-12 10:56:23,804 - syndirella.route.SmirksLibraryManager - INFO - Loaded USPTO mappings for 41645 template codes\n"
     ]
    }
   ],
   "source": [
    "# First save copy of original reaction smirks library to rollback to\n",
    "manager = SmirksLibraryManager(smirks_library_path='../../syndirella/constants/RXN_SMIRKS_CONSTANTS.json')\n",
    "# Save copy of original reaction smirks library\n",
    "# Save a backup of the original reaction SMIRKS library for rollback\n",
    "original_library_path = '../../syndirella/constants/RXN_SMIRKS_CONSTANTS_original.json'\n",
    "with open(original_library_path, 'w') as backup_file:\n",
    "    json.dump(manager.smirks_data, backup_file, indent=2)"
   ]
  },
  {
   "cell_type": "markdown",
   "id": "2c98c28d",
   "metadata": {},
   "source": [
    "## Reaction Library\n",
    "\n",
    "Syndirella has a comprehensive reaction SMIRKS library specifically curated for HT synthesis. There are two main sources, either `manual` ones I and my colleagues have curated or from the `rxn-insight` paper, https://github.com/mrodobbe/Rxn-INSIGHT."
   ]
  },
  {
   "cell_type": "code",
   "execution_count": 14,
   "id": "d703ee6d",
   "metadata": {},
   "outputs": [
    {
     "name": "stderr",
     "output_type": "stream",
     "text": [
      "2025-08-12 10:56:40,849 - syndirella.route.SmirksLibraryManager - INFO - Loaded USPTO lookup from compressed file\n",
      "2025-08-12 10:56:40,852 - syndirella.route.SmirksLibraryManager - INFO - Loaded 109 total reactions\n",
      "2025-08-12 10:56:40,853 - syndirella.route.SmirksLibraryManager - INFO - Loaded USPTO mappings for 41645 template codes\n"
     ]
    },
    {
     "data": {
      "text/plain": [
       "{'total_reactions': 109,\n",
       " 'manual_reactions': 33,\n",
       " 'rxn-insight_reactions': 76,\n",
       " 'parent_reactions': 33,\n",
       " 'child_reactions': 76,\n",
       " 'uspto_templates_total': 41645,\n",
       " 'uspto_templates_with_mappings': 41645,\n",
       " 'total_uspto_mappings': 904206,\n",
       " 'parent_child_relationships': 27}"
      ]
     },
     "execution_count": 14,
     "metadata": {},
     "output_type": "execute_result"
    }
   ],
   "source": [
    "# Let's take a look\n",
    "smirks_library_path = '../../syndirella/constants/RXN_SMIRKS_CONSTANTS.json'\n",
    "SmirksLibraryManager(smirks_library_path=smirks_library_path).get_library_stats()"
   ]
  },
  {
   "cell_type": "markdown",
   "id": "f358fac7",
   "metadata": {},
   "source": [
    "## Simple Reaction\n",
    "\n",
    "Let's add Hantzsch thiazole synthesis (which is a reaction already in the library but we will just use it as an example.) "
   ]
  },
  {
   "cell_type": "code",
   "execution_count": 15,
   "id": "71fd44cc",
   "metadata": {},
   "outputs": [
    {
     "name": "stdout",
     "output_type": "stream",
     "text": [
      "[a,A:1]-[C](=[S:4])-[N&H2].[a,A:3]-[C:5](=[O])-[C;H1:6](-[$([Cl,Br,I]),$(OS(=O)(=O)C),$(OS(=O)(=O)c1ccc(C)cc1)])-[a,A:2]>>[c]-1([a,A:1])-[s:4]-[c:6](-[a,A:2])-[c:5](-[a,A:3])-[n]-1\n"
     ]
    },
    {
     "data": {
      "image/png": "[encoded data removed]",
      "text/plain": [
       "<rdkit.Chem.rdChemReactions.ChemicalReaction at 0x37463f140>"
      ]
     },
     "execution_count": 15,
     "metadata": {},
     "output_type": "execute_result"
    }
   ],
   "source": [
    "hantz = \"[a,A:1]-[C](=[S:4])-[N&H2].[a,A:3]-[C:5](=[O])-[C;H1:6](-[$([Cl,Br,I]),$(OS(=O)(=O)C),$(OS(=O)(=O)c1ccc(C)cc1)])-[a,A:2]>>[c]-1([a,A:1])-[s:4]-[c:6](-[a,A:2])-[c:5](-[a,A:3])-[n]-1\"\n",
    "rxn = ReactionFromSmarts(hantz)\n",
    "print(hantz)\n",
    "rxn"
   ]
  },
  {
   "cell_type": "code",
   "execution_count": null,
   "id": "05d1955c",
   "metadata": {},
   "outputs": [],
   "source": [
    "!syndirella add-reaction --name Hantzsch_thiazole_synthesis_2 --smirks '[a,A:1]-[C](=[S:4])-[N&H2].[a,A:3]-[C:5](=[O])-[C;H1:6](-[$([Cl,Br,I]),$(OS(=O)(=O)C),$(OS(=O)(=O)c1ccc(C)cc1)])-[a,A:2]>>[c]-1([a,A:1])-[s:4]-[c:6](-[a,A:2])-[c:5](-[a,A:3])-[n]-1'"
   ]
  },
  {
   "cell_type": "markdown",
   "id": "e8eeab70",
   "metadata": {},
   "source": [
    "## Adding a Child Reaction with Parent\n",
    "\n",
    "You can also specify to `find_parent` where this reaction will be assumed to be a more specific version of a general reaction. This functionality was specifically implemented so there is a higher probability of matching a named template to a given template used by AiZynthFinder. But this reaction is also linked to the more general reaction so in the elaboration synthesis, more elaborated and diverse reactants will be considered valid for the reaction. "
   ]
  },
  {
   "cell_type": "code",
   "execution_count": null,
   "id": "3ad05061",
   "metadata": {},
   "outputs": [],
   "source": [
    "!syndirella add-reaction --name Hantzsch_thiazole_synthesis_3 --smirks '[a,A:1]-[C](=[S:4])-[N&H2].[a,A:3]-[C:5](=[O])-[C;H1:6](-[$([Cl,Br,I]),$(OS(=O)(=O)C),$(OS(=O)(=O)c1ccc(C)cc1)])-[a,A:2]>>[c]-1([a,A:1])-[s:4]-[c:6](-[a,A:2])-[c:5](-[a,A:3])-[n]-1' --find_parent"
   ]
  },
  {
   "cell_type": "markdown",
   "id": "c1ee7ee4",
   "metadata": {},
   "source": [
    "## Validate"
   ]
  },
  {
   "cell_type": "code",
   "execution_count": 18,
   "id": "cef92faa",
   "metadata": {},
   "outputs": [
    {
     "name": "stderr",
     "output_type": "stream",
     "text": [
      "2025-08-12 11:20:01,329 - syndirella.route.SmirksLibraryManager - INFO - Loaded USPTO lookup from compressed file\n",
      "2025-08-12 11:20:01,331 - syndirella.route.SmirksLibraryManager - INFO - Loaded 111 total reactions\n",
      "2025-08-12 11:20:01,332 - syndirella.route.SmirksLibraryManager - INFO - Loaded USPTO mappings for 41645 template codes\n"
     ]
    },
    {
     "name": "stdout",
     "output_type": "stream",
     "text": [
      "Hantzsch_thiazole_synthesis_2 reaction was added\n",
      "[a,A:1]-[C](=[S:4])-[N&H2].[a,A:3]-[C:5](=[O])-[C;H1:6](-[$([Cl,Br,I]),$(OS(=O)(=O)C),$(OS(=O)(=O)c1ccc(C)cc1)])-[a,A:2]>>[c]-1([a,A:1])-[s:4]-[c:6](-[a,A:2])-[c:5](-[a,A:3])-[n]-1\n",
      "{'source': 'manual', 'type': 'parent', 'parent': None}\n",
      "Hantzsch_thiazole_synthesis_3 reaction was added\n",
      "[a,A:1]-[C](=[S:4])-[N&H2].[a,A:3]-[C:5](=[O])-[C;H1:6](-[$([Cl,Br,I]),$(OS(=O)(=O)C),$(OS(=O)(=O)c1ccc(C)cc1)])-[a,A:2]>>[c]-1([a,A:1])-[s:4]-[c:6](-[a,A:2])-[c:5](-[a,A:3])-[n]-1\n",
      "{'source': 'manual', 'type': 'child', 'parent': 'Hantzsch_thiazole_synthesis'}\n"
     ]
    }
   ],
   "source": [
    "# Check if reaction was added\n",
    "manager = SmirksLibraryManager(smirks_library_path='../../syndirella/constants/RXN_SMIRKS_CONSTANTS.json')\n",
    "if \"Hantzsch_thiazole_synthesis_2\" in manager.smirks_data:\n",
    "    print(\"Hantzsch_thiazole_synthesis_2 reaction was added\")\n",
    "    print(manager.get_reaction_smirks(\"Hantzsch_thiazole_synthesis_2\"))\n",
    "    print(manager.get_reaction_metadata(\"Hantzsch_thiazole_synthesis_2\"))\n",
    "if \"Hantzsch_thiazole_synthesis_3\" in manager.smirks_data:\n",
    "    print(\"Hantzsch_thiazole_synthesis_3 reaction was added\")\n",
    "    print(manager.get_reaction_smirks(\"Hantzsch_thiazole_synthesis_3\"))\n",
    "    print(manager.get_reaction_metadata(\"Hantzsch_thiazole_synthesis_3\"))"
   ]
  },
  {
   "cell_type": "code",
   "execution_count": 19,
   "id": "a64ee798",
   "metadata": {},
   "outputs": [],
   "source": [
    "# Overwrite the edited reaction smirks library with the original\n",
    "!cp ../../syndirella/constants/RXN_SMIRKS_CONSTANTS_original.json ../../syndirella/constants/RXN_SMIRKS_CONSTANTS.json\n",
    "!rm ../../syndirella/constants/RXN_SMIRKS_CONSTANTS_original.json"
   ]
  }
 ],
 "metadata": {
  "kernelspec": {
   "display_name": "syndirella_env",
   "language": "python",
   "name": "python3"
  },
  "language_info": {
   "codemirror_mode": {
    "name": "ipython",
    "version": 3
   },
   "file_extension": ".py",
   "mimetype": "text/x-python",
   "name": "python",
   "nbconvert_exporter": "python",
   "pygments_lexer": "ipython3",
   "version": "3.10.18"
  }
 },
 "nbformat": 4,
 "nbformat_minor": 5
}
