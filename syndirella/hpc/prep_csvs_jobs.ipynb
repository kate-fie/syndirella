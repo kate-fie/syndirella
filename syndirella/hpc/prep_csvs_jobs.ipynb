{
 "cells": [
  {
   "cell_type": "code",
   "id": "initial_id",
   "metadata": {
    "collapsed": true,
    "ExecuteTime": {
     "end_time": "2024-09-17T15:01:37.436281Z",
     "start_time": "2024-09-17T15:01:37.432233Z"
    }
   },
   "source": [
    "import pandas as pd\n",
    "from rdkit.Chem import PandasTools\n",
    "import os"
   ],
   "outputs": [],
   "execution_count": 15
  },
  {
   "metadata": {},
   "cell_type": "markdown",
   "source": [
    "## 1. Download hits from Fragalysis\n",
    "See http://hippo.winokan.com/en/latest/fragalysis.html#hippo.fragalysis.download_target \n",
    "## 2. Prepare `templates` folder by moving the **apo-desolv.pdbs there\n",
    "## 3. Prepare master CSV from SDF"
   ],
   "id": "48d2b1c694eccc5b"
  },
  {
   "metadata": {
    "ExecuteTime": {
     "end_time": "2024-09-17T15:01:37.948191Z",
     "start_time": "2024-09-17T15:01:37.452874Z"
    }
   },
   "cell_type": "code",
   "source": [
    "# prepare master csv\n",
    "orig = PandasTools.LoadSDF('scaffolds_354.sdf')\n",
    "rows = []\n",
    "for i, row in orig.iterrows():\n",
    "    if i == 0:\n",
    "        continue\n",
    "    hits: list[str] = row['ref_mols'].split(',')\n",
    "    if len(hits) > 2:\n",
    "        print(f'{i} has more than 2 hits')\n",
    "    new_row = {\n",
    "        'smiles': row['original SMILES'],\n",
    "        'compound_set': row['ID'],\n",
    "        'template': row['ref_pdb']\n",
    "    }\n",
    "    for i, hit in enumerate(hits):\n",
    "        new_row[f'hit{i+1}'] = hit\n",
    "    rows.append(new_row.copy())\n",
    "df = pd.concat([pd.DataFrame(rows)])\n",
    "# make df smaller for example purposes\n",
    "df = df.head()\n",
    "df.to_csv('syndirella_master.csv', index=False)\n",
    "df"
   ],
   "id": "a296917c5a29244b",
   "outputs": [
    {
     "data": {
      "text/plain": [
       "                                            smiles        compound_set  \\\n",
       "0              Cn1nccc1C(=O)NCc1csc(-c2ncn[nH]2)n1  CHIKVMac-DLS-JA001   \n",
       "1  Cc1nsc(N[C@@H]2CCC[C@H]2c2csc(-c3nc[nH]n3)n2)n1  CHIKVMac-DLS-JA002   \n",
       "2             CCc1nc(NC(=O)c2ccnc(NC3CC=CC3)c2)no1  CHIKVMac-DLS-JA003   \n",
       "3                       O=C1CC[C@H](Cn2cnccc2=O)N1  CHIKVMac-DLS-JA004   \n",
       "4                   O=c1ccncn1C[C@H]1CCS(=O)(=O)C1  CHIKVMac-DLS-JA005   \n",
       "\n",
       "  template     hit1     hit2  \n",
       "0  cx0281a  cx0892a  cx0281a  \n",
       "1  cx0281a  cx0406a  cx0281a  \n",
       "2  cx0300a  cx0441a  cx0316a  \n",
       "3  cx0300a  cx0314a  cx1114a  \n",
       "4  cx0300a  cx0314a  cx1182a  "
      ],
      "text/html": [
       "<div>\n",
       "<style scoped>\n",
       "    .dataframe tbody tr th:only-of-type {\n",
       "        vertical-align: middle;\n",
       "    }\n",
       "\n",
       "    .dataframe tbody tr th {\n",
       "        vertical-align: top;\n",
       "    }\n",
       "\n",
       "    .dataframe thead th {\n",
       "        text-align: right;\n",
       "    }\n",
       "</style>\n",
       "<table border=\"1\" class=\"dataframe\">\n",
       "  <thead>\n",
       "    <tr style=\"text-align: right;\">\n",
       "      <th></th>\n",
       "      <th>smiles</th>\n",
       "      <th>compound_set</th>\n",
       "      <th>template</th>\n",
       "      <th>hit1</th>\n",
       "      <th>hit2</th>\n",
       "    </tr>\n",
       "  </thead>\n",
       "  <tbody>\n",
       "    <tr>\n",
       "      <th>0</th>\n",
       "      <td>Cn1nccc1C(=O)NCc1csc(-c2ncn[nH]2)n1</td>\n",
       "      <td>CHIKVMac-DLS-JA001</td>\n",
       "      <td>cx0281a</td>\n",
       "      <td>cx0892a</td>\n",
       "      <td>cx0281a</td>\n",
       "    </tr>\n",
       "    <tr>\n",
       "      <th>1</th>\n",
       "      <td>Cc1nsc(N[C@@H]2CCC[C@H]2c2csc(-c3nc[nH]n3)n2)n1</td>\n",
       "      <td>CHIKVMac-DLS-JA002</td>\n",
       "      <td>cx0281a</td>\n",
       "      <td>cx0406a</td>\n",
       "      <td>cx0281a</td>\n",
       "    </tr>\n",
       "    <tr>\n",
       "      <th>2</th>\n",
       "      <td>CCc1nc(NC(=O)c2ccnc(NC3CC=CC3)c2)no1</td>\n",
       "      <td>CHIKVMac-DLS-JA003</td>\n",
       "      <td>cx0300a</td>\n",
       "      <td>cx0441a</td>\n",
       "      <td>cx0316a</td>\n",
       "    </tr>\n",
       "    <tr>\n",
       "      <th>3</th>\n",
       "      <td>O=C1CC[C@H](Cn2cnccc2=O)N1</td>\n",
       "      <td>CHIKVMac-DLS-JA004</td>\n",
       "      <td>cx0300a</td>\n",
       "      <td>cx0314a</td>\n",
       "      <td>cx1114a</td>\n",
       "    </tr>\n",
       "    <tr>\n",
       "      <th>4</th>\n",
       "      <td>O=c1ccncn1C[C@H]1CCS(=O)(=O)C1</td>\n",
       "      <td>CHIKVMac-DLS-JA005</td>\n",
       "      <td>cx0300a</td>\n",
       "      <td>cx0314a</td>\n",
       "      <td>cx1182a</td>\n",
       "    </tr>\n",
       "  </tbody>\n",
       "</table>\n",
       "</div>"
      ]
     },
     "execution_count": 16,
     "metadata": {},
     "output_type": "execute_result"
    }
   ],
   "execution_count": 16
  },
  {
   "metadata": {},
   "cell_type": "markdown",
   "source": "## 5. Save each row to seperate CSV",
   "id": "ea3024e79c9586dd"
  },
  {
   "metadata": {
    "ExecuteTime": {
     "end_time": "2024-09-17T15:01:37.994822Z",
     "start_time": "2024-09-17T15:01:37.990162Z"
    }
   },
   "cell_type": "code",
   "source": [
    "# save each row of master csv as a separate csv\n",
    "for i, row in df.iterrows():\n",
    "    # keep row names\n",
    "    row_df = row.to_frame().T\n",
    "    os.makedirs('syndirella_input', exist_ok=True)\n",
    "    row_df.to_csv(f'syndirella_input/syndirella_input{i}.csv', index=True)"
   ],
   "id": "511fc49e9827cd85",
   "outputs": [],
   "execution_count": 17
  },
  {
   "metadata": {},
   "cell_type": "markdown",
   "source": [
    "## 6. Add correct file paths to job script template at template.sh\n",
    "## 7. Replace `NUM` in template.sh with the correct number of the job"
   ],
   "id": "2b603f12649eb9ae"
  },
  {
   "metadata": {
    "ExecuteTime": {
     "end_time": "2024-09-17T15:01:38.027942Z",
     "start_time": "2024-09-17T15:01:38.022608Z"
    }
   },
   "cell_type": "code",
   "source": [
    "# Define the file path\n",
    "file_path = 'template.sh'\n",
    "\n",
    "# Define the string to search and the replacement string\n",
    "search_string = 'NUM'\n",
    "\n",
    "for i in range(len(df)):\n",
    "    replacement_string = str(i)\n",
    "    \n",
    "    # Open the file, read its contents, replace the occurrences, and write it back\n",
    "    with open(file_path, 'r') as file:\n",
    "        file_contents = file.read()\n",
    "    \n",
    "    # Replace the occurrences of the search string with the replacement string\n",
    "    new_contents = file_contents.replace(search_string, replacement_string)\n",
    "    \n",
    "    new_path = f'jobs/job{i}.sh'\n",
    "    \n",
    "    # If you want to write to a new file, you can do:\n",
    "    with open(new_path, 'w') as new_file:\n",
    "        new_file.write(new_contents)\n",
    "\n",
    "print(\"Replacement complete.\")"
   ],
   "id": "49f10c9451e2a023",
   "outputs": [
    {
     "name": "stdout",
     "output_type": "stream",
     "text": [
      "Replacement complete.\n"
     ]
    }
   ],
   "execution_count": 18
  },
  {
   "metadata": {},
   "cell_type": "markdown",
   "source": "## 7. Create a job list",
   "id": "87a6d30acf7268c8"
  },
  {
   "metadata": {
    "ExecuteTime": {
     "end_time": "2024-09-17T15:01:38.054848Z",
     "start_time": "2024-09-17T15:01:38.052445Z"
    }
   },
   "cell_type": "code",
   "source": [
    "with open('job_list.txt', 'w') as f:\n",
    "    for i in range(len(df)):\n",
    "        f.write(f'job{i}.sh\\n')"
   ],
   "id": "af42800c61e0d41b",
   "outputs": [],
   "execution_count": 19
  },
  {
   "metadata": {},
   "cell_type": "markdown",
   "source": [
    "## 8. Install syndirella into conda environment you'll use to run\n",
    "## 9. Run the jobs using `run_jobs.sh`"
   ],
   "id": "79d1aa3ea3953f43"
  },
  {
   "metadata": {},
   "cell_type": "markdown",
   "source": [
    "```\n",
    "chmod +x run_jobs.sh\n",
    "./run_jobs.sh job_list.txt /path/to/job_directory /path/to/log_directory\n",
    "```"
   ],
   "id": "b93dfa00d3f52c96"
  }
 ],
 "metadata": {
  "kernelspec": {
   "display_name": "Python 3",
   "language": "python",
   "name": "python3"
  },
  "language_info": {
   "codemirror_mode": {
    "name": "ipython",
    "version": 2
   },
   "file_extension": ".py",
   "mimetype": "text/x-python",
   "name": "python",
   "nbconvert_exporter": "python",
   "pygments_lexer": "ipython2",
   "version": "2.7.6"
  }
 },
 "nbformat": 4,
 "nbformat_minor": 5
}
