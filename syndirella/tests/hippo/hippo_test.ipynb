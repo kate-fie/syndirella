{
 "cells": [
  {
   "cell_type": "code",
   "outputs": [
    {
     "name": "stdout",
     "output_type": "stream",
     "text": [
      "The autoreload extension is already loaded. To reload it, use:\n",
      "  %reload_ext autoreload\n"
     ]
    }
   ],
   "source": [
    "%load_ext autoreload"
   ],
   "metadata": {
    "collapsed": false,
    "ExecuteTime": {
     "end_time": "2024-03-14T14:33:28.955131Z",
     "start_time": "2024-03-14T14:33:28.927740Z"
    }
   },
   "id": "1dcbba132751dae2",
   "execution_count": 12
  },
  {
   "cell_type": "code",
   "outputs": [],
   "source": [
    "%autoreload 2\n",
    "import hippo"
   ],
   "metadata": {
    "collapsed": true,
    "ExecuteTime": {
     "end_time": "2024-03-14T14:33:28.977202Z",
     "start_time": "2024-03-14T14:33:28.956119Z"
    }
   },
   "id": "initial_id",
   "execution_count": 13
  },
  {
   "cell_type": "code",
   "outputs": [
    {
     "name": "stdout",
     "output_type": "stream",
     "text": [
      "rm: test.db: No such file or directory\r\n"
     ]
    }
   ],
   "source": [
    "!rm -v test.db"
   ],
   "metadata": {
    "collapsed": false,
    "ExecuteTime": {
     "end_time": "2024-03-14T14:33:29.115804Z",
     "start_time": "2024-03-14T14:33:28.977862Z"
    }
   },
   "id": "120f9cf573e38a71",
   "execution_count": 14
  },
  {
   "cell_type": "code",
   "outputs": [
    {
     "name": "stdout",
     "output_type": "stream",
     "text": [
      "\u001B[1m\u001B[38;5;166mCreating HIPPO animal\u001B[0m\n",
      "\u001B[36mname\u001B[0m = \u001B[38;5;154manimal\u001B[0m\n",
      "\u001B[36mdb_path\u001B[0m = \u001B[38;5;11mtest.db\u001B[0m\n",
      "\u001B[2mDEBUG: hippo3.Database.__init__()\u001B[0m\n",
      "\u001B[2mDEBUG: Database.path = test.db\u001B[0m\n",
      "\u001B[2mDEBUG: hippo3.Database.connect()\u001B[0m\n",
      "\u001B[2mDEBUG: sqlite3.version='2.6.0'\u001B[0m\n",
      "\u001B[7m\u001B[32;1m SUCCESS \u001B[0m\u001B[32;1m Database connected @ \u001B[38;5;11mtest.db!\u001B[0m\n",
      "Creating blank database...\n",
      "\u001B[2mDEBUG: HIPPO.Database.create_table_compound()\u001B[0m\n",
      "\u001B[2mDEBUG: HIPPO.Database.create_table_inspiration()\u001B[0m\n",
      "\u001B[2mDEBUG: HIPPO.Database.create_table_reaction()\u001B[0m\n",
      "\u001B[2mDEBUG: HIPPO.Database.create_table_reactant()\u001B[0m\n",
      "\u001B[2mDEBUG: HIPPO.Database.create_table_pose()\u001B[0m\n",
      "\u001B[2mDEBUG: HIPPO.Database.create_table_tag()\u001B[0m\n",
      "\u001B[2mDEBUG: HIPPO.Database.create_table_quote()\u001B[0m\n",
      "\u001B[2mDEBUG: HIPPO.Database.create_table_target()\u001B[0m\n",
      "\u001B[2mDEBUG: HIPPO.Database.create_table_pattern_bfp()\u001B[0m\n",
      "\u001B[2mDEBUG: HIPPO.Database.create_table_feature()\u001B[0m\n",
      "\u001B[7m\u001B[32;1m SUCCESS \u001B[0m\u001B[32;1m Initialised animal HIPPO(\"animal\")!\u001B[0m\n"
     ]
    }
   ],
   "source": [
    "animal = hippo.HIPPO('animal', 'test.db')"
   ],
   "metadata": {
    "collapsed": false,
    "ExecuteTime": {
     "end_time": "2024-03-14T14:33:29.154979Z",
     "start_time": "2024-03-14T14:33:29.117730Z"
    }
   },
   "id": "2ae750bf7e8226c7",
   "execution_count": 15
  },
  {
   "cell_type": "code",
   "outputs": [
    {
     "name": "stdout",
     "output_type": "stream",
     "text": [
      "\u001B[36maligned_directory\u001B[0m = A71EV2A/aligned_files\u001B[0m\n"
     ]
    },
    {
     "name": "stderr",
     "output_type": "stream",
     "text": [
      "0it [00:00, ?it/s]Failed to patch pandas - unable to change molecule rendering\n",
      "1it [00:00,  7.36it/s]Failed to patch pandas - unable to change molecule rendering\n",
      "Failed to patch pandas - unable to change molecule rendering\n",
      "Failed to patch pandas - unable to change molecule rendering\n",
      "Failed to patch pandas - unable to change molecule rendering\n",
      "5it [00:00, 23.08it/s]Failed to patch pandas - unable to change molecule rendering\n",
      "Failed to patch pandas - unable to change molecule rendering\n",
      "Failed to patch pandas - unable to change molecule rendering\n",
      "Failed to patch pandas - unable to change molecule rendering\n",
      "Failed to patch pandas - unable to change molecule rendering\n",
      "10it [00:00, 26.39it/s]Failed to patch pandas - unable to change molecule rendering\n",
      "Failed to patch pandas - unable to change molecule rendering\n",
      "Failed to patch pandas - unable to change molecule rendering\n",
      "Failed to patch pandas - unable to change molecule rendering\n",
      "Failed to patch pandas - unable to change molecule rendering\n",
      "15it [00:00, 31.74it/s]Failed to patch pandas - unable to change molecule rendering\n",
      "Failed to patch pandas - unable to change molecule rendering\n",
      "Failed to patch pandas - unable to change molecule rendering\n",
      "Failed to patch pandas - unable to change molecule rendering\n",
      "19it [00:00, 31.12it/s]Failed to patch pandas - unable to change molecule rendering\n",
      "Failed to patch pandas - unable to change molecule rendering\n",
      "Failed to patch pandas - unable to change molecule rendering\n",
      "Failed to patch pandas - unable to change molecule rendering\n",
      "23it [00:00, 33.32it/s]Failed to patch pandas - unable to change molecule rendering\n",
      "Failed to patch pandas - unable to change molecule rendering\n",
      "Failed to patch pandas - unable to change molecule rendering\n",
      "Failed to patch pandas - unable to change molecule rendering\n",
      "27it [00:00, 34.33it/s]Failed to patch pandas - unable to change molecule rendering\n",
      "Failed to patch pandas - unable to change molecule rendering\n",
      "Failed to patch pandas - unable to change molecule rendering\n",
      "Failed to patch pandas - unable to change molecule rendering\n",
      "Failed to patch pandas - unable to change molecule rendering\n",
      "32it [00:01, 35.40it/s]Failed to patch pandas - unable to change molecule rendering\n",
      "Failed to patch pandas - unable to change molecule rendering\n",
      "Failed to patch pandas - unable to change molecule rendering\n",
      "Failed to patch pandas - unable to change molecule rendering\n",
      "36it [00:01, 34.37it/s]Failed to patch pandas - unable to change molecule rendering\n",
      "Failed to patch pandas - unable to change molecule rendering\n",
      "Failed to patch pandas - unable to change molecule rendering\n",
      "Failed to patch pandas - unable to change molecule rendering\n",
      "40it [00:01, 32.26it/s]Failed to patch pandas - unable to change molecule rendering\n",
      "Failed to patch pandas - unable to change molecule rendering\n",
      "Failed to patch pandas - unable to change molecule rendering\n",
      "Failed to patch pandas - unable to change molecule rendering\n",
      "Failed to patch pandas - unable to change molecule rendering\n",
      "45it [00:01, 34.08it/s]Failed to patch pandas - unable to change molecule rendering\n",
      "Failed to patch pandas - unable to change molecule rendering\n",
      "Failed to patch pandas - unable to change molecule rendering\n",
      "Failed to patch pandas - unable to change molecule rendering\n",
      "49it [00:01, 34.84it/s]Failed to patch pandas - unable to change molecule rendering\n",
      "Failed to patch pandas - unable to change molecule rendering\n",
      "Failed to patch pandas - unable to change molecule rendering\n",
      "Failed to patch pandas - unable to change molecule rendering\n",
      "53it [00:01, 35.79it/s]Failed to patch pandas - unable to change molecule rendering\n",
      "Failed to patch pandas - unable to change molecule rendering\n",
      "Failed to patch pandas - unable to change molecule rendering\n",
      "Failed to patch pandas - unable to change molecule rendering\n",
      "Failed to patch pandas - unable to change molecule rendering\n",
      "58it [00:01, 37.79it/s]Failed to patch pandas - unable to change molecule rendering\n",
      "Failed to patch pandas - unable to change molecule rendering\n",
      "Failed to patch pandas - unable to change molecule rendering\n",
      "Failed to patch pandas - unable to change molecule rendering\n",
      "62it [00:01, 37.11it/s]Failed to patch pandas - unable to change molecule rendering\n",
      "Failed to patch pandas - unable to change molecule rendering\n",
      "Failed to patch pandas - unable to change molecule rendering\n",
      "Failed to patch pandas - unable to change molecule rendering\n",
      "Failed to patch pandas - unable to change molecule rendering\n",
      "67it [00:02, 33.41it/s]Failed to patch pandas - unable to change molecule rendering\n",
      "Failed to patch pandas - unable to change molecule rendering\n",
      "Failed to patch pandas - unable to change molecule rendering\n",
      "Failed to patch pandas - unable to change molecule rendering\n",
      "71it [00:02, 33.32it/s]Failed to patch pandas - unable to change molecule rendering\n",
      "Failed to patch pandas - unable to change molecule rendering\n",
      "Failed to patch pandas - unable to change molecule rendering\n",
      "Failed to patch pandas - unable to change molecule rendering\n",
      "75it [00:02, 34.46it/s]Failed to patch pandas - unable to change molecule rendering\n",
      "Failed to patch pandas - unable to change molecule rendering\n",
      "Failed to patch pandas - unable to change molecule rendering\n",
      "Failed to patch pandas - unable to change molecule rendering\n",
      "Failed to patch pandas - unable to change molecule rendering\n",
      "80it [00:02, 36.49it/s]Failed to patch pandas - unable to change molecule rendering\n",
      "Failed to patch pandas - unable to change molecule rendering\n",
      "Failed to patch pandas - unable to change molecule rendering\n",
      "Failed to patch pandas - unable to change molecule rendering\n",
      "84it [00:02, 36.42it/s]Failed to patch pandas - unable to change molecule rendering\n",
      "Failed to patch pandas - unable to change molecule rendering\n",
      "Failed to patch pandas - unable to change molecule rendering\n",
      "Failed to patch pandas - unable to change molecule rendering\n",
      "Failed to patch pandas - unable to change molecule rendering\n",
      "89it [00:02, 38.35it/s]Failed to patch pandas - unable to change molecule rendering\n",
      "Failed to patch pandas - unable to change molecule rendering\n",
      "Failed to patch pandas - unable to change molecule rendering\n",
      "Failed to patch pandas - unable to change molecule rendering\n",
      "93it [00:02, 38.76it/s]Failed to patch pandas - unable to change molecule rendering\n",
      "Failed to patch pandas - unable to change molecule rendering\n",
      "Failed to patch pandas - unable to change molecule rendering\n",
      "Failed to patch pandas - unable to change molecule rendering\n",
      "97it [00:02, 32.74it/s]Failed to patch pandas - unable to change molecule rendering\n"
     ]
    },
    {
     "name": "stdout",
     "output_type": "stream",
     "text": [
      "\u001B[38;5;166mWarning: Unknown residue type for \u001B[38;5;154mGOL\u001B[0m\u001B[0m\n",
      "\u001B[38;5;166mWarning: Defaulting to ligand \u001B[38;5;154mGOL\u001B[0m\u001B[0m\n",
      "\u001B[38;5;166mWarning: Unknown residue type for \u001B[38;5;154mGOL\u001B[0m\u001B[0m\n",
      "\u001B[38;5;166mWarning: Defaulting to ligand \u001B[38;5;154mGOL\u001B[0m\u001B[0m\n",
      "\u001B[38;5;166mWarning: Unknown residue type for \u001B[38;5;154mGOL\u001B[0m\u001B[0m\n",
      "\u001B[38;5;166mWarning: Defaulting to ligand \u001B[38;5;154mGOL\u001B[0m\u001B[0m\n",
      "\u001B[38;5;166mWarning: Unknown residue type for \u001B[38;5;154mGOL\u001B[0m\u001B[0m\n",
      "\u001B[38;5;166mWarning: Defaulting to ligand \u001B[38;5;154mGOL\u001B[0m\u001B[0m\n",
      "\u001B[38;5;166mWarning: Unknown residue type for \u001B[38;5;154mGOL\u001B[0m\u001B[0m\n",
      "\u001B[38;5;166mWarning: Defaulting to ligand \u001B[38;5;154mGOL\u001B[0m\u001B[0m\n",
      "\u001B[38;5;166mWarning: Unknown residue type for \u001B[38;5;154mGOL\u001B[0m\u001B[0m\n",
      "\u001B[38;5;166mWarning: Defaulting to ligand \u001B[38;5;154mGOL\u001B[0m\u001B[0m\n",
      "\u001B[38;5;166mWarning: Unknown residue type for \u001B[38;5;154mGOL\u001B[0m\u001B[0m\n",
      "\u001B[38;5;166mWarning: Defaulting to ligand \u001B[38;5;154mGOL\u001B[0m\u001B[0m\n",
      "\u001B[38;5;166mWarning: Unknown residue type for \u001B[38;5;154mGOL\u001B[0m\u001B[0m\n",
      "\u001B[38;5;166mWarning: Defaulting to ligand \u001B[38;5;154mGOL\u001B[0m\u001B[0m\n",
      "\u001B[38;5;166mWarning: Unknown residue type for \u001B[38;5;154mGOL\u001B[0m\u001B[0m\n",
      "\u001B[38;5;166mWarning: Defaulting to ligand \u001B[38;5;154mGOL\u001B[0m\u001B[0m\n",
      "\u001B[38;5;166mWarning: Unknown residue type for \u001B[38;5;154mGOL\u001B[0m\u001B[0m\n",
      "\u001B[38;5;166mWarning: Defaulting to ligand \u001B[38;5;154mGOL\u001B[0m\u001B[0m\n"
     ]
    },
    {
     "name": "stderr",
     "output_type": "stream",
     "text": [
      "Failed to patch pandas - unable to change molecule rendering\n",
      "Failed to patch pandas - unable to change molecule rendering\n",
      "Failed to patch pandas - unable to change molecule rendering\n",
      "101it [00:03, 32.01it/s]Failed to patch pandas - unable to change molecule rendering\n",
      "Failed to patch pandas - unable to change molecule rendering\n",
      "Failed to patch pandas - unable to change molecule rendering\n",
      "Failed to patch pandas - unable to change molecule rendering\n",
      "105it [00:03, 33.60it/s]Failed to patch pandas - unable to change molecule rendering\n",
      "Failed to patch pandas - unable to change molecule rendering\n",
      "107it [00:03, 33.78it/s]"
     ]
    },
    {
     "name": "stdout",
     "output_type": "stream",
     "text": [
      "\u001B[36m#directories parsed\u001B[0m = 107\u001B[0m\n",
      "\u001B[36m#compounds registered\u001B[0m = 84\u001B[0m\n",
      "\u001B[36m#poses registered\u001B[0m = 107\u001B[0m\n"
     ]
    },
    {
     "name": "stderr",
     "output_type": "stream",
     "text": [
      "\n"
     ]
    },
    {
     "data": {
      "text/plain": "        Code                                  Long code Compound code  \\\n0    Ax0450a  A71EV2A-x0450_A_201_A71EV2A-x0501+A+152+1    Z100642432   \n1    Ax0451a  A71EV2A-x0451_A_201_A71EV2A-x0501+A+152+1    Z100643660   \n2    Ax0469a  A71EV2A-x0469_A_147_A71EV2A-x0469+A+147+1    Z104924088   \n3    Ax0473a  A71EV2A-x0473_A_147_A71EV2A-x0501+A+152+1   Z1082839290   \n4    Ax0486a  A71EV2A-x0486_A_147_A71EV2A-x0486+A+147+1   Z1148165337   \n..       ...                                        ...           ...   \n102  Ax1180b  A71EV2A-x1180_B_151_A71EV2A-x0501+A+152+1   Z1198183601   \n103  Ax1209a  A71EV2A-x1209_A_151_A71EV2A-x0501+A+152+1   Z1203730981   \n104  Ax1255a  A71EV2A-x1255_B_201_A71EV2A-x0501+A+152+1  NCL-00024387   \n105  Ax1292a  A71EV2A-x1292_A_151_A71EV2A-x0501+A+152+1     Z57473948   \n106  Ax1293a  A71EV2A-x1293_A_151_A71EV2A-x0395+A+148+1    Z362020366   \n\n                        Smiles  Downloaded      ConformerSites CanonSites  \\\n0      CN(C)C(=O)c1ccc(F)cc1Br        True  9a - A71EV2A-x0501   9 - A152   \n1      CNC(=O)c1cn(C)c2ccccc12        True  9a - A71EV2A-x0501   9 - A152   \n2      CC(C)N1CCN(c2ncccn2)CC1        True  6b - A71EV2A-x0469   6 - A147   \n3    O=S(=O)(NC1CCCC1)C1CCOCC1        True  9a - A71EV2A-x0501   9 - A152   \n4     CN(C)C(=O)Cn1ncc2ccccc21        True  7a - A71EV2A-x0486   7 - A147   \n..                         ...         ...                 ...        ...   \n102               Clc1c[nH]cn1        True  9a - A71EV2A-x0501   9 - A152   \n103               Brc1ncc[nH]1        True  9a - A71EV2A-x0501   9 - A152   \n104         COCCn1ccc(Br)cc1=O        True  9a - A71EV2A-x0501   9 - A152   \n105       O=C(NC1CC1)c1ccccc1O        True  9a - A71EV2A-x0501   9 - A152   \n106             Nc1nnc2ccccn12        True  2a - A71EV2A-x0395   2 - A148   \n\n                                      CrystalformSites Quatassemblies  \\\n0    F2f - A71_2A_open_small_cell - A71EV2A-x0450/A...   A1 - monomer   \n1            F1g - A71_2A_open - A71EV2A-x0451/A/201/1   A1 - monomer   \n2            F1h - A71_2A_open - A71EV2A-x0469/A/147/1   A1 - monomer   \n3            F1g - A71_2A_open - A71EV2A-x0451/A/201/1   A1 - monomer   \n4            F1i - A71_2A_open - A71EV2A-x0486/A/147/1   A1 - monomer   \n..                                                 ...            ...   \n102  F3l - A71_2A_open_long_cell - A71EV2A-x0501/A/...   A1 - monomer   \n103  F3l - A71_2A_open_long_cell - A71EV2A-x0501/A/...   A1 - monomer   \n104  F3l - A71_2A_open_long_cell - A71EV2A-x0501/A/...   A1 - monomer   \n105  F3l - A71_2A_open_long_cell - A71EV2A-x0501/A/...   A1 - monomer   \n106  F3v - A71_2A_open_long_cell - A71EV2A-x1293/A/...   A1 - monomer   \n\n                    Crystalforms  \n0    F2 - A71_2A_open_small_cell  \n1               F1 - A71_2A_open  \n2               F1 - A71_2A_open  \n3               F1 - A71_2A_open  \n4               F1 - A71_2A_open  \n..                           ...  \n102   F3 - A71_2A_open_long_cell  \n103   F3 - A71_2A_open_long_cell  \n104   F3 - A71_2A_open_long_cell  \n105   F3 - A71_2A_open_long_cell  \n106   F3 - A71_2A_open_long_cell  \n\n[107 rows x 10 columns]",
      "text/html": "<div>\n<style scoped>\n    .dataframe tbody tr th:only-of-type {\n        vertical-align: middle;\n    }\n\n    .dataframe tbody tr th {\n        vertical-align: top;\n    }\n\n    .dataframe thead th {\n        text-align: right;\n    }\n</style>\n<table border=\"1\" class=\"dataframe\">\n  <thead>\n    <tr style=\"text-align: right;\">\n      <th></th>\n      <th>Code</th>\n      <th>Long code</th>\n      <th>Compound code</th>\n      <th>Smiles</th>\n      <th>Downloaded</th>\n      <th>ConformerSites</th>\n      <th>CanonSites</th>\n      <th>CrystalformSites</th>\n      <th>Quatassemblies</th>\n      <th>Crystalforms</th>\n    </tr>\n  </thead>\n  <tbody>\n    <tr>\n      <th>0</th>\n      <td>Ax0450a</td>\n      <td>A71EV2A-x0450_A_201_A71EV2A-x0501+A+152+1</td>\n      <td>Z100642432</td>\n      <td>CN(C)C(=O)c1ccc(F)cc1Br</td>\n      <td>True</td>\n      <td>9a - A71EV2A-x0501</td>\n      <td>9 - A152</td>\n      <td>F2f - A71_2A_open_small_cell - A71EV2A-x0450/A...</td>\n      <td>A1 - monomer</td>\n      <td>F2 - A71_2A_open_small_cell</td>\n    </tr>\n    <tr>\n      <th>1</th>\n      <td>Ax0451a</td>\n      <td>A71EV2A-x0451_A_201_A71EV2A-x0501+A+152+1</td>\n      <td>Z100643660</td>\n      <td>CNC(=O)c1cn(C)c2ccccc12</td>\n      <td>True</td>\n      <td>9a - A71EV2A-x0501</td>\n      <td>9 - A152</td>\n      <td>F1g - A71_2A_open - A71EV2A-x0451/A/201/1</td>\n      <td>A1 - monomer</td>\n      <td>F1 - A71_2A_open</td>\n    </tr>\n    <tr>\n      <th>2</th>\n      <td>Ax0469a</td>\n      <td>A71EV2A-x0469_A_147_A71EV2A-x0469+A+147+1</td>\n      <td>Z104924088</td>\n      <td>CC(C)N1CCN(c2ncccn2)CC1</td>\n      <td>True</td>\n      <td>6b - A71EV2A-x0469</td>\n      <td>6 - A147</td>\n      <td>F1h - A71_2A_open - A71EV2A-x0469/A/147/1</td>\n      <td>A1 - monomer</td>\n      <td>F1 - A71_2A_open</td>\n    </tr>\n    <tr>\n      <th>3</th>\n      <td>Ax0473a</td>\n      <td>A71EV2A-x0473_A_147_A71EV2A-x0501+A+152+1</td>\n      <td>Z1082839290</td>\n      <td>O=S(=O)(NC1CCCC1)C1CCOCC1</td>\n      <td>True</td>\n      <td>9a - A71EV2A-x0501</td>\n      <td>9 - A152</td>\n      <td>F1g - A71_2A_open - A71EV2A-x0451/A/201/1</td>\n      <td>A1 - monomer</td>\n      <td>F1 - A71_2A_open</td>\n    </tr>\n    <tr>\n      <th>4</th>\n      <td>Ax0486a</td>\n      <td>A71EV2A-x0486_A_147_A71EV2A-x0486+A+147+1</td>\n      <td>Z1148165337</td>\n      <td>CN(C)C(=O)Cn1ncc2ccccc21</td>\n      <td>True</td>\n      <td>7a - A71EV2A-x0486</td>\n      <td>7 - A147</td>\n      <td>F1i - A71_2A_open - A71EV2A-x0486/A/147/1</td>\n      <td>A1 - monomer</td>\n      <td>F1 - A71_2A_open</td>\n    </tr>\n    <tr>\n      <th>...</th>\n      <td>...</td>\n      <td>...</td>\n      <td>...</td>\n      <td>...</td>\n      <td>...</td>\n      <td>...</td>\n      <td>...</td>\n      <td>...</td>\n      <td>...</td>\n      <td>...</td>\n    </tr>\n    <tr>\n      <th>102</th>\n      <td>Ax1180b</td>\n      <td>A71EV2A-x1180_B_151_A71EV2A-x0501+A+152+1</td>\n      <td>Z1198183601</td>\n      <td>Clc1c[nH]cn1</td>\n      <td>True</td>\n      <td>9a - A71EV2A-x0501</td>\n      <td>9 - A152</td>\n      <td>F3l - A71_2A_open_long_cell - A71EV2A-x0501/A/...</td>\n      <td>A1 - monomer</td>\n      <td>F3 - A71_2A_open_long_cell</td>\n    </tr>\n    <tr>\n      <th>103</th>\n      <td>Ax1209a</td>\n      <td>A71EV2A-x1209_A_151_A71EV2A-x0501+A+152+1</td>\n      <td>Z1203730981</td>\n      <td>Brc1ncc[nH]1</td>\n      <td>True</td>\n      <td>9a - A71EV2A-x0501</td>\n      <td>9 - A152</td>\n      <td>F3l - A71_2A_open_long_cell - A71EV2A-x0501/A/...</td>\n      <td>A1 - monomer</td>\n      <td>F3 - A71_2A_open_long_cell</td>\n    </tr>\n    <tr>\n      <th>104</th>\n      <td>Ax1255a</td>\n      <td>A71EV2A-x1255_B_201_A71EV2A-x0501+A+152+1</td>\n      <td>NCL-00024387</td>\n      <td>COCCn1ccc(Br)cc1=O</td>\n      <td>True</td>\n      <td>9a - A71EV2A-x0501</td>\n      <td>9 - A152</td>\n      <td>F3l - A71_2A_open_long_cell - A71EV2A-x0501/A/...</td>\n      <td>A1 - monomer</td>\n      <td>F3 - A71_2A_open_long_cell</td>\n    </tr>\n    <tr>\n      <th>105</th>\n      <td>Ax1292a</td>\n      <td>A71EV2A-x1292_A_151_A71EV2A-x0501+A+152+1</td>\n      <td>Z57473948</td>\n      <td>O=C(NC1CC1)c1ccccc1O</td>\n      <td>True</td>\n      <td>9a - A71EV2A-x0501</td>\n      <td>9 - A152</td>\n      <td>F3l - A71_2A_open_long_cell - A71EV2A-x0501/A/...</td>\n      <td>A1 - monomer</td>\n      <td>F3 - A71_2A_open_long_cell</td>\n    </tr>\n    <tr>\n      <th>106</th>\n      <td>Ax1293a</td>\n      <td>A71EV2A-x1293_A_151_A71EV2A-x0395+A+148+1</td>\n      <td>Z362020366</td>\n      <td>Nc1nnc2ccccn12</td>\n      <td>True</td>\n      <td>2a - A71EV2A-x0395</td>\n      <td>2 - A148</td>\n      <td>F3v - A71_2A_open_long_cell - A71EV2A-x1293/A/...</td>\n      <td>A1 - monomer</td>\n      <td>F3 - A71_2A_open_long_cell</td>\n    </tr>\n  </tbody>\n</table>\n<p>107 rows × 10 columns</p>\n</div>"
     },
     "execution_count": 16,
     "metadata": {},
     "output_type": "execute_result"
    }
   ],
   "source": [
    "animal.add_hits(target_name='A71EV2A', metadata_csv='A71EV2A/metadata.csv', aligned_directory='A71EV2A/aligned_files')"
   ],
   "metadata": {
    "collapsed": false,
    "ExecuteTime": {
     "end_time": "2024-03-14T14:33:32.368631Z",
     "start_time": "2024-03-14T14:33:29.155579Z"
    }
   },
   "id": "a380d9fad4f9d909",
   "execution_count": 16
  },
  {
   "cell_type": "code",
   "outputs": [],
   "source": [],
   "metadata": {
    "collapsed": false
   },
   "id": "f082123a352bf043",
   "execution_count": null
  },
  {
   "cell_type": "code",
   "outputs": [
    {
     "data": {
      "text/plain": "<rdkit.Chem.rdchem.Mol at 0x29687f1a0>",
      "image/png": "[encoded data removed]"
     },
     "execution_count": 23,
     "metadata": {},
     "output_type": "execute_result"
    }
   ],
   "source": [
    "animal.compounds[5].mol"
   ],
   "metadata": {
    "collapsed": false,
    "ExecuteTime": {
     "end_time": "2024-03-14T14:38:58.935015Z",
     "start_time": "2024-03-14T14:38:58.882603Z"
    }
   },
   "id": "b406417ad32f5a86",
   "execution_count": 23
  },
  {
   "cell_type": "code",
   "outputs": [],
   "source": [
    "pose = animal.compounds[5].poses[0]"
   ],
   "metadata": {
    "collapsed": false,
    "ExecuteTime": {
     "end_time": "2024-03-14T14:39:27.854868Z",
     "start_time": "2024-03-14T14:39:27.822633Z"
    }
   },
   "id": "1d1af9be73c29428",
   "execution_count": 25
  },
  {
   "cell_type": "code",
   "outputs": [
    {
     "data": {
      "text/plain": "{'ConformerSites': '10a - A71EV2A-x0528', 'CanonSites': '10 - A201', 'CrystalformSites': 'F2o - A71_2A_open_small_cell - A71EV2A-x0528/A/201/1', 'Quatassemblies': 'A1 - monomer', 'Crystalforms': 'F2 - A71_2A_open_small_cell'}"
     },
     "execution_count": 28,
     "metadata": {},
     "output_type": "execute_result"
    }
   ],
   "source": [
    "pose.metadata"
   ],
   "metadata": {
    "collapsed": false,
    "ExecuteTime": {
     "end_time": "2024-03-14T14:39:50.265209Z",
     "start_time": "2024-03-14T14:39:50.236127Z"
    }
   },
   "id": "6d9db44ee3da66c5",
   "execution_count": 28
  },
  {
   "cell_type": "code",
   "outputs": [
    {
     "data": {
      "application/vnd.plotly.v1+json": {
       "data": [
        {
         "alignmentgroup": "True",
         "bingroup": "x",
         "hovertemplate": "CanonSites=%{x}<br>count=%{y}<extra></extra>",
         "legendgroup": "",
         "marker": {
          "color": "#636efa",
          "pattern": {
           "shape": ""
          }
         },
         "name": "",
         "offsetgroup": "",
         "orientation": "v",
         "showlegend": false,
         "x": [
          "2 - A148",
          "9 - A152",
          "9 - A152",
          "9 - A152",
          "10 - A201",
          "9 - A152",
          "11 - A147",
          "11 - A147",
          "9 - A152",
          "11 - A147",
          "5 - A147",
          "11 - A147",
          "14 - A147",
          "9 - A152",
          "2 - A148",
          "9 - A152",
          "9 - A152",
          "11 - A147",
          "9 - A152",
          "9 - A152",
          "9 - A152",
          "9 - A152",
          "16 - A201",
          "8 - A147",
          "9 - A152",
          "11 - A147",
          "16 - A201",
          "11 - A147",
          "12 - A147",
          "2 - A148",
          "7 - A147",
          "9 - A152",
          "9 - A152",
          "2 - A148",
          "10 - A201",
          "10 - A201",
          "9 - A152",
          "6 - A147",
          "9 - A152",
          "2 - A148",
          "9 - A152",
          "2 - A148",
          "7 - A147",
          "10 - A201",
          "9 - A152",
          "9 - A152",
          "2 - A148",
          "4 - A147",
          "2 - A148",
          "2 - A148",
          "9 - A152",
          "11 - A147",
          "9 - A152",
          "9 - A152",
          "9 - A152",
          "9 - A152",
          "3 - A147",
          "2 - A148",
          "9 - A152",
          "2 - A148",
          "11 - A147",
          "9 - A152",
          "9 - A152",
          "9 - A152",
          "11 - A147",
          "10 - A201",
          "9 - A152",
          "9 - A152",
          "9 - A152",
          "11 - A147",
          "2 - A148",
          "9 - A152",
          "8 - A147",
          "9 - A152",
          "7 - A147",
          "8 - A147",
          "15 - A147",
          "7 - A147",
          "9 - A152",
          "13 - A147",
          "10 - A201",
          "2 - A148",
          "9 - A152",
          "2 - A148",
          "9 - A152",
          "9 - A152",
          "9 - A152",
          "6 - A147",
          "9 - A152",
          "2 - A148",
          "14 - A147",
          "9 - A152",
          "2 - A148",
          "10 - A201",
          "2 - A148",
          "1 - A147",
          "9 - A152",
          "9 - A152",
          "10 - A201",
          "9 - A152",
          "9 - A152",
          "9 - A152",
          "2 - A148",
          "8 - A147",
          "5 - A147",
          "9 - A152",
          "10 - A201"
         ],
         "xaxis": "x",
         "yaxis": "y",
         "type": "histogram"
        }
       ],
       "layout": {
        "template": {
         "data": {
          "histogram2dcontour": [
           {
            "type": "histogram2dcontour",
            "colorbar": {
             "outlinewidth": 0,
             "ticks": ""
            },
            "colorscale": [
             [
              0.0,
              "#0d0887"
             ],
             [
              0.1111111111111111,
              "#46039f"
             ],
             [
              0.2222222222222222,
              "#7201a8"
             ],
             [
              0.3333333333333333,
              "#9c179e"
             ],
             [
              0.4444444444444444,
              "#bd3786"
             ],
             [
              0.5555555555555556,
              "#d8576b"
             ],
             [
              0.6666666666666666,
              "#ed7953"
             ],
             [
              0.7777777777777778,
              "#fb9f3a"
             ],
             [
              0.8888888888888888,
              "#fdca26"
             ],
             [
              1.0,
              "#f0f921"
             ]
            ]
           }
          ],
          "choropleth": [
           {
            "type": "choropleth",
            "colorbar": {
             "outlinewidth": 0,
             "ticks": ""
            }
           }
          ],
          "histogram2d": [
           {
            "type": "histogram2d",
            "colorbar": {
             "outlinewidth": 0,
             "ticks": ""
            },
            "colorscale": [
             [
              0.0,
              "#0d0887"
             ],
             [
              0.1111111111111111,
              "#46039f"
             ],
             [
              0.2222222222222222,
              "#7201a8"
             ],
             [
              0.3333333333333333,
              "#9c179e"
             ],
             [
              0.4444444444444444,
              "#bd3786"
             ],
             [
              0.5555555555555556,
              "#d8576b"
             ],
             [
              0.6666666666666666,
              "#ed7953"
             ],
             [
              0.7777777777777778,
              "#fb9f3a"
             ],
             [
              0.8888888888888888,
              "#fdca26"
             ],
             [
              1.0,
              "#f0f921"
             ]
            ]
           }
          ],
          "heatmap": [
           {
            "type": "heatmap",
            "colorbar": {
             "outlinewidth": 0,
             "ticks": ""
            },
            "colorscale": [
             [
              0.0,
              "#0d0887"
             ],
             [
              0.1111111111111111,
              "#46039f"
             ],
             [
              0.2222222222222222,
              "#7201a8"
             ],
             [
              0.3333333333333333,
              "#9c179e"
             ],
             [
              0.4444444444444444,
              "#bd3786"
             ],
             [
              0.5555555555555556,
              "#d8576b"
             ],
             [
              0.6666666666666666,
              "#ed7953"
             ],
             [
              0.7777777777777778,
              "#fb9f3a"
             ],
             [
              0.8888888888888888,
              "#fdca26"
             ],
             [
              1.0,
              "#f0f921"
             ]
            ]
           }
          ],
          "heatmapgl": [
           {
            "type": "heatmapgl",
            "colorbar": {
             "outlinewidth": 0,
             "ticks": ""
            },
            "colorscale": [
             [
              0.0,
              "#0d0887"
             ],
             [
              0.1111111111111111,
              "#46039f"
             ],
             [
              0.2222222222222222,
              "#7201a8"
             ],
             [
              0.3333333333333333,
              "#9c179e"
             ],
             [
              0.4444444444444444,
              "#bd3786"
             ],
             [
              0.5555555555555556,
              "#d8576b"
             ],
             [
              0.6666666666666666,
              "#ed7953"
             ],
             [
              0.7777777777777778,
              "#fb9f3a"
             ],
             [
              0.8888888888888888,
              "#fdca26"
             ],
             [
              1.0,
              "#f0f921"
             ]
            ]
           }
          ],
          "contourcarpet": [
           {
            "type": "contourcarpet",
            "colorbar": {
             "outlinewidth": 0,
             "ticks": ""
            }
           }
          ],
          "contour": [
           {
            "type": "contour",
            "colorbar": {
             "outlinewidth": 0,
             "ticks": ""
            },
            "colorscale": [
             [
              0.0,
              "#0d0887"
             ],
             [
              0.1111111111111111,
              "#46039f"
             ],
             [
              0.2222222222222222,
              "#7201a8"
             ],
             [
              0.3333333333333333,
              "#9c179e"
             ],
             [
              0.4444444444444444,
              "#bd3786"
             ],
             [
              0.5555555555555556,
              "#d8576b"
             ],
             [
              0.6666666666666666,
              "#ed7953"
             ],
             [
              0.7777777777777778,
              "#fb9f3a"
             ],
             [
              0.8888888888888888,
              "#fdca26"
             ],
             [
              1.0,
              "#f0f921"
             ]
            ]
           }
          ],
          "surface": [
           {
            "type": "surface",
            "colorbar": {
             "outlinewidth": 0,
             "ticks": ""
            },
            "colorscale": [
             [
              0.0,
              "#0d0887"
             ],
             [
              0.1111111111111111,
              "#46039f"
             ],
             [
              0.2222222222222222,
              "#7201a8"
             ],
             [
              0.3333333333333333,
              "#9c179e"
             ],
             [
              0.4444444444444444,
              "#bd3786"
             ],
             [
              0.5555555555555556,
              "#d8576b"
             ],
             [
              0.6666666666666666,
              "#ed7953"
             ],
             [
              0.7777777777777778,
              "#fb9f3a"
             ],
             [
              0.8888888888888888,
              "#fdca26"
             ],
             [
              1.0,
              "#f0f921"
             ]
            ]
           }
          ],
          "mesh3d": [
           {
            "type": "mesh3d",
            "colorbar": {
             "outlinewidth": 0,
             "ticks": ""
            }
           }
          ],
          "scatter": [
           {
            "fillpattern": {
             "fillmode": "overlay",
             "size": 10,
             "solidity": 0.2
            },
            "type": "scatter"
           }
          ],
          "parcoords": [
           {
            "type": "parcoords",
            "line": {
             "colorbar": {
              "outlinewidth": 0,
              "ticks": ""
             }
            }
           }
          ],
          "scatterpolargl": [
           {
            "type": "scatterpolargl",
            "marker": {
             "colorbar": {
              "outlinewidth": 0,
              "ticks": ""
             }
            }
           }
          ],
          "bar": [
           {
            "error_x": {
             "color": "#2a3f5f"
            },
            "error_y": {
             "color": "#2a3f5f"
            },
            "marker": {
             "line": {
              "color": "#E5ECF6",
              "width": 0.5
             },
             "pattern": {
              "fillmode": "overlay",
              "size": 10,
              "solidity": 0.2
             }
            },
            "type": "bar"
           }
          ],
          "scattergeo": [
           {
            "type": "scattergeo",
            "marker": {
             "colorbar": {
              "outlinewidth": 0,
              "ticks": ""
             }
            }
           }
          ],
          "scatterpolar": [
           {
            "type": "scatterpolar",
            "marker": {
             "colorbar": {
              "outlinewidth": 0,
              "ticks": ""
             }
            }
           }
          ],
          "histogram": [
           {
            "marker": {
             "pattern": {
              "fillmode": "overlay",
              "size": 10,
              "solidity": 0.2
             }
            },
            "type": "histogram"
           }
          ],
          "scattergl": [
           {
            "type": "scattergl",
            "marker": {
             "colorbar": {
              "outlinewidth": 0,
              "ticks": ""
             }
            }
           }
          ],
          "scatter3d": [
           {
            "type": "scatter3d",
            "line": {
             "colorbar": {
              "outlinewidth": 0,
              "ticks": ""
             }
            },
            "marker": {
             "colorbar": {
              "outlinewidth": 0,
              "ticks": ""
             }
            }
           }
          ],
          "scattermapbox": [
           {
            "type": "scattermapbox",
            "marker": {
             "colorbar": {
              "outlinewidth": 0,
              "ticks": ""
             }
            }
           }
          ],
          "scatterternary": [
           {
            "type": "scatterternary",
            "marker": {
             "colorbar": {
              "outlinewidth": 0,
              "ticks": ""
             }
            }
           }
          ],
          "scattercarpet": [
           {
            "type": "scattercarpet",
            "marker": {
             "colorbar": {
              "outlinewidth": 0,
              "ticks": ""
             }
            }
           }
          ],
          "carpet": [
           {
            "aaxis": {
             "endlinecolor": "#2a3f5f",
             "gridcolor": "white",
             "linecolor": "white",
             "minorgridcolor": "white",
             "startlinecolor": "#2a3f5f"
            },
            "baxis": {
             "endlinecolor": "#2a3f5f",
             "gridcolor": "white",
             "linecolor": "white",
             "minorgridcolor": "white",
             "startlinecolor": "#2a3f5f"
            },
            "type": "carpet"
           }
          ],
          "table": [
           {
            "cells": {
             "fill": {
              "color": "#EBF0F8"
             },
             "line": {
              "color": "white"
             }
            },
            "header": {
             "fill": {
              "color": "#C8D4E3"
             },
             "line": {
              "color": "white"
             }
            },
            "type": "table"
           }
          ],
          "barpolar": [
           {
            "marker": {
             "line": {
              "color": "#E5ECF6",
              "width": 0.5
             },
             "pattern": {
              "fillmode": "overlay",
              "size": 10,
              "solidity": 0.2
             }
            },
            "type": "barpolar"
           }
          ],
          "pie": [
           {
            "automargin": true,
            "type": "pie"
           }
          ]
         },
         "layout": {
          "autotypenumbers": "strict",
          "colorway": [
           "#636efa",
           "#EF553B",
           "#00cc96",
           "#ab63fa",
           "#FFA15A",
           "#19d3f3",
           "#FF6692",
           "#B6E880",
           "#FF97FF",
           "#FECB52"
          ],
          "font": {
           "color": "#2a3f5f"
          },
          "hovermode": "closest",
          "hoverlabel": {
           "align": "left"
          },
          "paper_bgcolor": "white",
          "plot_bgcolor": "#E5ECF6",
          "polar": {
           "bgcolor": "#E5ECF6",
           "angularaxis": {
            "gridcolor": "white",
            "linecolor": "white",
            "ticks": ""
           },
           "radialaxis": {
            "gridcolor": "white",
            "linecolor": "white",
            "ticks": ""
           }
          },
          "ternary": {
           "bgcolor": "#E5ECF6",
           "aaxis": {
            "gridcolor": "white",
            "linecolor": "white",
            "ticks": ""
           },
           "baxis": {
            "gridcolor": "white",
            "linecolor": "white",
            "ticks": ""
           },
           "caxis": {
            "gridcolor": "white",
            "linecolor": "white",
            "ticks": ""
           }
          },
          "coloraxis": {
           "colorbar": {
            "outlinewidth": 0,
            "ticks": ""
           }
          },
          "colorscale": {
           "sequential": [
            [
             0.0,
             "#0d0887"
            ],
            [
             0.1111111111111111,
             "#46039f"
            ],
            [
             0.2222222222222222,
             "#7201a8"
            ],
            [
             0.3333333333333333,
             "#9c179e"
            ],
            [
             0.4444444444444444,
             "#bd3786"
            ],
            [
             0.5555555555555556,
             "#d8576b"
            ],
            [
             0.6666666666666666,
             "#ed7953"
            ],
            [
             0.7777777777777778,
             "#fb9f3a"
            ],
            [
             0.8888888888888888,
             "#fdca26"
            ],
            [
             1.0,
             "#f0f921"
            ]
           ],
           "sequentialminus": [
            [
             0.0,
             "#0d0887"
            ],
            [
             0.1111111111111111,
             "#46039f"
            ],
            [
             0.2222222222222222,
             "#7201a8"
            ],
            [
             0.3333333333333333,
             "#9c179e"
            ],
            [
             0.4444444444444444,
             "#bd3786"
            ],
            [
             0.5555555555555556,
             "#d8576b"
            ],
            [
             0.6666666666666666,
             "#ed7953"
            ],
            [
             0.7777777777777778,
             "#fb9f3a"
            ],
            [
             0.8888888888888888,
             "#fdca26"
            ],
            [
             1.0,
             "#f0f921"
            ]
           ],
           "diverging": [
            [
             0,
             "#8e0152"
            ],
            [
             0.1,
             "#c51b7d"
            ],
            [
             0.2,
             "#de77ae"
            ],
            [
             0.3,
             "#f1b6da"
            ],
            [
             0.4,
             "#fde0ef"
            ],
            [
             0.5,
             "#f7f7f7"
            ],
            [
             0.6,
             "#e6f5d0"
            ],
            [
             0.7,
             "#b8e186"
            ],
            [
             0.8,
             "#7fbc41"
            ],
            [
             0.9,
             "#4d9221"
            ],
            [
             1,
             "#276419"
            ]
           ]
          },
          "xaxis": {
           "gridcolor": "white",
           "linecolor": "white",
           "ticks": "",
           "title": {
            "standoff": 15
           },
           "zerolinecolor": "white",
           "automargin": true,
           "zerolinewidth": 2
          },
          "yaxis": {
           "gridcolor": "white",
           "linecolor": "white",
           "ticks": "",
           "title": {
            "standoff": 15
           },
           "zerolinecolor": "white",
           "automargin": true,
           "zerolinewidth": 2
          },
          "scene": {
           "xaxis": {
            "backgroundcolor": "#E5ECF6",
            "gridcolor": "white",
            "linecolor": "white",
            "showbackground": true,
            "ticks": "",
            "zerolinecolor": "white",
            "gridwidth": 2
           },
           "yaxis": {
            "backgroundcolor": "#E5ECF6",
            "gridcolor": "white",
            "linecolor": "white",
            "showbackground": true,
            "ticks": "",
            "zerolinecolor": "white",
            "gridwidth": 2
           },
           "zaxis": {
            "backgroundcolor": "#E5ECF6",
            "gridcolor": "white",
            "linecolor": "white",
            "showbackground": true,
            "ticks": "",
            "zerolinecolor": "white",
            "gridwidth": 2
           }
          },
          "shapedefaults": {
           "line": {
            "color": "#2a3f5f"
           }
          },
          "annotationdefaults": {
           "arrowcolor": "#2a3f5f",
           "arrowhead": 0,
           "arrowwidth": 1
          },
          "geo": {
           "bgcolor": "white",
           "landcolor": "#E5ECF6",
           "subunitcolor": "white",
           "showland": true,
           "showlakes": true,
           "lakecolor": "white"
          },
          "title": {
           "x": 0.05
          },
          "mapbox": {
           "style": "light"
          }
         }
        },
        "xaxis": {
         "anchor": "y",
         "domain": [
          0.0,
          1.0
         ],
         "title": {
          "text": "CanonSites"
         }
        },
        "yaxis": {
         "anchor": "x",
         "domain": [
          0.0,
          1.0
         ],
         "title": {
          "text": "Quantity"
         }
        },
        "legend": {
         "tracegroupgap": 0
        },
        "margin": {
         "t": 60
        },
        "barmode": "group",
        "title": {
         "text": "<b>animal</b>: Pose CanonSites<br>",
         "automargin": false,
         "yref": "container"
        },
        "images": [
         {
          "sizex": 0.3,
          "sizey": 0.3,
          "source": "https://raw.githubusercontent.com/mwinokan/HIPPO/main/logos/hippo_logo_tightcrop.png",
          "x": 0.95,
          "xanchor": "right",
          "xref": "paper",
          "y": 0.95,
          "yanchor": "top",
          "yref": "paper"
         }
        ]
       },
       "config": {
        "plotlyServerURL": "https://plot.ly"
       }
      },
      "text/html": "<div>                            <div id=\"38eec0fa-51eb-4c44-a494-347c719b50bb\" class=\"plotly-graph-div\" style=\"height:525px; width:100%;\"></div>            <script type=\"text/javascript\">                require([\"plotly\"], function(Plotly) {                    window.PLOTLYENV=window.PLOTLYENV || {};                                    if (document.getElementById(\"38eec0fa-51eb-4c44-a494-347c719b50bb\")) {                    Plotly.newPlot(                        \"38eec0fa-51eb-4c44-a494-347c719b50bb\",                        [{\"alignmentgroup\":\"True\",\"bingroup\":\"x\",\"hovertemplate\":\"CanonSites=%{x}\\u003cbr\\u003ecount=%{y}\\u003cextra\\u003e\\u003c\\u002fextra\\u003e\",\"legendgroup\":\"\",\"marker\":{\"color\":\"#636efa\",\"pattern\":{\"shape\":\"\"}},\"name\":\"\",\"offsetgroup\":\"\",\"orientation\":\"v\",\"showlegend\":false,\"x\":[\"2 - A148\",\"9 - A152\",\"9 - A152\",\"9 - A152\",\"10 - A201\",\"9 - A152\",\"11 - A147\",\"11 - A147\",\"9 - A152\",\"11 - A147\",\"5 - A147\",\"11 - A147\",\"14 - A147\",\"9 - A152\",\"2 - A148\",\"9 - A152\",\"9 - A152\",\"11 - A147\",\"9 - A152\",\"9 - A152\",\"9 - A152\",\"9 - A152\",\"16 - A201\",\"8 - A147\",\"9 - A152\",\"11 - A147\",\"16 - A201\",\"11 - A147\",\"12 - A147\",\"2 - A148\",\"7 - A147\",\"9 - A152\",\"9 - A152\",\"2 - A148\",\"10 - A201\",\"10 - A201\",\"9 - A152\",\"6 - A147\",\"9 - A152\",\"2 - A148\",\"9 - A152\",\"2 - A148\",\"7 - A147\",\"10 - A201\",\"9 - A152\",\"9 - A152\",\"2 - A148\",\"4 - A147\",\"2 - A148\",\"2 - A148\",\"9 - A152\",\"11 - A147\",\"9 - A152\",\"9 - A152\",\"9 - A152\",\"9 - A152\",\"3 - A147\",\"2 - A148\",\"9 - A152\",\"2 - A148\",\"11 - A147\",\"9 - A152\",\"9 - A152\",\"9 - A152\",\"11 - A147\",\"10 - A201\",\"9 - A152\",\"9 - A152\",\"9 - A152\",\"11 - A147\",\"2 - A148\",\"9 - A152\",\"8 - A147\",\"9 - A152\",\"7 - A147\",\"8 - A147\",\"15 - A147\",\"7 - A147\",\"9 - A152\",\"13 - A147\",\"10 - A201\",\"2 - A148\",\"9 - A152\",\"2 - A148\",\"9 - A152\",\"9 - A152\",\"9 - A152\",\"6 - A147\",\"9 - A152\",\"2 - A148\",\"14 - A147\",\"9 - A152\",\"2 - A148\",\"10 - A201\",\"2 - A148\",\"1 - A147\",\"9 - A152\",\"9 - A152\",\"10 - A201\",\"9 - A152\",\"9 - A152\",\"9 - A152\",\"2 - A148\",\"8 - A147\",\"5 - A147\",\"9 - A152\",\"10 - A201\"],\"xaxis\":\"x\",\"yaxis\":\"y\",\"type\":\"histogram\"}],                        {\"template\":{\"data\":{\"histogram2dcontour\":[{\"type\":\"histogram2dcontour\",\"colorbar\":{\"outlinewidth\":0,\"ticks\":\"\"},\"colorscale\":[[0.0,\"#0d0887\"],[0.1111111111111111,\"#46039f\"],[0.2222222222222222,\"#7201a8\"],[0.3333333333333333,\"#9c179e\"],[0.4444444444444444,\"#bd3786\"],[0.5555555555555556,\"#d8576b\"],[0.6666666666666666,\"#ed7953\"],[0.7777777777777778,\"#fb9f3a\"],[0.8888888888888888,\"#fdca26\"],[1.0,\"#f0f921\"]]}],\"choropleth\":[{\"type\":\"choropleth\",\"colorbar\":{\"outlinewidth\":0,\"ticks\":\"\"}}],\"histogram2d\":[{\"type\":\"histogram2d\",\"colorbar\":{\"outlinewidth\":0,\"ticks\":\"\"},\"colorscale\":[[0.0,\"#0d0887\"],[0.1111111111111111,\"#46039f\"],[0.2222222222222222,\"#7201a8\"],[0.3333333333333333,\"#9c179e\"],[0.4444444444444444,\"#bd3786\"],[0.5555555555555556,\"#d8576b\"],[0.6666666666666666,\"#ed7953\"],[0.7777777777777778,\"#fb9f3a\"],[0.8888888888888888,\"#fdca26\"],[1.0,\"#f0f921\"]]}],\"heatmap\":[{\"type\":\"heatmap\",\"colorbar\":{\"outlinewidth\":0,\"ticks\":\"\"},\"colorscale\":[[0.0,\"#0d0887\"],[0.1111111111111111,\"#46039f\"],[0.2222222222222222,\"#7201a8\"],[0.3333333333333333,\"#9c179e\"],[0.4444444444444444,\"#bd3786\"],[0.5555555555555556,\"#d8576b\"],[0.6666666666666666,\"#ed7953\"],[0.7777777777777778,\"#fb9f3a\"],[0.8888888888888888,\"#fdca26\"],[1.0,\"#f0f921\"]]}],\"heatmapgl\":[{\"type\":\"heatmapgl\",\"colorbar\":{\"outlinewidth\":0,\"ticks\":\"\"},\"colorscale\":[[0.0,\"#0d0887\"],[0.1111111111111111,\"#46039f\"],[0.2222222222222222,\"#7201a8\"],[0.3333333333333333,\"#9c179e\"],[0.4444444444444444,\"#bd3786\"],[0.5555555555555556,\"#d8576b\"],[0.6666666666666666,\"#ed7953\"],[0.7777777777777778,\"#fb9f3a\"],[0.8888888888888888,\"#fdca26\"],[1.0,\"#f0f921\"]]}],\"contourcarpet\":[{\"type\":\"contourcarpet\",\"colorbar\":{\"outlinewidth\":0,\"ticks\":\"\"}}],\"contour\":[{\"type\":\"contour\",\"colorbar\":{\"outlinewidth\":0,\"ticks\":\"\"},\"colorscale\":[[0.0,\"#0d0887\"],[0.1111111111111111,\"#46039f\"],[0.2222222222222222,\"#7201a8\"],[0.3333333333333333,\"#9c179e\"],[0.4444444444444444,\"#bd3786\"],[0.5555555555555556,\"#d8576b\"],[0.6666666666666666,\"#ed7953\"],[0.7777777777777778,\"#fb9f3a\"],[0.8888888888888888,\"#fdca26\"],[1.0,\"#f0f921\"]]}],\"surface\":[{\"type\":\"surface\",\"colorbar\":{\"outlinewidth\":0,\"ticks\":\"\"},\"colorscale\":[[0.0,\"#0d0887\"],[0.1111111111111111,\"#46039f\"],[0.2222222222222222,\"#7201a8\"],[0.3333333333333333,\"#9c179e\"],[0.4444444444444444,\"#bd3786\"],[0.5555555555555556,\"#d8576b\"],[0.6666666666666666,\"#ed7953\"],[0.7777777777777778,\"#fb9f3a\"],[0.8888888888888888,\"#fdca26\"],[1.0,\"#f0f921\"]]}],\"mesh3d\":[{\"type\":\"mesh3d\",\"colorbar\":{\"outlinewidth\":0,\"ticks\":\"\"}}],\"scatter\":[{\"fillpattern\":{\"fillmode\":\"overlay\",\"size\":10,\"solidity\":0.2},\"type\":\"scatter\"}],\"parcoords\":[{\"type\":\"parcoords\",\"line\":{\"colorbar\":{\"outlinewidth\":0,\"ticks\":\"\"}}}],\"scatterpolargl\":[{\"type\":\"scatterpolargl\",\"marker\":{\"colorbar\":{\"outlinewidth\":0,\"ticks\":\"\"}}}],\"bar\":[{\"error_x\":{\"color\":\"#2a3f5f\"},\"error_y\":{\"color\":\"#2a3f5f\"},\"marker\":{\"line\":{\"color\":\"#E5ECF6\",\"width\":0.5},\"pattern\":{\"fillmode\":\"overlay\",\"size\":10,\"solidity\":0.2}},\"type\":\"bar\"}],\"scattergeo\":[{\"type\":\"scattergeo\",\"marker\":{\"colorbar\":{\"outlinewidth\":0,\"ticks\":\"\"}}}],\"scatterpolar\":[{\"type\":\"scatterpolar\",\"marker\":{\"colorbar\":{\"outlinewidth\":0,\"ticks\":\"\"}}}],\"histogram\":[{\"marker\":{\"pattern\":{\"fillmode\":\"overlay\",\"size\":10,\"solidity\":0.2}},\"type\":\"histogram\"}],\"scattergl\":[{\"type\":\"scattergl\",\"marker\":{\"colorbar\":{\"outlinewidth\":0,\"ticks\":\"\"}}}],\"scatter3d\":[{\"type\":\"scatter3d\",\"line\":{\"colorbar\":{\"outlinewidth\":0,\"ticks\":\"\"}},\"marker\":{\"colorbar\":{\"outlinewidth\":0,\"ticks\":\"\"}}}],\"scattermapbox\":[{\"type\":\"scattermapbox\",\"marker\":{\"colorbar\":{\"outlinewidth\":0,\"ticks\":\"\"}}}],\"scatterternary\":[{\"type\":\"scatterternary\",\"marker\":{\"colorbar\":{\"outlinewidth\":0,\"ticks\":\"\"}}}],\"scattercarpet\":[{\"type\":\"scattercarpet\",\"marker\":{\"colorbar\":{\"outlinewidth\":0,\"ticks\":\"\"}}}],\"carpet\":[{\"aaxis\":{\"endlinecolor\":\"#2a3f5f\",\"gridcolor\":\"white\",\"linecolor\":\"white\",\"minorgridcolor\":\"white\",\"startlinecolor\":\"#2a3f5f\"},\"baxis\":{\"endlinecolor\":\"#2a3f5f\",\"gridcolor\":\"white\",\"linecolor\":\"white\",\"minorgridcolor\":\"white\",\"startlinecolor\":\"#2a3f5f\"},\"type\":\"carpet\"}],\"table\":[{\"cells\":{\"fill\":{\"color\":\"#EBF0F8\"},\"line\":{\"color\":\"white\"}},\"header\":{\"fill\":{\"color\":\"#C8D4E3\"},\"line\":{\"color\":\"white\"}},\"type\":\"table\"}],\"barpolar\":[{\"marker\":{\"line\":{\"color\":\"#E5ECF6\",\"width\":0.5},\"pattern\":{\"fillmode\":\"overlay\",\"size\":10,\"solidity\":0.2}},\"type\":\"barpolar\"}],\"pie\":[{\"automargin\":true,\"type\":\"pie\"}]},\"layout\":{\"autotypenumbers\":\"strict\",\"colorway\":[\"#636efa\",\"#EF553B\",\"#00cc96\",\"#ab63fa\",\"#FFA15A\",\"#19d3f3\",\"#FF6692\",\"#B6E880\",\"#FF97FF\",\"#FECB52\"],\"font\":{\"color\":\"#2a3f5f\"},\"hovermode\":\"closest\",\"hoverlabel\":{\"align\":\"left\"},\"paper_bgcolor\":\"white\",\"plot_bgcolor\":\"#E5ECF6\",\"polar\":{\"bgcolor\":\"#E5ECF6\",\"angularaxis\":{\"gridcolor\":\"white\",\"linecolor\":\"white\",\"ticks\":\"\"},\"radialaxis\":{\"gridcolor\":\"white\",\"linecolor\":\"white\",\"ticks\":\"\"}},\"ternary\":{\"bgcolor\":\"#E5ECF6\",\"aaxis\":{\"gridcolor\":\"white\",\"linecolor\":\"white\",\"ticks\":\"\"},\"baxis\":{\"gridcolor\":\"white\",\"linecolor\":\"white\",\"ticks\":\"\"},\"caxis\":{\"gridcolor\":\"white\",\"linecolor\":\"white\",\"ticks\":\"\"}},\"coloraxis\":{\"colorbar\":{\"outlinewidth\":0,\"ticks\":\"\"}},\"colorscale\":{\"sequential\":[[0.0,\"#0d0887\"],[0.1111111111111111,\"#46039f\"],[0.2222222222222222,\"#7201a8\"],[0.3333333333333333,\"#9c179e\"],[0.4444444444444444,\"#bd3786\"],[0.5555555555555556,\"#d8576b\"],[0.6666666666666666,\"#ed7953\"],[0.7777777777777778,\"#fb9f3a\"],[0.8888888888888888,\"#fdca26\"],[1.0,\"#f0f921\"]],\"sequentialminus\":[[0.0,\"#0d0887\"],[0.1111111111111111,\"#46039f\"],[0.2222222222222222,\"#7201a8\"],[0.3333333333333333,\"#9c179e\"],[0.4444444444444444,\"#bd3786\"],[0.5555555555555556,\"#d8576b\"],[0.6666666666666666,\"#ed7953\"],[0.7777777777777778,\"#fb9f3a\"],[0.8888888888888888,\"#fdca26\"],[1.0,\"#f0f921\"]],\"diverging\":[[0,\"#8e0152\"],[0.1,\"#c51b7d\"],[0.2,\"#de77ae\"],[0.3,\"#f1b6da\"],[0.4,\"#fde0ef\"],[0.5,\"#f7f7f7\"],[0.6,\"#e6f5d0\"],[0.7,\"#b8e186\"],[0.8,\"#7fbc41\"],[0.9,\"#4d9221\"],[1,\"#276419\"]]},\"xaxis\":{\"gridcolor\":\"white\",\"linecolor\":\"white\",\"ticks\":\"\",\"title\":{\"standoff\":15},\"zerolinecolor\":\"white\",\"automargin\":true,\"zerolinewidth\":2},\"yaxis\":{\"gridcolor\":\"white\",\"linecolor\":\"white\",\"ticks\":\"\",\"title\":{\"standoff\":15},\"zerolinecolor\":\"white\",\"automargin\":true,\"zerolinewidth\":2},\"scene\":{\"xaxis\":{\"backgroundcolor\":\"#E5ECF6\",\"gridcolor\":\"white\",\"linecolor\":\"white\",\"showbackground\":true,\"ticks\":\"\",\"zerolinecolor\":\"white\",\"gridwidth\":2},\"yaxis\":{\"backgroundcolor\":\"#E5ECF6\",\"gridcolor\":\"white\",\"linecolor\":\"white\",\"showbackground\":true,\"ticks\":\"\",\"zerolinecolor\":\"white\",\"gridwidth\":2},\"zaxis\":{\"backgroundcolor\":\"#E5ECF6\",\"gridcolor\":\"white\",\"linecolor\":\"white\",\"showbackground\":true,\"ticks\":\"\",\"zerolinecolor\":\"white\",\"gridwidth\":2}},\"shapedefaults\":{\"line\":{\"color\":\"#2a3f5f\"}},\"annotationdefaults\":{\"arrowcolor\":\"#2a3f5f\",\"arrowhead\":0,\"arrowwidth\":1},\"geo\":{\"bgcolor\":\"white\",\"landcolor\":\"#E5ECF6\",\"subunitcolor\":\"white\",\"showland\":true,\"showlakes\":true,\"lakecolor\":\"white\"},\"title\":{\"x\":0.05},\"mapbox\":{\"style\":\"light\"}}},\"xaxis\":{\"anchor\":\"y\",\"domain\":[0.0,1.0],\"title\":{\"text\":\"CanonSites\"}},\"yaxis\":{\"anchor\":\"x\",\"domain\":[0.0,1.0],\"title\":{\"text\":\"Quantity\"}},\"legend\":{\"tracegroupgap\":0},\"margin\":{\"t\":60},\"barmode\":\"group\",\"title\":{\"text\":\"\\u003cb\\u003eanimal\\u003c\\u002fb\\u003e: Pose CanonSites\\u003cbr\\u003e\",\"automargin\":false,\"yref\":\"container\"},\"images\":[{\"sizex\":0.3,\"sizey\":0.3,\"source\":\"https:\\u002f\\u002fraw.githubusercontent.com\\u002fmwinokan\\u002fHIPPO\\u002fmain\\u002flogos\\u002fhippo_logo_tightcrop.png\",\"x\":0.95,\"xanchor\":\"right\",\"xref\":\"paper\",\"y\":0.95,\"yanchor\":\"top\",\"yref\":\"paper\"}]},                        {\"responsive\": true}                    ).then(function(){\n                            \nvar gd = document.getElementById('38eec0fa-51eb-4c44-a494-347c719b50bb');\nvar x = new MutationObserver(function (mutations, observer) {{\n        var display = window.getComputedStyle(gd).display;\n        if (!display || display === 'none') {{\n            console.log([gd, 'removed!']);\n            Plotly.purge(gd);\n            observer.disconnect();\n        }}\n}});\n\n// Listen for the removal of the full notebook cells\nvar notebookContainer = gd.closest('#notebook-container');\nif (notebookContainer) {{\n    x.observe(notebookContainer, {childList: true});\n}}\n\n// Listen for the clearing of the current output cell\nvar outputEl = gd.closest('.output');\nif (outputEl) {{\n    x.observe(outputEl, {childList: true});\n}}\n\n                        })                };                });            </script>        </div>"
     },
     "metadata": {},
     "output_type": "display_data"
    }
   ],
   "source": [
    "animal.plot_pose_property('CanonSites')"
   ],
   "metadata": {
    "collapsed": false,
    "ExecuteTime": {
     "end_time": "2024-03-14T14:40:34.476845Z",
     "start_time": "2024-03-14T14:40:34.408211Z"
    }
   },
   "id": "c885bf14c3a657f9",
   "execution_count": 31
  },
  {
   "cell_type": "code",
   "outputs": [],
   "source": [
    "ids = []\n",
    "\n",
    "for hit in animal.poses:\n",
    "    if hit.metadata['CanonSites'].startswith('10'):\n",
    "        ids.append(hit.id)"
   ],
   "metadata": {
    "collapsed": false,
    "ExecuteTime": {
     "end_time": "2024-03-14T14:41:46.975471Z",
     "start_time": "2024-03-14T14:41:46.911543Z"
    }
   },
   "id": "640975486e2d6aa0",
   "execution_count": 32
  },
  {
   "cell_type": "code",
   "outputs": [
    {
     "data": {
      "text/plain": "[5, 35, 36, 44, 66, 81, 94, 99, 107]"
     },
     "execution_count": 33,
     "metadata": {},
     "output_type": "execute_result"
    }
   ],
   "source": [
    "ids"
   ],
   "metadata": {
    "collapsed": false,
    "ExecuteTime": {
     "end_time": "2024-03-14T14:41:48.823530Z",
     "start_time": "2024-03-14T14:41:48.789680Z"
    }
   },
   "id": "cc332e73691ff9b6",
   "execution_count": 33
  },
  {
   "cell_type": "code",
   "outputs": [],
   "source": [
    "canon_hits = animal.poses[ids]"
   ],
   "metadata": {
    "collapsed": false,
    "ExecuteTime": {
     "end_time": "2024-03-14T14:42:32.317614Z",
     "start_time": "2024-03-14T14:42:31.845058Z"
    }
   },
   "id": "f1f066d66cf08b0c",
   "execution_count": 35
  },
  {
   "cell_type": "code",
   "outputs": [
    {
     "data": {
      "text/plain": "\u001B[1m\u001B[4msubset(P x 9)\u001B[22m\u001B[24m"
     },
     "execution_count": 37,
     "metadata": {},
     "output_type": "execute_result"
    }
   ],
   "source": [
    "canon_hits"
   ],
   "metadata": {
    "collapsed": false,
    "ExecuteTime": {
     "end_time": "2024-03-14T14:42:47.498047Z",
     "start_time": "2024-03-14T14:42:47.462480Z"
    }
   },
   "id": "b970702a66cd92cf",
   "execution_count": 37
  },
  {
   "cell_type": "code",
   "outputs": [
    {
     "name": "stderr",
     "output_type": "stream",
     "text": [
      " 22%|██▏       | 2/9 [00:00<00:01,  3.73it/s]"
     ]
    },
    {
     "name": "stdout",
     "output_type": "stream",
     "text": [
      "\u001B[7m\u001B[38;5;166m\u001B[1m Warning \u001B[0m\u001B[38;5;166m Multiple ligands in PDB\u001B[0m\n"
     ]
    },
    {
     "name": "stderr",
     "output_type": "stream",
     "text": [
      "100%|██████████| 9/9 [00:01<00:00,  6.03it/s]\n"
     ]
    }
   ],
   "source": [
    "from tqdm import tqdm\n",
    "\n",
    "for pose in tqdm(canon_hits):\n",
    "        pose.calculate_fingerprint()"
   ],
   "metadata": {
    "collapsed": false,
    "ExecuteTime": {
     "end_time": "2024-03-14T14:43:31.218326Z",
     "start_time": "2024-03-14T14:43:29.677761Z"
    }
   },
   "id": "81f7b5b25a0528cd",
   "execution_count": 38
  },
  {
   "cell_type": "code",
   "outputs": [
    {
     "name": "stdout",
     "output_type": "stream",
     "text": [
      "\u001B[2mDEBUG: poses=\u001B[1m\u001B[4msubset(P x 9)\u001B[22m\u001B[24m\u001B[0m\n"
     ]
    },
    {
     "data": {
      "application/vnd.plotly.v1+json": {
       "data": [
        {
         "customdata": [
          [
           172,
           1,
           172,
           "TRP",
           28,
           "A",
           "CZ2",
           "Ax0333a",
           "P107"
          ],
          [
           176,
           3,
           176,
           "TRP",
           28,
           "A",
           "CB",
           "Ax0333a",
           "P107"
          ],
          [
           145,
           2,
           145,
           "HIS",
           25,
           "A",
           "CB",
           "Ax0333a",
           "P107"
          ],
          [
           104,
           1,
           104,
           "ARG",
           20,
           "A",
           "O",
           "Ax0333a",
           "P107"
          ],
          [
           107,
           1,
           107,
           "ARG",
           20,
           "A",
           "NH2",
           "Ax0333a",
           "P107"
          ],
          [
           106,
           2,
           106,
           "ARG",
           20,
           "A",
           "NH1",
           "Ax0333a",
           "P107"
          ],
          [
           103,
           1,
           103,
           "ARG",
           20,
           "A",
           "O",
           "Ax0333a",
           "P107"
          ],
          [
           179,
           1,
           179,
           "TRP",
           28,
           "A",
           "CE2 CD2 CZ2 CZ3 CE3 CH2",
           "Ax0333a",
           "P107"
          ]
         ],
         "hovertemplate": "pose_id=%{customdata[8]}<br>chain_res_name_number_str=%{x}<br>family=%{y}<br>str=%{customdata[0]}<br>count=%{customdata[1]}<br>id=%{customdata[2]}<br>residue_name=%{customdata[3]}<br>residue_number=%{customdata[4]}<br>chain_name=%{customdata[5]}<br>atom_names=%{customdata[6]}<br>pose_name=%{customdata[7]}<extra></extra>",
         "legendgroup": "P107",
         "marker": {
          "color": "#636efa",
          "symbol": "circle",
          "size": 10,
          "opacity": 1.0
         },
         "mode": "markers",
         "name": "P107",
         "orientation": "v",
         "showlegend": true,
         "x": [
          "A TRP 28",
          "A TRP 28",
          "A HIS 25",
          "A ARG 20",
          "A ARG 20",
          "A ARG 20",
          "A ARG 20",
          "A TRP 28"
         ],
         "xaxis": "x",
         "y": [
          "Hydrophobe",
          "Hydrophobe",
          "Hydrophobe",
          "Donor",
          "Donor",
          "Donor",
          "Acceptor",
          "Hydrophobe"
         ],
         "yaxis": "y",
         "type": "scatter"
        },
        {
         "alignmentgroup": "True",
         "bingroup": "x",
         "hovertemplate": "pose_id=P107<br>chain_res_name_number_str=%{x}<br>count=%{y}<extra></extra>",
         "legendgroup": "P107",
         "marker": {
          "color": "#636efa"
         },
         "name": "P107",
         "offsetgroup": "P107",
         "opacity": 1,
         "showlegend": false,
         "x": [
          "A TRP 28",
          "A TRP 28",
          "A HIS 25",
          "A ARG 20",
          "A ARG 20",
          "A ARG 20",
          "A ARG 20",
          "A TRP 28"
         ],
         "xaxis": "x3",
         "yaxis": "y3",
         "type": "histogram",
         "xbins": {
          "size": 1
         }
        },
        {
         "alignmentgroup": "True",
         "bingroup": "y",
         "hovertemplate": "pose_id=P107<br>family=%{y}<br>count=%{x}<extra></extra>",
         "legendgroup": "P107",
         "marker": {
          "color": "#636efa"
         },
         "name": "P107",
         "offsetgroup": "P107",
         "opacity": 1,
         "showlegend": false,
         "xaxis": "x2",
         "y": [
          "Hydrophobe",
          "Hydrophobe",
          "Hydrophobe",
          "Donor",
          "Donor",
          "Donor",
          "Acceptor",
          "Hydrophobe"
         ],
         "yaxis": "y2",
         "type": "histogram",
         "xbins": {
          "size": 1
         }
        },
        {
         "customdata": [
          [
           177,
           1,
           177,
           "TRP",
           28,
           "A",
           "CG CD1 NE1 CE2 CD2",
           "Ax0863a",
           "P35"
          ],
          [
           145,
           5,
           145,
           "HIS",
           25,
           "A",
           "CB",
           "Ax0863a",
           "P35"
          ],
          [
           143,
           1,
           143,
           "HIS",
           25,
           "A",
           "O",
           "Ax0863a",
           "P35"
          ],
          [
           146,
           1,
           146,
           "HIS",
           25,
           "A",
           "CG ND1 CE1 NE2 CD2",
           "Ax0863a",
           "P35"
          ],
          [
           142,
           1,
           142,
           "HIS",
           25,
           "A",
           "O",
           "Ax0863a",
           "P35"
          ],
          [
           148,
           1,
           148,
           "HIS",
           25,
           "A",
           "NE2",
           "Ax0863a",
           "P35"
          ],
          [
           147,
           1,
           147,
           "HIS",
           25,
           "A",
           "ND1",
           "Ax0863a",
           "P35"
          ],
          [
           184,
           2,
           184,
           "ALA",
           29,
           "A",
           "CB",
           "Ax0863a",
           "P35"
          ],
          [
           135,
           1,
           135,
           "THR",
           24,
           "A",
           "O",
           "Ax0863a",
           "P35"
          ],
          [
           176,
           4,
           176,
           "TRP",
           28,
           "A",
           "CB",
           "Ax0863a",
           "P35"
          ],
          [
           136,
           1,
           136,
           "THR",
           24,
           "A",
           "O",
           "Ax0863a",
           "P35"
          ]
         ],
         "hovertemplate": "pose_id=%{customdata[8]}<br>chain_res_name_number_str=%{x}<br>family=%{y}<br>str=%{customdata[0]}<br>count=%{customdata[1]}<br>id=%{customdata[2]}<br>residue_name=%{customdata[3]}<br>residue_number=%{customdata[4]}<br>chain_name=%{customdata[5]}<br>atom_names=%{customdata[6]}<br>pose_name=%{customdata[7]}<extra></extra>",
         "legendgroup": "P35",
         "marker": {
          "color": "#EF553B",
          "symbol": "circle",
          "size": 10,
          "opacity": 1.0
         },
         "mode": "markers",
         "name": "P35",
         "orientation": "v",
         "showlegend": true,
         "x": [
          "A TRP 28",
          "A HIS 25",
          "A HIS 25",
          "A HIS 25",
          "A HIS 25",
          "A HIS 25",
          "A HIS 25",
          "A ALA 29",
          "A THR 24",
          "A TRP 28",
          "A THR 24"
         ],
         "xaxis": "x",
         "y": [
          "Aromatic",
          "Hydrophobe",
          "Donor",
          "Aromatic",
          "Acceptor",
          "Acceptor",
          "Acceptor",
          "Hydrophobe",
          "Acceptor",
          "Hydrophobe",
          "Donor"
         ],
         "yaxis": "y",
         "type": "scatter"
        },
        {
         "alignmentgroup": "True",
         "bingroup": "x",
         "hovertemplate": "pose_id=P35<br>chain_res_name_number_str=%{x}<br>count=%{y}<extra></extra>",
         "legendgroup": "P35",
         "marker": {
          "color": "#EF553B"
         },
         "name": "P35",
         "offsetgroup": "P35",
         "opacity": 1,
         "showlegend": false,
         "x": [
          "A TRP 28",
          "A HIS 25",
          "A HIS 25",
          "A HIS 25",
          "A HIS 25",
          "A HIS 25",
          "A HIS 25",
          "A ALA 29",
          "A THR 24",
          "A TRP 28",
          "A THR 24"
         ],
         "xaxis": "x3",
         "yaxis": "y3",
         "type": "histogram",
         "xbins": {
          "size": 1
         }
        },
        {
         "alignmentgroup": "True",
         "bingroup": "y",
         "hovertemplate": "pose_id=P35<br>family=%{y}<br>count=%{x}<extra></extra>",
         "legendgroup": "P35",
         "marker": {
          "color": "#EF553B"
         },
         "name": "P35",
         "offsetgroup": "P35",
         "opacity": 1,
         "showlegend": false,
         "xaxis": "x2",
         "y": [
          "Aromatic",
          "Hydrophobe",
          "Donor",
          "Aromatic",
          "Acceptor",
          "Acceptor",
          "Acceptor",
          "Hydrophobe",
          "Acceptor",
          "Hydrophobe",
          "Donor"
         ],
         "yaxis": "y2",
         "type": "histogram",
         "xbins": {
          "size": 1
         }
        },
        {
         "customdata": [
          [
           149,
           1,
           149,
           "HIS",
           25,
           "A",
           "ND1",
           "Ax1145b",
           "P44"
          ],
          [
           176,
           7,
           176,
           "TRP",
           28,
           "A",
           "CB",
           "Ax1145b",
           "P44"
          ],
          [
           175,
           1,
           175,
           "TRP",
           28,
           "A",
           "CE3",
           "Ax1145b",
           "P44"
          ],
          [
           184,
           2,
           184,
           "ALA",
           29,
           "A",
           "CB",
           "Ax1145b",
           "P44"
          ],
          [
           145,
           7,
           145,
           "HIS",
           25,
           "A",
           "CB",
           "Ax1145b",
           "P44"
          ]
         ],
         "hovertemplate": "pose_id=%{customdata[8]}<br>chain_res_name_number_str=%{x}<br>family=%{y}<br>str=%{customdata[0]}<br>count=%{customdata[1]}<br>id=%{customdata[2]}<br>residue_name=%{customdata[3]}<br>residue_number=%{customdata[4]}<br>chain_name=%{customdata[5]}<br>atom_names=%{customdata[6]}<br>pose_name=%{customdata[7]}<extra></extra>",
         "legendgroup": "P44",
         "marker": {
          "color": "#00cc96",
          "symbol": "circle",
          "size": 10,
          "opacity": 1.0
         },
         "mode": "markers",
         "name": "P44",
         "orientation": "v",
         "showlegend": true,
         "x": [
          "A HIS 25",
          "A TRP 28",
          "A TRP 28",
          "A ALA 29",
          "A HIS 25"
         ],
         "xaxis": "x",
         "y": [
          "Donor",
          "Hydrophobe",
          "Hydrophobe",
          "Hydrophobe",
          "Hydrophobe"
         ],
         "yaxis": "y",
         "type": "scatter"
        },
        {
         "alignmentgroup": "True",
         "bingroup": "x",
         "hovertemplate": "pose_id=P44<br>chain_res_name_number_str=%{x}<br>count=%{y}<extra></extra>",
         "legendgroup": "P44",
         "marker": {
          "color": "#00cc96"
         },
         "name": "P44",
         "offsetgroup": "P44",
         "opacity": 1,
         "showlegend": false,
         "x": [
          "A HIS 25",
          "A TRP 28",
          "A TRP 28",
          "A ALA 29",
          "A HIS 25"
         ],
         "xaxis": "x3",
         "yaxis": "y3",
         "type": "histogram",
         "xbins": {
          "size": 1
         }
        },
        {
         "alignmentgroup": "True",
         "bingroup": "y",
         "hovertemplate": "pose_id=P44<br>family=%{y}<br>count=%{x}<extra></extra>",
         "legendgroup": "P44",
         "marker": {
          "color": "#00cc96"
         },
         "name": "P44",
         "offsetgroup": "P44",
         "opacity": 1,
         "showlegend": false,
         "xaxis": "x2",
         "y": [
          "Donor",
          "Hydrophobe",
          "Hydrophobe",
          "Hydrophobe",
          "Hydrophobe"
         ],
         "yaxis": "y2",
         "type": "histogram",
         "xbins": {
          "size": 1
         }
        },
        {
         "customdata": [
          [
           125,
           1,
           125,
           "LEU",
           22,
           "A",
           "CB",
           "Ax0351b",
           "P5"
          ],
          [
           176,
           1,
           176,
           "TRP",
           28,
           "A",
           "CB",
           "Ax0351b",
           "P5"
          ],
          [
           145,
           1,
           145,
           "HIS",
           25,
           "A",
           "CB",
           "Ax0351b",
           "P5"
          ],
          [
           150,
           2,
           150,
           "HIS",
           25,
           "A",
           "NE2",
           "Ax0351b",
           "P5"
          ],
          [
           149,
           2,
           149,
           "HIS",
           25,
           "A",
           "ND1",
           "Ax0351b",
           "P5"
          ],
          [
           127,
           1,
           127,
           "LEU",
           22,
           "A",
           "CD2",
           "Ax0351b",
           "P5"
          ],
          [
           128,
           1,
           128,
           "LEU",
           22,
           "A",
           "CG",
           "Ax0351b",
           "P5"
          ],
          [
           130,
           2,
           130,
           "ALA",
           23,
           "A",
           "O",
           "Ax0351b",
           "P5"
          ],
          [
           131,
           1,
           131,
           "ALA",
           23,
           "A",
           "O",
           "Ax0351b",
           "P5"
          ],
          [
           136,
           1,
           136,
           "THR",
           24,
           "A",
           "O",
           "Ax0351b",
           "P5"
          ],
          [
           148,
           2,
           148,
           "HIS",
           25,
           "A",
           "NE2",
           "Ax0351b",
           "P5"
          ],
          [
           664,
           2,
           664,
           "TYR",
           89,
           "A",
           "CE2",
           "Ax0351b",
           "P5"
          ],
          [
           141,
           1,
           141,
           "HIS",
           25,
           "A",
           "N",
           "Ax0351b",
           "P5"
          ]
         ],
         "hovertemplate": "pose_id=%{customdata[8]}<br>chain_res_name_number_str=%{x}<br>family=%{y}<br>str=%{customdata[0]}<br>count=%{customdata[1]}<br>id=%{customdata[2]}<br>residue_name=%{customdata[3]}<br>residue_number=%{customdata[4]}<br>chain_name=%{customdata[5]}<br>atom_names=%{customdata[6]}<br>pose_name=%{customdata[7]}<extra></extra>",
         "legendgroup": "P5",
         "marker": {
          "color": "#ab63fa",
          "symbol": "circle",
          "size": 10,
          "opacity": 1.0
         },
         "mode": "markers",
         "name": "P5",
         "orientation": "v",
         "showlegend": true,
         "x": [
          "A LEU 22",
          "A TRP 28",
          "A HIS 25",
          "A HIS 25",
          "A HIS 25",
          "A LEU 22",
          "A LEU 22",
          "A ALA 23",
          "A ALA 23",
          "A THR 24",
          "A HIS 25",
          "A TYR 89",
          "A HIS 25"
         ],
         "xaxis": "x",
         "y": [
          "Hydrophobe",
          "Hydrophobe",
          "Hydrophobe",
          "Donor",
          "Donor",
          "Hydrophobe",
          "Hydrophobe",
          "Acceptor",
          "Donor",
          "Donor",
          "Acceptor",
          "Hydrophobe",
          "Donor"
         ],
         "yaxis": "y",
         "type": "scatter"
        },
        {
         "alignmentgroup": "True",
         "bingroup": "x",
         "hovertemplate": "pose_id=P5<br>chain_res_name_number_str=%{x}<br>count=%{y}<extra></extra>",
         "legendgroup": "P5",
         "marker": {
          "color": "#ab63fa"
         },
         "name": "P5",
         "offsetgroup": "P5",
         "opacity": 1,
         "showlegend": false,
         "x": [
          "A LEU 22",
          "A TRP 28",
          "A HIS 25",
          "A HIS 25",
          "A HIS 25",
          "A LEU 22",
          "A LEU 22",
          "A ALA 23",
          "A ALA 23",
          "A THR 24",
          "A HIS 25",
          "A TYR 89",
          "A HIS 25"
         ],
         "xaxis": "x3",
         "yaxis": "y3",
         "type": "histogram",
         "xbins": {
          "size": 1
         }
        },
        {
         "alignmentgroup": "True",
         "bingroup": "y",
         "hovertemplate": "pose_id=P5<br>family=%{y}<br>count=%{x}<extra></extra>",
         "legendgroup": "P5",
         "marker": {
          "color": "#ab63fa"
         },
         "name": "P5",
         "offsetgroup": "P5",
         "opacity": 1,
         "showlegend": false,
         "xaxis": "x2",
         "y": [
          "Hydrophobe",
          "Hydrophobe",
          "Hydrophobe",
          "Donor",
          "Donor",
          "Hydrophobe",
          "Hydrophobe",
          "Acceptor",
          "Donor",
          "Donor",
          "Acceptor",
          "Hydrophobe",
          "Donor"
         ],
         "yaxis": "y2",
         "type": "histogram",
         "xbins": {
          "size": 1
         }
        },
        {
         "customdata": [
          [
           184,
           1,
           184,
           "ALA",
           29,
           "A",
           "CB",
           "Ax0528b",
           "P66"
          ],
          [
           180,
           1,
           180,
           "ALA",
           29,
           "A",
           "N",
           "Ax0528b",
           "P66"
          ],
          [
           175,
           1,
           175,
           "TRP",
           28,
           "A",
           "CE3",
           "Ax0528b",
           "P66"
          ],
          [
           176,
           2,
           176,
           "TRP",
           28,
           "A",
           "CB",
           "Ax0528b",
           "P66"
          ],
          [
           170,
           1,
           170,
           "TRP",
           28,
           "A",
           "O",
           "Ax0528b",
           "P66"
          ],
          [
           177,
           1,
           177,
           "TRP",
           28,
           "A",
           "CG CD1 NE1 CE2 CD2",
           "Ax0528b",
           "P66"
          ],
          [
           144,
           1,
           144,
           "HIS",
           25,
           "A",
           "N",
           "Ax0528b",
           "P66"
          ],
          [
           147,
           1,
           147,
           "HIS",
           25,
           "A",
           "ND1",
           "Ax0528b",
           "P66"
          ],
          [
           141,
           1,
           141,
           "HIS",
           25,
           "A",
           "N",
           "Ax0528b",
           "P66"
          ],
          [
           149,
           2,
           149,
           "HIS",
           25,
           "A",
           "ND1",
           "Ax0528b",
           "P66"
          ],
          [
           150,
           1,
           150,
           "HIS",
           25,
           "A",
           "NE2",
           "Ax0528b",
           "P66"
          ],
          [
           143,
           2,
           143,
           "HIS",
           25,
           "A",
           "O",
           "Ax0528b",
           "P66"
          ],
          [
           179,
           1,
           179,
           "TRP",
           28,
           "A",
           "CE2 CD2 CZ2 CZ3 CE3 CH2",
           "Ax0528b",
           "P66"
          ],
          [
           145,
           1,
           145,
           "HIS",
           25,
           "A",
           "CB",
           "Ax0528b",
           "P66"
          ]
         ],
         "hovertemplate": "pose_id=%{customdata[8]}<br>chain_res_name_number_str=%{x}<br>family=%{y}<br>str=%{customdata[0]}<br>count=%{customdata[1]}<br>id=%{customdata[2]}<br>residue_name=%{customdata[3]}<br>residue_number=%{customdata[4]}<br>chain_name=%{customdata[5]}<br>atom_names=%{customdata[6]}<br>pose_name=%{customdata[7]}<extra></extra>",
         "legendgroup": "P66",
         "marker": {
          "color": "#FFA15A",
          "symbol": "circle",
          "size": 10,
          "opacity": 1.0
         },
         "mode": "markers",
         "name": "P66",
         "orientation": "v",
         "showlegend": true,
         "x": [
          "A ALA 29",
          "A ALA 29",
          "A TRP 28",
          "A TRP 28",
          "A TRP 28",
          "A TRP 28",
          "A HIS 25",
          "A HIS 25",
          "A HIS 25",
          "A HIS 25",
          "A HIS 25",
          "A HIS 25",
          "A TRP 28",
          "A HIS 25"
         ],
         "xaxis": "x",
         "y": [
          "Hydrophobe",
          "Donor",
          "Hydrophobe",
          "Hydrophobe",
          "Donor",
          "Aromatic",
          "Acceptor",
          "Acceptor",
          "Donor",
          "Donor",
          "Donor",
          "Donor",
          "Hydrophobe",
          "Hydrophobe"
         ],
         "yaxis": "y",
         "type": "scatter"
        },
        {
         "alignmentgroup": "True",
         "bingroup": "x",
         "hovertemplate": "pose_id=P66<br>chain_res_name_number_str=%{x}<br>count=%{y}<extra></extra>",
         "legendgroup": "P66",
         "marker": {
          "color": "#FFA15A"
         },
         "name": "P66",
         "offsetgroup": "P66",
         "opacity": 1,
         "showlegend": false,
         "x": [
          "A ALA 29",
          "A ALA 29",
          "A TRP 28",
          "A TRP 28",
          "A TRP 28",
          "A TRP 28",
          "A HIS 25",
          "A HIS 25",
          "A HIS 25",
          "A HIS 25",
          "A HIS 25",
          "A HIS 25",
          "A TRP 28",
          "A HIS 25"
         ],
         "xaxis": "x3",
         "yaxis": "y3",
         "type": "histogram",
         "xbins": {
          "size": 1
         }
        },
        {
         "alignmentgroup": "True",
         "bingroup": "y",
         "hovertemplate": "pose_id=P66<br>family=%{y}<br>count=%{x}<extra></extra>",
         "legendgroup": "P66",
         "marker": {
          "color": "#FFA15A"
         },
         "name": "P66",
         "offsetgroup": "P66",
         "opacity": 1,
         "showlegend": false,
         "xaxis": "x2",
         "y": [
          "Hydrophobe",
          "Donor",
          "Hydrophobe",
          "Hydrophobe",
          "Donor",
          "Aromatic",
          "Acceptor",
          "Acceptor",
          "Donor",
          "Donor",
          "Donor",
          "Donor",
          "Hydrophobe",
          "Hydrophobe"
         ],
         "yaxis": "y2",
         "type": "histogram",
         "xbins": {
          "size": 1
         }
        },
        {
         "customdata": [
          [
           317,
           2,
           317,
           "THR",
           46,
           "A",
           "CG2",
           "Ax0517a",
           "P81"
          ],
          [
           310,
           3,
           310,
           "THR",
           45,
           "A",
           "CG2",
           "Ax0517a",
           "P81"
          ],
          [
           299,
           1,
           299,
           "SER",
           44,
           "A",
           "O",
           "Ax0517a",
           "P81"
          ],
          [
           297,
           1,
           297,
           "SER",
           43,
           "A",
           "OG",
           "Ax0517a",
           "P81"
          ],
          [
           167,
           1,
           167,
           "ASP",
           27,
           "A",
           "CB",
           "Ax0517a",
           "P81"
          ],
          [
           190,
           1,
           190,
           "ASN",
           30,
           "A",
           "OD1",
           "Ax0517a",
           "P81"
          ],
          [
           189,
           3,
           189,
           "ASN",
           30,
           "A",
           "ND2",
           "Ax0517a",
           "P81"
          ],
          [
           158,
           2,
           158,
           "ASN",
           26,
           "A",
           "CB",
           "Ax0517a",
           "P81"
          ],
          [
           157,
           1,
           157,
           "ASN",
           26,
           "A",
           "OD1",
           "Ax0517a",
           "P81"
          ],
          [
           153,
           1,
           153,
           "ASN",
           26,
           "A",
           "O",
           "Ax0517a",
           "P81"
          ],
          [
           36,
           1,
           36,
           "TYR",
           11,
           "A",
           "OH",
           "Ax0517a",
           "P81"
          ],
          [
           32,
           2,
           32,
           "TYR",
           11,
           "A",
           "CE1",
           "Ax0517a",
           "P81"
          ],
          [
           75,
           1,
           75,
           "ARG",
           16,
           "A",
           "NH1",
           "Ax0517a",
           "P81"
          ],
          [
           155,
           2,
           155,
           "ASN",
           26,
           "A",
           "ND2",
           "Ax0517a",
           "P81"
          ],
          [
           152,
           2,
           152,
           "ASN",
           26,
           "A",
           "O",
           "Ax0517a",
           "P81"
          ],
          [
           156,
           2,
           156,
           "ASN",
           26,
           "A",
           "OD1",
           "Ax0517a",
           "P81"
          ],
          [
           192,
           1,
           192,
           "ASN",
           30,
           "A",
           "CB",
           "Ax0517a",
           "P81"
          ]
         ],
         "hovertemplate": "pose_id=%{customdata[8]}<br>chain_res_name_number_str=%{x}<br>family=%{y}<br>str=%{customdata[0]}<br>count=%{customdata[1]}<br>id=%{customdata[2]}<br>residue_name=%{customdata[3]}<br>residue_number=%{customdata[4]}<br>chain_name=%{customdata[5]}<br>atom_names=%{customdata[6]}<br>pose_name=%{customdata[7]}<extra></extra>",
         "legendgroup": "P81",
         "marker": {
          "color": "#19d3f3",
          "symbol": "circle",
          "size": 10,
          "opacity": 1.0
         },
         "mode": "markers",
         "name": "P81",
         "orientation": "v",
         "showlegend": true,
         "x": [
          "A THR 46",
          "A THR 45",
          "A SER 44",
          "A SER 43",
          "A ASP 27",
          "A ASN 30",
          "A ASN 30",
          "A ASN 26",
          "A ASN 26",
          "A ASN 26",
          "A TYR 11",
          "A TYR 11",
          "A ARG 16",
          "A ASN 26",
          "A ASN 26",
          "A ASN 26",
          "A ASN 30"
         ],
         "xaxis": "x",
         "y": [
          "Hydrophobe",
          "Hydrophobe",
          "Acceptor",
          "Acceptor",
          "Hydrophobe",
          "Acceptor",
          "Acceptor",
          "Hydrophobe",
          "Donor",
          "Donor",
          "Donor",
          "Hydrophobe",
          "Donor",
          "Acceptor",
          "Acceptor",
          "Acceptor",
          "Hydrophobe"
         ],
         "yaxis": "y",
         "type": "scatter"
        },
        {
         "alignmentgroup": "True",
         "bingroup": "x",
         "hovertemplate": "pose_id=P81<br>chain_res_name_number_str=%{x}<br>count=%{y}<extra></extra>",
         "legendgroup": "P81",
         "marker": {
          "color": "#19d3f3"
         },
         "name": "P81",
         "offsetgroup": "P81",
         "opacity": 1,
         "showlegend": false,
         "x": [
          "A THR 46",
          "A THR 45",
          "A SER 44",
          "A SER 43",
          "A ASP 27",
          "A ASN 30",
          "A ASN 30",
          "A ASN 26",
          "A ASN 26",
          "A ASN 26",
          "A TYR 11",
          "A TYR 11",
          "A ARG 16",
          "A ASN 26",
          "A ASN 26",
          "A ASN 26",
          "A ASN 30"
         ],
         "xaxis": "x3",
         "yaxis": "y3",
         "type": "histogram",
         "xbins": {
          "size": 1
         }
        },
        {
         "alignmentgroup": "True",
         "bingroup": "y",
         "hovertemplate": "pose_id=P81<br>family=%{y}<br>count=%{x}<extra></extra>",
         "legendgroup": "P81",
         "marker": {
          "color": "#19d3f3"
         },
         "name": "P81",
         "offsetgroup": "P81",
         "opacity": 1,
         "showlegend": false,
         "xaxis": "x2",
         "y": [
          "Hydrophobe",
          "Hydrophobe",
          "Acceptor",
          "Acceptor",
          "Hydrophobe",
          "Acceptor",
          "Acceptor",
          "Hydrophobe",
          "Donor",
          "Donor",
          "Donor",
          "Hydrophobe",
          "Donor",
          "Acceptor",
          "Acceptor",
          "Acceptor",
          "Hydrophobe"
         ],
         "yaxis": "y2",
         "type": "histogram",
         "xbins": {
          "size": 1
         }
        },
        {
         "customdata": [
          [
           147,
           2,
           147,
           "HIS",
           25,
           "A",
           "ND1",
           "Ax0719b",
           "P94"
          ],
          [
           176,
           5,
           176,
           "TRP",
           28,
           "A",
           "CB",
           "Ax0719b",
           "P94"
          ],
          [
           145,
           5,
           145,
           "HIS",
           25,
           "A",
           "CB",
           "Ax0719b",
           "P94"
          ],
          [
           143,
           1,
           143,
           "HIS",
           25,
           "A",
           "O",
           "Ax0719b",
           "P94"
          ],
          [
           149,
           1,
           149,
           "HIS",
           25,
           "A",
           "ND1",
           "Ax0719b",
           "P94"
          ],
          [
           142,
           1,
           142,
           "HIS",
           25,
           "A",
           "O",
           "Ax0719b",
           "P94"
          ]
         ],
         "hovertemplate": "pose_id=%{customdata[8]}<br>chain_res_name_number_str=%{x}<br>family=%{y}<br>str=%{customdata[0]}<br>count=%{customdata[1]}<br>id=%{customdata[2]}<br>residue_name=%{customdata[3]}<br>residue_number=%{customdata[4]}<br>chain_name=%{customdata[5]}<br>atom_names=%{customdata[6]}<br>pose_name=%{customdata[7]}<extra></extra>",
         "legendgroup": "P94",
         "marker": {
          "color": "#FF6692",
          "symbol": "circle",
          "size": 10,
          "opacity": 1.0
         },
         "mode": "markers",
         "name": "P94",
         "orientation": "v",
         "showlegend": true,
         "x": [
          "A HIS 25",
          "A TRP 28",
          "A HIS 25",
          "A HIS 25",
          "A HIS 25",
          "A HIS 25"
         ],
         "xaxis": "x",
         "y": [
          "Acceptor",
          "Hydrophobe",
          "Hydrophobe",
          "Donor",
          "Donor",
          "Acceptor"
         ],
         "yaxis": "y",
         "type": "scatter"
        },
        {
         "alignmentgroup": "True",
         "bingroup": "x",
         "hovertemplate": "pose_id=P94<br>chain_res_name_number_str=%{x}<br>count=%{y}<extra></extra>",
         "legendgroup": "P94",
         "marker": {
          "color": "#FF6692"
         },
         "name": "P94",
         "offsetgroup": "P94",
         "opacity": 1,
         "showlegend": false,
         "x": [
          "A HIS 25",
          "A TRP 28",
          "A HIS 25",
          "A HIS 25",
          "A HIS 25",
          "A HIS 25"
         ],
         "xaxis": "x3",
         "yaxis": "y3",
         "type": "histogram",
         "xbins": {
          "size": 1
         }
        },
        {
         "alignmentgroup": "True",
         "bingroup": "y",
         "hovertemplate": "pose_id=P94<br>family=%{y}<br>count=%{x}<extra></extra>",
         "legendgroup": "P94",
         "marker": {
          "color": "#FF6692"
         },
         "name": "P94",
         "offsetgroup": "P94",
         "opacity": 1,
         "showlegend": false,
         "xaxis": "x2",
         "y": [
          "Acceptor",
          "Hydrophobe",
          "Hydrophobe",
          "Donor",
          "Donor",
          "Acceptor"
         ],
         "yaxis": "y2",
         "type": "histogram",
         "xbins": {
          "size": 1
         }
        },
        {
         "customdata": [
          [
           145,
           4,
           145,
           "HIS",
           25,
           "A",
           "CB",
           "Ax1146a",
           "P99"
          ],
          [
           177,
           1,
           177,
           "TRP",
           28,
           "A",
           "CG CD1 NE1 CE2 CD2",
           "Ax1146a",
           "P99"
          ],
          [
           176,
           4,
           176,
           "TRP",
           28,
           "A",
           "CB",
           "Ax1146a",
           "P99"
          ],
          [
           184,
           3,
           184,
           "ALA",
           29,
           "A",
           "CB",
           "Ax1146a",
           "P99"
          ],
          [
           144,
           1,
           144,
           "HIS",
           25,
           "A",
           "N",
           "Ax1146a",
           "P99"
          ],
          [
           147,
           2,
           147,
           "HIS",
           25,
           "A",
           "ND1",
           "Ax1146a",
           "P99"
          ],
          [
           146,
           2,
           146,
           "HIS",
           25,
           "A",
           "CG ND1 CE1 NE2 CD2",
           "Ax1146a",
           "P99"
          ]
         ],
         "hovertemplate": "pose_id=%{customdata[8]}<br>chain_res_name_number_str=%{x}<br>family=%{y}<br>str=%{customdata[0]}<br>count=%{customdata[1]}<br>id=%{customdata[2]}<br>residue_name=%{customdata[3]}<br>residue_number=%{customdata[4]}<br>chain_name=%{customdata[5]}<br>atom_names=%{customdata[6]}<br>pose_name=%{customdata[7]}<extra></extra>",
         "legendgroup": "P99",
         "marker": {
          "color": "#B6E880",
          "symbol": "circle",
          "size": 10,
          "opacity": 1.0
         },
         "mode": "markers",
         "name": "P99",
         "orientation": "v",
         "showlegend": true,
         "x": [
          "A HIS 25",
          "A TRP 28",
          "A TRP 28",
          "A ALA 29",
          "A HIS 25",
          "A HIS 25",
          "A HIS 25"
         ],
         "xaxis": "x",
         "y": [
          "Hydrophobe",
          "Aromatic",
          "Hydrophobe",
          "Hydrophobe",
          "Acceptor",
          "Acceptor",
          "Aromatic"
         ],
         "yaxis": "y",
         "type": "scatter"
        },
        {
         "alignmentgroup": "True",
         "bingroup": "x",
         "hovertemplate": "pose_id=P99<br>chain_res_name_number_str=%{x}<br>count=%{y}<extra></extra>",
         "legendgroup": "P99",
         "marker": {
          "color": "#B6E880"
         },
         "name": "P99",
         "offsetgroup": "P99",
         "opacity": 1,
         "showlegend": false,
         "x": [
          "A HIS 25",
          "A TRP 28",
          "A TRP 28",
          "A ALA 29",
          "A HIS 25",
          "A HIS 25",
          "A HIS 25"
         ],
         "xaxis": "x3",
         "yaxis": "y3",
         "type": "histogram",
         "xbins": {
          "size": 1
         }
        },
        {
         "alignmentgroup": "True",
         "bingroup": "y",
         "hovertemplate": "pose_id=P99<br>family=%{y}<br>count=%{x}<extra></extra>",
         "legendgroup": "P99",
         "marker": {
          "color": "#B6E880"
         },
         "name": "P99",
         "offsetgroup": "P99",
         "opacity": 1,
         "showlegend": false,
         "xaxis": "x2",
         "y": [
          "Hydrophobe",
          "Aromatic",
          "Hydrophobe",
          "Hydrophobe",
          "Acceptor",
          "Acceptor",
          "Aromatic"
         ],
         "yaxis": "y2",
         "type": "histogram",
         "xbins": {
          "size": 1
         }
        }
       ],
       "layout": {
        "template": {
         "data": {
          "histogram2dcontour": [
           {
            "type": "histogram2dcontour",
            "colorbar": {
             "outlinewidth": 0,
             "ticks": ""
            },
            "colorscale": [
             [
              0.0,
              "#0d0887"
             ],
             [
              0.1111111111111111,
              "#46039f"
             ],
             [
              0.2222222222222222,
              "#7201a8"
             ],
             [
              0.3333333333333333,
              "#9c179e"
             ],
             [
              0.4444444444444444,
              "#bd3786"
             ],
             [
              0.5555555555555556,
              "#d8576b"
             ],
             [
              0.6666666666666666,
              "#ed7953"
             ],
             [
              0.7777777777777778,
              "#fb9f3a"
             ],
             [
              0.8888888888888888,
              "#fdca26"
             ],
             [
              1.0,
              "#f0f921"
             ]
            ]
           }
          ],
          "choropleth": [
           {
            "type": "choropleth",
            "colorbar": {
             "outlinewidth": 0,
             "ticks": ""
            }
           }
          ],
          "histogram2d": [
           {
            "type": "histogram2d",
            "colorbar": {
             "outlinewidth": 0,
             "ticks": ""
            },
            "colorscale": [
             [
              0.0,
              "#0d0887"
             ],
             [
              0.1111111111111111,
              "#46039f"
             ],
             [
              0.2222222222222222,
              "#7201a8"
             ],
             [
              0.3333333333333333,
              "#9c179e"
             ],
             [
              0.4444444444444444,
              "#bd3786"
             ],
             [
              0.5555555555555556,
              "#d8576b"
             ],
             [
              0.6666666666666666,
              "#ed7953"
             ],
             [
              0.7777777777777778,
              "#fb9f3a"
             ],
             [
              0.8888888888888888,
              "#fdca26"
             ],
             [
              1.0,
              "#f0f921"
             ]
            ]
           }
          ],
          "heatmap": [
           {
            "type": "heatmap",
            "colorbar": {
             "outlinewidth": 0,
             "ticks": ""
            },
            "colorscale": [
             [
              0.0,
              "#0d0887"
             ],
             [
              0.1111111111111111,
              "#46039f"
             ],
             [
              0.2222222222222222,
              "#7201a8"
             ],
             [
              0.3333333333333333,
              "#9c179e"
             ],
             [
              0.4444444444444444,
              "#bd3786"
             ],
             [
              0.5555555555555556,
              "#d8576b"
             ],
             [
              0.6666666666666666,
              "#ed7953"
             ],
             [
              0.7777777777777778,
              "#fb9f3a"
             ],
             [
              0.8888888888888888,
              "#fdca26"
             ],
             [
              1.0,
              "#f0f921"
             ]
            ]
           }
          ],
          "heatmapgl": [
           {
            "type": "heatmapgl",
            "colorbar": {
             "outlinewidth": 0,
             "ticks": ""
            },
            "colorscale": [
             [
              0.0,
              "#0d0887"
             ],
             [
              0.1111111111111111,
              "#46039f"
             ],
             [
              0.2222222222222222,
              "#7201a8"
             ],
             [
              0.3333333333333333,
              "#9c179e"
             ],
             [
              0.4444444444444444,
              "#bd3786"
             ],
             [
              0.5555555555555556,
              "#d8576b"
             ],
             [
              0.6666666666666666,
              "#ed7953"
             ],
             [
              0.7777777777777778,
              "#fb9f3a"
             ],
             [
              0.8888888888888888,
              "#fdca26"
             ],
             [
              1.0,
              "#f0f921"
             ]
            ]
           }
          ],
          "contourcarpet": [
           {
            "type": "contourcarpet",
            "colorbar": {
             "outlinewidth": 0,
             "ticks": ""
            }
           }
          ],
          "contour": [
           {
            "type": "contour",
            "colorbar": {
             "outlinewidth": 0,
             "ticks": ""
            },
            "colorscale": [
             [
              0.0,
              "#0d0887"
             ],
             [
              0.1111111111111111,
              "#46039f"
             ],
             [
              0.2222222222222222,
              "#7201a8"
             ],
             [
              0.3333333333333333,
              "#9c179e"
             ],
             [
              0.4444444444444444,
              "#bd3786"
             ],
             [
              0.5555555555555556,
              "#d8576b"
             ],
             [
              0.6666666666666666,
              "#ed7953"
             ],
             [
              0.7777777777777778,
              "#fb9f3a"
             ],
             [
              0.8888888888888888,
              "#fdca26"
             ],
             [
              1.0,
              "#f0f921"
             ]
            ]
           }
          ],
          "surface": [
           {
            "type": "surface",
            "colorbar": {
             "outlinewidth": 0,
             "ticks": ""
            },
            "colorscale": [
             [
              0.0,
              "#0d0887"
             ],
             [
              0.1111111111111111,
              "#46039f"
             ],
             [
              0.2222222222222222,
              "#7201a8"
             ],
             [
              0.3333333333333333,
              "#9c179e"
             ],
             [
              0.4444444444444444,
              "#bd3786"
             ],
             [
              0.5555555555555556,
              "#d8576b"
             ],
             [
              0.6666666666666666,
              "#ed7953"
             ],
             [
              0.7777777777777778,
              "#fb9f3a"
             ],
             [
              0.8888888888888888,
              "#fdca26"
             ],
             [
              1.0,
              "#f0f921"
             ]
            ]
           }
          ],
          "mesh3d": [
           {
            "type": "mesh3d",
            "colorbar": {
             "outlinewidth": 0,
             "ticks": ""
            }
           }
          ],
          "scatter": [
           {
            "fillpattern": {
             "fillmode": "overlay",
             "size": 10,
             "solidity": 0.2
            },
            "type": "scatter"
           }
          ],
          "parcoords": [
           {
            "type": "parcoords",
            "line": {
             "colorbar": {
              "outlinewidth": 0,
              "ticks": ""
             }
            }
           }
          ],
          "scatterpolargl": [
           {
            "type": "scatterpolargl",
            "marker": {
             "colorbar": {
              "outlinewidth": 0,
              "ticks": ""
             }
            }
           }
          ],
          "bar": [
           {
            "error_x": {
             "color": "#2a3f5f"
            },
            "error_y": {
             "color": "#2a3f5f"
            },
            "marker": {
             "line": {
              "color": "#E5ECF6",
              "width": 0.5
             },
             "pattern": {
              "fillmode": "overlay",
              "size": 10,
              "solidity": 0.2
             }
            },
            "type": "bar"
           }
          ],
          "scattergeo": [
           {
            "type": "scattergeo",
            "marker": {
             "colorbar": {
              "outlinewidth": 0,
              "ticks": ""
             }
            }
           }
          ],
          "scatterpolar": [
           {
            "type": "scatterpolar",
            "marker": {
             "colorbar": {
              "outlinewidth": 0,
              "ticks": ""
             }
            }
           }
          ],
          "histogram": [
           {
            "marker": {
             "pattern": {
              "fillmode": "overlay",
              "size": 10,
              "solidity": 0.2
             }
            },
            "type": "histogram"
           }
          ],
          "scattergl": [
           {
            "type": "scattergl",
            "marker": {
             "colorbar": {
              "outlinewidth": 0,
              "ticks": ""
             }
            }
           }
          ],
          "scatter3d": [
           {
            "type": "scatter3d",
            "line": {
             "colorbar": {
              "outlinewidth": 0,
              "ticks": ""
             }
            },
            "marker": {
             "colorbar": {
              "outlinewidth": 0,
              "ticks": ""
             }
            }
           }
          ],
          "scattermapbox": [
           {
            "type": "scattermapbox",
            "marker": {
             "colorbar": {
              "outlinewidth": 0,
              "ticks": ""
             }
            }
           }
          ],
          "scatterternary": [
           {
            "type": "scatterternary",
            "marker": {
             "colorbar": {
              "outlinewidth": 0,
              "ticks": ""
             }
            }
           }
          ],
          "scattercarpet": [
           {
            "type": "scattercarpet",
            "marker": {
             "colorbar": {
              "outlinewidth": 0,
              "ticks": ""
             }
            }
           }
          ],
          "carpet": [
           {
            "aaxis": {
             "endlinecolor": "#2a3f5f",
             "gridcolor": "white",
             "linecolor": "white",
             "minorgridcolor": "white",
             "startlinecolor": "#2a3f5f"
            },
            "baxis": {
             "endlinecolor": "#2a3f5f",
             "gridcolor": "white",
             "linecolor": "white",
             "minorgridcolor": "white",
             "startlinecolor": "#2a3f5f"
            },
            "type": "carpet"
           }
          ],
          "table": [
           {
            "cells": {
             "fill": {
              "color": "#EBF0F8"
             },
             "line": {
              "color": "white"
             }
            },
            "header": {
             "fill": {
              "color": "#C8D4E3"
             },
             "line": {
              "color": "white"
             }
            },
            "type": "table"
           }
          ],
          "barpolar": [
           {
            "marker": {
             "line": {
              "color": "#E5ECF6",
              "width": 0.5
             },
             "pattern": {
              "fillmode": "overlay",
              "size": 10,
              "solidity": 0.2
             }
            },
            "type": "barpolar"
           }
          ],
          "pie": [
           {
            "automargin": true,
            "type": "pie"
           }
          ]
         },
         "layout": {
          "autotypenumbers": "strict",
          "colorway": [
           "#636efa",
           "#EF553B",
           "#00cc96",
           "#ab63fa",
           "#FFA15A",
           "#19d3f3",
           "#FF6692",
           "#B6E880",
           "#FF97FF",
           "#FECB52"
          ],
          "font": {
           "color": "#2a3f5f"
          },
          "hovermode": "closest",
          "hoverlabel": {
           "align": "left"
          },
          "paper_bgcolor": "white",
          "plot_bgcolor": "#E5ECF6",
          "polar": {
           "bgcolor": "#E5ECF6",
           "angularaxis": {
            "gridcolor": "white",
            "linecolor": "white",
            "ticks": ""
           },
           "radialaxis": {
            "gridcolor": "white",
            "linecolor": "white",
            "ticks": ""
           }
          },
          "ternary": {
           "bgcolor": "#E5ECF6",
           "aaxis": {
            "gridcolor": "white",
            "linecolor": "white",
            "ticks": ""
           },
           "baxis": {
            "gridcolor": "white",
            "linecolor": "white",
            "ticks": ""
           },
           "caxis": {
            "gridcolor": "white",
            "linecolor": "white",
            "ticks": ""
           }
          },
          "coloraxis": {
           "colorbar": {
            "outlinewidth": 0,
            "ticks": ""
           }
          },
          "colorscale": {
           "sequential": [
            [
             0.0,
             "#0d0887"
            ],
            [
             0.1111111111111111,
             "#46039f"
            ],
            [
             0.2222222222222222,
             "#7201a8"
            ],
            [
             0.3333333333333333,
             "#9c179e"
            ],
            [
             0.4444444444444444,
             "#bd3786"
            ],
            [
             0.5555555555555556,
             "#d8576b"
            ],
            [
             0.6666666666666666,
             "#ed7953"
            ],
            [
             0.7777777777777778,
             "#fb9f3a"
            ],
            [
             0.8888888888888888,
             "#fdca26"
            ],
            [
             1.0,
             "#f0f921"
            ]
           ],
           "sequentialminus": [
            [
             0.0,
             "#0d0887"
            ],
            [
             0.1111111111111111,
             "#46039f"
            ],
            [
             0.2222222222222222,
             "#7201a8"
            ],
            [
             0.3333333333333333,
             "#9c179e"
            ],
            [
             0.4444444444444444,
             "#bd3786"
            ],
            [
             0.5555555555555556,
             "#d8576b"
            ],
            [
             0.6666666666666666,
             "#ed7953"
            ],
            [
             0.7777777777777778,
             "#fb9f3a"
            ],
            [
             0.8888888888888888,
             "#fdca26"
            ],
            [
             1.0,
             "#f0f921"
            ]
           ],
           "diverging": [
            [
             0,
             "#8e0152"
            ],
            [
             0.1,
             "#c51b7d"
            ],
            [
             0.2,
             "#de77ae"
            ],
            [
             0.3,
             "#f1b6da"
            ],
            [
             0.4,
             "#fde0ef"
            ],
            [
             0.5,
             "#f7f7f7"
            ],
            [
             0.6,
             "#e6f5d0"
            ],
            [
             0.7,
             "#b8e186"
            ],
            [
             0.8,
             "#7fbc41"
            ],
            [
             0.9,
             "#4d9221"
            ],
            [
             1,
             "#276419"
            ]
           ]
          },
          "xaxis": {
           "gridcolor": "white",
           "linecolor": "white",
           "ticks": "",
           "title": {
            "standoff": 15
           },
           "zerolinecolor": "white",
           "automargin": true,
           "zerolinewidth": 2
          },
          "yaxis": {
           "gridcolor": "white",
           "linecolor": "white",
           "ticks": "",
           "title": {
            "standoff": 15
           },
           "zerolinecolor": "white",
           "automargin": true,
           "zerolinewidth": 2
          },
          "scene": {
           "xaxis": {
            "backgroundcolor": "#E5ECF6",
            "gridcolor": "white",
            "linecolor": "white",
            "showbackground": true,
            "ticks": "",
            "zerolinecolor": "white",
            "gridwidth": 2
           },
           "yaxis": {
            "backgroundcolor": "#E5ECF6",
            "gridcolor": "white",
            "linecolor": "white",
            "showbackground": true,
            "ticks": "",
            "zerolinecolor": "white",
            "gridwidth": 2
           },
           "zaxis": {
            "backgroundcolor": "#E5ECF6",
            "gridcolor": "white",
            "linecolor": "white",
            "showbackground": true,
            "ticks": "",
            "zerolinecolor": "white",
            "gridwidth": 2
           }
          },
          "shapedefaults": {
           "line": {
            "color": "#2a3f5f"
           }
          },
          "annotationdefaults": {
           "arrowcolor": "#2a3f5f",
           "arrowhead": 0,
           "arrowwidth": 1
          },
          "geo": {
           "bgcolor": "white",
           "landcolor": "#E5ECF6",
           "subunitcolor": "white",
           "showland": true,
           "showlakes": true,
           "lakecolor": "white"
          },
          "title": {
           "x": 0.05
          },
          "mapbox": {
           "style": "light"
          }
         }
        },
        "xaxis": {
         "anchor": "y",
         "domain": [
          0.0,
          0.7363
         ],
         "title": {
          "text": "Residue"
         },
         "categoryorder": "array",
         "categoryarray": [
          "A TYR 11",
          "A ARG 16",
          "A ARG 20",
          "A LEU 22",
          "A ALA 23",
          "A THR 24",
          "A HIS 25",
          "A ASN 26",
          "A ASP 27",
          "A TRP 28",
          "A ALA 29",
          "A ASN 30",
          "A SER 43",
          "A SER 44",
          "A THR 45",
          "A THR 46",
          "A TYR 89"
         ]
        },
        "yaxis": {
         "anchor": "x",
         "domain": [
          0.0,
          0.7326
         ],
         "title": {
          "text": "Feature Family"
         }
        },
        "xaxis2": {
         "anchor": "y2",
         "domain": [
          0.7413,
          1.0
         ],
         "matches": "x2",
         "showticklabels": false,
         "showline": false,
         "ticks": "",
         "showgrid": true,
         "categoryorder": "array",
         "categoryarray": [
          "A TYR 11",
          "A ARG 16",
          "A ARG 20",
          "A LEU 22",
          "A ALA 23",
          "A THR 24",
          "A HIS 25",
          "A ASN 26",
          "A ASP 27",
          "A TRP 28",
          "A ALA 29",
          "A ASN 30",
          "A SER 43",
          "A SER 44",
          "A THR 45",
          "A THR 46",
          "A TYR 89"
         ]
        },
        "yaxis2": {
         "anchor": "x2",
         "domain": [
          0.0,
          0.7326
         ],
         "matches": "y",
         "showticklabels": false,
         "showgrid": true
        },
        "xaxis3": {
         "anchor": "y3",
         "domain": [
          0.0,
          0.7363
         ],
         "matches": "x",
         "showticklabels": false,
         "showgrid": true,
         "categoryorder": "array",
         "categoryarray": [
          "A TYR 11",
          "A ARG 16",
          "A ARG 20",
          "A LEU 22",
          "A ALA 23",
          "A THR 24",
          "A HIS 25",
          "A ASN 26",
          "A ASP 27",
          "A TRP 28",
          "A ALA 29",
          "A ASN 30",
          "A SER 43",
          "A SER 44",
          "A THR 45",
          "A THR 46",
          "A TYR 89"
         ]
        },
        "yaxis3": {
         "anchor": "x3",
         "domain": [
          0.7426,
          1.0
         ],
         "matches": "y3",
         "showticklabels": false,
         "showline": false,
         "ticks": "",
         "showgrid": true
        },
        "xaxis4": {
         "anchor": "y4",
         "domain": [
          0.7413,
          1.0
         ],
         "matches": "x2",
         "showticklabels": false,
         "showgrid": true,
         "showline": false,
         "ticks": "",
         "categoryorder": "array",
         "categoryarray": [
          "A TYR 11",
          "A ARG 16",
          "A ARG 20",
          "A LEU 22",
          "A ALA 23",
          "A THR 24",
          "A HIS 25",
          "A ASN 26",
          "A ASP 27",
          "A TRP 28",
          "A ALA 29",
          "A ASN 30",
          "A SER 43",
          "A SER 44",
          "A THR 45",
          "A THR 46",
          "A TYR 89"
         ]
        },
        "yaxis4": {
         "anchor": "x4",
         "domain": [
          0.7426,
          1.0
         ],
         "matches": "y3",
         "showticklabels": false,
         "showline": false,
         "ticks": "",
         "showgrid": true
        },
        "legend": {
         "title": {
          "text": "pose_id"
         },
         "tracegroupgap": 0
        },
        "title": {
         "text": "<b>animal</b>: Interaction Punch-Card<br><sup><i>CanonSites</i></sup>",
         "automargin": false,
         "yref": "container"
        },
        "barmode": "stack",
        "scattermode": "group",
        "scattergap": 0.75,
        "images": [
         {
          "sizex": 0.25,
          "sizey": 0.25,
          "source": "https://raw.githubusercontent.com/mwinokan/HIPPO/main/logos/hippo_assets-02.png",
          "x": 1,
          "xanchor": "right",
          "xref": "paper",
          "y": 1,
          "yanchor": "top",
          "yref": "paper"
         }
        ]
       },
       "config": {
        "plotlyServerURL": "https://plot.ly"
       }
      },
      "text/html": "<div>                            <div id=\"aa078db6-155f-4dd2-8b6f-caab82543abd\" class=\"plotly-graph-div\" style=\"height:525px; width:100%;\"></div>            <script type=\"text/javascript\">                require([\"plotly\"], function(Plotly) {                    window.PLOTLYENV=window.PLOTLYENV || {};                                    if (document.getElementById(\"aa078db6-155f-4dd2-8b6f-caab82543abd\")) {                    Plotly.newPlot(                        \"aa078db6-155f-4dd2-8b6f-caab82543abd\",                        [{\"customdata\":[[172,1,172,\"TRP\",28,\"A\",\"CZ2\",\"Ax0333a\",\"P107\"],[176,3,176,\"TRP\",28,\"A\",\"CB\",\"Ax0333a\",\"P107\"],[145,2,145,\"HIS\",25,\"A\",\"CB\",\"Ax0333a\",\"P107\"],[104,1,104,\"ARG\",20,\"A\",\"O\",\"Ax0333a\",\"P107\"],[107,1,107,\"ARG\",20,\"A\",\"NH2\",\"Ax0333a\",\"P107\"],[106,2,106,\"ARG\",20,\"A\",\"NH1\",\"Ax0333a\",\"P107\"],[103,1,103,\"ARG\",20,\"A\",\"O\",\"Ax0333a\",\"P107\"],[179,1,179,\"TRP\",28,\"A\",\"CE2 CD2 CZ2 CZ3 CE3 CH2\",\"Ax0333a\",\"P107\"]],\"hovertemplate\":\"pose_id=%{customdata[8]}\\u003cbr\\u003echain_res_name_number_str=%{x}\\u003cbr\\u003efamily=%{y}\\u003cbr\\u003estr=%{customdata[0]}\\u003cbr\\u003ecount=%{customdata[1]}\\u003cbr\\u003eid=%{customdata[2]}\\u003cbr\\u003eresidue_name=%{customdata[3]}\\u003cbr\\u003eresidue_number=%{customdata[4]}\\u003cbr\\u003echain_name=%{customdata[5]}\\u003cbr\\u003eatom_names=%{customdata[6]}\\u003cbr\\u003epose_name=%{customdata[7]}\\u003cextra\\u003e\\u003c\\u002fextra\\u003e\",\"legendgroup\":\"P107\",\"marker\":{\"color\":\"#636efa\",\"symbol\":\"circle\",\"size\":10,\"opacity\":1.0},\"mode\":\"markers\",\"name\":\"P107\",\"orientation\":\"v\",\"showlegend\":true,\"x\":[\"A TRP 28\",\"A TRP 28\",\"A HIS 25\",\"A ARG 20\",\"A ARG 20\",\"A ARG 20\",\"A ARG 20\",\"A TRP 28\"],\"xaxis\":\"x\",\"y\":[\"Hydrophobe\",\"Hydrophobe\",\"Hydrophobe\",\"Donor\",\"Donor\",\"Donor\",\"Acceptor\",\"Hydrophobe\"],\"yaxis\":\"y\",\"type\":\"scatter\"},{\"alignmentgroup\":\"True\",\"bingroup\":\"x\",\"hovertemplate\":\"pose_id=P107\\u003cbr\\u003echain_res_name_number_str=%{x}\\u003cbr\\u003ecount=%{y}\\u003cextra\\u003e\\u003c\\u002fextra\\u003e\",\"legendgroup\":\"P107\",\"marker\":{\"color\":\"#636efa\"},\"name\":\"P107\",\"offsetgroup\":\"P107\",\"opacity\":1,\"showlegend\":false,\"x\":[\"A TRP 28\",\"A TRP 28\",\"A HIS 25\",\"A ARG 20\",\"A ARG 20\",\"A ARG 20\",\"A ARG 20\",\"A TRP 28\"],\"xaxis\":\"x3\",\"yaxis\":\"y3\",\"type\":\"histogram\",\"xbins\":{\"size\":1}},{\"alignmentgroup\":\"True\",\"bingroup\":\"y\",\"hovertemplate\":\"pose_id=P107\\u003cbr\\u003efamily=%{y}\\u003cbr\\u003ecount=%{x}\\u003cextra\\u003e\\u003c\\u002fextra\\u003e\",\"legendgroup\":\"P107\",\"marker\":{\"color\":\"#636efa\"},\"name\":\"P107\",\"offsetgroup\":\"P107\",\"opacity\":1,\"showlegend\":false,\"xaxis\":\"x2\",\"y\":[\"Hydrophobe\",\"Hydrophobe\",\"Hydrophobe\",\"Donor\",\"Donor\",\"Donor\",\"Acceptor\",\"Hydrophobe\"],\"yaxis\":\"y2\",\"type\":\"histogram\",\"xbins\":{\"size\":1}},{\"customdata\":[[177,1,177,\"TRP\",28,\"A\",\"CG CD1 NE1 CE2 CD2\",\"Ax0863a\",\"P35\"],[145,5,145,\"HIS\",25,\"A\",\"CB\",\"Ax0863a\",\"P35\"],[143,1,143,\"HIS\",25,\"A\",\"O\",\"Ax0863a\",\"P35\"],[146,1,146,\"HIS\",25,\"A\",\"CG ND1 CE1 NE2 CD2\",\"Ax0863a\",\"P35\"],[142,1,142,\"HIS\",25,\"A\",\"O\",\"Ax0863a\",\"P35\"],[148,1,148,\"HIS\",25,\"A\",\"NE2\",\"Ax0863a\",\"P35\"],[147,1,147,\"HIS\",25,\"A\",\"ND1\",\"Ax0863a\",\"P35\"],[184,2,184,\"ALA\",29,\"A\",\"CB\",\"Ax0863a\",\"P35\"],[135,1,135,\"THR\",24,\"A\",\"O\",\"Ax0863a\",\"P35\"],[176,4,176,\"TRP\",28,\"A\",\"CB\",\"Ax0863a\",\"P35\"],[136,1,136,\"THR\",24,\"A\",\"O\",\"Ax0863a\",\"P35\"]],\"hovertemplate\":\"pose_id=%{customdata[8]}\\u003cbr\\u003echain_res_name_number_str=%{x}\\u003cbr\\u003efamily=%{y}\\u003cbr\\u003estr=%{customdata[0]}\\u003cbr\\u003ecount=%{customdata[1]}\\u003cbr\\u003eid=%{customdata[2]}\\u003cbr\\u003eresidue_name=%{customdata[3]}\\u003cbr\\u003eresidue_number=%{customdata[4]}\\u003cbr\\u003echain_name=%{customdata[5]}\\u003cbr\\u003eatom_names=%{customdata[6]}\\u003cbr\\u003epose_name=%{customdata[7]}\\u003cextra\\u003e\\u003c\\u002fextra\\u003e\",\"legendgroup\":\"P35\",\"marker\":{\"color\":\"#EF553B\",\"symbol\":\"circle\",\"size\":10,\"opacity\":1.0},\"mode\":\"markers\",\"name\":\"P35\",\"orientation\":\"v\",\"showlegend\":true,\"x\":[\"A TRP 28\",\"A HIS 25\",\"A HIS 25\",\"A HIS 25\",\"A HIS 25\",\"A HIS 25\",\"A HIS 25\",\"A ALA 29\",\"A THR 24\",\"A TRP 28\",\"A THR 24\"],\"xaxis\":\"x\",\"y\":[\"Aromatic\",\"Hydrophobe\",\"Donor\",\"Aromatic\",\"Acceptor\",\"Acceptor\",\"Acceptor\",\"Hydrophobe\",\"Acceptor\",\"Hydrophobe\",\"Donor\"],\"yaxis\":\"y\",\"type\":\"scatter\"},{\"alignmentgroup\":\"True\",\"bingroup\":\"x\",\"hovertemplate\":\"pose_id=P35\\u003cbr\\u003echain_res_name_number_str=%{x}\\u003cbr\\u003ecount=%{y}\\u003cextra\\u003e\\u003c\\u002fextra\\u003e\",\"legendgroup\":\"P35\",\"marker\":{\"color\":\"#EF553B\"},\"name\":\"P35\",\"offsetgroup\":\"P35\",\"opacity\":1,\"showlegend\":false,\"x\":[\"A TRP 28\",\"A HIS 25\",\"A HIS 25\",\"A HIS 25\",\"A HIS 25\",\"A HIS 25\",\"A HIS 25\",\"A ALA 29\",\"A THR 24\",\"A TRP 28\",\"A THR 24\"],\"xaxis\":\"x3\",\"yaxis\":\"y3\",\"type\":\"histogram\",\"xbins\":{\"size\":1}},{\"alignmentgroup\":\"True\",\"bingroup\":\"y\",\"hovertemplate\":\"pose_id=P35\\u003cbr\\u003efamily=%{y}\\u003cbr\\u003ecount=%{x}\\u003cextra\\u003e\\u003c\\u002fextra\\u003e\",\"legendgroup\":\"P35\",\"marker\":{\"color\":\"#EF553B\"},\"name\":\"P35\",\"offsetgroup\":\"P35\",\"opacity\":1,\"showlegend\":false,\"xaxis\":\"x2\",\"y\":[\"Aromatic\",\"Hydrophobe\",\"Donor\",\"Aromatic\",\"Acceptor\",\"Acceptor\",\"Acceptor\",\"Hydrophobe\",\"Acceptor\",\"Hydrophobe\",\"Donor\"],\"yaxis\":\"y2\",\"type\":\"histogram\",\"xbins\":{\"size\":1}},{\"customdata\":[[149,1,149,\"HIS\",25,\"A\",\"ND1\",\"Ax1145b\",\"P44\"],[176,7,176,\"TRP\",28,\"A\",\"CB\",\"Ax1145b\",\"P44\"],[175,1,175,\"TRP\",28,\"A\",\"CE3\",\"Ax1145b\",\"P44\"],[184,2,184,\"ALA\",29,\"A\",\"CB\",\"Ax1145b\",\"P44\"],[145,7,145,\"HIS\",25,\"A\",\"CB\",\"Ax1145b\",\"P44\"]],\"hovertemplate\":\"pose_id=%{customdata[8]}\\u003cbr\\u003echain_res_name_number_str=%{x}\\u003cbr\\u003efamily=%{y}\\u003cbr\\u003estr=%{customdata[0]}\\u003cbr\\u003ecount=%{customdata[1]}\\u003cbr\\u003eid=%{customdata[2]}\\u003cbr\\u003eresidue_name=%{customdata[3]}\\u003cbr\\u003eresidue_number=%{customdata[4]}\\u003cbr\\u003echain_name=%{customdata[5]}\\u003cbr\\u003eatom_names=%{customdata[6]}\\u003cbr\\u003epose_name=%{customdata[7]}\\u003cextra\\u003e\\u003c\\u002fextra\\u003e\",\"legendgroup\":\"P44\",\"marker\":{\"color\":\"#00cc96\",\"symbol\":\"circle\",\"size\":10,\"opacity\":1.0},\"mode\":\"markers\",\"name\":\"P44\",\"orientation\":\"v\",\"showlegend\":true,\"x\":[\"A HIS 25\",\"A TRP 28\",\"A TRP 28\",\"A ALA 29\",\"A HIS 25\"],\"xaxis\":\"x\",\"y\":[\"Donor\",\"Hydrophobe\",\"Hydrophobe\",\"Hydrophobe\",\"Hydrophobe\"],\"yaxis\":\"y\",\"type\":\"scatter\"},{\"alignmentgroup\":\"True\",\"bingroup\":\"x\",\"hovertemplate\":\"pose_id=P44\\u003cbr\\u003echain_res_name_number_str=%{x}\\u003cbr\\u003ecount=%{y}\\u003cextra\\u003e\\u003c\\u002fextra\\u003e\",\"legendgroup\":\"P44\",\"marker\":{\"color\":\"#00cc96\"},\"name\":\"P44\",\"offsetgroup\":\"P44\",\"opacity\":1,\"showlegend\":false,\"x\":[\"A HIS 25\",\"A TRP 28\",\"A TRP 28\",\"A ALA 29\",\"A HIS 25\"],\"xaxis\":\"x3\",\"yaxis\":\"y3\",\"type\":\"histogram\",\"xbins\":{\"size\":1}},{\"alignmentgroup\":\"True\",\"bingroup\":\"y\",\"hovertemplate\":\"pose_id=P44\\u003cbr\\u003efamily=%{y}\\u003cbr\\u003ecount=%{x}\\u003cextra\\u003e\\u003c\\u002fextra\\u003e\",\"legendgroup\":\"P44\",\"marker\":{\"color\":\"#00cc96\"},\"name\":\"P44\",\"offsetgroup\":\"P44\",\"opacity\":1,\"showlegend\":false,\"xaxis\":\"x2\",\"y\":[\"Donor\",\"Hydrophobe\",\"Hydrophobe\",\"Hydrophobe\",\"Hydrophobe\"],\"yaxis\":\"y2\",\"type\":\"histogram\",\"xbins\":{\"size\":1}},{\"customdata\":[[125,1,125,\"LEU\",22,\"A\",\"CB\",\"Ax0351b\",\"P5\"],[176,1,176,\"TRP\",28,\"A\",\"CB\",\"Ax0351b\",\"P5\"],[145,1,145,\"HIS\",25,\"A\",\"CB\",\"Ax0351b\",\"P5\"],[150,2,150,\"HIS\",25,\"A\",\"NE2\",\"Ax0351b\",\"P5\"],[149,2,149,\"HIS\",25,\"A\",\"ND1\",\"Ax0351b\",\"P5\"],[127,1,127,\"LEU\",22,\"A\",\"CD2\",\"Ax0351b\",\"P5\"],[128,1,128,\"LEU\",22,\"A\",\"CG\",\"Ax0351b\",\"P5\"],[130,2,130,\"ALA\",23,\"A\",\"O\",\"Ax0351b\",\"P5\"],[131,1,131,\"ALA\",23,\"A\",\"O\",\"Ax0351b\",\"P5\"],[136,1,136,\"THR\",24,\"A\",\"O\",\"Ax0351b\",\"P5\"],[148,2,148,\"HIS\",25,\"A\",\"NE2\",\"Ax0351b\",\"P5\"],[664,2,664,\"TYR\",89,\"A\",\"CE2\",\"Ax0351b\",\"P5\"],[141,1,141,\"HIS\",25,\"A\",\"N\",\"Ax0351b\",\"P5\"]],\"hovertemplate\":\"pose_id=%{customdata[8]}\\u003cbr\\u003echain_res_name_number_str=%{x}\\u003cbr\\u003efamily=%{y}\\u003cbr\\u003estr=%{customdata[0]}\\u003cbr\\u003ecount=%{customdata[1]}\\u003cbr\\u003eid=%{customdata[2]}\\u003cbr\\u003eresidue_name=%{customdata[3]}\\u003cbr\\u003eresidue_number=%{customdata[4]}\\u003cbr\\u003echain_name=%{customdata[5]}\\u003cbr\\u003eatom_names=%{customdata[6]}\\u003cbr\\u003epose_name=%{customdata[7]}\\u003cextra\\u003e\\u003c\\u002fextra\\u003e\",\"legendgroup\":\"P5\",\"marker\":{\"color\":\"#ab63fa\",\"symbol\":\"circle\",\"size\":10,\"opacity\":1.0},\"mode\":\"markers\",\"name\":\"P5\",\"orientation\":\"v\",\"showlegend\":true,\"x\":[\"A LEU 22\",\"A TRP 28\",\"A HIS 25\",\"A HIS 25\",\"A HIS 25\",\"A LEU 22\",\"A LEU 22\",\"A ALA 23\",\"A ALA 23\",\"A THR 24\",\"A HIS 25\",\"A TYR 89\",\"A HIS 25\"],\"xaxis\":\"x\",\"y\":[\"Hydrophobe\",\"Hydrophobe\",\"Hydrophobe\",\"Donor\",\"Donor\",\"Hydrophobe\",\"Hydrophobe\",\"Acceptor\",\"Donor\",\"Donor\",\"Acceptor\",\"Hydrophobe\",\"Donor\"],\"yaxis\":\"y\",\"type\":\"scatter\"},{\"alignmentgroup\":\"True\",\"bingroup\":\"x\",\"hovertemplate\":\"pose_id=P5\\u003cbr\\u003echain_res_name_number_str=%{x}\\u003cbr\\u003ecount=%{y}\\u003cextra\\u003e\\u003c\\u002fextra\\u003e\",\"legendgroup\":\"P5\",\"marker\":{\"color\":\"#ab63fa\"},\"name\":\"P5\",\"offsetgroup\":\"P5\",\"opacity\":1,\"showlegend\":false,\"x\":[\"A LEU 22\",\"A TRP 28\",\"A HIS 25\",\"A HIS 25\",\"A HIS 25\",\"A LEU 22\",\"A LEU 22\",\"A ALA 23\",\"A ALA 23\",\"A THR 24\",\"A HIS 25\",\"A TYR 89\",\"A HIS 25\"],\"xaxis\":\"x3\",\"yaxis\":\"y3\",\"type\":\"histogram\",\"xbins\":{\"size\":1}},{\"alignmentgroup\":\"True\",\"bingroup\":\"y\",\"hovertemplate\":\"pose_id=P5\\u003cbr\\u003efamily=%{y}\\u003cbr\\u003ecount=%{x}\\u003cextra\\u003e\\u003c\\u002fextra\\u003e\",\"legendgroup\":\"P5\",\"marker\":{\"color\":\"#ab63fa\"},\"name\":\"P5\",\"offsetgroup\":\"P5\",\"opacity\":1,\"showlegend\":false,\"xaxis\":\"x2\",\"y\":[\"Hydrophobe\",\"Hydrophobe\",\"Hydrophobe\",\"Donor\",\"Donor\",\"Hydrophobe\",\"Hydrophobe\",\"Acceptor\",\"Donor\",\"Donor\",\"Acceptor\",\"Hydrophobe\",\"Donor\"],\"yaxis\":\"y2\",\"type\":\"histogram\",\"xbins\":{\"size\":1}},{\"customdata\":[[184,1,184,\"ALA\",29,\"A\",\"CB\",\"Ax0528b\",\"P66\"],[180,1,180,\"ALA\",29,\"A\",\"N\",\"Ax0528b\",\"P66\"],[175,1,175,\"TRP\",28,\"A\",\"CE3\",\"Ax0528b\",\"P66\"],[176,2,176,\"TRP\",28,\"A\",\"CB\",\"Ax0528b\",\"P66\"],[170,1,170,\"TRP\",28,\"A\",\"O\",\"Ax0528b\",\"P66\"],[177,1,177,\"TRP\",28,\"A\",\"CG CD1 NE1 CE2 CD2\",\"Ax0528b\",\"P66\"],[144,1,144,\"HIS\",25,\"A\",\"N\",\"Ax0528b\",\"P66\"],[147,1,147,\"HIS\",25,\"A\",\"ND1\",\"Ax0528b\",\"P66\"],[141,1,141,\"HIS\",25,\"A\",\"N\",\"Ax0528b\",\"P66\"],[149,2,149,\"HIS\",25,\"A\",\"ND1\",\"Ax0528b\",\"P66\"],[150,1,150,\"HIS\",25,\"A\",\"NE2\",\"Ax0528b\",\"P66\"],[143,2,143,\"HIS\",25,\"A\",\"O\",\"Ax0528b\",\"P66\"],[179,1,179,\"TRP\",28,\"A\",\"CE2 CD2 CZ2 CZ3 CE3 CH2\",\"Ax0528b\",\"P66\"],[145,1,145,\"HIS\",25,\"A\",\"CB\",\"Ax0528b\",\"P66\"]],\"hovertemplate\":\"pose_id=%{customdata[8]}\\u003cbr\\u003echain_res_name_number_str=%{x}\\u003cbr\\u003efamily=%{y}\\u003cbr\\u003estr=%{customdata[0]}\\u003cbr\\u003ecount=%{customdata[1]}\\u003cbr\\u003eid=%{customdata[2]}\\u003cbr\\u003eresidue_name=%{customdata[3]}\\u003cbr\\u003eresidue_number=%{customdata[4]}\\u003cbr\\u003echain_name=%{customdata[5]}\\u003cbr\\u003eatom_names=%{customdata[6]}\\u003cbr\\u003epose_name=%{customdata[7]}\\u003cextra\\u003e\\u003c\\u002fextra\\u003e\",\"legendgroup\":\"P66\",\"marker\":{\"color\":\"#FFA15A\",\"symbol\":\"circle\",\"size\":10,\"opacity\":1.0},\"mode\":\"markers\",\"name\":\"P66\",\"orientation\":\"v\",\"showlegend\":true,\"x\":[\"A ALA 29\",\"A ALA 29\",\"A TRP 28\",\"A TRP 28\",\"A TRP 28\",\"A TRP 28\",\"A HIS 25\",\"A HIS 25\",\"A HIS 25\",\"A HIS 25\",\"A HIS 25\",\"A HIS 25\",\"A TRP 28\",\"A HIS 25\"],\"xaxis\":\"x\",\"y\":[\"Hydrophobe\",\"Donor\",\"Hydrophobe\",\"Hydrophobe\",\"Donor\",\"Aromatic\",\"Acceptor\",\"Acceptor\",\"Donor\",\"Donor\",\"Donor\",\"Donor\",\"Hydrophobe\",\"Hydrophobe\"],\"yaxis\":\"y\",\"type\":\"scatter\"},{\"alignmentgroup\":\"True\",\"bingroup\":\"x\",\"hovertemplate\":\"pose_id=P66\\u003cbr\\u003echain_res_name_number_str=%{x}\\u003cbr\\u003ecount=%{y}\\u003cextra\\u003e\\u003c\\u002fextra\\u003e\",\"legendgroup\":\"P66\",\"marker\":{\"color\":\"#FFA15A\"},\"name\":\"P66\",\"offsetgroup\":\"P66\",\"opacity\":1,\"showlegend\":false,\"x\":[\"A ALA 29\",\"A ALA 29\",\"A TRP 28\",\"A TRP 28\",\"A TRP 28\",\"A TRP 28\",\"A HIS 25\",\"A HIS 25\",\"A HIS 25\",\"A HIS 25\",\"A HIS 25\",\"A HIS 25\",\"A TRP 28\",\"A HIS 25\"],\"xaxis\":\"x3\",\"yaxis\":\"y3\",\"type\":\"histogram\",\"xbins\":{\"size\":1}},{\"alignmentgroup\":\"True\",\"bingroup\":\"y\",\"hovertemplate\":\"pose_id=P66\\u003cbr\\u003efamily=%{y}\\u003cbr\\u003ecount=%{x}\\u003cextra\\u003e\\u003c\\u002fextra\\u003e\",\"legendgroup\":\"P66\",\"marker\":{\"color\":\"#FFA15A\"},\"name\":\"P66\",\"offsetgroup\":\"P66\",\"opacity\":1,\"showlegend\":false,\"xaxis\":\"x2\",\"y\":[\"Hydrophobe\",\"Donor\",\"Hydrophobe\",\"Hydrophobe\",\"Donor\",\"Aromatic\",\"Acceptor\",\"Acceptor\",\"Donor\",\"Donor\",\"Donor\",\"Donor\",\"Hydrophobe\",\"Hydrophobe\"],\"yaxis\":\"y2\",\"type\":\"histogram\",\"xbins\":{\"size\":1}},{\"customdata\":[[317,2,317,\"THR\",46,\"A\",\"CG2\",\"Ax0517a\",\"P81\"],[310,3,310,\"THR\",45,\"A\",\"CG2\",\"Ax0517a\",\"P81\"],[299,1,299,\"SER\",44,\"A\",\"O\",\"Ax0517a\",\"P81\"],[297,1,297,\"SER\",43,\"A\",\"OG\",\"Ax0517a\",\"P81\"],[167,1,167,\"ASP\",27,\"A\",\"CB\",\"Ax0517a\",\"P81\"],[190,1,190,\"ASN\",30,\"A\",\"OD1\",\"Ax0517a\",\"P81\"],[189,3,189,\"ASN\",30,\"A\",\"ND2\",\"Ax0517a\",\"P81\"],[158,2,158,\"ASN\",26,\"A\",\"CB\",\"Ax0517a\",\"P81\"],[157,1,157,\"ASN\",26,\"A\",\"OD1\",\"Ax0517a\",\"P81\"],[153,1,153,\"ASN\",26,\"A\",\"O\",\"Ax0517a\",\"P81\"],[36,1,36,\"TYR\",11,\"A\",\"OH\",\"Ax0517a\",\"P81\"],[32,2,32,\"TYR\",11,\"A\",\"CE1\",\"Ax0517a\",\"P81\"],[75,1,75,\"ARG\",16,\"A\",\"NH1\",\"Ax0517a\",\"P81\"],[155,2,155,\"ASN\",26,\"A\",\"ND2\",\"Ax0517a\",\"P81\"],[152,2,152,\"ASN\",26,\"A\",\"O\",\"Ax0517a\",\"P81\"],[156,2,156,\"ASN\",26,\"A\",\"OD1\",\"Ax0517a\",\"P81\"],[192,1,192,\"ASN\",30,\"A\",\"CB\",\"Ax0517a\",\"P81\"]],\"hovertemplate\":\"pose_id=%{customdata[8]}\\u003cbr\\u003echain_res_name_number_str=%{x}\\u003cbr\\u003efamily=%{y}\\u003cbr\\u003estr=%{customdata[0]}\\u003cbr\\u003ecount=%{customdata[1]}\\u003cbr\\u003eid=%{customdata[2]}\\u003cbr\\u003eresidue_name=%{customdata[3]}\\u003cbr\\u003eresidue_number=%{customdata[4]}\\u003cbr\\u003echain_name=%{customdata[5]}\\u003cbr\\u003eatom_names=%{customdata[6]}\\u003cbr\\u003epose_name=%{customdata[7]}\\u003cextra\\u003e\\u003c\\u002fextra\\u003e\",\"legendgroup\":\"P81\",\"marker\":{\"color\":\"#19d3f3\",\"symbol\":\"circle\",\"size\":10,\"opacity\":1.0},\"mode\":\"markers\",\"name\":\"P81\",\"orientation\":\"v\",\"showlegend\":true,\"x\":[\"A THR 46\",\"A THR 45\",\"A SER 44\",\"A SER 43\",\"A ASP 27\",\"A ASN 30\",\"A ASN 30\",\"A ASN 26\",\"A ASN 26\",\"A ASN 26\",\"A TYR 11\",\"A TYR 11\",\"A ARG 16\",\"A ASN 26\",\"A ASN 26\",\"A ASN 26\",\"A ASN 30\"],\"xaxis\":\"x\",\"y\":[\"Hydrophobe\",\"Hydrophobe\",\"Acceptor\",\"Acceptor\",\"Hydrophobe\",\"Acceptor\",\"Acceptor\",\"Hydrophobe\",\"Donor\",\"Donor\",\"Donor\",\"Hydrophobe\",\"Donor\",\"Acceptor\",\"Acceptor\",\"Acceptor\",\"Hydrophobe\"],\"yaxis\":\"y\",\"type\":\"scatter\"},{\"alignmentgroup\":\"True\",\"bingroup\":\"x\",\"hovertemplate\":\"pose_id=P81\\u003cbr\\u003echain_res_name_number_str=%{x}\\u003cbr\\u003ecount=%{y}\\u003cextra\\u003e\\u003c\\u002fextra\\u003e\",\"legendgroup\":\"P81\",\"marker\":{\"color\":\"#19d3f3\"},\"name\":\"P81\",\"offsetgroup\":\"P81\",\"opacity\":1,\"showlegend\":false,\"x\":[\"A THR 46\",\"A THR 45\",\"A SER 44\",\"A SER 43\",\"A ASP 27\",\"A ASN 30\",\"A ASN 30\",\"A ASN 26\",\"A ASN 26\",\"A ASN 26\",\"A TYR 11\",\"A TYR 11\",\"A ARG 16\",\"A ASN 26\",\"A ASN 26\",\"A ASN 26\",\"A ASN 30\"],\"xaxis\":\"x3\",\"yaxis\":\"y3\",\"type\":\"histogram\",\"xbins\":{\"size\":1}},{\"alignmentgroup\":\"True\",\"bingroup\":\"y\",\"hovertemplate\":\"pose_id=P81\\u003cbr\\u003efamily=%{y}\\u003cbr\\u003ecount=%{x}\\u003cextra\\u003e\\u003c\\u002fextra\\u003e\",\"legendgroup\":\"P81\",\"marker\":{\"color\":\"#19d3f3\"},\"name\":\"P81\",\"offsetgroup\":\"P81\",\"opacity\":1,\"showlegend\":false,\"xaxis\":\"x2\",\"y\":[\"Hydrophobe\",\"Hydrophobe\",\"Acceptor\",\"Acceptor\",\"Hydrophobe\",\"Acceptor\",\"Acceptor\",\"Hydrophobe\",\"Donor\",\"Donor\",\"Donor\",\"Hydrophobe\",\"Donor\",\"Acceptor\",\"Acceptor\",\"Acceptor\",\"Hydrophobe\"],\"yaxis\":\"y2\",\"type\":\"histogram\",\"xbins\":{\"size\":1}},{\"customdata\":[[147,2,147,\"HIS\",25,\"A\",\"ND1\",\"Ax0719b\",\"P94\"],[176,5,176,\"TRP\",28,\"A\",\"CB\",\"Ax0719b\",\"P94\"],[145,5,145,\"HIS\",25,\"A\",\"CB\",\"Ax0719b\",\"P94\"],[143,1,143,\"HIS\",25,\"A\",\"O\",\"Ax0719b\",\"P94\"],[149,1,149,\"HIS\",25,\"A\",\"ND1\",\"Ax0719b\",\"P94\"],[142,1,142,\"HIS\",25,\"A\",\"O\",\"Ax0719b\",\"P94\"]],\"hovertemplate\":\"pose_id=%{customdata[8]}\\u003cbr\\u003echain_res_name_number_str=%{x}\\u003cbr\\u003efamily=%{y}\\u003cbr\\u003estr=%{customdata[0]}\\u003cbr\\u003ecount=%{customdata[1]}\\u003cbr\\u003eid=%{customdata[2]}\\u003cbr\\u003eresidue_name=%{customdata[3]}\\u003cbr\\u003eresidue_number=%{customdata[4]}\\u003cbr\\u003echain_name=%{customdata[5]}\\u003cbr\\u003eatom_names=%{customdata[6]}\\u003cbr\\u003epose_name=%{customdata[7]}\\u003cextra\\u003e\\u003c\\u002fextra\\u003e\",\"legendgroup\":\"P94\",\"marker\":{\"color\":\"#FF6692\",\"symbol\":\"circle\",\"size\":10,\"opacity\":1.0},\"mode\":\"markers\",\"name\":\"P94\",\"orientation\":\"v\",\"showlegend\":true,\"x\":[\"A HIS 25\",\"A TRP 28\",\"A HIS 25\",\"A HIS 25\",\"A HIS 25\",\"A HIS 25\"],\"xaxis\":\"x\",\"y\":[\"Acceptor\",\"Hydrophobe\",\"Hydrophobe\",\"Donor\",\"Donor\",\"Acceptor\"],\"yaxis\":\"y\",\"type\":\"scatter\"},{\"alignmentgroup\":\"True\",\"bingroup\":\"x\",\"hovertemplate\":\"pose_id=P94\\u003cbr\\u003echain_res_name_number_str=%{x}\\u003cbr\\u003ecount=%{y}\\u003cextra\\u003e\\u003c\\u002fextra\\u003e\",\"legendgroup\":\"P94\",\"marker\":{\"color\":\"#FF6692\"},\"name\":\"P94\",\"offsetgroup\":\"P94\",\"opacity\":1,\"showlegend\":false,\"x\":[\"A HIS 25\",\"A TRP 28\",\"A HIS 25\",\"A HIS 25\",\"A HIS 25\",\"A HIS 25\"],\"xaxis\":\"x3\",\"yaxis\":\"y3\",\"type\":\"histogram\",\"xbins\":{\"size\":1}},{\"alignmentgroup\":\"True\",\"bingroup\":\"y\",\"hovertemplate\":\"pose_id=P94\\u003cbr\\u003efamily=%{y}\\u003cbr\\u003ecount=%{x}\\u003cextra\\u003e\\u003c\\u002fextra\\u003e\",\"legendgroup\":\"P94\",\"marker\":{\"color\":\"#FF6692\"},\"name\":\"P94\",\"offsetgroup\":\"P94\",\"opacity\":1,\"showlegend\":false,\"xaxis\":\"x2\",\"y\":[\"Acceptor\",\"Hydrophobe\",\"Hydrophobe\",\"Donor\",\"Donor\",\"Acceptor\"],\"yaxis\":\"y2\",\"type\":\"histogram\",\"xbins\":{\"size\":1}},{\"customdata\":[[145,4,145,\"HIS\",25,\"A\",\"CB\",\"Ax1146a\",\"P99\"],[177,1,177,\"TRP\",28,\"A\",\"CG CD1 NE1 CE2 CD2\",\"Ax1146a\",\"P99\"],[176,4,176,\"TRP\",28,\"A\",\"CB\",\"Ax1146a\",\"P99\"],[184,3,184,\"ALA\",29,\"A\",\"CB\",\"Ax1146a\",\"P99\"],[144,1,144,\"HIS\",25,\"A\",\"N\",\"Ax1146a\",\"P99\"],[147,2,147,\"HIS\",25,\"A\",\"ND1\",\"Ax1146a\",\"P99\"],[146,2,146,\"HIS\",25,\"A\",\"CG ND1 CE1 NE2 CD2\",\"Ax1146a\",\"P99\"]],\"hovertemplate\":\"pose_id=%{customdata[8]}\\u003cbr\\u003echain_res_name_number_str=%{x}\\u003cbr\\u003efamily=%{y}\\u003cbr\\u003estr=%{customdata[0]}\\u003cbr\\u003ecount=%{customdata[1]}\\u003cbr\\u003eid=%{customdata[2]}\\u003cbr\\u003eresidue_name=%{customdata[3]}\\u003cbr\\u003eresidue_number=%{customdata[4]}\\u003cbr\\u003echain_name=%{customdata[5]}\\u003cbr\\u003eatom_names=%{customdata[6]}\\u003cbr\\u003epose_name=%{customdata[7]}\\u003cextra\\u003e\\u003c\\u002fextra\\u003e\",\"legendgroup\":\"P99\",\"marker\":{\"color\":\"#B6E880\",\"symbol\":\"circle\",\"size\":10,\"opacity\":1.0},\"mode\":\"markers\",\"name\":\"P99\",\"orientation\":\"v\",\"showlegend\":true,\"x\":[\"A HIS 25\",\"A TRP 28\",\"A TRP 28\",\"A ALA 29\",\"A HIS 25\",\"A HIS 25\",\"A HIS 25\"],\"xaxis\":\"x\",\"y\":[\"Hydrophobe\",\"Aromatic\",\"Hydrophobe\",\"Hydrophobe\",\"Acceptor\",\"Acceptor\",\"Aromatic\"],\"yaxis\":\"y\",\"type\":\"scatter\"},{\"alignmentgroup\":\"True\",\"bingroup\":\"x\",\"hovertemplate\":\"pose_id=P99\\u003cbr\\u003echain_res_name_number_str=%{x}\\u003cbr\\u003ecount=%{y}\\u003cextra\\u003e\\u003c\\u002fextra\\u003e\",\"legendgroup\":\"P99\",\"marker\":{\"color\":\"#B6E880\"},\"name\":\"P99\",\"offsetgroup\":\"P99\",\"opacity\":1,\"showlegend\":false,\"x\":[\"A HIS 25\",\"A TRP 28\",\"A TRP 28\",\"A ALA 29\",\"A HIS 25\",\"A HIS 25\",\"A HIS 25\"],\"xaxis\":\"x3\",\"yaxis\":\"y3\",\"type\":\"histogram\",\"xbins\":{\"size\":1}},{\"alignmentgroup\":\"True\",\"bingroup\":\"y\",\"hovertemplate\":\"pose_id=P99\\u003cbr\\u003efamily=%{y}\\u003cbr\\u003ecount=%{x}\\u003cextra\\u003e\\u003c\\u002fextra\\u003e\",\"legendgroup\":\"P99\",\"marker\":{\"color\":\"#B6E880\"},\"name\":\"P99\",\"offsetgroup\":\"P99\",\"opacity\":1,\"showlegend\":false,\"xaxis\":\"x2\",\"y\":[\"Hydrophobe\",\"Aromatic\",\"Hydrophobe\",\"Hydrophobe\",\"Acceptor\",\"Acceptor\",\"Aromatic\"],\"yaxis\":\"y2\",\"type\":\"histogram\",\"xbins\":{\"size\":1}}],                        {\"template\":{\"data\":{\"histogram2dcontour\":[{\"type\":\"histogram2dcontour\",\"colorbar\":{\"outlinewidth\":0,\"ticks\":\"\"},\"colorscale\":[[0.0,\"#0d0887\"],[0.1111111111111111,\"#46039f\"],[0.2222222222222222,\"#7201a8\"],[0.3333333333333333,\"#9c179e\"],[0.4444444444444444,\"#bd3786\"],[0.5555555555555556,\"#d8576b\"],[0.6666666666666666,\"#ed7953\"],[0.7777777777777778,\"#fb9f3a\"],[0.8888888888888888,\"#fdca26\"],[1.0,\"#f0f921\"]]}],\"choropleth\":[{\"type\":\"choropleth\",\"colorbar\":{\"outlinewidth\":0,\"ticks\":\"\"}}],\"histogram2d\":[{\"type\":\"histogram2d\",\"colorbar\":{\"outlinewidth\":0,\"ticks\":\"\"},\"colorscale\":[[0.0,\"#0d0887\"],[0.1111111111111111,\"#46039f\"],[0.2222222222222222,\"#7201a8\"],[0.3333333333333333,\"#9c179e\"],[0.4444444444444444,\"#bd3786\"],[0.5555555555555556,\"#d8576b\"],[0.6666666666666666,\"#ed7953\"],[0.7777777777777778,\"#fb9f3a\"],[0.8888888888888888,\"#fdca26\"],[1.0,\"#f0f921\"]]}],\"heatmap\":[{\"type\":\"heatmap\",\"colorbar\":{\"outlinewidth\":0,\"ticks\":\"\"},\"colorscale\":[[0.0,\"#0d0887\"],[0.1111111111111111,\"#46039f\"],[0.2222222222222222,\"#7201a8\"],[0.3333333333333333,\"#9c179e\"],[0.4444444444444444,\"#bd3786\"],[0.5555555555555556,\"#d8576b\"],[0.6666666666666666,\"#ed7953\"],[0.7777777777777778,\"#fb9f3a\"],[0.8888888888888888,\"#fdca26\"],[1.0,\"#f0f921\"]]}],\"heatmapgl\":[{\"type\":\"heatmapgl\",\"colorbar\":{\"outlinewidth\":0,\"ticks\":\"\"},\"colorscale\":[[0.0,\"#0d0887\"],[0.1111111111111111,\"#46039f\"],[0.2222222222222222,\"#7201a8\"],[0.3333333333333333,\"#9c179e\"],[0.4444444444444444,\"#bd3786\"],[0.5555555555555556,\"#d8576b\"],[0.6666666666666666,\"#ed7953\"],[0.7777777777777778,\"#fb9f3a\"],[0.8888888888888888,\"#fdca26\"],[1.0,\"#f0f921\"]]}],\"contourcarpet\":[{\"type\":\"contourcarpet\",\"colorbar\":{\"outlinewidth\":0,\"ticks\":\"\"}}],\"contour\":[{\"type\":\"contour\",\"colorbar\":{\"outlinewidth\":0,\"ticks\":\"\"},\"colorscale\":[[0.0,\"#0d0887\"],[0.1111111111111111,\"#46039f\"],[0.2222222222222222,\"#7201a8\"],[0.3333333333333333,\"#9c179e\"],[0.4444444444444444,\"#bd3786\"],[0.5555555555555556,\"#d8576b\"],[0.6666666666666666,\"#ed7953\"],[0.7777777777777778,\"#fb9f3a\"],[0.8888888888888888,\"#fdca26\"],[1.0,\"#f0f921\"]]}],\"surface\":[{\"type\":\"surface\",\"colorbar\":{\"outlinewidth\":0,\"ticks\":\"\"},\"colorscale\":[[0.0,\"#0d0887\"],[0.1111111111111111,\"#46039f\"],[0.2222222222222222,\"#7201a8\"],[0.3333333333333333,\"#9c179e\"],[0.4444444444444444,\"#bd3786\"],[0.5555555555555556,\"#d8576b\"],[0.6666666666666666,\"#ed7953\"],[0.7777777777777778,\"#fb9f3a\"],[0.8888888888888888,\"#fdca26\"],[1.0,\"#f0f921\"]]}],\"mesh3d\":[{\"type\":\"mesh3d\",\"colorbar\":{\"outlinewidth\":0,\"ticks\":\"\"}}],\"scatter\":[{\"fillpattern\":{\"fillmode\":\"overlay\",\"size\":10,\"solidity\":0.2},\"type\":\"scatter\"}],\"parcoords\":[{\"type\":\"parcoords\",\"line\":{\"colorbar\":{\"outlinewidth\":0,\"ticks\":\"\"}}}],\"scatterpolargl\":[{\"type\":\"scatterpolargl\",\"marker\":{\"colorbar\":{\"outlinewidth\":0,\"ticks\":\"\"}}}],\"bar\":[{\"error_x\":{\"color\":\"#2a3f5f\"},\"error_y\":{\"color\":\"#2a3f5f\"},\"marker\":{\"line\":{\"color\":\"#E5ECF6\",\"width\":0.5},\"pattern\":{\"fillmode\":\"overlay\",\"size\":10,\"solidity\":0.2}},\"type\":\"bar\"}],\"scattergeo\":[{\"type\":\"scattergeo\",\"marker\":{\"colorbar\":{\"outlinewidth\":0,\"ticks\":\"\"}}}],\"scatterpolar\":[{\"type\":\"scatterpolar\",\"marker\":{\"colorbar\":{\"outlinewidth\":0,\"ticks\":\"\"}}}],\"histogram\":[{\"marker\":{\"pattern\":{\"fillmode\":\"overlay\",\"size\":10,\"solidity\":0.2}},\"type\":\"histogram\"}],\"scattergl\":[{\"type\":\"scattergl\",\"marker\":{\"colorbar\":{\"outlinewidth\":0,\"ticks\":\"\"}}}],\"scatter3d\":[{\"type\":\"scatter3d\",\"line\":{\"colorbar\":{\"outlinewidth\":0,\"ticks\":\"\"}},\"marker\":{\"colorbar\":{\"outlinewidth\":0,\"ticks\":\"\"}}}],\"scattermapbox\":[{\"type\":\"scattermapbox\",\"marker\":{\"colorbar\":{\"outlinewidth\":0,\"ticks\":\"\"}}}],\"scatterternary\":[{\"type\":\"scatterternary\",\"marker\":{\"colorbar\":{\"outlinewidth\":0,\"ticks\":\"\"}}}],\"scattercarpet\":[{\"type\":\"scattercarpet\",\"marker\":{\"colorbar\":{\"outlinewidth\":0,\"ticks\":\"\"}}}],\"carpet\":[{\"aaxis\":{\"endlinecolor\":\"#2a3f5f\",\"gridcolor\":\"white\",\"linecolor\":\"white\",\"minorgridcolor\":\"white\",\"startlinecolor\":\"#2a3f5f\"},\"baxis\":{\"endlinecolor\":\"#2a3f5f\",\"gridcolor\":\"white\",\"linecolor\":\"white\",\"minorgridcolor\":\"white\",\"startlinecolor\":\"#2a3f5f\"},\"type\":\"carpet\"}],\"table\":[{\"cells\":{\"fill\":{\"color\":\"#EBF0F8\"},\"line\":{\"color\":\"white\"}},\"header\":{\"fill\":{\"color\":\"#C8D4E3\"},\"line\":{\"color\":\"white\"}},\"type\":\"table\"}],\"barpolar\":[{\"marker\":{\"line\":{\"color\":\"#E5ECF6\",\"width\":0.5},\"pattern\":{\"fillmode\":\"overlay\",\"size\":10,\"solidity\":0.2}},\"type\":\"barpolar\"}],\"pie\":[{\"automargin\":true,\"type\":\"pie\"}]},\"layout\":{\"autotypenumbers\":\"strict\",\"colorway\":[\"#636efa\",\"#EF553B\",\"#00cc96\",\"#ab63fa\",\"#FFA15A\",\"#19d3f3\",\"#FF6692\",\"#B6E880\",\"#FF97FF\",\"#FECB52\"],\"font\":{\"color\":\"#2a3f5f\"},\"hovermode\":\"closest\",\"hoverlabel\":{\"align\":\"left\"},\"paper_bgcolor\":\"white\",\"plot_bgcolor\":\"#E5ECF6\",\"polar\":{\"bgcolor\":\"#E5ECF6\",\"angularaxis\":{\"gridcolor\":\"white\",\"linecolor\":\"white\",\"ticks\":\"\"},\"radialaxis\":{\"gridcolor\":\"white\",\"linecolor\":\"white\",\"ticks\":\"\"}},\"ternary\":{\"bgcolor\":\"#E5ECF6\",\"aaxis\":{\"gridcolor\":\"white\",\"linecolor\":\"white\",\"ticks\":\"\"},\"baxis\":{\"gridcolor\":\"white\",\"linecolor\":\"white\",\"ticks\":\"\"},\"caxis\":{\"gridcolor\":\"white\",\"linecolor\":\"white\",\"ticks\":\"\"}},\"coloraxis\":{\"colorbar\":{\"outlinewidth\":0,\"ticks\":\"\"}},\"colorscale\":{\"sequential\":[[0.0,\"#0d0887\"],[0.1111111111111111,\"#46039f\"],[0.2222222222222222,\"#7201a8\"],[0.3333333333333333,\"#9c179e\"],[0.4444444444444444,\"#bd3786\"],[0.5555555555555556,\"#d8576b\"],[0.6666666666666666,\"#ed7953\"],[0.7777777777777778,\"#fb9f3a\"],[0.8888888888888888,\"#fdca26\"],[1.0,\"#f0f921\"]],\"sequentialminus\":[[0.0,\"#0d0887\"],[0.1111111111111111,\"#46039f\"],[0.2222222222222222,\"#7201a8\"],[0.3333333333333333,\"#9c179e\"],[0.4444444444444444,\"#bd3786\"],[0.5555555555555556,\"#d8576b\"],[0.6666666666666666,\"#ed7953\"],[0.7777777777777778,\"#fb9f3a\"],[0.8888888888888888,\"#fdca26\"],[1.0,\"#f0f921\"]],\"diverging\":[[0,\"#8e0152\"],[0.1,\"#c51b7d\"],[0.2,\"#de77ae\"],[0.3,\"#f1b6da\"],[0.4,\"#fde0ef\"],[0.5,\"#f7f7f7\"],[0.6,\"#e6f5d0\"],[0.7,\"#b8e186\"],[0.8,\"#7fbc41\"],[0.9,\"#4d9221\"],[1,\"#276419\"]]},\"xaxis\":{\"gridcolor\":\"white\",\"linecolor\":\"white\",\"ticks\":\"\",\"title\":{\"standoff\":15},\"zerolinecolor\":\"white\",\"automargin\":true,\"zerolinewidth\":2},\"yaxis\":{\"gridcolor\":\"white\",\"linecolor\":\"white\",\"ticks\":\"\",\"title\":{\"standoff\":15},\"zerolinecolor\":\"white\",\"automargin\":true,\"zerolinewidth\":2},\"scene\":{\"xaxis\":{\"backgroundcolor\":\"#E5ECF6\",\"gridcolor\":\"white\",\"linecolor\":\"white\",\"showbackground\":true,\"ticks\":\"\",\"zerolinecolor\":\"white\",\"gridwidth\":2},\"yaxis\":{\"backgroundcolor\":\"#E5ECF6\",\"gridcolor\":\"white\",\"linecolor\":\"white\",\"showbackground\":true,\"ticks\":\"\",\"zerolinecolor\":\"white\",\"gridwidth\":2},\"zaxis\":{\"backgroundcolor\":\"#E5ECF6\",\"gridcolor\":\"white\",\"linecolor\":\"white\",\"showbackground\":true,\"ticks\":\"\",\"zerolinecolor\":\"white\",\"gridwidth\":2}},\"shapedefaults\":{\"line\":{\"color\":\"#2a3f5f\"}},\"annotationdefaults\":{\"arrowcolor\":\"#2a3f5f\",\"arrowhead\":0,\"arrowwidth\":1},\"geo\":{\"bgcolor\":\"white\",\"landcolor\":\"#E5ECF6\",\"subunitcolor\":\"white\",\"showland\":true,\"showlakes\":true,\"lakecolor\":\"white\"},\"title\":{\"x\":0.05},\"mapbox\":{\"style\":\"light\"}}},\"xaxis\":{\"anchor\":\"y\",\"domain\":[0.0,0.7363],\"title\":{\"text\":\"Residue\"},\"categoryorder\":\"array\",\"categoryarray\":[\"A TYR 11\",\"A ARG 16\",\"A ARG 20\",\"A LEU 22\",\"A ALA 23\",\"A THR 24\",\"A HIS 25\",\"A ASN 26\",\"A ASP 27\",\"A TRP 28\",\"A ALA 29\",\"A ASN 30\",\"A SER 43\",\"A SER 44\",\"A THR 45\",\"A THR 46\",\"A TYR 89\"]},\"yaxis\":{\"anchor\":\"x\",\"domain\":[0.0,0.7326],\"title\":{\"text\":\"Feature Family\"}},\"xaxis2\":{\"anchor\":\"y2\",\"domain\":[0.7413,1.0],\"matches\":\"x2\",\"showticklabels\":false,\"showline\":false,\"ticks\":\"\",\"showgrid\":true,\"categoryorder\":\"array\",\"categoryarray\":[\"A TYR 11\",\"A ARG 16\",\"A ARG 20\",\"A LEU 22\",\"A ALA 23\",\"A THR 24\",\"A HIS 25\",\"A ASN 26\",\"A ASP 27\",\"A TRP 28\",\"A ALA 29\",\"A ASN 30\",\"A SER 43\",\"A SER 44\",\"A THR 45\",\"A THR 46\",\"A TYR 89\"]},\"yaxis2\":{\"anchor\":\"x2\",\"domain\":[0.0,0.7326],\"matches\":\"y\",\"showticklabels\":false,\"showgrid\":true},\"xaxis3\":{\"anchor\":\"y3\",\"domain\":[0.0,0.7363],\"matches\":\"x\",\"showticklabels\":false,\"showgrid\":true,\"categoryorder\":\"array\",\"categoryarray\":[\"A TYR 11\",\"A ARG 16\",\"A ARG 20\",\"A LEU 22\",\"A ALA 23\",\"A THR 24\",\"A HIS 25\",\"A ASN 26\",\"A ASP 27\",\"A TRP 28\",\"A ALA 29\",\"A ASN 30\",\"A SER 43\",\"A SER 44\",\"A THR 45\",\"A THR 46\",\"A TYR 89\"]},\"yaxis3\":{\"anchor\":\"x3\",\"domain\":[0.7426,1.0],\"matches\":\"y3\",\"showticklabels\":false,\"showline\":false,\"ticks\":\"\",\"showgrid\":true},\"xaxis4\":{\"anchor\":\"y4\",\"domain\":[0.7413,1.0],\"matches\":\"x2\",\"showticklabels\":false,\"showgrid\":true,\"showline\":false,\"ticks\":\"\",\"categoryorder\":\"array\",\"categoryarray\":[\"A TYR 11\",\"A ARG 16\",\"A ARG 20\",\"A LEU 22\",\"A ALA 23\",\"A THR 24\",\"A HIS 25\",\"A ASN 26\",\"A ASP 27\",\"A TRP 28\",\"A ALA 29\",\"A ASN 30\",\"A SER 43\",\"A SER 44\",\"A THR 45\",\"A THR 46\",\"A TYR 89\"]},\"yaxis4\":{\"anchor\":\"x4\",\"domain\":[0.7426,1.0],\"matches\":\"y3\",\"showticklabels\":false,\"showline\":false,\"ticks\":\"\",\"showgrid\":true},\"legend\":{\"title\":{\"text\":\"pose_id\"},\"tracegroupgap\":0},\"title\":{\"text\":\"\\u003cb\\u003eanimal\\u003c\\u002fb\\u003e: Interaction Punch-Card\\u003cbr\\u003e\\u003csup\\u003e\\u003ci\\u003eCanonSites\\u003c\\u002fi\\u003e\\u003c\\u002fsup\\u003e\",\"automargin\":false,\"yref\":\"container\"},\"barmode\":\"stack\",\"scattermode\":\"group\",\"scattergap\":0.75,\"images\":[{\"sizex\":0.25,\"sizey\":0.25,\"source\":\"https:\\u002f\\u002fraw.githubusercontent.com\\u002fmwinokan\\u002fHIPPO\\u002fmain\\u002flogos\\u002fhippo_assets-02.png\",\"x\":1,\"xanchor\":\"right\",\"xref\":\"paper\",\"y\":1,\"yanchor\":\"top\",\"yref\":\"paper\"}]},                        {\"responsive\": true}                    ).then(function(){\n                            \nvar gd = document.getElementById('aa078db6-155f-4dd2-8b6f-caab82543abd');\nvar x = new MutationObserver(function (mutations, observer) {{\n        var display = window.getComputedStyle(gd).display;\n        if (!display || display === 'none') {{\n            console.log([gd, 'removed!']);\n            Plotly.purge(gd);\n            observer.disconnect();\n        }}\n}});\n\n// Listen for the removal of the full notebook cells\nvar notebookContainer = gd.closest('#notebook-container');\nif (notebookContainer) {{\n    x.observe(notebookContainer, {childList: true});\n}}\n\n// Listen for the clearing of the current output cell\nvar outputEl = gd.closest('.output');\nif (outputEl) {{\n    x.observe(outputEl, {childList: true});\n}}\n\n                        })                };                });            </script>        </div>"
     },
     "metadata": {},
     "output_type": "display_data"
    }
   ],
   "source": [
    "animal.plot_interaction_punchcard(canon_hits, 'CanonSites')"
   ],
   "metadata": {
    "collapsed": false,
    "ExecuteTime": {
     "end_time": "2024-03-14T14:44:07.903235Z",
     "start_time": "2024-03-14T14:44:07.762813Z"
    }
   },
   "id": "3603ad9792ef48c3",
   "execution_count": 40
  },
  {
   "cell_type": "code",
   "outputs": [],
   "source": [
    "comp = animal.register_compound(smiles='CCC')"
   ],
   "metadata": {
    "collapsed": false,
    "ExecuteTime": {
     "end_time": "2024-03-14T14:44:45.483493Z",
     "start_time": "2024-03-14T14:44:45.451159Z"
    }
   },
   "id": "105d8931aae1b99",
   "execution_count": 42
  },
  {
   "cell_type": "code",
   "outputs": [
    {
     "data": {
      "text/plain": "\u001B[1m\u001B[4mC85 \"ATUOYWHBWRKTHZ-UHFFFAOYSA-N\"\u001B[22m\u001B[24m"
     },
     "execution_count": 43,
     "metadata": {},
     "output_type": "execute_result"
    }
   ],
   "source": [
    "comp"
   ],
   "metadata": {
    "collapsed": false,
    "ExecuteTime": {
     "end_time": "2024-03-14T14:44:52.245005Z",
     "start_time": "2024-03-14T14:44:52.208434Z"
    }
   },
   "id": "1e599163118ec738",
   "execution_count": 43
  },
  {
   "cell_type": "code",
   "outputs": [],
   "source": "p = animal.register_compound(smiles='CCC', metadata={'CanonSites': '10'}, tags=['product', 'scaffold'], return_compound=False, base=animal.compounds[1])",
   "metadata": {
    "collapsed": false,
    "ExecuteTime": {
     "end_time": "2024-03-14T14:57:57.559457Z",
     "start_time": "2024-03-14T14:57:57.497521Z"
    }
   },
   "id": "f2c3de91af98d7e",
   "execution_count": 73
  },
  {
   "cell_type": "code",
   "outputs": [
    {
     "data": {
      "text/plain": "85"
     },
     "execution_count": 66,
     "metadata": {},
     "output_type": "execute_result"
    }
   ],
   "source": [
    "p"
   ],
   "metadata": {
    "collapsed": false,
    "ExecuteTime": {
     "end_time": "2024-03-14T14:53:47.718427Z",
     "start_time": "2024-03-14T14:53:47.678037Z"
    }
   },
   "id": "f7a6d4e0a7b65d20",
   "execution_count": 66
  },
  {
   "cell_type": "code",
   "outputs": [],
   "source": [
    "c1 = animal.register_compound(smiles='C')"
   ],
   "metadata": {
    "collapsed": false,
    "ExecuteTime": {
     "end_time": "2024-03-14T14:46:26.925880Z",
     "start_time": "2024-03-14T14:46:26.883065Z"
    }
   },
   "id": "3028e065363d83a5",
   "execution_count": 50
  },
  {
   "cell_type": "code",
   "outputs": [],
   "source": [
    "c2 = animal.register_compound(smiles='CC')"
   ],
   "metadata": {
    "collapsed": false,
    "ExecuteTime": {
     "end_time": "2024-03-14T14:46:27.236610Z",
     "start_time": "2024-03-14T14:46:27.204465Z"
    }
   },
   "id": "53f5e453b585d3eb",
   "execution_count": 51
  },
  {
   "cell_type": "code",
   "outputs": [],
   "source": [
    "r = animal.register_reaction(product=p, reactants=[c1], type='magic')"
   ],
   "metadata": {
    "collapsed": false,
    "ExecuteTime": {
     "end_time": "2024-03-14T14:47:51.513404Z",
     "start_time": "2024-03-14T14:47:51.474165Z"
    }
   },
   "id": "820290ffceaf852",
   "execution_count": 57
  },
  {
   "cell_type": "code",
   "outputs": [
    {
     "data": {
      "text/plain": "\u001B[1m\u001B[4mR2: C86 -> C85 via magic\u001B[22m\u001B[24m"
     },
     "execution_count": 58,
     "metadata": {},
     "output_type": "execute_result"
    }
   ],
   "source": [
    "r"
   ],
   "metadata": {
    "collapsed": false,
    "ExecuteTime": {
     "end_time": "2024-03-14T14:47:52.839887Z",
     "start_time": "2024-03-14T14:47:52.803609Z"
    }
   },
   "id": "ae5cba26bc17248e",
   "execution_count": 58
  },
  {
   "cell_type": "code",
   "outputs": [
    {
     "data": {
      "image/png": "[encoded data removed]",
      "text/plain": "<IPython.core.display.Image object>"
     },
     "execution_count": 59,
     "metadata": {},
     "output_type": "execute_result"
    }
   ],
   "source": [
    "r.draw()"
   ],
   "metadata": {
    "collapsed": false,
    "ExecuteTime": {
     "end_time": "2024-03-14T14:47:55.542827Z",
     "start_time": "2024-03-14T14:47:55.499106Z"
    }
   },
   "id": "80daecacd82c9521",
   "execution_count": 59
  },
  {
   "cell_type": "code",
   "outputs": [
    {
     "name": "stdout",
     "output_type": "stream",
     "text": [
      "\u001B[7m\u001B[38;5;166m\u001B[1m Warning \u001B[0m\u001B[38;5;166m Skipping pose with existing path \"/dev/null\"\u001B[0m\n"
     ]
    }
   ],
   "source": [
    "pose_id = animal.register_pose(compound=85, metadata={'CanonSites': '10'}, path='/dev/null', target=1, reference=animal.poses[\"Ax0310a\"], return_pose=False)"
   ],
   "metadata": {
    "collapsed": false,
    "ExecuteTime": {
     "end_time": "2024-03-14T15:00:21.860813Z",
     "start_time": "2024-03-14T15:00:21.829479Z"
    }
   },
   "id": "c74b0452d07a2ad2",
   "execution_count": 84
  },
  {
   "cell_type": "code",
   "outputs": [
    {
     "data": {
      "text/plain": "{'CanonSites': '10'}"
     },
     "execution_count": 63,
     "metadata": {},
     "output_type": "execute_result"
    }
   ],
   "source": [
    "p.metadata"
   ],
   "metadata": {
    "collapsed": false,
    "ExecuteTime": {
     "end_time": "2024-03-14T14:50:18.790907Z",
     "start_time": "2024-03-14T14:50:18.756062Z"
    }
   },
   "id": "f6f0d979631bd033",
   "execution_count": 63
  },
  {
   "cell_type": "code",
   "outputs": [],
   "source": [
    "d = {'CanonSites': '10', 'tags': 'product, scaffold'}\n",
    "d = {'tags': 'product'}"
   ],
   "metadata": {
    "collapsed": false,
    "ExecuteTime": {
     "end_time": "2024-03-14T14:56:39.959372Z",
     "start_time": "2024-03-14T14:56:39.925655Z"
    }
   },
   "id": "6ee147c105773915",
   "execution_count": 71
  },
  {
   "cell_type": "code",
   "outputs": [
    {
     "data": {
      "text/plain": "{'tags': 'product'}"
     },
     "execution_count": 72,
     "metadata": {},
     "output_type": "execute_result"
    }
   ],
   "source": [
    "d"
   ],
   "metadata": {
    "collapsed": false,
    "ExecuteTime": {
     "end_time": "2024-03-14T14:56:41.820124Z",
     "start_time": "2024-03-14T14:56:41.782128Z"
    }
   },
   "id": "16f23df716aaf476",
   "execution_count": 72
  },
  {
   "cell_type": "code",
   "outputs": [
    {
     "data": {
      "text/plain": "194"
     },
     "execution_count": 85,
     "metadata": {},
     "output_type": "execute_result"
    }
   ],
   "source": [
    "animal.db.insert_tag(name='product', pose=pose_id)"
   ],
   "metadata": {
    "collapsed": false,
    "ExecuteTime": {
     "end_time": "2024-03-14T15:00:24.189839Z",
     "start_time": "2024-03-14T15:00:24.154054Z"
    }
   },
   "id": "cab48aeb0a601409",
   "execution_count": 85
  },
  {
   "cell_type": "code",
   "outputs": [
    {
     "data": {
      "text/plain": "194"
     },
     "execution_count": 88,
     "metadata": {},
     "output_type": "execute_result"
    }
   ],
   "source": [
    "animal.db.update(table='compound', id=85, key='compound_base', value=3)"
   ],
   "metadata": {
    "collapsed": false,
    "ExecuteTime": {
     "end_time": "2024-03-14T15:01:51.321567Z",
     "start_time": "2024-03-14T15:01:51.289372Z"
    }
   },
   "id": "2d8c8d4ac6aa26c5",
   "execution_count": 88
  },
  {
   "cell_type": "code",
   "outputs": [
    {
     "data": {
      "text/plain": "(85,)"
     },
     "execution_count": 90,
     "metadata": {},
     "output_type": "execute_result"
    }
   ],
   "source": "animal.db.select_id_where(table='compound', key='scaffold', value=3)",
   "metadata": {
    "collapsed": false,
    "ExecuteTime": {
     "end_time": "2024-03-14T15:02:39.347021Z",
     "start_time": "2024-03-14T15:02:39.313865Z"
    }
   },
   "id": "86e31d18cd6d7cf0",
   "execution_count": 90
  },
  {
   "cell_type": "code",
   "outputs": [
    {
     "data": {
      "text/plain": "\u001B[1m\u001B[4mC3 \"BFRXGCPOQMOBHK-UHFFFAOYSA-N\"\u001B[22m\u001B[24m"
     },
     "execution_count": 91,
     "metadata": {},
     "output_type": "execute_result"
    }
   ],
   "source": "animal.compounds[85].scaffold",
   "metadata": {
    "collapsed": false,
    "ExecuteTime": {
     "end_time": "2024-03-14T15:02:59.899006Z",
     "start_time": "2024-03-14T15:02:59.864544Z"
    }
   },
   "id": "ab108c0c41712630",
   "execution_count": 91
  },
  {
   "cell_type": "code",
   "outputs": [
    {
     "data": {
      "text/plain": "\u001B[1m\u001B[4mC3 \"BFRXGCPOQMOBHK-UHFFFAOYSA-N\"\u001B[22m\u001B[24m"
     },
     "execution_count": 92,
     "metadata": {},
     "output_type": "execute_result"
    }
   ],
   "source": [
    "animal.db.get_compound(id=3)"
   ],
   "metadata": {
    "collapsed": false,
    "ExecuteTime": {
     "end_time": "2024-03-14T15:03:17.222860Z",
     "start_time": "2024-03-14T15:03:17.186976Z"
    }
   },
   "id": "7d229bc8355336c5",
   "execution_count": 92
  },
  {
   "cell_type": "code",
   "outputs": [],
   "source": [
    "comp = animal.compounds[85]"
   ],
   "metadata": {
    "collapsed": false,
    "ExecuteTime": {
     "end_time": "2024-03-14T15:09:42.901951Z",
     "start_time": "2024-03-14T15:09:42.795603Z"
    }
   },
   "id": "90f79ffce4297495",
   "execution_count": 93
  },
  {
   "cell_type": "code",
   "outputs": [],
   "source": [
    "ingredient = comp.as_ingredient(amount=3)"
   ],
   "metadata": {
    "collapsed": false,
    "ExecuteTime": {
     "end_time": "2024-03-14T15:10:04.771682Z",
     "start_time": "2024-03-14T15:10:04.737026Z"
    }
   },
   "id": "a97e22ada00e9323",
   "execution_count": 94
  },
  {
   "cell_type": "code",
   "outputs": [
    {
     "data": {
      "text/plain": "3.00mg of \u001B[1m\u001B[4mC85 \"ATUOYWHBWRKTHZ-UHFFFAOYSA-N\"\u001B[22m\u001B[24m"
     },
     "execution_count": 95,
     "metadata": {},
     "output_type": "execute_result"
    }
   ],
   "source": [
    "ingredient"
   ],
   "metadata": {
    "collapsed": false,
    "ExecuteTime": {
     "end_time": "2024-03-14T15:10:08.263975Z",
     "start_time": "2024-03-14T15:10:08.232005Z"
    }
   },
   "id": "d6d40c8045460b63",
   "execution_count": 95
  },
  {
   "cell_type": "code",
   "outputs": [
    {
     "data": {
      "text/plain": "\u001B[1m\u001B[4mC85 \"ATUOYWHBWRKTHZ-UHFFFAOYSA-N\"\u001B[22m\u001B[24m"
     },
     "execution_count": 108,
     "metadata": {},
     "output_type": "execute_result"
    }
   ],
   "source": [
    "animal.reactions[1].product"
   ],
   "metadata": {
    "collapsed": false,
    "ExecuteTime": {
     "end_time": "2024-03-14T15:12:54.028970Z",
     "start_time": "2024-03-14T15:12:53.992980Z"
    }
   },
   "id": "432b7f3e78b1f041",
   "execution_count": 108
  },
  {
   "cell_type": "code",
   "outputs": [
    {
     "ename": "AssertionError",
     "evalue": "",
     "output_type": "error",
     "traceback": [
      "\u001B[0;31m---------------------------------------------------------------------------\u001B[0m",
      "\u001B[0;31mAssertionError\u001B[0m                            Traceback (most recent call last)",
      "Cell \u001B[0;32mIn[110], line 1\u001B[0m\n\u001B[0;32m----> 1\u001B[0m animal\u001B[38;5;241m.\u001B[39mcompounds[[\u001B[38;5;241m85\u001B[39m]]\u001B[38;5;241m.\u001B[39mget_recipe()\n",
      "File \u001B[0;32m/opt/homebrew/anaconda3/envs/hippo/lib/python3.12/site-packages/hippo/cset.py:187\u001B[0m, in \u001B[0;36mCompoundSubset.get_recipe\u001B[0;34m(self, amount, simplify_network)\u001B[0m\n\u001B[1;32m    183\u001B[0m \u001B[38;5;28;01mfor\u001B[39;00m comp, a \u001B[38;5;129;01min\u001B[39;00m \u001B[38;5;28mzip\u001B[39m(\u001B[38;5;28mself\u001B[39m, amount):\n\u001B[1;32m    185\u001B[0m \treax \u001B[38;5;241m=\u001B[39m comp\u001B[38;5;241m.\u001B[39mreactions\n\u001B[0;32m--> 187\u001B[0m \t\u001B[38;5;28;01massert\u001B[39;00m \u001B[38;5;28mlen\u001B[39m(reax) \u001B[38;5;241m==\u001B[39m \u001B[38;5;241m1\u001B[39m\n\u001B[1;32m    189\u001B[0m \trecipe \u001B[38;5;241m=\u001B[39m reax[\u001B[38;5;241m0\u001B[39m]\u001B[38;5;241m.\u001B[39mget_recipe(a)\n\u001B[1;32m    191\u001B[0m \tproducts\u001B[38;5;241m.\u001B[39mappend(comp\u001B[38;5;241m.\u001B[39mas_ingredient(amount\u001B[38;5;241m=\u001B[39ma))\n",
      "\u001B[0;31mAssertionError\u001B[0m: "
     ]
    }
   ],
   "source": [
    "animal.compounds[[85]].get_recipe()"
   ],
   "metadata": {
    "collapsed": false,
    "ExecuteTime": {
     "end_time": "2024-03-14T15:13:18.295978Z",
     "start_time": "2024-03-14T15:13:18.247793Z"
    }
   },
   "id": "9f5cc9183ab4db13",
   "execution_count": 110
  },
  {
   "cell_type": "code",
   "outputs": [
    {
     "name": "stdout",
     "output_type": "stream",
     "text": [
      "[(1.0, 1, 86), (1.0, 1, 87), (1.0, 2, 86)]\n"
     ]
    }
   ],
   "source": [
    "animal.db.print_table('reactant')"
   ],
   "metadata": {
    "collapsed": false,
    "ExecuteTime": {
     "end_time": "2024-03-14T15:12:17.772464Z",
     "start_time": "2024-03-14T15:12:17.737499Z"
    }
   },
   "id": "90cb87d08524fb71",
   "execution_count": 105
  },
  {
   "cell_type": "code",
   "outputs": [
    {
     "name": "stdout",
     "output_type": "stream",
     "text": [
      "\u001B[2mDEBUG: hippo3.Database.close()\u001B[0m\n",
      "\u001B[32;1mClosed connection to \u001B[38;5;11mtest.db\u001B[0m\u001B[0m       \n"
     ]
    }
   ],
   "source": [
    "animal.db.close()"
   ],
   "metadata": {
    "collapsed": false,
    "ExecuteTime": {
     "end_time": "2024-03-14T15:16:43.401621Z",
     "start_time": "2024-03-14T15:16:43.300220Z"
    }
   },
   "id": "96ff31e144a7e1c9",
   "execution_count": 111
  },
  {
   "cell_type": "code",
   "outputs": [],
   "source": [],
   "metadata": {
    "collapsed": false
   },
   "id": "756b6d6b09db4d9e",
   "execution_count": null
  }
 ],
 "metadata": {
  "kernelspec": {
   "display_name": "Python 3",
   "language": "python",
   "name": "python3"
  },
  "language_info": {
   "codemirror_mode": {
    "name": "ipython",
    "version": 2
   },
   "file_extension": ".py",
   "mimetype": "text/x-python",
   "name": "python",
   "nbconvert_exporter": "python",
   "pygments_lexer": "ipython2",
   "version": "2.7.6"
  }
 },
 "nbformat": 4,
 "nbformat_minor": 5
}
