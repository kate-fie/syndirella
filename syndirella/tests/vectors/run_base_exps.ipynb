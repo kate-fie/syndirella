{
 "cells": [
  {
   "cell_type": "code",
   "id": "initial_id",
   "metadata": {
    "collapsed": true,
    "ExecuteTime": {
     "end_time": "2024-04-17T15:50:39.092774Z",
     "start_time": "2024-04-17T15:50:39.084902Z"
    }
   },
   "source": [
    "import pandas as pd\n",
    "from rdkit import Chem\n",
    "from rdkit.Chem.Draw import IPythonConsole\n",
    "IPythonConsole.molSize = (500, 300)\n",
    "from kartograf import SmallMoleculeComponent\n",
    "from kartograf.atom_aligner import align_mol_shape, align_mol_skeletons\n",
    "from kartograf import KartografAtomMapper\n",
    "from kartograf.atom_mapping_scorer import MappingRMSDScorer, MappingShapeOverlapScorer\n",
    "from kartograf.utils.mapping_visualization_widget import display_mappings_3d"
   ],
   "outputs": [],
   "execution_count": 32
  },
  {
   "metadata": {
    "ExecuteTime": {
     "end_time": "2024-04-17T16:01:54.002483Z",
     "start_time": "2024-04-17T16:01:53.995064Z"
    }
   },
   "cell_type": "code",
   "source": [
    "# definitions\n",
    "def get_kartograph_mapping_skeletons(base_smiles, \n",
    "                                     reactant_smiles,\n",
    "                                     randomSeed):\n",
    "    base = Chem.AddHs(Chem.MolFromSmiles(base_smiles), addCoords=True)\n",
    "    Chem.rdDistGeom.EmbedMolecule(base, useRandomCoords=False, randomSeed=randomSeed)\n",
    "    base_smc = SmallMoleculeComponent.from_rdkit(base)\n",
    "    reactant = Chem.AddHs(Chem.MolFromSmiles(reactant_smiles), addCoords=True)\n",
    "    Chem.rdDistGeom.EmbedMolecule(reactant, useRandomCoords=False, randomSeed=randomSeed)\n",
    "    reactant_smc = SmallMoleculeComponent.from_rdkit(reactant)\n",
    "    # align molecules\n",
    "    reactant_alignBase = align_mol_skeletons(base_smc, ref_mol=reactant_smc)\n",
    "    # Get mapping\n",
    "    mapper = KartografAtomMapper(atom_map_hydrogens=True, atom_max_distance=1.4)\n",
    "    mapping = next(mapper.suggest_mappings(reactant_smc, reactant_alignBase))\n",
    "    return mapping\n",
    "\n",
    "def get_kartograph_mapping_shape(base_smiles, \n",
    "                                 reactant_smiles,\n",
    "                                 randomSeed):\n",
    "    base = Chem.AddHs(Chem.MolFromSmiles(base_smiles), addCoords=True)\n",
    "    Chem.rdDistGeom.EmbedMolecule(base, useRandomCoords=False, randomSeed=randomSeed)\n",
    "    base_smc = SmallMoleculeComponent.from_rdkit(base)\n",
    "    reactant = Chem.AddHs(Chem.MolFromSmiles(reactant_smiles), addCoords=True)\n",
    "    Chem.rdDistGeom.EmbedMolecule(reactant, useRandomCoords=False, randomSeed=randomSeed)\n",
    "    reactant_smc = SmallMoleculeComponent.from_rdkit(reactant)\n",
    "    # align molecules\n",
    "    reactant_alignBase = align_mol_shape(base_smc, ref_mol=reactant_smc)\n",
    "    # Get mapping\n",
    "    mapper = KartografAtomMapper(atom_map_hydrogens=True, atom_max_distance=1.4)\n",
    "    mapping = next(mapper.suggest_mappings(reactant_smc, reactant_alignBase))\n",
    "    return mapping"
   ],
   "id": "c84eac195eec8ecd",
   "outputs": [],
   "execution_count": 80
  },
  {
   "metadata": {
    "ExecuteTime": {
     "end_time": "2024-04-17T16:01:54.673339Z",
     "start_time": "2024-04-17T16:01:54.670556Z"
    }
   },
   "cell_type": "code",
   "source": [
    "# df = pd.read_pickle('/Users/kate_fieseler/PycharmProjects/syndirella/syndirella/tests/vectors/5_bases_w_routes.pkl.gz')\n",
    "# # only look at first and third\n",
    "# df = df.iloc[[0, 2]]\n",
    "# df.reset_index(drop=True, inplace=True)\n",
    "# df['1_r1_correct_mapping'] = None\n",
    "# df"
   ],
   "id": "b578cba4e6e83cd7",
   "outputs": [],
   "execution_count": 81
  },
  {
   "metadata": {},
   "cell_type": "code",
   "outputs": [],
   "execution_count": null,
   "source": "# for all mapping its the reactant_idx : base_idx",
   "id": "717abcd3212f3461"
  },
  {
   "metadata": {
    "ExecuteTime": {
     "end_time": "2024-04-17T16:20:00.453473Z",
     "start_time": "2024-04-17T16:20:00.436808Z"
    }
   },
   "cell_type": "code",
   "source": [
    "df = pd.read_pickle('/Users/kate_fieseler/PycharmProjects/syndirella/syndirella/tests/vectors/2_test_set.pkl.gz')\n",
    "df"
   ],
   "id": "2c466f10b0cfa0e6",
   "outputs": [
    {
     "data": {
      "text/plain": [
       "                base_compound_smiles 1_reaction    1_r1_smiles  \\\n",
       "0  N#CCC(=O)Nc1cccc(NC(=O)C2CCCO2)c1  Amidation  O=C(O)C1CCCO1   \n",
       "1  Cn1ncc(NC(=O)CC#N)c1NC(=O)C1CCCO1  Amidation  O=C(O)C1CCCO1   \n",
       "\n",
       "                  1_r2_smiles 1_r_previous_product  \\\n",
       "0  CC(C)(C)OC(=O)Nc1cccc(N)c1                 None   \n",
       "1  Cn1ncc(NC(=O)OC(C)(C)C)c1N                 None   \n",
       "\n",
       "                         1_product_smiles  \\\n",
       "0  CC(C)(C)OC(=O)Nc1cccc(NC(=O)C2CCCO2)c1   \n",
       "1  Cn1ncc(NC(=O)OC(C)(C)C)c1NC(=O)C1CCCO1   \n",
       "\n",
       "                         1_product_name 1_num_atom_diff 1_flag  \\\n",
       "0  BHKVBKDDVLQZCR-UHFFFAOYSA-N-eb2Mvx-1            None   None   \n",
       "1  LXINEYASRREWNB-UHFFFAOYSA-N-SXgfnw-0            None   None   \n",
       "\n",
       "           2_reaction  ...  ∆G_unbound   comRMSD  \\\n",
       "0  N-Boc_deprotection  ...  406.191706  0.553939   \n",
       "1  N-Boc_deprotection  ...  521.280362  1.497116   \n",
       "\n",
       "                                            regarded  \\\n",
       "0  [A71EV2A-x0310_A_147_A71EV2A-x0501+A+152+1, A7...   \n",
       "1  [A71EV2A-x0310_A_147_A71EV2A-x0501+A+152+1, A7...   \n",
       "\n",
       "                                         path_to_mol intra_geometry_pass  \\\n",
       "0  /data/xchem-fragalysis/kfieseler/A71EV2A_run4/...                True   \n",
       "1  /data/xchem-fragalysis/kfieseler/A71EV2A_run4/...                True   \n",
       "\n",
       "                                1_r1_correct_mapping 1_r2_correct_mapping  \\\n",
       "0  {9: 27, 10: 28, 11: 29, 12: 30, 13: 31, 14: 32...                 None   \n",
       "1  {9: 28, 10: 30, 11: 29, 12: 32, 13: 31, 14: 34...                 None   \n",
       "\n",
       "                                2_r1_correct_mapping  \\\n",
       "0                                               None   \n",
       "1  {22: 22, 23: 20, 24: 21, 25: 23, 26: 24, 36: 2...   \n",
       "\n",
       "                                3_r1_correct_mapping  \\\n",
       "0  {6: 21, 7: 20, 0: 0, 1: 1, 2: 2, 3: 3, 4: 4, 5...   \n",
       "1      {6: 26, 7: 25, 0: 10, 1: 9, 2: 8, 3: 6, 4: 7}   \n",
       "\n",
       "                                3_r2_correct_mapping  \n",
       "0  {8: 26, 15: 3, 16: 22, 17: 23, 18: 24, 19: 25,...  \n",
       "1                                                NaN  \n",
       "\n",
       "[2 rows x 39 columns]"
      ],
      "text/html": [
       "<div>\n",
       "<style scoped>\n",
       "    .dataframe tbody tr th:only-of-type {\n",
       "        vertical-align: middle;\n",
       "    }\n",
       "\n",
       "    .dataframe tbody tr th {\n",
       "        vertical-align: top;\n",
       "    }\n",
       "\n",
       "    .dataframe thead th {\n",
       "        text-align: right;\n",
       "    }\n",
       "</style>\n",
       "<table border=\"1\" class=\"dataframe\">\n",
       "  <thead>\n",
       "    <tr style=\"text-align: right;\">\n",
       "      <th></th>\n",
       "      <th>base_compound_smiles</th>\n",
       "      <th>1_reaction</th>\n",
       "      <th>1_r1_smiles</th>\n",
       "      <th>1_r2_smiles</th>\n",
       "      <th>1_r_previous_product</th>\n",
       "      <th>1_product_smiles</th>\n",
       "      <th>1_product_name</th>\n",
       "      <th>1_num_atom_diff</th>\n",
       "      <th>1_flag</th>\n",
       "      <th>2_reaction</th>\n",
       "      <th>...</th>\n",
       "      <th>∆G_unbound</th>\n",
       "      <th>comRMSD</th>\n",
       "      <th>regarded</th>\n",
       "      <th>path_to_mol</th>\n",
       "      <th>intra_geometry_pass</th>\n",
       "      <th>1_r1_correct_mapping</th>\n",
       "      <th>1_r2_correct_mapping</th>\n",
       "      <th>2_r1_correct_mapping</th>\n",
       "      <th>3_r1_correct_mapping</th>\n",
       "      <th>3_r2_correct_mapping</th>\n",
       "    </tr>\n",
       "  </thead>\n",
       "  <tbody>\n",
       "    <tr>\n",
       "      <th>0</th>\n",
       "      <td>N#CCC(=O)Nc1cccc(NC(=O)C2CCCO2)c1</td>\n",
       "      <td>Amidation</td>\n",
       "      <td>O=C(O)C1CCCO1</td>\n",
       "      <td>CC(C)(C)OC(=O)Nc1cccc(N)c1</td>\n",
       "      <td>None</td>\n",
       "      <td>CC(C)(C)OC(=O)Nc1cccc(NC(=O)C2CCCO2)c1</td>\n",
       "      <td>BHKVBKDDVLQZCR-UHFFFAOYSA-N-eb2Mvx-1</td>\n",
       "      <td>None</td>\n",
       "      <td>None</td>\n",
       "      <td>N-Boc_deprotection</td>\n",
       "      <td>...</td>\n",
       "      <td>406.191706</td>\n",
       "      <td>0.553939</td>\n",
       "      <td>[A71EV2A-x0310_A_147_A71EV2A-x0501+A+152+1, A7...</td>\n",
       "      <td>/data/xchem-fragalysis/kfieseler/A71EV2A_run4/...</td>\n",
       "      <td>True</td>\n",
       "      <td>{9: 27, 10: 28, 11: 29, 12: 30, 13: 31, 14: 32...</td>\n",
       "      <td>None</td>\n",
       "      <td>None</td>\n",
       "      <td>{6: 21, 7: 20, 0: 0, 1: 1, 2: 2, 3: 3, 4: 4, 5...</td>\n",
       "      <td>{8: 26, 15: 3, 16: 22, 17: 23, 18: 24, 19: 25,...</td>\n",
       "    </tr>\n",
       "    <tr>\n",
       "      <th>1</th>\n",
       "      <td>Cn1ncc(NC(=O)CC#N)c1NC(=O)C1CCCO1</td>\n",
       "      <td>Amidation</td>\n",
       "      <td>O=C(O)C1CCCO1</td>\n",
       "      <td>Cn1ncc(NC(=O)OC(C)(C)C)c1N</td>\n",
       "      <td>None</td>\n",
       "      <td>Cn1ncc(NC(=O)OC(C)(C)C)c1NC(=O)C1CCCO1</td>\n",
       "      <td>LXINEYASRREWNB-UHFFFAOYSA-N-SXgfnw-0</td>\n",
       "      <td>None</td>\n",
       "      <td>None</td>\n",
       "      <td>N-Boc_deprotection</td>\n",
       "      <td>...</td>\n",
       "      <td>521.280362</td>\n",
       "      <td>1.497116</td>\n",
       "      <td>[A71EV2A-x0310_A_147_A71EV2A-x0501+A+152+1, A7...</td>\n",
       "      <td>/data/xchem-fragalysis/kfieseler/A71EV2A_run4/...</td>\n",
       "      <td>True</td>\n",
       "      <td>{9: 28, 10: 30, 11: 29, 12: 32, 13: 31, 14: 34...</td>\n",
       "      <td>None</td>\n",
       "      <td>{22: 22, 23: 20, 24: 21, 25: 23, 26: 24, 36: 2...</td>\n",
       "      <td>{6: 26, 7: 25, 0: 10, 1: 9, 2: 8, 3: 6, 4: 7}</td>\n",
       "      <td>NaN</td>\n",
       "    </tr>\n",
       "  </tbody>\n",
       "</table>\n",
       "<p>2 rows × 39 columns</p>\n",
       "</div>"
      ]
     },
     "execution_count": 133,
     "metadata": {},
     "output_type": "execute_result"
    }
   ],
   "execution_count": 133
  },
  {
   "metadata": {
    "ExecuteTime": {
     "end_time": "2024-04-17T16:20:06.535757Z",
     "start_time": "2024-04-17T16:20:06.533746Z"
    }
   },
   "cell_type": "code",
   "source": [
    "row_num = 1\n",
    "reactant = '3_r2_smiles'\n",
    "correct_mapping_col = '3_r2_correct_mapping'\n",
    "random_seed = 12"
   ],
   "id": "30a8a08c11a68098",
   "outputs": [],
   "execution_count": 134
  },
  {
   "metadata": {
    "ExecuteTime": {
     "end_time": "2024-04-17T16:20:07.568605Z",
     "start_time": "2024-04-17T16:20:07.435577Z"
    }
   },
   "cell_type": "code",
   "source": [
    "# Find correct mapping for each reactant to base based on kartograf example\n",
    "row = df.iloc[row_num]\n",
    "base_smiles = row['base_compound_smiles']\n",
    "reactant_smiles = row[reactant]\n",
    "mapping = get_kartograph_mapping_skeletons(base_smiles, reactant_smiles, random_seed)\n",
    "display_mappings_3d(mapping)"
   ],
   "id": "1f5e49995d465bc6",
   "outputs": [
    {
     "data": {
      "text/plain": [
       "VBox(children=(HBox(children=(Button(icon='caret-left', style=ButtonStyle(), tooltip='previous structure'), Bu…"
      ],
      "application/vnd.jupyter.widget-view+json": {
       "version_major": 2,
       "version_minor": 0,
       "model_id": "b891d6ccf12e44b696222ec7b14d29cc"
      }
     },
     "execution_count": 135,
     "metadata": {},
     "output_type": "execute_result"
    }
   ],
   "execution_count": 135
  },
  {
   "metadata": {
    "ExecuteTime": {
     "end_time": "2024-04-17T16:20:35.306885Z",
     "start_time": "2024-04-17T16:20:35.302644Z"
    }
   },
   "cell_type": "code",
   "source": [
    "print(mapping.componentA_to_componentB)\n",
    "correct_dict = {15: 20, 16: 22, 17: 21, 18: 23, 19: 6, 20: 24, 21: 27, 22: 28, 23: 32, 24: 29, 26: 31, 27: 34, 28: 33, 0: 0, 1: 1, 2: 2, 3: 3, 4: 4, 5: 5, 6: 11, 7: 12, 8: 13, 9: 14, 10: 15, 11: 16, 12: 17, 13: 18, 14: 19}"
   ],
   "id": "ba61f7124a3f9d99",
   "outputs": [
    {
     "name": "stdout",
     "output_type": "stream",
     "text": [
      "{15: 20, 16: 22, 17: 21, 18: 23, 19: 6, 20: 24, 21: 27, 22: 28, 23: 32, 24: 29, 26: 31, 27: 34, 28: 33, 0: 0, 1: 1, 2: 2, 3: 3, 4: 4, 5: 5, 6: 11, 7: 12, 8: 13, 9: 14, 10: 15, 11: 16, 12: 17, 13: 18, 14: 19}\n"
     ]
    }
   ],
   "execution_count": 137
  },
  {
   "metadata": {
    "ExecuteTime": {
     "end_time": "2024-04-17T16:20:36.218347Z",
     "start_time": "2024-04-17T16:20:36.207594Z"
    }
   },
   "cell_type": "code",
   "source": [
    "df.at[row_num, correct_mapping_col] = correct_dict\n",
    "df"
   ],
   "id": "eda69d7e48971d14",
   "outputs": [
    {
     "data": {
      "text/plain": [
       "                base_compound_smiles 1_reaction    1_r1_smiles  \\\n",
       "0  N#CCC(=O)Nc1cccc(NC(=O)C2CCCO2)c1  Amidation  O=C(O)C1CCCO1   \n",
       "1  Cn1ncc(NC(=O)CC#N)c1NC(=O)C1CCCO1  Amidation  O=C(O)C1CCCO1   \n",
       "\n",
       "                  1_r2_smiles 1_r_previous_product  \\\n",
       "0  CC(C)(C)OC(=O)Nc1cccc(N)c1                 None   \n",
       "1  Cn1ncc(NC(=O)OC(C)(C)C)c1N                 None   \n",
       "\n",
       "                         1_product_smiles  \\\n",
       "0  CC(C)(C)OC(=O)Nc1cccc(NC(=O)C2CCCO2)c1   \n",
       "1  Cn1ncc(NC(=O)OC(C)(C)C)c1NC(=O)C1CCCO1   \n",
       "\n",
       "                         1_product_name 1_num_atom_diff 1_flag  \\\n",
       "0  BHKVBKDDVLQZCR-UHFFFAOYSA-N-eb2Mvx-1            None   None   \n",
       "1  LXINEYASRREWNB-UHFFFAOYSA-N-SXgfnw-0            None   None   \n",
       "\n",
       "           2_reaction  ...  ∆G_unbound   comRMSD  \\\n",
       "0  N-Boc_deprotection  ...  406.191706  0.553939   \n",
       "1  N-Boc_deprotection  ...  521.280362  1.497116   \n",
       "\n",
       "                                            regarded  \\\n",
       "0  [A71EV2A-x0310_A_147_A71EV2A-x0501+A+152+1, A7...   \n",
       "1  [A71EV2A-x0310_A_147_A71EV2A-x0501+A+152+1, A7...   \n",
       "\n",
       "                                         path_to_mol intra_geometry_pass  \\\n",
       "0  /data/xchem-fragalysis/kfieseler/A71EV2A_run4/...                True   \n",
       "1  /data/xchem-fragalysis/kfieseler/A71EV2A_run4/...                True   \n",
       "\n",
       "                                1_r1_correct_mapping 1_r2_correct_mapping  \\\n",
       "0  {9: 27, 10: 28, 11: 29, 12: 30, 13: 31, 14: 32...                 None   \n",
       "1  {9: 28, 10: 30, 11: 29, 12: 32, 13: 31, 14: 34...                 None   \n",
       "\n",
       "                                2_r1_correct_mapping  \\\n",
       "0                                               None   \n",
       "1  {22: 22, 23: 20, 24: 21, 25: 23, 26: 24, 36: 2...   \n",
       "\n",
       "                                3_r1_correct_mapping  \\\n",
       "0  {6: 21, 7: 20, 0: 0, 1: 1, 2: 2, 3: 3, 4: 4, 5...   \n",
       "1      {6: 26, 7: 25, 0: 10, 1: 9, 2: 8, 3: 6, 4: 7}   \n",
       "\n",
       "                                3_r2_correct_mapping  \n",
       "0  {8: 26, 15: 3, 16: 22, 17: 23, 18: 24, 19: 25,...  \n",
       "1  {15: 20, 16: 22, 17: 21, 18: 23, 19: 6, 20: 24...  \n",
       "\n",
       "[2 rows x 39 columns]"
      ],
      "text/html": [
       "<div>\n",
       "<style scoped>\n",
       "    .dataframe tbody tr th:only-of-type {\n",
       "        vertical-align: middle;\n",
       "    }\n",
       "\n",
       "    .dataframe tbody tr th {\n",
       "        vertical-align: top;\n",
       "    }\n",
       "\n",
       "    .dataframe thead th {\n",
       "        text-align: right;\n",
       "    }\n",
       "</style>\n",
       "<table border=\"1\" class=\"dataframe\">\n",
       "  <thead>\n",
       "    <tr style=\"text-align: right;\">\n",
       "      <th></th>\n",
       "      <th>base_compound_smiles</th>\n",
       "      <th>1_reaction</th>\n",
       "      <th>1_r1_smiles</th>\n",
       "      <th>1_r2_smiles</th>\n",
       "      <th>1_r_previous_product</th>\n",
       "      <th>1_product_smiles</th>\n",
       "      <th>1_product_name</th>\n",
       "      <th>1_num_atom_diff</th>\n",
       "      <th>1_flag</th>\n",
       "      <th>2_reaction</th>\n",
       "      <th>...</th>\n",
       "      <th>∆G_unbound</th>\n",
       "      <th>comRMSD</th>\n",
       "      <th>regarded</th>\n",
       "      <th>path_to_mol</th>\n",
       "      <th>intra_geometry_pass</th>\n",
       "      <th>1_r1_correct_mapping</th>\n",
       "      <th>1_r2_correct_mapping</th>\n",
       "      <th>2_r1_correct_mapping</th>\n",
       "      <th>3_r1_correct_mapping</th>\n",
       "      <th>3_r2_correct_mapping</th>\n",
       "    </tr>\n",
       "  </thead>\n",
       "  <tbody>\n",
       "    <tr>\n",
       "      <th>0</th>\n",
       "      <td>N#CCC(=O)Nc1cccc(NC(=O)C2CCCO2)c1</td>\n",
       "      <td>Amidation</td>\n",
       "      <td>O=C(O)C1CCCO1</td>\n",
       "      <td>CC(C)(C)OC(=O)Nc1cccc(N)c1</td>\n",
       "      <td>None</td>\n",
       "      <td>CC(C)(C)OC(=O)Nc1cccc(NC(=O)C2CCCO2)c1</td>\n",
       "      <td>BHKVBKDDVLQZCR-UHFFFAOYSA-N-eb2Mvx-1</td>\n",
       "      <td>None</td>\n",
       "      <td>None</td>\n",
       "      <td>N-Boc_deprotection</td>\n",
       "      <td>...</td>\n",
       "      <td>406.191706</td>\n",
       "      <td>0.553939</td>\n",
       "      <td>[A71EV2A-x0310_A_147_A71EV2A-x0501+A+152+1, A7...</td>\n",
       "      <td>/data/xchem-fragalysis/kfieseler/A71EV2A_run4/...</td>\n",
       "      <td>True</td>\n",
       "      <td>{9: 27, 10: 28, 11: 29, 12: 30, 13: 31, 14: 32...</td>\n",
       "      <td>None</td>\n",
       "      <td>None</td>\n",
       "      <td>{6: 21, 7: 20, 0: 0, 1: 1, 2: 2, 3: 3, 4: 4, 5...</td>\n",
       "      <td>{8: 26, 15: 3, 16: 22, 17: 23, 18: 24, 19: 25,...</td>\n",
       "    </tr>\n",
       "    <tr>\n",
       "      <th>1</th>\n",
       "      <td>Cn1ncc(NC(=O)CC#N)c1NC(=O)C1CCCO1</td>\n",
       "      <td>Amidation</td>\n",
       "      <td>O=C(O)C1CCCO1</td>\n",
       "      <td>Cn1ncc(NC(=O)OC(C)(C)C)c1N</td>\n",
       "      <td>None</td>\n",
       "      <td>Cn1ncc(NC(=O)OC(C)(C)C)c1NC(=O)C1CCCO1</td>\n",
       "      <td>LXINEYASRREWNB-UHFFFAOYSA-N-SXgfnw-0</td>\n",
       "      <td>None</td>\n",
       "      <td>None</td>\n",
       "      <td>N-Boc_deprotection</td>\n",
       "      <td>...</td>\n",
       "      <td>521.280362</td>\n",
       "      <td>1.497116</td>\n",
       "      <td>[A71EV2A-x0310_A_147_A71EV2A-x0501+A+152+1, A7...</td>\n",
       "      <td>/data/xchem-fragalysis/kfieseler/A71EV2A_run4/...</td>\n",
       "      <td>True</td>\n",
       "      <td>{9: 28, 10: 30, 11: 29, 12: 32, 13: 31, 14: 34...</td>\n",
       "      <td>None</td>\n",
       "      <td>{22: 22, 23: 20, 24: 21, 25: 23, 26: 24, 36: 2...</td>\n",
       "      <td>{6: 26, 7: 25, 0: 10, 1: 9, 2: 8, 3: 6, 4: 7}</td>\n",
       "      <td>{15: 20, 16: 22, 17: 21, 18: 23, 19: 6, 20: 24...</td>\n",
       "    </tr>\n",
       "  </tbody>\n",
       "</table>\n",
       "<p>2 rows × 39 columns</p>\n",
       "</div>"
      ]
     },
     "execution_count": 138,
     "metadata": {},
     "output_type": "execute_result"
    }
   ],
   "execution_count": 138
  },
  {
   "metadata": {
    "ExecuteTime": {
     "end_time": "2024-04-17T16:21:11.967632Z",
     "start_time": "2024-04-17T16:21:11.963646Z"
    }
   },
   "cell_type": "code",
   "source": [
    "# save\n",
    "df.to_pickle('/Users/kate_fieseler/PycharmProjects/syndirella/syndirella/tests/vectors/2_test_set.pkl.gz')"
   ],
   "id": "f66ba5bdc4c9a4e0",
   "outputs": [],
   "execution_count": 140
  },
  {
   "metadata": {},
   "cell_type": "code",
   "outputs": [],
   "execution_count": null,
   "source": "",
   "id": "c69b1aea4aca866f"
  }
 ],
 "metadata": {
  "kernelspec": {
   "display_name": "Python 3",
   "language": "python",
   "name": "python3"
  },
  "language_info": {
   "codemirror_mode": {
    "name": "ipython",
    "version": 2
   },
   "file_extension": ".py",
   "mimetype": "text/x-python",
   "name": "python",
   "nbconvert_exporter": "python",
   "pygments_lexer": "ipython2",
   "version": "2.7.6"
  }
 },
 "nbformat": 4,
 "nbformat_minor": 5
}
