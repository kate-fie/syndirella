{
 "cells": [
  {
   "cell_type": "code",
   "execution_count": 7,
   "id": "initial_id",
   "metadata": {
    "collapsed": true,
    "ExecuteTime": {
     "end_time": "2024-02-22T17:08:26.550958Z",
     "start_time": "2024-02-22T17:08:26.547699Z"
    }
   },
   "outputs": [],
   "source": [
    "import pandas as pd\n",
    "import ast"
   ]
  },
  {
   "cell_type": "code",
   "outputs": [
    {
     "data": {
      "text/plain": "                                r1_smiles  \\\n0        Cc1cc(Br)nc(-c2cccc3cc[nH]c23)c1   \n1           Brc1cccc(-c2cccc3cc[nH]c23)n1   \n2            Ic1cccc(-c2cccc3cc[nH]c23)n1   \n3          Cc1ccc(Br)nc1-c1cccc2cc[nH]c12   \n4          Cc1ccc(-c2cccc3cc[nH]c23)nc1Br   \n...                                   ...   \n9995  Cc1c[nH]c2c(-c3cc(N)cc(Br)n3)cccc12   \n9996    Cc1c[nH]c2c(-c3nc(Br)ccc3O)cccc12   \n9997  Cc1c[nH]c2c(-c3ccc(O)c(Br)n3)cccc12   \n9998    Cc1c[nH]c2c(-c3nc(Br)ccc3N)cccc12   \n9999  Cc1c[nH]c2c(-c3ccc(N)c(Br)n3)cccc12   \n\n                                             r1_mol  \\\n0     <rdkit.Chem.rdchem.Mol object at 0x1520845e0>   \n1     <rdkit.Chem.rdchem.Mol object at 0x152084d10>   \n2     <rdkit.Chem.rdchem.Mol object at 0x1520840e0>   \n3     <rdkit.Chem.rdchem.Mol object at 0x152084720>   \n4     <rdkit.Chem.rdchem.Mol object at 0x1520846d0>   \n...                                             ...   \n9995  <rdkit.Chem.rdchem.Mol object at 0x152091770>   \n9996  <rdkit.Chem.rdchem.Mol object at 0x1520917c0>   \n9997  <rdkit.Chem.rdchem.Mol object at 0x1520918b0>   \n9998  <rdkit.Chem.rdchem.Mol object at 0x152091810>   \n9999  <rdkit.Chem.rdchem.Mol object at 0x152091860>   \n\n      r1_Sp3-sp2_Suzuki_coupling_num_matches r1_lead_time  r1_num_atom_diff  \\\n0                                          1         None                 0   \n1                                          1         None                 0   \n2                                          1         None                 1   \n3                                          1         None                 1   \n4                                          1         None                 1   \n...                                      ...          ...               ...   \n9995                                       1         None                 2   \n9996                                       1         None                 2   \n9997                                       1         None                 2   \n9998                                       1         None                 2   \n9999                                       1         None                 2   \n\n                           r2_smiles  \\\n0                           CCCB(O)O   \n1                           CCCB(O)O   \n2                           CCCB(O)O   \n3                           CCCB(O)O   \n4                           CCCB(O)O   \n...                              ...   \n9995  C=C(B1OC(C)(C)C(C)(C)O1)C1COC1   \n9996  C=C(B1OC(C)(C)C(C)(C)O1)C1COC1   \n9997  C=C(B1OC(C)(C)C(C)(C)O1)C1COC1   \n9998  C=C(B1OC(C)(C)C(C)(C)O1)C1COC1   \n9999  C=C(B1OC(C)(C)C(C)(C)O1)C1COC1   \n\n                                             r2_mol  \\\n0     <rdkit.Chem.rdchem.Mol object at 0x152091900>   \n1     <rdkit.Chem.rdchem.Mol object at 0x152091900>   \n2     <rdkit.Chem.rdchem.Mol object at 0x152091900>   \n3     <rdkit.Chem.rdchem.Mol object at 0x152091900>   \n4     <rdkit.Chem.rdchem.Mol object at 0x152091900>   \n...                                             ...   \n9995  <rdkit.Chem.rdchem.Mol object at 0x1520a3630>   \n9996  <rdkit.Chem.rdchem.Mol object at 0x1520a3630>   \n9997  <rdkit.Chem.rdchem.Mol object at 0x1520a3630>   \n9998  <rdkit.Chem.rdchem.Mol object at 0x1520a3630>   \n9999  <rdkit.Chem.rdchem.Mol object at 0x1520a3630>   \n\n      r2_Sp3-sp2_Suzuki_coupling_num_matches  r2_lead_time  r2_num_atom_diff  \\\n0                                          1           1.0                 0   \n1                                          1           1.0                 0   \n2                                          1           1.0                 0   \n3                                          1           1.0                 0   \n4                                          1           1.0                 0   \n...                                      ...           ...               ...   \n9995                                       1           1.0                 9   \n9996                                       1           1.0                 9   \n9997                                       1           1.0                 9   \n9998                                       1           1.0                 9   \n9999                                       1           1.0                 9   \n\n                          flag  \\\n0     one_of_multiple_products   \n1     one_of_multiple_products   \n2     one_of_multiple_products   \n3     one_of_multiple_products   \n4     one_of_multiple_products   \n...                        ...   \n9995  one_of_multiple_products   \n9996  one_of_multiple_products   \n9997  one_of_multiple_products   \n9998  one_of_multiple_products   \n9999  one_of_multiple_products   \n\n                                               combined  \n0     [(CCCc1cc(C)cc(-c2cccc3cc[nH]c23)n1, 1), (CCCc...  \n1     [(CCCc1cccc(-c2cccc3cc[nH]c23)n1, 0), (CCCc1cc...  \n2     [(CCCc1cccc(-c2cccc3cc[nH]c23)n1, 0), (CCCc1cc...  \n3     [(CCCc1ccc(C)c(-c2cccc3cc[nH]c23)n1, 1), (CCCc...  \n4     [(CCCc1nc(-c2cccc3cc[nH]c23)ccc1C, 1), (CCCc1n...  \n...                                                 ...  \n9995  [(C=C(c1cc(N)cc(-c2cccc3c(C)c[nH]c23)n1)C1COC1...  \n9996  [(C=C(c1ccc(O)c(-c2cccc3c(C)c[nH]c23)n1)C1COC1...  \n9997  [(C=C(c1nc(-c2cccc3c(C)c[nH]c23)ccc1O)C1COC1, ...  \n9998  [(C=C(c1ccc(N)c(-c2cccc3c(C)c[nH]c23)n1)C1COC1...  \n9999  [(C=C(c1nc(-c2cccc3c(C)c[nH]c23)ccc1N)C1COC1, ...  \n\n[10000 rows x 12 columns]",
      "text/html": "<div>\n<style scoped>\n    .dataframe tbody tr th:only-of-type {\n        vertical-align: middle;\n    }\n\n    .dataframe tbody tr th {\n        vertical-align: top;\n    }\n\n    .dataframe thead th {\n        text-align: right;\n    }\n</style>\n<table border=\"1\" class=\"dataframe\">\n  <thead>\n    <tr style=\"text-align: right;\">\n      <th></th>\n      <th>r1_smiles</th>\n      <th>r1_mol</th>\n      <th>r1_Sp3-sp2_Suzuki_coupling_num_matches</th>\n      <th>r1_lead_time</th>\n      <th>r1_num_atom_diff</th>\n      <th>r2_smiles</th>\n      <th>r2_mol</th>\n      <th>r2_Sp3-sp2_Suzuki_coupling_num_matches</th>\n      <th>r2_lead_time</th>\n      <th>r2_num_atom_diff</th>\n      <th>flag</th>\n      <th>combined</th>\n    </tr>\n  </thead>\n  <tbody>\n    <tr>\n      <th>0</th>\n      <td>Cc1cc(Br)nc(-c2cccc3cc[nH]c23)c1</td>\n      <td>&lt;rdkit.Chem.rdchem.Mol object at 0x1520845e0&gt;</td>\n      <td>1</td>\n      <td>None</td>\n      <td>0</td>\n      <td>CCCB(O)O</td>\n      <td>&lt;rdkit.Chem.rdchem.Mol object at 0x152091900&gt;</td>\n      <td>1</td>\n      <td>1.0</td>\n      <td>0</td>\n      <td>one_of_multiple_products</td>\n      <td>[(CCCc1cc(C)cc(-c2cccc3cc[nH]c23)n1, 1), (CCCc...</td>\n    </tr>\n    <tr>\n      <th>1</th>\n      <td>Brc1cccc(-c2cccc3cc[nH]c23)n1</td>\n      <td>&lt;rdkit.Chem.rdchem.Mol object at 0x152084d10&gt;</td>\n      <td>1</td>\n      <td>None</td>\n      <td>0</td>\n      <td>CCCB(O)O</td>\n      <td>&lt;rdkit.Chem.rdchem.Mol object at 0x152091900&gt;</td>\n      <td>1</td>\n      <td>1.0</td>\n      <td>0</td>\n      <td>one_of_multiple_products</td>\n      <td>[(CCCc1cccc(-c2cccc3cc[nH]c23)n1, 0), (CCCc1cc...</td>\n    </tr>\n    <tr>\n      <th>2</th>\n      <td>Ic1cccc(-c2cccc3cc[nH]c23)n1</td>\n      <td>&lt;rdkit.Chem.rdchem.Mol object at 0x1520840e0&gt;</td>\n      <td>1</td>\n      <td>None</td>\n      <td>1</td>\n      <td>CCCB(O)O</td>\n      <td>&lt;rdkit.Chem.rdchem.Mol object at 0x152091900&gt;</td>\n      <td>1</td>\n      <td>1.0</td>\n      <td>0</td>\n      <td>one_of_multiple_products</td>\n      <td>[(CCCc1cccc(-c2cccc3cc[nH]c23)n1, 0), (CCCc1cc...</td>\n    </tr>\n    <tr>\n      <th>3</th>\n      <td>Cc1ccc(Br)nc1-c1cccc2cc[nH]c12</td>\n      <td>&lt;rdkit.Chem.rdchem.Mol object at 0x152084720&gt;</td>\n      <td>1</td>\n      <td>None</td>\n      <td>1</td>\n      <td>CCCB(O)O</td>\n      <td>&lt;rdkit.Chem.rdchem.Mol object at 0x152091900&gt;</td>\n      <td>1</td>\n      <td>1.0</td>\n      <td>0</td>\n      <td>one_of_multiple_products</td>\n      <td>[(CCCc1ccc(C)c(-c2cccc3cc[nH]c23)n1, 1), (CCCc...</td>\n    </tr>\n    <tr>\n      <th>4</th>\n      <td>Cc1ccc(-c2cccc3cc[nH]c23)nc1Br</td>\n      <td>&lt;rdkit.Chem.rdchem.Mol object at 0x1520846d0&gt;</td>\n      <td>1</td>\n      <td>None</td>\n      <td>1</td>\n      <td>CCCB(O)O</td>\n      <td>&lt;rdkit.Chem.rdchem.Mol object at 0x152091900&gt;</td>\n      <td>1</td>\n      <td>1.0</td>\n      <td>0</td>\n      <td>one_of_multiple_products</td>\n      <td>[(CCCc1nc(-c2cccc3cc[nH]c23)ccc1C, 1), (CCCc1n...</td>\n    </tr>\n    <tr>\n      <th>...</th>\n      <td>...</td>\n      <td>...</td>\n      <td>...</td>\n      <td>...</td>\n      <td>...</td>\n      <td>...</td>\n      <td>...</td>\n      <td>...</td>\n      <td>...</td>\n      <td>...</td>\n      <td>...</td>\n      <td>...</td>\n    </tr>\n    <tr>\n      <th>9995</th>\n      <td>Cc1c[nH]c2c(-c3cc(N)cc(Br)n3)cccc12</td>\n      <td>&lt;rdkit.Chem.rdchem.Mol object at 0x152091770&gt;</td>\n      <td>1</td>\n      <td>None</td>\n      <td>2</td>\n      <td>C=C(B1OC(C)(C)C(C)(C)O1)C1COC1</td>\n      <td>&lt;rdkit.Chem.rdchem.Mol object at 0x1520a3630&gt;</td>\n      <td>1</td>\n      <td>1.0</td>\n      <td>9</td>\n      <td>one_of_multiple_products</td>\n      <td>[(C=C(c1cc(N)cc(-c2cccc3c(C)c[nH]c23)n1)C1COC1...</td>\n    </tr>\n    <tr>\n      <th>9996</th>\n      <td>Cc1c[nH]c2c(-c3nc(Br)ccc3O)cccc12</td>\n      <td>&lt;rdkit.Chem.rdchem.Mol object at 0x1520917c0&gt;</td>\n      <td>1</td>\n      <td>None</td>\n      <td>2</td>\n      <td>C=C(B1OC(C)(C)C(C)(C)O1)C1COC1</td>\n      <td>&lt;rdkit.Chem.rdchem.Mol object at 0x1520a3630&gt;</td>\n      <td>1</td>\n      <td>1.0</td>\n      <td>9</td>\n      <td>one_of_multiple_products</td>\n      <td>[(C=C(c1ccc(O)c(-c2cccc3c(C)c[nH]c23)n1)C1COC1...</td>\n    </tr>\n    <tr>\n      <th>9997</th>\n      <td>Cc1c[nH]c2c(-c3ccc(O)c(Br)n3)cccc12</td>\n      <td>&lt;rdkit.Chem.rdchem.Mol object at 0x1520918b0&gt;</td>\n      <td>1</td>\n      <td>None</td>\n      <td>2</td>\n      <td>C=C(B1OC(C)(C)C(C)(C)O1)C1COC1</td>\n      <td>&lt;rdkit.Chem.rdchem.Mol object at 0x1520a3630&gt;</td>\n      <td>1</td>\n      <td>1.0</td>\n      <td>9</td>\n      <td>one_of_multiple_products</td>\n      <td>[(C=C(c1nc(-c2cccc3c(C)c[nH]c23)ccc1O)C1COC1, ...</td>\n    </tr>\n    <tr>\n      <th>9998</th>\n      <td>Cc1c[nH]c2c(-c3nc(Br)ccc3N)cccc12</td>\n      <td>&lt;rdkit.Chem.rdchem.Mol object at 0x152091810&gt;</td>\n      <td>1</td>\n      <td>None</td>\n      <td>2</td>\n      <td>C=C(B1OC(C)(C)C(C)(C)O1)C1COC1</td>\n      <td>&lt;rdkit.Chem.rdchem.Mol object at 0x1520a3630&gt;</td>\n      <td>1</td>\n      <td>1.0</td>\n      <td>9</td>\n      <td>one_of_multiple_products</td>\n      <td>[(C=C(c1ccc(N)c(-c2cccc3c(C)c[nH]c23)n1)C1COC1...</td>\n    </tr>\n    <tr>\n      <th>9999</th>\n      <td>Cc1c[nH]c2c(-c3ccc(N)c(Br)n3)cccc12</td>\n      <td>&lt;rdkit.Chem.rdchem.Mol object at 0x152091860&gt;</td>\n      <td>1</td>\n      <td>None</td>\n      <td>2</td>\n      <td>C=C(B1OC(C)(C)C(C)(C)O1)C1COC1</td>\n      <td>&lt;rdkit.Chem.rdchem.Mol object at 0x1520a3630&gt;</td>\n      <td>1</td>\n      <td>1.0</td>\n      <td>9</td>\n      <td>one_of_multiple_products</td>\n      <td>[(C=C(c1nc(-c2cccc3c(C)c[nH]c23)ccc1N)C1COC1, ...</td>\n    </tr>\n  </tbody>\n</table>\n<p>10000 rows × 12 columns</p>\n</div>"
     },
     "execution_count": 17,
     "metadata": {},
     "output_type": "execute_result"
    }
   ],
   "source": [
    "df = pd.read_pickle('/Users/kate_fieseler/PycharmProjects/syndirella/syndirella/tests/pipeline_input2/JFMKOYDGTWISRQ-UHFFFAOYSA-N/extra/products_info.pkl')\n",
    "df"
   ],
   "metadata": {
    "collapsed": false,
    "ExecuteTime": {
     "end_time": "2024-02-22T17:17:57.067292Z",
     "start_time": "2024-02-22T17:17:57.037184Z"
    }
   },
   "id": "ef96baae2d58937c",
   "execution_count": 17
  },
  {
   "cell_type": "code",
   "outputs": [
    {
     "data": {
      "text/plain": "[('CCCc1cc(C)cc(-c2cccc3cc[nH]c23)n1', 1),\n ('CCCc1cc(C)cc(-c2cccc3cc[nH]c23)n1', 1)]"
     },
     "execution_count": 18,
     "metadata": {},
     "output_type": "execute_result"
    }
   ],
   "source": [
    "df['combined'][0]"
   ],
   "metadata": {
    "collapsed": false,
    "ExecuteTime": {
     "end_time": "2024-02-22T17:17:59.676593Z",
     "start_time": "2024-02-22T17:17:59.674393Z"
    }
   },
   "id": "fb731c20a311f549",
   "execution_count": 18
  },
  {
   "cell_type": "code",
   "outputs": [],
   "source": [
    "# add new row example with single length combined list\n",
    "new_row = pd.DataFrame([{'combined': [('C1=CC=CC=C1', 0)]}])\n",
    "df = pd.concat([df, new_row], ignore_index=True)"
   ],
   "metadata": {
    "collapsed": false,
    "ExecuteTime": {
     "end_time": "2024-02-22T17:18:56.845885Z",
     "start_time": "2024-02-22T17:18:56.835013Z"
    }
   },
   "id": "990641610b0bd0e8",
   "execution_count": 20
  },
  {
   "cell_type": "code",
   "outputs": [],
   "source": [
    "df = df.explode('combined').reset_index(drop=True)"
   ],
   "metadata": {
    "collapsed": false,
    "ExecuteTime": {
     "end_time": "2024-02-22T17:40:53.103603Z",
     "start_time": "2024-02-22T17:40:53.091230Z"
    }
   },
   "id": "4edfb316b90e7a14",
   "execution_count": 25
  },
  {
   "cell_type": "code",
   "outputs": [],
   "source": [
    "try:\n",
    "    # Attempt to split the 'combined' column\n",
    "    new_columns = pd.DataFrame(df['combined'].tolist(), columns=['smiles', 'num_atom_diff'], index=df.index)\n",
    "    df[['smiles', 'num_atom_diff']] = new_columns\n",
    "except ValueError as e:\n",
    "    print(f\"Error: {e}\")"
   ],
   "metadata": {
    "collapsed": false,
    "ExecuteTime": {
     "end_time": "2024-02-22T17:40:54.820960Z",
     "start_time": "2024-02-22T17:40:54.816352Z"
    }
   },
   "id": "d0cd697cb7a6743b",
   "execution_count": 26
  },
  {
   "cell_type": "code",
   "outputs": [
    {
     "data": {
      "text/plain": "                                 r1_smiles  \\\n0         Cc1cc(Br)nc(-c2cccc3cc[nH]c23)c1   \n1         Cc1cc(Br)nc(-c2cccc3cc[nH]c23)c1   \n2            Brc1cccc(-c2cccc3cc[nH]c23)n1   \n3            Brc1cccc(-c2cccc3cc[nH]c23)n1   \n4             Ic1cccc(-c2cccc3cc[nH]c23)n1   \n...                                    ...   \n22396    Cc1c[nH]c2c(-c3nc(Br)ccc3N)cccc12   \n22397    Cc1c[nH]c2c(-c3nc(Br)ccc3N)cccc12   \n22398  Cc1c[nH]c2c(-c3ccc(N)c(Br)n3)cccc12   \n22399  Cc1c[nH]c2c(-c3ccc(N)c(Br)n3)cccc12   \n22400                                  NaN   \n\n                                              r1_mol  \\\n0      <rdkit.Chem.rdchem.Mol object at 0x1520845e0>   \n1      <rdkit.Chem.rdchem.Mol object at 0x1520845e0>   \n2      <rdkit.Chem.rdchem.Mol object at 0x152084d10>   \n3      <rdkit.Chem.rdchem.Mol object at 0x152084d10>   \n4      <rdkit.Chem.rdchem.Mol object at 0x1520840e0>   \n...                                              ...   \n22396  <rdkit.Chem.rdchem.Mol object at 0x152091810>   \n22397  <rdkit.Chem.rdchem.Mol object at 0x152091810>   \n22398  <rdkit.Chem.rdchem.Mol object at 0x152091860>   \n22399  <rdkit.Chem.rdchem.Mol object at 0x152091860>   \n22400                                            NaN   \n\n       r1_Sp3-sp2_Suzuki_coupling_num_matches r1_lead_time  r1_num_atom_diff  \\\n0                                         1.0         None               0.0   \n1                                         1.0         None               0.0   \n2                                         1.0         None               0.0   \n3                                         1.0         None               0.0   \n4                                         1.0         None               1.0   \n...                                       ...          ...               ...   \n22396                                     1.0         None               2.0   \n22397                                     1.0         None               2.0   \n22398                                     1.0         None               2.0   \n22399                                     1.0         None               2.0   \n22400                                     NaN         None               NaN   \n\n                            r2_smiles  \\\n0                            CCCB(O)O   \n1                            CCCB(O)O   \n2                            CCCB(O)O   \n3                            CCCB(O)O   \n4                            CCCB(O)O   \n...                               ...   \n22396  C=C(B1OC(C)(C)C(C)(C)O1)C1COC1   \n22397  C=C(B1OC(C)(C)C(C)(C)O1)C1COC1   \n22398  C=C(B1OC(C)(C)C(C)(C)O1)C1COC1   \n22399  C=C(B1OC(C)(C)C(C)(C)O1)C1COC1   \n22400                             NaN   \n\n                                              r2_mol  \\\n0      <rdkit.Chem.rdchem.Mol object at 0x152091900>   \n1      <rdkit.Chem.rdchem.Mol object at 0x152091900>   \n2      <rdkit.Chem.rdchem.Mol object at 0x152091900>   \n3      <rdkit.Chem.rdchem.Mol object at 0x152091900>   \n4      <rdkit.Chem.rdchem.Mol object at 0x152091900>   \n...                                              ...   \n22396  <rdkit.Chem.rdchem.Mol object at 0x1520a3630>   \n22397  <rdkit.Chem.rdchem.Mol object at 0x1520a3630>   \n22398  <rdkit.Chem.rdchem.Mol object at 0x1520a3630>   \n22399  <rdkit.Chem.rdchem.Mol object at 0x1520a3630>   \n22400                                            NaN   \n\n       r2_Sp3-sp2_Suzuki_coupling_num_matches  r2_lead_time  r2_num_atom_diff  \\\n0                                         1.0           1.0               0.0   \n1                                         1.0           1.0               0.0   \n2                                         1.0           1.0               0.0   \n3                                         1.0           1.0               0.0   \n4                                         1.0           1.0               0.0   \n...                                       ...           ...               ...   \n22396                                     1.0           1.0               9.0   \n22397                                     1.0           1.0               9.0   \n22398                                     1.0           1.0               9.0   \n22399                                     1.0           1.0               9.0   \n22400                                     NaN           NaN               NaN   \n\n                           flag  \\\n0      one_of_multiple_products   \n1      one_of_multiple_products   \n2      one_of_multiple_products   \n3      one_of_multiple_products   \n4      one_of_multiple_products   \n...                         ...   \n22396  one_of_multiple_products   \n22397  one_of_multiple_products   \n22398  one_of_multiple_products   \n22399  one_of_multiple_products   \n22400                       NaN   \n\n                                                combined  \\\n0                 (CCCc1cc(C)cc(-c2cccc3cc[nH]c23)n1, 1)   \n1                 (CCCc1cc(C)cc(-c2cccc3cc[nH]c23)n1, 1)   \n2                    (CCCc1cccc(-c2cccc3cc[nH]c23)n1, 0)   \n3                    (CCCc1cccc(-c2cccc3cc[nH]c23)n1, 0)   \n4                    (CCCc1cccc(-c2cccc3cc[nH]c23)n1, 0)   \n...                                                  ...   \n22396  (C=C(c1ccc(N)c(-c2cccc3c(C)c[nH]c23)n1)C1COC1, 5)   \n22397  (C=C(c1ccc(N)c(-c2cccc3c(C)c[nH]c23)n1)C1COC1, 5)   \n22398    (C=C(c1nc(-c2cccc3c(C)c[nH]c23)ccc1N)C1COC1, 5)   \n22399    (C=C(c1nc(-c2cccc3c(C)c[nH]c23)ccc1N)C1COC1, 5)   \n22400                                   (C1=CC=CC=C1, 0)   \n\n                                             smiles  num_atom_diff  \n0                 CCCc1cc(C)cc(-c2cccc3cc[nH]c23)n1              1  \n1                 CCCc1cc(C)cc(-c2cccc3cc[nH]c23)n1              1  \n2                    CCCc1cccc(-c2cccc3cc[nH]c23)n1              0  \n3                    CCCc1cccc(-c2cccc3cc[nH]c23)n1              0  \n4                    CCCc1cccc(-c2cccc3cc[nH]c23)n1              0  \n...                                             ...            ...  \n22396  C=C(c1ccc(N)c(-c2cccc3c(C)c[nH]c23)n1)C1COC1              5  \n22397  C=C(c1ccc(N)c(-c2cccc3c(C)c[nH]c23)n1)C1COC1              5  \n22398    C=C(c1nc(-c2cccc3c(C)c[nH]c23)ccc1N)C1COC1              5  \n22399    C=C(c1nc(-c2cccc3c(C)c[nH]c23)ccc1N)C1COC1              5  \n22400                                   C1=CC=CC=C1              0  \n\n[22401 rows x 14 columns]",
      "text/html": "<div>\n<style scoped>\n    .dataframe tbody tr th:only-of-type {\n        vertical-align: middle;\n    }\n\n    .dataframe tbody tr th {\n        vertical-align: top;\n    }\n\n    .dataframe thead th {\n        text-align: right;\n    }\n</style>\n<table border=\"1\" class=\"dataframe\">\n  <thead>\n    <tr style=\"text-align: right;\">\n      <th></th>\n      <th>r1_smiles</th>\n      <th>r1_mol</th>\n      <th>r1_Sp3-sp2_Suzuki_coupling_num_matches</th>\n      <th>r1_lead_time</th>\n      <th>r1_num_atom_diff</th>\n      <th>r2_smiles</th>\n      <th>r2_mol</th>\n      <th>r2_Sp3-sp2_Suzuki_coupling_num_matches</th>\n      <th>r2_lead_time</th>\n      <th>r2_num_atom_diff</th>\n      <th>flag</th>\n      <th>combined</th>\n      <th>smiles</th>\n      <th>num_atom_diff</th>\n    </tr>\n  </thead>\n  <tbody>\n    <tr>\n      <th>0</th>\n      <td>Cc1cc(Br)nc(-c2cccc3cc[nH]c23)c1</td>\n      <td>&lt;rdkit.Chem.rdchem.Mol object at 0x1520845e0&gt;</td>\n      <td>1.0</td>\n      <td>None</td>\n      <td>0.0</td>\n      <td>CCCB(O)O</td>\n      <td>&lt;rdkit.Chem.rdchem.Mol object at 0x152091900&gt;</td>\n      <td>1.0</td>\n      <td>1.0</td>\n      <td>0.0</td>\n      <td>one_of_multiple_products</td>\n      <td>(CCCc1cc(C)cc(-c2cccc3cc[nH]c23)n1, 1)</td>\n      <td>CCCc1cc(C)cc(-c2cccc3cc[nH]c23)n1</td>\n      <td>1</td>\n    </tr>\n    <tr>\n      <th>1</th>\n      <td>Cc1cc(Br)nc(-c2cccc3cc[nH]c23)c1</td>\n      <td>&lt;rdkit.Chem.rdchem.Mol object at 0x1520845e0&gt;</td>\n      <td>1.0</td>\n      <td>None</td>\n      <td>0.0</td>\n      <td>CCCB(O)O</td>\n      <td>&lt;rdkit.Chem.rdchem.Mol object at 0x152091900&gt;</td>\n      <td>1.0</td>\n      <td>1.0</td>\n      <td>0.0</td>\n      <td>one_of_multiple_products</td>\n      <td>(CCCc1cc(C)cc(-c2cccc3cc[nH]c23)n1, 1)</td>\n      <td>CCCc1cc(C)cc(-c2cccc3cc[nH]c23)n1</td>\n      <td>1</td>\n    </tr>\n    <tr>\n      <th>2</th>\n      <td>Brc1cccc(-c2cccc3cc[nH]c23)n1</td>\n      <td>&lt;rdkit.Chem.rdchem.Mol object at 0x152084d10&gt;</td>\n      <td>1.0</td>\n      <td>None</td>\n      <td>0.0</td>\n      <td>CCCB(O)O</td>\n      <td>&lt;rdkit.Chem.rdchem.Mol object at 0x152091900&gt;</td>\n      <td>1.0</td>\n      <td>1.0</td>\n      <td>0.0</td>\n      <td>one_of_multiple_products</td>\n      <td>(CCCc1cccc(-c2cccc3cc[nH]c23)n1, 0)</td>\n      <td>CCCc1cccc(-c2cccc3cc[nH]c23)n1</td>\n      <td>0</td>\n    </tr>\n    <tr>\n      <th>3</th>\n      <td>Brc1cccc(-c2cccc3cc[nH]c23)n1</td>\n      <td>&lt;rdkit.Chem.rdchem.Mol object at 0x152084d10&gt;</td>\n      <td>1.0</td>\n      <td>None</td>\n      <td>0.0</td>\n      <td>CCCB(O)O</td>\n      <td>&lt;rdkit.Chem.rdchem.Mol object at 0x152091900&gt;</td>\n      <td>1.0</td>\n      <td>1.0</td>\n      <td>0.0</td>\n      <td>one_of_multiple_products</td>\n      <td>(CCCc1cccc(-c2cccc3cc[nH]c23)n1, 0)</td>\n      <td>CCCc1cccc(-c2cccc3cc[nH]c23)n1</td>\n      <td>0</td>\n    </tr>\n    <tr>\n      <th>4</th>\n      <td>Ic1cccc(-c2cccc3cc[nH]c23)n1</td>\n      <td>&lt;rdkit.Chem.rdchem.Mol object at 0x1520840e0&gt;</td>\n      <td>1.0</td>\n      <td>None</td>\n      <td>1.0</td>\n      <td>CCCB(O)O</td>\n      <td>&lt;rdkit.Chem.rdchem.Mol object at 0x152091900&gt;</td>\n      <td>1.0</td>\n      <td>1.0</td>\n      <td>0.0</td>\n      <td>one_of_multiple_products</td>\n      <td>(CCCc1cccc(-c2cccc3cc[nH]c23)n1, 0)</td>\n      <td>CCCc1cccc(-c2cccc3cc[nH]c23)n1</td>\n      <td>0</td>\n    </tr>\n    <tr>\n      <th>...</th>\n      <td>...</td>\n      <td>...</td>\n      <td>...</td>\n      <td>...</td>\n      <td>...</td>\n      <td>...</td>\n      <td>...</td>\n      <td>...</td>\n      <td>...</td>\n      <td>...</td>\n      <td>...</td>\n      <td>...</td>\n      <td>...</td>\n      <td>...</td>\n    </tr>\n    <tr>\n      <th>22396</th>\n      <td>Cc1c[nH]c2c(-c3nc(Br)ccc3N)cccc12</td>\n      <td>&lt;rdkit.Chem.rdchem.Mol object at 0x152091810&gt;</td>\n      <td>1.0</td>\n      <td>None</td>\n      <td>2.0</td>\n      <td>C=C(B1OC(C)(C)C(C)(C)O1)C1COC1</td>\n      <td>&lt;rdkit.Chem.rdchem.Mol object at 0x1520a3630&gt;</td>\n      <td>1.0</td>\n      <td>1.0</td>\n      <td>9.0</td>\n      <td>one_of_multiple_products</td>\n      <td>(C=C(c1ccc(N)c(-c2cccc3c(C)c[nH]c23)n1)C1COC1, 5)</td>\n      <td>C=C(c1ccc(N)c(-c2cccc3c(C)c[nH]c23)n1)C1COC1</td>\n      <td>5</td>\n    </tr>\n    <tr>\n      <th>22397</th>\n      <td>Cc1c[nH]c2c(-c3nc(Br)ccc3N)cccc12</td>\n      <td>&lt;rdkit.Chem.rdchem.Mol object at 0x152091810&gt;</td>\n      <td>1.0</td>\n      <td>None</td>\n      <td>2.0</td>\n      <td>C=C(B1OC(C)(C)C(C)(C)O1)C1COC1</td>\n      <td>&lt;rdkit.Chem.rdchem.Mol object at 0x1520a3630&gt;</td>\n      <td>1.0</td>\n      <td>1.0</td>\n      <td>9.0</td>\n      <td>one_of_multiple_products</td>\n      <td>(C=C(c1ccc(N)c(-c2cccc3c(C)c[nH]c23)n1)C1COC1, 5)</td>\n      <td>C=C(c1ccc(N)c(-c2cccc3c(C)c[nH]c23)n1)C1COC1</td>\n      <td>5</td>\n    </tr>\n    <tr>\n      <th>22398</th>\n      <td>Cc1c[nH]c2c(-c3ccc(N)c(Br)n3)cccc12</td>\n      <td>&lt;rdkit.Chem.rdchem.Mol object at 0x152091860&gt;</td>\n      <td>1.0</td>\n      <td>None</td>\n      <td>2.0</td>\n      <td>C=C(B1OC(C)(C)C(C)(C)O1)C1COC1</td>\n      <td>&lt;rdkit.Chem.rdchem.Mol object at 0x1520a3630&gt;</td>\n      <td>1.0</td>\n      <td>1.0</td>\n      <td>9.0</td>\n      <td>one_of_multiple_products</td>\n      <td>(C=C(c1nc(-c2cccc3c(C)c[nH]c23)ccc1N)C1COC1, 5)</td>\n      <td>C=C(c1nc(-c2cccc3c(C)c[nH]c23)ccc1N)C1COC1</td>\n      <td>5</td>\n    </tr>\n    <tr>\n      <th>22399</th>\n      <td>Cc1c[nH]c2c(-c3ccc(N)c(Br)n3)cccc12</td>\n      <td>&lt;rdkit.Chem.rdchem.Mol object at 0x152091860&gt;</td>\n      <td>1.0</td>\n      <td>None</td>\n      <td>2.0</td>\n      <td>C=C(B1OC(C)(C)C(C)(C)O1)C1COC1</td>\n      <td>&lt;rdkit.Chem.rdchem.Mol object at 0x1520a3630&gt;</td>\n      <td>1.0</td>\n      <td>1.0</td>\n      <td>9.0</td>\n      <td>one_of_multiple_products</td>\n      <td>(C=C(c1nc(-c2cccc3c(C)c[nH]c23)ccc1N)C1COC1, 5)</td>\n      <td>C=C(c1nc(-c2cccc3c(C)c[nH]c23)ccc1N)C1COC1</td>\n      <td>5</td>\n    </tr>\n    <tr>\n      <th>22400</th>\n      <td>NaN</td>\n      <td>NaN</td>\n      <td>NaN</td>\n      <td>None</td>\n      <td>NaN</td>\n      <td>NaN</td>\n      <td>NaN</td>\n      <td>NaN</td>\n      <td>NaN</td>\n      <td>NaN</td>\n      <td>NaN</td>\n      <td>(C1=CC=CC=C1, 0)</td>\n      <td>C1=CC=CC=C1</td>\n      <td>0</td>\n    </tr>\n  </tbody>\n</table>\n<p>22401 rows × 14 columns</p>\n</div>"
     },
     "execution_count": 27,
     "metadata": {},
     "output_type": "execute_result"
    }
   ],
   "source": [
    "df"
   ],
   "metadata": {
    "collapsed": false,
    "ExecuteTime": {
     "end_time": "2024-02-22T17:41:10.671699Z",
     "start_time": "2024-02-22T17:41:10.668370Z"
    }
   },
   "id": "a6fca81ee9e8511c",
   "execution_count": 27
  },
  {
   "cell_type": "code",
   "outputs": [
    {
     "data": {
      "text/plain": "                                 r1_smiles  \\\n0         Cc1cc(Br)nc(-c2cccc3cc[nH]c23)c1   \n1         Cc1cc(Br)nc(-c2cccc3cc[nH]c23)c1   \n2            Brc1cccc(-c2cccc3cc[nH]c23)n1   \n3            Brc1cccc(-c2cccc3cc[nH]c23)n1   \n4             Ic1cccc(-c2cccc3cc[nH]c23)n1   \n...                                    ...   \n22396    Cc1c[nH]c2c(-c3nc(Br)ccc3N)cccc12   \n22397    Cc1c[nH]c2c(-c3nc(Br)ccc3N)cccc12   \n22398  Cc1c[nH]c2c(-c3ccc(N)c(Br)n3)cccc12   \n22399  Cc1c[nH]c2c(-c3ccc(N)c(Br)n3)cccc12   \n22400                                  NaN   \n\n                                              r1_mol  \\\n0      <rdkit.Chem.rdchem.Mol object at 0x1520845e0>   \n1      <rdkit.Chem.rdchem.Mol object at 0x1520845e0>   \n2      <rdkit.Chem.rdchem.Mol object at 0x152084d10>   \n3      <rdkit.Chem.rdchem.Mol object at 0x152084d10>   \n4      <rdkit.Chem.rdchem.Mol object at 0x1520840e0>   \n...                                              ...   \n22396  <rdkit.Chem.rdchem.Mol object at 0x152091810>   \n22397  <rdkit.Chem.rdchem.Mol object at 0x152091810>   \n22398  <rdkit.Chem.rdchem.Mol object at 0x152091860>   \n22399  <rdkit.Chem.rdchem.Mol object at 0x152091860>   \n22400                                            NaN   \n\n       r1_Sp3-sp2_Suzuki_coupling_num_matches r1_lead_time  r1_num_atom_diff  \\\n0                                         1.0         None               0.0   \n1                                         1.0         None               0.0   \n2                                         1.0         None               0.0   \n3                                         1.0         None               0.0   \n4                                         1.0         None               1.0   \n...                                       ...          ...               ...   \n22396                                     1.0         None               2.0   \n22397                                     1.0         None               2.0   \n22398                                     1.0         None               2.0   \n22399                                     1.0         None               2.0   \n22400                                     NaN         None               NaN   \n\n                            r2_smiles  \\\n0                            CCCB(O)O   \n1                            CCCB(O)O   \n2                            CCCB(O)O   \n3                            CCCB(O)O   \n4                            CCCB(O)O   \n...                               ...   \n22396  C=C(B1OC(C)(C)C(C)(C)O1)C1COC1   \n22397  C=C(B1OC(C)(C)C(C)(C)O1)C1COC1   \n22398  C=C(B1OC(C)(C)C(C)(C)O1)C1COC1   \n22399  C=C(B1OC(C)(C)C(C)(C)O1)C1COC1   \n22400                             NaN   \n\n                                              r2_mol  \\\n0      <rdkit.Chem.rdchem.Mol object at 0x152091900>   \n1      <rdkit.Chem.rdchem.Mol object at 0x152091900>   \n2      <rdkit.Chem.rdchem.Mol object at 0x152091900>   \n3      <rdkit.Chem.rdchem.Mol object at 0x152091900>   \n4      <rdkit.Chem.rdchem.Mol object at 0x152091900>   \n...                                              ...   \n22396  <rdkit.Chem.rdchem.Mol object at 0x1520a3630>   \n22397  <rdkit.Chem.rdchem.Mol object at 0x1520a3630>   \n22398  <rdkit.Chem.rdchem.Mol object at 0x1520a3630>   \n22399  <rdkit.Chem.rdchem.Mol object at 0x1520a3630>   \n22400                                            NaN   \n\n       r2_Sp3-sp2_Suzuki_coupling_num_matches  r2_lead_time  r2_num_atom_diff  \\\n0                                         1.0           1.0               0.0   \n1                                         1.0           1.0               0.0   \n2                                         1.0           1.0               0.0   \n3                                         1.0           1.0               0.0   \n4                                         1.0           1.0               0.0   \n...                                       ...           ...               ...   \n22396                                     1.0           1.0               9.0   \n22397                                     1.0           1.0               9.0   \n22398                                     1.0           1.0               9.0   \n22399                                     1.0           1.0               9.0   \n22400                                     NaN           NaN               NaN   \n\n                           flag                                        smiles  \\\n0      one_of_multiple_products             CCCc1cc(C)cc(-c2cccc3cc[nH]c23)n1   \n1      one_of_multiple_products             CCCc1cc(C)cc(-c2cccc3cc[nH]c23)n1   \n2      one_of_multiple_products                CCCc1cccc(-c2cccc3cc[nH]c23)n1   \n3      one_of_multiple_products                CCCc1cccc(-c2cccc3cc[nH]c23)n1   \n4      one_of_multiple_products                CCCc1cccc(-c2cccc3cc[nH]c23)n1   \n...                         ...                                           ...   \n22396  one_of_multiple_products  C=C(c1ccc(N)c(-c2cccc3c(C)c[nH]c23)n1)C1COC1   \n22397  one_of_multiple_products  C=C(c1ccc(N)c(-c2cccc3c(C)c[nH]c23)n1)C1COC1   \n22398  one_of_multiple_products    C=C(c1nc(-c2cccc3c(C)c[nH]c23)ccc1N)C1COC1   \n22399  one_of_multiple_products    C=C(c1nc(-c2cccc3c(C)c[nH]c23)ccc1N)C1COC1   \n22400                       NaN                                   C1=CC=CC=C1   \n\n       num_atom_diff  \n0                  1  \n1                  1  \n2                  0  \n3                  0  \n4                  0  \n...              ...  \n22396              5  \n22397              5  \n22398              5  \n22399              5  \n22400              0  \n\n[22401 rows x 13 columns]",
      "text/html": "<div>\n<style scoped>\n    .dataframe tbody tr th:only-of-type {\n        vertical-align: middle;\n    }\n\n    .dataframe tbody tr th {\n        vertical-align: top;\n    }\n\n    .dataframe thead th {\n        text-align: right;\n    }\n</style>\n<table border=\"1\" class=\"dataframe\">\n  <thead>\n    <tr style=\"text-align: right;\">\n      <th></th>\n      <th>r1_smiles</th>\n      <th>r1_mol</th>\n      <th>r1_Sp3-sp2_Suzuki_coupling_num_matches</th>\n      <th>r1_lead_time</th>\n      <th>r1_num_atom_diff</th>\n      <th>r2_smiles</th>\n      <th>r2_mol</th>\n      <th>r2_Sp3-sp2_Suzuki_coupling_num_matches</th>\n      <th>r2_lead_time</th>\n      <th>r2_num_atom_diff</th>\n      <th>flag</th>\n      <th>smiles</th>\n      <th>num_atom_diff</th>\n    </tr>\n  </thead>\n  <tbody>\n    <tr>\n      <th>0</th>\n      <td>Cc1cc(Br)nc(-c2cccc3cc[nH]c23)c1</td>\n      <td>&lt;rdkit.Chem.rdchem.Mol object at 0x1520845e0&gt;</td>\n      <td>1.0</td>\n      <td>None</td>\n      <td>0.0</td>\n      <td>CCCB(O)O</td>\n      <td>&lt;rdkit.Chem.rdchem.Mol object at 0x152091900&gt;</td>\n      <td>1.0</td>\n      <td>1.0</td>\n      <td>0.0</td>\n      <td>one_of_multiple_products</td>\n      <td>CCCc1cc(C)cc(-c2cccc3cc[nH]c23)n1</td>\n      <td>1</td>\n    </tr>\n    <tr>\n      <th>1</th>\n      <td>Cc1cc(Br)nc(-c2cccc3cc[nH]c23)c1</td>\n      <td>&lt;rdkit.Chem.rdchem.Mol object at 0x1520845e0&gt;</td>\n      <td>1.0</td>\n      <td>None</td>\n      <td>0.0</td>\n      <td>CCCB(O)O</td>\n      <td>&lt;rdkit.Chem.rdchem.Mol object at 0x152091900&gt;</td>\n      <td>1.0</td>\n      <td>1.0</td>\n      <td>0.0</td>\n      <td>one_of_multiple_products</td>\n      <td>CCCc1cc(C)cc(-c2cccc3cc[nH]c23)n1</td>\n      <td>1</td>\n    </tr>\n    <tr>\n      <th>2</th>\n      <td>Brc1cccc(-c2cccc3cc[nH]c23)n1</td>\n      <td>&lt;rdkit.Chem.rdchem.Mol object at 0x152084d10&gt;</td>\n      <td>1.0</td>\n      <td>None</td>\n      <td>0.0</td>\n      <td>CCCB(O)O</td>\n      <td>&lt;rdkit.Chem.rdchem.Mol object at 0x152091900&gt;</td>\n      <td>1.0</td>\n      <td>1.0</td>\n      <td>0.0</td>\n      <td>one_of_multiple_products</td>\n      <td>CCCc1cccc(-c2cccc3cc[nH]c23)n1</td>\n      <td>0</td>\n    </tr>\n    <tr>\n      <th>3</th>\n      <td>Brc1cccc(-c2cccc3cc[nH]c23)n1</td>\n      <td>&lt;rdkit.Chem.rdchem.Mol object at 0x152084d10&gt;</td>\n      <td>1.0</td>\n      <td>None</td>\n      <td>0.0</td>\n      <td>CCCB(O)O</td>\n      <td>&lt;rdkit.Chem.rdchem.Mol object at 0x152091900&gt;</td>\n      <td>1.0</td>\n      <td>1.0</td>\n      <td>0.0</td>\n      <td>one_of_multiple_products</td>\n      <td>CCCc1cccc(-c2cccc3cc[nH]c23)n1</td>\n      <td>0</td>\n    </tr>\n    <tr>\n      <th>4</th>\n      <td>Ic1cccc(-c2cccc3cc[nH]c23)n1</td>\n      <td>&lt;rdkit.Chem.rdchem.Mol object at 0x1520840e0&gt;</td>\n      <td>1.0</td>\n      <td>None</td>\n      <td>1.0</td>\n      <td>CCCB(O)O</td>\n      <td>&lt;rdkit.Chem.rdchem.Mol object at 0x152091900&gt;</td>\n      <td>1.0</td>\n      <td>1.0</td>\n      <td>0.0</td>\n      <td>one_of_multiple_products</td>\n      <td>CCCc1cccc(-c2cccc3cc[nH]c23)n1</td>\n      <td>0</td>\n    </tr>\n    <tr>\n      <th>...</th>\n      <td>...</td>\n      <td>...</td>\n      <td>...</td>\n      <td>...</td>\n      <td>...</td>\n      <td>...</td>\n      <td>...</td>\n      <td>...</td>\n      <td>...</td>\n      <td>...</td>\n      <td>...</td>\n      <td>...</td>\n      <td>...</td>\n    </tr>\n    <tr>\n      <th>22396</th>\n      <td>Cc1c[nH]c2c(-c3nc(Br)ccc3N)cccc12</td>\n      <td>&lt;rdkit.Chem.rdchem.Mol object at 0x152091810&gt;</td>\n      <td>1.0</td>\n      <td>None</td>\n      <td>2.0</td>\n      <td>C=C(B1OC(C)(C)C(C)(C)O1)C1COC1</td>\n      <td>&lt;rdkit.Chem.rdchem.Mol object at 0x1520a3630&gt;</td>\n      <td>1.0</td>\n      <td>1.0</td>\n      <td>9.0</td>\n      <td>one_of_multiple_products</td>\n      <td>C=C(c1ccc(N)c(-c2cccc3c(C)c[nH]c23)n1)C1COC1</td>\n      <td>5</td>\n    </tr>\n    <tr>\n      <th>22397</th>\n      <td>Cc1c[nH]c2c(-c3nc(Br)ccc3N)cccc12</td>\n      <td>&lt;rdkit.Chem.rdchem.Mol object at 0x152091810&gt;</td>\n      <td>1.0</td>\n      <td>None</td>\n      <td>2.0</td>\n      <td>C=C(B1OC(C)(C)C(C)(C)O1)C1COC1</td>\n      <td>&lt;rdkit.Chem.rdchem.Mol object at 0x1520a3630&gt;</td>\n      <td>1.0</td>\n      <td>1.0</td>\n      <td>9.0</td>\n      <td>one_of_multiple_products</td>\n      <td>C=C(c1ccc(N)c(-c2cccc3c(C)c[nH]c23)n1)C1COC1</td>\n      <td>5</td>\n    </tr>\n    <tr>\n      <th>22398</th>\n      <td>Cc1c[nH]c2c(-c3ccc(N)c(Br)n3)cccc12</td>\n      <td>&lt;rdkit.Chem.rdchem.Mol object at 0x152091860&gt;</td>\n      <td>1.0</td>\n      <td>None</td>\n      <td>2.0</td>\n      <td>C=C(B1OC(C)(C)C(C)(C)O1)C1COC1</td>\n      <td>&lt;rdkit.Chem.rdchem.Mol object at 0x1520a3630&gt;</td>\n      <td>1.0</td>\n      <td>1.0</td>\n      <td>9.0</td>\n      <td>one_of_multiple_products</td>\n      <td>C=C(c1nc(-c2cccc3c(C)c[nH]c23)ccc1N)C1COC1</td>\n      <td>5</td>\n    </tr>\n    <tr>\n      <th>22399</th>\n      <td>Cc1c[nH]c2c(-c3ccc(N)c(Br)n3)cccc12</td>\n      <td>&lt;rdkit.Chem.rdchem.Mol object at 0x152091860&gt;</td>\n      <td>1.0</td>\n      <td>None</td>\n      <td>2.0</td>\n      <td>C=C(B1OC(C)(C)C(C)(C)O1)C1COC1</td>\n      <td>&lt;rdkit.Chem.rdchem.Mol object at 0x1520a3630&gt;</td>\n      <td>1.0</td>\n      <td>1.0</td>\n      <td>9.0</td>\n      <td>one_of_multiple_products</td>\n      <td>C=C(c1nc(-c2cccc3c(C)c[nH]c23)ccc1N)C1COC1</td>\n      <td>5</td>\n    </tr>\n    <tr>\n      <th>22400</th>\n      <td>NaN</td>\n      <td>NaN</td>\n      <td>NaN</td>\n      <td>None</td>\n      <td>NaN</td>\n      <td>NaN</td>\n      <td>NaN</td>\n      <td>NaN</td>\n      <td>NaN</td>\n      <td>NaN</td>\n      <td>NaN</td>\n      <td>C1=CC=CC=C1</td>\n      <td>0</td>\n    </tr>\n  </tbody>\n</table>\n<p>22401 rows × 13 columns</p>\n</div>"
     },
     "execution_count": 28,
     "metadata": {},
     "output_type": "execute_result"
    }
   ],
   "source": [
    "df = df.drop(columns=['combined'])\n",
    "df"
   ],
   "metadata": {
    "collapsed": false,
    "ExecuteTime": {
     "end_time": "2024-02-22T17:41:22.110267Z",
     "start_time": "2024-02-22T17:41:22.099902Z"
    }
   },
   "id": "f02a0d7bbd8b97a3",
   "execution_count": 28
  },
  {
   "cell_type": "code",
   "outputs": [],
   "source": [],
   "metadata": {
    "collapsed": false
   },
   "id": "b44ce61d5781ded9"
  }
 ],
 "metadata": {
  "kernelspec": {
   "display_name": "Python 3",
   "language": "python",
   "name": "python3"
  },
  "language_info": {
   "codemirror_mode": {
    "name": "ipython",
    "version": 2
   },
   "file_extension": ".py",
   "mimetype": "text/x-python",
   "name": "python",
   "nbconvert_exporter": "python",
   "pygments_lexer": "ipython2",
   "version": "2.7.6"
  }
 },
 "nbformat": 4,
 "nbformat_minor": 5
}
