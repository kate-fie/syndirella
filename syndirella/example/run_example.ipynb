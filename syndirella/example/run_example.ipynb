{
 "cells": [
  {
   "cell_type": "code",
   "id": "initial_id",
   "metadata": {
    "collapsed": true,
    "ExecuteTime": {
     "end_time": "2024-09-11T11:12:42.490652Z",
     "start_time": "2024-09-11T11:12:41.288574Z"
    }
   },
   "source": [
    "import pandas as pd\n",
    "from rdkit import Chem"
   ],
   "outputs": [],
   "execution_count": 1
  },
  {
   "metadata": {},
   "cell_type": "markdown",
   "source": "## Automatic routes",
   "id": "48fabff4e26b1f18"
  },
  {
   "metadata": {
    "ExecuteTime": {
     "end_time": "2024-09-11T11:15:41.529892Z",
     "start_time": "2024-09-11T11:15:41.506732Z"
    }
   },
   "cell_type": "code",
   "source": [
    "# Load example input\n",
    "df = pd.read_csv('syndirella_input_example_automatic.csv')\n",
    "df"
   ],
   "id": "aea3c70838e3df7c",
   "outputs": [
    {
     "data": {
      "text/plain": [
       "                                           smiles      hit1     hit2   hit3  \\\n",
       "0           CCCC(=O)NC1CCN(C(=O)NC2CC(CC#N)C2)CC1   Ax0556a  Ax0310a    NaN   \n",
       "1             CC1(NC(=O)Nc2ccccc2CS(N)(=O)=O)CCC1  Ax0884a   Ax0719a    NaN   \n",
       "2  O=C(Cc1cn[nH]c1CC(=O)N1CCCC(C(F)(F)F)C1)NC1CC1     X0926    x1346  x1019   \n",
       "\n",
       "  template       compound_set  \n",
       "0  Ax0310a  syndirella_auto_1  \n",
       "1      310  syndirella_auto_1  \n",
       "2    X0926  syndirella_auto_1  "
      ],
      "text/html": [
       "<div>\n",
       "<style scoped>\n",
       "    .dataframe tbody tr th:only-of-type {\n",
       "        vertical-align: middle;\n",
       "    }\n",
       "\n",
       "    .dataframe tbody tr th {\n",
       "        vertical-align: top;\n",
       "    }\n",
       "\n",
       "    .dataframe thead th {\n",
       "        text-align: right;\n",
       "    }\n",
       "</style>\n",
       "<table border=\"1\" class=\"dataframe\">\n",
       "  <thead>\n",
       "    <tr style=\"text-align: right;\">\n",
       "      <th></th>\n",
       "      <th>smiles</th>\n",
       "      <th>hit1</th>\n",
       "      <th>hit2</th>\n",
       "      <th>hit3</th>\n",
       "      <th>template</th>\n",
       "      <th>compound_set</th>\n",
       "    </tr>\n",
       "  </thead>\n",
       "  <tbody>\n",
       "    <tr>\n",
       "      <th>0</th>\n",
       "      <td>CCCC(=O)NC1CCN(C(=O)NC2CC(CC#N)C2)CC1</td>\n",
       "      <td>Ax0556a</td>\n",
       "      <td>Ax0310a</td>\n",
       "      <td>NaN</td>\n",
       "      <td>Ax0310a</td>\n",
       "      <td>syndirella_auto_1</td>\n",
       "    </tr>\n",
       "    <tr>\n",
       "      <th>1</th>\n",
       "      <td>CC1(NC(=O)Nc2ccccc2CS(N)(=O)=O)CCC1</td>\n",
       "      <td>Ax0884a</td>\n",
       "      <td>Ax0719a</td>\n",
       "      <td>NaN</td>\n",
       "      <td>310</td>\n",
       "      <td>syndirella_auto_1</td>\n",
       "    </tr>\n",
       "    <tr>\n",
       "      <th>2</th>\n",
       "      <td>O=C(Cc1cn[nH]c1CC(=O)N1CCCC(C(F)(F)F)C1)NC1CC1</td>\n",
       "      <td>X0926</td>\n",
       "      <td>x1346</td>\n",
       "      <td>x1019</td>\n",
       "      <td>X0926</td>\n",
       "      <td>syndirella_auto_1</td>\n",
       "    </tr>\n",
       "  </tbody>\n",
       "</table>\n",
       "</div>"
      ]
     },
     "execution_count": 2,
     "metadata": {},
     "output_type": "execute_result"
    }
   ],
   "execution_count": 2
  },
  {
   "metadata": {},
   "cell_type": "markdown",
   "source": "Notice the different formats of the values for hits and template. The hit columns are used to ",
   "id": "acd76e964057ba29"
  },
  {
   "metadata": {},
   "cell_type": "markdown",
   "source": [
    "Run in JupyterLab Terminal: \n",
    "\n",
    "Install syndirella\n",
    "```\n",
    "conda create -n syndirella python=3.12\n",
    "conda activate syndirella\n",
    "pip install --upgrade syndirella\n",
    "syndirella -h\n",
    "```"
   ],
   "id": "48ee24d9f94f61f8"
  },
  {
   "metadata": {},
   "cell_type": "markdown",
   "source": [
    "Clone repo to get example directory and run example:\n",
    "```\n",
    "git clone https://github.com/kate-fie/syndirella.git\n",
    "export MANIFOLD_API_KEY=[KEY]\n",
    "export BASE=[PATH_TO_SYNDIRELLA_EXAMPLE_IN_REPO]\n",
    "syndirella --input $BASE/syndirella_input_example_automatic.csv --output output --templates $BASE/fragments/templates/ --hits_path $BASE/fragments/A71EV2A_combined.sdf --metadata $BASE/fragments/metadata.csv --batch_num 5\n",
    "```"
   ],
   "id": "e96f2af0ee169ced"
  },
  {
   "metadata": {},
   "cell_type": "code",
   "outputs": [],
   "execution_count": null,
   "source": [
    "# cepheus env \n",
    "rdkit                     2023.9.5                 \n",
    "# local env\n",
    "rdkit                     2024.03.1\n",
    "# docker env\n",
    "rdkit                     2024.3.5"
   ],
   "id": "9c27a6bc2a538bca"
  }
 ],
 "metadata": {
  "kernelspec": {
   "display_name": "Python 3",
   "language": "python",
   "name": "python3"
  },
  "language_info": {
   "codemirror_mode": {
    "name": "ipython",
    "version": 2
   },
   "file_extension": ".py",
   "mimetype": "text/x-python",
   "name": "python",
   "nbconvert_exporter": "python",
   "pygments_lexer": "ipython2",
   "version": "2.7.6"
  }
 },
 "nbformat": 4,
 "nbformat_minor": 5
}
