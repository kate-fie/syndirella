{
 "cells": [
  {
   "cell_type": "code",
   "execution_count": 22,
   "metadata": {
    "collapsed": true,
    "ExecuteTime": {
     "end_time": "2023-08-24T07:31:17.865925Z",
     "start_time": "2023-08-24T07:31:17.720713Z"
    }
   },
   "outputs": [
    {
     "name": "stdout",
     "output_type": "stream",
     "text": [
      "The autoreload extension is already loaded. To reload it, use:\n",
      "  %reload_ext autoreload\n"
     ]
    }
   ],
   "source": [
    "%load_ext autoreload\n",
    "%autoreload 2\n",
    "\n",
    "from rdkit import Chem\n",
    "from rdkit.Chem import Draw\n",
    "from fragmenstein import Victor, Igor\n",
    "import sys\n",
    "sys.path.append('/Users/kate_fieseler/PycharmProjects/chemUtils')\n",
    "import pandas as pd\n",
    "import chemUtils\n",
    "from chemUtils import protein"
   ]
  },
  {
   "cell_type": "code",
   "execution_count": 23,
   "outputs": [
    {
     "data": {
      "image/png": "[encoded data removed]",
      "text/plain": "<IPython.core.display.Image object>"
     },
     "execution_count": 23,
     "metadata": {},
     "output_type": "execute_result"
    }
   ],
   "source": [
    "# Convert sdf of first base compound to mol\n",
    "fragments = Chem.SDMolSupplier('/Users/kate_fieseler/PycharmProjects/retrievesynthesizable/NCS1/fragalysis/NCS1_combined.sdf')\n",
    "# for mol in follow_ups:\n",
    "#     #img = Draw.MolsToImage(mol)\n",
    "Draw.MolsToGridImage(fragments, molsPerRow=4)"
   ],
   "metadata": {
    "collapsed": false,
    "ExecuteTime": {
     "end_time": "2023-08-24T07:31:24.068300Z",
     "start_time": "2023-08-24T07:31:24.020967Z"
    }
   }
  },
  {
   "cell_type": "code",
   "execution_count": 24,
   "outputs": [],
   "source": [
    "def run_fragmenstein(hits,  # list of rdkit mol objects of hits to help place\n",
    "                     apo_file,  # path to pdb file for protein\n",
    "                     work_path,\n",
    "                     smiles,\n",
    "                     name):\n",
    "    Igor.init_pyrosetta()\n",
    "    v = Victor(hits=hits, pdb_filename=apo_file)\n",
    "    v.work_path = work_path\n",
    "    v.place(smiles, long_name=name)"
   ],
   "metadata": {
    "collapsed": false,
    "ExecuteTime": {
     "end_time": "2023-08-24T07:31:25.599764Z",
     "start_time": "2023-08-24T07:31:25.564249Z"
    }
   }
  },
  {
   "cell_type": "code",
   "execution_count": 25,
   "outputs": [
    {
     "data": {
      "text/plain": "    reactant1_structuralScore  reactant1_mw  \\\n0                         0.0    283.100857   \n1                         0.0    283.100857   \n2                         0.0    283.100857   \n3                         0.0    283.100857   \n4                         0.0    283.100857   \n5                         0.0    283.100857   \n6                         0.0    283.100857   \n7                         0.0    283.100857   \n8                         0.0    283.100857   \n9                         0.0    283.100857   \n10                        0.0    283.100857   \n11                        0.0    283.100857   \n12                        0.0    283.100857   \n13                        0.0    283.100857   \n14                        0.0    283.100857   \n15                        0.0    283.100857   \n16                        0.0    283.100857   \n17                        0.0    283.100857   \n18                        0.0    283.100857   \n19                        0.0    283.100857   \n20                        0.0    283.100857   \n21                        0.0    283.100857   \n22                        0.0    283.100857   \n23                        0.0    283.100857   \n24                        0.0    283.100857   \n25                        0.0    283.100857   \n26                        0.0    283.100857   \n27                        0.0    283.100857   \n28                        0.0    283.100857   \n29                        0.0    283.100857   \n30                        0.0    283.100857   \n31                        0.0    283.100857   \n32                        0.0    283.100857   \n33                        0.0    283.100857   \n34                        0.0    283.100857   \n35                        0.0    283.100857   \n36                        0.0    283.100857   \n37                        0.0    283.100857   \n38                        0.0    283.100857   \n39                        0.0    283.100857   \n40                        0.0    283.100857   \n41                        0.0    283.100857   \n42                        0.0    283.100857   \n43                        0.0    283.100857   \n44                        0.0    283.100857   \n45                        0.0    283.100857   \n46                        0.0    283.100857   \n47                        0.0    283.100857   \n48                        0.0    283.100857   \n49                        0.0    283.100857   \n\n                         reactant1_smi  reactant1_metadata  \\\n0   O=C(O)Cc1cn(Cc2ccc(F)cc2)c2ccccc12                 NaN   \n1   O=C(O)Cc1cn(Cc2ccc(F)cc2)c2ccccc12                 NaN   \n2   O=C(O)Cc1cn(Cc2ccc(F)cc2)c2ccccc12                 NaN   \n3   O=C(O)Cc1cn(Cc2ccc(F)cc2)c2ccccc12                 NaN   \n4   O=C(O)Cc1cn(Cc2ccc(F)cc2)c2ccccc12                 NaN   \n5   O=C(O)Cc1cn(Cc2ccc(F)cc2)c2ccccc12                 NaN   \n6   O=C(O)Cc1cn(Cc2ccc(F)cc2)c2ccccc12                 NaN   \n7   O=C(O)Cc1cn(Cc2ccc(F)cc2)c2ccccc12                 NaN   \n8   O=C(O)Cc1cn(Cc2ccc(F)cc2)c2ccccc12                 NaN   \n9   O=C(O)Cc1cn(Cc2ccc(F)cc2)c2ccccc12                 NaN   \n10  O=C(O)Cc1cn(Cc2ccc(F)cc2)c2ccccc12                 NaN   \n11  O=C(O)Cc1cn(Cc2ccc(F)cc2)c2ccccc12                 NaN   \n12  O=C(O)Cc1cn(Cc2ccc(F)cc2)c2ccccc12                 NaN   \n13  O=C(O)Cc1cn(Cc2ccc(F)cc2)c2ccccc12                 NaN   \n14  O=C(O)Cc1cn(Cc2ccc(F)cc2)c2ccccc12                 NaN   \n15  O=C(O)Cc1cn(Cc2ccc(F)cc2)c2ccccc12                 NaN   \n16  O=C(O)Cc1cn(Cc2ccc(F)cc2)c2ccccc12                 NaN   \n17  O=C(O)Cc1cn(Cc2ccc(F)cc2)c2ccccc12                 NaN   \n18  O=C(O)Cc1cn(Cc2ccc(F)cc2)c2ccccc12                 NaN   \n19  O=C(O)Cc1cn(Cc2ccc(F)cc2)c2ccccc12                 NaN   \n20  O=C(O)Cc1cn(Cc2ccc(F)cc2)c2ccccc12                 NaN   \n21  O=C(O)Cc1cn(Cc2ccc(F)cc2)c2ccccc12                 NaN   \n22  O=C(O)Cc1cn(Cc2ccc(F)cc2)c2ccccc12                 NaN   \n23  O=C(O)Cc1cn(Cc2ccc(F)cc2)c2ccccc12                 NaN   \n24  O=C(O)Cc1cn(Cc2ccc(F)cc2)c2ccccc12                 NaN   \n25  O=C(O)Cc1cn(Cc2ccc(F)cc2)c2ccccc12                 NaN   \n26  O=C(O)Cc1cn(Cc2ccc(F)cc2)c2ccccc12                 NaN   \n27  O=C(O)Cc1cn(Cc2ccc(F)cc2)c2ccccc12                 NaN   \n28  O=C(O)Cc1cn(Cc2ccc(F)cc2)c2ccccc12                 NaN   \n29  O=C(O)Cc1cn(Cc2ccc(F)cc2)c2ccccc12                 NaN   \n30  O=C(O)Cc1cn(Cc2ccc(F)cc2)c2ccccc12                 NaN   \n31  O=C(O)Cc1cn(Cc2ccc(F)cc2)c2ccccc12                 NaN   \n32  O=C(O)Cc1cn(Cc2ccc(F)cc2)c2ccccc12                 NaN   \n33  O=C(O)Cc1cn(Cc2ccc(F)cc2)c2ccccc12                 NaN   \n34  O=C(O)Cc1cn(Cc2ccc(F)cc2)c2ccccc12                 NaN   \n35  O=C(O)Cc1cn(Cc2ccc(F)cc2)c2ccccc12                 NaN   \n36  O=C(O)Cc1cn(Cc2ccc(F)cc2)c2ccccc12                 NaN   \n37  O=C(O)Cc1cn(Cc2ccc(F)cc2)c2ccccc12                 NaN   \n38  O=C(O)Cc1cn(Cc2ccc(F)cc2)c2ccccc12                 NaN   \n39  O=C(O)Cc1cn(Cc2ccc(F)cc2)c2ccccc12                 NaN   \n40  O=C(O)Cc1cn(Cc2ccc(F)cc2)c2ccccc12                 NaN   \n41  O=C(O)Cc1cn(Cc2ccc(F)cc2)c2ccccc12                 NaN   \n42  O=C(O)Cc1cn(Cc2ccc(F)cc2)c2ccccc12                 NaN   \n43  O=C(O)Cc1cn(Cc2ccc(F)cc2)c2ccccc12                 NaN   \n44  O=C(O)Cc1cn(Cc2ccc(F)cc2)c2ccccc12                 NaN   \n45  O=C(O)Cc1cn(Cc2ccc(F)cc2)c2ccccc12                 NaN   \n46  O=C(O)Cc1cn(Cc2ccc(F)cc2)c2ccccc12                 NaN   \n47  O=C(O)Cc1cn(Cc2ccc(F)cc2)c2ccccc12                 NaN   \n48  O=C(O)Cc1cn(Cc2ccc(F)cc2)c2ccccc12                 NaN   \n49  O=C(O)Cc1cn(Cc2ccc(F)cc2)c2ccccc12                 NaN   \n\n    reactant2_structuralScore  reactant2_mw  \\\n0                    0.000000    255.013619   \n1                    0.122741    361.448000   \n2                    0.134966    349.397000   \n3                    0.138392    259.348407   \n4                    0.148876    309.416000   \n5                    0.156467    309.416000   \n6                    0.158918    364.412000   \n7                    0.158918    364.412000   \n8                    0.159766    354.457000   \n9                    0.186391    313.360000   \n10                   0.186584    269.351000   \n11                   0.202139    347.425000   \n12                   0.219641    295.389000   \n13                   0.226157    281.362000   \n14                   0.226865    340.430000   \n15                   0.228543    270.339000   \n16                   0.228543    270.339000   \n17                   0.235415    312.376000   \n18                   0.236433    353.454000   \n19                   0.241049    326.403000   \n20                   0.247969    350.385000   \n21                   0.249232    351.478000   \n22                   0.254687    326.403000   \n23                   0.259942    354.457000   \n24                   0.260296    354.457000   \n25                   0.261713    269.351000   \n26                   0.262018    348.409000   \n27                   0.264380    396.479000   \n28                   0.271040    349.393000   \n29                   0.271929    335.410000   \n30                   0.274908    350.385000   \n31                   0.279839    348.409000   \n32                   0.283250    349.397000   \n33                   0.291311    261.278129   \n34                   0.294114    295.389000   \n35                   0.307733    519.240000   \n36                   0.315155    396.479000   \n37                   0.359115    333.398000   \n38                   0.370951    339.486000   \n39                   0.372599    326.403000   \n40                   0.386954    326.403000   \n41                   0.391722    345.449000   \n42                   0.400774    295.389000   \n43                   0.435310    354.457000   \n44                   0.440808    340.430000   \n45                   0.468854    349.397000   \n46                   0.485313    254.316000   \n47                   0.497114    342.402000   \n48                   0.512040    372.497000   \n49                   0.667191    354.457000   \n\n                                        reactant2_smi  \\\n0                        Nc1ccc(S(=O)(=O)Nc2nccs2)cc1   \n1              O=S(=O)(Nc1nccs1)c1ccc(NCc2ccccc2O)cc1   \n2         O=C(Nc1ccc(S(=O)(=O)Nc2nccs2)cc1)c1cn[nH]c1   \n3   [2H]c1c([2H])c(S(=O)(=O)Nc2nccs2)c([2H])c([2H]...   \n4                Cc1cnc(NS(=O)(=O)c2ccc3c(c2)CCCN3)s1   \n5                Cc1csc(NS(=O)(=O)c2ccc3c(c2)CCCN3)n1   \n6        Cc1nnc(Nc2ccc(S(=O)(=O)Nc3nccs3)cc2)[nH]c1=O   \n7        Cc1nnc(Nc2ccc(S(=O)(=O)Nc3nccs3)cc2)[nH]c1=O   \n8          CCC(C)(N)C(=O)Nc1ccc(S(=O)(=O)Nc2nccs2)cc1   \n9               Nc1ccc(S(=O)(=O)Nc2nc(CC(=O)O)cs2)cc1   \n10                    Cc1cnc(NS(=O)(=O)c2ccc(N)cc2)s1   \n11            Cc1cc(Nc2ccc(S(=O)(=O)Nc3nccs3)cc2)ncn1   \n12                Cc1cnc(NS(=O)(=O)c2ccc3c(c2)CCN3)s1   \n13                   O=S(=O)(Nc1nccs1)c1ccc2c(c1)CCN2   \n14            CCC(N)C(=O)Nc1ccc(S(=O)(=O)Nc2nccs2)cc1   \n15                      NNc1ccc(S(=O)(=O)Nc2nccs2)cc1   \n16                      NNc1ccc(S(=O)(=O)Nc2nccs2)cc1   \n17                NCC(=O)Nc1ccc(S(=O)(=O)Nc2nccs2)cc1   \n18             Cc1nnc(Nc2ccc(S(=O)(=O)Nc3nccs3)cc2)s1   \n19               CNCC(=O)Nc1ccc(S(=O)(=O)Nc2nccs2)cc1   \n20        O=C(Nc1ccc(S(=O)(=O)Nc2nccs2)cc1)c1nc[nH]n1   \n21               O=S(=O)(Nc1nccs1)c1ccc(NCc2cccs2)cc1   \n22             CC(N)C(=O)Nc1ccc(S(=O)(=O)Nc2nccs2)cc1   \n23         CC(C)C(N)C(=O)Nc1ccc(S(=O)(=O)Nc2nccs2)cc1   \n24     CC(C)[C@H](N)C(=O)Nc1ccc(S(=O)(=O)Nc2nccs2)cc1   \n25                    Cc1csc(NS(=O)(=O)c2ccc(N)cc2)n1   \n26        O=C(Nc1ccc(S(=O)(=O)Nc2nccs2)cc1)c1ccc[nH]1   \n27      O=C(CSc1nnc[nH]1)Nc1ccc(S(=O)(=O)Nc2nccs2)cc1   \n28         Nc1ccc(S(=O)(=O)Nc2nc3ccc(C(=O)O)cc3s2)cc1   \n29               O=S(=O)(Nc1nccs1)c1ccc(NCc2ccco2)cc1   \n30        O=C(Nc1ccc(S(=O)(=O)Nc2nccs2)cc1)c1cn[nH]n1   \n31        O=C(Nc1ccc(S(=O)(=O)Nc2nccs2)cc1)c1cc[nH]c1   \n32        O=C(Nc1ccc(S(=O)(=O)Nc2nccs2)cc1)c1ccn[nH]1   \n33  N[13c]1[13cH][13cH][13c](S(=O)(=O)Nc2nccs2)[13...   \n34                  O=S(=O)(Nc1nccs1)c1ccc2c(c1)CCCN2   \n35     O=S(=O)(Nc1nccs1)c1ccc(NCc2cc(Br)cc(Br)c2O)cc1   \n36      O=C(CSc1cnn[nH]1)Nc1ccc(S(=O)(=O)Nc2nccs2)cc1   \n37               O=S(=O)(Nc1nccs1)c1ccc(Nc2ncccn2)cc1   \n38             CC(C)CC(C)Nc1ccc(S(=O)(=O)Nc2nccs2)cc1   \n39         C[C@H](N)C(=O)Nc1ccc(S(=O)(=O)Nc2nccs2)cc1   \n40               NCCC(=O)Nc1ccc(S(=O)(=O)Nc2nccs2)cc1   \n41              O=S(=O)(Nc1nccs1)c1ccc(NCc2ccccc2)cc1   \n42                Cc1csc(NS(=O)(=O)c2ccc3c(c2)CCN3)n1   \n43             NCCCCC(=O)Nc1ccc(S(=O)(=O)Nc2nccs2)cc1   \n44              NCCCC(=O)Nc1ccc(S(=O)(=O)Nc2nccs2)cc1   \n45        O=C(Nc1ccc(S(=O)(=O)Nc2nccs2)cc1)c1c[nH]cn1   \n46                    Nc1ccc(S(=O)(=O)[N-]c2nccs2)cc1   \n47       N[C@@H](CO)C(=O)Nc1ccc(S(=O)(=O)Nc2nccs2)cc1   \n48             NCCSCC(=O)Nc1ccc(S(=O)(=O)Nc2nccs2)cc1   \n49           CCCC(N)C(=O)Nc1ccc(S(=O)(=O)Nc2nccs2)cc1   \n\n                                   reactant2_metadata  \\\n0                                                 NaN   \n1   [{'catalogName': 'molport', 'catalogId': 'MolP...   \n2   [{'catalogName': 'mcule_ultimate', 'catalogId'...   \n3   [{'catalogName': 'enamine_bb', 'catalogId': 'E...   \n4   [{'catalogName': 'enamine_made', 'catalogId': ...   \n5   [{'catalogName': 'enamine_made', 'catalogId': ...   \n6   [{'catalogName': 'molport', 'catalogId': 'MolP...   \n7   [{'catalogName': 'molport', 'catalogId': 'MolP...   \n8   [{'catalogName': 'mcule', 'catalogId': 'MCULE-...   \n9   [{'catalogName': 'emolecules', 'catalogId': '4...   \n10  [{'catalogName': 'enamine_bb', 'catalogId': 'E...   \n11  [{'catalogName': 'molport', 'catalogId': 'MolP...   \n12  [{'catalogName': 'enamine_made', 'catalogId': ...   \n13  [{'catalogName': 'enamine_made', 'catalogId': ...   \n14  [{'catalogName': 'enamine_real', 'catalogId': ...   \n15  [{'catalogName': 'enamine_bb', 'catalogId': 'E...   \n16  [{'catalogName': 'enamine_bb', 'catalogId': 'E...   \n17  [{'catalogName': 'enamine_real', 'catalogId': ...   \n18  [{'catalogName': 'mcule', 'catalogId': 'MCULE-...   \n19  [{'catalogName': 'enamine_real', 'catalogId': ...   \n20  [{'catalogName': 'enamine_real', 'catalogId': ...   \n21  [{'catalogName': 'emolecules', 'catalogId': '4...   \n22  [{'catalogName': 'enamine_real', 'catalogId': ...   \n23  [{'catalogName': 'enamine_real', 'catalogId': ...   \n24  [{'catalogName': 'enamine_real', 'catalogId': ...   \n25  [{'catalogName': 'enamine_made', 'catalogId': ...   \n26  [{'catalogName': 'enamine_real', 'catalogId': ...   \n27  [{'catalogName': 'molport', 'catalogId': 'MolP...   \n28  [{'catalogName': 'molport', 'catalogId': 'MolP...   \n29  [{'catalogName': 'emolecules', 'catalogId': '4...   \n30  [{'catalogName': 'enamine_real', 'catalogId': ...   \n31  [{'catalogName': 'enamine_real', 'catalogId': ...   \n32  [{'catalogName': 'enamine_real', 'catalogId': ...   \n33  [{'catalogName': 'enamine_bb', 'catalogId': 'E...   \n34  [{'catalogName': 'enamine_made', 'catalogId': ...   \n35  [{'catalogName': 'enamine_bb', 'catalogId': 'Z...   \n36  [{'catalogName': 'molport', 'catalogId': 'MolP...   \n37  [{'catalogName': 'mcule', 'catalogId': 'MCULE-...   \n38  [{'catalogName': 'mcule', 'catalogId': 'MCULE-...   \n39  [{'catalogName': 'enamine_real', 'catalogId': ...   \n40  [{'catalogName': 'enamine_real', 'catalogId': ...   \n41  [{'catalogName': 'emolecules', 'catalogId': '4...   \n42  [{'catalogName': 'enamine_made', 'catalogId': ...   \n43  [{'catalogName': 'enamine_real', 'catalogId': ...   \n44  [{'catalogName': 'mcule', 'catalogId': 'MCULE-...   \n45  [{'catalogName': 'enamine_real', 'catalogId': ...   \n46  [{'catalogName': 'molport', 'catalogId': 'MolP...   \n47  [{'catalogName': 'mcule', 'catalogId': 'MCULE-...   \n48  [{'catalogName': 'mcule', 'catalogId': 'MCULE-...   \n49  [{'catalogName': 'enamine_real', 'catalogId': ...   \n\n                                          product_smi  is_pains  \n0   O=C(Cc1cn(Cc2ccc(F)cc2)c2ccccc12)Nc1ccc(S(=O)(...     False  \n1   O=C(Cc1cn(Cc2ccc(F)cc2)c2ccccc12)N(Cc1ccccc1O)...      True  \n2   O=C(Nc1ccc(S(=O)(=O)Nc2nccs2)cc1)c1cnn(C(=O)Cc...     False  \n3   [2H]c1c([2H])c(S(=O)(=O)Nc2nccs2)c([2H])c([2H]...     False  \n4   Cc1cnc(NS(=O)(=O)c2ccc3c(c2)CCCN3C(=O)Cc2cn(Cc...     False  \n5   Cc1csc(NS(=O)(=O)c2ccc3c(c2)CCCN3C(=O)Cc2cn(Cc...     False  \n6   Cc1nnc(N(C(=O)Cc2cn(Cc3ccc(F)cc3)c3ccccc23)c2c...     False  \n7   Cc1nnc(Nc2ccc(S(=O)(=O)Nc3nccs3)cc2)n(C(=O)Cc2...     False  \n8   CCC(C)(NC(=O)Cc1cn(Cc2ccc(F)cc2)c2ccccc12)C(=O...     False  \n9   O=C(O)Cc1csc(NS(=O)(=O)c2ccc(NC(=O)Cc3cn(Cc4cc...     False  \n10  Cc1cnc(NS(=O)(=O)c2ccc(NC(=O)Cc3cn(Cc4ccc(F)cc...     False  \n11  Cc1cc(N(C(=O)Cc2cn(Cc3ccc(F)cc3)c3ccccc23)c2cc...     False  \n12  Cc1cnc(NS(=O)(=O)c2ccc3c(c2)CCN3C(=O)Cc2cn(Cc3...     False  \n13  O=C(Cc1cn(Cc2ccc(F)cc2)c2ccccc12)N1CCc2cc(S(=O...     False  \n14  CCC(NC(=O)Cc1cn(Cc2ccc(F)cc2)c2ccccc12)C(=O)Nc...     False  \n15  O=C(Cc1cn(Cc2ccc(F)cc2)c2ccccc12)NNc1ccc(S(=O)...     False  \n16  NN(C(=O)Cc1cn(Cc2ccc(F)cc2)c2ccccc12)c1ccc(S(=...     False  \n17  O=C(Cc1cn(Cc2ccc(F)cc2)c2ccccc12)NCC(=O)Nc1ccc...     False  \n18  Cc1nnc(N(C(=O)Cc2cn(Cc3ccc(F)cc3)c3ccccc23)c2c...     False  \n19  CN(CC(=O)Nc1ccc(S(=O)(=O)Nc2nccs2)cc1)C(=O)Cc1...     False  \n20  O=C(Nc1ccc(S(=O)(=O)Nc2nccs2)cc1)c1ncn(C(=O)Cc...     False  \n21  O=C(Cc1cn(Cc2ccc(F)cc2)c2ccccc12)N(Cc1cccs1)c1...     False  \n22  CC(NC(=O)Cc1cn(Cc2ccc(F)cc2)c2ccccc12)C(=O)Nc1...     False  \n23  CC(C)C(NC(=O)Cc1cn(Cc2ccc(F)cc2)c2ccccc12)C(=O...     False  \n24  CC(C)[C@H](NC(=O)Cc1cn(Cc2ccc(F)cc2)c2ccccc12)...     False  \n25  Cc1csc(NS(=O)(=O)c2ccc(NC(=O)Cc3cn(Cc4ccc(F)cc...     False  \n26  O=C(Nc1ccc(S(=O)(=O)Nc2nccs2)cc1)c1cccn1C(=O)C...     False  \n27  O=C(CSc1nncn1C(=O)Cc1cn(Cc2ccc(F)cc2)c2ccccc12...     False  \n28  O=C(Cc1cn(Cc2ccc(F)cc2)c2ccccc12)Nc1ccc(S(=O)(...     False  \n29  O=C(Cc1cn(Cc2ccc(F)cc2)c2ccccc12)N(Cc1ccco1)c1...     False  \n30  O=C(Nc1ccc(S(=O)(=O)Nc2nccs2)cc1)c1cnn(C(=O)Cc...     False  \n31  O=C(Nc1ccc(S(=O)(=O)Nc2nccs2)cc1)c1ccn(C(=O)Cc...     False  \n32  O=C(Nc1ccc(S(=O)(=O)Nc2nccs2)cc1)c1ccnn1C(=O)C...     False  \n33  O=C(Cc1cn(Cc2ccc(F)cc2)c2ccccc12)N[13c]1[13cH]...     False  \n34  O=C(Cc1cn(Cc2ccc(F)cc2)c2ccccc12)N1CCCc2cc(S(=...     False  \n35  O=C(Cc1cn(Cc2ccc(F)cc2)c2ccccc12)N(Cc1cc(Br)cc...      True  \n36  O=C(CSc1cnnn1C(=O)Cc1cn(Cc2ccc(F)cc2)c2ccccc12...     False  \n37  O=C(Cc1cn(Cc2ccc(F)cc2)c2ccccc12)N(c1ccc(S(=O)...     False  \n38  CC(C)CC(C)N(C(=O)Cc1cn(Cc2ccc(F)cc2)c2ccccc12)...     False  \n39  C[C@H](NC(=O)Cc1cn(Cc2ccc(F)cc2)c2ccccc12)C(=O...     False  \n40  O=C(Cc1cn(Cc2ccc(F)cc2)c2ccccc12)NCCC(=O)Nc1cc...     False  \n41  O=C(Cc1cn(Cc2ccc(F)cc2)c2ccccc12)N(Cc1ccccc1)c...     False  \n42  Cc1csc(NS(=O)(=O)c2ccc3c(c2)CCN3C(=O)Cc2cn(Cc3...     False  \n43  O=C(Cc1cn(Cc2ccc(F)cc2)c2ccccc12)NCCCCC(=O)Nc1...     False  \n44  O=C(Cc1cn(Cc2ccc(F)cc2)c2ccccc12)NCCCC(=O)Nc1c...     False  \n45  O=C(Nc1ccc(S(=O)(=O)Nc2nccs2)cc1)c1cn(C(=O)Cc2...     False  \n46  O=C(Cc1cn(Cc2ccc(F)cc2)c2ccccc12)Nc1ccc(S(=O)(...     False  \n47  O=C(Cc1cn(Cc2ccc(F)cc2)c2ccccc12)N[C@@H](CO)C(...     False  \n48  O=C(Cc1cn(Cc2ccc(F)cc2)c2ccccc12)NCCSCC(=O)Nc1...     False  \n49  CCCC(NC(=O)Cc1cn(Cc2ccc(F)cc2)c2ccccc12)C(=O)N...     False  ",
      "text/html": "<div>\n<style scoped>\n    .dataframe tbody tr th:only-of-type {\n        vertical-align: middle;\n    }\n\n    .dataframe tbody tr th {\n        vertical-align: top;\n    }\n\n    .dataframe thead th {\n        text-align: right;\n    }\n</style>\n<table border=\"1\" class=\"dataframe\">\n  <thead>\n    <tr style=\"text-align: right;\">\n      <th></th>\n      <th>reactant1_structuralScore</th>\n      <th>reactant1_mw</th>\n      <th>reactant1_smi</th>\n      <th>reactant1_metadata</th>\n      <th>reactant2_structuralScore</th>\n      <th>reactant2_mw</th>\n      <th>reactant2_smi</th>\n      <th>reactant2_metadata</th>\n      <th>product_smi</th>\n      <th>is_pains</th>\n    </tr>\n  </thead>\n  <tbody>\n    <tr>\n      <th>0</th>\n      <td>0.0</td>\n      <td>283.100857</td>\n      <td>O=C(O)Cc1cn(Cc2ccc(F)cc2)c2ccccc12</td>\n      <td>NaN</td>\n      <td>0.000000</td>\n      <td>255.013619</td>\n      <td>Nc1ccc(S(=O)(=O)Nc2nccs2)cc1</td>\n      <td>NaN</td>\n      <td>O=C(Cc1cn(Cc2ccc(F)cc2)c2ccccc12)Nc1ccc(S(=O)(...</td>\n      <td>False</td>\n    </tr>\n    <tr>\n      <th>1</th>\n      <td>0.0</td>\n      <td>283.100857</td>\n      <td>O=C(O)Cc1cn(Cc2ccc(F)cc2)c2ccccc12</td>\n      <td>NaN</td>\n      <td>0.122741</td>\n      <td>361.448000</td>\n      <td>O=S(=O)(Nc1nccs1)c1ccc(NCc2ccccc2O)cc1</td>\n      <td>[{'catalogName': 'molport', 'catalogId': 'MolP...</td>\n      <td>O=C(Cc1cn(Cc2ccc(F)cc2)c2ccccc12)N(Cc1ccccc1O)...</td>\n      <td>True</td>\n    </tr>\n    <tr>\n      <th>2</th>\n      <td>0.0</td>\n      <td>283.100857</td>\n      <td>O=C(O)Cc1cn(Cc2ccc(F)cc2)c2ccccc12</td>\n      <td>NaN</td>\n      <td>0.134966</td>\n      <td>349.397000</td>\n      <td>O=C(Nc1ccc(S(=O)(=O)Nc2nccs2)cc1)c1cn[nH]c1</td>\n      <td>[{'catalogName': 'mcule_ultimate', 'catalogId'...</td>\n      <td>O=C(Nc1ccc(S(=O)(=O)Nc2nccs2)cc1)c1cnn(C(=O)Cc...</td>\n      <td>False</td>\n    </tr>\n    <tr>\n      <th>3</th>\n      <td>0.0</td>\n      <td>283.100857</td>\n      <td>O=C(O)Cc1cn(Cc2ccc(F)cc2)c2ccccc12</td>\n      <td>NaN</td>\n      <td>0.138392</td>\n      <td>259.348407</td>\n      <td>[2H]c1c([2H])c(S(=O)(=O)Nc2nccs2)c([2H])c([2H]...</td>\n      <td>[{'catalogName': 'enamine_bb', 'catalogId': 'E...</td>\n      <td>[2H]c1c([2H])c(S(=O)(=O)Nc2nccs2)c([2H])c([2H]...</td>\n      <td>False</td>\n    </tr>\n    <tr>\n      <th>4</th>\n      <td>0.0</td>\n      <td>283.100857</td>\n      <td>O=C(O)Cc1cn(Cc2ccc(F)cc2)c2ccccc12</td>\n      <td>NaN</td>\n      <td>0.148876</td>\n      <td>309.416000</td>\n      <td>Cc1cnc(NS(=O)(=O)c2ccc3c(c2)CCCN3)s1</td>\n      <td>[{'catalogName': 'enamine_made', 'catalogId': ...</td>\n      <td>Cc1cnc(NS(=O)(=O)c2ccc3c(c2)CCCN3C(=O)Cc2cn(Cc...</td>\n      <td>False</td>\n    </tr>\n    <tr>\n      <th>5</th>\n      <td>0.0</td>\n      <td>283.100857</td>\n      <td>O=C(O)Cc1cn(Cc2ccc(F)cc2)c2ccccc12</td>\n      <td>NaN</td>\n      <td>0.156467</td>\n      <td>309.416000</td>\n      <td>Cc1csc(NS(=O)(=O)c2ccc3c(c2)CCCN3)n1</td>\n      <td>[{'catalogName': 'enamine_made', 'catalogId': ...</td>\n      <td>Cc1csc(NS(=O)(=O)c2ccc3c(c2)CCCN3C(=O)Cc2cn(Cc...</td>\n      <td>False</td>\n    </tr>\n    <tr>\n      <th>6</th>\n      <td>0.0</td>\n      <td>283.100857</td>\n      <td>O=C(O)Cc1cn(Cc2ccc(F)cc2)c2ccccc12</td>\n      <td>NaN</td>\n      <td>0.158918</td>\n      <td>364.412000</td>\n      <td>Cc1nnc(Nc2ccc(S(=O)(=O)Nc3nccs3)cc2)[nH]c1=O</td>\n      <td>[{'catalogName': 'molport', 'catalogId': 'MolP...</td>\n      <td>Cc1nnc(N(C(=O)Cc2cn(Cc3ccc(F)cc3)c3ccccc23)c2c...</td>\n      <td>False</td>\n    </tr>\n    <tr>\n      <th>7</th>\n      <td>0.0</td>\n      <td>283.100857</td>\n      <td>O=C(O)Cc1cn(Cc2ccc(F)cc2)c2ccccc12</td>\n      <td>NaN</td>\n      <td>0.158918</td>\n      <td>364.412000</td>\n      <td>Cc1nnc(Nc2ccc(S(=O)(=O)Nc3nccs3)cc2)[nH]c1=O</td>\n      <td>[{'catalogName': 'molport', 'catalogId': 'MolP...</td>\n      <td>Cc1nnc(Nc2ccc(S(=O)(=O)Nc3nccs3)cc2)n(C(=O)Cc2...</td>\n      <td>False</td>\n    </tr>\n    <tr>\n      <th>8</th>\n      <td>0.0</td>\n      <td>283.100857</td>\n      <td>O=C(O)Cc1cn(Cc2ccc(F)cc2)c2ccccc12</td>\n      <td>NaN</td>\n      <td>0.159766</td>\n      <td>354.457000</td>\n      <td>CCC(C)(N)C(=O)Nc1ccc(S(=O)(=O)Nc2nccs2)cc1</td>\n      <td>[{'catalogName': 'mcule', 'catalogId': 'MCULE-...</td>\n      <td>CCC(C)(NC(=O)Cc1cn(Cc2ccc(F)cc2)c2ccccc12)C(=O...</td>\n      <td>False</td>\n    </tr>\n    <tr>\n      <th>9</th>\n      <td>0.0</td>\n      <td>283.100857</td>\n      <td>O=C(O)Cc1cn(Cc2ccc(F)cc2)c2ccccc12</td>\n      <td>NaN</td>\n      <td>0.186391</td>\n      <td>313.360000</td>\n      <td>Nc1ccc(S(=O)(=O)Nc2nc(CC(=O)O)cs2)cc1</td>\n      <td>[{'catalogName': 'emolecules', 'catalogId': '4...</td>\n      <td>O=C(O)Cc1csc(NS(=O)(=O)c2ccc(NC(=O)Cc3cn(Cc4cc...</td>\n      <td>False</td>\n    </tr>\n    <tr>\n      <th>10</th>\n      <td>0.0</td>\n      <td>283.100857</td>\n      <td>O=C(O)Cc1cn(Cc2ccc(F)cc2)c2ccccc12</td>\n      <td>NaN</td>\n      <td>0.186584</td>\n      <td>269.351000</td>\n      <td>Cc1cnc(NS(=O)(=O)c2ccc(N)cc2)s1</td>\n      <td>[{'catalogName': 'enamine_bb', 'catalogId': 'E...</td>\n      <td>Cc1cnc(NS(=O)(=O)c2ccc(NC(=O)Cc3cn(Cc4ccc(F)cc...</td>\n      <td>False</td>\n    </tr>\n    <tr>\n      <th>11</th>\n      <td>0.0</td>\n      <td>283.100857</td>\n      <td>O=C(O)Cc1cn(Cc2ccc(F)cc2)c2ccccc12</td>\n      <td>NaN</td>\n      <td>0.202139</td>\n      <td>347.425000</td>\n      <td>Cc1cc(Nc2ccc(S(=O)(=O)Nc3nccs3)cc2)ncn1</td>\n      <td>[{'catalogName': 'molport', 'catalogId': 'MolP...</td>\n      <td>Cc1cc(N(C(=O)Cc2cn(Cc3ccc(F)cc3)c3ccccc23)c2cc...</td>\n      <td>False</td>\n    </tr>\n    <tr>\n      <th>12</th>\n      <td>0.0</td>\n      <td>283.100857</td>\n      <td>O=C(O)Cc1cn(Cc2ccc(F)cc2)c2ccccc12</td>\n      <td>NaN</td>\n      <td>0.219641</td>\n      <td>295.389000</td>\n      <td>Cc1cnc(NS(=O)(=O)c2ccc3c(c2)CCN3)s1</td>\n      <td>[{'catalogName': 'enamine_made', 'catalogId': ...</td>\n      <td>Cc1cnc(NS(=O)(=O)c2ccc3c(c2)CCN3C(=O)Cc2cn(Cc3...</td>\n      <td>False</td>\n    </tr>\n    <tr>\n      <th>13</th>\n      <td>0.0</td>\n      <td>283.100857</td>\n      <td>O=C(O)Cc1cn(Cc2ccc(F)cc2)c2ccccc12</td>\n      <td>NaN</td>\n      <td>0.226157</td>\n      <td>281.362000</td>\n      <td>O=S(=O)(Nc1nccs1)c1ccc2c(c1)CCN2</td>\n      <td>[{'catalogName': 'enamine_made', 'catalogId': ...</td>\n      <td>O=C(Cc1cn(Cc2ccc(F)cc2)c2ccccc12)N1CCc2cc(S(=O...</td>\n      <td>False</td>\n    </tr>\n    <tr>\n      <th>14</th>\n      <td>0.0</td>\n      <td>283.100857</td>\n      <td>O=C(O)Cc1cn(Cc2ccc(F)cc2)c2ccccc12</td>\n      <td>NaN</td>\n      <td>0.226865</td>\n      <td>340.430000</td>\n      <td>CCC(N)C(=O)Nc1ccc(S(=O)(=O)Nc2nccs2)cc1</td>\n      <td>[{'catalogName': 'enamine_real', 'catalogId': ...</td>\n      <td>CCC(NC(=O)Cc1cn(Cc2ccc(F)cc2)c2ccccc12)C(=O)Nc...</td>\n      <td>False</td>\n    </tr>\n    <tr>\n      <th>15</th>\n      <td>0.0</td>\n      <td>283.100857</td>\n      <td>O=C(O)Cc1cn(Cc2ccc(F)cc2)c2ccccc12</td>\n      <td>NaN</td>\n      <td>0.228543</td>\n      <td>270.339000</td>\n      <td>NNc1ccc(S(=O)(=O)Nc2nccs2)cc1</td>\n      <td>[{'catalogName': 'enamine_bb', 'catalogId': 'E...</td>\n      <td>O=C(Cc1cn(Cc2ccc(F)cc2)c2ccccc12)NNc1ccc(S(=O)...</td>\n      <td>False</td>\n    </tr>\n    <tr>\n      <th>16</th>\n      <td>0.0</td>\n      <td>283.100857</td>\n      <td>O=C(O)Cc1cn(Cc2ccc(F)cc2)c2ccccc12</td>\n      <td>NaN</td>\n      <td>0.228543</td>\n      <td>270.339000</td>\n      <td>NNc1ccc(S(=O)(=O)Nc2nccs2)cc1</td>\n      <td>[{'catalogName': 'enamine_bb', 'catalogId': 'E...</td>\n      <td>NN(C(=O)Cc1cn(Cc2ccc(F)cc2)c2ccccc12)c1ccc(S(=...</td>\n      <td>False</td>\n    </tr>\n    <tr>\n      <th>17</th>\n      <td>0.0</td>\n      <td>283.100857</td>\n      <td>O=C(O)Cc1cn(Cc2ccc(F)cc2)c2ccccc12</td>\n      <td>NaN</td>\n      <td>0.235415</td>\n      <td>312.376000</td>\n      <td>NCC(=O)Nc1ccc(S(=O)(=O)Nc2nccs2)cc1</td>\n      <td>[{'catalogName': 'enamine_real', 'catalogId': ...</td>\n      <td>O=C(Cc1cn(Cc2ccc(F)cc2)c2ccccc12)NCC(=O)Nc1ccc...</td>\n      <td>False</td>\n    </tr>\n    <tr>\n      <th>18</th>\n      <td>0.0</td>\n      <td>283.100857</td>\n      <td>O=C(O)Cc1cn(Cc2ccc(F)cc2)c2ccccc12</td>\n      <td>NaN</td>\n      <td>0.236433</td>\n      <td>353.454000</td>\n      <td>Cc1nnc(Nc2ccc(S(=O)(=O)Nc3nccs3)cc2)s1</td>\n      <td>[{'catalogName': 'mcule', 'catalogId': 'MCULE-...</td>\n      <td>Cc1nnc(N(C(=O)Cc2cn(Cc3ccc(F)cc3)c3ccccc23)c2c...</td>\n      <td>False</td>\n    </tr>\n    <tr>\n      <th>19</th>\n      <td>0.0</td>\n      <td>283.100857</td>\n      <td>O=C(O)Cc1cn(Cc2ccc(F)cc2)c2ccccc12</td>\n      <td>NaN</td>\n      <td>0.241049</td>\n      <td>326.403000</td>\n      <td>CNCC(=O)Nc1ccc(S(=O)(=O)Nc2nccs2)cc1</td>\n      <td>[{'catalogName': 'enamine_real', 'catalogId': ...</td>\n      <td>CN(CC(=O)Nc1ccc(S(=O)(=O)Nc2nccs2)cc1)C(=O)Cc1...</td>\n      <td>False</td>\n    </tr>\n    <tr>\n      <th>20</th>\n      <td>0.0</td>\n      <td>283.100857</td>\n      <td>O=C(O)Cc1cn(Cc2ccc(F)cc2)c2ccccc12</td>\n      <td>NaN</td>\n      <td>0.247969</td>\n      <td>350.385000</td>\n      <td>O=C(Nc1ccc(S(=O)(=O)Nc2nccs2)cc1)c1nc[nH]n1</td>\n      <td>[{'catalogName': 'enamine_real', 'catalogId': ...</td>\n      <td>O=C(Nc1ccc(S(=O)(=O)Nc2nccs2)cc1)c1ncn(C(=O)Cc...</td>\n      <td>False</td>\n    </tr>\n    <tr>\n      <th>21</th>\n      <td>0.0</td>\n      <td>283.100857</td>\n      <td>O=C(O)Cc1cn(Cc2ccc(F)cc2)c2ccccc12</td>\n      <td>NaN</td>\n      <td>0.249232</td>\n      <td>351.478000</td>\n      <td>O=S(=O)(Nc1nccs1)c1ccc(NCc2cccs2)cc1</td>\n      <td>[{'catalogName': 'emolecules', 'catalogId': '4...</td>\n      <td>O=C(Cc1cn(Cc2ccc(F)cc2)c2ccccc12)N(Cc1cccs1)c1...</td>\n      <td>False</td>\n    </tr>\n    <tr>\n      <th>22</th>\n      <td>0.0</td>\n      <td>283.100857</td>\n      <td>O=C(O)Cc1cn(Cc2ccc(F)cc2)c2ccccc12</td>\n      <td>NaN</td>\n      <td>0.254687</td>\n      <td>326.403000</td>\n      <td>CC(N)C(=O)Nc1ccc(S(=O)(=O)Nc2nccs2)cc1</td>\n      <td>[{'catalogName': 'enamine_real', 'catalogId': ...</td>\n      <td>CC(NC(=O)Cc1cn(Cc2ccc(F)cc2)c2ccccc12)C(=O)Nc1...</td>\n      <td>False</td>\n    </tr>\n    <tr>\n      <th>23</th>\n      <td>0.0</td>\n      <td>283.100857</td>\n      <td>O=C(O)Cc1cn(Cc2ccc(F)cc2)c2ccccc12</td>\n      <td>NaN</td>\n      <td>0.259942</td>\n      <td>354.457000</td>\n      <td>CC(C)C(N)C(=O)Nc1ccc(S(=O)(=O)Nc2nccs2)cc1</td>\n      <td>[{'catalogName': 'enamine_real', 'catalogId': ...</td>\n      <td>CC(C)C(NC(=O)Cc1cn(Cc2ccc(F)cc2)c2ccccc12)C(=O...</td>\n      <td>False</td>\n    </tr>\n    <tr>\n      <th>24</th>\n      <td>0.0</td>\n      <td>283.100857</td>\n      <td>O=C(O)Cc1cn(Cc2ccc(F)cc2)c2ccccc12</td>\n      <td>NaN</td>\n      <td>0.260296</td>\n      <td>354.457000</td>\n      <td>CC(C)[C@H](N)C(=O)Nc1ccc(S(=O)(=O)Nc2nccs2)cc1</td>\n      <td>[{'catalogName': 'enamine_real', 'catalogId': ...</td>\n      <td>CC(C)[C@H](NC(=O)Cc1cn(Cc2ccc(F)cc2)c2ccccc12)...</td>\n      <td>False</td>\n    </tr>\n    <tr>\n      <th>25</th>\n      <td>0.0</td>\n      <td>283.100857</td>\n      <td>O=C(O)Cc1cn(Cc2ccc(F)cc2)c2ccccc12</td>\n      <td>NaN</td>\n      <td>0.261713</td>\n      <td>269.351000</td>\n      <td>Cc1csc(NS(=O)(=O)c2ccc(N)cc2)n1</td>\n      <td>[{'catalogName': 'enamine_made', 'catalogId': ...</td>\n      <td>Cc1csc(NS(=O)(=O)c2ccc(NC(=O)Cc3cn(Cc4ccc(F)cc...</td>\n      <td>False</td>\n    </tr>\n    <tr>\n      <th>26</th>\n      <td>0.0</td>\n      <td>283.100857</td>\n      <td>O=C(O)Cc1cn(Cc2ccc(F)cc2)c2ccccc12</td>\n      <td>NaN</td>\n      <td>0.262018</td>\n      <td>348.409000</td>\n      <td>O=C(Nc1ccc(S(=O)(=O)Nc2nccs2)cc1)c1ccc[nH]1</td>\n      <td>[{'catalogName': 'enamine_real', 'catalogId': ...</td>\n      <td>O=C(Nc1ccc(S(=O)(=O)Nc2nccs2)cc1)c1cccn1C(=O)C...</td>\n      <td>False</td>\n    </tr>\n    <tr>\n      <th>27</th>\n      <td>0.0</td>\n      <td>283.100857</td>\n      <td>O=C(O)Cc1cn(Cc2ccc(F)cc2)c2ccccc12</td>\n      <td>NaN</td>\n      <td>0.264380</td>\n      <td>396.479000</td>\n      <td>O=C(CSc1nnc[nH]1)Nc1ccc(S(=O)(=O)Nc2nccs2)cc1</td>\n      <td>[{'catalogName': 'molport', 'catalogId': 'MolP...</td>\n      <td>O=C(CSc1nncn1C(=O)Cc1cn(Cc2ccc(F)cc2)c2ccccc12...</td>\n      <td>False</td>\n    </tr>\n    <tr>\n      <th>28</th>\n      <td>0.0</td>\n      <td>283.100857</td>\n      <td>O=C(O)Cc1cn(Cc2ccc(F)cc2)c2ccccc12</td>\n      <td>NaN</td>\n      <td>0.271040</td>\n      <td>349.393000</td>\n      <td>Nc1ccc(S(=O)(=O)Nc2nc3ccc(C(=O)O)cc3s2)cc1</td>\n      <td>[{'catalogName': 'molport', 'catalogId': 'MolP...</td>\n      <td>O=C(Cc1cn(Cc2ccc(F)cc2)c2ccccc12)Nc1ccc(S(=O)(...</td>\n      <td>False</td>\n    </tr>\n    <tr>\n      <th>29</th>\n      <td>0.0</td>\n      <td>283.100857</td>\n      <td>O=C(O)Cc1cn(Cc2ccc(F)cc2)c2ccccc12</td>\n      <td>NaN</td>\n      <td>0.271929</td>\n      <td>335.410000</td>\n      <td>O=S(=O)(Nc1nccs1)c1ccc(NCc2ccco2)cc1</td>\n      <td>[{'catalogName': 'emolecules', 'catalogId': '4...</td>\n      <td>O=C(Cc1cn(Cc2ccc(F)cc2)c2ccccc12)N(Cc1ccco1)c1...</td>\n      <td>False</td>\n    </tr>\n    <tr>\n      <th>30</th>\n      <td>0.0</td>\n      <td>283.100857</td>\n      <td>O=C(O)Cc1cn(Cc2ccc(F)cc2)c2ccccc12</td>\n      <td>NaN</td>\n      <td>0.274908</td>\n      <td>350.385000</td>\n      <td>O=C(Nc1ccc(S(=O)(=O)Nc2nccs2)cc1)c1cn[nH]n1</td>\n      <td>[{'catalogName': 'enamine_real', 'catalogId': ...</td>\n      <td>O=C(Nc1ccc(S(=O)(=O)Nc2nccs2)cc1)c1cnn(C(=O)Cc...</td>\n      <td>False</td>\n    </tr>\n    <tr>\n      <th>31</th>\n      <td>0.0</td>\n      <td>283.100857</td>\n      <td>O=C(O)Cc1cn(Cc2ccc(F)cc2)c2ccccc12</td>\n      <td>NaN</td>\n      <td>0.279839</td>\n      <td>348.409000</td>\n      <td>O=C(Nc1ccc(S(=O)(=O)Nc2nccs2)cc1)c1cc[nH]c1</td>\n      <td>[{'catalogName': 'enamine_real', 'catalogId': ...</td>\n      <td>O=C(Nc1ccc(S(=O)(=O)Nc2nccs2)cc1)c1ccn(C(=O)Cc...</td>\n      <td>False</td>\n    </tr>\n    <tr>\n      <th>32</th>\n      <td>0.0</td>\n      <td>283.100857</td>\n      <td>O=C(O)Cc1cn(Cc2ccc(F)cc2)c2ccccc12</td>\n      <td>NaN</td>\n      <td>0.283250</td>\n      <td>349.397000</td>\n      <td>O=C(Nc1ccc(S(=O)(=O)Nc2nccs2)cc1)c1ccn[nH]1</td>\n      <td>[{'catalogName': 'enamine_real', 'catalogId': ...</td>\n      <td>O=C(Nc1ccc(S(=O)(=O)Nc2nccs2)cc1)c1ccnn1C(=O)C...</td>\n      <td>False</td>\n    </tr>\n    <tr>\n      <th>33</th>\n      <td>0.0</td>\n      <td>283.100857</td>\n      <td>O=C(O)Cc1cn(Cc2ccc(F)cc2)c2ccccc12</td>\n      <td>NaN</td>\n      <td>0.291311</td>\n      <td>261.278129</td>\n      <td>N[13c]1[13cH][13cH][13c](S(=O)(=O)Nc2nccs2)[13...</td>\n      <td>[{'catalogName': 'enamine_bb', 'catalogId': 'E...</td>\n      <td>O=C(Cc1cn(Cc2ccc(F)cc2)c2ccccc12)N[13c]1[13cH]...</td>\n      <td>False</td>\n    </tr>\n    <tr>\n      <th>34</th>\n      <td>0.0</td>\n      <td>283.100857</td>\n      <td>O=C(O)Cc1cn(Cc2ccc(F)cc2)c2ccccc12</td>\n      <td>NaN</td>\n      <td>0.294114</td>\n      <td>295.389000</td>\n      <td>O=S(=O)(Nc1nccs1)c1ccc2c(c1)CCCN2</td>\n      <td>[{'catalogName': 'enamine_made', 'catalogId': ...</td>\n      <td>O=C(Cc1cn(Cc2ccc(F)cc2)c2ccccc12)N1CCCc2cc(S(=...</td>\n      <td>False</td>\n    </tr>\n    <tr>\n      <th>35</th>\n      <td>0.0</td>\n      <td>283.100857</td>\n      <td>O=C(O)Cc1cn(Cc2ccc(F)cc2)c2ccccc12</td>\n      <td>NaN</td>\n      <td>0.307733</td>\n      <td>519.240000</td>\n      <td>O=S(=O)(Nc1nccs1)c1ccc(NCc2cc(Br)cc(Br)c2O)cc1</td>\n      <td>[{'catalogName': 'enamine_bb', 'catalogId': 'Z...</td>\n      <td>O=C(Cc1cn(Cc2ccc(F)cc2)c2ccccc12)N(Cc1cc(Br)cc...</td>\n      <td>True</td>\n    </tr>\n    <tr>\n      <th>36</th>\n      <td>0.0</td>\n      <td>283.100857</td>\n      <td>O=C(O)Cc1cn(Cc2ccc(F)cc2)c2ccccc12</td>\n      <td>NaN</td>\n      <td>0.315155</td>\n      <td>396.479000</td>\n      <td>O=C(CSc1cnn[nH]1)Nc1ccc(S(=O)(=O)Nc2nccs2)cc1</td>\n      <td>[{'catalogName': 'molport', 'catalogId': 'MolP...</td>\n      <td>O=C(CSc1cnnn1C(=O)Cc1cn(Cc2ccc(F)cc2)c2ccccc12...</td>\n      <td>False</td>\n    </tr>\n    <tr>\n      <th>37</th>\n      <td>0.0</td>\n      <td>283.100857</td>\n      <td>O=C(O)Cc1cn(Cc2ccc(F)cc2)c2ccccc12</td>\n      <td>NaN</td>\n      <td>0.359115</td>\n      <td>333.398000</td>\n      <td>O=S(=O)(Nc1nccs1)c1ccc(Nc2ncccn2)cc1</td>\n      <td>[{'catalogName': 'mcule', 'catalogId': 'MCULE-...</td>\n      <td>O=C(Cc1cn(Cc2ccc(F)cc2)c2ccccc12)N(c1ccc(S(=O)...</td>\n      <td>False</td>\n    </tr>\n    <tr>\n      <th>38</th>\n      <td>0.0</td>\n      <td>283.100857</td>\n      <td>O=C(O)Cc1cn(Cc2ccc(F)cc2)c2ccccc12</td>\n      <td>NaN</td>\n      <td>0.370951</td>\n      <td>339.486000</td>\n      <td>CC(C)CC(C)Nc1ccc(S(=O)(=O)Nc2nccs2)cc1</td>\n      <td>[{'catalogName': 'mcule', 'catalogId': 'MCULE-...</td>\n      <td>CC(C)CC(C)N(C(=O)Cc1cn(Cc2ccc(F)cc2)c2ccccc12)...</td>\n      <td>False</td>\n    </tr>\n    <tr>\n      <th>39</th>\n      <td>0.0</td>\n      <td>283.100857</td>\n      <td>O=C(O)Cc1cn(Cc2ccc(F)cc2)c2ccccc12</td>\n      <td>NaN</td>\n      <td>0.372599</td>\n      <td>326.403000</td>\n      <td>C[C@H](N)C(=O)Nc1ccc(S(=O)(=O)Nc2nccs2)cc1</td>\n      <td>[{'catalogName': 'enamine_real', 'catalogId': ...</td>\n      <td>C[C@H](NC(=O)Cc1cn(Cc2ccc(F)cc2)c2ccccc12)C(=O...</td>\n      <td>False</td>\n    </tr>\n    <tr>\n      <th>40</th>\n      <td>0.0</td>\n      <td>283.100857</td>\n      <td>O=C(O)Cc1cn(Cc2ccc(F)cc2)c2ccccc12</td>\n      <td>NaN</td>\n      <td>0.386954</td>\n      <td>326.403000</td>\n      <td>NCCC(=O)Nc1ccc(S(=O)(=O)Nc2nccs2)cc1</td>\n      <td>[{'catalogName': 'enamine_real', 'catalogId': ...</td>\n      <td>O=C(Cc1cn(Cc2ccc(F)cc2)c2ccccc12)NCCC(=O)Nc1cc...</td>\n      <td>False</td>\n    </tr>\n    <tr>\n      <th>41</th>\n      <td>0.0</td>\n      <td>283.100857</td>\n      <td>O=C(O)Cc1cn(Cc2ccc(F)cc2)c2ccccc12</td>\n      <td>NaN</td>\n      <td>0.391722</td>\n      <td>345.449000</td>\n      <td>O=S(=O)(Nc1nccs1)c1ccc(NCc2ccccc2)cc1</td>\n      <td>[{'catalogName': 'emolecules', 'catalogId': '4...</td>\n      <td>O=C(Cc1cn(Cc2ccc(F)cc2)c2ccccc12)N(Cc1ccccc1)c...</td>\n      <td>False</td>\n    </tr>\n    <tr>\n      <th>42</th>\n      <td>0.0</td>\n      <td>283.100857</td>\n      <td>O=C(O)Cc1cn(Cc2ccc(F)cc2)c2ccccc12</td>\n      <td>NaN</td>\n      <td>0.400774</td>\n      <td>295.389000</td>\n      <td>Cc1csc(NS(=O)(=O)c2ccc3c(c2)CCN3)n1</td>\n      <td>[{'catalogName': 'enamine_made', 'catalogId': ...</td>\n      <td>Cc1csc(NS(=O)(=O)c2ccc3c(c2)CCN3C(=O)Cc2cn(Cc3...</td>\n      <td>False</td>\n    </tr>\n    <tr>\n      <th>43</th>\n      <td>0.0</td>\n      <td>283.100857</td>\n      <td>O=C(O)Cc1cn(Cc2ccc(F)cc2)c2ccccc12</td>\n      <td>NaN</td>\n      <td>0.435310</td>\n      <td>354.457000</td>\n      <td>NCCCCC(=O)Nc1ccc(S(=O)(=O)Nc2nccs2)cc1</td>\n      <td>[{'catalogName': 'enamine_real', 'catalogId': ...</td>\n      <td>O=C(Cc1cn(Cc2ccc(F)cc2)c2ccccc12)NCCCCC(=O)Nc1...</td>\n      <td>False</td>\n    </tr>\n    <tr>\n      <th>44</th>\n      <td>0.0</td>\n      <td>283.100857</td>\n      <td>O=C(O)Cc1cn(Cc2ccc(F)cc2)c2ccccc12</td>\n      <td>NaN</td>\n      <td>0.440808</td>\n      <td>340.430000</td>\n      <td>NCCCC(=O)Nc1ccc(S(=O)(=O)Nc2nccs2)cc1</td>\n      <td>[{'catalogName': 'mcule', 'catalogId': 'MCULE-...</td>\n      <td>O=C(Cc1cn(Cc2ccc(F)cc2)c2ccccc12)NCCCC(=O)Nc1c...</td>\n      <td>False</td>\n    </tr>\n    <tr>\n      <th>45</th>\n      <td>0.0</td>\n      <td>283.100857</td>\n      <td>O=C(O)Cc1cn(Cc2ccc(F)cc2)c2ccccc12</td>\n      <td>NaN</td>\n      <td>0.468854</td>\n      <td>349.397000</td>\n      <td>O=C(Nc1ccc(S(=O)(=O)Nc2nccs2)cc1)c1c[nH]cn1</td>\n      <td>[{'catalogName': 'enamine_real', 'catalogId': ...</td>\n      <td>O=C(Nc1ccc(S(=O)(=O)Nc2nccs2)cc1)c1cn(C(=O)Cc2...</td>\n      <td>False</td>\n    </tr>\n    <tr>\n      <th>46</th>\n      <td>0.0</td>\n      <td>283.100857</td>\n      <td>O=C(O)Cc1cn(Cc2ccc(F)cc2)c2ccccc12</td>\n      <td>NaN</td>\n      <td>0.485313</td>\n      <td>254.316000</td>\n      <td>Nc1ccc(S(=O)(=O)[N-]c2nccs2)cc1</td>\n      <td>[{'catalogName': 'molport', 'catalogId': 'MolP...</td>\n      <td>O=C(Cc1cn(Cc2ccc(F)cc2)c2ccccc12)Nc1ccc(S(=O)(...</td>\n      <td>False</td>\n    </tr>\n    <tr>\n      <th>47</th>\n      <td>0.0</td>\n      <td>283.100857</td>\n      <td>O=C(O)Cc1cn(Cc2ccc(F)cc2)c2ccccc12</td>\n      <td>NaN</td>\n      <td>0.497114</td>\n      <td>342.402000</td>\n      <td>N[C@@H](CO)C(=O)Nc1ccc(S(=O)(=O)Nc2nccs2)cc1</td>\n      <td>[{'catalogName': 'mcule', 'catalogId': 'MCULE-...</td>\n      <td>O=C(Cc1cn(Cc2ccc(F)cc2)c2ccccc12)N[C@@H](CO)C(...</td>\n      <td>False</td>\n    </tr>\n    <tr>\n      <th>48</th>\n      <td>0.0</td>\n      <td>283.100857</td>\n      <td>O=C(O)Cc1cn(Cc2ccc(F)cc2)c2ccccc12</td>\n      <td>NaN</td>\n      <td>0.512040</td>\n      <td>372.497000</td>\n      <td>NCCSCC(=O)Nc1ccc(S(=O)(=O)Nc2nccs2)cc1</td>\n      <td>[{'catalogName': 'mcule', 'catalogId': 'MCULE-...</td>\n      <td>O=C(Cc1cn(Cc2ccc(F)cc2)c2ccccc12)NCCSCC(=O)Nc1...</td>\n      <td>False</td>\n    </tr>\n    <tr>\n      <th>49</th>\n      <td>0.0</td>\n      <td>283.100857</td>\n      <td>O=C(O)Cc1cn(Cc2ccc(F)cc2)c2ccccc12</td>\n      <td>NaN</td>\n      <td>0.667191</td>\n      <td>354.457000</td>\n      <td>CCCC(N)C(=O)Nc1ccc(S(=O)(=O)Nc2nccs2)cc1</td>\n      <td>[{'catalogName': 'enamine_real', 'catalogId': ...</td>\n      <td>CCCC(NC(=O)Cc1cn(Cc2ccc(F)cc2)c2ccccc12)C(=O)N...</td>\n      <td>False</td>\n    </tr>\n  </tbody>\n</table>\n</div>"
     },
     "execution_count": 25,
     "metadata": {},
     "output_type": "execute_result"
    }
   ],
   "source": [
    "# load dataframe of elaborated compounds\n",
    "df = pd.read_csv('/Users/kate_fieseler/PycharmProjects/retrievesynthesizable/NCS1/warren_yes_green_aug23/D2R-5/Amidation_O=C(Cc1cn(Cc2ccc(F)cc2)c2ccccc12)Nc1ccc(S(=O)(=O)Nc2nccs2)cc1/Amidation_50_analogs.csv')\n",
    "df"
   ],
   "metadata": {
    "collapsed": false,
    "ExecuteTime": {
     "end_time": "2023-08-24T07:31:32.901658Z",
     "start_time": "2023-08-24T07:31:32.824316Z"
    }
   }
  },
  {
   "cell_type": "code",
   "execution_count": 26,
   "outputs": [
    {
     "data": {
      "text/plain": "['O=C(Cc1cn(Cc2ccc(F)cc2)c2ccccc12)Nc1ccc(S(=O)(=O)Nc2nccs2)cc1',\n 'O=C(Cc1cn(Cc2ccc(F)cc2)c2ccccc12)N(Cc1ccccc1O)c1ccc(S(=O)(=O)Nc2nccs2)cc1',\n 'O=C(Nc1ccc(S(=O)(=O)Nc2nccs2)cc1)c1cnn(C(=O)Cc2cn(Cc3ccc(F)cc3)c3ccccc23)c1',\n '[2H]c1c([2H])c(S(=O)(=O)Nc2nccs2)c([2H])c([2H])c1NC(=O)Cc1cn(Cc2ccc(F)cc2)c2ccccc12',\n 'Cc1cnc(NS(=O)(=O)c2ccc3c(c2)CCCN3C(=O)Cc2cn(Cc3ccc(F)cc3)c3ccccc23)s1',\n 'Cc1csc(NS(=O)(=O)c2ccc3c(c2)CCCN3C(=O)Cc2cn(Cc3ccc(F)cc3)c3ccccc23)n1',\n 'Cc1nnc(N(C(=O)Cc2cn(Cc3ccc(F)cc3)c3ccccc23)c2ccc(S(=O)(=O)Nc3nccs3)cc2)[nH]c1=O',\n 'Cc1nnc(Nc2ccc(S(=O)(=O)Nc3nccs3)cc2)n(C(=O)Cc2cn(Cc3ccc(F)cc3)c3ccccc23)c1=O',\n 'CCC(C)(NC(=O)Cc1cn(Cc2ccc(F)cc2)c2ccccc12)C(=O)Nc1ccc(S(=O)(=O)Nc2nccs2)cc1',\n 'O=C(O)Cc1csc(NS(=O)(=O)c2ccc(NC(=O)Cc3cn(Cc4ccc(F)cc4)c4ccccc34)cc2)n1',\n 'Cc1cnc(NS(=O)(=O)c2ccc(NC(=O)Cc3cn(Cc4ccc(F)cc4)c4ccccc34)cc2)s1',\n 'Cc1cc(N(C(=O)Cc2cn(Cc3ccc(F)cc3)c3ccccc23)c2ccc(S(=O)(=O)Nc3nccs3)cc2)ncn1',\n 'Cc1cnc(NS(=O)(=O)c2ccc3c(c2)CCN3C(=O)Cc2cn(Cc3ccc(F)cc3)c3ccccc23)s1',\n 'O=C(Cc1cn(Cc2ccc(F)cc2)c2ccccc12)N1CCc2cc(S(=O)(=O)Nc3nccs3)ccc21',\n 'CCC(NC(=O)Cc1cn(Cc2ccc(F)cc2)c2ccccc12)C(=O)Nc1ccc(S(=O)(=O)Nc2nccs2)cc1',\n 'O=C(Cc1cn(Cc2ccc(F)cc2)c2ccccc12)NNc1ccc(S(=O)(=O)Nc2nccs2)cc1',\n 'NN(C(=O)Cc1cn(Cc2ccc(F)cc2)c2ccccc12)c1ccc(S(=O)(=O)Nc2nccs2)cc1',\n 'O=C(Cc1cn(Cc2ccc(F)cc2)c2ccccc12)NCC(=O)Nc1ccc(S(=O)(=O)Nc2nccs2)cc1',\n 'Cc1nnc(N(C(=O)Cc2cn(Cc3ccc(F)cc3)c3ccccc23)c2ccc(S(=O)(=O)Nc3nccs3)cc2)s1',\n 'CN(CC(=O)Nc1ccc(S(=O)(=O)Nc2nccs2)cc1)C(=O)Cc1cn(Cc2ccc(F)cc2)c2ccccc12',\n 'O=C(Nc1ccc(S(=O)(=O)Nc2nccs2)cc1)c1ncn(C(=O)Cc2cn(Cc3ccc(F)cc3)c3ccccc23)n1',\n 'O=C(Cc1cn(Cc2ccc(F)cc2)c2ccccc12)N(Cc1cccs1)c1ccc(S(=O)(=O)Nc2nccs2)cc1',\n 'CC(NC(=O)Cc1cn(Cc2ccc(F)cc2)c2ccccc12)C(=O)Nc1ccc(S(=O)(=O)Nc2nccs2)cc1',\n 'CC(C)C(NC(=O)Cc1cn(Cc2ccc(F)cc2)c2ccccc12)C(=O)Nc1ccc(S(=O)(=O)Nc2nccs2)cc1',\n 'CC(C)[C@H](NC(=O)Cc1cn(Cc2ccc(F)cc2)c2ccccc12)C(=O)Nc1ccc(S(=O)(=O)Nc2nccs2)cc1',\n 'Cc1csc(NS(=O)(=O)c2ccc(NC(=O)Cc3cn(Cc4ccc(F)cc4)c4ccccc34)cc2)n1',\n 'O=C(Nc1ccc(S(=O)(=O)Nc2nccs2)cc1)c1cccn1C(=O)Cc1cn(Cc2ccc(F)cc2)c2ccccc12',\n 'O=C(CSc1nncn1C(=O)Cc1cn(Cc2ccc(F)cc2)c2ccccc12)Nc1ccc(S(=O)(=O)Nc2nccs2)cc1',\n 'O=C(Cc1cn(Cc2ccc(F)cc2)c2ccccc12)Nc1ccc(S(=O)(=O)Nc2nc3ccc(C(=O)O)cc3s2)cc1',\n 'O=C(Cc1cn(Cc2ccc(F)cc2)c2ccccc12)N(Cc1ccco1)c1ccc(S(=O)(=O)Nc2nccs2)cc1',\n 'O=C(Nc1ccc(S(=O)(=O)Nc2nccs2)cc1)c1cnn(C(=O)Cc2cn(Cc3ccc(F)cc3)c3ccccc23)n1',\n 'O=C(Nc1ccc(S(=O)(=O)Nc2nccs2)cc1)c1ccn(C(=O)Cc2cn(Cc3ccc(F)cc3)c3ccccc23)c1',\n 'O=C(Nc1ccc(S(=O)(=O)Nc2nccs2)cc1)c1ccnn1C(=O)Cc1cn(Cc2ccc(F)cc2)c2ccccc12',\n 'O=C(Cc1cn(Cc2ccc(F)cc2)c2ccccc12)N[13c]1[13cH][13cH][13c](S(=O)(=O)Nc2nccs2)[13cH][13cH]1',\n 'O=C(Cc1cn(Cc2ccc(F)cc2)c2ccccc12)N1CCCc2cc(S(=O)(=O)Nc3nccs3)ccc21',\n 'O=C(Cc1cn(Cc2ccc(F)cc2)c2ccccc12)N(Cc1cc(Br)cc(Br)c1O)c1ccc(S(=O)(=O)Nc2nccs2)cc1',\n 'O=C(CSc1cnnn1C(=O)Cc1cn(Cc2ccc(F)cc2)c2ccccc12)Nc1ccc(S(=O)(=O)Nc2nccs2)cc1',\n 'O=C(Cc1cn(Cc2ccc(F)cc2)c2ccccc12)N(c1ccc(S(=O)(=O)Nc2nccs2)cc1)c1ncccn1',\n 'CC(C)CC(C)N(C(=O)Cc1cn(Cc2ccc(F)cc2)c2ccccc12)c1ccc(S(=O)(=O)Nc2nccs2)cc1',\n 'C[C@H](NC(=O)Cc1cn(Cc2ccc(F)cc2)c2ccccc12)C(=O)Nc1ccc(S(=O)(=O)Nc2nccs2)cc1',\n 'O=C(Cc1cn(Cc2ccc(F)cc2)c2ccccc12)NCCC(=O)Nc1ccc(S(=O)(=O)Nc2nccs2)cc1',\n 'O=C(Cc1cn(Cc2ccc(F)cc2)c2ccccc12)N(Cc1ccccc1)c1ccc(S(=O)(=O)Nc2nccs2)cc1',\n 'Cc1csc(NS(=O)(=O)c2ccc3c(c2)CCN3C(=O)Cc2cn(Cc3ccc(F)cc3)c3ccccc23)n1',\n 'O=C(Cc1cn(Cc2ccc(F)cc2)c2ccccc12)NCCCCC(=O)Nc1ccc(S(=O)(=O)Nc2nccs2)cc1',\n 'O=C(Cc1cn(Cc2ccc(F)cc2)c2ccccc12)NCCCC(=O)Nc1ccc(S(=O)(=O)Nc2nccs2)cc1',\n 'O=C(Nc1ccc(S(=O)(=O)Nc2nccs2)cc1)c1cn(C(=O)Cc2cn(Cc3ccc(F)cc3)c3ccccc23)cn1',\n 'O=C(Cc1cn(Cc2ccc(F)cc2)c2ccccc12)Nc1ccc(S(=O)(=O)[N-]c2nccs2)cc1',\n 'O=C(Cc1cn(Cc2ccc(F)cc2)c2ccccc12)N[C@@H](CO)C(=O)Nc1ccc(S(=O)(=O)Nc2nccs2)cc1',\n 'O=C(Cc1cn(Cc2ccc(F)cc2)c2ccccc12)NCCSCC(=O)Nc1ccc(S(=O)(=O)Nc2nccs2)cc1',\n 'CCCC(NC(=O)Cc1cn(Cc2ccc(F)cc2)c2ccccc12)C(=O)Nc1ccc(S(=O)(=O)Nc2nccs2)cc1']"
     },
     "execution_count": 26,
     "metadata": {},
     "output_type": "execute_result"
    }
   ],
   "source": [
    "smiles = df['product_smi'].tolist()\n",
    "smiles # original base compound is first"
   ],
   "metadata": {
    "collapsed": false,
    "ExecuteTime": {
     "end_time": "2023-08-24T07:31:36.580034Z",
     "start_time": "2023-08-24T07:31:36.539939Z"
    }
   }
  },
  {
   "cell_type": "code",
   "execution_count": 27,
   "outputs": [],
   "source": [
    "hits = Chem.SDMolSupplier('/Users/kate_fieseler/PycharmProjects/retrievesynthesizable/NCS1/warren_yes_green_aug23/D2R-5/Amidation_O=C(Cc1cn(Cc2ccc(F)cc2)c2ccccc12)Nc1ccc(S(=O)(=O)Nc2nccs2)cc1/placed/base/base_minimised.sdf')\n",
    "apo_file = '/Users/kate_fieseler/PycharmProjects/retrievesynthesizable/NCS1/fragmenstein_info/template-x0715.pdb'\n",
    "work_path = '/Users/kate_fieseler/PycharmProjects/retrievesynthesizable/NCS1/warren_yes_green_aug23/D2R-5/Amidation_O=C(Cc1cn(Cc2ccc(F)cc2)c2ccccc12)Nc1ccc(S(=O)(=O)Nc2nccs2)cc1/placed/'\n"
   ],
   "metadata": {
    "collapsed": false,
    "ExecuteTime": {
     "end_time": "2023-08-24T07:31:52.020240Z",
     "start_time": "2023-08-24T07:31:51.981502Z"
    }
   }
  },
  {
   "cell_type": "code",
   "execution_count": 14,
   "outputs": [],
   "source": [
    "# TEST IDEA 1\n",
    "smiles = 'CC1CC(C)CN(CCN(C)C(=O)C=C2CC3CNC2C3)C1'\n",
    "apo_file = '/Users/kate_fieseler/Library/CloudStorage/OneDrive-Nexus365/Project4_Compound_Coloring/data/D68EV3CPROA/d68_fragment_apofiles/D68EV3CPROA-x0771_0A_apo-desolv.pdb'"
   ],
   "metadata": {
    "collapsed": false,
    "ExecuteTime": {
     "end_time": "2023-08-03T15:03:47.409861Z",
     "start_time": "2023-08-03T15:03:47.384327Z"
    }
   }
  },
  {
   "cell_type": "code",
   "execution_count": 15,
   "outputs": [
    {
     "name": "stderr",
     "output_type": "stream",
     "text": [
      "elaborated-compound1 - Folder /Users/kate_fieseler/Library/CloudStorage/OneDrive-Nexus365/Project4_Compound_Coloring/data/test_placement_Aug3/elaborated-compound1 exists.\n"
     ]
    },
    {
     "name": "stdout",
     "output_type": "stream",
     "text": [
      "PyRosetta-4 2023 [Rosetta PyRosetta4.conda.m1.cxx11thread.serialization.python39.Release 2023.21+release.9b3660a893207250b5c6735d08f5a4dcd45633c5 2023-05-26T08:14:51] retrieved from: http://www.pyrosetta.org\n",
      "(C) Copyright Rosetta Commons Member Institutions. Created in JHU by Sergey Lyskov and PyRosetta Team.\n"
     ]
    }
   ],
   "source": [
    "# TEST IDEA 1\n",
    "run_fragmenstein([base_mol],\n",
    "                 apo_file,\n",
    "                 'Users/kate_fieseler/Library/CloudStorage/OneDrive-Nexus365/Project4_Compound_Coloring/data/test_placement_Aug3/',\n",
    "                 smiles,\n",
    "                 'elaborated_compound1')"
   ],
   "metadata": {
    "collapsed": false,
    "ExecuteTime": {
     "end_time": "2023-08-03T15:04:06.803416Z",
     "start_time": "2023-08-03T15:03:47.998743Z"
    }
   }
  },
  {
   "cell_type": "code",
   "execution_count": 28,
   "outputs": [
    {
     "name": "stdout",
     "output_type": "stream",
     "text": [
      "PyRosetta-4 2023 [Rosetta PyRosetta4.conda.m1.cxx11thread.serialization.python39.Release 2023.21+release.9b3660a893207250b5c6735d08f5a4dcd45633c5 2023-05-26T08:14:51] retrieved from: http://www.pyrosetta.org\n",
      "(C) Copyright Rosetta Commons Member Institutions. Created in JHU by Sergey Lyskov and PyRosetta Team.\n",
      "PyRosetta-4 2023 [Rosetta PyRosetta4.conda.m1.cxx11thread.serialization.python39.Release 2023.21+release.9b3660a893207250b5c6735d08f5a4dcd45633c5 2023-05-26T08:14:51] retrieved from: http://www.pyrosetta.org\n",
      "(C) Copyright Rosetta Commons Member Institutions. Created in JHU by Sergey Lyskov and PyRosetta Team.\n",
      "PyRosetta-4 2023 [Rosetta PyRosetta4.conda.m1.cxx11thread.serialization.python39.Release 2023.21+release.9b3660a893207250b5c6735d08f5a4dcd45633c5 2023-05-26T08:14:51] retrieved from: http://www.pyrosetta.org\n",
      "(C) Copyright Rosetta Commons Member Institutions. Created in JHU by Sergey Lyskov and PyRosetta Team.\n",
      "PyRosetta-4 2023 [Rosetta PyRosetta4.conda.m1.cxx11thread.serialization.python39.Release 2023.21+release.9b3660a893207250b5c6735d08f5a4dcd45633c5 2023-05-26T08:14:51] retrieved from: http://www.pyrosetta.org\n",
      "(C) Copyright Rosetta Commons Member Institutions. Created in JHU by Sergey Lyskov and PyRosetta Team.\n",
      "PyRosetta-4 2023 [Rosetta PyRosetta4.conda.m1.cxx11thread.serialization.python39.Release 2023.21+release.9b3660a893207250b5c6735d08f5a4dcd45633c5 2023-05-26T08:14:51] retrieved from: http://www.pyrosetta.org\n",
      "(C) Copyright Rosetta Commons Member Institutions. Created in JHU by Sergey Lyskov and PyRosetta Team.\n",
      "PyRosetta-4 2023 [Rosetta PyRosetta4.conda.m1.cxx11thread.serialization.python39.Release 2023.21+release.9b3660a893207250b5c6735d08f5a4dcd45633c5 2023-05-26T08:14:51] retrieved from: http://www.pyrosetta.org\n",
      "(C) Copyright Rosetta Commons Member Institutions. Created in JHU by Sergey Lyskov and PyRosetta Team.\n",
      "PyRosetta-4 2023 [Rosetta PyRosetta4.conda.m1.cxx11thread.serialization.python39.Release 2023.21+release.9b3660a893207250b5c6735d08f5a4dcd45633c5 2023-05-26T08:14:51] retrieved from: http://www.pyrosetta.org\n",
      "(C) Copyright Rosetta Commons Member Institutions. Created in JHU by Sergey Lyskov and PyRosetta Team.\n",
      "PyRosetta-4 2023 [Rosetta PyRosetta4.conda.m1.cxx11thread.serialization.python39.Release 2023.21+release.9b3660a893207250b5c6735d08f5a4dcd45633c5 2023-05-26T08:14:51] retrieved from: http://www.pyrosetta.org\n",
      "(C) Copyright Rosetta Commons Member Institutions. Created in JHU by Sergey Lyskov and PyRosetta Team.\n"
     ]
    },
    {
     "name": "stderr",
     "output_type": "stream",
     "text": [
      "D2R-5-elaborated-frag-8 - failed to minimise without constraints:  22.575643733252363 kcal/mol.\n"
     ]
    },
    {
     "name": "stdout",
     "output_type": "stream",
     "text": [
      "PyRosetta-4 2023 [Rosetta PyRosetta4.conda.m1.cxx11thread.serialization.python39.Release 2023.21+release.9b3660a893207250b5c6735d08f5a4dcd45633c5 2023-05-26T08:14:51] retrieved from: http://www.pyrosetta.org\n",
      "(C) Copyright Rosetta Commons Member Institutions. Created in JHU by Sergey Lyskov and PyRosetta Team.\n",
      "PyRosetta-4 2023 [Rosetta PyRosetta4.conda.m1.cxx11thread.serialization.python39.Release 2023.21+release.9b3660a893207250b5c6735d08f5a4dcd45633c5 2023-05-26T08:14:51] retrieved from: http://www.pyrosetta.org\n",
      "(C) Copyright Rosetta Commons Member Institutions. Created in JHU by Sergey Lyskov and PyRosetta Team.\n",
      "PyRosetta-4 2023 [Rosetta PyRosetta4.conda.m1.cxx11thread.serialization.python39.Release 2023.21+release.9b3660a893207250b5c6735d08f5a4dcd45633c5 2023-05-26T08:14:51] retrieved from: http://www.pyrosetta.org\n",
      "(C) Copyright Rosetta Commons Member Institutions. Created in JHU by Sergey Lyskov and PyRosetta Team.\n",
      "PyRosetta-4 2023 [Rosetta PyRosetta4.conda.m1.cxx11thread.serialization.python39.Release 2023.21+release.9b3660a893207250b5c6735d08f5a4dcd45633c5 2023-05-26T08:14:51] retrieved from: http://www.pyrosetta.org\n",
      "(C) Copyright Rosetta Commons Member Institutions. Created in JHU by Sergey Lyskov and PyRosetta Team.\n",
      "PyRosetta-4 2023 [Rosetta PyRosetta4.conda.m1.cxx11thread.serialization.python39.Release 2023.21+release.9b3660a893207250b5c6735d08f5a4dcd45633c5 2023-05-26T08:14:51] retrieved from: http://www.pyrosetta.org\n",
      "(C) Copyright Rosetta Commons Member Institutions. Created in JHU by Sergey Lyskov and PyRosetta Team.\n",
      "PyRosetta-4 2023 [Rosetta PyRosetta4.conda.m1.cxx11thread.serialization.python39.Release 2023.21+release.9b3660a893207250b5c6735d08f5a4dcd45633c5 2023-05-26T08:14:51] retrieved from: http://www.pyrosetta.org\n",
      "(C) Copyright Rosetta Commons Member Institutions. Created in JHU by Sergey Lyskov and PyRosetta Team.\n",
      "PyRosetta-4 2023 [Rosetta PyRosetta4.conda.m1.cxx11thread.serialization.python39.Release 2023.21+release.9b3660a893207250b5c6735d08f5a4dcd45633c5 2023-05-26T08:14:51] retrieved from: http://www.pyrosetta.org\n",
      "(C) Copyright Rosetta Commons Member Institutions. Created in JHU by Sergey Lyskov and PyRosetta Team.\n",
      "PyRosetta-4 2023 [Rosetta PyRosetta4.conda.m1.cxx11thread.serialization.python39.Release 2023.21+release.9b3660a893207250b5c6735d08f5a4dcd45633c5 2023-05-26T08:14:51] retrieved from: http://www.pyrosetta.org\n",
      "(C) Copyright Rosetta Commons Member Institutions. Created in JHU by Sergey Lyskov and PyRosetta Team.\n",
      "PyRosetta-4 2023 [Rosetta PyRosetta4.conda.m1.cxx11thread.serialization.python39.Release 2023.21+release.9b3660a893207250b5c6735d08f5a4dcd45633c5 2023-05-26T08:14:51] retrieved from: http://www.pyrosetta.org\n",
      "(C) Copyright Rosetta Commons Member Institutions. Created in JHU by Sergey Lyskov and PyRosetta Team.\n",
      "PyRosetta-4 2023 [Rosetta PyRosetta4.conda.m1.cxx11thread.serialization.python39.Release 2023.21+release.9b3660a893207250b5c6735d08f5a4dcd45633c5 2023-05-26T08:14:51] retrieved from: http://www.pyrosetta.org\n",
      "(C) Copyright Rosetta Commons Member Institutions. Created in JHU by Sergey Lyskov and PyRosetta Team.\n",
      "PyRosetta-4 2023 [Rosetta PyRosetta4.conda.m1.cxx11thread.serialization.python39.Release 2023.21+release.9b3660a893207250b5c6735d08f5a4dcd45633c5 2023-05-26T08:14:51] retrieved from: http://www.pyrosetta.org\n",
      "(C) Copyright Rosetta Commons Member Institutions. Created in JHU by Sergey Lyskov and PyRosetta Team.\n",
      "PyRosetta-4 2023 [Rosetta PyRosetta4.conda.m1.cxx11thread.serialization.python39.Release 2023.21+release.9b3660a893207250b5c6735d08f5a4dcd45633c5 2023-05-26T08:14:51] retrieved from: http://www.pyrosetta.org\n",
      "(C) Copyright Rosetta Commons Member Institutions. Created in JHU by Sergey Lyskov and PyRosetta Team.\n",
      "PyRosetta-4 2023 [Rosetta PyRosetta4.conda.m1.cxx11thread.serialization.python39.Release 2023.21+release.9b3660a893207250b5c6735d08f5a4dcd45633c5 2023-05-26T08:14:51] retrieved from: http://www.pyrosetta.org\n",
      "(C) Copyright Rosetta Commons Member Institutions. Created in JHU by Sergey Lyskov and PyRosetta Team.\n",
      "PyRosetta-4 2023 [Rosetta PyRosetta4.conda.m1.cxx11thread.serialization.python39.Release 2023.21+release.9b3660a893207250b5c6735d08f5a4dcd45633c5 2023-05-26T08:14:51] retrieved from: http://www.pyrosetta.org\n",
      "(C) Copyright Rosetta Commons Member Institutions. Created in JHU by Sergey Lyskov and PyRosetta Team.\n",
      "PyRosetta-4 2023 [Rosetta PyRosetta4.conda.m1.cxx11thread.serialization.python39.Release 2023.21+release.9b3660a893207250b5c6735d08f5a4dcd45633c5 2023-05-26T08:14:51] retrieved from: http://www.pyrosetta.org\n",
      "(C) Copyright Rosetta Commons Member Institutions. Created in JHU by Sergey Lyskov and PyRosetta Team.\n",
      "PyRosetta-4 2023 [Rosetta PyRosetta4.conda.m1.cxx11thread.serialization.python39.Release 2023.21+release.9b3660a893207250b5c6735d08f5a4dcd45633c5 2023-05-26T08:14:51] retrieved from: http://www.pyrosetta.org\n",
      "(C) Copyright Rosetta Commons Member Institutions. Created in JHU by Sergey Lyskov and PyRosetta Team.\n",
      "PyRosetta-4 2023 [Rosetta PyRosetta4.conda.m1.cxx11thread.serialization.python39.Release 2023.21+release.9b3660a893207250b5c6735d08f5a4dcd45633c5 2023-05-26T08:14:51] retrieved from: http://www.pyrosetta.org\n",
      "(C) Copyright Rosetta Commons Member Institutions. Created in JHU by Sergey Lyskov and PyRosetta Team.\n",
      "PyRosetta-4 2023 [Rosetta PyRosetta4.conda.m1.cxx11thread.serialization.python39.Release 2023.21+release.9b3660a893207250b5c6735d08f5a4dcd45633c5 2023-05-26T08:14:51] retrieved from: http://www.pyrosetta.org\n",
      "(C) Copyright Rosetta Commons Member Institutions. Created in JHU by Sergey Lyskov and PyRosetta Team.\n",
      "PyRosetta-4 2023 [Rosetta PyRosetta4.conda.m1.cxx11thread.serialization.python39.Release 2023.21+release.9b3660a893207250b5c6735d08f5a4dcd45633c5 2023-05-26T08:14:51] retrieved from: http://www.pyrosetta.org\n",
      "(C) Copyright Rosetta Commons Member Institutions. Created in JHU by Sergey Lyskov and PyRosetta Team.\n",
      "PyRosetta-4 2023 [Rosetta PyRosetta4.conda.m1.cxx11thread.serialization.python39.Release 2023.21+release.9b3660a893207250b5c6735d08f5a4dcd45633c5 2023-05-26T08:14:51] retrieved from: http://www.pyrosetta.org\n",
      "(C) Copyright Rosetta Commons Member Institutions. Created in JHU by Sergey Lyskov and PyRosetta Team.\n",
      "PyRosetta-4 2023 [Rosetta PyRosetta4.conda.m1.cxx11thread.serialization.python39.Release 2023.21+release.9b3660a893207250b5c6735d08f5a4dcd45633c5 2023-05-26T08:14:51] retrieved from: http://www.pyrosetta.org\n",
      "(C) Copyright Rosetta Commons Member Institutions. Created in JHU by Sergey Lyskov and PyRosetta Team.\n",
      "PyRosetta-4 2023 [Rosetta PyRosetta4.conda.m1.cxx11thread.serialization.python39.Release 2023.21+release.9b3660a893207250b5c6735d08f5a4dcd45633c5 2023-05-26T08:14:51] retrieved from: http://www.pyrosetta.org\n",
      "(C) Copyright Rosetta Commons Member Institutions. Created in JHU by Sergey Lyskov and PyRosetta Team.\n",
      "PyRosetta-4 2023 [Rosetta PyRosetta4.conda.m1.cxx11thread.serialization.python39.Release 2023.21+release.9b3660a893207250b5c6735d08f5a4dcd45633c5 2023-05-26T08:14:51] retrieved from: http://www.pyrosetta.org\n",
      "(C) Copyright Rosetta Commons Member Institutions. Created in JHU by Sergey Lyskov and PyRosetta Team.\n",
      "PyRosetta-4 2023 [Rosetta PyRosetta4.conda.m1.cxx11thread.serialization.python39.Release 2023.21+release.9b3660a893207250b5c6735d08f5a4dcd45633c5 2023-05-26T08:14:51] retrieved from: http://www.pyrosetta.org\n",
      "(C) Copyright Rosetta Commons Member Institutions. Created in JHU by Sergey Lyskov and PyRosetta Team.\n",
      "PyRosetta-4 2023 [Rosetta PyRosetta4.conda.m1.cxx11thread.serialization.python39.Release 2023.21+release.9b3660a893207250b5c6735d08f5a4dcd45633c5 2023-05-26T08:14:51] retrieved from: http://www.pyrosetta.org\n",
      "(C) Copyright Rosetta Commons Member Institutions. Created in JHU by Sergey Lyskov and PyRosetta Team.\n",
      "PyRosetta-4 2023 [Rosetta PyRosetta4.conda.m1.cxx11thread.serialization.python39.Release 2023.21+release.9b3660a893207250b5c6735d08f5a4dcd45633c5 2023-05-26T08:14:51] retrieved from: http://www.pyrosetta.org\n",
      "(C) Copyright Rosetta Commons Member Institutions. Created in JHU by Sergey Lyskov and PyRosetta Team.\n",
      "PyRosetta-4 2023 [Rosetta PyRosetta4.conda.m1.cxx11thread.serialization.python39.Release 2023.21+release.9b3660a893207250b5c6735d08f5a4dcd45633c5 2023-05-26T08:14:51] retrieved from: http://www.pyrosetta.org\n",
      "(C) Copyright Rosetta Commons Member Institutions. Created in JHU by Sergey Lyskov and PyRosetta Team.\n",
      "PyRosetta-4 2023 [Rosetta PyRosetta4.conda.m1.cxx11thread.serialization.python39.Release 2023.21+release.9b3660a893207250b5c6735d08f5a4dcd45633c5 2023-05-26T08:14:51] retrieved from: http://www.pyrosetta.org\n",
      "(C) Copyright Rosetta Commons Member Institutions. Created in JHU by Sergey Lyskov and PyRosetta Team.\n",
      "PyRosetta-4 2023 [Rosetta PyRosetta4.conda.m1.cxx11thread.serialization.python39.Release 2023.21+release.9b3660a893207250b5c6735d08f5a4dcd45633c5 2023-05-26T08:14:51] retrieved from: http://www.pyrosetta.org\n",
      "(C) Copyright Rosetta Commons Member Institutions. Created in JHU by Sergey Lyskov and PyRosetta Team.\n",
      "PyRosetta-4 2023 [Rosetta PyRosetta4.conda.m1.cxx11thread.serialization.python39.Release 2023.21+release.9b3660a893207250b5c6735d08f5a4dcd45633c5 2023-05-26T08:14:51] retrieved from: http://www.pyrosetta.org\n",
      "(C) Copyright Rosetta Commons Member Institutions. Created in JHU by Sergey Lyskov and PyRosetta Team.\n",
      "PyRosetta-4 2023 [Rosetta PyRosetta4.conda.m1.cxx11thread.serialization.python39.Release 2023.21+release.9b3660a893207250b5c6735d08f5a4dcd45633c5 2023-05-26T08:14:51] retrieved from: http://www.pyrosetta.org\n",
      "(C) Copyright Rosetta Commons Member Institutions. Created in JHU by Sergey Lyskov and PyRosetta Team.\n",
      "PyRosetta-4 2023 [Rosetta PyRosetta4.conda.m1.cxx11thread.serialization.python39.Release 2023.21+release.9b3660a893207250b5c6735d08f5a4dcd45633c5 2023-05-26T08:14:51] retrieved from: http://www.pyrosetta.org\n",
      "(C) Copyright Rosetta Commons Member Institutions. Created in JHU by Sergey Lyskov and PyRosetta Team.\n",
      "PyRosetta-4 2023 [Rosetta PyRosetta4.conda.m1.cxx11thread.serialization.python39.Release 2023.21+release.9b3660a893207250b5c6735d08f5a4dcd45633c5 2023-05-26T08:14:51] retrieved from: http://www.pyrosetta.org\n",
      "(C) Copyright Rosetta Commons Member Institutions. Created in JHU by Sergey Lyskov and PyRosetta Team.\n",
      "PyRosetta-4 2023 [Rosetta PyRosetta4.conda.m1.cxx11thread.serialization.python39.Release 2023.21+release.9b3660a893207250b5c6735d08f5a4dcd45633c5 2023-05-26T08:14:51] retrieved from: http://www.pyrosetta.org\n",
      "(C) Copyright Rosetta Commons Member Institutions. Created in JHU by Sergey Lyskov and PyRosetta Team.\n",
      "PyRosetta-4 2023 [Rosetta PyRosetta4.conda.m1.cxx11thread.serialization.python39.Release 2023.21+release.9b3660a893207250b5c6735d08f5a4dcd45633c5 2023-05-26T08:14:51] retrieved from: http://www.pyrosetta.org\n",
      "(C) Copyright Rosetta Commons Member Institutions. Created in JHU by Sergey Lyskov and PyRosetta Team.\n",
      "PyRosetta-4 2023 [Rosetta PyRosetta4.conda.m1.cxx11thread.serialization.python39.Release 2023.21+release.9b3660a893207250b5c6735d08f5a4dcd45633c5 2023-05-26T08:14:51] retrieved from: http://www.pyrosetta.org\n",
      "(C) Copyright Rosetta Commons Member Institutions. Created in JHU by Sergey Lyskov and PyRosetta Team.\n",
      "PyRosetta-4 2023 [Rosetta PyRosetta4.conda.m1.cxx11thread.serialization.python39.Release 2023.21+release.9b3660a893207250b5c6735d08f5a4dcd45633c5 2023-05-26T08:14:51] retrieved from: http://www.pyrosetta.org\n",
      "(C) Copyright Rosetta Commons Member Institutions. Created in JHU by Sergey Lyskov and PyRosetta Team.\n",
      "PyRosetta-4 2023 [Rosetta PyRosetta4.conda.m1.cxx11thread.serialization.python39.Release 2023.21+release.9b3660a893207250b5c6735d08f5a4dcd45633c5 2023-05-26T08:14:51] retrieved from: http://www.pyrosetta.org\n",
      "(C) Copyright Rosetta Commons Member Institutions. Created in JHU by Sergey Lyskov and PyRosetta Team.\n",
      "PyRosetta-4 2023 [Rosetta PyRosetta4.conda.m1.cxx11thread.serialization.python39.Release 2023.21+release.9b3660a893207250b5c6735d08f5a4dcd45633c5 2023-05-26T08:14:51] retrieved from: http://www.pyrosetta.org\n",
      "(C) Copyright Rosetta Commons Member Institutions. Created in JHU by Sergey Lyskov and PyRosetta Team.\n",
      "PyRosetta-4 2023 [Rosetta PyRosetta4.conda.m1.cxx11thread.serialization.python39.Release 2023.21+release.9b3660a893207250b5c6735d08f5a4dcd45633c5 2023-05-26T08:14:51] retrieved from: http://www.pyrosetta.org\n",
      "(C) Copyright Rosetta Commons Member Institutions. Created in JHU by Sergey Lyskov and PyRosetta Team.\n",
      "PyRosetta-4 2023 [Rosetta PyRosetta4.conda.m1.cxx11thread.serialization.python39.Release 2023.21+release.9b3660a893207250b5c6735d08f5a4dcd45633c5 2023-05-26T08:14:51] retrieved from: http://www.pyrosetta.org\n",
      "(C) Copyright Rosetta Commons Member Institutions. Created in JHU by Sergey Lyskov and PyRosetta Team.\n"
     ]
    }
   ],
   "source": [
    "# RUN FRAGMENSTEIN WITH FRAGMENTS AS HITS\n",
    "apo_file = '/Users/kate_fieseler/PycharmProjects/retrievesynthesizable/NCS1/fragmenstein_info/template-x0715.pdb'\n",
    "work_path = '/Users/kate_fieseler/PycharmProjects/retrievesynthesizable/NCS1/warren_yes_green_aug23/D2R-5/Amidation_O=C(Cc1cn(Cc2ccc(F)cc2)c2ccccc12)Nc1ccc(S(=O)(=O)Nc2nccs2)cc1/placed_50/'\n",
    "\n",
    "for i in range(len(smiles)):\n",
    "    if i == 0: # skip base compound\n",
    "        continue\n",
    "    else:\n",
    "        run_fragmenstein(fragments,\n",
    "                         apo_file,\n",
    "                         work_path,\n",
    "                         smiles[i],\n",
    "                         'D2R-5_elaborated_frag_'+str(i))\n",
    "        "
   ],
   "metadata": {
    "collapsed": false,
    "ExecuteTime": {
     "end_time": "2023-08-24T08:13:55.118185Z",
     "start_time": "2023-08-24T07:32:12.219762Z"
    }
   }
  },
  {
   "cell_type": "code",
   "execution_count": 29,
   "outputs": [
    {
     "name": "stdout",
     "output_type": "stream",
     "text": [
      "PyRosetta-4 2023 [Rosetta PyRosetta4.conda.m1.cxx11thread.serialization.python39.Release 2023.21+release.9b3660a893207250b5c6735d08f5a4dcd45633c5 2023-05-26T08:14:51] retrieved from: http://www.pyrosetta.org\n",
      "(C) Copyright Rosetta Commons Member Institutions. Created in JHU by Sergey Lyskov and PyRosetta Team.\n",
      "PyRosetta-4 2023 [Rosetta PyRosetta4.conda.m1.cxx11thread.serialization.python39.Release 2023.21+release.9b3660a893207250b5c6735d08f5a4dcd45633c5 2023-05-26T08:14:51] retrieved from: http://www.pyrosetta.org\n",
      "(C) Copyright Rosetta Commons Member Institutions. Created in JHU by Sergey Lyskov and PyRosetta Team.\n",
      "PyRosetta-4 2023 [Rosetta PyRosetta4.conda.m1.cxx11thread.serialization.python39.Release 2023.21+release.9b3660a893207250b5c6735d08f5a4dcd45633c5 2023-05-26T08:14:51] retrieved from: http://www.pyrosetta.org\n",
      "(C) Copyright Rosetta Commons Member Institutions. Created in JHU by Sergey Lyskov and PyRosetta Team.\n",
      "PyRosetta-4 2023 [Rosetta PyRosetta4.conda.m1.cxx11thread.serialization.python39.Release 2023.21+release.9b3660a893207250b5c6735d08f5a4dcd45633c5 2023-05-26T08:14:51] retrieved from: http://www.pyrosetta.org\n",
      "(C) Copyright Rosetta Commons Member Institutions. Created in JHU by Sergey Lyskov and PyRosetta Team.\n",
      "PyRosetta-4 2023 [Rosetta PyRosetta4.conda.m1.cxx11thread.serialization.python39.Release 2023.21+release.9b3660a893207250b5c6735d08f5a4dcd45633c5 2023-05-26T08:14:51] retrieved from: http://www.pyrosetta.org\n",
      "(C) Copyright Rosetta Commons Member Institutions. Created in JHU by Sergey Lyskov and PyRosetta Team.\n",
      "PyRosetta-4 2023 [Rosetta PyRosetta4.conda.m1.cxx11thread.serialization.python39.Release 2023.21+release.9b3660a893207250b5c6735d08f5a4dcd45633c5 2023-05-26T08:14:51] retrieved from: http://www.pyrosetta.org\n",
      "(C) Copyright Rosetta Commons Member Institutions. Created in JHU by Sergey Lyskov and PyRosetta Team.\n",
      "PyRosetta-4 2023 [Rosetta PyRosetta4.conda.m1.cxx11thread.serialization.python39.Release 2023.21+release.9b3660a893207250b5c6735d08f5a4dcd45633c5 2023-05-26T08:14:51] retrieved from: http://www.pyrosetta.org\n",
      "(C) Copyright Rosetta Commons Member Institutions. Created in JHU by Sergey Lyskov and PyRosetta Team.\n"
     ]
    },
    {
     "name": "stderr",
     "output_type": "stream",
     "text": [
      "D2R-5-elaborated-base-7 - failed to minimise without constraints:  60.58145002659587 kcal/mol.\n"
     ]
    },
    {
     "name": "stdout",
     "output_type": "stream",
     "text": [
      "PyRosetta-4 2023 [Rosetta PyRosetta4.conda.m1.cxx11thread.serialization.python39.Release 2023.21+release.9b3660a893207250b5c6735d08f5a4dcd45633c5 2023-05-26T08:14:51] retrieved from: http://www.pyrosetta.org\n",
      "(C) Copyright Rosetta Commons Member Institutions. Created in JHU by Sergey Lyskov and PyRosetta Team.\n",
      "PyRosetta-4 2023 [Rosetta PyRosetta4.conda.m1.cxx11thread.serialization.python39.Release 2023.21+release.9b3660a893207250b5c6735d08f5a4dcd45633c5 2023-05-26T08:14:51] retrieved from: http://www.pyrosetta.org\n",
      "(C) Copyright Rosetta Commons Member Institutions. Created in JHU by Sergey Lyskov and PyRosetta Team.\n",
      "PyRosetta-4 2023 [Rosetta PyRosetta4.conda.m1.cxx11thread.serialization.python39.Release 2023.21+release.9b3660a893207250b5c6735d08f5a4dcd45633c5 2023-05-26T08:14:51] retrieved from: http://www.pyrosetta.org\n",
      "(C) Copyright Rosetta Commons Member Institutions. Created in JHU by Sergey Lyskov and PyRosetta Team.\n",
      "PyRosetta-4 2023 [Rosetta PyRosetta4.conda.m1.cxx11thread.serialization.python39.Release 2023.21+release.9b3660a893207250b5c6735d08f5a4dcd45633c5 2023-05-26T08:14:51] retrieved from: http://www.pyrosetta.org\n",
      "(C) Copyright Rosetta Commons Member Institutions. Created in JHU by Sergey Lyskov and PyRosetta Team.\n",
      "PyRosetta-4 2023 [Rosetta PyRosetta4.conda.m1.cxx11thread.serialization.python39.Release 2023.21+release.9b3660a893207250b5c6735d08f5a4dcd45633c5 2023-05-26T08:14:51] retrieved from: http://www.pyrosetta.org\n",
      "(C) Copyright Rosetta Commons Member Institutions. Created in JHU by Sergey Lyskov and PyRosetta Team.\n",
      "PyRosetta-4 2023 [Rosetta PyRosetta4.conda.m1.cxx11thread.serialization.python39.Release 2023.21+release.9b3660a893207250b5c6735d08f5a4dcd45633c5 2023-05-26T08:14:51] retrieved from: http://www.pyrosetta.org\n",
      "(C) Copyright Rosetta Commons Member Institutions. Created in JHU by Sergey Lyskov and PyRosetta Team.\n",
      "PyRosetta-4 2023 [Rosetta PyRosetta4.conda.m1.cxx11thread.serialization.python39.Release 2023.21+release.9b3660a893207250b5c6735d08f5a4dcd45633c5 2023-05-26T08:14:51] retrieved from: http://www.pyrosetta.org\n",
      "(C) Copyright Rosetta Commons Member Institutions. Created in JHU by Sergey Lyskov and PyRosetta Team.\n",
      "PyRosetta-4 2023 [Rosetta PyRosetta4.conda.m1.cxx11thread.serialization.python39.Release 2023.21+release.9b3660a893207250b5c6735d08f5a4dcd45633c5 2023-05-26T08:14:51] retrieved from: http://www.pyrosetta.org\n",
      "(C) Copyright Rosetta Commons Member Institutions. Created in JHU by Sergey Lyskov and PyRosetta Team.\n",
      "PyRosetta-4 2023 [Rosetta PyRosetta4.conda.m1.cxx11thread.serialization.python39.Release 2023.21+release.9b3660a893207250b5c6735d08f5a4dcd45633c5 2023-05-26T08:14:51] retrieved from: http://www.pyrosetta.org\n",
      "(C) Copyright Rosetta Commons Member Institutions. Created in JHU by Sergey Lyskov and PyRosetta Team.\n",
      "PyRosetta-4 2023 [Rosetta PyRosetta4.conda.m1.cxx11thread.serialization.python39.Release 2023.21+release.9b3660a893207250b5c6735d08f5a4dcd45633c5 2023-05-26T08:14:51] retrieved from: http://www.pyrosetta.org\n",
      "(C) Copyright Rosetta Commons Member Institutions. Created in JHU by Sergey Lyskov and PyRosetta Team.\n"
     ]
    },
    {
     "name": "stderr",
     "output_type": "stream",
     "text": [
      "D2R-5-elaborated-base-17 - failed to minimise without constraints:  24.290815302343645 kcal/mol.\n"
     ]
    },
    {
     "name": "stdout",
     "output_type": "stream",
     "text": [
      "PyRosetta-4 2023 [Rosetta PyRosetta4.conda.m1.cxx11thread.serialization.python39.Release 2023.21+release.9b3660a893207250b5c6735d08f5a4dcd45633c5 2023-05-26T08:14:51] retrieved from: http://www.pyrosetta.org\n",
      "(C) Copyright Rosetta Commons Member Institutions. Created in JHU by Sergey Lyskov and PyRosetta Team.\n",
      "PyRosetta-4 2023 [Rosetta PyRosetta4.conda.m1.cxx11thread.serialization.python39.Release 2023.21+release.9b3660a893207250b5c6735d08f5a4dcd45633c5 2023-05-26T08:14:51] retrieved from: http://www.pyrosetta.org\n",
      "(C) Copyright Rosetta Commons Member Institutions. Created in JHU by Sergey Lyskov and PyRosetta Team.\n",
      "PyRosetta-4 2023 [Rosetta PyRosetta4.conda.m1.cxx11thread.serialization.python39.Release 2023.21+release.9b3660a893207250b5c6735d08f5a4dcd45633c5 2023-05-26T08:14:51] retrieved from: http://www.pyrosetta.org\n",
      "(C) Copyright Rosetta Commons Member Institutions. Created in JHU by Sergey Lyskov and PyRosetta Team.\n"
     ]
    },
    {
     "name": "stderr",
     "output_type": "stream",
     "text": [
      "D2R-5-elaborated-base-20 - failed to minimise without constraints:  18.53068774162243 kcal/mol.\n"
     ]
    },
    {
     "name": "stdout",
     "output_type": "stream",
     "text": [
      "PyRosetta-4 2023 [Rosetta PyRosetta4.conda.m1.cxx11thread.serialization.python39.Release 2023.21+release.9b3660a893207250b5c6735d08f5a4dcd45633c5 2023-05-26T08:14:51] retrieved from: http://www.pyrosetta.org\n",
      "(C) Copyright Rosetta Commons Member Institutions. Created in JHU by Sergey Lyskov and PyRosetta Team.\n",
      "PyRosetta-4 2023 [Rosetta PyRosetta4.conda.m1.cxx11thread.serialization.python39.Release 2023.21+release.9b3660a893207250b5c6735d08f5a4dcd45633c5 2023-05-26T08:14:51] retrieved from: http://www.pyrosetta.org\n",
      "(C) Copyright Rosetta Commons Member Institutions. Created in JHU by Sergey Lyskov and PyRosetta Team.\n",
      "PyRosetta-4 2023 [Rosetta PyRosetta4.conda.m1.cxx11thread.serialization.python39.Release 2023.21+release.9b3660a893207250b5c6735d08f5a4dcd45633c5 2023-05-26T08:14:51] retrieved from: http://www.pyrosetta.org\n",
      "(C) Copyright Rosetta Commons Member Institutions. Created in JHU by Sergey Lyskov and PyRosetta Team.\n"
     ]
    },
    {
     "name": "stderr",
     "output_type": "stream",
     "text": [
      "D2R-5-elaborated-base-23 - failed to minimise without constraints:  10.878462313793033 kcal/mol.\n"
     ]
    },
    {
     "name": "stdout",
     "output_type": "stream",
     "text": [
      "PyRosetta-4 2023 [Rosetta PyRosetta4.conda.m1.cxx11thread.serialization.python39.Release 2023.21+release.9b3660a893207250b5c6735d08f5a4dcd45633c5 2023-05-26T08:14:51] retrieved from: http://www.pyrosetta.org\n",
      "(C) Copyright Rosetta Commons Member Institutions. Created in JHU by Sergey Lyskov and PyRosetta Team.\n",
      "PyRosetta-4 2023 [Rosetta PyRosetta4.conda.m1.cxx11thread.serialization.python39.Release 2023.21+release.9b3660a893207250b5c6735d08f5a4dcd45633c5 2023-05-26T08:14:51] retrieved from: http://www.pyrosetta.org\n",
      "(C) Copyright Rosetta Commons Member Institutions. Created in JHU by Sergey Lyskov and PyRosetta Team.\n",
      "PyRosetta-4 2023 [Rosetta PyRosetta4.conda.m1.cxx11thread.serialization.python39.Release 2023.21+release.9b3660a893207250b5c6735d08f5a4dcd45633c5 2023-05-26T08:14:51] retrieved from: http://www.pyrosetta.org\n",
      "(C) Copyright Rosetta Commons Member Institutions. Created in JHU by Sergey Lyskov and PyRosetta Team.\n"
     ]
    },
    {
     "name": "stderr",
     "output_type": "stream",
     "text": [
      "D2R-5-elaborated-base-26 - failed to minimise without constraints:  45.536434482277016 kcal/mol.\n"
     ]
    },
    {
     "name": "stdout",
     "output_type": "stream",
     "text": [
      "PyRosetta-4 2023 [Rosetta PyRosetta4.conda.m1.cxx11thread.serialization.python39.Release 2023.21+release.9b3660a893207250b5c6735d08f5a4dcd45633c5 2023-05-26T08:14:51] retrieved from: http://www.pyrosetta.org\n",
      "(C) Copyright Rosetta Commons Member Institutions. Created in JHU by Sergey Lyskov and PyRosetta Team.\n",
      "PyRosetta-4 2023 [Rosetta PyRosetta4.conda.m1.cxx11thread.serialization.python39.Release 2023.21+release.9b3660a893207250b5c6735d08f5a4dcd45633c5 2023-05-26T08:14:51] retrieved from: http://www.pyrosetta.org\n",
      "(C) Copyright Rosetta Commons Member Institutions. Created in JHU by Sergey Lyskov and PyRosetta Team.\n",
      "PyRosetta-4 2023 [Rosetta PyRosetta4.conda.m1.cxx11thread.serialization.python39.Release 2023.21+release.9b3660a893207250b5c6735d08f5a4dcd45633c5 2023-05-26T08:14:51] retrieved from: http://www.pyrosetta.org\n",
      "(C) Copyright Rosetta Commons Member Institutions. Created in JHU by Sergey Lyskov and PyRosetta Team.\n",
      "PyRosetta-4 2023 [Rosetta PyRosetta4.conda.m1.cxx11thread.serialization.python39.Release 2023.21+release.9b3660a893207250b5c6735d08f5a4dcd45633c5 2023-05-26T08:14:51] retrieved from: http://www.pyrosetta.org\n",
      "(C) Copyright Rosetta Commons Member Institutions. Created in JHU by Sergey Lyskov and PyRosetta Team.\n",
      "PyRosetta-4 2023 [Rosetta PyRosetta4.conda.m1.cxx11thread.serialization.python39.Release 2023.21+release.9b3660a893207250b5c6735d08f5a4dcd45633c5 2023-05-26T08:14:51] retrieved from: http://www.pyrosetta.org\n",
      "(C) Copyright Rosetta Commons Member Institutions. Created in JHU by Sergey Lyskov and PyRosetta Team.\n",
      "PyRosetta-4 2023 [Rosetta PyRosetta4.conda.m1.cxx11thread.serialization.python39.Release 2023.21+release.9b3660a893207250b5c6735d08f5a4dcd45633c5 2023-05-26T08:14:51] retrieved from: http://www.pyrosetta.org\n",
      "(C) Copyright Rosetta Commons Member Institutions. Created in JHU by Sergey Lyskov and PyRosetta Team.\n",
      "PyRosetta-4 2023 [Rosetta PyRosetta4.conda.m1.cxx11thread.serialization.python39.Release 2023.21+release.9b3660a893207250b5c6735d08f5a4dcd45633c5 2023-05-26T08:14:51] retrieved from: http://www.pyrosetta.org\n",
      "(C) Copyright Rosetta Commons Member Institutions. Created in JHU by Sergey Lyskov and PyRosetta Team.\n",
      "PyRosetta-4 2023 [Rosetta PyRosetta4.conda.m1.cxx11thread.serialization.python39.Release 2023.21+release.9b3660a893207250b5c6735d08f5a4dcd45633c5 2023-05-26T08:14:51] retrieved from: http://www.pyrosetta.org\n",
      "(C) Copyright Rosetta Commons Member Institutions. Created in JHU by Sergey Lyskov and PyRosetta Team.\n",
      "PyRosetta-4 2023 [Rosetta PyRosetta4.conda.m1.cxx11thread.serialization.python39.Release 2023.21+release.9b3660a893207250b5c6735d08f5a4dcd45633c5 2023-05-26T08:14:51] retrieved from: http://www.pyrosetta.org\n",
      "(C) Copyright Rosetta Commons Member Institutions. Created in JHU by Sergey Lyskov and PyRosetta Team.\n",
      "PyRosetta-4 2023 [Rosetta PyRosetta4.conda.m1.cxx11thread.serialization.python39.Release 2023.21+release.9b3660a893207250b5c6735d08f5a4dcd45633c5 2023-05-26T08:14:51] retrieved from: http://www.pyrosetta.org\n",
      "(C) Copyright Rosetta Commons Member Institutions. Created in JHU by Sergey Lyskov and PyRosetta Team.\n",
      "PyRosetta-4 2023 [Rosetta PyRosetta4.conda.m1.cxx11thread.serialization.python39.Release 2023.21+release.9b3660a893207250b5c6735d08f5a4dcd45633c5 2023-05-26T08:14:51] retrieved from: http://www.pyrosetta.org\n",
      "(C) Copyright Rosetta Commons Member Institutions. Created in JHU by Sergey Lyskov and PyRosetta Team.\n",
      "PyRosetta-4 2023 [Rosetta PyRosetta4.conda.m1.cxx11thread.serialization.python39.Release 2023.21+release.9b3660a893207250b5c6735d08f5a4dcd45633c5 2023-05-26T08:14:51] retrieved from: http://www.pyrosetta.org\n",
      "(C) Copyright Rosetta Commons Member Institutions. Created in JHU by Sergey Lyskov and PyRosetta Team.\n",
      "PyRosetta-4 2023 [Rosetta PyRosetta4.conda.m1.cxx11thread.serialization.python39.Release 2023.21+release.9b3660a893207250b5c6735d08f5a4dcd45633c5 2023-05-26T08:14:51] retrieved from: http://www.pyrosetta.org\n",
      "(C) Copyright Rosetta Commons Member Institutions. Created in JHU by Sergey Lyskov and PyRosetta Team.\n",
      "PyRosetta-4 2023 [Rosetta PyRosetta4.conda.m1.cxx11thread.serialization.python39.Release 2023.21+release.9b3660a893207250b5c6735d08f5a4dcd45633c5 2023-05-26T08:14:51] retrieved from: http://www.pyrosetta.org\n",
      "(C) Copyright Rosetta Commons Member Institutions. Created in JHU by Sergey Lyskov and PyRosetta Team.\n",
      "PyRosetta-4 2023 [Rosetta PyRosetta4.conda.m1.cxx11thread.serialization.python39.Release 2023.21+release.9b3660a893207250b5c6735d08f5a4dcd45633c5 2023-05-26T08:14:51] retrieved from: http://www.pyrosetta.org\n",
      "(C) Copyright Rosetta Commons Member Institutions. Created in JHU by Sergey Lyskov and PyRosetta Team.\n",
      "PyRosetta-4 2023 [Rosetta PyRosetta4.conda.m1.cxx11thread.serialization.python39.Release 2023.21+release.9b3660a893207250b5c6735d08f5a4dcd45633c5 2023-05-26T08:14:51] retrieved from: http://www.pyrosetta.org\n",
      "(C) Copyright Rosetta Commons Member Institutions. Created in JHU by Sergey Lyskov and PyRosetta Team.\n",
      "PyRosetta-4 2023 [Rosetta PyRosetta4.conda.m1.cxx11thread.serialization.python39.Release 2023.21+release.9b3660a893207250b5c6735d08f5a4dcd45633c5 2023-05-26T08:14:51] retrieved from: http://www.pyrosetta.org\n",
      "(C) Copyright Rosetta Commons Member Institutions. Created in JHU by Sergey Lyskov and PyRosetta Team.\n"
     ]
    },
    {
     "name": "stderr",
     "output_type": "stream",
     "text": [
      "D2R-5-elaborated-base-43 - failed to minimise without constraints:  149.87331126475186 kcal/mol.\n"
     ]
    },
    {
     "name": "stdout",
     "output_type": "stream",
     "text": [
      "PyRosetta-4 2023 [Rosetta PyRosetta4.conda.m1.cxx11thread.serialization.python39.Release 2023.21+release.9b3660a893207250b5c6735d08f5a4dcd45633c5 2023-05-26T08:14:51] retrieved from: http://www.pyrosetta.org\n",
      "(C) Copyright Rosetta Commons Member Institutions. Created in JHU by Sergey Lyskov and PyRosetta Team.\n",
      "PyRosetta-4 2023 [Rosetta PyRosetta4.conda.m1.cxx11thread.serialization.python39.Release 2023.21+release.9b3660a893207250b5c6735d08f5a4dcd45633c5 2023-05-26T08:14:51] retrieved from: http://www.pyrosetta.org\n",
      "(C) Copyright Rosetta Commons Member Institutions. Created in JHU by Sergey Lyskov and PyRosetta Team.\n",
      "PyRosetta-4 2023 [Rosetta PyRosetta4.conda.m1.cxx11thread.serialization.python39.Release 2023.21+release.9b3660a893207250b5c6735d08f5a4dcd45633c5 2023-05-26T08:14:51] retrieved from: http://www.pyrosetta.org\n",
      "(C) Copyright Rosetta Commons Member Institutions. Created in JHU by Sergey Lyskov and PyRosetta Team.\n",
      "PyRosetta-4 2023 [Rosetta PyRosetta4.conda.m1.cxx11thread.serialization.python39.Release 2023.21+release.9b3660a893207250b5c6735d08f5a4dcd45633c5 2023-05-26T08:14:51] retrieved from: http://www.pyrosetta.org\n",
      "(C) Copyright Rosetta Commons Member Institutions. Created in JHU by Sergey Lyskov and PyRosetta Team.\n",
      "PyRosetta-4 2023 [Rosetta PyRosetta4.conda.m1.cxx11thread.serialization.python39.Release 2023.21+release.9b3660a893207250b5c6735d08f5a4dcd45633c5 2023-05-26T08:14:51] retrieved from: http://www.pyrosetta.org\n",
      "(C) Copyright Rosetta Commons Member Institutions. Created in JHU by Sergey Lyskov and PyRosetta Team.\n",
      "PyRosetta-4 2023 [Rosetta PyRosetta4.conda.m1.cxx11thread.serialization.python39.Release 2023.21+release.9b3660a893207250b5c6735d08f5a4dcd45633c5 2023-05-26T08:14:51] retrieved from: http://www.pyrosetta.org\n",
      "(C) Copyright Rosetta Commons Member Institutions. Created in JHU by Sergey Lyskov and PyRosetta Team.\n"
     ]
    }
   ],
   "source": [
    "# RUN FRAGMENSTEIN WITH BASE AS HITS\n",
    "base = Chem.SDMolSupplier('/Users/kate_fieseler/PycharmProjects/retrievesynthesizable/NCS1/warren_yes_green_aug23/D2R-5/Amidation_O=C(Cc1cn(Cc2ccc(F)cc2)c2ccccc12)Nc1ccc(S(=O)(=O)Nc2nccs2)cc1/placed/base/base_minimised.sdf')\n",
    "for i in range(len(smiles)):\n",
    "    if i == 0: # skip base compound\n",
    "        continue\n",
    "    else:\n",
    "        run_fragmenstein(base,\n",
    "                         apo_file,\n",
    "                         work_path,\n",
    "                         smiles[i],\n",
    "                         'D2R-5_elaborated_base_'+str(i))"
   ],
   "metadata": {
    "collapsed": false,
    "ExecuteTime": {
     "end_time": "2023-08-24T09:14:27.093707Z",
     "start_time": "2023-08-24T08:14:32.407546Z"
    }
   }
  },
  {
   "cell_type": "markdown",
   "source": [
    "Test Idea 1 worked well. Now to try Idea 2."
   ],
   "metadata": {
    "collapsed": false
   }
  },
  {
   "cell_type": "code",
   "execution_count": 59,
   "outputs": [],
   "source": [
    "# EXTRACTING LIGAND TRY\n",
    "def extract_ligand(pdb_file_path):\n",
    "    # Read the PDB file\n",
    "    complex_mol = Chem.MolFromPDBFile(pdb_file_path, sanitize=False)\n",
    "\n",
    "    # Identify the small molecule\n",
    "    # This could be done in various ways depending on the structure of the PDB file\n",
    "    # Here's an example that assumes the small molecule's atoms are all in a specific residue\n",
    "    small_molecule_atoms = [atom for atom in complex_mol.GetAtoms() if atom.GetPDBResidueInfo().GetResidueName() == 'LIG']\n",
    "\n",
    "    # Extract the small molecule\n",
    "    edit_mol = Chem.EditableMol(Chem.Mol())\n",
    "    atom_map = {}\n",
    "    for atom in small_molecule_atoms:\n",
    "        idx = edit_mol.AddAtom(atom)\n",
    "        atom_map[atom.GetIdx()] = idx\n",
    "\n",
    "    for atom in small_molecule_atoms:\n",
    "        for neighbor in atom.GetNeighbors():\n",
    "            if neighbor in small_molecule_atoms:\n",
    "                edit_mol.AddBond(atom_map[atom.GetIdx()], atom_map[neighbor.GetIdx()], neighbor.GetBondType())\n",
    "\n",
    "    small_molecule_mol = edit_mol.GetMol()\n",
    "    return small_molecule_mol"
   ],
   "metadata": {
    "collapsed": false,
    "ExecuteTime": {
     "end_time": "2023-08-03T12:38:09.358589Z",
     "start_time": "2023-08-03T12:38:09.354749Z"
    }
   }
  },
  {
   "cell_type": "code",
   "execution_count": 3,
   "outputs": [],
   "source": [
    "# EXTRACTING LIGAND TRY WITH PAT WALTERS CODE\n",
    "%autoreload 2\n",
    "from chemUtils.protein import split_complex_v2\n"
   ],
   "metadata": {
    "collapsed": false,
    "ExecuteTime": {
     "end_time": "2023-08-03T12:59:27.298768Z",
     "start_time": "2023-08-03T12:59:26.591242Z"
    }
   }
  },
  {
   "cell_type": "code",
   "execution_count": 5,
   "outputs": [
    {
     "name": "stderr",
     "output_type": "stream",
     "text": [
      "@> 3197 atoms and 1 coordinate set(s) were parsed in 0.01s.\n"
     ]
    },
    {
     "name": "stdout",
     "output_type": "stream",
     "text": [
      "wrote /Users/kate_fieseler/Library/CloudStorage/OneDrive-Nexus365/Project4_Compound_Coloring/data/D68EV3CPROA/D68EV3CPROA_fragalysis_allhits/aligned/D68EV3CPROA-x1083_0A/D68EV3CPROA-x1083_0A_bound.pdb_protein.pdb\n"
     ]
    },
    {
     "ename": "KeyError",
     "evalue": "'ligandInfo'",
     "output_type": "error",
     "traceback": [
      "\u001B[0;31m---------------------------------------------------------------------------\u001B[0m",
      "\u001B[0;31mKeyError\u001B[0m                                  Traceback (most recent call last)",
      "Cell \u001B[0;32mIn[5], line 4\u001B[0m\n\u001B[1;32m      2\u001B[0m hitB_pdb_file_path \u001B[38;5;241m=\u001B[39m \u001B[38;5;124m'\u001B[39m\u001B[38;5;124m/Users/kate_fieseler/Library/CloudStorage/OneDrive-Nexus365/Project4_Compound_Coloring/data/D68EV3CPROA/D68EV3CPROA_fragalysis_allhits/aligned/D68EV3CPROA-x1083_0A/D68EV3CPROA-x1083_0A_bound.pdb\u001B[39m\u001B[38;5;124m'\u001B[39m\n\u001B[1;32m      3\u001B[0m \u001B[38;5;66;03m#extract_ligand(hitA_pdb_file_path)\u001B[39;00m\n\u001B[0;32m----> 4\u001B[0m \u001B[43msplit_complex_v2\u001B[49m\u001B[38;5;241;43m.\u001B[39;49m\u001B[43mmain\u001B[49m\u001B[43m(\u001B[49m\u001B[43mhitB_pdb_file_path\u001B[49m\u001B[43m)\u001B[49m\n",
      "File \u001B[0;32m~/PycharmProjects/chemUtils/chemUtils/protein/split_complex_v2.py:87\u001B[0m, in \u001B[0;36mmain\u001B[0;34m(pdb_name)\u001B[0m\n\u001B[1;32m     85\u001B[0m res_name_list \u001B[38;5;241m=\u001B[39m \u001B[38;5;28mlist\u001B[39m(\u001B[38;5;28mset\u001B[39m(ligand\u001B[38;5;241m.\u001B[39mgetResnames()))\n\u001B[1;32m     86\u001B[0m \u001B[38;5;28;01mfor\u001B[39;00m res \u001B[38;5;129;01min\u001B[39;00m res_name_list:\n\u001B[0;32m---> 87\u001B[0m     new_mol \u001B[38;5;241m=\u001B[39m \u001B[43mprocess_ligand\u001B[49m\u001B[43m(\u001B[49m\u001B[43mligand\u001B[49m\u001B[43m,\u001B[49m\u001B[43m \u001B[49m\u001B[43mres\u001B[49m\u001B[43m)\u001B[49m\n\u001B[1;32m     88\u001B[0m     write_sdf(new_mol, pdb_name, res)\n",
      "File \u001B[0;32m~/PycharmProjects/chemUtils/chemUtils/protein/split_complex_v2.py:40\u001B[0m, in \u001B[0;36mprocess_ligand\u001B[0;34m(ligand, res_name)\u001B[0m\n\u001B[1;32m     38\u001B[0m chem_desc \u001B[38;5;241m=\u001B[39m pypdb\u001B[38;5;241m.\u001B[39mdescribe_chemical(\u001B[38;5;124mf\u001B[39m\u001B[38;5;124m\"\u001B[39m\u001B[38;5;132;01m{\u001B[39;00mres_name\u001B[38;5;132;01m}\u001B[39;00m\u001B[38;5;124m\"\u001B[39m)\n\u001B[1;32m     39\u001B[0m \u001B[38;5;66;03m#sub_smiles = chem_desc[\"describeHet\"][\"ligandInfo\"][\"ligand\"][\"smiles\"]\u001B[39;00m\n\u001B[0;32m---> 40\u001B[0m sub_smiles \u001B[38;5;241m=\u001B[39m \u001B[43mchem_desc\u001B[49m\u001B[43m[\u001B[49m\u001B[38;5;124;43m\"\u001B[39;49m\u001B[38;5;124;43mligandInfo\u001B[39;49m\u001B[38;5;124;43m\"\u001B[39;49m\u001B[43m]\u001B[49m[\u001B[38;5;124m\"\u001B[39m\u001B[38;5;124mligand\u001B[39m\u001B[38;5;124m\"\u001B[39m][\u001B[38;5;124m\"\u001B[39m\u001B[38;5;124msmiles\u001B[39m\u001B[38;5;124m\"\u001B[39m]\n\u001B[1;32m     41\u001B[0m template \u001B[38;5;241m=\u001B[39m AllChem\u001B[38;5;241m.\u001B[39mMolFromSmiles(sub_smiles)\n\u001B[1;32m     42\u001B[0m writePDBStream(output, sub_mol)\n",
      "\u001B[0;31mKeyError\u001B[0m: 'ligandInfo'"
     ]
    }
   ],
   "source": [
    "hitA_pdb_file_path = '/Users/kate_fieseler/Library/CloudStorage/OneDrive-Nexus365/Project4_Compound_Coloring/data/D68EV3CPROA/D68EV3CPROA_fragalysis_allhits/aligned/D68EV3CPROA-x0771_0A/D68EV3CPROA-x0771_0A_bound_pocket.pdb'\n",
    "hitB_pdb_file_path = '/Users/kate_fieseler/Library/CloudStorage/OneDrive-Nexus365/Project4_Compound_Coloring/data/D68EV3CPROA/D68EV3CPROA_fragalysis_allhits/aligned/D68EV3CPROA-x1083_0A/D68EV3CPROA-x1083_0A_bound.pdb'\n",
    "extract_ligand(hitA_pdb_file_path)\n",
    "split_complex_v2.main(hitB_pdb_file_path)"
   ],
   "metadata": {
    "collapsed": false,
    "ExecuteTime": {
     "end_time": "2023-08-03T12:59:37.732919Z",
     "start_time": "2023-08-03T12:59:37.307111Z"
    }
   }
  },
  {
   "cell_type": "code",
   "execution_count": 13,
   "outputs": [],
   "source": [
    "hitA = Chem.MolFromMol2File('/Users/kate_fieseler/Library/CloudStorage/OneDrive-Nexus365/Project4_Compound_Coloring/data/D68EV3CPROA/D68EV3CPROA_fragalysis_allhits/aligned/D68EV3CPROA-x0771_0A/D68EV3CPROA-x0771_0A_bound_pocket_no_protein.mol2')\n",
    "hitB = Chem.MolFromMol2File('/Users/kate_fieseler/Library/CloudStorage/OneDrive-Nexus365/Project4_Compound_Coloring/data/D68EV3CPROA/D68EV3CPROA_fragalysis_allhits/aligned/D68EV3CPROA-x1083_0A/D68EV3CPROA-x1083_0A_bound_no_protein.mol2')\n",
    "hitA"
   ],
   "metadata": {
    "collapsed": false,
    "ExecuteTime": {
     "end_time": "2023-08-03T13:40:34.006807Z",
     "start_time": "2023-08-03T13:40:33.820623Z"
    }
   }
  },
  {
   "cell_type": "code",
   "execution_count": 7,
   "outputs": [
    {
     "data": {
      "text/plain": "<rdkit.Chem.rdchem.Mol at 0x16bcd43c0>",
      "image/png": "[encoded data removed]"
     },
     "execution_count": 7,
     "metadata": {},
     "output_type": "execute_result"
    }
   ],
   "source": [
    "# JUST LOAD STRAIGHT FRAGMENTS FROM SDF\n",
    "fragments = Chem.SDMolSupplier('/Users/kate_fieseler/Library/CloudStorage/OneDrive-Nexus365/Project4_Compound_Coloring/data/D68EV3CPROA/D68EV3CPROA_fragalysis_allhits/D68EV3CPROA_combined.sdf')\n",
    "Draw.MolsToGridImage(fragments, molsPerRow=4)\n",
    "# x0771_0A is the 3rd\n",
    "# x1083_0A is the 8th\n",
    "hitA = fragments[2]\n",
    "hitB = fragments[7]\n",
    "hitA"
   ],
   "metadata": {
    "collapsed": false,
    "ExecuteTime": {
     "end_time": "2023-08-03T15:01:32.529883Z",
     "start_time": "2023-08-03T15:01:32.412241Z"
    }
   }
  },
  {
   "cell_type": "code",
   "execution_count": 8,
   "outputs": [
    {
     "data": {
      "text/plain": "<rdkit.Chem.rdchem.Mol at 0x16bcd4350>",
      "image/png": "[encoded data removed]"
     },
     "execution_count": 8,
     "metadata": {},
     "output_type": "execute_result"
    }
   ],
   "source": [
    "hitB"
   ],
   "metadata": {
    "collapsed": false,
    "ExecuteTime": {
     "end_time": "2023-08-03T15:01:35.232131Z",
     "start_time": "2023-08-03T15:01:35.203597Z"
    }
   }
  },
  {
   "cell_type": "code",
   "execution_count": 10,
   "outputs": [
    {
     "name": "stdout",
     "output_type": "stream",
     "text": [
      "PyRosetta-4 2023 [Rosetta PyRosetta4.conda.m1.cxx11thread.serialization.python39.Release 2023.21+release.9b3660a893207250b5c6735d08f5a4dcd45633c5 2023-05-26T08:14:51] retrieved from: http://www.pyrosetta.org\n",
      "(C) Copyright Rosetta Commons Member Institutions. Created in JHU by Sergey Lyskov and PyRosetta Team.\n"
     ]
    }
   ],
   "source": [
    "smiles = 'CC1CC(C)CN(CCN(C)C(=O)C=C2CC3CNC2C3)C1'\n",
    "apo_file = '/Users/kate_fieseler/Library/CloudStorage/OneDrive-Nexus365/Project4_Compound_Coloring/data/D68EV3CPROA/d68_fragment_apofiles/D68EV3CPROA-x0771_0A_apo-desolv.pdb'\n",
    "run_fragmenstein([hitA, hitB],\n",
    "                 apo_file,\n",
    "                 '/Users/kate_fieseler/Library/CloudStorage/OneDrive-Nexus365/Project4_Compound_Coloring/data/test_placement_Aug3/',\n",
    "                 smiles,\n",
    "                 'elaborated_compound_wfragments')"
   ],
   "metadata": {
    "collapsed": false,
    "ExecuteTime": {
     "end_time": "2023-08-03T15:02:38.518939Z",
     "start_time": "2023-08-03T15:02:09.001669Z"
    }
   }
  },
  {
   "cell_type": "markdown",
   "source": [
    "Placement worked!!!"
   ],
   "metadata": {
    "collapsed": false
   }
  },
  {
   "cell_type": "code",
   "execution_count": null,
   "outputs": [],
   "source": [],
   "metadata": {
    "collapsed": false
   }
  }
 ],
 "metadata": {
  "kernelspec": {
   "display_name": "Python 3",
   "language": "python",
   "name": "python3"
  },
  "language_info": {
   "codemirror_mode": {
    "name": "ipython",
    "version": 2
   },
   "file_extension": ".py",
   "mimetype": "text/x-python",
   "name": "python",
   "nbconvert_exporter": "python",
   "pygments_lexer": "ipython2",
   "version": "2.7.6"
  }
 },
 "nbformat": 4,
 "nbformat_minor": 0
}
