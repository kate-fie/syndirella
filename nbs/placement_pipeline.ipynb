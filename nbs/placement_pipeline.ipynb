{
 "cells": [
  {
   "cell_type": "code",
   "execution_count": 1,
   "metadata": {
    "collapsed": true,
    "ExecuteTime": {
     "end_time": "2023-11-29T09:36:53.190251Z",
     "start_time": "2023-11-29T09:36:48.577734Z"
    }
   },
   "outputs": [
    {
     "data": {
      "text/plain": "",
      "application/vnd.jupyter.widget-view+json": {
       "version_major": 2,
       "version_minor": 0,
       "model_id": "283035657da741edb9169580e0db3bbb"
      }
     },
     "metadata": {},
     "output_type": "display_data"
    },
    {
     "data": {
      "text/plain": "'O=C(Cc1cn(Cc2ccc(F)cc2)c2ccccc12)Nc1ccc(S(=O)(=O)[N-]c2nccs2)cc1'"
     },
     "execution_count": 1,
     "metadata": {},
     "output_type": "execute_result"
    }
   ],
   "source": [
    "%load_ext autoreload\n",
    "%autoreload 2\n",
    "from rdkit import Chem\n",
    "from rdkit.Chem import Draw\n",
    "from fragmenstein import Victor, Igor\n",
    "import sys\n",
    "import pandas as pd\n",
    "from itertools import chain\n",
    "import ast\n",
    "\n",
    "canonical_smiles_maybe = 'O=C(Cc1cn(Cc2ccc(F)cc2)c2ccccc12)Nc1ccc(S(=O)(=O)[N-]c2nccs2)cc1'\n",
    "molecule = Chem.MolFromSmiles(canonical_smiles_maybe)\n",
    "canonical_smiles = Chem.MolToSmiles(molecule, canonical=True)\n",
    "canonical_smiles\n",
    "\n"
   ]
  },
  {
   "cell_type": "code",
   "execution_count": 17,
   "outputs": [
    {
     "data": {
      "text/plain": "        reactant1_structuralScore  reactant1_mw  \\\n0                        0.800013       161.613   \n1                        0.830111       141.195   \n2                        0.542511       206.064   \n3                        0.542511       206.064   \n4                        0.624006       159.235   \n...                           ...           ...   \n136809                   0.502307       548.069   \n136810                   0.502307       548.069   \n136811                   0.502307       548.069   \n136812                   0.502307       548.069   \n136813                   0.502307       548.069   \n\n                                            reactant1_smi  \\\n0                                         O=Cc1nc(CCl)cs1   \n1                                        CC(=O)c1nc(C)cs1   \n2                                         Cc1nc(C=O)sc1Br   \n3                                         Cc1nc(C=O)sc1Br   \n4                                        Cc1csc(C(=O)S)n1   \n...                                                   ...   \n136809  CN1CCc2nc(C(=O)N[C@@H]3C[C@@H](C(=O)N(C)C)CC[C...   \n136810  CN1CCc2nc(C(=O)N[C@@H]3C[C@@H](C(=O)N(C)C)CC[C...   \n136811  CN1CCc2nc(C(=O)N[C@@H]3C[C@@H](C(=O)N(C)C)CC[C...   \n136812  CN1CCc2nc(C(=O)N[C@@H]3C[C@@H](C(=O)N(C)C)CC[C...   \n136813  CN1CCc2nc(C(=O)N[C@@H]3C[C@@H](C(=O)N(C)C)CC[C...   \n\n                                       reactant1_metadata  \\\n0       [{'catalogName': 'surechembl', 'catalogId': 'S...   \n1       [{'catalogName': 'mcule', 'catalogId': 'MCULE-...   \n2       [{'catalogName': 'mcule', 'catalogId': 'MCULE-...   \n3       [{'catalogName': 'mcule', 'catalogId': 'MCULE-...   \n4       [{'catalogName': 'pubchem', 'catalogId': '2150...   \n...                                                   ...   \n136809  [{'catalogName': 'enamine_bb', 'catalogId': 'E...   \n136810  [{'catalogName': 'enamine_bb', 'catalogId': 'E...   \n136811  [{'catalogName': 'enamine_bb', 'catalogId': 'E...   \n136812  [{'catalogName': 'enamine_bb', 'catalogId': 'E...   \n136813  [{'catalogName': 'enamine_bb', 'catalogId': 'E...   \n\n       reactant1_attachmentIdx  reactant2_structuralScore  reactant2_mw  \\\n0                 (4, 6, 7, 5)                   0.505803       101.129   \n1                 (4, 6, 7, 5)                   0.531761        98.105   \n2                 (4, 6, 7, 5)                   0.531761        98.105   \n3                 (4, 6, 7, 5)                   0.659366       100.121   \n4                 (4, 6, 7, 5)                   0.531761        98.105   \n...                        ...                        ...           ...   \n136809            (4, 6, 7, 5)                   0.504642       184.283   \n136810            (4, 6, 7, 5)                   0.525936       196.172   \n136811            (4, 6, 7, 5)                   0.505542       184.239   \n136812            (4, 6, 7, 5)                   0.587676       184.195   \n136813            (4, 6, 7, 5)                   0.529817       200.238   \n\n                          reactant2_smi  \\\n0                   [NH3+][C@H]1CCNC1=O   \n1                      N[C@@]12CC1NC2=O   \n2                      N[C@@]12CC1NC2=O   \n3                       N[C@@H]1CCNC1=O   \n4                      N[C@@]12CC1NC2=O   \n...                                 ...   \n136809             CC(C)CCNC1(C)CCNC1=O   \n136810           CNC1CCN(CC(F)(F)F)C1=O   \n136811          CCC(C)(C)NC1CC(=O)NC1=O   \n136812  C=CC(=O)N[C@@H]1C[C@H](CO)NC1=O   \n136813         CC(C)(C)OC(=O)NC1CCNC1=O   \n\n                                       reactant2_metadata  \\\n0       [{'catalogName': 'pubchem', 'catalogId': '2830...   \n1       [{'catalogName': 'pubchem', 'catalogId': '1531...   \n2       [{'catalogName': 'pubchem', 'catalogId': '1531...   \n3       [{'catalogName': 'mcule', 'catalogId': 'MCULE-...   \n4       [{'catalogName': 'pubchem', 'catalogId': '1531...   \n...                                                   ...   \n136809  [{'catalogName': 'mcule_ultimate', 'catalogId'...   \n136810  [{'catalogName': 'enamine_bb', 'catalogId': 'E...   \n136811  [{'catalogName': 'mcule', 'catalogId': 'MCULE-...   \n136812  [{'catalogName': 'sigma', 'catalogId': '356580...   \n136813  [{'catalogName': 'molport', 'catalogId': 'MolP...   \n\n       reactant2_attachmentIdx  \\\n0                 (1, 2, 5, 6)   \n1                 (1, 2, 5, 6)   \n2                 (1, 2, 5, 6)   \n3                 (1, 2, 5, 6)   \n4                 (1, 2, 5, 6)   \n...                        ...   \n136809            (1, 2, 5, 6)   \n136810            (1, 2, 5, 6)   \n136811            (1, 2, 5, 6)   \n136812            (1, 2, 5, 6)   \n136813            (1, 2, 5, 6)   \n\n                                              product_smi  product_mw  \\\n0       ['O=C1NCC[C@@H]1[NH2+]Cc1nc(CCl)cs1', '[NH3+][...  246.046237   \n1       ['Cc1csc(C(C)N[C@@]23CC2NC3=O)n1', 'Cc1csc(C(C...         NaN   \n2       ['Cc1nc(CN[C@@]23CC2NC3=O)sc1Br', 'Cc1nc(CN2C(...         NaN   \n3       ['Cc1nc(CN[C@@H]2CCNC2=O)sc1Br', 'Cc1nc(CN2CC[...         NaN   \n4       ['Cc1csc(C(S)N[C@@]23CC2NC3=O)n1', 'Cc1csc(C(S...         NaN   \n...                                                   ...         ...   \n136809  ['CC(C)CCN(C(N[C@@H]1C[C@@H](C(=O)N(C)C)CC[C@@...  715.339500   \n136810  ['CN1CCc2nc(C(N[C@@H]3C[C@@H](C(=O)N(C)C)CC[C@...         NaN   \n136811  ['CCC(C)(C)N(C1CC(=O)NC1=O)C(N[C@@H]1C[C@@H](C...  715.303114   \n136812  ['C=CC(=O)N(C(N[C@@H]1C[C@@H](C(=O)N(C)C)CC[C@...         NaN   \n136813  ['CN1CCc2nc(C(N[C@@H]3C[C@@H](C(=O)N(C)C)CC[C@...         NaN   \n\n        MCS_is_base  MCS_atoms_difference  total_structuralScore  \n0              True                     1               1.305816  \n1              True                     1               1.361872  \n2              True                     1               1.074272  \n3              True                     1               1.201877  \n4              True                     1               1.155767  \n...             ...                   ...                    ...  \n136809         True                    35               1.006949  \n136810         True                    35               1.028243  \n136811         True                    35               1.007850  \n136812         True                    35               1.089984  \n136813         True                    36               1.032125  \n\n[136814 rows x 15 columns]",
      "text/html": "<div>\n<style scoped>\n    .dataframe tbody tr th:only-of-type {\n        vertical-align: middle;\n    }\n\n    .dataframe tbody tr th {\n        vertical-align: top;\n    }\n\n    .dataframe thead th {\n        text-align: right;\n    }\n</style>\n<table border=\"1\" class=\"dataframe\">\n  <thead>\n    <tr style=\"text-align: right;\">\n      <th></th>\n      <th>reactant1_structuralScore</th>\n      <th>reactant1_mw</th>\n      <th>reactant1_smi</th>\n      <th>reactant1_metadata</th>\n      <th>reactant1_attachmentIdx</th>\n      <th>reactant2_structuralScore</th>\n      <th>reactant2_mw</th>\n      <th>reactant2_smi</th>\n      <th>reactant2_metadata</th>\n      <th>reactant2_attachmentIdx</th>\n      <th>product_smi</th>\n      <th>product_mw</th>\n      <th>MCS_is_base</th>\n      <th>MCS_atoms_difference</th>\n      <th>total_structuralScore</th>\n    </tr>\n  </thead>\n  <tbody>\n    <tr>\n      <th>0</th>\n      <td>0.800013</td>\n      <td>161.613</td>\n      <td>O=Cc1nc(CCl)cs1</td>\n      <td>[{'catalogName': 'surechembl', 'catalogId': 'S...</td>\n      <td>(4, 6, 7, 5)</td>\n      <td>0.505803</td>\n      <td>101.129</td>\n      <td>[NH3+][C@H]1CCNC1=O</td>\n      <td>[{'catalogName': 'pubchem', 'catalogId': '2830...</td>\n      <td>(1, 2, 5, 6)</td>\n      <td>['O=C1NCC[C@@H]1[NH2+]Cc1nc(CCl)cs1', '[NH3+][...</td>\n      <td>246.046237</td>\n      <td>True</td>\n      <td>1</td>\n      <td>1.305816</td>\n    </tr>\n    <tr>\n      <th>1</th>\n      <td>0.830111</td>\n      <td>141.195</td>\n      <td>CC(=O)c1nc(C)cs1</td>\n      <td>[{'catalogName': 'mcule', 'catalogId': 'MCULE-...</td>\n      <td>(4, 6, 7, 5)</td>\n      <td>0.531761</td>\n      <td>98.105</td>\n      <td>N[C@@]12CC1NC2=O</td>\n      <td>[{'catalogName': 'pubchem', 'catalogId': '1531...</td>\n      <td>(1, 2, 5, 6)</td>\n      <td>['Cc1csc(C(C)N[C@@]23CC2NC3=O)n1', 'Cc1csc(C(C...</td>\n      <td>NaN</td>\n      <td>True</td>\n      <td>1</td>\n      <td>1.361872</td>\n    </tr>\n    <tr>\n      <th>2</th>\n      <td>0.542511</td>\n      <td>206.064</td>\n      <td>Cc1nc(C=O)sc1Br</td>\n      <td>[{'catalogName': 'mcule', 'catalogId': 'MCULE-...</td>\n      <td>(4, 6, 7, 5)</td>\n      <td>0.531761</td>\n      <td>98.105</td>\n      <td>N[C@@]12CC1NC2=O</td>\n      <td>[{'catalogName': 'pubchem', 'catalogId': '1531...</td>\n      <td>(1, 2, 5, 6)</td>\n      <td>['Cc1nc(CN[C@@]23CC2NC3=O)sc1Br', 'Cc1nc(CN2C(...</td>\n      <td>NaN</td>\n      <td>True</td>\n      <td>1</td>\n      <td>1.074272</td>\n    </tr>\n    <tr>\n      <th>3</th>\n      <td>0.542511</td>\n      <td>206.064</td>\n      <td>Cc1nc(C=O)sc1Br</td>\n      <td>[{'catalogName': 'mcule', 'catalogId': 'MCULE-...</td>\n      <td>(4, 6, 7, 5)</td>\n      <td>0.659366</td>\n      <td>100.121</td>\n      <td>N[C@@H]1CCNC1=O</td>\n      <td>[{'catalogName': 'mcule', 'catalogId': 'MCULE-...</td>\n      <td>(1, 2, 5, 6)</td>\n      <td>['Cc1nc(CN[C@@H]2CCNC2=O)sc1Br', 'Cc1nc(CN2CC[...</td>\n      <td>NaN</td>\n      <td>True</td>\n      <td>1</td>\n      <td>1.201877</td>\n    </tr>\n    <tr>\n      <th>4</th>\n      <td>0.624006</td>\n      <td>159.235</td>\n      <td>Cc1csc(C(=O)S)n1</td>\n      <td>[{'catalogName': 'pubchem', 'catalogId': '2150...</td>\n      <td>(4, 6, 7, 5)</td>\n      <td>0.531761</td>\n      <td>98.105</td>\n      <td>N[C@@]12CC1NC2=O</td>\n      <td>[{'catalogName': 'pubchem', 'catalogId': '1531...</td>\n      <td>(1, 2, 5, 6)</td>\n      <td>['Cc1csc(C(S)N[C@@]23CC2NC3=O)n1', 'Cc1csc(C(S...</td>\n      <td>NaN</td>\n      <td>True</td>\n      <td>1</td>\n      <td>1.155767</td>\n    </tr>\n    <tr>\n      <th>...</th>\n      <td>...</td>\n      <td>...</td>\n      <td>...</td>\n      <td>...</td>\n      <td>...</td>\n      <td>...</td>\n      <td>...</td>\n      <td>...</td>\n      <td>...</td>\n      <td>...</td>\n      <td>...</td>\n      <td>...</td>\n      <td>...</td>\n      <td>...</td>\n      <td>...</td>\n    </tr>\n    <tr>\n      <th>136809</th>\n      <td>0.502307</td>\n      <td>548.069</td>\n      <td>CN1CCc2nc(C(=O)N[C@@H]3C[C@@H](C(=O)N(C)C)CC[C...</td>\n      <td>[{'catalogName': 'enamine_bb', 'catalogId': 'E...</td>\n      <td>(4, 6, 7, 5)</td>\n      <td>0.504642</td>\n      <td>184.283</td>\n      <td>CC(C)CCNC1(C)CCNC1=O</td>\n      <td>[{'catalogName': 'mcule_ultimate', 'catalogId'...</td>\n      <td>(1, 2, 5, 6)</td>\n      <td>['CC(C)CCN(C(N[C@@H]1C[C@@H](C(=O)N(C)C)CC[C@@...</td>\n      <td>715.339500</td>\n      <td>True</td>\n      <td>35</td>\n      <td>1.006949</td>\n    </tr>\n    <tr>\n      <th>136810</th>\n      <td>0.502307</td>\n      <td>548.069</td>\n      <td>CN1CCc2nc(C(=O)N[C@@H]3C[C@@H](C(=O)N(C)C)CC[C...</td>\n      <td>[{'catalogName': 'enamine_bb', 'catalogId': 'E...</td>\n      <td>(4, 6, 7, 5)</td>\n      <td>0.525936</td>\n      <td>196.172</td>\n      <td>CNC1CCN(CC(F)(F)F)C1=O</td>\n      <td>[{'catalogName': 'enamine_bb', 'catalogId': 'E...</td>\n      <td>(1, 2, 5, 6)</td>\n      <td>['CN1CCc2nc(C(N[C@@H]3C[C@@H](C(=O)N(C)C)CC[C@...</td>\n      <td>NaN</td>\n      <td>True</td>\n      <td>35</td>\n      <td>1.028243</td>\n    </tr>\n    <tr>\n      <th>136811</th>\n      <td>0.502307</td>\n      <td>548.069</td>\n      <td>CN1CCc2nc(C(=O)N[C@@H]3C[C@@H](C(=O)N(C)C)CC[C...</td>\n      <td>[{'catalogName': 'enamine_bb', 'catalogId': 'E...</td>\n      <td>(4, 6, 7, 5)</td>\n      <td>0.505542</td>\n      <td>184.239</td>\n      <td>CCC(C)(C)NC1CC(=O)NC1=O</td>\n      <td>[{'catalogName': 'mcule', 'catalogId': 'MCULE-...</td>\n      <td>(1, 2, 5, 6)</td>\n      <td>['CCC(C)(C)N(C1CC(=O)NC1=O)C(N[C@@H]1C[C@@H](C...</td>\n      <td>715.303114</td>\n      <td>True</td>\n      <td>35</td>\n      <td>1.007850</td>\n    </tr>\n    <tr>\n      <th>136812</th>\n      <td>0.502307</td>\n      <td>548.069</td>\n      <td>CN1CCc2nc(C(=O)N[C@@H]3C[C@@H](C(=O)N(C)C)CC[C...</td>\n      <td>[{'catalogName': 'enamine_bb', 'catalogId': 'E...</td>\n      <td>(4, 6, 7, 5)</td>\n      <td>0.587676</td>\n      <td>184.195</td>\n      <td>C=CC(=O)N[C@@H]1C[C@H](CO)NC1=O</td>\n      <td>[{'catalogName': 'sigma', 'catalogId': '356580...</td>\n      <td>(1, 2, 5, 6)</td>\n      <td>['C=CC(=O)N(C(N[C@@H]1C[C@@H](C(=O)N(C)C)CC[C@...</td>\n      <td>NaN</td>\n      <td>True</td>\n      <td>35</td>\n      <td>1.089984</td>\n    </tr>\n    <tr>\n      <th>136813</th>\n      <td>0.502307</td>\n      <td>548.069</td>\n      <td>CN1CCc2nc(C(=O)N[C@@H]3C[C@@H](C(=O)N(C)C)CC[C...</td>\n      <td>[{'catalogName': 'enamine_bb', 'catalogId': 'E...</td>\n      <td>(4, 6, 7, 5)</td>\n      <td>0.529817</td>\n      <td>200.238</td>\n      <td>CC(C)(C)OC(=O)NC1CCNC1=O</td>\n      <td>[{'catalogName': 'molport', 'catalogId': 'MolP...</td>\n      <td>(1, 2, 5, 6)</td>\n      <td>['CN1CCc2nc(C(N[C@@H]3C[C@@H](C(=O)N(C)C)CC[C@...</td>\n      <td>NaN</td>\n      <td>True</td>\n      <td>36</td>\n      <td>1.032125</td>\n    </tr>\n  </tbody>\n</table>\n<p>136814 rows × 15 columns</p>\n</div>"
     },
     "execution_count": 17,
     "metadata": {},
     "output_type": "execute_result"
    }
   ],
   "source": [
    "# Load csv of proposed compounds\n",
    "df = pd.read_csv('/Users/kate_fieseler/Library/CloudStorage/OneDrive-Nexus365/Project4_Compound_Coloring/data/test_placement_Aug4/elaborated_reactants/Reductive_amination/Reductive_amination_136814_MCS_base.csv')\n",
    "df"
   ],
   "metadata": {
    "collapsed": false,
    "ExecuteTime": {
     "end_time": "2023-08-09T08:26:17.158021Z",
     "start_time": "2023-08-09T08:26:16.154195Z"
    }
   }
  },
  {
   "cell_type": "code",
   "execution_count": 39,
   "outputs": [
    {
     "name": "stdout",
     "output_type": "stream",
     "text": [
      "['O=C1NCC[C@@H]1[NH2+]Cc1nc(CCl)cs1', '[NH3+][C@H]1CCN(Cc2nc(CCl)cs2)C1=O']\n",
      "['Cc1csc(C(C)N[C@@]23CC2NC3=O)n1', 'Cc1csc(C(C)N2C(=O)[C@]3(N)CC23)n1', 'Cc1csc(C(C)N[C@@]23CC2NC3=O)n1', 'Cc1csc(C(C)N2C(=O)[C@]3(N)CC23)n1']\n",
      "['Cc1nc(CN[C@@]23CC2NC3=O)sc1Br', 'Cc1nc(CN2C(=O)[C@]3(N)CC23)sc1Br']\n",
      "['Cc1nc(CN[C@@H]2CCNC2=O)sc1Br', 'Cc1nc(CN2CC[C@@H](N)C2=O)sc1Br']\n",
      "['Cc1csc(C(S)N[C@@]23CC2NC3=O)n1', 'Cc1csc(C(S)N2C(=O)[C@]3(N)CC23)n1']\n",
      "['Cc1csc(C(N)N[C@@H]2CCNC2=O)n1', 'Cc1csc(C(N)N2CC[C@@H](N)C2=O)n1']\n",
      "['[CH]C([NH2+][C@H]1CCNC1=O)c1nc(C)cs1', '[CH]C(c1nc(C)cs1)N1CC[C@H]([NH3+])C1=O', '[CH]C([NH2+][C@H]1CCNC1=O)c1nc(C)cs1', '[CH]C(c1nc(C)cs1)N1CC[C@H]([NH3+])C1=O']\n",
      "['[CH]C(N[C@@H]1CCNC1=O)c1nc(C)cs1', '[CH]C(c1nc(C)cs1)N1CC[C@@H](N)C1=O', '[CH]C(N[C@@H]1CCNC1=O)c1nc(C)cs1', '[CH]C(c1nc(C)cs1)N1CC[C@@H](N)C1=O']\n",
      "['Cc1csc(C(S)N[C@@H]2CCNC2=O)n1', 'Cc1csc(C(S)N2CC[C@@H](N)C2=O)n1']\n",
      "['Cc1csc(C(C)[NH2+][C@H]2CCNC2=O)n1', 'Cc1csc(C(C)N2CC[C@H]([NH3+])C2=O)n1', 'Cc1csc(C(C)[NH2+][C@H]2CCNC2=O)n1', 'Cc1csc(C(C)N2CC[C@H]([NH3+])C2=O)n1']\n",
      "['Cc1csc(C(Cl)N[C@@]23CC2NC3=O)n1', 'Cc1csc(C(Cl)N2C(=O)[C@]3(N)CC23)n1']\n",
      "['Cc1csc(C(C)N[C@@H]2CCNC2=O)n1', 'Cc1csc(C(C)N2CC[C@@H](N)C2=O)n1', 'Cc1csc(C(C)N[C@@H]2CCNC2=O)n1', 'Cc1csc(C(C)N2CC[C@@H](N)C2=O)n1']\n",
      "['Cc1nc(C[NH2+][C@H]2CCNC2=O)sc1Br', 'Cc1nc(CN2CC[C@H]([NH3+])C2=O)sc1Br']\n",
      "['[CH]C(N[C@@]12CC1NC2=O)c1nc(C)cs1', '[CH]C(c1nc(C)cs1)N1C(=O)[C@]2(N)CC12', '[CH]C(N[C@@]12CC1NC2=O)c1nc(C)cs1', '[CH]C(c1nc(C)cs1)N1C(=O)[C@]2(N)CC12']\n",
      "['O=C1NC2C[C@@]12NCc1nc(CCl)cs1', 'N[C@@]12CC1N(Cc1nc(CCl)cs1)C2=O']\n",
      "['O=C1NCC[C@H]1NCc1nc(CCl)cs1', 'N[C@@H]1CCN(Cc2nc(CCl)cs2)C1=O']\n",
      "['Cc1csc(C(S)[NH2+][C@H]2CCNC2=O)n1', 'Cc1csc(C(S)N2CC[C@H]([NH3+])C2=O)n1']\n",
      "['Cc1csc(C(Cl)[NH2+][C@H]2CCNC2=O)n1', 'Cc1csc(C(Cl)N2CC[C@H]([NH3+])C2=O)n1']\n",
      "['Cc1csc(C(N)[NH2+][C@H]2CCNC2=O)n1', 'Cc1csc(C(N)N2CC[C@H]([NH3+])C2=O)n1']\n",
      "['Cc1csc(C(N)N[C@@]23CC2NC3=O)n1', 'Cc1csc(C(N)N2C(=O)[C@]3(N)CC23)n1']\n",
      "['Cc1csc(C(Cl)N[C@@H]2CCNC2=O)n1', 'Cc1csc(C(Cl)N2CC[C@@H](N)C2=O)n1']\n"
     ]
    },
    {
     "data": {
      "text/plain": "21"
     },
     "execution_count": 39,
     "metadata": {},
     "output_type": "execute_result"
    }
   ],
   "source": [
    "# Get the 'product_smi' column\n",
    "product_smi_column = df['product_smi'][0:21]\n",
    "# Flatten the list\n",
    "flattened_list = []\n",
    "\n",
    "for item in product_smi_column:\n",
    "    print(item)\n",
    "    item = ast.literal_eval(item)\n",
    "\n",
    "    # Assuming the items are comma-separated strings, split them into lists\n",
    "    if isinstance(item, str):\n",
    "        flattened_list.extend(item.split(','))\n",
    "    else:\n",
    "        # Handle non-string items as needed\n",
    "        flattened_list.append(item)\n",
    "\n",
    "len(flattened_list)"
   ],
   "metadata": {
    "collapsed": false,
    "ExecuteTime": {
     "end_time": "2023-08-09T08:47:35.558270Z",
     "start_time": "2023-08-09T08:47:35.438262Z"
    }
   }
  },
  {
   "cell_type": "code",
   "execution_count": 40,
   "outputs": [
    {
     "data": {
      "text/plain": "21"
     },
     "execution_count": 40,
     "metadata": {},
     "output_type": "execute_result"
    }
   ],
   "source": [
    "proposed = [sublist[0] for sublist in flattened_list]\n",
    "len(proposed)"
   ],
   "metadata": {
    "collapsed": false,
    "ExecuteTime": {
     "end_time": "2023-08-09T08:47:43.456674Z",
     "start_time": "2023-08-09T08:47:43.419615Z"
    }
   }
  },
  {
   "cell_type": "code",
   "execution_count": 1,
   "outputs": [
    {
     "data": {
      "text/plain": "['Cc1nc(CNC2CCN(O)C2=O)sc1Br',\n 'Cc1nc(CNC2CCN(O)C2=O)sc1C',\n 'O=C1C(NCc2nc(CO)cs2)CCN1O',\n 'Cc1csc(C(C)NC2CCN(O)C2=O)n1',\n 'Cc1nc(CNC2CC(=O)NC2=O)sc1Br',\n 'Cc1nc(CNC2CC(=O)NC2=O)sc1Br',\n 'O=C1CC(NCc2nc(CO)cs2)C(=O)N1',\n 'Cc1csc(C(C)NC2CC(=O)NC2=O)n1',\n 'Cc1nc(CNC2(C)CCNC2=O)sc1Br',\n 'Cc1nc(CNC2(C)CCNC2=O)sc1C']"
     },
     "execution_count": 1,
     "metadata": {},
     "output_type": "execute_result"
    }
   ],
   "source": [
    "proposed = ['Cc1nc(CNC2CCN(O)C2=O)sc1Br', 'Cc1nc(CNC2CCN(O)C2=O)sc1C', 'O=C1C(NCc2nc(CO)cs2)CCN1O', 'Cc1csc(C(C)NC2CCN(O)C2=O)n1', 'Cc1nc(CNC2CC(=O)NC2=O)sc1Br', 'Cc1nc(CNC2CC(=O)NC2=O)sc1Br', 'O=C1CC(NCc2nc(CO)cs2)C(=O)N1', 'Cc1csc(C(C)NC2CC(=O)NC2=O)n1', 'Cc1nc(CNC2(C)CCNC2=O)sc1Br', 'Cc1nc(CNC2(C)CCNC2=O)sc1C']\n",
    "proposed"
   ],
   "metadata": {
    "collapsed": false,
    "ExecuteTime": {
     "end_time": "2023-08-11T08:24:17.873594Z",
     "start_time": "2023-08-11T08:24:17.870438Z"
    }
   }
  },
  {
   "cell_type": "code",
   "execution_count": 3,
   "outputs": [
    {
     "data": {
      "text/plain": "<rdkit.Chem.rdchem.Mol at 0x1778d7970>",
      "image/png": "[encoded data removed]"
     },
     "execution_count": 3,
     "metadata": {},
     "output_type": "execute_result"
    }
   ],
   "source": [
    "# Fragment inspiration\n",
    "follow_ups = Chem.SDMolSupplier('/Users/kate_fieseler/Library/CloudStorage/OneDrive-Nexus365/Project4_Compound_Coloring/EVD683C/data/D68EV3CPROA/D68EV3CPROA_fragalysis_allhits/D68EV3CPROA_combined.sdf')\n",
    "base = follow_ups[2]\n",
    "base"
   ],
   "metadata": {
    "collapsed": false,
    "ExecuteTime": {
     "end_time": "2023-08-11T08:24:30.364948Z",
     "start_time": "2023-08-11T08:24:30.323651Z"
    }
   }
  },
  {
   "cell_type": "markdown",
   "source": [
    "# RUNNING FRAGMENSTEIN"
   ],
   "metadata": {
    "collapsed": false
   }
  },
  {
   "cell_type": "code",
   "execution_count": 4,
   "outputs": [],
   "source": [
    "def run_fragmenstein(hits,  # list of rdkit mol objects of hits or base compound to help place\n",
    "                     apo_file,  # path to pdb file for protein\n",
    "                     work_path,\n",
    "                     smiles,\n",
    "                     name):\n",
    "    Igor.init_pyrosetta()\n",
    "    v = Victor(hits=hits, pdb_filename=apo_file)\n",
    "    v.work_path = work_path\n",
    "    v.place(smiles, long_name=name)"
   ],
   "metadata": {
    "collapsed": false,
    "ExecuteTime": {
     "end_time": "2023-08-11T08:24:32.762065Z",
     "start_time": "2023-08-11T08:24:32.719917Z"
    }
   }
  },
  {
   "cell_type": "code",
   "execution_count": 5,
   "outputs": [
    {
     "name": "stdout",
     "output_type": "stream",
     "text": [
      "PyRosetta-4 2023 [Rosetta PyRosetta4.conda.m1.cxx11thread.serialization.python39.Release 2023.21+release.9b3660a893207250b5c6735d08f5a4dcd45633c5 2023-05-26T08:14:51] retrieved from: http://www.pyrosetta.org\n",
      "(C) Copyright Rosetta Commons Member Institutions. Created in JHU by Sergey Lyskov and PyRosetta Team.\n",
      "PyRosetta-4 2023 [Rosetta PyRosetta4.conda.m1.cxx11thread.serialization.python39.Release 2023.21+release.9b3660a893207250b5c6735d08f5a4dcd45633c5 2023-05-26T08:14:51] retrieved from: http://www.pyrosetta.org\n",
      "(C) Copyright Rosetta Commons Member Institutions. Created in JHU by Sergey Lyskov and PyRosetta Team.\n",
      "PyRosetta-4 2023 [Rosetta PyRosetta4.conda.m1.cxx11thread.serialization.python39.Release 2023.21+release.9b3660a893207250b5c6735d08f5a4dcd45633c5 2023-05-26T08:14:51] retrieved from: http://www.pyrosetta.org\n",
      "(C) Copyright Rosetta Commons Member Institutions. Created in JHU by Sergey Lyskov and PyRosetta Team.\n",
      "PyRosetta-4 2023 [Rosetta PyRosetta4.conda.m1.cxx11thread.serialization.python39.Release 2023.21+release.9b3660a893207250b5c6735d08f5a4dcd45633c5 2023-05-26T08:14:51] retrieved from: http://www.pyrosetta.org\n",
      "(C) Copyright Rosetta Commons Member Institutions. Created in JHU by Sergey Lyskov and PyRosetta Team.\n",
      "PyRosetta-4 2023 [Rosetta PyRosetta4.conda.m1.cxx11thread.serialization.python39.Release 2023.21+release.9b3660a893207250b5c6735d08f5a4dcd45633c5 2023-05-26T08:14:51] retrieved from: http://www.pyrosetta.org\n",
      "(C) Copyright Rosetta Commons Member Institutions. Created in JHU by Sergey Lyskov and PyRosetta Team.\n",
      "PyRosetta-4 2023 [Rosetta PyRosetta4.conda.m1.cxx11thread.serialization.python39.Release 2023.21+release.9b3660a893207250b5c6735d08f5a4dcd45633c5 2023-05-26T08:14:51] retrieved from: http://www.pyrosetta.org\n",
      "(C) Copyright Rosetta Commons Member Institutions. Created in JHU by Sergey Lyskov and PyRosetta Team.\n",
      "PyRosetta-4 2023 [Rosetta PyRosetta4.conda.m1.cxx11thread.serialization.python39.Release 2023.21+release.9b3660a893207250b5c6735d08f5a4dcd45633c5 2023-05-26T08:14:51] retrieved from: http://www.pyrosetta.org\n",
      "(C) Copyright Rosetta Commons Member Institutions. Created in JHU by Sergey Lyskov and PyRosetta Team.\n",
      "PyRosetta-4 2023 [Rosetta PyRosetta4.conda.m1.cxx11thread.serialization.python39.Release 2023.21+release.9b3660a893207250b5c6735d08f5a4dcd45633c5 2023-05-26T08:14:51] retrieved from: http://www.pyrosetta.org\n",
      "(C) Copyright Rosetta Commons Member Institutions. Created in JHU by Sergey Lyskov and PyRosetta Team.\n",
      "PyRosetta-4 2023 [Rosetta PyRosetta4.conda.m1.cxx11thread.serialization.python39.Release 2023.21+release.9b3660a893207250b5c6735d08f5a4dcd45633c5 2023-05-26T08:14:51] retrieved from: http://www.pyrosetta.org\n",
      "(C) Copyright Rosetta Commons Member Institutions. Created in JHU by Sergey Lyskov and PyRosetta Team.\n",
      "PyRosetta-4 2023 [Rosetta PyRosetta4.conda.m1.cxx11thread.serialization.python39.Release 2023.21+release.9b3660a893207250b5c6735d08f5a4dcd45633c5 2023-05-26T08:14:51] retrieved from: http://www.pyrosetta.org\n",
      "(C) Copyright Rosetta Commons Member Institutions. Created in JHU by Sergey Lyskov and PyRosetta Team.\n"
     ]
    }
   ],
   "source": [
    "# Placement of elaborated compounds with Fragmenstein\n",
    "follow_ups = Chem.SDMolSupplier('/Users/kate_fieseler/Library/CloudStorage/OneDrive-Nexus365/Project4_Compound_Coloring/EVD683C/data/D68EV3CPROA/D68EV3CPROA_fragalysis_allhits/D68EV3CPROA_combined.sdf')\n",
    "base = follow_ups[2]\n",
    "\n",
    "apo_file = '/Users/kate_fieseler/Library/CloudStorage/OneDrive-Nexus365/Project4_Compound_Coloring/EVD683C/data/D68EV3CPROA/d68_fragment_apofiles/D68EV3CPROA-x0771_0A_apo-desolv.pdb'\n",
    "\n",
    "work_path = '/Users/kate_fieseler/Library/CloudStorage/OneDrive-Nexus365/Project4_Compound_Coloring/EVD683C/data/reductive_amination_example_enaminebb/2_atoms_difference_placed'\n",
    "\n",
    "i = 1\n",
    "for smiles in proposed:\n",
    "    name = 'base' + str(i)\n",
    "    run_fragmenstein([base],\n",
    "                     apo_file,\n",
    "                     work_path,\n",
    "                     smiles,\n",
    "                     name)\n",
    "    i += 1"
   ],
   "metadata": {
    "collapsed": false,
    "ExecuteTime": {
     "end_time": "2023-08-11T08:28:04.277431Z",
     "start_time": "2023-08-11T08:25:10.532636Z"
    }
   }
  },
  {
   "cell_type": "code",
   "execution_count": null,
   "outputs": [],
   "source": [],
   "metadata": {
    "collapsed": false
   }
  }
 ],
 "metadata": {
  "kernelspec": {
   "display_name": "Python 3",
   "language": "python",
   "name": "python3"
  },
  "language_info": {
   "codemirror_mode": {
    "name": "ipython",
    "version": 2
   },
   "file_extension": ".py",
   "mimetype": "text/x-python",
   "name": "python",
   "nbconvert_exporter": "python",
   "pygments_lexer": "ipython2",
   "version": "2.7.6"
  }
 },
 "nbformat": 4,
 "nbformat_minor": 0
}
