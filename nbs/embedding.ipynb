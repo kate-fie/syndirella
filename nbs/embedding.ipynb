{
 "cells": [
  {
   "cell_type": "code",
   "execution_count": 8,
   "metadata": {
    "collapsed": true,
    "ExecuteTime": {
     "end_time": "2023-07-14T14:54:10.702267Z",
     "start_time": "2023-07-14T14:54:10.697265Z"
    }
   },
   "outputs": [
    {
     "name": "stdout",
     "output_type": "stream",
     "text": [
      "2022.09.5\n"
     ]
    }
   ],
   "source": [
    "import sys\n",
    "sys.path.append('/Users/kate_fieseler/PycharmProjects/chemUtils')\n",
    "import chemUtils\n",
    "from chemUtils.molPlacement import embedMolbyRefsMCS\n",
    "\n",
    "from rdkit import Chem\n",
    "from rdkit.Chem import AllChem\n",
    "from rdkit.Chem import Draw,PyMol,MCS\n",
    "from rdkit.Chem.Draw import IPythonConsole\n",
    "from rdkit import rdBase\n",
    "print(rdBase.rdkitVersion)"
   ]
  },
  {
   "cell_type": "code",
   "execution_count": 12,
   "outputs": [
    {
     "data": {
      "image/png": "[encoded data removed]",
      "text/plain": "<IPython.core.display.Image object>"
     },
     "execution_count": 12,
     "metadata": {},
     "output_type": "execute_result"
    }
   ],
   "source": [
    "# Show molecules to embed\n",
    "mols = [Chem.MolFromSmiles('[H]c1c([H])c(F)c(C([H])([H])N([H])[H])c(Cl)c1[H]'),Chem.MolFromSmiles('[H]c1c([H])c(F)c(C([H])([H])N([H])[H])c(Cl)c1[H]')]\n",
    "Draw.MolsToGridImage(mols)"
   ],
   "metadata": {
    "collapsed": false,
    "ExecuteTime": {
     "end_time": "2023-07-14T15:03:10.807928Z",
     "start_time": "2023-07-14T15:03:10.784660Z"
    }
   }
  },
  {
   "cell_type": "code",
   "execution_count": 15,
   "outputs": [],
   "source": [
    "# Try to embed\n",
    "import py3Dmol\n",
    "def drawit(ms, p=None, confId=-1, removeHs=True,colors=('cyanCarbon','redCarbon','blueCarbon')):\n",
    "        if p is None:\n",
    "            p = py3Dmol.view(width=400, height=400)\n",
    "        p.removeAllModels()\n",
    "        for i,m in enumerate(ms):\n",
    "            if removeHs:\n",
    "                m = Chem.RemoveHs(m)\n",
    "            IPythonConsole.addMolToView(m,p,confId=confId)\n",
    "            p.setStyle({'model':-1,},\n",
    "                            {'stick':{'colorscheme':colors[i%len(colors)]}})\n",
    "        p.zoomTo()\n",
    "        return p.show()"
   ],
   "metadata": {
    "collapsed": false,
    "ExecuteTime": {
     "end_time": "2023-07-14T15:06:11.515839Z",
     "start_time": "2023-07-14T15:06:11.508671Z"
    }
   }
  },
  {
   "cell_type": "code",
   "execution_count": 19,
   "outputs": [
    {
     "data": {
      "application/3dmoljs_load.v0": "<div id=\"3dmolviewer_1689347398462019\"  style=\"position: relative; width: 400px; height: 400px;\">\n        <p id=\"3dmolwarning_1689347398462019\" style=\"background-color:#ffcccc;color:black\">You appear to be running in JupyterLab (or JavaScript failed to load for some other reason).  You need to install the 3dmol extension: <br>\n        <tt>jupyter labextension install jupyterlab_3dmol</tt></p>\n        </div>\n<script>\n\nvar loadScriptAsync = function(uri){\n  return new Promise((resolve, reject) => {\n    //this is to ignore the existence of requirejs amd\n    var savedexports, savedmodule;\n    if (typeof exports !== 'undefined') savedexports = exports;\n    else exports = {}\n    if (typeof module !== 'undefined') savedmodule = module;\n    else module = {}\n\n    var tag = document.createElement('script');\n    tag.src = uri;\n    tag.async = true;\n    tag.onload = () => {\n        exports = savedexports;\n        module = savedmodule;\n        resolve();\n    };\n  var firstScriptTag = document.getElementsByTagName('script')[0];\n  firstScriptTag.parentNode.insertBefore(tag, firstScriptTag);\n});\n};\n\nif(typeof $3Dmolpromise === 'undefined') {\n$3Dmolpromise = null;\n  $3Dmolpromise = loadScriptAsync('https://cdnjs.cloudflare.com/ajax/libs/3Dmol/2.0.3/3Dmol-min.js');\n}\n\nvar viewer_1689347398462019 = null;\nvar warn = document.getElementById(\"3dmolwarning_1689347398462019\");\nif(warn) {\n    warn.parentNode.removeChild(warn);\n}\n$3Dmolpromise.then(function() {\nviewer_1689347398462019 = $3Dmol.createViewer(document.getElementById(\"3dmolviewer_1689347398462019\"),{backgroundColor:\"white\"});\nviewer_1689347398462019.zoomTo();\n\tviewer_1689347398462019.removeAllModels();\n\tviewer_1689347398462019.addModel(\"\\n     RDKit          2D\\n\\n 10 10  0  0  0  0  0  0  0  0999 V2000\\n    1.5000    0.0000    0.0000 C   0  0  0  0  0  0  0  0  0  0  0  0\\n    0.7500   -1.2990    0.0000 C   0  0  0  0  0  0  0  0  0  0  0  0\\n   -0.7500   -1.2990    0.0000 C   0  0  0  0  0  0  0  0  0  0  0  0\\n   -1.5000   -2.5981    0.0000 F   0  0  0  0  0  0  0  0  0  0  0  0\\n   -1.5000    0.0000    0.0000 C   0  0  0  0  0  0  0  0  0  0  0  0\\n   -3.0000    0.0000    0.0000 C   0  0  0  0  0  0  0  0  0  0  0  0\\n   -3.7500    1.2990    0.0000 N   0  0  0  0  0  0  0  0  0  0  0  0\\n   -0.7500    1.2990    0.0000 C   0  0  0  0  0  0  0  0  0  0  0  0\\n   -1.5000    2.5981    0.0000 Cl  0  0  0  0  0  0  0  0  0  0  0  0\\n    0.7500    1.2990    0.0000 C   0  0  0  0  0  0  0  0  0  0  0  0\\n  1  2  2  0\\n  2  3  1  0\\n  3  4  1  0\\n  3  5  2  0\\n  5  6  1  0\\n  6  7  1  0\\n  5  8  1  0\\n  8  9  1  0\\n  8 10  2  0\\n 10  1  1  0\\nM  END\\n\",\"sdf\");\n\tviewer_1689347398462019.setStyle({\"stick\": {}});\n\tviewer_1689347398462019.setStyle({\"model\": -1},{\"stick\": {\"colorscheme\": \"cyanCarbon\"}});\n\tviewer_1689347398462019.addModel(\"\\n     RDKit          2D\\n\\n 10 10  0  0  0  0  0  0  0  0999 V2000\\n    1.5000    0.0000    0.0000 C   0  0  0  0  0  0  0  0  0  0  0  0\\n    0.7500   -1.2990    0.0000 C   0  0  0  0  0  0  0  0  0  0  0  0\\n   -0.7500   -1.2990    0.0000 C   0  0  0  0  0  0  0  0  0  0  0  0\\n   -1.5000   -2.5981    0.0000 F   0  0  0  0  0  0  0  0  0  0  0  0\\n   -1.5000    0.0000    0.0000 C   0  0  0  0  0  0  0  0  0  0  0  0\\n   -3.0000    0.0000    0.0000 C   0  0  0  0  0  0  0  0  0  0  0  0\\n   -3.7500    1.2990    0.0000 N   0  0  0  0  0  0  0  0  0  0  0  0\\n   -0.7500    1.2990    0.0000 C   0  0  0  0  0  0  0  0  0  0  0  0\\n   -1.5000    2.5981    0.0000 Cl  0  0  0  0  0  0  0  0  0  0  0  0\\n    0.7500    1.2990    0.0000 C   0  0  0  0  0  0  0  0  0  0  0  0\\n  1  2  2  0\\n  2  3  1  0\\n  3  4  1  0\\n  3  5  2  0\\n  5  6  1  0\\n  6  7  1  0\\n  5  8  1  0\\n  8  9  1  0\\n  8 10  2  0\\n 10  1  1  0\\nM  END\\n\",\"sdf\");\n\tviewer_1689347398462019.setStyle({\"stick\": {}});\n\tviewer_1689347398462019.setStyle({\"model\": -1},{\"stick\": {\"colorscheme\": \"redCarbon\"}});\n\tviewer_1689347398462019.zoomTo();\nviewer_1689347398462019.render();\n});\n</script>",
      "text/html": "<div id=\"3dmolviewer_1689347398462019\"  style=\"position: relative; width: 400px; height: 400px;\">\n        <p id=\"3dmolwarning_1689347398462019\" style=\"background-color:#ffcccc;color:black\">You appear to be running in JupyterLab (or JavaScript failed to load for some other reason).  You need to install the 3dmol extension: <br>\n        <tt>jupyter labextension install jupyterlab_3dmol</tt></p>\n        </div>\n<script>\n\nvar loadScriptAsync = function(uri){\n  return new Promise((resolve, reject) => {\n    //this is to ignore the existence of requirejs amd\n    var savedexports, savedmodule;\n    if (typeof exports !== 'undefined') savedexports = exports;\n    else exports = {}\n    if (typeof module !== 'undefined') savedmodule = module;\n    else module = {}\n\n    var tag = document.createElement('script');\n    tag.src = uri;\n    tag.async = true;\n    tag.onload = () => {\n        exports = savedexports;\n        module = savedmodule;\n        resolve();\n    };\n  var firstScriptTag = document.getElementsByTagName('script')[0];\n  firstScriptTag.parentNode.insertBefore(tag, firstScriptTag);\n});\n};\n\nif(typeof $3Dmolpromise === 'undefined') {\n$3Dmolpromise = null;\n  $3Dmolpromise = loadScriptAsync('https://cdnjs.cloudflare.com/ajax/libs/3Dmol/2.0.3/3Dmol-min.js');\n}\n\nvar viewer_1689347398462019 = null;\nvar warn = document.getElementById(\"3dmolwarning_1689347398462019\");\nif(warn) {\n    warn.parentNode.removeChild(warn);\n}\n$3Dmolpromise.then(function() {\nviewer_1689347398462019 = $3Dmol.createViewer(document.getElementById(\"3dmolviewer_1689347398462019\"),{backgroundColor:\"white\"});\nviewer_1689347398462019.zoomTo();\n\tviewer_1689347398462019.removeAllModels();\n\tviewer_1689347398462019.addModel(\"\\n     RDKit          2D\\n\\n 10 10  0  0  0  0  0  0  0  0999 V2000\\n    1.5000    0.0000    0.0000 C   0  0  0  0  0  0  0  0  0  0  0  0\\n    0.7500   -1.2990    0.0000 C   0  0  0  0  0  0  0  0  0  0  0  0\\n   -0.7500   -1.2990    0.0000 C   0  0  0  0  0  0  0  0  0  0  0  0\\n   -1.5000   -2.5981    0.0000 F   0  0  0  0  0  0  0  0  0  0  0  0\\n   -1.5000    0.0000    0.0000 C   0  0  0  0  0  0  0  0  0  0  0  0\\n   -3.0000    0.0000    0.0000 C   0  0  0  0  0  0  0  0  0  0  0  0\\n   -3.7500    1.2990    0.0000 N   0  0  0  0  0  0  0  0  0  0  0  0\\n   -0.7500    1.2990    0.0000 C   0  0  0  0  0  0  0  0  0  0  0  0\\n   -1.5000    2.5981    0.0000 Cl  0  0  0  0  0  0  0  0  0  0  0  0\\n    0.7500    1.2990    0.0000 C   0  0  0  0  0  0  0  0  0  0  0  0\\n  1  2  2  0\\n  2  3  1  0\\n  3  4  1  0\\n  3  5  2  0\\n  5  6  1  0\\n  6  7  1  0\\n  5  8  1  0\\n  8  9  1  0\\n  8 10  2  0\\n 10  1  1  0\\nM  END\\n\",\"sdf\");\n\tviewer_1689347398462019.setStyle({\"stick\": {}});\n\tviewer_1689347398462019.setStyle({\"model\": -1},{\"stick\": {\"colorscheme\": \"cyanCarbon\"}});\n\tviewer_1689347398462019.addModel(\"\\n     RDKit          2D\\n\\n 10 10  0  0  0  0  0  0  0  0999 V2000\\n    1.5000    0.0000    0.0000 C   0  0  0  0  0  0  0  0  0  0  0  0\\n    0.7500   -1.2990    0.0000 C   0  0  0  0  0  0  0  0  0  0  0  0\\n   -0.7500   -1.2990    0.0000 C   0  0  0  0  0  0  0  0  0  0  0  0\\n   -1.5000   -2.5981    0.0000 F   0  0  0  0  0  0  0  0  0  0  0  0\\n   -1.5000    0.0000    0.0000 C   0  0  0  0  0  0  0  0  0  0  0  0\\n   -3.0000    0.0000    0.0000 C   0  0  0  0  0  0  0  0  0  0  0  0\\n   -3.7500    1.2990    0.0000 N   0  0  0  0  0  0  0  0  0  0  0  0\\n   -0.7500    1.2990    0.0000 C   0  0  0  0  0  0  0  0  0  0  0  0\\n   -1.5000    2.5981    0.0000 Cl  0  0  0  0  0  0  0  0  0  0  0  0\\n    0.7500    1.2990    0.0000 C   0  0  0  0  0  0  0  0  0  0  0  0\\n  1  2  2  0\\n  2  3  1  0\\n  3  4  1  0\\n  3  5  2  0\\n  5  6  1  0\\n  6  7  1  0\\n  5  8  1  0\\n  8  9  1  0\\n  8 10  2  0\\n 10  1  1  0\\nM  END\\n\",\"sdf\");\n\tviewer_1689347398462019.setStyle({\"stick\": {}});\n\tviewer_1689347398462019.setStyle({\"model\": -1},{\"stick\": {\"colorscheme\": \"redCarbon\"}});\n\tviewer_1689347398462019.zoomTo();\nviewer_1689347398462019.render();\n});\n</script>"
     },
     "metadata": {},
     "output_type": "display_data"
    }
   ],
   "source": [
    "drawit(mols)"
   ],
   "metadata": {
    "collapsed": false,
    "ExecuteTime": {
     "end_time": "2023-07-14T15:09:58.494736Z",
     "start_time": "2023-07-14T15:09:58.464875Z"
    }
   }
  },
  {
   "cell_type": "code",
   "execution_count": 21,
   "outputs": [
    {
     "data": {
      "text/plain": "0.6865039036599663"
     },
     "execution_count": 21,
     "metadata": {},
     "output_type": "execute_result"
    }
   ],
   "source": [
    "rmsd = chemUtils.molPlacement.embedding.calc_RMSD_between_original_and_mcs(mols[0],mols[1])\n",
    "rmsd"
   ],
   "metadata": {
    "collapsed": false,
    "ExecuteTime": {
     "end_time": "2023-07-14T15:10:51.723014Z",
     "start_time": "2023-07-14T15:10:51.714812Z"
    }
   }
  },
  {
   "cell_type": "code",
   "execution_count": 22,
   "outputs": [
    {
     "data": {
      "application/3dmoljs_load.v0": "<div id=\"3dmolviewer_1689347534586931\"  style=\"position: relative; width: 400px; height: 400px;\">\n        <p id=\"3dmolwarning_1689347534586931\" style=\"background-color:#ffcccc;color:black\">You appear to be running in JupyterLab (or JavaScript failed to load for some other reason).  You need to install the 3dmol extension: <br>\n        <tt>jupyter labextension install jupyterlab_3dmol</tt></p>\n        </div>\n<script>\n\nvar loadScriptAsync = function(uri){\n  return new Promise((resolve, reject) => {\n    //this is to ignore the existence of requirejs amd\n    var savedexports, savedmodule;\n    if (typeof exports !== 'undefined') savedexports = exports;\n    else exports = {}\n    if (typeof module !== 'undefined') savedmodule = module;\n    else module = {}\n\n    var tag = document.createElement('script');\n    tag.src = uri;\n    tag.async = true;\n    tag.onload = () => {\n        exports = savedexports;\n        module = savedmodule;\n        resolve();\n    };\n  var firstScriptTag = document.getElementsByTagName('script')[0];\n  firstScriptTag.parentNode.insertBefore(tag, firstScriptTag);\n});\n};\n\nif(typeof $3Dmolpromise === 'undefined') {\n$3Dmolpromise = null;\n  $3Dmolpromise = loadScriptAsync('https://cdnjs.cloudflare.com/ajax/libs/3Dmol/2.0.3/3Dmol-min.js');\n}\n\nvar viewer_1689347534586931 = null;\nvar warn = document.getElementById(\"3dmolwarning_1689347534586931\");\nif(warn) {\n    warn.parentNode.removeChild(warn);\n}\n$3Dmolpromise.then(function() {\nviewer_1689347534586931 = $3Dmol.createViewer(document.getElementById(\"3dmolviewer_1689347534586931\"),{backgroundColor:\"white\"});\nviewer_1689347534586931.zoomTo();\n\tviewer_1689347534586931.removeAllModels();\n\tviewer_1689347534586931.addModel(\"\\n     RDKit          2D\\n\\n 10 10  0  0  0  0  0  0  0  0999 V2000\\n    1.5000    0.0000    0.0000 C   0  0  0  0  0  0  0  0  0  0  0  0\\n    0.7500   -1.2990    0.0000 C   0  0  0  0  0  0  0  0  0  0  0  0\\n   -0.7500   -1.2990    0.0000 C   0  0  0  0  0  0  0  0  0  0  0  0\\n   -1.5000   -2.5981    0.0000 F   0  0  0  0  0  0  0  0  0  0  0  0\\n   -1.5000    0.0000    0.0000 C   0  0  0  0  0  0  0  0  0  0  0  0\\n   -3.0000    0.0000    0.0000 C   0  0  0  0  0  0  0  0  0  0  0  0\\n   -3.7500    1.2990    0.0000 N   0  0  0  0  0  0  0  0  0  0  0  0\\n   -0.7500    1.2990    0.0000 C   0  0  0  0  0  0  0  0  0  0  0  0\\n   -1.5000    2.5981    0.0000 Cl  0  0  0  0  0  0  0  0  0  0  0  0\\n    0.7500    1.2990    0.0000 C   0  0  0  0  0  0  0  0  0  0  0  0\\n  1  2  2  0\\n  2  3  1  0\\n  3  4  1  0\\n  3  5  2  0\\n  5  6  1  0\\n  6  7  1  0\\n  5  8  1  0\\n  8  9  1  0\\n  8 10  2  0\\n 10  1  1  0\\nM  END\\n\",\"sdf\");\n\tviewer_1689347534586931.setStyle({\"stick\": {}});\n\tviewer_1689347534586931.setStyle({\"model\": -1},{\"stick\": {\"colorscheme\": \"cyanCarbon\"}});\n\tviewer_1689347534586931.addModel(\"\\n     RDKit          2D\\n\\n 10 10  0  0  0  0  0  0  0  0999 V2000\\n    1.5000    0.0000    0.0000 C   0  0  0  0  0  0  0  0  0  0  0  0\\n    0.7500   -1.2990    0.0000 C   0  0  0  0  0  0  0  0  0  0  0  0\\n   -0.7500   -1.2990    0.0000 C   0  0  0  0  0  0  0  0  0  0  0  0\\n   -1.5000   -2.5981    0.0000 F   0  0  0  0  0  0  0  0  0  0  0  0\\n   -1.5000    0.0000    0.0000 C   0  0  0  0  0  0  0  0  0  0  0  0\\n   -3.0000    0.0000    0.0000 C   0  0  0  0  0  0  0  0  0  0  0  0\\n   -3.7500    1.2990    0.0000 N   0  0  0  0  0  0  0  0  0  0  0  0\\n   -0.7500    1.2990    0.0000 C   0  0  0  0  0  0  0  0  0  0  0  0\\n   -1.5000    2.5981    0.0000 Cl  0  0  0  0  0  0  0  0  0  0  0  0\\n    0.7500    1.2990    0.0000 C   0  0  0  0  0  0  0  0  0  0  0  0\\n  1  2  2  0\\n  2  3  1  0\\n  3  4  1  0\\n  3  5  2  0\\n  5  6  1  0\\n  6  7  1  0\\n  5  8  1  0\\n  8  9  1  0\\n  8 10  2  0\\n 10  1  1  0\\nM  END\\n\",\"sdf\");\n\tviewer_1689347534586931.setStyle({\"stick\": {}});\n\tviewer_1689347534586931.setStyle({\"model\": -1},{\"stick\": {\"colorscheme\": \"redCarbon\"}});\n\tviewer_1689347534586931.zoomTo();\nviewer_1689347534586931.render();\n});\n</script>",
      "text/html": "<div id=\"3dmolviewer_1689347534586931\"  style=\"position: relative; width: 400px; height: 400px;\">\n        <p id=\"3dmolwarning_1689347534586931\" style=\"background-color:#ffcccc;color:black\">You appear to be running in JupyterLab (or JavaScript failed to load for some other reason).  You need to install the 3dmol extension: <br>\n        <tt>jupyter labextension install jupyterlab_3dmol</tt></p>\n        </div>\n<script>\n\nvar loadScriptAsync = function(uri){\n  return new Promise((resolve, reject) => {\n    //this is to ignore the existence of requirejs amd\n    var savedexports, savedmodule;\n    if (typeof exports !== 'undefined') savedexports = exports;\n    else exports = {}\n    if (typeof module !== 'undefined') savedmodule = module;\n    else module = {}\n\n    var tag = document.createElement('script');\n    tag.src = uri;\n    tag.async = true;\n    tag.onload = () => {\n        exports = savedexports;\n        module = savedmodule;\n        resolve();\n    };\n  var firstScriptTag = document.getElementsByTagName('script')[0];\n  firstScriptTag.parentNode.insertBefore(tag, firstScriptTag);\n});\n};\n\nif(typeof $3Dmolpromise === 'undefined') {\n$3Dmolpromise = null;\n  $3Dmolpromise = loadScriptAsync('https://cdnjs.cloudflare.com/ajax/libs/3Dmol/2.0.3/3Dmol-min.js');\n}\n\nvar viewer_1689347534586931 = null;\nvar warn = document.getElementById(\"3dmolwarning_1689347534586931\");\nif(warn) {\n    warn.parentNode.removeChild(warn);\n}\n$3Dmolpromise.then(function() {\nviewer_1689347534586931 = $3Dmol.createViewer(document.getElementById(\"3dmolviewer_1689347534586931\"),{backgroundColor:\"white\"});\nviewer_1689347534586931.zoomTo();\n\tviewer_1689347534586931.removeAllModels();\n\tviewer_1689347534586931.addModel(\"\\n     RDKit          2D\\n\\n 10 10  0  0  0  0  0  0  0  0999 V2000\\n    1.5000    0.0000    0.0000 C   0  0  0  0  0  0  0  0  0  0  0  0\\n    0.7500   -1.2990    0.0000 C   0  0  0  0  0  0  0  0  0  0  0  0\\n   -0.7500   -1.2990    0.0000 C   0  0  0  0  0  0  0  0  0  0  0  0\\n   -1.5000   -2.5981    0.0000 F   0  0  0  0  0  0  0  0  0  0  0  0\\n   -1.5000    0.0000    0.0000 C   0  0  0  0  0  0  0  0  0  0  0  0\\n   -3.0000    0.0000    0.0000 C   0  0  0  0  0  0  0  0  0  0  0  0\\n   -3.7500    1.2990    0.0000 N   0  0  0  0  0  0  0  0  0  0  0  0\\n   -0.7500    1.2990    0.0000 C   0  0  0  0  0  0  0  0  0  0  0  0\\n   -1.5000    2.5981    0.0000 Cl  0  0  0  0  0  0  0  0  0  0  0  0\\n    0.7500    1.2990    0.0000 C   0  0  0  0  0  0  0  0  0  0  0  0\\n  1  2  2  0\\n  2  3  1  0\\n  3  4  1  0\\n  3  5  2  0\\n  5  6  1  0\\n  6  7  1  0\\n  5  8  1  0\\n  8  9  1  0\\n  8 10  2  0\\n 10  1  1  0\\nM  END\\n\",\"sdf\");\n\tviewer_1689347534586931.setStyle({\"stick\": {}});\n\tviewer_1689347534586931.setStyle({\"model\": -1},{\"stick\": {\"colorscheme\": \"cyanCarbon\"}});\n\tviewer_1689347534586931.addModel(\"\\n     RDKit          2D\\n\\n 10 10  0  0  0  0  0  0  0  0999 V2000\\n    1.5000    0.0000    0.0000 C   0  0  0  0  0  0  0  0  0  0  0  0\\n    0.7500   -1.2990    0.0000 C   0  0  0  0  0  0  0  0  0  0  0  0\\n   -0.7500   -1.2990    0.0000 C   0  0  0  0  0  0  0  0  0  0  0  0\\n   -1.5000   -2.5981    0.0000 F   0  0  0  0  0  0  0  0  0  0  0  0\\n   -1.5000    0.0000    0.0000 C   0  0  0  0  0  0  0  0  0  0  0  0\\n   -3.0000    0.0000    0.0000 C   0  0  0  0  0  0  0  0  0  0  0  0\\n   -3.7500    1.2990    0.0000 N   0  0  0  0  0  0  0  0  0  0  0  0\\n   -0.7500    1.2990    0.0000 C   0  0  0  0  0  0  0  0  0  0  0  0\\n   -1.5000    2.5981    0.0000 Cl  0  0  0  0  0  0  0  0  0  0  0  0\\n    0.7500    1.2990    0.0000 C   0  0  0  0  0  0  0  0  0  0  0  0\\n  1  2  2  0\\n  2  3  1  0\\n  3  4  1  0\\n  3  5  2  0\\n  5  6  1  0\\n  6  7  1  0\\n  5  8  1  0\\n  8  9  1  0\\n  8 10  2  0\\n 10  1  1  0\\nM  END\\n\",\"sdf\");\n\tviewer_1689347534586931.setStyle({\"stick\": {}});\n\tviewer_1689347534586931.setStyle({\"model\": -1},{\"stick\": {\"colorscheme\": \"redCarbon\"}});\n\tviewer_1689347534586931.zoomTo();\nviewer_1689347534586931.render();\n});\n</script>"
     },
     "metadata": {},
     "output_type": "display_data"
    }
   ],
   "source": [
    "mol1 = Chem.AddHs(mols[0], addCoords=True)\n",
    "mol2 = Chem.AddHs(mols[1], addCoords=True)\n",
    "drawit([mol1,mol2])"
   ],
   "metadata": {
    "collapsed": false,
    "ExecuteTime": {
     "end_time": "2023-07-14T15:12:14.594899Z",
     "start_time": "2023-07-14T15:12:14.587933Z"
    }
   }
  },
  {
   "cell_type": "code",
   "execution_count": 36,
   "outputs": [
    {
     "data": {
      "text/plain": "1.2726621022376365"
     },
     "execution_count": 36,
     "metadata": {},
     "output_type": "execute_result"
    }
   ],
   "source": [
    "AllChem.EmbedMolecule(mol1)\n",
    "AllChem.EmbedMolecule(mol2)\n",
    "AllChem.GetBestRMS(mol1, mol2)\n",
    "# RMSD is not 0 because they have random 3D embeddings"
   ],
   "metadata": {
    "collapsed": false,
    "ExecuteTime": {
     "end_time": "2023-07-14T15:19:11.262894Z",
     "start_time": "2023-07-14T15:19:11.252301Z"
    }
   }
  },
  {
   "cell_type": "code",
   "execution_count": 37,
   "outputs": [
    {
     "ename": "ValueError",
     "evalue": "Bad Conformer Id",
     "output_type": "error",
     "traceback": [
      "\u001B[0;31m---------------------------------------------------------------------------\u001B[0m",
      "\u001B[0;31mValueError\u001B[0m                                Traceback (most recent call last)",
      "Cell \u001B[0;32mIn[37], line 1\u001B[0m\n\u001B[0;32m----> 1\u001B[0m embedded \u001B[38;5;241m=\u001B[39m \u001B[43mAllChem\u001B[49m\u001B[38;5;241;43m.\u001B[39;49m\u001B[43mConstrainedEmbed\u001B[49m\u001B[43m(\u001B[49m\u001B[43mmols\u001B[49m\u001B[43m[\u001B[49m\u001B[38;5;241;43m0\u001B[39;49m\u001B[43m]\u001B[49m\u001B[43m,\u001B[49m\u001B[43m \u001B[49m\u001B[43mmols\u001B[49m\u001B[43m[\u001B[49m\u001B[38;5;241;43m1\u001B[39;49m\u001B[43m]\u001B[49m\u001B[43m)\u001B[49m\n\u001B[1;32m      2\u001B[0m embedded\n",
      "File \u001B[0;32m/opt/homebrew/anaconda3/envs/chemutils/lib/python3.9/site-packages/rdkit/Chem/AllChem.py:306\u001B[0m, in \u001B[0;36mConstrainedEmbed\u001B[0;34m(mol, core, useTethers, coreConfId, randomseed, getForceField, **kwargs)\u001B[0m\n\u001B[1;32m    304\u001B[0m   \u001B[38;5;28;01mraise\u001B[39;00m \u001B[38;5;167;01mValueError\u001B[39;00m(\u001B[38;5;124m\"\u001B[39m\u001B[38;5;124mmolecule doesn\u001B[39m\u001B[38;5;124m'\u001B[39m\u001B[38;5;124mt match the core\u001B[39m\u001B[38;5;124m\"\u001B[39m)\n\u001B[1;32m    305\u001B[0m coordMap \u001B[38;5;241m=\u001B[39m {}\n\u001B[0;32m--> 306\u001B[0m coreConf \u001B[38;5;241m=\u001B[39m \u001B[43mcore\u001B[49m\u001B[38;5;241;43m.\u001B[39;49m\u001B[43mGetConformer\u001B[49m\u001B[43m(\u001B[49m\u001B[43mcoreConfId\u001B[49m\u001B[43m)\u001B[49m\n\u001B[1;32m    307\u001B[0m \u001B[38;5;28;01mfor\u001B[39;00m i, idxI \u001B[38;5;129;01min\u001B[39;00m \u001B[38;5;28menumerate\u001B[39m(match):\n\u001B[1;32m    308\u001B[0m   corePtI \u001B[38;5;241m=\u001B[39m coreConf\u001B[38;5;241m.\u001B[39mGetAtomPosition(i)\n",
      "\u001B[0;31mValueError\u001B[0m: Bad Conformer Id"
     ]
    }
   ],
   "source": [
    "embedded = AllChem.ConstrainedEmbed(mols[0], mols[1])\n",
    "embedded"
   ],
   "metadata": {
    "collapsed": false,
    "ExecuteTime": {
     "end_time": "2023-07-14T15:20:37.994312Z",
     "start_time": "2023-07-14T15:20:37.942390Z"
    }
   }
  },
  {
   "cell_type": "code",
   "execution_count": null,
   "outputs": [],
   "source": [],
   "metadata": {
    "collapsed": false
   }
  }
 ],
 "metadata": {
  "kernelspec": {
   "display_name": "Python 3",
   "language": "python",
   "name": "python3"
  },
  "language_info": {
   "codemirror_mode": {
    "name": "ipython",
    "version": 2
   },
   "file_extension": ".py",
   "mimetype": "text/x-python",
   "name": "python",
   "nbconvert_exporter": "python",
   "pygments_lexer": "ipython2",
   "version": "2.7.6"
  }
 },
 "nbformat": 4,
 "nbformat_minor": 0
}
