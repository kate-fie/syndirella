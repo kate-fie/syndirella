{
 "cells": [
  {
   "cell_type": "code",
   "execution_count": 12,
   "id": "initial_id",
   "metadata": {
    "collapsed": true,
    "ExecuteTime": {
     "end_time": "2023-11-29T14:24:23.961973Z",
     "start_time": "2023-11-29T14:24:23.954955Z"
    }
   },
   "outputs": [],
   "source": [
    "import subprocess\n",
    "import os\n",
    "import sys"
   ]
  },
  {
   "cell_type": "code",
   "execution_count": 13,
   "outputs": [
    {
     "data": {
      "text/plain": "'/Users/kate_fieseler/PycharmProjects/retrievesynthesizable/D68EV3CPROA/run_frag_example'"
     },
     "execution_count": 13,
     "metadata": {},
     "output_type": "execute_result"
    }
   ],
   "source": [
    "os.chdir('/Users/kate_fieseler/PycharmProjects/retrievesynthesizable/D68EV3CPROA/run_frag_example')\n",
    "os.getcwd()"
   ],
   "metadata": {
    "collapsed": false,
    "ExecuteTime": {
     "end_time": "2023-11-29T14:24:23.972956Z",
     "start_time": "2023-11-29T14:24:23.958945Z"
    }
   },
   "id": "d7a3f03fb70f7685"
  },
  {
   "cell_type": "code",
   "execution_count": 14,
   "outputs": [
    {
     "data": {
      "text/plain": "'/opt/homebrew/anaconda3/envs/pyrosetta/bin/python'"
     },
     "execution_count": 14,
     "metadata": {},
     "output_type": "execute_result"
    }
   ],
   "source": [
    "sys.executable"
   ],
   "metadata": {
    "collapsed": false,
    "ExecuteTime": {
     "end_time": "2023-11-29T14:24:23.981873Z",
     "start_time": "2023-11-29T14:24:23.962375Z"
    }
   },
   "id": "8e0bf4cd7056289e"
  },
  {
   "cell_type": "code",
   "execution_count": 15,
   "outputs": [
    {
     "name": "stdout",
     "output_type": "stream",
     "text": [
      "Requirement already satisfied: Fragmenstein in /opt/homebrew/anaconda3/envs/pyrosetta/lib/python3.9/site-packages (0.13.36)\r\n",
      "Requirement already satisfied: requests>=2.27.1 in /opt/homebrew/anaconda3/envs/pyrosetta/lib/python3.9/site-packages (from Fragmenstein) (2.31.0)\r\n",
      "Requirement already satisfied: numpy>=1.21.6 in /opt/homebrew/anaconda3/envs/pyrosetta/lib/python3.9/site-packages (from Fragmenstein) (1.23.5)\r\n",
      "Requirement already satisfied: scipy>=1.7.3 in /opt/homebrew/anaconda3/envs/pyrosetta/lib/python3.9/site-packages (from Fragmenstein) (1.11.1)\r\n",
      "Requirement already satisfied: pandas>=1.3.5 in /opt/homebrew/anaconda3/envs/pyrosetta/lib/python3.9/site-packages (from Fragmenstein) (1.5.3)\r\n",
      "Requirement already satisfied: pebble>=4.6.3 in /opt/homebrew/anaconda3/envs/pyrosetta/lib/python3.9/site-packages (from Fragmenstein) (5.0.3)\r\n",
      "Requirement already satisfied: nglview>=3.0.3 in /opt/homebrew/anaconda3/envs/pyrosetta/lib/python3.9/site-packages (from Fragmenstein) (3.0.6)\r\n",
      "Requirement already satisfied: rdkit>=2022.3.2.1 in /opt/homebrew/anaconda3/envs/pyrosetta/lib/python3.9/site-packages (from Fragmenstein) (2023.3.2)\r\n",
      "Requirement already satisfied: rdkit-to-params>=1.2.3 in /opt/homebrew/anaconda3/envs/pyrosetta/lib/python3.9/site-packages (from Fragmenstein) (1.2.5)\r\n",
      "Requirement already satisfied: molecular-rectifier>=0.1.10 in /opt/homebrew/anaconda3/envs/pyrosetta/lib/python3.9/site-packages (from Fragmenstein) (0.1.10.2)\r\n",
      "Requirement already satisfied: singledispatchmethod>=1.0 in /opt/homebrew/anaconda3/envs/pyrosetta/lib/python3.9/site-packages (from Fragmenstein) (1.0)\r\n",
      "Requirement already satisfied: typing-extensions>=4.8.0 in /opt/homebrew/anaconda3/envs/pyrosetta/lib/python3.9/site-packages (from Fragmenstein) (4.8.0)\r\n",
      "Requirement already satisfied: matplotlib>=3.5.2 in /opt/homebrew/anaconda3/envs/pyrosetta/lib/python3.9/site-packages (from Fragmenstein) (3.7.2)\r\n",
      "Requirement already satisfied: smallworld-api>=1.1 in /opt/homebrew/anaconda3/envs/pyrosetta/lib/python3.9/site-packages (from Fragmenstein) (1.1.2)\r\n",
      "Requirement already satisfied: sqlitedict>=2.0.0 in /opt/homebrew/anaconda3/envs/pyrosetta/lib/python3.9/site-packages (from Fragmenstein) (2.1.0)\r\n",
      "Requirement already satisfied: pandera>=0.17.2 in /opt/homebrew/anaconda3/envs/pyrosetta/lib/python3.9/site-packages (from Fragmenstein) (0.17.2)\r\n",
      "Requirement already satisfied: pandarallel>=1.6.5 in /opt/homebrew/anaconda3/envs/pyrosetta/lib/python3.9/site-packages (from Fragmenstein) (1.6.5)\r\n",
      "Requirement already satisfied: pyyaml>=6.0 in /opt/homebrew/anaconda3/envs/pyrosetta/lib/python3.9/site-packages (from Fragmenstein) (6.0)\r\n",
      "Requirement already satisfied: contourpy>=1.0.1 in /opt/homebrew/anaconda3/envs/pyrosetta/lib/python3.9/site-packages (from matplotlib>=3.5.2->Fragmenstein) (1.0.5)\r\n",
      "Requirement already satisfied: cycler>=0.10 in /opt/homebrew/anaconda3/envs/pyrosetta/lib/python3.9/site-packages (from matplotlib>=3.5.2->Fragmenstein) (0.11.0)\r\n",
      "Requirement already satisfied: fonttools>=4.22.0 in /opt/homebrew/anaconda3/envs/pyrosetta/lib/python3.9/site-packages (from matplotlib>=3.5.2->Fragmenstein) (4.41.1)\r\n",
      "Requirement already satisfied: kiwisolver>=1.0.1 in /opt/homebrew/anaconda3/envs/pyrosetta/lib/python3.9/site-packages (from matplotlib>=3.5.2->Fragmenstein) (1.4.4)\r\n",
      "Requirement already satisfied: packaging>=20.0 in /opt/homebrew/anaconda3/envs/pyrosetta/lib/python3.9/site-packages (from matplotlib>=3.5.2->Fragmenstein) (23.0)\r\n",
      "Requirement already satisfied: pillow>=6.2.0 in /opt/homebrew/anaconda3/envs/pyrosetta/lib/python3.9/site-packages (from matplotlib>=3.5.2->Fragmenstein) (10.0.1)\r\n",
      "Requirement already satisfied: pyparsing<3.1,>=2.3.1 in /opt/homebrew/anaconda3/envs/pyrosetta/lib/python3.9/site-packages (from matplotlib>=3.5.2->Fragmenstein) (3.0.9)\r\n",
      "Requirement already satisfied: python-dateutil>=2.7 in /opt/homebrew/anaconda3/envs/pyrosetta/lib/python3.9/site-packages (from matplotlib>=3.5.2->Fragmenstein) (2.8.2)\r\n",
      "Requirement already satisfied: importlib-resources>=3.2.0 in /opt/homebrew/anaconda3/envs/pyrosetta/lib/python3.9/site-packages (from matplotlib>=3.5.2->Fragmenstein) (6.0.0)\r\n",
      "Requirement already satisfied: ipywidgets>=7 in /opt/homebrew/anaconda3/envs/pyrosetta/lib/python3.9/site-packages (from nglview>=3.0.3->Fragmenstein) (8.0.4)\r\n",
      "Requirement already satisfied: jupyterlab-widgets in /opt/homebrew/anaconda3/envs/pyrosetta/lib/python3.9/site-packages (from nglview>=3.0.3->Fragmenstein) (3.0.5)\r\n",
      "Requirement already satisfied: dill>=0.3.1 in /opt/homebrew/anaconda3/envs/pyrosetta/lib/python3.9/site-packages (from pandarallel>=1.6.5->Fragmenstein) (0.3.7)\r\n",
      "Requirement already satisfied: psutil in /opt/homebrew/anaconda3/envs/pyrosetta/lib/python3.9/site-packages (from pandarallel>=1.6.5->Fragmenstein) (5.9.0)\r\n",
      "Requirement already satisfied: pytz>=2020.1 in /opt/homebrew/anaconda3/envs/pyrosetta/lib/python3.9/site-packages (from pandas>=1.3.5->Fragmenstein) (2022.7)\r\n",
      "Requirement already satisfied: multimethod in /opt/homebrew/anaconda3/envs/pyrosetta/lib/python3.9/site-packages (from pandera>=0.17.2->Fragmenstein) (1.9.1)\r\n",
      "Requirement already satisfied: pydantic in /opt/homebrew/anaconda3/envs/pyrosetta/lib/python3.9/site-packages (from pandera>=0.17.2->Fragmenstein) (1.10.12)\r\n",
      "Requirement already satisfied: typeguard>=3.0.2 in /opt/homebrew/anaconda3/envs/pyrosetta/lib/python3.9/site-packages (from pandera>=0.17.2->Fragmenstein) (4.1.2)\r\n",
      "Requirement already satisfied: typing-inspect>=0.6.0 in /opt/homebrew/anaconda3/envs/pyrosetta/lib/python3.9/site-packages (from pandera>=0.17.2->Fragmenstein) (0.9.0)\r\n",
      "Requirement already satisfied: wrapt in /opt/homebrew/anaconda3/envs/pyrosetta/lib/python3.9/site-packages (from pandera>=0.17.2->Fragmenstein) (1.15.0)\r\n",
      "Requirement already satisfied: charset-normalizer<4,>=2 in /opt/homebrew/anaconda3/envs/pyrosetta/lib/python3.9/site-packages (from requests>=2.27.1->Fragmenstein) (2.0.4)\r\n",
      "Requirement already satisfied: idna<4,>=2.5 in /opt/homebrew/anaconda3/envs/pyrosetta/lib/python3.9/site-packages (from requests>=2.27.1->Fragmenstein) (3.4)\r\n",
      "Requirement already satisfied: urllib3<3,>=1.21.1 in /opt/homebrew/anaconda3/envs/pyrosetta/lib/python3.9/site-packages (from requests>=2.27.1->Fragmenstein) (1.26.16)\r\n",
      "Requirement already satisfied: certifi>=2017.4.17 in /opt/homebrew/anaconda3/envs/pyrosetta/lib/python3.9/site-packages (from requests>=2.27.1->Fragmenstein) (2023.7.22)\r\n",
      "Requirement already satisfied: ipython in /opt/homebrew/anaconda3/envs/pyrosetta/lib/python3.9/site-packages (from smallworld-api>=1.1->Fragmenstein) (8.12.0)\r\n",
      "Requirement already satisfied: zipp>=3.1.0 in /opt/homebrew/anaconda3/envs/pyrosetta/lib/python3.9/site-packages (from importlib-resources>=3.2.0->matplotlib>=3.5.2->Fragmenstein) (3.11.0)\r\n",
      "Requirement already satisfied: ipykernel>=4.5.1 in /opt/homebrew/anaconda3/envs/pyrosetta/lib/python3.9/site-packages (from ipywidgets>=7->nglview>=3.0.3->Fragmenstein) (6.19.2)\r\n",
      "Requirement already satisfied: traitlets>=4.3.1 in /opt/homebrew/anaconda3/envs/pyrosetta/lib/python3.9/site-packages (from ipywidgets>=7->nglview>=3.0.3->Fragmenstein) (5.7.1)\r\n",
      "Requirement already satisfied: widgetsnbextension~=4.0 in /opt/homebrew/anaconda3/envs/pyrosetta/lib/python3.9/site-packages (from ipywidgets>=7->nglview>=3.0.3->Fragmenstein) (4.0.5)\r\n",
      "Requirement already satisfied: backcall in /opt/homebrew/anaconda3/envs/pyrosetta/lib/python3.9/site-packages (from ipython->smallworld-api>=1.1->Fragmenstein) (0.2.0)\r\n",
      "Requirement already satisfied: decorator in /opt/homebrew/anaconda3/envs/pyrosetta/lib/python3.9/site-packages (from ipython->smallworld-api>=1.1->Fragmenstein) (5.1.1)\r\n",
      "Requirement already satisfied: jedi>=0.16 in /opt/homebrew/anaconda3/envs/pyrosetta/lib/python3.9/site-packages (from ipython->smallworld-api>=1.1->Fragmenstein) (0.18.1)\r\n",
      "Requirement already satisfied: matplotlib-inline in /opt/homebrew/anaconda3/envs/pyrosetta/lib/python3.9/site-packages (from ipython->smallworld-api>=1.1->Fragmenstein) (0.1.6)\r\n",
      "Requirement already satisfied: pickleshare in /opt/homebrew/anaconda3/envs/pyrosetta/lib/python3.9/site-packages (from ipython->smallworld-api>=1.1->Fragmenstein) (0.7.5)\r\n",
      "Requirement already satisfied: prompt-toolkit!=3.0.37,<3.1.0,>=3.0.30 in /opt/homebrew/anaconda3/envs/pyrosetta/lib/python3.9/site-packages (from ipython->smallworld-api>=1.1->Fragmenstein) (3.0.36)\r\n",
      "Requirement already satisfied: pygments>=2.4.0 in /opt/homebrew/anaconda3/envs/pyrosetta/lib/python3.9/site-packages (from ipython->smallworld-api>=1.1->Fragmenstein) (2.15.1)\r\n",
      "Requirement already satisfied: stack-data in /opt/homebrew/anaconda3/envs/pyrosetta/lib/python3.9/site-packages (from ipython->smallworld-api>=1.1->Fragmenstein) (0.2.0)\r\n",
      "Requirement already satisfied: pexpect>4.3 in /opt/homebrew/anaconda3/envs/pyrosetta/lib/python3.9/site-packages (from ipython->smallworld-api>=1.1->Fragmenstein) (4.8.0)\r\n",
      "Requirement already satisfied: appnope in /opt/homebrew/anaconda3/envs/pyrosetta/lib/python3.9/site-packages (from ipython->smallworld-api>=1.1->Fragmenstein) (0.1.2)\r\n",
      "Requirement already satisfied: six>=1.5 in /opt/homebrew/anaconda3/envs/pyrosetta/lib/python3.9/site-packages (from python-dateutil>=2.7->matplotlib>=3.5.2->Fragmenstein) (1.16.0)\r\n",
      "Requirement already satisfied: importlib-metadata>=3.6 in /opt/homebrew/anaconda3/envs/pyrosetta/lib/python3.9/site-packages (from typeguard>=3.0.2->pandera>=0.17.2->Fragmenstein) (6.0.0)\r\n",
      "Requirement already satisfied: mypy-extensions>=0.3.0 in /opt/homebrew/anaconda3/envs/pyrosetta/lib/python3.9/site-packages (from typing-inspect>=0.6.0->pandera>=0.17.2->Fragmenstein) (1.0.0)\r\n",
      "Requirement already satisfied: comm>=0.1.1 in /opt/homebrew/anaconda3/envs/pyrosetta/lib/python3.9/site-packages (from ipykernel>=4.5.1->ipywidgets>=7->nglview>=3.0.3->Fragmenstein) (0.1.2)\r\n",
      "Requirement already satisfied: debugpy>=1.0 in /opt/homebrew/anaconda3/envs/pyrosetta/lib/python3.9/site-packages (from ipykernel>=4.5.1->ipywidgets>=7->nglview>=3.0.3->Fragmenstein) (1.6.7)\r\n",
      "Requirement already satisfied: jupyter-client>=6.1.12 in /opt/homebrew/anaconda3/envs/pyrosetta/lib/python3.9/site-packages (from ipykernel>=4.5.1->ipywidgets>=7->nglview>=3.0.3->Fragmenstein) (7.4.9)\r\n",
      "Requirement already satisfied: nest-asyncio in /opt/homebrew/anaconda3/envs/pyrosetta/lib/python3.9/site-packages (from ipykernel>=4.5.1->ipywidgets>=7->nglview>=3.0.3->Fragmenstein) (1.5.6)\r\n",
      "Requirement already satisfied: pyzmq>=17 in /opt/homebrew/anaconda3/envs/pyrosetta/lib/python3.9/site-packages (from ipykernel>=4.5.1->ipywidgets>=7->nglview>=3.0.3->Fragmenstein) (23.2.0)\r\n",
      "Requirement already satisfied: tornado>=6.1 in /opt/homebrew/anaconda3/envs/pyrosetta/lib/python3.9/site-packages (from ipykernel>=4.5.1->ipywidgets>=7->nglview>=3.0.3->Fragmenstein) (6.3.2)\r\n",
      "Requirement already satisfied: parso<0.9.0,>=0.8.0 in /opt/homebrew/anaconda3/envs/pyrosetta/lib/python3.9/site-packages (from jedi>=0.16->ipython->smallworld-api>=1.1->Fragmenstein) (0.8.3)\r\n",
      "Requirement already satisfied: ptyprocess>=0.5 in /opt/homebrew/anaconda3/envs/pyrosetta/lib/python3.9/site-packages (from pexpect>4.3->ipython->smallworld-api>=1.1->Fragmenstein) (0.7.0)\r\n",
      "Requirement already satisfied: wcwidth in /opt/homebrew/anaconda3/envs/pyrosetta/lib/python3.9/site-packages (from prompt-toolkit!=3.0.37,<3.1.0,>=3.0.30->ipython->smallworld-api>=1.1->Fragmenstein) (0.2.5)\r\n",
      "Requirement already satisfied: executing in /opt/homebrew/anaconda3/envs/pyrosetta/lib/python3.9/site-packages (from stack-data->ipython->smallworld-api>=1.1->Fragmenstein) (0.8.3)\r\n",
      "Requirement already satisfied: asttokens in /opt/homebrew/anaconda3/envs/pyrosetta/lib/python3.9/site-packages (from stack-data->ipython->smallworld-api>=1.1->Fragmenstein) (2.0.5)\r\n",
      "Requirement already satisfied: pure-eval in /opt/homebrew/anaconda3/envs/pyrosetta/lib/python3.9/site-packages (from stack-data->ipython->smallworld-api>=1.1->Fragmenstein) (0.2.2)\r\n",
      "Requirement already satisfied: entrypoints in /opt/homebrew/anaconda3/envs/pyrosetta/lib/python3.9/site-packages (from jupyter-client>=6.1.12->ipykernel>=4.5.1->ipywidgets>=7->nglview>=3.0.3->Fragmenstein) (0.4)\r\n",
      "Requirement already satisfied: jupyter-core>=4.9.2 in /opt/homebrew/anaconda3/envs/pyrosetta/lib/python3.9/site-packages (from jupyter-client>=6.1.12->ipykernel>=4.5.1->ipywidgets>=7->nglview>=3.0.3->Fragmenstein) (5.3.0)\r\n",
      "Requirement already satisfied: platformdirs>=2.5 in /opt/homebrew/anaconda3/envs/pyrosetta/lib/python3.9/site-packages (from jupyter-core>=4.9.2->jupyter-client>=6.1.12->ipykernel>=4.5.1->ipywidgets>=7->nglview>=3.0.3->Fragmenstein) (2.5.2)\r\n"
     ]
    }
   ],
   "source": [
    "!/opt/homebrew/anaconda3/envs/pyrosetta/bin/python -m pip install Fragmenstein"
   ],
   "metadata": {
    "collapsed": false,
    "ExecuteTime": {
     "end_time": "2023-11-29T14:24:25.323031Z",
     "start_time": "2023-11-29T14:24:23.969297Z"
    }
   },
   "id": "6c4163d587eaf690"
  },
  {
   "cell_type": "code",
   "execution_count": 17,
   "outputs": [
    {
     "name": "stdout",
     "output_type": "stream",
     "text": [
      "Executing command: fragmenstein laboratory place --input D68EV3CPROA_combined.sdf --template D68EV3CPROA-x1594_0A_apo-desolv.pdb --in-table ENAMINE_PV-002960996640_x1594_0A_x2021_0A_1_step_2.csv --output output.csv --verbose --victor Wictor\n",
      "PyRosetta-4 2023 [Rosetta PyRosetta4.conda.m1.cxx11thread.serialization.python39.Release 2023.21+release.9b3660a893207250b5c6735d08f5a4dcd45633c5 2023-05-26T08:14:51] retrieved from: http://www.pyrosetta.org\n",
      "(C) Copyright Rosetta Commons Member Institutions. Created in JHU by Sergey Lyskov and PyRosetta Team.\n"
     ]
    },
    {
     "data": {
      "text/plain": "CompletedProcess(args=['fragmenstein', 'laboratory', 'place', '--input', 'D68EV3CPROA_combined.sdf', '--template', 'D68EV3CPROA-x1594_0A_apo-desolv.pdb', '--in-table', 'ENAMINE_PV-002960996640_x1594_0A_x2021_0A_1_step_2.csv', '--output', 'output.csv', '--verbose', '--victor', 'Wictor'], returncode=0)"
     },
     "execution_count": 17,
     "metadata": {},
     "output_type": "execute_result"
    }
   ],
   "source": [
    "frags_sdf = 'D68EV3CPROA_combined.sdf'\n",
    "template_pdb = 'D68EV3CPROA-x1594_0A_apo-desolv.pdb'\n",
    "elabs_csv = 'ENAMINE_PV-002960996640_x1594_0A_x2021_0A_1_step_2.csv'\n",
    "output_csv = 'output.csv'\n",
    "\n",
    "command = [\"fragmenstein\", \"laboratory\", \"place\", \"--input\", frags_sdf, \"--template\", template_pdb,\n",
    "     \"--in-table\", elabs_csv, \"--output\", output_csv, \"--verbose\", \"--victor\", \"Wictor\"]\n",
    "command_str = ' '.join(command)\n",
    "print(f\"Executing command: {command_str}\")\n",
    "\n",
    "subprocess.run(command)"
   ],
   "metadata": {
    "collapsed": false,
    "ExecuteTime": {
     "end_time": "2023-11-29T14:27:59.027722Z",
     "start_time": "2023-11-29T14:26:50.248834Z"
    }
   },
   "id": "f42c08b851ec72c3"
  },
  {
   "cell_type": "code",
   "execution_count": null,
   "outputs": [],
   "source": [],
   "metadata": {
    "collapsed": false
   },
   "id": "560d16a1403d3984"
  }
 ],
 "metadata": {
  "kernelspec": {
   "display_name": "Python 3",
   "language": "python",
   "name": "python3"
  },
  "language_info": {
   "codemirror_mode": {
    "name": "ipython",
    "version": 2
   },
   "file_extension": ".py",
   "mimetype": "text/x-python",
   "name": "python",
   "nbconvert_exporter": "python",
   "pygments_lexer": "ipython2",
   "version": "2.7.6"
  }
 },
 "nbformat": 4,
 "nbformat_minor": 5
}
