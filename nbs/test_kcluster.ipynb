{
 "cells": [
  {
   "cell_type": "code",
   "execution_count": 1,
   "id": "initial_id",
   "metadata": {
    "collapsed": true,
    "ExecuteTime": {
     "end_time": "2024-01-30T12:55:13.408918Z",
     "start_time": "2024-01-30T12:55:09.981249Z"
    }
   },
   "outputs": [
    {
     "name": "stderr",
     "output_type": "stream",
     "text": [
      "/var/folders/sg/gb03t0zx5sz8vw2lxlghz1gr0000gn/T/ipykernel_56652/807304849.py:1: DeprecationWarning: \n",
      "Pyarrow will become a required dependency of pandas in the next major release of pandas (pandas 3.0),\n",
      "(to allow more performant data types, such as the Arrow string type, and better interoperability with other libraries)\n",
      "but was not found to be installed on your system.\n",
      "If this would cause problems for you,\n",
      "please provide us feedback at https://github.com/pandas-dev/pandas/issues/54466\n",
      "        \n",
      "  import pandas as pd\n",
      "Failed to find the pandas get_adjustment() function to patch\n",
      "Failed to patch pandas - PandasTools will have limited functionality\n"
     ]
    }
   ],
   "source": [
    "import pandas as pd\n",
    "from rdkit import Chem\n",
    "from rdkit.Chem import PandasTools, AllChem\n",
    "from sklearn.cluster import KMeans\n",
    "import numpy as np"
   ]
  },
  {
   "cell_type": "code",
   "outputs": [
    {
     "data": {
      "text/plain": "                          r1_smiles  \\\n0                    Br[12c]1ccccn1   \n1                     Oc1cccc(Br)n1   \n2                     Nc1cccc(Br)n1   \n3                     Bc1ccnc(Br)c1   \n4                     Fc1ccnc(Br)c1   \n...                             ...   \n2154     O=C(OCc1ccnc(Br)c1)c1cocn1   \n2155     O=C(OCc1ccc(Br)nc1)c1cscn1   \n2156     O=C(OCc1ccnc(Br)c1)c1csnn1   \n2157     O=C(OCc1ccc(Br)nc1)c1cnco1   \n2158  O=C1CC(C(=O)OCc2cccc(Br)n2)C1   \n\n                                             r1_mol  \\\n0     <rdkit.Chem.rdchem.Mol object at 0x29cb306d0>   \n1     <rdkit.Chem.rdchem.Mol object at 0x29cb30740>   \n2     <rdkit.Chem.rdchem.Mol object at 0x29cb307b0>   \n3     <rdkit.Chem.rdchem.Mol object at 0x29cb30820>   \n4     <rdkit.Chem.rdchem.Mol object at 0x29cb30890>   \n...                                             ...   \n2154  <rdkit.Chem.rdchem.Mol object at 0x29cb76350>   \n2155  <rdkit.Chem.rdchem.Mol object at 0x29cb763c0>   \n2156  <rdkit.Chem.rdchem.Mol object at 0x29cb76430>   \n2157  <rdkit.Chem.rdchem.Mol object at 0x29cb764a0>   \n2158  <rdkit.Chem.rdchem.Mol object at 0x29cb76510>   \n\n      r1_Sp2-sp2_Suzuki_coupling  r2_Sp2-sp2_Suzuki_coupling  is_PAINS_A  \n0                           True                       False       False  \n1                           True                       False       False  \n2                           True                       False       False  \n3                           True                       False       False  \n4                           True                       False       False  \n...                          ...                         ...         ...  \n2154                        True                       False       False  \n2155                        True                       False       False  \n2156                        True                       False       False  \n2157                        True                       False       False  \n2158                        True                       False       False  \n\n[2159 rows x 5 columns]",
      "text/html": "<div>\n<style scoped>\n    .dataframe tbody tr th:only-of-type {\n        vertical-align: middle;\n    }\n\n    .dataframe tbody tr th {\n        vertical-align: top;\n    }\n\n    .dataframe thead th {\n        text-align: right;\n    }\n</style>\n<table border=\"1\" class=\"dataframe\">\n  <thead>\n    <tr style=\"text-align: right;\">\n      <th></th>\n      <th>r1_smiles</th>\n      <th>r1_mol</th>\n      <th>r1_Sp2-sp2_Suzuki_coupling</th>\n      <th>r2_Sp2-sp2_Suzuki_coupling</th>\n      <th>is_PAINS_A</th>\n    </tr>\n  </thead>\n  <tbody>\n    <tr>\n      <th>0</th>\n      <td>Br[12c]1ccccn1</td>\n      <td>&lt;rdkit.Chem.rdchem.Mol object at 0x29cb306d0&gt;</td>\n      <td>True</td>\n      <td>False</td>\n      <td>False</td>\n    </tr>\n    <tr>\n      <th>1</th>\n      <td>Oc1cccc(Br)n1</td>\n      <td>&lt;rdkit.Chem.rdchem.Mol object at 0x29cb30740&gt;</td>\n      <td>True</td>\n      <td>False</td>\n      <td>False</td>\n    </tr>\n    <tr>\n      <th>2</th>\n      <td>Nc1cccc(Br)n1</td>\n      <td>&lt;rdkit.Chem.rdchem.Mol object at 0x29cb307b0&gt;</td>\n      <td>True</td>\n      <td>False</td>\n      <td>False</td>\n    </tr>\n    <tr>\n      <th>3</th>\n      <td>Bc1ccnc(Br)c1</td>\n      <td>&lt;rdkit.Chem.rdchem.Mol object at 0x29cb30820&gt;</td>\n      <td>True</td>\n      <td>False</td>\n      <td>False</td>\n    </tr>\n    <tr>\n      <th>4</th>\n      <td>Fc1ccnc(Br)c1</td>\n      <td>&lt;rdkit.Chem.rdchem.Mol object at 0x29cb30890&gt;</td>\n      <td>True</td>\n      <td>False</td>\n      <td>False</td>\n    </tr>\n    <tr>\n      <th>...</th>\n      <td>...</td>\n      <td>...</td>\n      <td>...</td>\n      <td>...</td>\n      <td>...</td>\n    </tr>\n    <tr>\n      <th>2154</th>\n      <td>O=C(OCc1ccnc(Br)c1)c1cocn1</td>\n      <td>&lt;rdkit.Chem.rdchem.Mol object at 0x29cb76350&gt;</td>\n      <td>True</td>\n      <td>False</td>\n      <td>False</td>\n    </tr>\n    <tr>\n      <th>2155</th>\n      <td>O=C(OCc1ccc(Br)nc1)c1cscn1</td>\n      <td>&lt;rdkit.Chem.rdchem.Mol object at 0x29cb763c0&gt;</td>\n      <td>True</td>\n      <td>False</td>\n      <td>False</td>\n    </tr>\n    <tr>\n      <th>2156</th>\n      <td>O=C(OCc1ccnc(Br)c1)c1csnn1</td>\n      <td>&lt;rdkit.Chem.rdchem.Mol object at 0x29cb76430&gt;</td>\n      <td>True</td>\n      <td>False</td>\n      <td>False</td>\n    </tr>\n    <tr>\n      <th>2157</th>\n      <td>O=C(OCc1ccc(Br)nc1)c1cnco1</td>\n      <td>&lt;rdkit.Chem.rdchem.Mol object at 0x29cb764a0&gt;</td>\n      <td>True</td>\n      <td>False</td>\n      <td>False</td>\n    </tr>\n    <tr>\n      <th>2158</th>\n      <td>O=C1CC(C(=O)OCc2cccc(Br)n2)C1</td>\n      <td>&lt;rdkit.Chem.rdchem.Mol object at 0x29cb76510&gt;</td>\n      <td>True</td>\n      <td>False</td>\n      <td>False</td>\n    </tr>\n  </tbody>\n</table>\n<p>2159 rows × 5 columns</p>\n</div>"
     },
     "execution_count": 31,
     "metadata": {},
     "output_type": "execute_result"
    }
   ],
   "source": [
    "df = pd.read_csv('/Users/kate_fieseler/PycharmProjects/syndirella/exps/painsA_noclust/extra/KFKUHRDIQZWKPK-UHFFFAOYSA-N_Sp2-sp2_Suzuki_coupling_r1_1of1.csv', index_col=0)\n",
    "df"
   ],
   "metadata": {
    "collapsed": false,
    "ExecuteTime": {
     "end_time": "2024-01-30T11:52:39.405834Z",
     "start_time": "2024-01-30T11:52:39.382094Z"
    }
   },
   "id": "5074009906da598d",
   "execution_count": 31
  },
  {
   "cell_type": "code",
   "outputs": [
    {
     "name": "stderr",
     "output_type": "stream",
     "text": [
      "Failed to patch pandas - unable to change molecule rendering\n",
      "/opt/homebrew/anaconda3/envs/pyrosetta/lib/python3.9/site-packages/sklearn/cluster/_kmeans.py:1412: FutureWarning: The default value of `n_init` will change from 10 to 'auto' in 1.4. Set the value of `n_init` explicitly to suppress the warning\n",
      "  super()._check_params_vs_input(X, default_n_init=10)\n"
     ]
    },
    {
     "ename": "AttributeError",
     "evalue": "'NoneType' object has no attribute 'split'",
     "output_type": "error",
     "traceback": [
      "\u001B[0;31m---------------------------------------------------------------------------\u001B[0m",
      "\u001B[0;31mAttributeError\u001B[0m                            Traceback (most recent call last)",
      "Cell \u001B[0;32mIn[32], line 17\u001B[0m\n\u001B[1;32m     15\u001B[0m \u001B[38;5;66;03m# Apply K-Means Clustering\u001B[39;00m\n\u001B[1;32m     16\u001B[0m kmeans \u001B[38;5;241m=\u001B[39m KMeans(n_clusters\u001B[38;5;241m=\u001B[39mn_clusters, random_state\u001B[38;5;241m=\u001B[39m\u001B[38;5;241m42\u001B[39m)\n\u001B[0;32m---> 17\u001B[0m df[\u001B[38;5;124m'\u001B[39m\u001B[38;5;124mCluster\u001B[39m\u001B[38;5;124m'\u001B[39m] \u001B[38;5;241m=\u001B[39m \u001B[43mkmeans\u001B[49m\u001B[38;5;241;43m.\u001B[39;49m\u001B[43mfit_predict\u001B[49m\u001B[43m(\u001B[49m\u001B[43mfp_array\u001B[49m\u001B[43m)\u001B[49m\n\u001B[1;32m     19\u001B[0m \u001B[38;5;66;03m# Display the DataFrame\u001B[39;00m\n\u001B[1;32m     20\u001B[0m PandasTools\u001B[38;5;241m.\u001B[39mChangeMoleculeRendering(df)\n",
      "File \u001B[0;32m/opt/homebrew/anaconda3/envs/pyrosetta/lib/python3.9/site-packages/sklearn/cluster/_kmeans.py:1068\u001B[0m, in \u001B[0;36m_BaseKMeans.fit_predict\u001B[0;34m(self, X, y, sample_weight)\u001B[0m\n\u001B[1;32m   1045\u001B[0m \u001B[38;5;28;01mdef\u001B[39;00m \u001B[38;5;21mfit_predict\u001B[39m(\u001B[38;5;28mself\u001B[39m, X, y\u001B[38;5;241m=\u001B[39m\u001B[38;5;28;01mNone\u001B[39;00m, sample_weight\u001B[38;5;241m=\u001B[39m\u001B[38;5;28;01mNone\u001B[39;00m):\n\u001B[1;32m   1046\u001B[0m \u001B[38;5;250m    \u001B[39m\u001B[38;5;124;03m\"\"\"Compute cluster centers and predict cluster index for each sample.\u001B[39;00m\n\u001B[1;32m   1047\u001B[0m \n\u001B[1;32m   1048\u001B[0m \u001B[38;5;124;03m    Convenience method; equivalent to calling fit(X) followed by\u001B[39;00m\n\u001B[0;32m   (...)\u001B[0m\n\u001B[1;32m   1066\u001B[0m \u001B[38;5;124;03m        Index of the cluster each sample belongs to.\u001B[39;00m\n\u001B[1;32m   1067\u001B[0m \u001B[38;5;124;03m    \"\"\"\u001B[39;00m\n\u001B[0;32m-> 1068\u001B[0m     \u001B[38;5;28;01mreturn\u001B[39;00m \u001B[38;5;28;43mself\u001B[39;49m\u001B[38;5;241;43m.\u001B[39;49m\u001B[43mfit\u001B[49m\u001B[43m(\u001B[49m\u001B[43mX\u001B[49m\u001B[43m,\u001B[49m\u001B[43m \u001B[49m\u001B[43msample_weight\u001B[49m\u001B[38;5;241;43m=\u001B[39;49m\u001B[43msample_weight\u001B[49m\u001B[43m)\u001B[49m\u001B[38;5;241m.\u001B[39mlabels_\n",
      "File \u001B[0;32m/opt/homebrew/anaconda3/envs/pyrosetta/lib/python3.9/site-packages/sklearn/base.py:1151\u001B[0m, in \u001B[0;36m_fit_context.<locals>.decorator.<locals>.wrapper\u001B[0;34m(estimator, *args, **kwargs)\u001B[0m\n\u001B[1;32m   1144\u001B[0m     estimator\u001B[38;5;241m.\u001B[39m_validate_params()\n\u001B[1;32m   1146\u001B[0m \u001B[38;5;28;01mwith\u001B[39;00m config_context(\n\u001B[1;32m   1147\u001B[0m     skip_parameter_validation\u001B[38;5;241m=\u001B[39m(\n\u001B[1;32m   1148\u001B[0m         prefer_skip_nested_validation \u001B[38;5;129;01mor\u001B[39;00m global_skip_validation\n\u001B[1;32m   1149\u001B[0m     )\n\u001B[1;32m   1150\u001B[0m ):\n\u001B[0;32m-> 1151\u001B[0m     \u001B[38;5;28;01mreturn\u001B[39;00m \u001B[43mfit_method\u001B[49m\u001B[43m(\u001B[49m\u001B[43mestimator\u001B[49m\u001B[43m,\u001B[49m\u001B[43m \u001B[49m\u001B[38;5;241;43m*\u001B[39;49m\u001B[43margs\u001B[49m\u001B[43m,\u001B[49m\u001B[43m \u001B[49m\u001B[38;5;241;43m*\u001B[39;49m\u001B[38;5;241;43m*\u001B[39;49m\u001B[43mkwargs\u001B[49m\u001B[43m)\u001B[49m\n",
      "File \u001B[0;32m/opt/homebrew/anaconda3/envs/pyrosetta/lib/python3.9/site-packages/sklearn/cluster/_kmeans.py:1509\u001B[0m, in \u001B[0;36mKMeans.fit\u001B[0;34m(self, X, y, sample_weight)\u001B[0m\n\u001B[1;32m   1507\u001B[0m \u001B[38;5;28;01melse\u001B[39;00m:\n\u001B[1;32m   1508\u001B[0m     kmeans_single \u001B[38;5;241m=\u001B[39m _kmeans_single_lloyd\n\u001B[0;32m-> 1509\u001B[0m     \u001B[38;5;28;43mself\u001B[39;49m\u001B[38;5;241;43m.\u001B[39;49m\u001B[43m_check_mkl_vcomp\u001B[49m\u001B[43m(\u001B[49m\u001B[43mX\u001B[49m\u001B[43m,\u001B[49m\u001B[43m \u001B[49m\u001B[43mX\u001B[49m\u001B[38;5;241;43m.\u001B[39;49m\u001B[43mshape\u001B[49m\u001B[43m[\u001B[49m\u001B[38;5;241;43m0\u001B[39;49m\u001B[43m]\u001B[49m\u001B[43m)\u001B[49m\n\u001B[1;32m   1511\u001B[0m best_inertia, best_labels \u001B[38;5;241m=\u001B[39m \u001B[38;5;28;01mNone\u001B[39;00m, \u001B[38;5;28;01mNone\u001B[39;00m\n\u001B[1;32m   1513\u001B[0m \u001B[38;5;28;01mfor\u001B[39;00m i \u001B[38;5;129;01min\u001B[39;00m \u001B[38;5;28mrange\u001B[39m(\u001B[38;5;28mself\u001B[39m\u001B[38;5;241m.\u001B[39m_n_init):\n\u001B[1;32m   1514\u001B[0m     \u001B[38;5;66;03m# Initialize centers\u001B[39;00m\n",
      "File \u001B[0;32m/opt/homebrew/anaconda3/envs/pyrosetta/lib/python3.9/site-packages/sklearn/cluster/_kmeans.py:927\u001B[0m, in \u001B[0;36m_BaseKMeans._check_mkl_vcomp\u001B[0;34m(self, X, n_samples)\u001B[0m\n\u001B[1;32m    925\u001B[0m n_active_threads \u001B[38;5;241m=\u001B[39m \u001B[38;5;28mint\u001B[39m(np\u001B[38;5;241m.\u001B[39mceil(n_samples \u001B[38;5;241m/\u001B[39m CHUNK_SIZE))\n\u001B[1;32m    926\u001B[0m \u001B[38;5;28;01mif\u001B[39;00m n_active_threads \u001B[38;5;241m<\u001B[39m \u001B[38;5;28mself\u001B[39m\u001B[38;5;241m.\u001B[39m_n_threads:\n\u001B[0;32m--> 927\u001B[0m     modules \u001B[38;5;241m=\u001B[39m \u001B[43mthreadpool_info\u001B[49m\u001B[43m(\u001B[49m\u001B[43m)\u001B[49m\n\u001B[1;32m    928\u001B[0m     has_vcomp \u001B[38;5;241m=\u001B[39m \u001B[38;5;124m\"\u001B[39m\u001B[38;5;124mvcomp\u001B[39m\u001B[38;5;124m\"\u001B[39m \u001B[38;5;129;01min\u001B[39;00m [module[\u001B[38;5;124m\"\u001B[39m\u001B[38;5;124mprefix\u001B[39m\u001B[38;5;124m\"\u001B[39m] \u001B[38;5;28;01mfor\u001B[39;00m module \u001B[38;5;129;01min\u001B[39;00m modules]\n\u001B[1;32m    929\u001B[0m     has_mkl \u001B[38;5;241m=\u001B[39m (\u001B[38;5;124m\"\u001B[39m\u001B[38;5;124mmkl\u001B[39m\u001B[38;5;124m\"\u001B[39m, \u001B[38;5;124m\"\u001B[39m\u001B[38;5;124mintel\u001B[39m\u001B[38;5;124m\"\u001B[39m) \u001B[38;5;129;01min\u001B[39;00m [\n\u001B[1;32m    930\u001B[0m         (module[\u001B[38;5;124m\"\u001B[39m\u001B[38;5;124minternal_api\u001B[39m\u001B[38;5;124m\"\u001B[39m], module\u001B[38;5;241m.\u001B[39mget(\u001B[38;5;124m\"\u001B[39m\u001B[38;5;124mthreading_layer\u001B[39m\u001B[38;5;124m\"\u001B[39m, \u001B[38;5;28;01mNone\u001B[39;00m))\n\u001B[1;32m    931\u001B[0m         \u001B[38;5;28;01mfor\u001B[39;00m module \u001B[38;5;129;01min\u001B[39;00m modules\n\u001B[1;32m    932\u001B[0m     ]\n",
      "File \u001B[0;32m/opt/homebrew/anaconda3/envs/pyrosetta/lib/python3.9/site-packages/sklearn/utils/fixes.py:83\u001B[0m, in \u001B[0;36mthreadpool_info\u001B[0;34m()\u001B[0m\n\u001B[1;32m     81\u001B[0m     \u001B[38;5;28;01mreturn\u001B[39;00m controller\u001B[38;5;241m.\u001B[39minfo()\n\u001B[1;32m     82\u001B[0m \u001B[38;5;28;01melse\u001B[39;00m:\n\u001B[0;32m---> 83\u001B[0m     \u001B[38;5;28;01mreturn\u001B[39;00m \u001B[43mthreadpoolctl\u001B[49m\u001B[38;5;241;43m.\u001B[39;49m\u001B[43mthreadpool_info\u001B[49m\u001B[43m(\u001B[49m\u001B[43m)\u001B[49m\n",
      "File \u001B[0;32m/opt/homebrew/anaconda3/envs/pyrosetta/lib/python3.9/site-packages/threadpoolctl.py:124\u001B[0m, in \u001B[0;36mthreadpool_info\u001B[0;34m()\u001B[0m\n\u001B[1;32m    107\u001B[0m \u001B[38;5;129m@_format_docstring\u001B[39m(USER_APIS\u001B[38;5;241m=\u001B[39m\u001B[38;5;28mlist\u001B[39m(_ALL_USER_APIS),\n\u001B[1;32m    108\u001B[0m                    INTERNAL_APIS\u001B[38;5;241m=\u001B[39m_ALL_INTERNAL_APIS)\n\u001B[1;32m    109\u001B[0m \u001B[38;5;28;01mdef\u001B[39;00m \u001B[38;5;21mthreadpool_info\u001B[39m():\n\u001B[1;32m    110\u001B[0m \u001B[38;5;250m    \u001B[39m\u001B[38;5;124;03m\"\"\"Return the maximal number of threads for each detected library.\u001B[39;00m\n\u001B[1;32m    111\u001B[0m \n\u001B[1;32m    112\u001B[0m \u001B[38;5;124;03m    Return a list with all the supported modules that have been found. Each\u001B[39;00m\n\u001B[0;32m   (...)\u001B[0m\n\u001B[1;32m    122\u001B[0m \u001B[38;5;124;03m    In addition, each module may contain internal_api specific entries.\u001B[39;00m\n\u001B[1;32m    123\u001B[0m \u001B[38;5;124;03m    \"\"\"\u001B[39;00m\n\u001B[0;32m--> 124\u001B[0m     \u001B[38;5;28;01mreturn\u001B[39;00m \u001B[43m_ThreadpoolInfo\u001B[49m\u001B[43m(\u001B[49m\u001B[43muser_api\u001B[49m\u001B[38;5;241;43m=\u001B[39;49m\u001B[43m_ALL_USER_APIS\u001B[49m\u001B[43m)\u001B[49m\u001B[38;5;241m.\u001B[39mtodicts()\n",
      "File \u001B[0;32m/opt/homebrew/anaconda3/envs/pyrosetta/lib/python3.9/site-packages/threadpoolctl.py:340\u001B[0m, in \u001B[0;36m_ThreadpoolInfo.__init__\u001B[0;34m(self, user_api, prefixes, modules)\u001B[0m\n\u001B[1;32m    337\u001B[0m     \u001B[38;5;28mself\u001B[39m\u001B[38;5;241m.\u001B[39muser_api \u001B[38;5;241m=\u001B[39m [] \u001B[38;5;28;01mif\u001B[39;00m user_api \u001B[38;5;129;01mis\u001B[39;00m \u001B[38;5;28;01mNone\u001B[39;00m \u001B[38;5;28;01melse\u001B[39;00m user_api\n\u001B[1;32m    339\u001B[0m     \u001B[38;5;28mself\u001B[39m\u001B[38;5;241m.\u001B[39mmodules \u001B[38;5;241m=\u001B[39m []\n\u001B[0;32m--> 340\u001B[0m     \u001B[38;5;28;43mself\u001B[39;49m\u001B[38;5;241;43m.\u001B[39;49m\u001B[43m_load_modules\u001B[49m\u001B[43m(\u001B[49m\u001B[43m)\u001B[49m\n\u001B[1;32m    341\u001B[0m     \u001B[38;5;28mself\u001B[39m\u001B[38;5;241m.\u001B[39m_warn_if_incompatible_openmp()\n\u001B[1;32m    342\u001B[0m \u001B[38;5;28;01melse\u001B[39;00m:\n",
      "File \u001B[0;32m/opt/homebrew/anaconda3/envs/pyrosetta/lib/python3.9/site-packages/threadpoolctl.py:371\u001B[0m, in \u001B[0;36m_ThreadpoolInfo._load_modules\u001B[0;34m(self)\u001B[0m\n\u001B[1;32m    369\u001B[0m \u001B[38;5;250m\u001B[39m\u001B[38;5;124;03m\"\"\"Loop through loaded libraries and store supported ones\"\"\"\u001B[39;00m\n\u001B[1;32m    370\u001B[0m \u001B[38;5;28;01mif\u001B[39;00m sys\u001B[38;5;241m.\u001B[39mplatform \u001B[38;5;241m==\u001B[39m \u001B[38;5;124m\"\u001B[39m\u001B[38;5;124mdarwin\u001B[39m\u001B[38;5;124m\"\u001B[39m:\n\u001B[0;32m--> 371\u001B[0m     \u001B[38;5;28;43mself\u001B[39;49m\u001B[38;5;241;43m.\u001B[39;49m\u001B[43m_find_modules_with_dyld\u001B[49m\u001B[43m(\u001B[49m\u001B[43m)\u001B[49m\n\u001B[1;32m    372\u001B[0m \u001B[38;5;28;01melif\u001B[39;00m sys\u001B[38;5;241m.\u001B[39mplatform \u001B[38;5;241m==\u001B[39m \u001B[38;5;124m\"\u001B[39m\u001B[38;5;124mwin32\u001B[39m\u001B[38;5;124m\"\u001B[39m:\n\u001B[1;32m    373\u001B[0m     \u001B[38;5;28mself\u001B[39m\u001B[38;5;241m.\u001B[39m_find_modules_with_enum_process_module_ex()\n",
      "File \u001B[0;32m/opt/homebrew/anaconda3/envs/pyrosetta/lib/python3.9/site-packages/threadpoolctl.py:428\u001B[0m, in \u001B[0;36m_ThreadpoolInfo._find_modules_with_dyld\u001B[0;34m(self)\u001B[0m\n\u001B[1;32m    425\u001B[0m filepath \u001B[38;5;241m=\u001B[39m filepath\u001B[38;5;241m.\u001B[39mdecode(\u001B[38;5;124m\"\u001B[39m\u001B[38;5;124mutf-8\u001B[39m\u001B[38;5;124m\"\u001B[39m)\n\u001B[1;32m    427\u001B[0m \u001B[38;5;66;03m# Store the module if it is supported and selected\u001B[39;00m\n\u001B[0;32m--> 428\u001B[0m \u001B[38;5;28;43mself\u001B[39;49m\u001B[38;5;241;43m.\u001B[39;49m\u001B[43m_make_module_from_path\u001B[49m\u001B[43m(\u001B[49m\u001B[43mfilepath\u001B[49m\u001B[43m)\u001B[49m\n",
      "File \u001B[0;32m/opt/homebrew/anaconda3/envs/pyrosetta/lib/python3.9/site-packages/threadpoolctl.py:515\u001B[0m, in \u001B[0;36m_ThreadpoolInfo._make_module_from_path\u001B[0;34m(self, filepath)\u001B[0m\n\u001B[1;32m    513\u001B[0m \u001B[38;5;28;01mif\u001B[39;00m prefix \u001B[38;5;129;01min\u001B[39;00m \u001B[38;5;28mself\u001B[39m\u001B[38;5;241m.\u001B[39mprefixes \u001B[38;5;129;01mor\u001B[39;00m user_api \u001B[38;5;129;01min\u001B[39;00m \u001B[38;5;28mself\u001B[39m\u001B[38;5;241m.\u001B[39muser_api:\n\u001B[1;32m    514\u001B[0m     module_class \u001B[38;5;241m=\u001B[39m \u001B[38;5;28mglobals\u001B[39m()[module_class]\n\u001B[0;32m--> 515\u001B[0m     module \u001B[38;5;241m=\u001B[39m \u001B[43mmodule_class\u001B[49m\u001B[43m(\u001B[49m\u001B[43mfilepath\u001B[49m\u001B[43m,\u001B[49m\u001B[43m \u001B[49m\u001B[43mprefix\u001B[49m\u001B[43m,\u001B[49m\u001B[43m \u001B[49m\u001B[43muser_api\u001B[49m\u001B[43m,\u001B[49m\u001B[43m \u001B[49m\u001B[43minternal_api\u001B[49m\u001B[43m)\u001B[49m\n\u001B[1;32m    516\u001B[0m     \u001B[38;5;28mself\u001B[39m\u001B[38;5;241m.\u001B[39mmodules\u001B[38;5;241m.\u001B[39mappend(module)\n",
      "File \u001B[0;32m/opt/homebrew/anaconda3/envs/pyrosetta/lib/python3.9/site-packages/threadpoolctl.py:606\u001B[0m, in \u001B[0;36m_Module.__init__\u001B[0;34m(self, filepath, prefix, user_api, internal_api)\u001B[0m\n\u001B[1;32m    604\u001B[0m \u001B[38;5;28mself\u001B[39m\u001B[38;5;241m.\u001B[39minternal_api \u001B[38;5;241m=\u001B[39m internal_api\n\u001B[1;32m    605\u001B[0m \u001B[38;5;28mself\u001B[39m\u001B[38;5;241m.\u001B[39m_dynlib \u001B[38;5;241m=\u001B[39m ctypes\u001B[38;5;241m.\u001B[39mCDLL(filepath, mode\u001B[38;5;241m=\u001B[39m_RTLD_NOLOAD)\n\u001B[0;32m--> 606\u001B[0m \u001B[38;5;28mself\u001B[39m\u001B[38;5;241m.\u001B[39mversion \u001B[38;5;241m=\u001B[39m \u001B[38;5;28;43mself\u001B[39;49m\u001B[38;5;241;43m.\u001B[39;49m\u001B[43mget_version\u001B[49m\u001B[43m(\u001B[49m\u001B[43m)\u001B[49m\n\u001B[1;32m    607\u001B[0m \u001B[38;5;28mself\u001B[39m\u001B[38;5;241m.\u001B[39mnum_threads \u001B[38;5;241m=\u001B[39m \u001B[38;5;28mself\u001B[39m\u001B[38;5;241m.\u001B[39mget_num_threads()\n\u001B[1;32m    608\u001B[0m \u001B[38;5;28mself\u001B[39m\u001B[38;5;241m.\u001B[39m_get_extra_info()\n",
      "File \u001B[0;32m/opt/homebrew/anaconda3/envs/pyrosetta/lib/python3.9/site-packages/threadpoolctl.py:646\u001B[0m, in \u001B[0;36m_OpenBLASModule.get_version\u001B[0;34m(self)\u001B[0m\n\u001B[1;32m    643\u001B[0m get_config \u001B[38;5;241m=\u001B[39m \u001B[38;5;28mgetattr\u001B[39m(\u001B[38;5;28mself\u001B[39m\u001B[38;5;241m.\u001B[39m_dynlib, \u001B[38;5;124m\"\u001B[39m\u001B[38;5;124mopenblas_get_config\u001B[39m\u001B[38;5;124m\"\u001B[39m,\n\u001B[1;32m    644\u001B[0m                      \u001B[38;5;28;01mlambda\u001B[39;00m: \u001B[38;5;28;01mNone\u001B[39;00m)\n\u001B[1;32m    645\u001B[0m get_config\u001B[38;5;241m.\u001B[39mrestype \u001B[38;5;241m=\u001B[39m ctypes\u001B[38;5;241m.\u001B[39mc_char_p\n\u001B[0;32m--> 646\u001B[0m config \u001B[38;5;241m=\u001B[39m \u001B[43mget_config\u001B[49m\u001B[43m(\u001B[49m\u001B[43m)\u001B[49m\u001B[38;5;241;43m.\u001B[39;49m\u001B[43msplit\u001B[49m()\n\u001B[1;32m    647\u001B[0m \u001B[38;5;28;01mif\u001B[39;00m config[\u001B[38;5;241m0\u001B[39m] \u001B[38;5;241m==\u001B[39m \u001B[38;5;124mb\u001B[39m\u001B[38;5;124m\"\u001B[39m\u001B[38;5;124mOpenBLAS\u001B[39m\u001B[38;5;124m\"\u001B[39m:\n\u001B[1;32m    648\u001B[0m     \u001B[38;5;28;01mreturn\u001B[39;00m config[\u001B[38;5;241m1\u001B[39m]\u001B[38;5;241m.\u001B[39mdecode(\u001B[38;5;124m\"\u001B[39m\u001B[38;5;124mutf-8\u001B[39m\u001B[38;5;124m\"\u001B[39m)\n",
      "\u001B[0;31mAttributeError\u001B[0m: 'NoneType' object has no attribute 'split'"
     ]
    }
   ],
   "source": [
    "# Load your molecules here (This is just a placeholder example)\n",
    "smiles = list(df['r1_smiles'])\n",
    "df = pd.DataFrame(smiles, columns=['SMILES'])\n",
    "PandasTools.AddMoleculeColumnToFrame(df, 'SMILES')\n",
    "\n",
    "# Calculate Morgan Fingerprints\n",
    "fp_list = [AllChem.GetMorganFingerprintAsBitVect(mol, radius=2, nBits=166) for mol in df['ROMol']]\n",
    "\n",
    "# Convert fingerprints to a NumPy array for KMeans\n",
    "fp_array = np.array([list(fp) for fp in fp_list])\n",
    "\n",
    "# Number of clusters (set this variable)\n",
    "n_clusters = 3\n",
    "\n",
    "# Apply K-Means Clustering\n",
    "kmeans = KMeans(n_clusters=n_clusters, random_state=42)\n",
    "df['Cluster'] = kmeans.fit_predict(fp_array)\n",
    "\n",
    "# Display the DataFrame\n",
    "PandasTools.ChangeMoleculeRendering(df)\n",
    "df"
   ],
   "metadata": {
    "collapsed": false,
    "ExecuteTime": {
     "end_time": "2024-01-30T11:52:42.609313Z",
     "start_time": "2024-01-30T11:52:40.175126Z"
    }
   },
   "id": "f65734c0e6ccfdab",
   "execution_count": 32
  },
  {
   "cell_type": "code",
   "outputs": [
    {
     "data": {
      "text/plain": "                             SMILES  \\\n0                    Br[12c]1ccccn1   \n1                     Oc1cccc(Br)n1   \n2                     Nc1cccc(Br)n1   \n3                     Bc1ccnc(Br)c1   \n4                     Fc1ccnc(Br)c1   \n...                             ...   \n2154     O=C(OCc1ccnc(Br)c1)c1cocn1   \n2155     O=C(OCc1ccc(Br)nc1)c1cscn1   \n2156     O=C(OCc1ccnc(Br)c1)c1csnn1   \n2157     O=C(OCc1ccc(Br)nc1)c1cnco1   \n2158  O=C1CC(C(=O)OCc2cccc(Br)n2)C1   \n\n                                              ROMol  \n0     <rdkit.Chem.rdchem.Mol object at 0x2c1b6acf0>  \n1     <rdkit.Chem.rdchem.Mol object at 0x2c1b7a7b0>  \n2     <rdkit.Chem.rdchem.Mol object at 0x2c1b7a820>  \n3     <rdkit.Chem.rdchem.Mol object at 0x2c1971d60>  \n4     <rdkit.Chem.rdchem.Mol object at 0x2c1971c10>  \n...                                             ...  \n2154  <rdkit.Chem.rdchem.Mol object at 0x2c1c18d60>  \n2155  <rdkit.Chem.rdchem.Mol object at 0x2c1c18dd0>  \n2156  <rdkit.Chem.rdchem.Mol object at 0x2c1c18e40>  \n2157  <rdkit.Chem.rdchem.Mol object at 0x2c1c18eb0>  \n2158  <rdkit.Chem.rdchem.Mol object at 0x2c1c18f20>  \n\n[2159 rows x 2 columns]",
      "text/html": "<div>\n<style scoped>\n    .dataframe tbody tr th:only-of-type {\n        vertical-align: middle;\n    }\n\n    .dataframe tbody tr th {\n        vertical-align: top;\n    }\n\n    .dataframe thead th {\n        text-align: right;\n    }\n</style>\n<table border=\"1\" class=\"dataframe\">\n  <thead>\n    <tr style=\"text-align: right;\">\n      <th></th>\n      <th>SMILES</th>\n      <th>ROMol</th>\n    </tr>\n  </thead>\n  <tbody>\n    <tr>\n      <th>0</th>\n      <td>Br[12c]1ccccn1</td>\n      <td>&lt;rdkit.Chem.rdchem.Mol object at 0x2c1b6acf0&gt;</td>\n    </tr>\n    <tr>\n      <th>1</th>\n      <td>Oc1cccc(Br)n1</td>\n      <td>&lt;rdkit.Chem.rdchem.Mol object at 0x2c1b7a7b0&gt;</td>\n    </tr>\n    <tr>\n      <th>2</th>\n      <td>Nc1cccc(Br)n1</td>\n      <td>&lt;rdkit.Chem.rdchem.Mol object at 0x2c1b7a820&gt;</td>\n    </tr>\n    <tr>\n      <th>3</th>\n      <td>Bc1ccnc(Br)c1</td>\n      <td>&lt;rdkit.Chem.rdchem.Mol object at 0x2c1971d60&gt;</td>\n    </tr>\n    <tr>\n      <th>4</th>\n      <td>Fc1ccnc(Br)c1</td>\n      <td>&lt;rdkit.Chem.rdchem.Mol object at 0x2c1971c10&gt;</td>\n    </tr>\n    <tr>\n      <th>...</th>\n      <td>...</td>\n      <td>...</td>\n    </tr>\n    <tr>\n      <th>2154</th>\n      <td>O=C(OCc1ccnc(Br)c1)c1cocn1</td>\n      <td>&lt;rdkit.Chem.rdchem.Mol object at 0x2c1c18d60&gt;</td>\n    </tr>\n    <tr>\n      <th>2155</th>\n      <td>O=C(OCc1ccc(Br)nc1)c1cscn1</td>\n      <td>&lt;rdkit.Chem.rdchem.Mol object at 0x2c1c18dd0&gt;</td>\n    </tr>\n    <tr>\n      <th>2156</th>\n      <td>O=C(OCc1ccnc(Br)c1)c1csnn1</td>\n      <td>&lt;rdkit.Chem.rdchem.Mol object at 0x2c1c18e40&gt;</td>\n    </tr>\n    <tr>\n      <th>2157</th>\n      <td>O=C(OCc1ccc(Br)nc1)c1cnco1</td>\n      <td>&lt;rdkit.Chem.rdchem.Mol object at 0x2c1c18eb0&gt;</td>\n    </tr>\n    <tr>\n      <th>2158</th>\n      <td>O=C1CC(C(=O)OCc2cccc(Br)n2)C1</td>\n      <td>&lt;rdkit.Chem.rdchem.Mol object at 0x2c1c18f20&gt;</td>\n    </tr>\n  </tbody>\n</table>\n<p>2159 rows × 2 columns</p>\n</div>"
     },
     "execution_count": 33,
     "metadata": {},
     "output_type": "execute_result"
    }
   ],
   "source": [
    "df"
   ],
   "metadata": {
    "collapsed": false,
    "ExecuteTime": {
     "end_time": "2024-01-30T11:52:45.776002Z",
     "start_time": "2024-01-30T11:52:45.764670Z"
    }
   },
   "id": "7fb2fe782a808411",
   "execution_count": 33
  },
  {
   "cell_type": "code",
   "outputs": [
    {
     "name": "stderr",
     "output_type": "stream",
     "text": [
      "Failed to patch pandas - unable to change molecule rendering\n"
     ]
    },
    {
     "name": "stdout",
     "output_type": "stream",
     "text": [
      "1706619340.728708\n"
     ]
    },
    {
     "name": "stderr",
     "output_type": "stream",
     "text": [
      "Failed to patch pandas - unable to change molecule rendering\n"
     ]
    },
    {
     "name": "stdout",
     "output_type": "stream",
     "text": [
      "Clustered 5 molecules into 3 clusters in 0.3 sec\n"
     ]
    }
   ],
   "source": [
    "import pandas as pd\n",
    "import numpy as np\n",
    "from rdkit.Chem import AllChem, PandasTools\n",
    "from sklearn.cluster import MiniBatchKMeans\n",
    "import time\n",
    "import warnings\n",
    "warnings.filterwarnings(\"ignore\", category=FutureWarning)\n",
    "\n",
    "df = pd.DataFrame({'SMILES': ['CCO', 'CCC', 'CCN', 'CCO', 'CNO']})  # Replace with your actual data\n",
    "num_clusters = 3\n",
    "outfile_name = 'clusters.csv'\n",
    "sample_size = None\n"
   ],
   "metadata": {
    "collapsed": false,
    "ExecuteTime": {
     "end_time": "2024-01-30T12:55:41.078643Z",
     "start_time": "2024-01-30T12:55:40.722972Z"
    }
   },
   "id": "6cd11a8ee9a41bec",
   "execution_count": 3
  },
  {
   "cell_type": "code",
   "outputs": [
    {
     "data": {
      "text/plain": "  SMILES                                       Molecule  \\\n0    CCO  <rdkit.Chem.rdchem.Mol object at 0x28bc84dd0>   \n1    CCC  <rdkit.Chem.rdchem.Mol object at 0x28bc85770>   \n2    CCN  <rdkit.Chem.rdchem.Mol object at 0x28bc858c0>   \n3    CCO  <rdkit.Chem.rdchem.Mol object at 0x28bc85a80>   \n4    CNO  <rdkit.Chem.rdchem.Mol object at 0x28bc85a10>   \n\n                                         Fingerprint  Cluster  \n0  [0, 0, 0, 0, 0, 0, 0, 0, 0, 0, 0, 0, 0, 0, 1, ...        2  \n1  [0, 0, 0, 0, 0, 0, 0, 0, 0, 0, 0, 0, 0, 0, 1, ...        1  \n2  [0, 0, 0, 0, 0, 0, 0, 0, 0, 0, 0, 0, 0, 0, 1, ...        0  \n3  [0, 0, 0, 0, 0, 0, 0, 0, 0, 0, 0, 0, 0, 0, 1, ...        2  \n4  [0, 0, 0, 0, 0, 0, 0, 0, 0, 0, 0, 0, 0, 0, 0, ...        2  ",
      "text/html": "<div>\n<style scoped>\n    .dataframe tbody tr th:only-of-type {\n        vertical-align: middle;\n    }\n\n    .dataframe tbody tr th {\n        vertical-align: top;\n    }\n\n    .dataframe thead th {\n        text-align: right;\n    }\n</style>\n<table border=\"1\" class=\"dataframe\">\n  <thead>\n    <tr style=\"text-align: right;\">\n      <th></th>\n      <th>SMILES</th>\n      <th>Molecule</th>\n      <th>Fingerprint</th>\n      <th>Cluster</th>\n    </tr>\n  </thead>\n  <tbody>\n    <tr>\n      <th>0</th>\n      <td>CCO</td>\n      <td>&lt;rdkit.Chem.rdchem.Mol object at 0x28bc84dd0&gt;</td>\n      <td>[0, 0, 0, 0, 0, 0, 0, 0, 0, 0, 0, 0, 0, 0, 1, ...</td>\n      <td>2</td>\n    </tr>\n    <tr>\n      <th>1</th>\n      <td>CCC</td>\n      <td>&lt;rdkit.Chem.rdchem.Mol object at 0x28bc85770&gt;</td>\n      <td>[0, 0, 0, 0, 0, 0, 0, 0, 0, 0, 0, 0, 0, 0, 1, ...</td>\n      <td>1</td>\n    </tr>\n    <tr>\n      <th>2</th>\n      <td>CCN</td>\n      <td>&lt;rdkit.Chem.rdchem.Mol object at 0x28bc858c0&gt;</td>\n      <td>[0, 0, 0, 0, 0, 0, 0, 0, 0, 0, 0, 0, 0, 0, 1, ...</td>\n      <td>0</td>\n    </tr>\n    <tr>\n      <th>3</th>\n      <td>CCO</td>\n      <td>&lt;rdkit.Chem.rdchem.Mol object at 0x28bc85a80&gt;</td>\n      <td>[0, 0, 0, 0, 0, 0, 0, 0, 0, 0, 0, 0, 0, 0, 1, ...</td>\n      <td>2</td>\n    </tr>\n    <tr>\n      <th>4</th>\n      <td>CNO</td>\n      <td>&lt;rdkit.Chem.rdchem.Mol object at 0x28bc85a10&gt;</td>\n      <td>[0, 0, 0, 0, 0, 0, 0, 0, 0, 0, 0, 0, 0, 0, 0, ...</td>\n      <td>2</td>\n    </tr>\n  </tbody>\n</table>\n</div>"
     },
     "execution_count": 5,
     "metadata": {},
     "output_type": "execute_result"
    }
   ],
   "source": [
    "\n",
    "# Add RDKit molecules to DataFrame\n",
    "PandasTools.AddMoleculeColumnToFrame(df, 'SMILES', 'Molecule')\n",
    "\n",
    "# Calculate Morgan Fingerprints\n",
    "df['Fingerprint'] = df['Molecule'].apply(lambda x: AllChem.GetMorganFingerprintAsBitVect(x, radius=2, nBits=166))\n",
    "\n",
    "# Prepare data for clustering\n",
    "fps = np.array(list(df['Fingerprint']), dtype=np.float16)\n",
    "\n",
    "# Sampling if necessary\n",
    "if sample_size and len(fps) > sample_size:\n",
    "    train_fps = fps[np.random.choice(fps.shape[0], sample_size, replace=False)]\n",
    "else:\n",
    "    train_fps = fps\n",
    "\n",
    "# KMeans Clustering\n",
    "start = time.time()\n",
    "print(start)\n",
    "km = MiniBatchKMeans(n_clusters=num_clusters, random_state=0, batch_size=3 * num_clusters)\n",
    "km.fit(train_fps)\n",
    "\n",
    "# Assign clusters to full data\n",
    "df['Cluster'] = km.predict(fps)\n",
    "\n",
    "elapsed = time.time() - start\n",
    "print(f\"Clustered {len(fps)} molecules into {num_clusters} clusters in {elapsed:.1f} sec\")\n",
    "\n",
    "# Save to CSV\n",
    "df[['SMILES', 'Cluster']].to_csv(outfile_name, index=False)\n",
    "\n",
    "# Optional: Display using PandasTools\n",
    "PandasTools.ChangeMoleculeRendering(df)"
   ],
   "metadata": {
    "collapsed": false,
    "ExecuteTime": {
     "end_time": "2024-01-30T12:55:51.269637Z",
     "start_time": "2024-01-30T12:55:51.262320Z"
    }
   },
   "id": "250b6de8b3565f34",
   "execution_count": 5
  },
  {
   "cell_type": "code",
   "outputs": [],
   "source": [],
   "metadata": {
    "collapsed": false
   },
   "id": "f4dce15bf96af38e"
  }
 ],
 "metadata": {
  "kernelspec": {
   "display_name": "Python 3",
   "language": "python",
   "name": "python3"
  },
  "language_info": {
   "codemirror_mode": {
    "name": "ipython",
    "version": 2
   },
   "file_extension": ".py",
   "mimetype": "text/x-python",
   "name": "python",
   "nbconvert_exporter": "python",
   "pygments_lexer": "ipython2",
   "version": "2.7.6"
  }
 },
 "nbformat": 4,
 "nbformat_minor": 5
}
