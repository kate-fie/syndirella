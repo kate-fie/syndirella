{
 "cells": [
  {
   "cell_type": "code",
   "execution_count": 6,
   "id": "initial_id",
   "metadata": {
    "collapsed": true,
    "ExecuteTime": {
     "end_time": "2023-10-13T14:48:05.693782Z",
     "start_time": "2023-10-13T14:48:05.648486Z"
    }
   },
   "outputs": [
    {
     "name": "stdout",
     "output_type": "stream",
     "text": [
      "The autoreload extension is already loaded. To reload it, use:\n",
      "  %reload_ext autoreload\n"
     ]
    }
   ],
   "source": [
    "%load_ext autoreload\n",
    "%autoreload 2\n",
    "from rdkit import Chem\n",
    "import pandas as pd\n",
    "import os\n",
    "import ast"
   ]
  },
  {
   "cell_type": "markdown",
   "source": [
    "# LOOKING AT ALL COMPOUNDS"
   ],
   "metadata": {
    "collapsed": false
   },
   "id": "167622dce78d51e9"
  },
  {
   "cell_type": "code",
   "execution_count": 6,
   "outputs": [
    {
     "data": {
      "text/plain": "722"
     },
     "execution_count": 6,
     "metadata": {},
     "output_type": "execute_result"
    }
   ],
   "source": [
    "os.chdir('/Users/kate_fieseler/PycharmProjects/retrievesynthesizable/D68EV3CPROA')\n",
    "sdf = Chem.SDMolSupplier('base_data/D68EV3CPROA_enumeration_oct10.sdf')\n",
    "len(sdf)"
   ],
   "metadata": {
    "collapsed": false,
    "ExecuteTime": {
     "end_time": "2023-10-10T09:08:40.297140Z",
     "start_time": "2023-10-10T09:08:40.251710Z"
    }
   },
   "id": "95971a4ddfe9ce52"
  },
  {
   "cell_type": "code",
   "execution_count": 10,
   "outputs": [
    {
     "data": {
      "text/plain": "                                                smiles  \\\n0               Cc1cc2c(cc1NC(=O)NCCc1nnc3ccccn13)OCO2   \n1                Cc1ccc(CCS(=O)(=O)NCc2nnc3ccccn23)cc1   \n2    OC[C@H](c1ccc2c(c1)OCO2)N(CCc1nnc2ccccn12)C[C@...   \n3                 O=C(CSc1nnc2ccccn12)Nc1ccc2c(c1)OCO2   \n4       CCc1nnc2ccc(S(=O)(=O)N(CC)c3ccc4c(c3)OCO4)cn12   \n..                                                 ...   \n717          CC(C)(C)OC(=O)C[C@](C)(C#N)C(=O)NCc1ccsn1   \n718          COC(=O)NCC(=O)N1CCC[C@@H]1CNC(=O)Cc1cnsc1   \n719            CC(=O)Nc1ccc(-c2noc(CC[C@@H](C)N)n2)cc1   \n720  C[C@@H](NS(C)(=O)=O)C(=O)N1CCC[C@@H](NC(=O)Cc2...   \n721                 CCC(CC)CC(=O)N[C@H]1C[C@](F)(CN)C1   \n\n                     cmpd_id fragmentA fragmentB               sucos int_count  \n0        ENAMINE:Z1637917899  x1140_0A  x1594_0A  0.7944393843132861         7  \n1        ENAMINE:Z2000385219  x1140_0A  x1594_0A  0.7867791986359577         5  \n2        MOLPORT:009-117-950  x1140_0A  x1594_0A  0.7726939453515331         4  \n3        MOLPORT:000-224-370  x1140_0A  x1594_0A   0.763337209299409         5  \n4        MOLPORT:010-916-291  x1594_0A  x1140_0A  0.7415366649040672         5  \n..                       ...       ...       ...                 ...       ...  \n717      ENAMINE:Z3599345514  x1498_0A  x2021_0A  0.5539329371473178         4  \n718  ENAMINE:PV-002770714191  x1071_0A  x1498_0A  0.5537873742689589         2  \n719      ENAMINE:Z2412805267  x1020_0A  x0130_0A  0.5525268093500585         2  \n720  ENAMINE:PV-001765474005  x1071_0A  x2099_0A  0.5510612379038698         1  \n721      ENAMINE:Z3699946641  x1020_0A  x0130_0A  0.5504896081527466         2  \n\n[722 rows x 6 columns]",
      "text/html": "<div>\n<style scoped>\n    .dataframe tbody tr th:only-of-type {\n        vertical-align: middle;\n    }\n\n    .dataframe tbody tr th {\n        vertical-align: top;\n    }\n\n    .dataframe thead th {\n        text-align: right;\n    }\n</style>\n<table border=\"1\" class=\"dataframe\">\n  <thead>\n    <tr style=\"text-align: right;\">\n      <th></th>\n      <th>smiles</th>\n      <th>cmpd_id</th>\n      <th>fragmentA</th>\n      <th>fragmentB</th>\n      <th>sucos</th>\n      <th>int_count</th>\n    </tr>\n  </thead>\n  <tbody>\n    <tr>\n      <th>0</th>\n      <td>Cc1cc2c(cc1NC(=O)NCCc1nnc3ccccn13)OCO2</td>\n      <td>ENAMINE:Z1637917899</td>\n      <td>x1140_0A</td>\n      <td>x1594_0A</td>\n      <td>0.7944393843132861</td>\n      <td>7</td>\n    </tr>\n    <tr>\n      <th>1</th>\n      <td>Cc1ccc(CCS(=O)(=O)NCc2nnc3ccccn23)cc1</td>\n      <td>ENAMINE:Z2000385219</td>\n      <td>x1140_0A</td>\n      <td>x1594_0A</td>\n      <td>0.7867791986359577</td>\n      <td>5</td>\n    </tr>\n    <tr>\n      <th>2</th>\n      <td>OC[C@H](c1ccc2c(c1)OCO2)N(CCc1nnc2ccccn12)C[C@...</td>\n      <td>MOLPORT:009-117-950</td>\n      <td>x1140_0A</td>\n      <td>x1594_0A</td>\n      <td>0.7726939453515331</td>\n      <td>4</td>\n    </tr>\n    <tr>\n      <th>3</th>\n      <td>O=C(CSc1nnc2ccccn12)Nc1ccc2c(c1)OCO2</td>\n      <td>MOLPORT:000-224-370</td>\n      <td>x1140_0A</td>\n      <td>x1594_0A</td>\n      <td>0.763337209299409</td>\n      <td>5</td>\n    </tr>\n    <tr>\n      <th>4</th>\n      <td>CCc1nnc2ccc(S(=O)(=O)N(CC)c3ccc4c(c3)OCO4)cn12</td>\n      <td>MOLPORT:010-916-291</td>\n      <td>x1594_0A</td>\n      <td>x1140_0A</td>\n      <td>0.7415366649040672</td>\n      <td>5</td>\n    </tr>\n    <tr>\n      <th>...</th>\n      <td>...</td>\n      <td>...</td>\n      <td>...</td>\n      <td>...</td>\n      <td>...</td>\n      <td>...</td>\n    </tr>\n    <tr>\n      <th>717</th>\n      <td>CC(C)(C)OC(=O)C[C@](C)(C#N)C(=O)NCc1ccsn1</td>\n      <td>ENAMINE:Z3599345514</td>\n      <td>x1498_0A</td>\n      <td>x2021_0A</td>\n      <td>0.5539329371473178</td>\n      <td>4</td>\n    </tr>\n    <tr>\n      <th>718</th>\n      <td>COC(=O)NCC(=O)N1CCC[C@@H]1CNC(=O)Cc1cnsc1</td>\n      <td>ENAMINE:PV-002770714191</td>\n      <td>x1071_0A</td>\n      <td>x1498_0A</td>\n      <td>0.5537873742689589</td>\n      <td>2</td>\n    </tr>\n    <tr>\n      <th>719</th>\n      <td>CC(=O)Nc1ccc(-c2noc(CC[C@@H](C)N)n2)cc1</td>\n      <td>ENAMINE:Z2412805267</td>\n      <td>x1020_0A</td>\n      <td>x0130_0A</td>\n      <td>0.5525268093500585</td>\n      <td>2</td>\n    </tr>\n    <tr>\n      <th>720</th>\n      <td>C[C@@H](NS(C)(=O)=O)C(=O)N1CCC[C@@H](NC(=O)Cc2...</td>\n      <td>ENAMINE:PV-001765474005</td>\n      <td>x1071_0A</td>\n      <td>x2099_0A</td>\n      <td>0.5510612379038698</td>\n      <td>1</td>\n    </tr>\n    <tr>\n      <th>721</th>\n      <td>CCC(CC)CC(=O)N[C@H]1C[C@](F)(CN)C1</td>\n      <td>ENAMINE:Z3699946641</td>\n      <td>x1020_0A</td>\n      <td>x0130_0A</td>\n      <td>0.5504896081527466</td>\n      <td>2</td>\n    </tr>\n  </tbody>\n</table>\n<p>722 rows × 6 columns</p>\n</div>"
     },
     "execution_count": 10,
     "metadata": {},
     "output_type": "execute_result"
    }
   ],
   "source": [
    "# Make df with smiles and parent fragments\n",
    "# Lists to hold molecule data\n",
    "smiles_list = []\n",
    "metadata_dict = {\n",
    "    \"similarity\": [],\n",
    "    \"cmpd_id\": [],\n",
    "    \"used_subnode\": [],\n",
    "    \"used_synthon\": [],\n",
    "    \"ref_subnode\": [],\n",
    "    \"ref_synthon\": [],\n",
    "    \"fragmentA\": [],\n",
    "    \"fragmentB\": [],\n",
    "    \"sucos\": [],\n",
    "    \"int_count\": []\n",
    "}\n",
    "\n",
    "# Iterate over molecules and extract data\n",
    "for mol in sdf:\n",
    "    if mol:  # Check if molecule is not None\n",
    "        smiles_list.append(Chem.MolToSmiles(mol))\n",
    "        for key in metadata_dict.keys():\n",
    "            metadata_dict[key].append(mol.GetProp(key))\n",
    "\n",
    "# Convert data to pandas dataframe\n",
    "df = pd.DataFrame({\n",
    "    \"smiles\": smiles_list,\n",
    "    **metadata_dict\n",
    "})\n",
    "df = df.drop(columns=['similarity', 'used_subnode', 'used_synthon', 'ref_subnode', 'ref_synthon'])\n",
    "df"
   ],
   "metadata": {
    "collapsed": false,
    "ExecuteTime": {
     "end_time": "2023-10-10T09:10:17.616236Z",
     "start_time": "2023-10-10T09:10:17.502677Z"
    }
   },
   "id": "8f94bf7bbdb89600"
  },
  {
   "cell_type": "code",
   "execution_count": 11,
   "outputs": [],
   "source": [
    "df.to_csv('base_data/D68EV3CPROA_enumeration_oct10.csv')"
   ],
   "metadata": {
    "collapsed": false,
    "ExecuteTime": {
     "end_time": "2023-10-10T09:11:13.812301Z",
     "start_time": "2023-10-10T09:11:13.671848Z"
    }
   },
   "id": "132969c2c11cab7c"
  },
  {
   "cell_type": "markdown",
   "source": [
    "# SWITICHING ORDER OF RXNS FOR 2 AND 3 STEP"
   ],
   "metadata": {
    "collapsed": false
   },
   "id": "28c988dda17d071b"
  },
  {
   "cell_type": "code",
   "execution_count": 22,
   "outputs": [
    {
     "data": {
      "text/plain": "                                                smiles  num_steps  \\\n0               Cc1cc2c(cc1NC(=O)NCCc1nnc3ccccn13)OCO2          3   \n1                Cc1ccc(CCS(=O)(=O)NCc2nnc3ccccn23)cc1          3   \n2    OC[C@H](c1ccc2c(c1)OCO2)N(CCc1nnc2ccccn12)C[C@...          3   \n3                 O=C(CSc1nnc2ccccn12)Nc1ccc2c(c1)OCO2          3   \n4       CCc1nnc2ccc(S(=O)(=O)N(CC)c3ccc4c(c3)OCO4)cn12          3   \n..                                                 ...        ...   \n476          CC(C)(C)OC(=O)C[C@](C)(C#N)C(=O)NCc1ccsn1          3   \n477          COC(=O)NCC(=O)N1CCC[C@@H]1CNC(=O)Cc1cnsc1          3   \n478            CC(=O)Nc1ccc(-c2noc(CC[C@@H](C)N)n2)cc1          3   \n479  C[C@@H](NS(C)(=O)=O)C(=O)N1CCC[C@@H](NC(=O)Cc2...          3   \n480                 CCC(CC)CC(=O)N[C@H]1C[C@](F)(CN)C1          3   \n\n                               rxn_order_first_to_last  \\\n0    ['Sp3-sp2 Suzuki coupling', 'Boronic ester to ...   \n1    ['Sp3-sp2 Suzuki coupling', 'Sulfonamide Schot...   \n2    ['NHK reaction', 'Epoxide + amine coupling', '...   \n3    ['Williamson ether synthesis', 'Williamson eth...   \n4    ['Alkene hydrogenation (unconjugated)', 'Sp2-s...   \n..                                                 ...   \n476  ['Steglich esterification', 'Amidation', 'CO2-...   \n477  ['Sp3-sp2 Suzuki coupling', 'Amidation', 'Amid...   \n478  ['Sp2-sp2 Suzuki coupling', 'Reductive aminati...   \n479  ['Sulfonamide Schotten-Baumann with amine (int...   \n480  ['Amide to amine reduction', 'Ester ammonolysi...   \n\n                                             reactants  \\\n0    [('Cc1cc2c(cc1NC(=O)NCCB(O)O)OCO2', 'Brc1nnc2c...   \n1    [('Cc1ccc(Br)cc1', 'CC1(C)OB(CCS(=O)(=O)NCc2nn...   \n2    [('O=CCN(CCc1nnc2ccccn12)C(CO)c1ccc2c(c1)OCO2'...   \n3    [('O=C(CSc1nnc2ccccn12)Nc1ccc(OCI)c(O)c1',), (...   \n4    [('C=Cc1nnc2ccc(S(=O)(=O)N(CC)c3ccc4c(c3)OCO4)...   \n..                                                 ...   \n476  [('CC(C)(C)O', 'CC(C#N)(CC(=O)O)C(=O)NCc1ccsn1...   \n477  [('Ic1cnsc1', 'COC(=O)NCC(=O)N1CCCC1CNC(=O)CB(...   \n478  [('CC(N)CCc1nc(Br)no1', 'CC(=O)Nc1ccc(B2OC(C)(...   \n479  [('CS(=O)(=O)F', 'CC(N)C(=O)N1CCCC(NC(=O)Cc2cc...   \n480  [('CCC(CC)CC(=O)NC1CC(F)(C(N)=O)C1',), ('CCC(C...   \n\n                                        BuildingBlocks  \\\n0    [None, 'Cc1cc2c(cc1N)OCO2', None, 'Brc1nnc2ccc...   \n1    ['Cc1ccc(CCS(=O)(=O)NCc2nnc3ccccn23)cc1', None...   \n2    [None, None, 'OCC(c1ccc2c(c1)OCO2)N(CCc1nnc2cc...   \n3    ['ICI', 'O=C(O)CSc1nnc2ccccn12', None, 'O=C(CS...   \n4    ['CCNc1ccc2c(c1)OCO2', 'C=CB(O)O', None, 'Clc1...   \n..                                                 ...   \n476  ['CC(C)(C)OC(=O)CC(C)(C#N)C(=O)NCc1ccsn1', Non...   \n477  ['O=C(O)CB(O)O', None, 'COC(=O)NCC(=O)N1CCCC1C...   \n478  [None, 'CC(C)=O', None, 'N', 'CC(=O)Nc1ccc(B2O...   \n479  [None, 'CS(=O)(=O)F', 'O=C(O)Cc1ccon1', None, ...   \n480  ['COC(=O)C1(F)CC(N)C1', None, 'CCC(CC)CC(=O)NC...   \n\n                         catalogName_for_BuildingBlock  \n0    ['enamine_made', 'enamine_bb', 'molport', 'mcu...  \n1    ['enamine_real', 'generic', 'mcule', 'enamine_...  \n2    ['enamine_bb', 'generic', 'enamine_bb', 'mcule...  \n3    ['molport', 'mcule', 'molport', 'mcule', 'enam...  \n4    ['mcule', 'molport', 'mcule', 'molport', 'enam...  \n..                                                 ...  \n476  ['enamine_real', 'enamine_bb', 'mcule', 'molpo...  \n477  ['mcule', 'enamine_real', 'molport', 'enamine_...  \n478  ['generic', 'mcule', 'molport', 'mcule', 'gene...  \n479  ['mcule', 'enamine_bb', 'enamine_made', 'enami...  \n480  ['enamine_made', 'enamine_bb', 'mcule', 'enami...  \n\n[481 rows x 6 columns]",
      "text/html": "<div>\n<style scoped>\n    .dataframe tbody tr th:only-of-type {\n        vertical-align: middle;\n    }\n\n    .dataframe tbody tr th {\n        vertical-align: top;\n    }\n\n    .dataframe thead th {\n        text-align: right;\n    }\n</style>\n<table border=\"1\" class=\"dataframe\">\n  <thead>\n    <tr style=\"text-align: right;\">\n      <th></th>\n      <th>smiles</th>\n      <th>num_steps</th>\n      <th>rxn_order_first_to_last</th>\n      <th>reactants</th>\n      <th>BuildingBlocks</th>\n      <th>catalogName_for_BuildingBlock</th>\n    </tr>\n  </thead>\n  <tbody>\n    <tr>\n      <th>0</th>\n      <td>Cc1cc2c(cc1NC(=O)NCCc1nnc3ccccn13)OCO2</td>\n      <td>3</td>\n      <td>['Sp3-sp2 Suzuki coupling', 'Boronic ester to ...</td>\n      <td>[('Cc1cc2c(cc1NC(=O)NCCB(O)O)OCO2', 'Brc1nnc2c...</td>\n      <td>[None, 'Cc1cc2c(cc1N)OCO2', None, 'Brc1nnc2ccc...</td>\n      <td>['enamine_made', 'enamine_bb', 'molport', 'mcu...</td>\n    </tr>\n    <tr>\n      <th>1</th>\n      <td>Cc1ccc(CCS(=O)(=O)NCc2nnc3ccccn23)cc1</td>\n      <td>3</td>\n      <td>['Sp3-sp2 Suzuki coupling', 'Sulfonamide Schot...</td>\n      <td>[('Cc1ccc(Br)cc1', 'CC1(C)OB(CCS(=O)(=O)NCc2nn...</td>\n      <td>['Cc1ccc(CCS(=O)(=O)NCc2nnc3ccccn23)cc1', None...</td>\n      <td>['enamine_real', 'generic', 'mcule', 'enamine_...</td>\n    </tr>\n    <tr>\n      <th>2</th>\n      <td>OC[C@H](c1ccc2c(c1)OCO2)N(CCc1nnc2ccccn12)C[C@...</td>\n      <td>3</td>\n      <td>['NHK reaction', 'Epoxide + amine coupling', '...</td>\n      <td>[('O=CCN(CCc1nnc2ccccn12)C(CO)c1ccc2c(c1)OCO2'...</td>\n      <td>[None, None, 'OCC(c1ccc2c(c1)OCO2)N(CCc1nnc2cc...</td>\n      <td>['enamine_bb', 'generic', 'enamine_bb', 'mcule...</td>\n    </tr>\n    <tr>\n      <th>3</th>\n      <td>O=C(CSc1nnc2ccccn12)Nc1ccc2c(c1)OCO2</td>\n      <td>3</td>\n      <td>['Williamson ether synthesis', 'Williamson eth...</td>\n      <td>[('O=C(CSc1nnc2ccccn12)Nc1ccc(OCI)c(O)c1',), (...</td>\n      <td>['ICI', 'O=C(O)CSc1nnc2ccccn12', None, 'O=C(CS...</td>\n      <td>['molport', 'mcule', 'molport', 'mcule', 'enam...</td>\n    </tr>\n    <tr>\n      <th>4</th>\n      <td>CCc1nnc2ccc(S(=O)(=O)N(CC)c3ccc4c(c3)OCO4)cn12</td>\n      <td>3</td>\n      <td>['Alkene hydrogenation (unconjugated)', 'Sp2-s...</td>\n      <td>[('C=Cc1nnc2ccc(S(=O)(=O)N(CC)c3ccc4c(c3)OCO4)...</td>\n      <td>['CCNc1ccc2c(c1)OCO2', 'C=CB(O)O', None, 'Clc1...</td>\n      <td>['mcule', 'molport', 'mcule', 'molport', 'enam...</td>\n    </tr>\n    <tr>\n      <th>...</th>\n      <td>...</td>\n      <td>...</td>\n      <td>...</td>\n      <td>...</td>\n      <td>...</td>\n      <td>...</td>\n    </tr>\n    <tr>\n      <th>476</th>\n      <td>CC(C)(C)OC(=O)C[C@](C)(C#N)C(=O)NCc1ccsn1</td>\n      <td>3</td>\n      <td>['Steglich esterification', 'Amidation', 'CO2-...</td>\n      <td>[('CC(C)(C)O', 'CC(C#N)(CC(=O)O)C(=O)NCc1ccsn1...</td>\n      <td>['CC(C)(C)OC(=O)CC(C)(C#N)C(=O)NCc1ccsn1', Non...</td>\n      <td>['enamine_real', 'enamine_bb', 'mcule', 'molpo...</td>\n    </tr>\n    <tr>\n      <th>477</th>\n      <td>COC(=O)NCC(=O)N1CCC[C@@H]1CNC(=O)Cc1cnsc1</td>\n      <td>3</td>\n      <td>['Sp3-sp2 Suzuki coupling', 'Amidation', 'Amid...</td>\n      <td>[('Ic1cnsc1', 'COC(=O)NCC(=O)N1CCCC1CNC(=O)CB(...</td>\n      <td>['O=C(O)CB(O)O', None, 'COC(=O)NCC(=O)N1CCCC1C...</td>\n      <td>['mcule', 'enamine_real', 'molport', 'enamine_...</td>\n    </tr>\n    <tr>\n      <th>478</th>\n      <td>CC(=O)Nc1ccc(-c2noc(CC[C@@H](C)N)n2)cc1</td>\n      <td>3</td>\n      <td>['Sp2-sp2 Suzuki coupling', 'Reductive aminati...</td>\n      <td>[('CC(N)CCc1nc(Br)no1', 'CC(=O)Nc1ccc(B2OC(C)(...</td>\n      <td>[None, 'CC(C)=O', None, 'N', 'CC(=O)Nc1ccc(B2O...</td>\n      <td>['generic', 'mcule', 'molport', 'mcule', 'gene...</td>\n    </tr>\n    <tr>\n      <th>479</th>\n      <td>C[C@@H](NS(C)(=O)=O)C(=O)N1CCC[C@@H](NC(=O)Cc2...</td>\n      <td>3</td>\n      <td>['Sulfonamide Schotten-Baumann with amine (int...</td>\n      <td>[('CS(=O)(=O)F', 'CC(N)C(=O)N1CCCC(NC(=O)Cc2cc...</td>\n      <td>[None, 'CS(=O)(=O)F', 'O=C(O)Cc1ccon1', None, ...</td>\n      <td>['mcule', 'enamine_bb', 'enamine_made', 'enami...</td>\n    </tr>\n    <tr>\n      <th>480</th>\n      <td>CCC(CC)CC(=O)N[C@H]1C[C@](F)(CN)C1</td>\n      <td>3</td>\n      <td>['Amide to amine reduction', 'Ester ammonolysi...</td>\n      <td>[('CCC(CC)CC(=O)NC1CC(F)(C(N)=O)C1',), ('CCC(C...</td>\n      <td>['COC(=O)C1(F)CC(N)C1', None, 'CCC(CC)CC(=O)NC...</td>\n      <td>['enamine_made', 'enamine_bb', 'mcule', 'enami...</td>\n    </tr>\n  </tbody>\n</table>\n<p>481 rows × 6 columns</p>\n</div>"
     },
     "execution_count": 22,
     "metadata": {},
     "output_type": "execute_result"
    }
   ],
   "source": [
    "os.chdir('/Users/kate_fieseler/PycharmProjects/retrievesynthesizable/D68EV3CPROA/routes_data')\n",
    "df = pd.read_csv('D68EV3CPROA_enumeration_oct10_first_route_3_step.csv')\n",
    "df"
   ],
   "metadata": {
    "collapsed": false,
    "ExecuteTime": {
     "end_time": "2023-10-13T14:54:58.492503Z",
     "start_time": "2023-10-13T14:54:58.452366Z"
    }
   },
   "id": "73839d7f2fed263e"
  },
  {
   "cell_type": "code",
   "execution_count": 23,
   "outputs": [
    {
     "data": {
      "text/plain": "                                                smiles  num_steps  \\\n0               Cc1cc2c(cc1NC(=O)NCCc1nnc3ccccn13)OCO2          3   \n1                Cc1ccc(CCS(=O)(=O)NCc2nnc3ccccn23)cc1          3   \n2    OC[C@H](c1ccc2c(c1)OCO2)N(CCc1nnc2ccccn12)C[C@...          3   \n3                 O=C(CSc1nnc2ccccn12)Nc1ccc2c(c1)OCO2          3   \n4       CCc1nnc2ccc(S(=O)(=O)N(CC)c3ccc4c(c3)OCO4)cn12          3   \n..                                                 ...        ...   \n476          CC(C)(C)OC(=O)C[C@](C)(C#N)C(=O)NCc1ccsn1          3   \n477          COC(=O)NCC(=O)N1CCC[C@@H]1CNC(=O)Cc1cnsc1          3   \n478            CC(=O)Nc1ccc(-c2noc(CC[C@@H](C)N)n2)cc1          3   \n479  C[C@@H](NS(C)(=O)=O)C(=O)N1CCC[C@@H](NC(=O)Cc2...          3   \n480                 CCC(CC)CC(=O)N[C@H]1C[C@](F)(CN)C1          3   \n\n                               rxn_order_first_to_last  \\\n0    [Formation of urea from two amines, Boronic es...   \n1    [Hydroboration of alkene, Sulfonamide Schotten...   \n2    [Nucleophilic substitution with amine, Epoxide...   \n3    [Amidation, Williamson ether synthesis, Willia...   \n4    [Formation of sulfonamide from halide - Shavny...   \n..                                                 ...   \n476  [CO2-tBu deprotection, Amidation, Steglich est...   \n477    [Amidation, Amidation, Sp3-sp2 Suzuki coupling]   \n478  [Alpha alkylation of ketone, Reductive aminati...   \n479  [Amidation, N-TFA deprotection, Sulfonamide Sc...   \n480  [Amidation, Ester ammonolysis, Amide to amine ...   \n\n                                             reactants  \\\n0    [(Cc1cc2c(cc1N)OCO2, CC1(C)OB(CCN)OC1(C)C), (C...   \n1    [(C=CS(=O)(=O)F,), (NCc1nnc2ccccn12, CC1(C)OB(...   \n2    [(O=CCI, NCCc1nnc2ccccn12), (c1cc2c(cc1C1CO1)O...   \n3    [(O=C(O)CSc1nnc2ccccn12, Nc1ccc(O)c(O)c1), (O=...   \n4    [(Clc1ccc2nnc(I)n2c1, CCNc1ccc2c(c1)OCO2), (CC...   \n..                                                 ...   \n476  [(CC(C)(C)OC(=O)CC(C)(C#N)C(=O)O,), (NCc1ccsn1...   \n477  [(O=C(O)CB(O)O, NCC1CCCN1), (O=C(CB(O)O)NCC1CC...   \n478  [(CC(C)=O, BrCc1nc(Br)no1), (N, CC(=O)CCc1nc(B...   \n479  [(O=C(O)Cc1ccon1, CC(NC(=O)C(F)(F)F)C(=O)N1CCC...   \n480  [(COC(=O)C1(F)CC(N)C1, CCC(CC)CC(=O)O), (CCC(C...   \n\n                                        BuildingBlocks  \\\n0    [None, 'Cc1cc2c(cc1N)OCO2', None, 'Brc1nnc2ccc...   \n1    ['Cc1ccc(CCS(=O)(=O)NCc2nnc3ccccn23)cc1', None...   \n2    [None, None, 'OCC(c1ccc2c(c1)OCO2)N(CCc1nnc2cc...   \n3    ['ICI', 'O=C(O)CSc1nnc2ccccn12', None, 'O=C(CS...   \n4    ['CCNc1ccc2c(c1)OCO2', 'C=CB(O)O', None, 'Clc1...   \n..                                                 ...   \n476  ['CC(C)(C)OC(=O)CC(C)(C#N)C(=O)NCc1ccsn1', Non...   \n477  ['O=C(O)CB(O)O', None, 'COC(=O)NCC(=O)N1CCCC1C...   \n478  [None, 'CC(C)=O', None, 'N', 'CC(=O)Nc1ccc(B2O...   \n479  [None, 'CS(=O)(=O)F', 'O=C(O)Cc1ccon1', None, ...   \n480  ['COC(=O)C1(F)CC(N)C1', None, 'CCC(CC)CC(=O)NC...   \n\n                         catalogName_for_BuildingBlock  \n0    ['enamine_made', 'enamine_bb', 'molport', 'mcu...  \n1    ['enamine_real', 'generic', 'mcule', 'enamine_...  \n2    ['enamine_bb', 'generic', 'enamine_bb', 'mcule...  \n3    ['molport', 'mcule', 'molport', 'mcule', 'enam...  \n4    ['mcule', 'molport', 'mcule', 'molport', 'enam...  \n..                                                 ...  \n476  ['enamine_real', 'enamine_bb', 'mcule', 'molpo...  \n477  ['mcule', 'enamine_real', 'molport', 'enamine_...  \n478  ['generic', 'mcule', 'molport', 'mcule', 'gene...  \n479  ['mcule', 'enamine_bb', 'enamine_made', 'enami...  \n480  ['enamine_made', 'enamine_bb', 'mcule', 'enami...  \n\n[481 rows x 6 columns]",
      "text/html": "<div>\n<style scoped>\n    .dataframe tbody tr th:only-of-type {\n        vertical-align: middle;\n    }\n\n    .dataframe tbody tr th {\n        vertical-align: top;\n    }\n\n    .dataframe thead th {\n        text-align: right;\n    }\n</style>\n<table border=\"1\" class=\"dataframe\">\n  <thead>\n    <tr style=\"text-align: right;\">\n      <th></th>\n      <th>smiles</th>\n      <th>num_steps</th>\n      <th>rxn_order_first_to_last</th>\n      <th>reactants</th>\n      <th>BuildingBlocks</th>\n      <th>catalogName_for_BuildingBlock</th>\n    </tr>\n  </thead>\n  <tbody>\n    <tr>\n      <th>0</th>\n      <td>Cc1cc2c(cc1NC(=O)NCCc1nnc3ccccn13)OCO2</td>\n      <td>3</td>\n      <td>[Formation of urea from two amines, Boronic es...</td>\n      <td>[(Cc1cc2c(cc1N)OCO2, CC1(C)OB(CCN)OC1(C)C), (C...</td>\n      <td>[None, 'Cc1cc2c(cc1N)OCO2', None, 'Brc1nnc2ccc...</td>\n      <td>['enamine_made', 'enamine_bb', 'molport', 'mcu...</td>\n    </tr>\n    <tr>\n      <th>1</th>\n      <td>Cc1ccc(CCS(=O)(=O)NCc2nnc3ccccn23)cc1</td>\n      <td>3</td>\n      <td>[Hydroboration of alkene, Sulfonamide Schotten...</td>\n      <td>[(C=CS(=O)(=O)F,), (NCc1nnc2ccccn12, CC1(C)OB(...</td>\n      <td>['Cc1ccc(CCS(=O)(=O)NCc2nnc3ccccn23)cc1', None...</td>\n      <td>['enamine_real', 'generic', 'mcule', 'enamine_...</td>\n    </tr>\n    <tr>\n      <th>2</th>\n      <td>OC[C@H](c1ccc2c(c1)OCO2)N(CCc1nnc2ccccn12)C[C@...</td>\n      <td>3</td>\n      <td>[Nucleophilic substitution with amine, Epoxide...</td>\n      <td>[(O=CCI, NCCc1nnc2ccccn12), (c1cc2c(cc1C1CO1)O...</td>\n      <td>[None, None, 'OCC(c1ccc2c(c1)OCO2)N(CCc1nnc2cc...</td>\n      <td>['enamine_bb', 'generic', 'enamine_bb', 'mcule...</td>\n    </tr>\n    <tr>\n      <th>3</th>\n      <td>O=C(CSc1nnc2ccccn12)Nc1ccc2c(c1)OCO2</td>\n      <td>3</td>\n      <td>[Amidation, Williamson ether synthesis, Willia...</td>\n      <td>[(O=C(O)CSc1nnc2ccccn12, Nc1ccc(O)c(O)c1), (O=...</td>\n      <td>['ICI', 'O=C(O)CSc1nnc2ccccn12', None, 'O=C(CS...</td>\n      <td>['molport', 'mcule', 'molport', 'mcule', 'enam...</td>\n    </tr>\n    <tr>\n      <th>4</th>\n      <td>CCc1nnc2ccc(S(=O)(=O)N(CC)c3ccc4c(c3)OCO4)cn12</td>\n      <td>3</td>\n      <td>[Formation of sulfonamide from halide - Shavny...</td>\n      <td>[(Clc1ccc2nnc(I)n2c1, CCNc1ccc2c(c1)OCO2), (CC...</td>\n      <td>['CCNc1ccc2c(c1)OCO2', 'C=CB(O)O', None, 'Clc1...</td>\n      <td>['mcule', 'molport', 'mcule', 'molport', 'enam...</td>\n    </tr>\n    <tr>\n      <th>...</th>\n      <td>...</td>\n      <td>...</td>\n      <td>...</td>\n      <td>...</td>\n      <td>...</td>\n      <td>...</td>\n    </tr>\n    <tr>\n      <th>476</th>\n      <td>CC(C)(C)OC(=O)C[C@](C)(C#N)C(=O)NCc1ccsn1</td>\n      <td>3</td>\n      <td>[CO2-tBu deprotection, Amidation, Steglich est...</td>\n      <td>[(CC(C)(C)OC(=O)CC(C)(C#N)C(=O)O,), (NCc1ccsn1...</td>\n      <td>['CC(C)(C)OC(=O)CC(C)(C#N)C(=O)NCc1ccsn1', Non...</td>\n      <td>['enamine_real', 'enamine_bb', 'mcule', 'molpo...</td>\n    </tr>\n    <tr>\n      <th>477</th>\n      <td>COC(=O)NCC(=O)N1CCC[C@@H]1CNC(=O)Cc1cnsc1</td>\n      <td>3</td>\n      <td>[Amidation, Amidation, Sp3-sp2 Suzuki coupling]</td>\n      <td>[(O=C(O)CB(O)O, NCC1CCCN1), (O=C(CB(O)O)NCC1CC...</td>\n      <td>['O=C(O)CB(O)O', None, 'COC(=O)NCC(=O)N1CCCC1C...</td>\n      <td>['mcule', 'enamine_real', 'molport', 'enamine_...</td>\n    </tr>\n    <tr>\n      <th>478</th>\n      <td>CC(=O)Nc1ccc(-c2noc(CC[C@@H](C)N)n2)cc1</td>\n      <td>3</td>\n      <td>[Alpha alkylation of ketone, Reductive aminati...</td>\n      <td>[(CC(C)=O, BrCc1nc(Br)no1), (N, CC(=O)CCc1nc(B...</td>\n      <td>[None, 'CC(C)=O', None, 'N', 'CC(=O)Nc1ccc(B2O...</td>\n      <td>['generic', 'mcule', 'molport', 'mcule', 'gene...</td>\n    </tr>\n    <tr>\n      <th>479</th>\n      <td>C[C@@H](NS(C)(=O)=O)C(=O)N1CCC[C@@H](NC(=O)Cc2...</td>\n      <td>3</td>\n      <td>[Amidation, N-TFA deprotection, Sulfonamide Sc...</td>\n      <td>[(O=C(O)Cc1ccon1, CC(NC(=O)C(F)(F)F)C(=O)N1CCC...</td>\n      <td>[None, 'CS(=O)(=O)F', 'O=C(O)Cc1ccon1', None, ...</td>\n      <td>['mcule', 'enamine_bb', 'enamine_made', 'enami...</td>\n    </tr>\n    <tr>\n      <th>480</th>\n      <td>CCC(CC)CC(=O)N[C@H]1C[C@](F)(CN)C1</td>\n      <td>3</td>\n      <td>[Amidation, Ester ammonolysis, Amide to amine ...</td>\n      <td>[(COC(=O)C1(F)CC(N)C1, CCC(CC)CC(=O)O), (CCC(C...</td>\n      <td>['COC(=O)C1(F)CC(N)C1', None, 'CCC(CC)CC(=O)NC...</td>\n      <td>['enamine_made', 'enamine_bb', 'mcule', 'enami...</td>\n    </tr>\n  </tbody>\n</table>\n<p>481 rows × 6 columns</p>\n</div>"
     },
     "execution_count": 23,
     "metadata": {},
     "output_type": "execute_result"
    }
   ],
   "source": [
    "# Reversing the lists in the specified columns\n",
    "df['rxn_order_first_to_last'] = df['rxn_order_first_to_last'].apply(lambda x: ast.literal_eval(x)[::-1])\n",
    "df['reactants'] = df['reactants'].apply(lambda x: ast.literal_eval(x)[::-1])\n",
    "df"
   ],
   "metadata": {
    "collapsed": false,
    "ExecuteTime": {
     "end_time": "2023-10-13T14:55:03.461517Z",
     "start_time": "2023-10-13T14:55:03.411238Z"
    }
   },
   "id": "b3659744278fde25"
  },
  {
   "cell_type": "code",
   "execution_count": 24,
   "outputs": [],
   "source": [
    "df.to_csv('D68EV3CPROA_enumeration_oct10_first_route_3_step_REVERSE.csv')"
   ],
   "metadata": {
    "collapsed": false,
    "ExecuteTime": {
     "end_time": "2023-10-13T14:55:36.123149Z",
     "start_time": "2023-10-13T14:55:36.087280Z"
    }
   },
   "id": "7de59f0ea2e829a0"
  },
  {
   "cell_type": "markdown",
   "source": [
    "# ADDING DIR_NAME TO ROUTES DATA"
   ],
   "metadata": {
    "collapsed": false
   },
   "id": "c103639ec90b59a8"
  },
  {
   "cell_type": "code",
   "execution_count": 64,
   "outputs": [
    {
     "data": {
      "text/plain": "                                                smiles  num_steps  \\\n0               Cc1cc2c(cc1NC(=O)NCCc1nnc3ccccn13)OCO2          3   \n1                Cc1ccc(CCS(=O)(=O)NCc2nnc3ccccn23)cc1          3   \n2    OC[C@H](c1ccc2c(c1)OCO2)N(CCc1nnc2ccccn12)C[C@...          3   \n3                 O=C(CSc1nnc2ccccn12)Nc1ccc2c(c1)OCO2          3   \n4       CCc1nnc2ccc(S(=O)(=O)N(CC)c3ccc4c(c3)OCO4)cn12          3   \n..                                                 ...        ...   \n476          CC(C)(C)OC(=O)C[C@](C)(C#N)C(=O)NCc1ccsn1          3   \n477          COC(=O)NCC(=O)N1CCC[C@@H]1CNC(=O)Cc1cnsc1          3   \n478            CC(=O)Nc1ccc(-c2noc(CC[C@@H](C)N)n2)cc1          3   \n479  C[C@@H](NS(C)(=O)=O)C(=O)N1CCC[C@@H](NC(=O)Cc2...          3   \n480                 CCC(CC)CC(=O)N[C@H]1C[C@](F)(CN)C1          3   \n\n                               rxn_order_first_to_last  \\\n0    ['Formation of urea from two amines', 'Boronic...   \n1    ['Hydroboration of alkene', 'Sulfonamide Schot...   \n2    ['Nucleophilic substitution with amine', 'Epox...   \n3    ['Amidation', 'Williamson ether synthesis', 'W...   \n4    ['Formation of sulfonamide from halide - Shavn...   \n..                                                 ...   \n476  ['CO2-tBu deprotection', 'Amidation', 'Steglic...   \n477  ['Amidation', 'Amidation', 'Sp3-sp2 Suzuki cou...   \n478  ['Alpha alkylation of ketone', 'Reductive amin...   \n479  ['Amidation', 'N-TFA deprotection', 'Sulfonami...   \n480  ['Amidation', 'Ester ammonolysis', 'Amide to a...   \n\n                                             reactants  \\\n0    [('Cc1cc2c(cc1N)OCO2', 'CC1(C)OB(CCN)OC1(C)C')...   \n1    [('C=CS(=O)(=O)F',), ('NCc1nnc2ccccn12', 'CC1(...   \n2    [('O=CCI', 'NCCc1nnc2ccccn12'), ('c1cc2c(cc1C1...   \n3    [('O=C(O)CSc1nnc2ccccn12', 'Nc1ccc(O)c(O)c1'),...   \n4    [('Clc1ccc2nnc(I)n2c1', 'CCNc1ccc2c(c1)OCO2'),...   \n..                                                 ...   \n476  [('CC(C)(C)OC(=O)CC(C)(C#N)C(=O)O',), ('NCc1cc...   \n477  [('O=C(O)CB(O)O', 'NCC1CCCN1'), ('O=C(CB(O)O)N...   \n478  [('CC(C)=O', 'BrCc1nc(Br)no1'), ('N', 'CC(=O)C...   \n479  [('O=C(O)Cc1ccon1', 'CC(NC(=O)C(F)(F)F)C(=O)N1...   \n480  [('COC(=O)C1(F)CC(N)C1', 'CCC(CC)CC(=O)O'), ('...   \n\n                                        BuildingBlocks  \\\n0    [None, 'Cc1cc2c(cc1N)OCO2', None, 'Brc1nnc2ccc...   \n1    ['Cc1ccc(CCS(=O)(=O)NCc2nnc3ccccn23)cc1', None...   \n2    [None, None, 'OCC(c1ccc2c(c1)OCO2)N(CCc1nnc2cc...   \n3    ['ICI', 'O=C(O)CSc1nnc2ccccn12', None, 'O=C(CS...   \n4    ['CCNc1ccc2c(c1)OCO2', 'C=CB(O)O', None, 'Clc1...   \n..                                                 ...   \n476  ['CC(C)(C)OC(=O)CC(C)(C#N)C(=O)NCc1ccsn1', Non...   \n477  ['O=C(O)CB(O)O', None, 'COC(=O)NCC(=O)N1CCCC1C...   \n478  [None, 'CC(C)=O', None, 'N', 'CC(=O)Nc1ccc(B2O...   \n479  [None, 'CS(=O)(=O)F', 'O=C(O)Cc1ccon1', None, ...   \n480  ['COC(=O)C1(F)CC(N)C1', None, 'CCC(CC)CC(=O)NC...   \n\n                         catalogName_for_BuildingBlock  \n0    ['enamine_made', 'enamine_bb', 'molport', 'mcu...  \n1    ['enamine_real', 'generic', 'mcule', 'enamine_...  \n2    ['enamine_bb', 'generic', 'enamine_bb', 'mcule...  \n3    ['molport', 'mcule', 'molport', 'mcule', 'enam...  \n4    ['mcule', 'molport', 'mcule', 'molport', 'enam...  \n..                                                 ...  \n476  ['enamine_real', 'enamine_bb', 'mcule', 'molpo...  \n477  ['mcule', 'enamine_real', 'molport', 'enamine_...  \n478  ['generic', 'mcule', 'molport', 'mcule', 'gene...  \n479  ['mcule', 'enamine_bb', 'enamine_made', 'enami...  \n480  ['enamine_made', 'enamine_bb', 'mcule', 'enami...  \n\n[481 rows x 6 columns]",
      "text/html": "<div>\n<style scoped>\n    .dataframe tbody tr th:only-of-type {\n        vertical-align: middle;\n    }\n\n    .dataframe tbody tr th {\n        vertical-align: top;\n    }\n\n    .dataframe thead th {\n        text-align: right;\n    }\n</style>\n<table border=\"1\" class=\"dataframe\">\n  <thead>\n    <tr style=\"text-align: right;\">\n      <th></th>\n      <th>smiles</th>\n      <th>num_steps</th>\n      <th>rxn_order_first_to_last</th>\n      <th>reactants</th>\n      <th>BuildingBlocks</th>\n      <th>catalogName_for_BuildingBlock</th>\n    </tr>\n  </thead>\n  <tbody>\n    <tr>\n      <th>0</th>\n      <td>Cc1cc2c(cc1NC(=O)NCCc1nnc3ccccn13)OCO2</td>\n      <td>3</td>\n      <td>['Formation of urea from two amines', 'Boronic...</td>\n      <td>[('Cc1cc2c(cc1N)OCO2', 'CC1(C)OB(CCN)OC1(C)C')...</td>\n      <td>[None, 'Cc1cc2c(cc1N)OCO2', None, 'Brc1nnc2ccc...</td>\n      <td>['enamine_made', 'enamine_bb', 'molport', 'mcu...</td>\n    </tr>\n    <tr>\n      <th>1</th>\n      <td>Cc1ccc(CCS(=O)(=O)NCc2nnc3ccccn23)cc1</td>\n      <td>3</td>\n      <td>['Hydroboration of alkene', 'Sulfonamide Schot...</td>\n      <td>[('C=CS(=O)(=O)F',), ('NCc1nnc2ccccn12', 'CC1(...</td>\n      <td>['Cc1ccc(CCS(=O)(=O)NCc2nnc3ccccn23)cc1', None...</td>\n      <td>['enamine_real', 'generic', 'mcule', 'enamine_...</td>\n    </tr>\n    <tr>\n      <th>2</th>\n      <td>OC[C@H](c1ccc2c(c1)OCO2)N(CCc1nnc2ccccn12)C[C@...</td>\n      <td>3</td>\n      <td>['Nucleophilic substitution with amine', 'Epox...</td>\n      <td>[('O=CCI', 'NCCc1nnc2ccccn12'), ('c1cc2c(cc1C1...</td>\n      <td>[None, None, 'OCC(c1ccc2c(c1)OCO2)N(CCc1nnc2cc...</td>\n      <td>['enamine_bb', 'generic', 'enamine_bb', 'mcule...</td>\n    </tr>\n    <tr>\n      <th>3</th>\n      <td>O=C(CSc1nnc2ccccn12)Nc1ccc2c(c1)OCO2</td>\n      <td>3</td>\n      <td>['Amidation', 'Williamson ether synthesis', 'W...</td>\n      <td>[('O=C(O)CSc1nnc2ccccn12', 'Nc1ccc(O)c(O)c1'),...</td>\n      <td>['ICI', 'O=C(O)CSc1nnc2ccccn12', None, 'O=C(CS...</td>\n      <td>['molport', 'mcule', 'molport', 'mcule', 'enam...</td>\n    </tr>\n    <tr>\n      <th>4</th>\n      <td>CCc1nnc2ccc(S(=O)(=O)N(CC)c3ccc4c(c3)OCO4)cn12</td>\n      <td>3</td>\n      <td>['Formation of sulfonamide from halide - Shavn...</td>\n      <td>[('Clc1ccc2nnc(I)n2c1', 'CCNc1ccc2c(c1)OCO2'),...</td>\n      <td>['CCNc1ccc2c(c1)OCO2', 'C=CB(O)O', None, 'Clc1...</td>\n      <td>['mcule', 'molport', 'mcule', 'molport', 'enam...</td>\n    </tr>\n    <tr>\n      <th>...</th>\n      <td>...</td>\n      <td>...</td>\n      <td>...</td>\n      <td>...</td>\n      <td>...</td>\n      <td>...</td>\n    </tr>\n    <tr>\n      <th>476</th>\n      <td>CC(C)(C)OC(=O)C[C@](C)(C#N)C(=O)NCc1ccsn1</td>\n      <td>3</td>\n      <td>['CO2-tBu deprotection', 'Amidation', 'Steglic...</td>\n      <td>[('CC(C)(C)OC(=O)CC(C)(C#N)C(=O)O',), ('NCc1cc...</td>\n      <td>['CC(C)(C)OC(=O)CC(C)(C#N)C(=O)NCc1ccsn1', Non...</td>\n      <td>['enamine_real', 'enamine_bb', 'mcule', 'molpo...</td>\n    </tr>\n    <tr>\n      <th>477</th>\n      <td>COC(=O)NCC(=O)N1CCC[C@@H]1CNC(=O)Cc1cnsc1</td>\n      <td>3</td>\n      <td>['Amidation', 'Amidation', 'Sp3-sp2 Suzuki cou...</td>\n      <td>[('O=C(O)CB(O)O', 'NCC1CCCN1'), ('O=C(CB(O)O)N...</td>\n      <td>['O=C(O)CB(O)O', None, 'COC(=O)NCC(=O)N1CCCC1C...</td>\n      <td>['mcule', 'enamine_real', 'molport', 'enamine_...</td>\n    </tr>\n    <tr>\n      <th>478</th>\n      <td>CC(=O)Nc1ccc(-c2noc(CC[C@@H](C)N)n2)cc1</td>\n      <td>3</td>\n      <td>['Alpha alkylation of ketone', 'Reductive amin...</td>\n      <td>[('CC(C)=O', 'BrCc1nc(Br)no1'), ('N', 'CC(=O)C...</td>\n      <td>[None, 'CC(C)=O', None, 'N', 'CC(=O)Nc1ccc(B2O...</td>\n      <td>['generic', 'mcule', 'molport', 'mcule', 'gene...</td>\n    </tr>\n    <tr>\n      <th>479</th>\n      <td>C[C@@H](NS(C)(=O)=O)C(=O)N1CCC[C@@H](NC(=O)Cc2...</td>\n      <td>3</td>\n      <td>['Amidation', 'N-TFA deprotection', 'Sulfonami...</td>\n      <td>[('O=C(O)Cc1ccon1', 'CC(NC(=O)C(F)(F)F)C(=O)N1...</td>\n      <td>[None, 'CS(=O)(=O)F', 'O=C(O)Cc1ccon1', None, ...</td>\n      <td>['mcule', 'enamine_bb', 'enamine_made', 'enami...</td>\n    </tr>\n    <tr>\n      <th>480</th>\n      <td>CCC(CC)CC(=O)N[C@H]1C[C@](F)(CN)C1</td>\n      <td>3</td>\n      <td>['Amidation', 'Ester ammonolysis', 'Amide to a...</td>\n      <td>[('COC(=O)C1(F)CC(N)C1', 'CCC(CC)CC(=O)O'), ('...</td>\n      <td>['COC(=O)C1(F)CC(N)C1', None, 'CCC(CC)CC(=O)NC...</td>\n      <td>['enamine_made', 'enamine_bb', 'mcule', 'enami...</td>\n    </tr>\n  </tbody>\n</table>\n<p>481 rows × 6 columns</p>\n</div>"
     },
     "execution_count": 64,
     "metadata": {},
     "output_type": "execute_result"
    }
   ],
   "source": [
    "df = pd.read_csv('/Users/kate_fieseler/PycharmProjects/retrievesynthesizable/D68EV3CPROA/routes_data/D68EV3CPROA_enumeration_oct10_first_route_3_step_FORWARD.csv', index_col=0)\n",
    "df"
   ],
   "metadata": {
    "collapsed": false,
    "ExecuteTime": {
     "end_time": "2023-10-13T16:06:24.782656Z",
     "start_time": "2023-10-13T16:06:24.738201Z"
    }
   },
   "id": "87057636f4a3698f"
  },
  {
   "cell_type": "code",
   "execution_count": 65,
   "outputs": [
    {
     "data": {
      "text/plain": "                                                smiles  \\\n0               Cc1cc2c(cc1NC(=O)NCCc1nnc3ccccn13)OCO2   \n1                Cc1ccc(CCS(=O)(=O)NCc2nnc3ccccn23)cc1   \n2    OC[C@H](c1ccc2c(c1)OCO2)N(CCc1nnc2ccccn12)C[C@...   \n3                 O=C(CSc1nnc2ccccn12)Nc1ccc2c(c1)OCO2   \n4       CCc1nnc2ccc(S(=O)(=O)N(CC)c3ccc4c(c3)OCO4)cn12   \n..                                                 ...   \n717          CC(C)(C)OC(=O)C[C@](C)(C#N)C(=O)NCc1ccsn1   \n718          COC(=O)NCC(=O)N1CCC[C@@H]1CNC(=O)Cc1cnsc1   \n719            CC(=O)Nc1ccc(-c2noc(CC[C@@H](C)N)n2)cc1   \n720  C[C@@H](NS(C)(=O)=O)C(=O)N1CCC[C@@H](NC(=O)Cc2...   \n721                 CCC(CC)CC(=O)N[C@H]1C[C@](F)(CN)C1   \n\n                     cmpd_id fragmentA fragmentB     sucos  int_count  \n0        ENAMINE:Z1637917899  x1140_0A  x1594_0A  0.794439          7  \n1        ENAMINE:Z2000385219  x1140_0A  x1594_0A  0.786779          5  \n2        MOLPORT:009-117-950  x1140_0A  x1594_0A  0.772694          4  \n3        MOLPORT:000-224-370  x1140_0A  x1594_0A  0.763337          5  \n4        MOLPORT:010-916-291  x1594_0A  x1140_0A  0.741537          5  \n..                       ...       ...       ...       ...        ...  \n717      ENAMINE:Z3599345514  x1498_0A  x2021_0A  0.553933          4  \n718  ENAMINE:PV-002770714191  x1071_0A  x1498_0A  0.553787          2  \n719      ENAMINE:Z2412805267  x1020_0A  x0130_0A  0.552527          2  \n720  ENAMINE:PV-001765474005  x1071_0A  x2099_0A  0.551061          1  \n721      ENAMINE:Z3699946641  x1020_0A  x0130_0A  0.550490          2  \n\n[722 rows x 6 columns]",
      "text/html": "<div>\n<style scoped>\n    .dataframe tbody tr th:only-of-type {\n        vertical-align: middle;\n    }\n\n    .dataframe tbody tr th {\n        vertical-align: top;\n    }\n\n    .dataframe thead th {\n        text-align: right;\n    }\n</style>\n<table border=\"1\" class=\"dataframe\">\n  <thead>\n    <tr style=\"text-align: right;\">\n      <th></th>\n      <th>smiles</th>\n      <th>cmpd_id</th>\n      <th>fragmentA</th>\n      <th>fragmentB</th>\n      <th>sucos</th>\n      <th>int_count</th>\n    </tr>\n  </thead>\n  <tbody>\n    <tr>\n      <th>0</th>\n      <td>Cc1cc2c(cc1NC(=O)NCCc1nnc3ccccn13)OCO2</td>\n      <td>ENAMINE:Z1637917899</td>\n      <td>x1140_0A</td>\n      <td>x1594_0A</td>\n      <td>0.794439</td>\n      <td>7</td>\n    </tr>\n    <tr>\n      <th>1</th>\n      <td>Cc1ccc(CCS(=O)(=O)NCc2nnc3ccccn23)cc1</td>\n      <td>ENAMINE:Z2000385219</td>\n      <td>x1140_0A</td>\n      <td>x1594_0A</td>\n      <td>0.786779</td>\n      <td>5</td>\n    </tr>\n    <tr>\n      <th>2</th>\n      <td>OC[C@H](c1ccc2c(c1)OCO2)N(CCc1nnc2ccccn12)C[C@...</td>\n      <td>MOLPORT:009-117-950</td>\n      <td>x1140_0A</td>\n      <td>x1594_0A</td>\n      <td>0.772694</td>\n      <td>4</td>\n    </tr>\n    <tr>\n      <th>3</th>\n      <td>O=C(CSc1nnc2ccccn12)Nc1ccc2c(c1)OCO2</td>\n      <td>MOLPORT:000-224-370</td>\n      <td>x1140_0A</td>\n      <td>x1594_0A</td>\n      <td>0.763337</td>\n      <td>5</td>\n    </tr>\n    <tr>\n      <th>4</th>\n      <td>CCc1nnc2ccc(S(=O)(=O)N(CC)c3ccc4c(c3)OCO4)cn12</td>\n      <td>MOLPORT:010-916-291</td>\n      <td>x1594_0A</td>\n      <td>x1140_0A</td>\n      <td>0.741537</td>\n      <td>5</td>\n    </tr>\n    <tr>\n      <th>...</th>\n      <td>...</td>\n      <td>...</td>\n      <td>...</td>\n      <td>...</td>\n      <td>...</td>\n      <td>...</td>\n    </tr>\n    <tr>\n      <th>717</th>\n      <td>CC(C)(C)OC(=O)C[C@](C)(C#N)C(=O)NCc1ccsn1</td>\n      <td>ENAMINE:Z3599345514</td>\n      <td>x1498_0A</td>\n      <td>x2021_0A</td>\n      <td>0.553933</td>\n      <td>4</td>\n    </tr>\n    <tr>\n      <th>718</th>\n      <td>COC(=O)NCC(=O)N1CCC[C@@H]1CNC(=O)Cc1cnsc1</td>\n      <td>ENAMINE:PV-002770714191</td>\n      <td>x1071_0A</td>\n      <td>x1498_0A</td>\n      <td>0.553787</td>\n      <td>2</td>\n    </tr>\n    <tr>\n      <th>719</th>\n      <td>CC(=O)Nc1ccc(-c2noc(CC[C@@H](C)N)n2)cc1</td>\n      <td>ENAMINE:Z2412805267</td>\n      <td>x1020_0A</td>\n      <td>x0130_0A</td>\n      <td>0.552527</td>\n      <td>2</td>\n    </tr>\n    <tr>\n      <th>720</th>\n      <td>C[C@@H](NS(C)(=O)=O)C(=O)N1CCC[C@@H](NC(=O)Cc2...</td>\n      <td>ENAMINE:PV-001765474005</td>\n      <td>x1071_0A</td>\n      <td>x2099_0A</td>\n      <td>0.551061</td>\n      <td>1</td>\n    </tr>\n    <tr>\n      <th>721</th>\n      <td>CCC(CC)CC(=O)N[C@H]1C[C@](F)(CN)C1</td>\n      <td>ENAMINE:Z3699946641</td>\n      <td>x1020_0A</td>\n      <td>x0130_0A</td>\n      <td>0.550490</td>\n      <td>2</td>\n    </tr>\n  </tbody>\n</table>\n<p>722 rows × 6 columns</p>\n</div>"
     },
     "execution_count": 65,
     "metadata": {},
     "output_type": "execute_result"
    }
   ],
   "source": [
    "name_df = pd.read_csv('/Users/kate_fieseler/PycharmProjects/retrievesynthesizable/D68EV3CPROA/base_data/D68EV3CPROA_enumeration_oct10.csv', index_col=0)\n",
    "name_df"
   ],
   "metadata": {
    "collapsed": false,
    "ExecuteTime": {
     "end_time": "2023-10-13T16:06:25.291463Z",
     "start_time": "2023-10-13T16:06:25.258002Z"
    }
   },
   "id": "f93018c7a6f1ac13"
  },
  {
   "cell_type": "code",
   "execution_count": 66,
   "outputs": [],
   "source": [
    "def add_dir_name(row, name_df):\n",
    "    to_add = []\n",
    "    x = name_df.loc[name_df['smiles'] == row['smiles'], ['cmpd_id', 'fragmentA', 'fragmentB']].values.tolist()\n",
    "    for i in x:\n",
    "        dir_name = i[0] + '_' + i[1] + '_' + i[2]\n",
    "        to_add += [dir_name]\n",
    "    row['dir_name'] = to_add\n",
    "    return row"
   ],
   "metadata": {
    "collapsed": false,
    "ExecuteTime": {
     "end_time": "2023-10-13T16:06:26.088780Z",
     "start_time": "2023-10-13T16:06:26.060768Z"
    }
   },
   "id": "5dcd4e80f983b8b"
  },
  {
   "cell_type": "code",
   "execution_count": 67,
   "outputs": [],
   "source": [
    "df = df.apply(lambda x: add_dir_name(x, name_df), axis=1)"
   ],
   "metadata": {
    "collapsed": false,
    "ExecuteTime": {
     "end_time": "2023-10-13T16:06:26.895662Z",
     "start_time": "2023-10-13T16:06:26.680630Z"
    }
   },
   "id": "fae89133826f38bb"
  },
  {
   "cell_type": "code",
   "execution_count": 68,
   "outputs": [],
   "source": [
    "df.to_csv('/Users/kate_fieseler/PycharmProjects/retrievesynthesizable/D68EV3CPROA/routes_data/D68EV3CPROA_enumeration_oct10_first_route_3_step_FORWARD.csv')"
   ],
   "metadata": {
    "collapsed": false,
    "ExecuteTime": {
     "end_time": "2023-10-13T16:06:27.123198Z",
     "start_time": "2023-10-13T16:06:27.093427Z"
    }
   },
   "id": "975ab03187f020a7"
  }
 ],
 "metadata": {
  "kernelspec": {
   "display_name": "Python 3",
   "language": "python",
   "name": "python3"
  },
  "language_info": {
   "codemirror_mode": {
    "name": "ipython",
    "version": 2
   },
   "file_extension": ".py",
   "mimetype": "text/x-python",
   "name": "python",
   "nbconvert_exporter": "python",
   "pygments_lexer": "ipython2",
   "version": "2.7.6"
  }
 },
 "nbformat": 4,
 "nbformat_minor": 5
}
